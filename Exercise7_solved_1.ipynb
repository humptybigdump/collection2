{
 "cells": [
  {
   "cell_type": "code",
   "execution_count": null,
   "metadata": {
    "ExecuteTime": {
     "end_time": "2021-12-16T14:57:08.836000+01:00",
     "start_time": "2021-12-16T13:57:06.845Z"
    }
   },
   "outputs": [],
   "source": [
    "include(\"optimization_library.jl\");"
   ]
  },
  {
   "cell_type": "markdown",
   "metadata": {},
   "source": [
    "# Exercise 7.1: Constraint Elimination"
   ]
  },
  {
   "cell_type": "code",
   "execution_count": null,
   "metadata": {
    "ExecuteTime": {
     "end_time": "2021-12-16T14:57:10.755000+01:00",
     "start_time": "2021-12-16T13:57:06.848Z"
    }
   },
   "outputs": [],
   "source": [
    "# Solving a problem with equality constraints Ax = b using constraint elimination and interior point method\n",
    "\n",
    "# f: Objective function\n",
    "# df: Gradient vector of the objective function\n",
    "# Hf: Hessian matrix of the objective function\n",
    "# g: Array of inequality constraints g_i(x) < 0\n",
    "# dg: Array with the gradient of the inequality constraints\n",
    "# Hg: Array with the Hessian of the inequality constraints\n",
    "# A: matrix for equality constraints Ax = b\n",
    "# b: vector for equality constraints Ax = b\n",
    "# barrier_increase: Factor by how much to increase the barrier in every outer iteration\n",
    "# maxiters: maximum number of outer iterations\n",
    "# inner_maxiters: maximum number of inner iterations (within descent method)\n",
    "# eps: Stopping criterion\n",
    "\n",
    "function ConstraintElimination_ipm(f,df,Hf,A,b;g=[],dg=[],Hg=[],eps = 0.0001, barrier_increase = 2.0,\n",
    "                                    maxiters = 100, inner_maxiters = 100)\n",
    "\n",
    "    nx = size(A,2) # dimensions of the original problem\n",
    "    nz = nx - LA.rank(A) # dimensions of the unconstrained problem\n",
    "    \n",
    "    # vectors for transformed positivity constraints --> entry gg[i] is a function depending on z (variable of the\n",
    "    # problem where equality constraints are removed)\n",
    "    \n",
    "    ng = size(g,1)\n",
    "    gg = Vector(undef, ng)\n",
    "    dgg = Vector(undef, ng)\n",
    "    Hgg = Vector(undef, ng)\n",
    "    \n",
    "    # trace of interior point method\n",
    "    trace = 1\n",
    "    \n",
    "# ===============================================================================\n",
    "    \n",
    "    # 1. Find an initial admissible solution for, the equality constraints\n",
    "    x0 = A \\ b\n",
    "    \n",
    "    # 2. Construct the matrix F (see lecture 4 for the notation)\n",
    "    F = LA.nullspace(A)\n",
    "    \n",
    "    # 3. Construct new objective functions, its gradient and Hessian \n",
    "    # Concerning the gradient and Hessian: Beware that you derive for z and have to respect the chain rule!\n",
    "    obj(z) = f(F * z .+ x0)\n",
    "    dobj(z) = F' * df(F * z .+ x0)\n",
    "    Hobj(z) = F' * Hf(F * z .+ x0) * F\n",
    "    \n",
    "    # 4. Transform the inequality constraints, their gradients and Hessians to be functions of Fz + x0\n",
    "    for i in 1:ng\n",
    "        gg[i] = z -> g[i](F * z + x0)\n",
    "        dgg[i] = z -> F' * dg[i](F * z + x0)\n",
    "        Hgg[i] = z -> F' * Hg[i](F * z + x0) * F\n",
    "    end\n",
    "\n",
    "    # 5. Randomly initialize z and find an admissible interior point for the transformed problem\n",
    "    z0 = rand(nz)\n",
    "    z_adm = ipm_admissible(z0; g=gg, dg=dgg, maxiters = 1000, eps=eps, inner_maxiters = 100,\n",
    "                               barrier_increase = barrier_increase)\n",
    "    \n",
    "    # 6. use the admissible interior point to solve the transformed problem\n",
    "    zstar, trace = ipm(obj, dobj, Hobj, z_adm, g = gg, dg = dgg, Hg = Hgg, barrier_increase = barrier_increase)\n",
    "    \n",
    "    # 7. reconstruct the solution of the original problem\n",
    "    xstar = F * zstar + x0\n",
    "    \n",
    "# ===============================================================================\n",
    "    return xstar, trace\n",
    "    \n",
    "end"
   ]
  },
  {
   "cell_type": "markdown",
   "metadata": {},
   "source": [
    "# Exercise 7.2: Santa's Optimal Transport Problem\n",
    "\n",
    "<img src=\"figures/santa-claus.png\" width=\"300\">"
   ]
  },
  {
   "cell_type": "code",
   "execution_count": null,
   "metadata": {
    "ExecuteTime": {
     "end_time": "2021-12-16T14:57:10.758000+01:00",
     "start_time": "2021-12-16T13:57:06.851Z"
    }
   },
   "outputs": [],
   "source": [
    "# children\n",
    "child_nz = 0.8\n",
    "child_eu = 78\n",
    "child_usa = 60\n",
    "child_bz = 40;"
   ]
  },
  {
   "cell_type": "code",
   "execution_count": null,
   "metadata": {
    "ExecuteTime": {
     "end_time": "2021-12-16T14:57:11.471000+01:00",
     "start_time": "2021-12-16T13:57:06.854Z"
    }
   },
   "outputs": [],
   "source": [
    "child_total = child_bz + child_eu + child_nz + child_usa"
   ]
  },
  {
   "cell_type": "code",
   "execution_count": null,
   "metadata": {
    "ExecuteTime": {
     "end_time": "2021-12-16T14:57:11.484000+01:00",
     "start_time": "2021-12-16T13:57:06.858Z"
    }
   },
   "outputs": [],
   "source": [
    "p_an = 0.5*child_total\n",
    "p_gr = 0.3*child_total\n",
    "p_al = 0.2*child_total"
   ]
  },
  {
   "cell_type": "code",
   "execution_count": null,
   "metadata": {
    "ExecuteTime": {
     "end_time": "2021-12-16T14:57:11.682000+01:00",
     "start_time": "2021-12-16T13:57:06.862Z"
    }
   },
   "outputs": [],
   "source": [
    "A = [1 0 0 0 1 0 0 0 1 0 0 0;\n",
    "     0 1 0 0 0 1 0 0 0 1 0 0;\n",
    "     0 0 1 0 0 0 1 0 0 0 1 0;\n",
    "     0 0 0 1 0 0 0 1 0 0 0 1;\n",
    "     1 1 1 1 0 0 0 0 0 0 0 0;\n",
    "     0 0 0 0 1 1 1 1 0 0 0 0;\n",
    "     0 0 0 0 0 0 0 0 1 1 1 1];"
   ]
  },
  {
   "cell_type": "code",
   "execution_count": null,
   "metadata": {
    "ExecuteTime": {
     "end_time": "2021-12-16T14:57:14.231000+01:00",
     "start_time": "2021-12-16T13:57:06.865Z"
    }
   },
   "outputs": [],
   "source": [
    "b = [child_eu; child_usa; child_bz; child_nz; p_al; p_an; p_gr]"
   ]
  },
  {
   "cell_type": "code",
   "execution_count": null,
   "metadata": {
    "ExecuteTime": {
     "end_time": "2021-12-16T14:57:14.440000+01:00",
     "start_time": "2021-12-16T13:57:06.868Z"
    }
   },
   "outputs": [],
   "source": [
    "# Antarktika\n",
    "## New Zealand: 4.868 km\n",
    "## USA: 14.601 km\n",
    "## Europe: 16.396 km\n",
    "## Brazil: 8.344 kilometers\n",
    "\n",
    "# Alaska\n",
    "## New Zealand: 12.089 km\n",
    "## USA: 5380 KM \n",
    "## Europe: 6.744 km\n",
    "## Brazil: 11.788 km\n",
    "\n",
    "\n",
    "# Greenland \n",
    "## New Zealand: 16.012 km\n",
    "## USA: 4.857 km\n",
    "## Europe: 3.281 km\n",
    "## Brazil: 9 560 kilometers\n",
    "\n",
    "# costs, i.e. distances\n",
    "xi = vec([6744 16396 3281;\n",
    "          5380 14601 4857;\n",
    "          11788 8344 9560;\n",
    "          12089 4868 16012\n",
    "        ]);"
   ]
  },
  {
   "cell_type": "code",
   "execution_count": null,
   "metadata": {
    "ExecuteTime": {
     "end_time": "2021-12-16T14:57:14.526000+01:00",
     "start_time": "2021-12-16T13:57:06.871Z"
    }
   },
   "outputs": [],
   "source": [
    "nx = size(A,2)\n",
    "\n",
    "f(x) = xi' * x\n",
    "df(x) = xi\n",
    "Hf(x) = zeros(nx,nx)\n",
    "\n",
    "g = Vector(undef, nx)\n",
    "dg = Vector(undef, nx)\n",
    "Hg = Vector(undef, nx)\n",
    "    \n",
    "for i in 1:nx # allow only positive quantities\n",
    "    g[i] = x -> -x[i]\n",
    "    dg[i] = x -> begin d = zeros(nx); d[i] = -1; return d end\n",
    "    Hg[i] = x -> zeros(nx, nx)\n",
    "end"
   ]
  },
  {
   "cell_type": "code",
   "execution_count": null,
   "metadata": {
    "ExecuteTime": {
     "end_time": "2021-12-16T14:57:31.943000+01:00",
     "start_time": "2021-12-16T13:57:06.874Z"
    }
   },
   "outputs": [],
   "source": [
    "x_best, trace = ConstraintElimination_ipm(f,df,Hf,A,b,g=g,dg = dg, Hg = Hg, eps = 0.0001, barrier_increase = 10.0)\n",
    "round.(reshape(x_best, (4,3)),digits = 4)"
   ]
  },
  {
   "cell_type": "code",
   "execution_count": null,
   "metadata": {},
   "outputs": [],
   "source": []
  }
 ],
 "metadata": {
  "kernelspec": {
   "display_name": "Julia 1.6.3",
   "language": "julia",
   "name": "julia-1.6"
  },
  "language_info": {
   "file_extension": ".jl",
   "mimetype": "application/julia",
   "name": "julia",
   "version": "1.6.3"
  },
  "toc": {
   "base_numbering": 1,
   "nav_menu": {},
   "number_sections": true,
   "sideBar": true,
   "skip_h1_title": false,
   "title_cell": "Table of Contents",
   "title_sidebar": "Contents",
   "toc_cell": false,
   "toc_position": {},
   "toc_section_display": true,
   "toc_window_display": false
  },
  "varInspector": {
   "cols": {
    "lenName": 16,
    "lenType": 16,
    "lenVar": 40
   },
   "kernels_config": {
    "python": {
     "delete_cmd_postfix": "",
     "delete_cmd_prefix": "del ",
     "library": "var_list.py",
     "varRefreshCmd": "print(var_dic_list())"
    },
    "r": {
     "delete_cmd_postfix": ") ",
     "delete_cmd_prefix": "rm(",
     "library": "var_list.r",
     "varRefreshCmd": "cat(var_dic_list()) "
    }
   },
   "types_to_exclude": [
    "module",
    "function",
    "builtin_function_or_method",
    "instance",
    "_Feature"
   ],
   "window_display": false
  }
 },
 "nbformat": 4,
 "nbformat_minor": 4
}
