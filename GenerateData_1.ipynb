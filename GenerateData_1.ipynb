{
 "cells": [
  {
   "cell_type": "markdown",
   "metadata": {},
   "source": [
    "# Federpendel"
   ]
  },
  {
   "cell_type": "markdown",
   "metadata": {},
   "source": [
    "<img src=\"figures/Federpendel2.png\" width=\"200\">\n",
    "\n",
    "The movement of a spring pendulum with a mass $m$ and a spring constant $k$ (stating how much force has to be applied to the spring to distort it a given distance from its equilibrium) can be described by the the following equation:\n",
    "\n",
    "\\begin{equation}\n",
    "x(t)=x_0\\,e^{-\\delta t}\\cos(\\omega_d\\, t+ \\varphi_0)\n",
    "\\end{equation}"
   ]
  },
  {
   "cell_type": "markdown",
   "metadata": {},
   "source": [
    "## Helpers/Functions"
   ]
  },
  {
   "cell_type": "code",
   "execution_count": 1,
   "metadata": {
    "ExecuteTime": {
     "end_time": "2020-11-23T09:13:44.477776Z",
     "start_time": "2020-11-23T09:13:44.456912Z"
    }
   },
   "outputs": [
    {
     "ename": "ModuleNotFoundError",
     "evalue": "No module named 'scipy'",
     "output_type": "error",
     "traceback": [
      "\u001b[1;31m---------------------------------------------------------------------------\u001b[0m",
      "\u001b[1;31mModuleNotFoundError\u001b[0m                       Traceback (most recent call last)",
      "Cell \u001b[1;32mIn[1], line 5\u001b[0m\n\u001b[0;32m      3\u001b[0m \u001b[38;5;28;01mimport\u001b[39;00m \u001b[38;5;21;01mmath\u001b[39;00m\n\u001b[0;32m      4\u001b[0m \u001b[38;5;28;01mimport\u001b[39;00m \u001b[38;5;21;01mrandom\u001b[39;00m\n\u001b[1;32m----> 5\u001b[0m \u001b[38;5;28;01mfrom\u001b[39;00m \u001b[38;5;21;01mscipy\u001b[39;00m\u001b[38;5;21;01m.\u001b[39;00m\u001b[38;5;21;01moptimize\u001b[39;00m \u001b[38;5;28;01mimport\u001b[39;00m least_squares\n\u001b[0;32m      6\u001b[0m \u001b[38;5;28;01mfrom\u001b[39;00m \u001b[38;5;21;01mscipy\u001b[39;00m\u001b[38;5;21;01m.\u001b[39;00m\u001b[38;5;21;01moptimize\u001b[39;00m \u001b[38;5;28;01mimport\u001b[39;00m minimize\n",
      "\u001b[1;31mModuleNotFoundError\u001b[0m: No module named 'scipy'"
     ]
    }
   ],
   "source": [
    "import numpy as np\n",
    "import matplotlib.pyplot as plt\n",
    "import math\n",
    "import random\n",
    "from scipy.optimize import least_squares\n",
    "from scipy.optimize import minimize"
   ]
  },
  {
   "cell_type": "code",
   "execution_count": null,
   "metadata": {
    "ExecuteTime": {
     "end_time": "2020-11-23T09:13:44.699290Z",
     "start_time": "2020-11-23T09:13:44.684190Z"
    }
   },
   "outputs": [],
   "source": [
    "def FormatAxis(ax,fontsize,rotation = 0):\n",
    "    \"\"\"Helper function to format plotting axes in matplotlib\"\"\"\n",
    "    for tick in ax.xaxis.get_major_ticks():\n",
    "        tick.label.set_fontsize(fontsize)\n",
    "        tick.label.set_rotation(rotation)\n",
    "    for tick in ax.yaxis.get_major_ticks():\n",
    "        tick.label.set_fontsize(fontsize) \n",
    "        \n",
    "fontsize = 20"
   ]
  },
  {
   "cell_type": "code",
   "execution_count": null,
   "metadata": {
    "ExecuteTime": {
     "end_time": "2020-11-23T09:13:45.006886Z",
     "start_time": "2020-11-23T09:13:44.968117Z"
    }
   },
   "outputs": [],
   "source": [
    "# implemented solution of differential equation x(t)\n",
    "# para[0]: Amplitude\n",
    "# para[1]: Abklingkonstante\n",
    "# para[2]: Gedämpfte Kreisfrequenz\n",
    "# para[3]: Phasenverschiebung phi_0\n",
    "\n",
    "para_true = [2,0.7,1,3.14159]\n",
    "\n",
    "def model(t,para):\n",
    "    #return para[0] * np.exp(-para[1] * t) * np.cos(para[2] * t + para[3])\n",
    "    return para[0] * np.exp(-para[1] * t) * np.sin(para[2] * t + para[3])\n",
    "\n",
    "def D_model(t,para):\n",
    "    # first derivative of model function\n",
    "    return -para[1] * model(t,para) - para[0]*np.exp(-para[1] * t) * np.sin(para[2] * t + para[3]) * para[2]"
   ]
  },
  {
   "cell_type": "code",
   "execution_count": 2,
   "metadata": {
    "ExecuteTime": {
     "end_time": "2020-11-23T09:13:45.144031Z",
     "start_time": "2020-11-23T09:13:45.123003Z"
    }
   },
   "outputs": [],
   "source": [
    "import random"
   ]
  },
  {
   "cell_type": "code",
   "execution_count": 17,
   "metadata": {
    "ExecuteTime": {
     "end_time": "2020-11-23T09:13:45.595866Z",
     "start_time": "2020-11-23T09:13:45.568423Z"
    }
   },
   "outputs": [],
   "source": [
    "n_max = 10\n",
    "n_test = 20\n",
    "\n",
    "min_x = 0\n",
    "max_x = 4\n",
    "\n",
    "sigma = 0.06\n",
    "\n",
    "random_numbers = np.zeros(n_max)\n",
    "for i in range(0,n_max):\n",
    "    value = random.random()\n",
    "    random_numbers[i] = min_x + (value * (max_x - min_x))"
   ]
  },
  {
   "cell_type": "code",
   "execution_count": 18,
   "metadata": {
    "ExecuteTime": {
     "end_time": "2020-11-23T09:13:46.177786Z",
     "start_time": "2020-11-23T09:13:46.150763Z"
    }
   },
   "outputs": [],
   "source": [
    "#random_numbers = np.linspace(min_x,max_x,n_max)\n",
    "test = [model(t,para_true)+random.gauss(0,sigma) for t in random_numbers]"
   ]
  },
  {
   "cell_type": "code",
   "execution_count": 19,
   "metadata": {
    "ExecuteTime": {
     "end_time": "2020-11-23T09:13:46.679176Z",
     "start_time": "2020-11-23T09:13:46.658626Z"
    }
   },
   "outputs": [],
   "source": [
    "a = np.array([random_numbers,test])\n",
    "np.savetxt(\"test_data.csv\", a, delimiter=',',comments=\"\")"
   ]
  },
  {
   "cell_type": "code",
   "execution_count": 20,
   "metadata": {
    "ExecuteTime": {
     "end_time": "2020-11-23T09:13:47.162467Z",
     "start_time": "2020-11-23T09:13:47.142728Z"
    }
   },
   "outputs": [],
   "source": [
    "random_numbers = np.zeros(n_test)\n",
    "for i in range(0,n_test):\n",
    "    value = random.random()\n",
    "    random_numbers[i] = min_x + (value * (max_x - min_x))"
   ]
  },
  {
   "cell_type": "code",
   "execution_count": 21,
   "metadata": {
    "ExecuteTime": {
     "end_time": "2020-11-23T09:13:47.763330Z",
     "start_time": "2020-11-23T09:13:47.739801Z"
    }
   },
   "outputs": [],
   "source": [
    "#random_numbers = np.linspace(min_x,max_x,n_test)\n",
    "test = [model(t,para_true)+random.gauss(0,sigma) for t in random_numbers]"
   ]
  },
  {
   "cell_type": "code",
   "execution_count": 22,
   "metadata": {
    "ExecuteTime": {
     "end_time": "2020-11-23T09:13:48.347185Z",
     "start_time": "2020-11-23T09:13:48.322825Z"
    }
   },
   "outputs": [],
   "source": [
    "a = np.array([random_numbers,test])\n",
    "np.savetxt(\"train_data.csv\", a, delimiter=',',comments=\"\")"
   ]
  },
  {
   "cell_type": "markdown",
   "metadata": {},
   "source": [
    "# Generate Data"
   ]
  },
  {
   "cell_type": "code",
   "execution_count": 213,
   "metadata": {
    "ExecuteTime": {
     "end_time": "2020-11-20T15:39:16.640017Z",
     "start_time": "2020-11-20T15:39:16.621020Z"
    }
   },
   "outputs": [],
   "source": [
    "# define number of data points\n",
    "\n",
    "times = np.linspace(min_x,max_x,n_max)\n",
    "\n",
    "times_model = np.linspace(min_x,max_x,1000)\n",
    "x_exact = [model(t,para_true) for t in times_model]\n",
    "x_random = [model(t,para_true)+random.gauss(0,sigma) for t in times]"
   ]
  },
  {
   "cell_type": "code",
   "execution_count": 215,
   "metadata": {
    "ExecuteTime": {
     "end_time": "2020-11-20T15:39:17.587305Z",
     "start_time": "2020-11-20T15:39:17.446267Z"
    }
   },
   "outputs": [
    {
     "data": {
      "image/png": "[encoded data removed]",
      "text/plain": [
       "<Figure size 720x432 with 1 Axes>"
      ]
     },
     "metadata": {
      "needs_background": "light"
     },
     "output_type": "display_data"
    }
   ],
   "source": [
    "fig = plt.figure(figsize= (10,6))\n",
    "plt.plot(times_model,x_exact, color = \"orange\")\n",
    "plt.scatter(times,x_random)\n",
    "plt.scatter(random_numbers,test)\n",
    "plt.xlabel(\"t\",fontsize = fontsize)\n",
    "plt.ylabel(\"x\", fontsize = fontsize)\n",
    "ax = plt.gca()\n",
    "FormatAxis(ax,20)"
   ]
  },
  {
   "cell_type": "code",
   "execution_count": 251,
   "metadata": {
    "ExecuteTime": {
     "end_time": "2020-11-20T17:03:14.442300Z",
     "start_time": "2020-11-20T17:03:14.428301Z"
    }
   },
   "outputs": [],
   "source": [
    "para_true = [2,0,1,3.14159/2]\n",
    "max_x = 10\n",
    "n_max = 30\n",
    "times = np.linspace(min_x,max_x,n_max)\n",
    "x_random = [model(t,para_true)+random.gauss(0,0.2) for t in times]\n",
    "a = np.array([times,x_random])\n",
    "np.savetxt(\"spring_pendulum_train_data_equi.csv\", a, delimiter=',',comments=\"\")"
   ]
  },
  {
   "cell_type": "code",
   "execution_count": 252,
   "metadata": {
    "ExecuteTime": {
     "end_time": "2020-11-20T17:03:14.993176Z",
     "start_time": "2020-11-20T17:03:14.875141Z"
    }
   },
   "outputs": [
    {
     "data": {
      "image/png": "[encoded data removed]",
      "text/plain": [
       "<Figure size 720x432 with 1 Axes>"
      ]
     },
     "metadata": {
      "needs_background": "light"
     },
     "output_type": "display_data"
    }
   ],
   "source": [
    "times_model = np.linspace(min_x,max_x,1000)\n",
    "\n",
    "fig = plt.figure(figsize= (10,6))\n",
    "plt.plot(times_model,model(times_model,para_true), color = \"orange\")\n",
    "plt.scatter(times,x_random)\n",
    "plt.xlabel(\"t\",fontsize = fontsize)\n",
    "plt.ylabel(\"x\", fontsize = fontsize)\n",
    "ax = plt.gca()\n",
    "FormatAxis(ax,20)"
   ]
  }
 ],
 "metadata": {
  "kernelspec": {
   "display_name": "Python 3 (ipykernel)",
   "language": "python",
   "name": "python3"
  },
  "language_info": {
   "codemirror_mode": {
    "name": "ipython",
    "version": 3
   },
   "file_extension": ".py",
   "mimetype": "text/x-python",
   "name": "python",
   "nbconvert_exporter": "python",
   "pygments_lexer": "ipython3",
   "version": "3.10.12"
  },
  "toc": {
   "base_numbering": 1,
   "nav_menu": {},
   "number_sections": true,
   "sideBar": true,
   "skip_h1_title": false,
   "title_cell": "Table of Contents",
   "title_sidebar": "Contents",
   "toc_cell": false,
   "toc_position": {},
   "toc_section_display": true,
   "toc_window_display": false
  },
  "varInspector": {
   "cols": {
    "lenName": 16,
    "lenType": 16,
    "lenVar": 40
   },
   "kernels_config": {
    "python": {
     "delete_cmd_postfix": "",
     "delete_cmd_prefix": "del ",
     "library": "var_list.py",
     "varRefreshCmd": "print(var_dic_list())"
    },
    "r": {
     "delete_cmd_postfix": ") ",
     "delete_cmd_prefix": "rm(",
     "library": "var_list.r",
     "varRefreshCmd": "cat(var_dic_list()) "
    }
   },
   "types_to_exclude": [
    "module",
    "function",
    "builtin_function_or_method",
    "instance",
    "_Feature"
   ],
   "window_display": false
  }
 },
 "nbformat": 4,
 "nbformat_minor": 4
}
