{
 "cells": [
  {
   "cell_type": "code",
   "execution_count": 1,
   "metadata": {
    "ExecuteTime": {
     "end_time": "2021-11-25T18:20:27.119000+01:00",
     "start_time": "2021-11-25T17:20:15.201Z"
    }
   },
   "outputs": [],
   "source": [
    "include(\"optimization_library.jl\");\n",
    "include(\"mplstyle.jl\");"
   ]
  },
  {
   "cell_type": "markdown",
   "metadata": {},
   "source": [
    "# Exercise 6.2c: Paint production rates\n",
    "\n",
    "What are the daily production rates of interior and exterior paint that maximize the company's revenue? Find the optimal solution using the interior point method.\n",
    "\n",
    "Canonical form of the optimization problem:\n",
    "\\begin{align}\n",
    "\\text{minimize}\\quad & -2x_1 - 3 x_2\\\\\n",
    "\\text{subject to}\\quad & x_1 - 2 \\leq 0\\\\\n",
    "& x_2 - 3 \\leq 0\\\\\n",
    "& 2x_1 + x_2 - 6 \\leq 0\\\\\n",
    "& x_1 + 2x_2 - 7 \\leq 0\n",
    "\\end{align}"
   ]
  },
  {
   "cell_type": "code",
   "execution_count": 6,
   "metadata": {
    "ExecuteTime": {
     "end_time": "2021-11-25T18:20:33.498000+01:00",
     "start_time": "2021-11-25T17:20:15.207Z"
    }
   },
   "outputs": [
    {
     "name": "stdout",
     "output_type": "stream",
     "text": [
      "Number of outer iterations: 16\n",
      "Total number of Newton iterations: 37.0\n",
      "Minimizer: [1.6664427056039564, 2.6667336706664293]\n",
      "Maximized revenue: 11.3330864232072\n"
     ]
    }
   ],
   "source": [
    "# ===============================================================================\n",
    "# Solve the problem using the interior point method. Either use your own implemented function or the function ipm()\n",
    "# from optimization_library.jl. Beware that the trace returned by the ipm() function from the library has been extended\n",
    "# by one row which stores the number of newton iterations needed to find the next point x_k (see Exercise 5.1)\n",
    "# on the central path.\n",
    "\n",
    "# Create vectors that store the functions, gradients and hessian matrices for all contraints\n",
    "num_const = 4\n",
    "c = Vector(undef, num_const)\n",
    "dc = Vector(undef, num_const)\n",
    "Hc = Vector(undef, num_const)\n",
    "\n",
    "f(x) = -2*x[1] - 3x[2]\n",
    "df(x) = [-2;-3]\n",
    "Hf(x) = zeros(2,2)\n",
    "\n",
    "A = [1 0;\n",
    "    0 1;\n",
    "    2 1;\n",
    "    1 2]\n",
    "\n",
    "A = A[1:num_const,:]\n",
    "\n",
    "b = [2,3,6,7]\n",
    "\n",
    "b = b[1:num_const]\n",
    "\n",
    "for i in 1:num_const\n",
    "    c[i] = x -> LA.dot(A[i,:], x) - b[i]\n",
    "    dc[i] = x-> A[i,:]\n",
    "    Hc[i] = x-> zeros(2,2)\n",
    "end\n",
    "\n",
    "x0 = [-2,-1]\n",
    "\n",
    "x_best, trace = ipm(f, df, Hf, x0; g=c, dg=dc, Hg=Hc,\n",
    "            initial_barrier = 1.0, barrier_increase = 2.0, maxiters=100, inner_maxiters=100,\n",
    "             ls=true, eps=0.0001);\n",
    "\n",
    "println(\"Number of outer iterations: \", size(trace,2))\n",
    "println(\"Total number of Newton iterations: \", sum(trace[end,:]))\n",
    "println(\"Minimizer: \", x_best)\n",
    "println(\"Maximized revenue: \", -f(x_best))\n",
    "# ==============================================================================="
   ]
  },
  {
   "cell_type": "code",
   "execution_count": 7,
   "metadata": {
    "ExecuteTime": {
     "end_time": "2021-11-25T18:20:34.615000+01:00",
     "start_time": "2021-11-25T17:20:15.211Z"
    }
   },
   "outputs": [
    {
     "data": {
      "text/plain": [
       "feasible (generic function with 1 method)"
      ]
     },
     "execution_count": 7,
     "metadata": {},
     "output_type": "execute_result"
    }
   ],
   "source": [
    "# function for plotting the contour of objective function within feasible region\n",
    "function feasible(x)\n",
    "    result = NaN\n",
    "    if sum(A *x - b .<= zeros(4)) == 4\n",
    "        result = f(x)\n",
    "    end\n",
    "    return result\n",
    "end"
   ]
  },
  {
   "cell_type": "code",
   "execution_count": 8,
   "metadata": {
    "ExecuteTime": {
     "end_time": "2021-11-25T18:20:44.898000+01:00",
     "start_time": "2021-11-25T17:20:15.215Z"
    }
   },
   "outputs": [
    {
     "data": {
      "text/plain": [
       "PyObject Text(0.09479538405482854, 0.01270017330184464, '$f(x)$')"
      ]
     },
     "execution_count": 8,
     "metadata": {},
     "output_type": "execute_result"
    }
   ],
   "source": [
    "# plot the objective function and the feasible region\n",
    "\n",
    "n_points = 50\n",
    "x1_plot = range(minimum(trace[1,:])+minimum(trace[1,:])*0.5,maximum(trace[1,:])+maximum(trace[1,:])*0.5,length = n_points)\n",
    "x2_plot = range(minimum(trace[2,:])+minimum(trace[2,:])*0.5,maximum(trace[2,:])+maximum(trace[2,:])*0.5,length = n_points)\n",
    "\n",
    "f_plot = [f([x1,x2]) for x1 = x1_plot, x2 = x2_plot]\n",
    "\n",
    "# create grid points\n",
    "xgrid = repeat(x1_plot',n_points,1)\n",
    "ygrid = repeat(x2_plot,1,n_points)\n",
    "\n",
    "feasible_plot = [feasible([x1,x2]) for x1 = x1_plot, x2 = x2_plot]\n",
    "\n",
    "# allow window to open for interactions\n",
    "using3D()\n",
    "pygui(true);\n",
    "fig = figure(\"pyplot_surfaceplot\",figsize=(15,10))\n",
    "ax = fig.add_subplot(1,1,1,projection=\"3d\")\n",
    "\n",
    "    # plot loss function\n",
    "plot_surface(xgrid', ygrid', f_plot, rstride=2,edgecolors=\"k\", cstride=2, cmap=ColorMap(\"gray\"), alpha=0.3, linewidth=0.25)\n",
    "plot_surface(xgrid', ygrid', feasible_plot, rstride=2,edgecolors=\"k\", cstride=2, alpha=0.3, linewidth=0.25)\n",
    "\n",
    "# plot traces of gradient and newton descent\n",
    "ax[:plot](trace[1,:], trace[2,:], trace[3,:], color=\"red\", zorder = 3)\n",
    "ax[:scatter](trace[1,:], trace[2,:], trace[3,:], color=\"red\")\n",
    "\n",
    "# contour of objective function within feasible region\n",
    "ax[:contourf](xgrid', ygrid', feasible_plot, zdir=\"z\", offset=-15)\n",
    "\n",
    "zlim(-20,0)\n",
    "\n",
    "fontsize = 15\n",
    "xlabel(L\"x_1\", fontsize=fontsize)\n",
    "ylabel(L\"x_2\", fontsize=fontsize)\n",
    "zlabel(L\"f(x)\", fontsize=fontsize)"
   ]
  },
  {
   "cell_type": "code",
   "execution_count": 9,
   "metadata": {
    "ExecuteTime": {
     "end_time": "2021-11-25T18:20:46.770000+01:00",
     "start_time": "2021-11-25T17:20:15.218Z"
    }
   },
   "outputs": [
    {
     "data": {
      "text/plain": [
       "16-element Vector{Float64}:\n",
       " 18.3330864232072\n",
       "  3.2577006857013107\n",
       "  1.403501206885423\n",
       "  0.5878873495486534\n",
       "  0.2756662131950822\n",
       "  0.13219445573482425\n",
       "  0.06546121439064834\n",
       "  0.031200595282232513\n",
       "  0.015712916207270666\n",
       "  0.00749681953252157\n",
       "  0.0037141939375544553\n",
       "  0.0016819875868439027\n",
       "  0.0007414028526913086\n",
       "  0.00023498718184455925\n",
       "  0.0\n",
       "  0.0"
      ]
     },
     "execution_count": 9,
     "metadata": {},
     "output_type": "execute_result"
    }
   ],
   "source": [
    "trace[end-1,:].-f(x_best)"
   ]
  },
  {
   "cell_type": "markdown",
   "metadata": {},
   "source": [
    "# Exercise 6.2c: Trade off between inner and outer number of iterations"
   ]
  },
  {
   "cell_type": "code",
   "execution_count": 10,
   "metadata": {
    "ExecuteTime": {
     "end_time": "2021-11-25T18:20:53.124000+01:00",
     "start_time": "2021-11-25T17:20:15.224Z"
    }
   },
   "outputs": [
    {
     "name": "stdout",
     "output_type": "stream",
     "text": [
      "-11.3330864232072\n",
      "-11.333285899231047\n",
      "-11.33332949883188\n",
      "-11.333333333333325\n"
     ]
    },
    {
     "data": {
      "image/png": "[encoded data removed]",
      "text/plain": [
       "Figure(PyObject <Figure size 750x550 with 1 Axes>)"
      ]
     },
     "metadata": {},
     "output_type": "display_data"
    }
   ],
   "source": [
    "pygui(false);\n",
    "μ = [2,10,50, 1000000000000] # values for barrier_increase\n",
    "\n",
    "for mu in μ\n",
    "# ===============================================================================\n",
    "    # Solve the optimization problem for barrier_increase = mu\n",
    "    # Plot the precision of the intermediate solutions (f(x_k) - f(x_optimum)) after each outer iteration versus the \n",
    "    # cumulative number of newton iterations needed in the inner iteration given by \"accumulate(+, trace[end,:])\".\n",
    "    x_best, trace = ipm(f, df, Hf, x0; g=c, dg=dc, Hg=Hc, barrier_increase = mu);\n",
    "    #plot(accumulate(+, trace[end,:]),trace[end-1,:].-f(x_best), marker = \"o\", label = \"μ = $mu\")\n",
    "    plot(accumulate(+, trace[end,:]),trace[end-1,:].+11.33333301333324, marker = \"o\", label = \"μ = $mu\")\n",
    "    println(f(x_best))\n",
    "# ===============================================================================\n",
    "end\n",
    "    \n",
    "xlabel(\"Cumulative number of Newton iterations\", fontsize = fontsize)\n",
    "ylabel(\"Precision\", fontsize = fontsize)\n",
    "legend(fontsize = fontsize)\n",
    "yscale(\"log\")"
   ]
  },
  {
   "cell_type": "markdown",
   "metadata": {},
   "source": [
    "# Exercise 6.3a"
   ]
  },
  {
   "cell_type": "code",
   "execution_count": 11,
   "metadata": {
    "ExecuteTime": {
     "end_time": "2021-11-25T18:20:53.155000+01:00",
     "start_time": "2021-11-25T17:20:15.229Z"
    }
   },
   "outputs": [],
   "source": [
    "# Find a valid admissible solution for the Interior Point Method\n",
    "# x0: Initial point.\n",
    "# g: Array of inequality constraints g_i(x) < 0\n",
    "# dg: Array with the gradient of the inequality constraints\n",
    "# maxiters: Maximum number of iterations\n",
    "# eps: Minimum distance of the solution from the barrier\n",
    "\n",
    "function ipm_admissible(x0; g=[], dg=[], initial_barrier = 1.0, barrier_increase = 2.0, maxiters = 100, \n",
    "        inner_maxiters = 100, eps=0.0001)\n",
    "    \n",
    "    glen = length(g)\n",
    "    xlen = length(x0)\n",
    "\n",
    "# ===============================================================================\n",
    "    # 1. Find the initial s\n",
    "    #    Add 10% of |max_i(g_i(x0))| to ensure that we start with an interior point\n",
    "    s = maximum([g[i](x0) for i=1:glen])\n",
    "    s += abs(s) * 0.1\n",
    "\n",
    "    # 2. The optimization problem to be solved is \"min_y s\" for y = (x,s).\n",
    "    f(y) = y[end]\n",
    "    df(y) = [zeros(xlen); 1]\n",
    "\n",
    "    # 3. Define the constraints with the slack variable s as follows: g_i(x) - s < 0\n",
    "    gg = Vector(undef, glen)\n",
    "    dgg = Vector(undef, glen)\n",
    "    for i in 1:glen\n",
    "        gg[i] = y -> g[i](y[1:end-1]) - y[end]\n",
    "        dgg[i] = y -> [dg[i](y[1:end-1]); -1]\n",
    "    end\n",
    "\n",
    "    # 4. Use the interior point method to solve the optimization problem\n",
    "    #    Stop the outer iterations as soon as an admissible solution has been found.\n",
    "    #    Use gradient descent for the inner iterations in order to avoid very large hessians (due to small gradients)\n",
    "    #    that cannot be inverted. Stop the outer loop if the solution x_k of the inner iteration is already an admissible\n",
    "    #    point.\n",
    "\n",
    "    barr = Vector(undef, glen)\n",
    "    dbarr = Vector(undef, glen)\n",
    "    for i in 1:glen\n",
    "        barr[i],dbarr[i],_ = log_barrier(gg[i], dgg[i],nothing) # ignore the hessian\n",
    "    end\n",
    "\n",
    "    t = initial_barrier\n",
    "    # Construct ftilde\n",
    "    ftilde(x)  = f(x)  + sum([bb(x) for bb in barr]) / t\n",
    "    dftilde(x) = df(x) + sum([dbb(x) for dbb in dbarr]) / t\n",
    "\n",
    "    # Minimize ftilde\n",
    "    # Stop when an admissible solution has been found.\n",
    "    y = [x0; s]\n",
    "    counter = 0\n",
    "    trace_y = [y;ftilde(y)]\n",
    "    for i=1:maxiters\n",
    "        # Have an admissible solution\n",
    "        if y[end] < -eps\n",
    "            break\n",
    "        end\n",
    "\n",
    "        # Tighten the barrier\n",
    "        t = t * barrier_increase\n",
    "        y,trace = gradient_descent(ftilde, dftilde, y; ϵ=0.0001, maxiters = inner_maxiters, p = 2.0, ls = false)\n",
    "        println(\"gradient:\",LA.norm(dftilde(y)), \"\\ts:\\t\", y[end])\n",
    "        if(size(trace,2) == inner_maxiters)\n",
    "            println(\"Maximum number of inner iterations reached!\")\n",
    "        end\n",
    "        counter = counter + 1\n",
    "        \n",
    "        if LA.norm(trace_y[1:end-1,end] - y) < eps\n",
    "            \"Interior Point Method converged.\"\n",
    "            break\n",
    "        end\n",
    "        trace_y = hcat(trace_y, [y; ftilde(y)])\n",
    "\n",
    "    end\n",
    "\n",
    "    if(counter == maxiters)\n",
    "        println(\"Maximum number of outer iterations reached!\")\n",
    "    end\n",
    "    \n",
    "    # 5. Notify the user if no admissible point could be found\n",
    "    #    Note that the case s = 0 will in practice not hold due to numerical imprecisions. Use abs(s) <= eps instead!\n",
    "\n",
    "    if abs(y[end]) <= eps\n",
    "        error(\"Problem has an admissible solution, but no interior point\")\n",
    "    end\n",
    "\n",
    "    # No admissible solution\n",
    "    if y[end] > eps\n",
    "        error(\"Problem has no admissible interior point\")\n",
    "    end\n",
    "\n",
    "    # 6. Return the interior point\n",
    "    return y[1:end-1], trace_y\n",
    "# ===============================================================================\n",
    "end;"
   ]
  },
  {
   "cell_type": "markdown",
   "metadata": {},
   "source": [
    "# Exercise 6.3b\n",
    "\n",
    "Verify your implementation by searching for an admissible point for the problem in Exercise 6.2 given the inadmissible point $\\vec{x} = (100,100)$. Make sure your method really results in an admissible point."
   ]
  },
  {
   "cell_type": "code",
   "execution_count": 12,
   "metadata": {
    "ExecuteTime": {
     "end_time": "2021-11-25T18:20:54.542000+01:00",
     "start_time": "2021-11-25T17:20:15.233Z"
    }
   },
   "outputs": [
    {
     "name": "stdout",
     "output_type": "stream",
     "text": [
      "gradient:0.8988586204157363\ts:\t156.05313192799628\n",
      "gradient:0.6461857961280195\ts:\t-3.356409823982654\n"
     ]
    },
    {
     "data": {
      "text/plain": [
       "([-2.2517537657921527, -1.2517745091421042], [100.0 51.84165931244207 -2.2517537657921527; 100.0 52.77444147736419 -1.2517745091421042; 323.4 156.05313192799628 -3.356409823982654; 305.76438276930844 149.65947290216386 -4.365191280825297])"
      ]
     },
     "execution_count": 12,
     "metadata": {},
     "output_type": "execute_result"
    }
   ],
   "source": [
    "# ===============================================================================\n",
    "x0 = [100,100]\n",
    "\n",
    "x_adm, trace = ipm_admissible(x0; g=c, dg=dc, maxiters = 100, eps=0.0001)\n",
    "# ==============================================================================="
   ]
  },
  {
   "cell_type": "code",
   "execution_count": 13,
   "metadata": {
    "ExecuteTime": {
     "end_time": "2021-11-25T18:33:41.734000+01:00",
     "start_time": "2021-11-25T17:33:41.734Z"
    }
   },
   "outputs": [
    {
     "data": {
      "text/plain": [
       "2-element Vector{Float64}:\n",
       " -2.2517537657921527\n",
       " -1.2517745091421042"
      ]
     },
     "execution_count": 13,
     "metadata": {},
     "output_type": "execute_result"
    }
   ],
   "source": [
    "x_adm"
   ]
  },
  {
   "cell_type": "code",
   "execution_count": 14,
   "metadata": {
    "ExecuteTime": {
     "end_time": "2021-11-25T18:34:56.960000+01:00",
     "start_time": "2021-11-25T17:34:56.794Z"
    }
   },
   "outputs": [
    {
     "name": "stdout",
     "output_type": "stream",
     "text": [
      "Number of outer iterations: 16\n",
      "Total number of Newton iterations: 37.0\n",
      "Minimizer: [1.6664427055937425, 2.6667336706931244]\n",
      "Maximized revenue: 11.333086423266858\n"
     ]
    }
   ],
   "source": [
    "x_best, trace = ipm(f, df, Hf, x_adm; g=c, dg=dc, Hg=Hc,\n",
    "            initial_barrier = 1.0, barrier_increase = 2.0, maxiters=100, inner_maxiters=100,\n",
    "             ls=true, eps=0.0001);\n",
    "\n",
    "println(\"Number of outer iterations: \", size(trace,2))\n",
    "println(\"Total number of Newton iterations: \", sum(trace[end,:]))\n",
    "println(\"Minimizer: \", x_best)\n",
    "println(\"Maximized revenue: \", -f(x_best))"
   ]
  },
  {
   "cell_type": "code",
   "execution_count": null,
   "metadata": {},
   "outputs": [],
   "source": []
  },
  {
   "cell_type": "code",
   "execution_count": null,
   "metadata": {},
   "outputs": [],
   "source": []
  }
 ],
 "metadata": {
  "kernelspec": {
   "display_name": "Julia 1.9.3",
   "language": "julia",
   "name": "julia-1.9"
  },
  "language_info": {
   "file_extension": ".jl",
   "mimetype": "application/julia",
   "name": "julia",
   "version": "1.9.3"
  },
  "toc": {
   "base_numbering": 1,
   "nav_menu": {},
   "number_sections": true,
   "sideBar": true,
   "skip_h1_title": false,
   "title_cell": "Table of Contents",
   "title_sidebar": "Contents",
   "toc_cell": false,
   "toc_position": {
    "height": "calc(100% - 180px)",
    "left": "10px",
    "top": "150px",
    "width": "281.6px"
   },
   "toc_section_display": true,
   "toc_window_display": true
  },
  "varInspector": {
   "cols": {
    "lenName": 16,
    "lenType": 16,
    "lenVar": 40
   },
   "kernels_config": {
    "python": {
     "delete_cmd_postfix": "",
     "delete_cmd_prefix": "del ",
     "library": "var_list.py",
     "varRefreshCmd": "print(var_dic_list())"
    },
    "r": {
     "delete_cmd_postfix": ") ",
     "delete_cmd_prefix": "rm(",
     "library": "var_list.r",
     "varRefreshCmd": "cat(var_dic_list()) "
    }
   },
   "types_to_exclude": [
    "module",
    "function",
    "builtin_function_or_method",
    "instance",
    "_Feature"
   ],
   "window_display": false
  }
 },
 "nbformat": 4,
 "nbformat_minor": 4
}
