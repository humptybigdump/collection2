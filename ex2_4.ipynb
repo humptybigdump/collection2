{
 "cells": [
  {
   "cell_type": "markdown",
   "metadata": {
    "collapsed": true,
    "pycharm": {
     "name": "#%% md\n"
    }
   },
   "source": [
    "# Task 2, Graph Search, 30P(oints)\n",
    "\n",
    "## Lab Instructions\n",
    "All your answers for Task #2 should be written in this notebook. You\n",
    "    shouldn't need to write or modify any other files.\n",
    "\n",
    "**You should execute every block of code to not miss any dependency.**\n",
    "\n",
    "*This task was developed by Ge Li for the KIT Cognitive Systems Lecture,\n",
    "June 2021."
   ]
  },
  {
   "cell_type": "markdown",
   "metadata": {},
   "source": [
    "## Task 2 question a, b, h and i:\n",
    "Please find the corresponding blocks for writing down your answer of a,b, and h"
   ]
  },
  {
   "cell_type": "markdown",
   "metadata": {},
   "source": [
    "## Task 2 question c,d,e,f and g:\n",
    "This jupyter notebook offers a modular framework, where DFS, BFS and A star\n",
    "algorithms of Graph Search can be solved in a similar modality. Read the code\n",
    "carefully and fill in the missing steps of the function. Afterwards, when you\n",
    "run the code,\n",
    "the **result of question d, e, f, g** will be shown automatically.\n",
    "\n",
    "Detailed information:\n",
    "1. In script \"puzzle.py\", you can find the definition of the Puzzle board\n",
    "and some helper functions regarding to the environment.\n",
    "\n",
    "2. In this notebook, a Node class which represents the data structure used in\n",
    "the search tree is offered. **Please finish function children() in this block\n",
    "to generate a list of children nodes.(4P)** Please note, in the scope of\n",
    "current lecture, we do not check if a child node is in closed_set or not.\n",
    "\n",
    "3. In this notebook, one helper functions \"print_path\" is offered to help you\n",
    "print the move sequence for question **f**.\n",
    "\n",
    "4. The function **\"pop_fringe_node\"** is to pop a node from the fringe list. In\n",
    "step 1, we gave an example of DFS method. **Please finish the BFS (1P) and A\n",
    "star (3P) in steps 2 and 3 respectively.** You should not\n",
    "modify other steps.\n",
    "Hints: you may need to call some basic python functions, such as: min() and\n",
    "index().\n",
    "\n",
    "5. The main search work is performed in function **\"search\"**. Given different\n",
    "arguments (\"dfs\", \"bfs\" or \"a_star\"), You can perform different search\n",
    "algorithm in a uniform way. (See lecture slide #32 and #82 in Search).\n",
    " **Please finish the step 8 of this function.** You should consider these\n",
    " sub-steps in\n",
    " below (2P for each), while keep other steps unchanged:<br>\n",
    "    - Check if current node is in closed_set\n",
    "    - When not, get its children\n",
    "    - Put children nodes in fringe list\n",
    "    - Update the closed_set and num_expanded_nodes"
   ]
  },
  {
   "cell_type": "markdown",
   "metadata": {},
   "source": [
    "### TODO\n",
    "Write down you answer to question **a** in this block."
   ]
  },
  {
   "cell_type": "markdown",
   "metadata": {},
   "source": [
    "### TODO\n",
    "Write down you answer to question **b** in this block.\n"
   ]
  },
  {
   "cell_type": "markdown",
   "metadata": {},
   "source": [
    "Read the code and fill in the missing parts in the following blocks to answer\n",
    "question **c**."
   ]
  },
  {
   "cell_type": "code",
   "execution_count": null,
   "metadata": {
    "pycharm": {
     "name": "#%%\n"
    }
   },
   "outputs": [],
   "source": [
    "# DO NOT MODIFY THIS BLOCK\n",
    "from ex2.puzzle import TilePuzzle\n",
    "from copy import deepcopy"
   ]
  },
  {
   "cell_type": "code",
   "execution_count": null,
   "metadata": {
    "pycharm": {
     "name": "#%%\n"
    }
   },
   "outputs": [],
   "source": [
    "# TODO: PLEASE FINISH function \"children\" IN THIS FUNCTION BLOCK\n",
    "# TODO: PLEASE FINISH function \"children\" IN THIS FUNCTION BLOCK\n",
    "# TODO: PLEASE FINISH function \"children\" IN THIS FUNCTION BLOCK\n",
    "\n",
    "class Node:\n",
    "    \"\"\"\n",
    "    Node class.\n",
    "\n",
    "    When a search algorithm is performed, a search tree with nodes will be\n",
    "    generated.\n",
    "    Each node refers to a puzzle. For each node, it contains 6 attributes:\n",
    "\n",
    "       - A parent node reference,\n",
    "       - A puzzle reference,\n",
    "       - The accumulated cost to reach this node from the root, i.e. g\n",
    "       - The heuristic h,\n",
    "       - The f value, f = g + h.\n",
    "       - move from parent\n",
    "    \"\"\"\n",
    "\n",
    "    def __init__(self,\n",
    "                 parent,\n",
    "                 puzzle,\n",
    "                 move=\"\",\n",
    "                 heuristic=\"num_wrong\"):\n",
    "        \"\"\"\n",
    "        Initialize a node\n",
    "        Args:\n",
    "            parent: parent node reference\n",
    "            puzzle: puzzle reference\n",
    "            move: movement from parent to current\n",
    "            heuristic: type of heuristic\n",
    "        \"\"\"\n",
    "\n",
    "        self.parent = parent\n",
    "        self.puzzle = puzzle\n",
    "        self.heuristic = heuristic\n",
    "        if heuristic == \"num_wrong\":\n",
    "            self.h = self.numWrongTiles()\n",
    "        elif heuristic == \"manhattan\":\n",
    "            self.h = self.manhattanDistance()\n",
    "        else:\n",
    "            raise ValueError(\"Unknown heuristic\")\n",
    "\n",
    "        if parent is None:\n",
    "            self.g = 0\n",
    "        else:\n",
    "            self.g = self.parent.g + 1\n",
    "        self.f = self.g + self.h\n",
    "        self.move = move\n",
    "\n",
    "    @property\n",
    "    def state(self):\n",
    "        \"\"\"\n",
    "        Node's state\n",
    "        Returns:\n",
    "\n",
    "        \"\"\"\n",
    "        return self.puzzle.state\n",
    "\n",
    "    def goalState(self):\n",
    "        \"\"\"\n",
    "        Check if current puzzle is goal\n",
    "        Returns:\n",
    "            True if it is goal puzzle\n",
    "\n",
    "        \"\"\"\n",
    "        return self.puzzle.checkPuzzle()\n",
    "\n",
    "    def children(self):\n",
    "        \"\"\"\n",
    "        Get children nodes of current node\n",
    "        Returns:\n",
    "            children nodes in a list\n",
    "        \"\"\"\n",
    "        children_list = list()\n",
    "        for m in self.puzzle.moves:\n",
    "            # Simulate all possible next states after possible moves\n",
    "            p = deepcopy(self.puzzle)\n",
    "            p.doMove(m)\n",
    "            if p.zero is not self.puzzle.zero:\n",
    "                # generate and store children nodes in list\n",
    "                pass\n",
    "                ########   Write down your code here   ########\n",
    "                ########   Write down your code here   ########\n",
    "                ########   Write down your code here   ########\n",
    "        return children_list\n",
    "\n",
    "    def numWrongTiles(self):\n",
    "        \"\"\"\n",
    "        Number of wrong placed tiles as heuristic\n",
    "        Returns:\n",
    "            total number of wrong tiles\n",
    "        \"\"\"\n",
    "        result = 0\n",
    "        count = 1\n",
    "        for i in range(0, self.puzzle.size):\n",
    "            for j in range(0, self.puzzle.size):\n",
    "                if self.state[i][j] !=\\\n",
    "                        count % (self.puzzle.size * self.puzzle.size):\n",
    "                    result += 1\n",
    "                count += 1\n",
    "        return result\n",
    "\n",
    "    def manhattanDistance(self):\n",
    "        \"\"\"\n",
    "        Manhattan Distance as heuristic\n",
    "        Returns:\n",
    "            total manhattan distance\n",
    "        \"\"\"\n",
    "        result = 0\n",
    "        count = 1\n",
    "        for i in range(0, self.puzzle.size):\n",
    "            for j in range(0, self.puzzle.size):\n",
    "                index = self.state[i][j] - 1\n",
    "                if index == -1:\n",
    "                    distance = (2 - i) + (2 - j)\n",
    "                else:\n",
    "                    distance = abs(i - (index / self.puzzle.size))\\\n",
    "                               + abs(j - (index % self.puzzle.size))\n",
    "                result += distance\n",
    "                count += 1\n",
    "        return result"
   ]
  },
  {
   "cell_type": "code",
   "execution_count": null,
   "metadata": {
    "pycharm": {
     "name": "#%%\n"
    }
   },
   "outputs": [],
   "source": [
    "# DO NOT MODIFY THIS BLOCK\n",
    "def print_path(node):\n",
    "    \"\"\"\n",
    "    This is a helper function\n",
    "    Generate and print a path in string from the start (root) to a this node\n",
    "    Args:\n",
    "        node: reference to a certain node\n",
    "    Returns: None\n",
    "    \"\"\"\n",
    "\n",
    "    # 1. Put current node in the path\n",
    "    path = [node]\n",
    "    moves = [node.move]\n",
    "\n",
    "    # 2. Search all ancestors until we reach the root\n",
    "    ancestor = node.parent\n",
    "    while ancestor is not None:\n",
    "        # 2.1 Insert the ancestor to the beginning of the path\n",
    "        path.insert(0, ancestor)\n",
    "        moves.insert(0, ancestor.move)\n",
    "        ancestor = ancestor.parent\n",
    "\n",
    "    # 3. Print path\n",
    "    print(\"\\nPath from root to goal: \")\n",
    "    for element in path:\n",
    "        element.puzzle.printPuzzle()\n",
    "    print(\"moves from root to goal: \", moves[1:])"
   ]
  },
  {
   "cell_type": "code",
   "execution_count": null,
   "metadata": {
    "pycharm": {
     "name": "#%%\n"
    }
   },
   "outputs": [],
   "source": [
    "# TODO: PLEASE FINISH \"STEP 2 AND 3\" IN THIS FUNCTION BLOCK\n",
    "# TODO: PLEASE FINISH \"STEP 2 AND 3\" IN THIS FUNCTION BLOCK\n",
    "# TODO: PLEASE FINISH \"STEP 2 AND 3\" IN THIS FUNCTION BLOCK\n",
    "def pop_fringe_node(fringe_list, method_name):\n",
    "    \"\"\"\n",
    "    Pop up a fringe node from the fringe list, given the search method\n",
    "    Args:\n",
    "        fringe_list: The list which contains all the fringe nodes\n",
    "        method_name: 'dfs', 'bfs', or 'a_star'\n",
    "    Returns:\n",
    "        the poped up fringe node\n",
    "    \"\"\"\n",
    "\n",
    "    # 1. When the method is DFS, decide the node to pop up from fringe list\n",
    "    if method_name == 'dfs':\n",
    "        # DFS: maintains a \"Stack\": Last in First Out\n",
    "        node_index = -1\n",
    "\n",
    "    # 2. When the method is BFS, decide the node to pop up from fringe\n",
    "    elif method_name == 'bfs':\n",
    "        # BFS: What should we do here for BFS?\n",
    "        pass\n",
    "        ########   Write down your code here   ########\n",
    "        ########   Write down your code here   ########\n",
    "        ########   Write down your code here   ########\n",
    "\n",
    "\n",
    "    # 3. When the method is A*, decide the node to pop up from fringe\n",
    "    else:  # method_name = 'a_star'\n",
    "        # A*: What should we do here for A*?\n",
    "        pass\n",
    "        ########   Write down your code here   ########\n",
    "        ########   Write down your code here   ########\n",
    "        ########   Write down your code here   ########\n",
    "\n",
    "    # 4. Pop up the node and return it back\n",
    "    return fringe_list.pop(node_index)"
   ]
  },
  {
   "cell_type": "code",
   "execution_count": null,
   "metadata": {
    "pycharm": {
     "name": "#%%\n"
    }
   },
   "outputs": [],
   "source": [
    "# TODO: PLEASE FINISH \"STEP 8\" IN THIS FUNCTION BLOCK\n",
    "# TODO: PLEASE FINISH \"STEP 8\" IN THIS FUNCTION BLOCK\n",
    "# TODO: PLEASE FINISH \"STEP 8\" IN THIS FUNCTION BLOCK\n",
    "def search(method_name,\n",
    "           heuristic=\"num_wrong\",\n",
    "           plot_path=False):\n",
    "    \"\"\"\n",
    "    Perform Graph search algorithm given the method name\n",
    "    Args:\n",
    "        method_name: 'dfs', 'bfs', or 'a_star'\n",
    "        heuristic: type of heuristic\n",
    "        plot_path: if plot path from initial puzzle board to goal\n",
    "    Returns: None\n",
    "    \"\"\"\n",
    "\n",
    "    # 0. Print method name\n",
    "    print(\"\\n\\n===========  This is \" + method_name + \" search method\"\n",
    "                                                      \".  ============  \\n\\n\")\n",
    "\n",
    "    # 1. Initialize closed set\n",
    "    closed_set = list()\n",
    "\n",
    "    # 2. Initialize a puzzle board\n",
    "    board = TilePuzzle(size=3)\n",
    "    board.permute(20)\n",
    "    print(\"Initial puzzle board: \")\n",
    "    board.printPuzzle()\n",
    "\n",
    "    # 3. Initialize the search tree with root node\n",
    "    # Here is an example of constructing a node\n",
    "    root = Node(parent=None,\n",
    "                puzzle=board,\n",
    "                move=\"\",\n",
    "                heuristic=heuristic)\n",
    "    fringe_list = [root]\n",
    "\n",
    "    # 4. Set a flag for find goal\n",
    "    find_goal = False\n",
    "\n",
    "    num_expanded_nodes = 0\n",
    "    # 5. While loop for search\n",
    "    while len(fringe_list) > 0:\n",
    "\n",
    "        # 6. Pop one node from the fringe list\n",
    "        current_node = pop_fringe_node(fringe_list, method_name)\n",
    "\n",
    "        # 7. Check if the node is the Goal\n",
    "        if current_node.goalState():\n",
    "            print(\"Total expanded nodes:\", num_expanded_nodes)\n",
    "            find_goal = True\n",
    "\n",
    "            if plot_path:\n",
    "                print_path(current_node)  # Print the path\n",
    "            break\n",
    "\n",
    "        # 8. Expand current node\n",
    "        pass\n",
    "        ########   Write down your code here   ########\n",
    "        ########   Write down your code here   ########\n",
    "        ########   Write down your code here   ########\n",
    "\n",
    "        # End of search while loop\n",
    "\n",
    "    # 9. If Goal cannot be found, print failure\n",
    "    if not find_goal:\n",
    "        print(\"Cannot find Goal!\")"
   ]
  },
  {
   "cell_type": "markdown",
   "metadata": {},
   "source": [
    "### Run the code and see the result"
   ]
  },
  {
   "cell_type": "code",
   "execution_count": null,
   "metadata": {
    "pycharm": {
     "name": "#%%\n"
    }
   },
   "outputs": [],
   "source": [
    "# question d\n",
    "# DO NOT MODIFY THIS BLOCK\n",
    "search(\"dfs\")"
   ]
  },
  {
   "cell_type": "code",
   "execution_count": null,
   "metadata": {
    "pycharm": {
     "name": "#%%\n"
    }
   },
   "outputs": [],
   "source": [
    "# question e\n",
    "# DO NOT MODIFY THIS BLOCK\n",
    "search(\"bfs\")"
   ]
  },
  {
   "cell_type": "code",
   "execution_count": null,
   "metadata": {
    "pycharm": {
     "name": "#%%\n"
    }
   },
   "outputs": [],
   "source": [
    "# question f\n",
    "# DO NOT MODIFY THIS BLOCK\n",
    "search(\"a_star\", heuristic=\"num_wrong\", plot_path=True)"
   ]
  },
  {
   "cell_type": "code",
   "execution_count": null,
   "metadata": {
    "pycharm": {
     "name": "#%%\n"
    }
   },
   "outputs": [],
   "source": [
    "# question g\n",
    "# DO NOT MODIFY THIS BLOCK\n",
    "search(\"a_star\", heuristic=\"manhattan\", plot_path=True)\n"
   ]
  },
  {
   "cell_type": "markdown",
   "metadata": {
    "pycharm": {
     "name": "#%% md\n"
    }
   },
   "source": [
    "### TODO\n",
    "Write down you answer to question **h** in this block."
   ]
  },
  {
   "cell_type": "markdown",
   "source": [
    "### TODO\n",
    "Write down you answer to question **i** in this block."
   ],
   "metadata": {
    "collapsed": false
   }
  }
 ],
 "metadata": {
  "kernelspec": {
   "display_name": "Python 3",
   "language": "python",
   "name": "python3"
  },
  "language_info": {
   "codemirror_mode": {
    "name": "ipython",
    "version": 3
   },
   "file_extension": ".py",
   "mimetype": "text/x-python",
   "name": "python",
   "nbconvert_exporter": "python",
   "pygments_lexer": "ipython3",
   "version": "3.8.10"
  }
 },
 "nbformat": 4,
 "nbformat_minor": 1
}