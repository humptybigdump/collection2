{
 "cells": [
  {
   "cell_type": "code",
   "execution_count": 2,
   "metadata": {},
   "outputs": [
    {
     "data": {
      "text/plain": [
       "'\\nThis demo shows you different image presentation using visual.ImageStim and\\nvisual.GratinGstim. It introduces some of the many attributes of these stimulus\\ntypes.\\n'"
      ]
     },
     "execution_count": 2,
     "metadata": {},
     "output_type": "execute_result"
    }
   ],
   "source": [
    "\"\"\"\n",
    "This demo shows you different image presentation using visual.ImageStim and\n",
    "visual.GratinGstim. It introduces some of the many attributes of these stimulus\n",
    "types.\n",
    "\"\"\""
   ]
  },
  {
   "cell_type": "code",
   "execution_count": 3,
   "metadata": {
    "pycharm": {
     "name": "#%%\n"
    }
   },
   "outputs": [],
   "source": [
    "# Import the modules that we need in this script\n",
    "from psychopy import core, visual, event"
   ]
  },
  {
   "cell_type": "code",
   "execution_count": 4,
   "metadata": {
    "pycharm": {
     "name": "#%%\n"
    }
   },
   "outputs": [
    {
     "name": "stdout",
     "output_type": "stream",
     "text": [
      "128.8918 \tWARNING \tMonitor specification not found. Creating a temporary one...\n",
      "129.9754 \tERROR \tCouldn't find image face.jpg; check path? (tried: /Users/mknierim/Dropbox/Sync/Work/KIT/01-Teaching/21-MiP/mip-demo-experiment/face.jpg)\n"
     ]
    },
    {
     "ename": "OSError",
     "evalue": "Couldn't find image face.jpg; check path? (tried: /Users/mknierim/Dropbox/Sync/Work/KIT/01-Teaching/21-MiP/mip-demo-experiment/face.jpg)",
     "output_type": "error",
     "traceback": [
      "\u001b[0;31m---------------------------------------------------------------------------\u001b[0m",
      "\u001b[0;31mOSError\u001b[0m                                   Traceback (most recent call last)",
      "Input \u001b[0;32mIn [4]\u001b[0m, in \u001b[0;36m<cell line: 5>\u001b[0;34m()\u001b[0m\n\u001b[1;32m      2\u001b[0m win \u001b[38;5;241m=\u001b[39m visual\u001b[38;5;241m.\u001b[39mWindow(size\u001b[38;5;241m=\u001b[39m(\u001b[38;5;241m600\u001b[39m, \u001b[38;5;241m600\u001b[39m), color\u001b[38;5;241m=\u001b[39m\u001b[38;5;124m'\u001b[39m\u001b[38;5;124mblack\u001b[39m\u001b[38;5;124m'\u001b[39m)\n\u001b[1;32m      4\u001b[0m \u001b[38;5;66;03m# An image using ImageStim.\u001b[39;00m\n\u001b[0;32m----> 5\u001b[0m image \u001b[38;5;241m=\u001b[39m \u001b[43mvisual\u001b[49m\u001b[38;5;241;43m.\u001b[39;49m\u001b[43mImageStim\u001b[49m\u001b[43m(\u001b[49m\u001b[43mwin\u001b[49m\u001b[43m,\u001b[49m\u001b[43m \u001b[49m\u001b[43mimage\u001b[49m\u001b[38;5;241;43m=\u001b[39;49m\u001b[38;5;124;43m'\u001b[39;49m\u001b[38;5;124;43mface.jpg\u001b[39;49m\u001b[38;5;124;43m'\u001b[39;49m\u001b[43m)\u001b[49m\n\u001b[1;32m      7\u001b[0m \u001b[38;5;66;03m# We can also use the image as a mask (mask=\"face.jpg\") for other stimuli!\u001b[39;00m\n\u001b[1;32m      8\u001b[0m grating \u001b[38;5;241m=\u001b[39m visual\u001b[38;5;241m.\u001b[39mGratingStim(win,\n\u001b[1;32m      9\u001b[0m     pos\u001b[38;5;241m=\u001b[39m(\u001b[38;5;241m-\u001b[39m\u001b[38;5;241m0.5\u001b[39m, \u001b[38;5;241m0\u001b[39m),\n\u001b[1;32m     10\u001b[0m     tex\u001b[38;5;241m=\u001b[39m\u001b[38;5;124m'\u001b[39m\u001b[38;5;124msin\u001b[39m\u001b[38;5;124m'\u001b[39m,\n\u001b[1;32m     11\u001b[0m     mask\u001b[38;5;241m=\u001b[39m\u001b[38;5;124m'\u001b[39m\u001b[38;5;124mface.jpg\u001b[39m\u001b[38;5;124m'\u001b[39m,\n\u001b[1;32m     12\u001b[0m     color\u001b[38;5;241m=\u001b[39m\u001b[38;5;124m'\u001b[39m\u001b[38;5;124mgreen\u001b[39m\u001b[38;5;124m'\u001b[39m)\n",
      "File \u001b[0;32m~/.virtualenvs/mip-demo-experiment/lib/python3.9/site-packages/psychopy/visual/image.py:96\u001b[0m, in \u001b[0;36mImageStim.__init__\u001b[0;34m(self, win, image, mask, units, pos, size, ori, color, colorSpace, contrast, opacity, depth, interpolate, flipHoriz, flipVert, texRes, name, autoLog, maskParams)\u001b[0m\n\u001b[1;32m     94\u001b[0m \u001b[38;5;28mself\u001b[39m\u001b[38;5;241m.\u001b[39mrgbPedestal \u001b[38;5;241m=\u001b[39m [\u001b[38;5;241m0\u001b[39m, \u001b[38;5;241m0\u001b[39m, \u001b[38;5;241m0\u001b[39m] \u001b[38;5;66;03m# does an rgb pedestal make sense for an image?\u001b[39;00m\n\u001b[1;32m     95\u001b[0m \u001b[38;5;28mself\u001b[39m\u001b[38;5;241m.\u001b[39mcolorSpace \u001b[38;5;241m=\u001b[39m colorSpace  \u001b[38;5;66;03m# omit decorator\u001b[39;00m\n\u001b[0;32m---> 96\u001b[0m \u001b[38;5;28mself\u001b[39m\u001b[38;5;241m.\u001b[39mcolor \u001b[38;5;241m=\u001b[39m color\n\u001b[1;32m     97\u001b[0m \u001b[38;5;28mself\u001b[39m\u001b[38;5;241m.\u001b[39mcontrast \u001b[38;5;241m=\u001b[39m \u001b[38;5;28mfloat\u001b[39m(contrast)\n\u001b[1;32m     98\u001b[0m \u001b[38;5;28mself\u001b[39m\u001b[38;5;241m.\u001b[39mopacity \u001b[38;5;241m=\u001b[39m opacity\n",
      "File \u001b[0;32m~/.virtualenvs/mip-demo-experiment/lib/python3.9/site-packages/psychopy/visual/basevisual.py:521\u001b[0m, in \u001b[0;36mColorMixin.color\u001b[0;34m(self, value)\u001b[0m\n\u001b[1;32m    519\u001b[0m \u001b[38;5;129m@color\u001b[39m\u001b[38;5;241m.\u001b[39msetter\n\u001b[1;32m    520\u001b[0m \u001b[38;5;28;01mdef\u001b[39;00m \u001b[38;5;21mcolor\u001b[39m(\u001b[38;5;28mself\u001b[39m, value):\n\u001b[0;32m--> 521\u001b[0m     \u001b[38;5;28mself\u001b[39m\u001b[38;5;241m.\u001b[39mforeColor \u001b[38;5;241m=\u001b[39m value\n",
      "File \u001b[0;32m~/.virtualenvs/mip-demo-experiment/lib/python3.9/site-packages/psychopy/visual/image.py:277\u001b[0m, in \u001b[0;36mImageStim.foreColor\u001b[0;34m(self, value)\u001b[0m\n\u001b[1;32m    275\u001b[0m ColorMixin\u001b[38;5;241m.\u001b[39mforeColor\u001b[38;5;241m.\u001b[39mfset(\u001b[38;5;28mself\u001b[39m, value)\n\u001b[1;32m    276\u001b[0m \u001b[38;5;66;03m# Reset the image and mask-\u001b[39;00m\n\u001b[0;32m--> 277\u001b[0m \u001b[38;5;28;43mself\u001b[39;49m\u001b[38;5;241;43m.\u001b[39;49m\u001b[43msetImage\u001b[49m\u001b[43m(\u001b[49m\u001b[38;5;28;43mself\u001b[39;49m\u001b[38;5;241;43m.\u001b[39;49m\u001b[43m_imName\u001b[49m\u001b[43m,\u001b[49m\u001b[43m \u001b[49m\u001b[43mlog\u001b[49m\u001b[38;5;241;43m=\u001b[39;49m\u001b[38;5;28;43;01mFalse\u001b[39;49;00m\u001b[43m)\u001b[49m\n\u001b[1;32m    278\u001b[0m \u001b[38;5;28mself\u001b[39m\u001b[38;5;241m.\u001b[39mtexRes \u001b[38;5;241m=\u001b[39m \u001b[38;5;28mself\u001b[39m\u001b[38;5;241m.\u001b[39m\u001b[38;5;18m__dict__\u001b[39m[\u001b[38;5;124m'\u001b[39m\u001b[38;5;124mtexRes\u001b[39m\u001b[38;5;124m'\u001b[39m]\n",
      "File \u001b[0;32m~/.virtualenvs/mip-demo-experiment/lib/python3.9/site-packages/psychopy/visual/image.py:338\u001b[0m, in \u001b[0;36mImageStim.setImage\u001b[0;34m(self, value, log)\u001b[0m\n\u001b[1;32m    334\u001b[0m \u001b[38;5;28;01mdef\u001b[39;00m \u001b[38;5;21msetImage\u001b[39m(\u001b[38;5;28mself\u001b[39m, value, log\u001b[38;5;241m=\u001b[39m\u001b[38;5;28;01mNone\u001b[39;00m):\n\u001b[1;32m    335\u001b[0m     \u001b[38;5;124;03m\"\"\"Usually you can use 'stim.attribute = value' syntax instead,\u001b[39;00m\n\u001b[1;32m    336\u001b[0m \u001b[38;5;124;03m    but use this method if you need to suppress the log message.\u001b[39;00m\n\u001b[1;32m    337\u001b[0m \u001b[38;5;124;03m    \"\"\"\u001b[39;00m\n\u001b[0;32m--> 338\u001b[0m     \u001b[43msetAttribute\u001b[49m\u001b[43m(\u001b[49m\u001b[38;5;28;43mself\u001b[39;49m\u001b[43m,\u001b[49m\u001b[43m \u001b[49m\u001b[38;5;124;43m'\u001b[39;49m\u001b[38;5;124;43mimage\u001b[39;49m\u001b[38;5;124;43m'\u001b[39;49m\u001b[43m,\u001b[49m\u001b[43m \u001b[49m\u001b[43mvalue\u001b[49m\u001b[43m,\u001b[49m\u001b[43m \u001b[49m\u001b[43mlog\u001b[49m\u001b[43m)\u001b[49m\n",
      "File \u001b[0;32m~/.virtualenvs/mip-demo-experiment/lib/python3.9/site-packages/psychopy/tools/attributetools.py:141\u001b[0m, in \u001b[0;36msetAttribute\u001b[0;34m(self, attrib, value, log, operation, stealth)\u001b[0m\n\u001b[1;32m    139\u001b[0m \u001b[38;5;28mself\u001b[39m\u001b[38;5;241m.\u001b[39m\u001b[38;5;18m__dict__\u001b[39m[\u001b[38;5;124m'\u001b[39m\u001b[38;5;124mautoLog\u001b[39m\u001b[38;5;124m'\u001b[39m] \u001b[38;5;241m=\u001b[39m log \u001b[38;5;129;01mor\u001b[39;00m autoLogOrig \u001b[38;5;129;01mand\u001b[39;00m log \u001b[38;5;129;01mis\u001b[39;00m \u001b[38;5;28;01mNone\u001b[39;00m\n\u001b[1;32m    140\u001b[0m \u001b[38;5;66;03m# set attribute, calling attributeSetter if it exists\u001b[39;00m\n\u001b[0;32m--> 141\u001b[0m \u001b[38;5;28;43msetattr\u001b[39;49m\u001b[43m(\u001b[49m\u001b[38;5;28;43mself\u001b[39;49m\u001b[43m,\u001b[49m\u001b[43m \u001b[49m\u001b[43mattrib\u001b[49m\u001b[43m,\u001b[49m\u001b[43m \u001b[49m\u001b[43mvalue\u001b[49m\u001b[43m)\u001b[49m\n\u001b[1;32m    142\u001b[0m \u001b[38;5;66;03m# hack: if attrib was 'autoLog', do not set it back to original value!\u001b[39;00m\n\u001b[1;32m    143\u001b[0m \u001b[38;5;28;01mif\u001b[39;00m attrib \u001b[38;5;241m!=\u001b[39m \u001b[38;5;124m'\u001b[39m\u001b[38;5;124mautoLog\u001b[39m\u001b[38;5;124m'\u001b[39m:\n\u001b[1;32m    144\u001b[0m     \u001b[38;5;66;03m# return autoLog to original\u001b[39;00m\n",
      "File \u001b[0;32m~/.virtualenvs/mip-demo-experiment/lib/python3.9/site-packages/psychopy/tools/attributetools.py:32\u001b[0m, in \u001b[0;36mattributeSetter.__set__\u001b[0;34m(self, obj, value)\u001b[0m\n\u001b[1;32m     31\u001b[0m \u001b[38;5;28;01mdef\u001b[39;00m \u001b[38;5;21m__set__\u001b[39m(\u001b[38;5;28mself\u001b[39m, obj, value):\n\u001b[0;32m---> 32\u001b[0m     newValue \u001b[38;5;241m=\u001b[39m \u001b[38;5;28;43mself\u001b[39;49m\u001b[38;5;241;43m.\u001b[39;49m\u001b[43mfunc\u001b[49m\u001b[43m(\u001b[49m\u001b[43mobj\u001b[49m\u001b[43m,\u001b[49m\u001b[43m \u001b[49m\u001b[43mvalue\u001b[49m\u001b[43m)\u001b[49m\n\u001b[1;32m     33\u001b[0m     \u001b[38;5;66;03m# log=None defaults to obj.autoLog:\u001b[39;00m\n\u001b[1;32m     34\u001b[0m     logAttrib(obj, log\u001b[38;5;241m=\u001b[39m\u001b[38;5;28;01mNone\u001b[39;00m, attrib\u001b[38;5;241m=\u001b[39m\u001b[38;5;28mself\u001b[39m\u001b[38;5;241m.\u001b[39mfunc\u001b[38;5;241m.\u001b[39m\u001b[38;5;18m__name__\u001b[39m,\n\u001b[1;32m     35\u001b[0m               value\u001b[38;5;241m=\u001b[39mvalue)\n",
      "File \u001b[0;32m~/.virtualenvs/mip-demo-experiment/lib/python3.9/site-packages/psychopy/visual/image.py:319\u001b[0m, in \u001b[0;36mImageStim.image\u001b[0;34m(self, value)\u001b[0m\n\u001b[1;32m    317\u001b[0m     \u001b[38;5;28mself\u001b[39m\u001b[38;5;241m.\u001b[39misLumImage \u001b[38;5;241m=\u001b[39m \u001b[38;5;28;01mTrue\u001b[39;00m\n\u001b[1;32m    318\u001b[0m \u001b[38;5;28;01melse\u001b[39;00m:\n\u001b[0;32m--> 319\u001b[0m     \u001b[38;5;28mself\u001b[39m\u001b[38;5;241m.\u001b[39misLumImage \u001b[38;5;241m=\u001b[39m \u001b[38;5;28;43mself\u001b[39;49m\u001b[38;5;241;43m.\u001b[39;49m\u001b[43m_createTexture\u001b[49m\u001b[43m(\u001b[49m\u001b[43mvalue\u001b[49m\u001b[43m,\u001b[49m\u001b[43m \u001b[49m\u001b[38;5;28;43mid\u001b[39;49m\u001b[38;5;241;43m=\u001b[39;49m\u001b[38;5;28;43mself\u001b[39;49m\u001b[38;5;241;43m.\u001b[39;49m\u001b[43m_texID\u001b[49m\u001b[43m,\u001b[49m\n\u001b[1;32m    320\u001b[0m \u001b[43m                                          \u001b[49m\u001b[43mstim\u001b[49m\u001b[38;5;241;43m=\u001b[39;49m\u001b[38;5;28;43mself\u001b[39;49m\u001b[43m,\u001b[49m\n\u001b[1;32m    321\u001b[0m \u001b[43m                                          \u001b[49m\u001b[43mpixFormat\u001b[49m\u001b[38;5;241;43m=\u001b[39;49m\u001b[43mGL\u001b[49m\u001b[38;5;241;43m.\u001b[39;49m\u001b[43mGL_RGB\u001b[49m\u001b[43m,\u001b[49m\n\u001b[1;32m    322\u001b[0m \u001b[43m                                          \u001b[49m\u001b[43mdataType\u001b[49m\u001b[38;5;241;43m=\u001b[39;49m\u001b[43mdatatype\u001b[49m\u001b[43m,\u001b[49m\n\u001b[1;32m    323\u001b[0m \u001b[43m                                          \u001b[49m\u001b[43mmaskParams\u001b[49m\u001b[38;5;241;43m=\u001b[39;49m\u001b[38;5;28;43mself\u001b[39;49m\u001b[38;5;241;43m.\u001b[39;49m\u001b[43mmaskParams\u001b[49m\u001b[43m,\u001b[49m\n\u001b[1;32m    324\u001b[0m \u001b[43m                                          \u001b[49m\u001b[43mforcePOW2\u001b[49m\u001b[38;5;241;43m=\u001b[39;49m\u001b[38;5;28;43;01mFalse\u001b[39;49;00m\u001b[43m,\u001b[49m\n\u001b[1;32m    325\u001b[0m \u001b[43m                                          \u001b[49m\u001b[43mwrapping\u001b[49m\u001b[38;5;241;43m=\u001b[39;49m\u001b[38;5;28;43;01mFalse\u001b[39;49;00m\u001b[43m)\u001b[49m\n\u001b[1;32m    326\u001b[0m \u001b[38;5;66;03m# if user requested size=None then update the size for new stim here\u001b[39;00m\n\u001b[1;32m    327\u001b[0m \u001b[38;5;28;01mif\u001b[39;00m \u001b[38;5;28mhasattr\u001b[39m(\u001b[38;5;28mself\u001b[39m, \u001b[38;5;124m'\u001b[39m\u001b[38;5;124m_requestedSize\u001b[39m\u001b[38;5;124m'\u001b[39m) \u001b[38;5;129;01mand\u001b[39;00m \u001b[38;5;28mself\u001b[39m\u001b[38;5;241m.\u001b[39m_requestedSize \u001b[38;5;129;01mis\u001b[39;00m \u001b[38;5;28;01mNone\u001b[39;00m:\n",
      "File \u001b[0;32m~/.virtualenvs/mip-demo-experiment/lib/python3.9/site-packages/psychopy/visual/basevisual.py:1074\u001b[0m, in \u001b[0;36mTextureMixin._createTexture\u001b[0;34m(self, tex, id, pixFormat, stim, res, maskParams, forcePOW2, dataType, wrapping)\u001b[0m\n\u001b[1;32m   1072\u001b[0m     logging\u001b[38;5;241m.\u001b[39merror(msg \u001b[38;5;241m%\u001b[39m (tex, os\u001b[38;5;241m.\u001b[39mpath\u001b[38;5;241m.\u001b[39mabspath(tex)))\n\u001b[1;32m   1073\u001b[0m     logging\u001b[38;5;241m.\u001b[39mflush()\n\u001b[0;32m-> 1074\u001b[0m     \u001b[38;5;28;01mraise\u001b[39;00m \u001b[38;5;167;01mIOError\u001b[39;00m(msg \u001b[38;5;241m%\u001b[39m (tex, os\u001b[38;5;241m.\u001b[39mpath\u001b[38;5;241m.\u001b[39mabspath(tex)))\n\u001b[1;32m   1075\u001b[0m \u001b[38;5;28;01mtry\u001b[39;00m:\n\u001b[1;32m   1076\u001b[0m     im \u001b[38;5;241m=\u001b[39m Image\u001b[38;5;241m.\u001b[39mopen(filename)\n",
      "\u001b[0;31mOSError\u001b[0m: Couldn't find image face.jpg; check path? (tried: /Users/mknierim/Dropbox/Sync/Work/KIT/01-Teaching/21-MiP/mip-demo-experiment/face.jpg)"
     ]
    }
   ],
   "source": [
    "# Create a window to draw in\n",
    "win = visual.Window(size=(600, 600), color='black')\n",
    "\n",
    "# An image using ImageStim.\n",
    "image = visual.ImageStim(win, image='face.jpg')\n",
    "\n",
    "# We can also use the image as a mask (mask=\"face.jpg\") for other stimuli!\n",
    "grating = visual.GratingStim(win,\n",
    "    pos=(-0.5, 0),\n",
    "    tex='sin',\n",
    "    mask='face.jpg',\n",
    "    color='green')\n",
    "grating.size = (0.5, 0.5)  # attributes can be changed after initialization\n",
    "grating.sf = 1.0\n",
    "\n",
    "# Initiate clock to keep track of time\n",
    "clock = core.Clock()\n",
    "while clock.getTime() < 12 and not event.getKeys():\n",
    "    # Set dynamic attributes. There's a lot of different possibilities.\n",
    "    # so look at the documentation and try playing around here.\n",
    "    grating.phase += 0.01  # Advance phase by 1/100th of a cycle\n",
    "    grating.pos += (0.001, 0)  # Advance on x but not y\n",
    "    image.ori *=  1.01  # Accelerating orientation (1% on every frame)\n",
    "    image.size -= 0.001  # Decrease size uniformly on x and y\n",
    "    if image.opacity >=  0:  # attributes can be referenced\n",
    "        image.opacity -= 0.001  # Decrease opacity\n",
    "\n",
    "    # Show the result of all the above\n",
    "    image.draw()\n",
    "    grating.draw()\n",
    "    win.flip()\n",
    "\n",
    "win.close()\n",
    "core.quit()\n",
    "\n",
    "# The contents of this file are in the public domain.\n",
    "\n"
   ]
  },
  {
   "cell_type": "code",
   "execution_count": null,
   "metadata": {},
   "outputs": [],
   "source": []
  }
 ],
 "metadata": {
  "kernelspec": {
   "display_name": "Python 3 (ipykernel)",
   "language": "python",
   "name": "python3"
  },
  "language_info": {
   "codemirror_mode": {
    "name": "ipython",
    "version": 3
   },
   "file_extension": ".py",
   "mimetype": "text/x-python",
   "name": "python",
   "nbconvert_exporter": "python",
   "pygments_lexer": "ipython3",
   "version": "3.9.5"
  }
 },
 "nbformat": 4,
 "nbformat_minor": 1
}
