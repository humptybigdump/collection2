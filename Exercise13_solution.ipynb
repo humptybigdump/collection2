{
 "cells": [
  {
   "cell_type": "markdown",
   "metadata": {},
   "source": [
    "# Exercise 13.3: Dual Perceptron"
   ]
  },
  {
   "cell_type": "code",
   "execution_count": null,
   "metadata": {
    "ExecuteTime": {
     "end_time": "2023-02-01T10:10:52.925000+01:00",
     "start_time": "2023-02-01T09:10:28.061Z"
    }
   },
   "outputs": [],
   "source": [
    "using Random\n",
    "using Plots\n",
    "using RDatasets\n",
    "using COSMO\n",
    "using JuMP\n",
    "import LinearAlgebra\n",
    "LA = LinearAlgebra"
   ]
  },
  {
   "cell_type": "code",
   "execution_count": null,
   "metadata": {
    "ExecuteTime": {
     "end_time": "2023-02-01T10:11:28.677000+01:00",
     "start_time": "2023-02-01T09:10:28.066Z"
    }
   },
   "outputs": [],
   "source": [
    "# Load the dataset with the iris flowers\n",
    "iris = dataset(\"datasets\", \"iris\")\n",
    "first(iris, 5)"
   ]
  },
  {
   "cell_type": "code",
   "execution_count": null,
   "metadata": {
    "ExecuteTime": {
     "end_time": "2023-02-01T10:11:28.969000+01:00",
     "start_time": "2023-02-01T09:10:28.071Z"
    }
   },
   "outputs": [],
   "source": [
    "# find the indices of the different species\n",
    "setosa_indices = findall(x -> x .== \"setosa\", iris.Species)\n",
    "virginica_indices = findall(x -> x .== \"virginica\", iris.Species);\n",
    "versicolor_indices = findall(x -> x .== \"versicolor\", iris.Species);"
   ]
  },
  {
   "cell_type": "code",
   "execution_count": null,
   "metadata": {
    "ExecuteTime": {
     "end_time": "2023-02-01T10:11:29.495000+01:00",
     "start_time": "2023-02-01T09:10:28.074Z"
    }
   },
   "outputs": [],
   "source": [
    "# combine the species indices\n",
    "species_indices = vcat(virginica_indices, setosa_indices)\n",
    "\n",
    "# create the data matrix containing data from of the features PetalWidth and PetalLength\n",
    "data = Matrix(iris[species_indices,[\"PetalWidth\", \"PetalLength\"]])\n",
    "\n",
    "# create the vector containg the labels of each data point\n",
    "labels = iris[species_indices,[\"Species\"]]\n",
    "\n",
    "# converting the string label into numeric label -1 or 1\n",
    "binary_labels = [x.Species == \"setosa\" ? -1 : 1 for x in eachrow(labels)];"
   ]
  },
  {
   "cell_type": "code",
   "execution_count": null,
   "metadata": {
    "ExecuteTime": {
     "end_time": "2023-02-01T10:11:29.503000+01:00",
     "start_time": "2023-02-01T09:10:28.078Z"
    }
   },
   "outputs": [],
   "source": [
    "# l: labels in -1 and +1 format\n",
    "# x: input data\n",
    "# max_iters: maximum number of iterations within which the algorithm should converge\n",
    "function dual_perceptron(x, l, max_iters)\n",
    "    α = zeros(Int64, size(x)[1])\n",
    "    b = 0.0 \n",
    "    # ================================================================================================\n",
    "    #  Implement the dual Perceptron given in the lecture.\n",
    "    \n",
    "    for iteration in 1:max_iters\n",
    "        # calculate the weights\n",
    "        w = sum([α[j] * l[j] * x[j,:]  for j in 1:size(x)[1]])\n",
    "        \n",
    "        #get indices of wrongly classified data points\n",
    "        indices =  filter( i -> l[i] * (w'x[i,:] + b) <= 0.0 , 1:size(x)[1])\n",
    "        \n",
    "        # break the loop if all data points are properly classified\n",
    "        isempty(indices) ? break :\n",
    "    \n",
    "        # update count and offset for a randomly selected datapoint\n",
    "        index = indices[rand((1 : length(indices)))]\n",
    "        α[index] =  α[index] + 1\n",
    "        b = b + l[index]    \n",
    "    end\n",
    "    # ================================================================================================\n",
    "    return b, α  \n",
    "end;"
   ]
  },
  {
   "cell_type": "code",
   "execution_count": null,
   "metadata": {
    "ExecuteTime": {
     "end_time": "2023-02-01T10:11:30.158000+01:00",
     "start_time": "2023-02-01T09:10:28.081Z"
    }
   },
   "outputs": [],
   "source": [
    "b , α = dual_perceptron( data, binary_labels, 10000)\n",
    "println(\"Total number of updates: \", sum(α))\n",
    "\n",
    "# evaluate weights vector of decision boundary\n",
    "w = sum([α[j] * binary_labels[j] * data[j, :] for j in 1:size(data)[1]]);"
   ]
  },
  {
   "cell_type": "code",
   "execution_count": null,
   "metadata": {
    "ExecuteTime": {
     "end_time": "2023-02-01T10:11:45.577000+01:00",
     "start_time": "2023-02-01T09:10:28.085Z"
    }
   },
   "outputs": [],
   "source": [
    "# plot the datasets\n",
    "Plots.scatter(iris.PetalWidth[setosa_indices], iris.PetalLength[setosa_indices], label=\"setosa\", size = (350, 350))\n",
    "Plots.scatter!(iris.PetalWidth[virginica_indices], iris.PetalLength[virginica_indices], label=\"virginica\")\n",
    "\n",
    "# plot the decision boundary\n",
    "# run the dual_perceptron several times and observe the different decision boundaries!\n",
    "x_axis = collect(0:3)\n",
    "slope = - w[1] / w[2]\n",
    "y_intercept = (-b / w[2]) \n",
    "a =  slope * x_axis .+ y_intercept\n",
    "plot!(x_axis, a, label=\"decision boundary\",  xlabel = \"petal width/cm\", ylabel= \"petal length/cm\", color= :red, legend=:bottomright)\n",
    "ylims!((0,8))"
   ]
  },
  {
   "cell_type": "markdown",
   "metadata": {},
   "source": [
    "# Exercise 13.4: Dual Support Vector Machine"
   ]
  },
  {
   "cell_type": "markdown",
   "metadata": {},
   "source": [
    "\n"
   ]
  },
  {
   "cell_type": "code",
   "execution_count": null,
   "metadata": {
    "ExecuteTime": {
     "end_time": "2023-02-01T10:11:46.719000+01:00",
     "start_time": "2023-02-01T09:10:28.090Z"
    }
   },
   "outputs": [],
   "source": [
    "# define kernel functions\n",
    "\n",
    "function exponential_kernel(x, y; σ::Float64=1.0)\n",
    "    result = exp(-LA.norm(x-y) / (2*σ^2))\n",
    "    return result\n",
    "end\n",
    "\n",
    "\n",
    "# σ: gaussian standard deviation\n",
    "function gaussian_kernel(x, y; σ::Float64=1.0)\n",
    "    # ================================================================================================\n",
    "    #  Implement the Gaussian kernel\n",
    "    result = exp(-LA.norm(x.-y)^2 / (2*σ^2))\n",
    "    # ================================================================================================\n",
    "    return result\n",
    "end\n",
    "\n",
    "function polynomial_kernel(x, y; d=2, α=1., c=1.)\n",
    "    # ================================================================================================\n",
    "    #  Implement the polynomial kernel of degree d\n",
    "    result = ((α.*(y'*x) .+ c).^ d)\n",
    "    # ================================================================================================\n",
    "    return result\n",
    "end"
   ]
  },
  {
   "cell_type": "code",
   "execution_count": null,
   "metadata": {
    "ExecuteTime": {
     "end_time": "2023-02-01T10:11:50.200000+01:00",
     "start_time": "2023-02-01T09:10:28.094Z"
    }
   },
   "outputs": [],
   "source": [
    "# function solving the dual of the hard-margin SVM\n",
    "# l: labels in -1 and +1 format\n",
    "# x: input data\n",
    "# k: Kernel function\n",
    "function svm(x, l; k=dot)\n",
    "    #build Matrix K from kernels and labels\n",
    "    K = zeros(length(l), length(l))\n",
    "    for i = 1:length(l), j=1:length(l)\n",
    "        K[i,j] = l[i]*l[j]*k(x[i,:],x[j,:])\n",
    "    end\n",
    "    \n",
    "    # ensure positive semi-definiteness of K that might be violated by Eigenvalues close to zero \n",
    "    # due to numerical imprecisions\n",
    "    for i = 1:length(l)\n",
    "        K[i,i] += 0.001\n",
    "    end\n",
    "    \n",
    "    # ================================================================================================\n",
    "    # define the objective and constraints of the optimization problem\n",
    "    # solve the optimization problem\n",
    "    model = Model(COSMO.Optimizer);\n",
    "    set_optimizer_attributes(model, \"max_iter\" => 1000000)\n",
    "    @variable(model, μ[1:length(l)]);\n",
    "    @constraint(model, 0 .<= μ);\n",
    "    @constraint(model, μ'*l == 0);\n",
    "    @objective(model, Max, sum(μ) - 0.5 * μ'*K*μ)\n",
    "\n",
    "    optimize!(model)\n",
    "    μval = value.(μ)\n",
    "    # ================================================================================================\n",
    "    \n",
    "    # return the values of the dual variable\n",
    "    return μval\n",
    "end;"
   ]
  },
  {
   "cell_type": "code",
   "execution_count": null,
   "metadata": {
    "ExecuteTime": {
     "end_time": "2023-02-01T10:11:50.312000+01:00",
     "start_time": "2023-02-01T09:10:28.102Z"
    }
   },
   "outputs": [],
   "source": [
    "# Use output of svm() function to classify data points\n",
    "# l: labels in -1 and +1 format\n",
    "# x: training data\n",
    "# y: test data\n",
    "# μ: dual variable\n",
    "# k: Kernel function\n",
    "function svm_classify(y, x, l, μ; k=dot)\n",
    "    A = findall(μ .> 0.0001)\n",
    "    # ================================================================================================\n",
    "    #  Implement the computation of  <w | y> + b \n",
    "    \n",
    "    b = 1/length(A) * sum([l[a] .- sum(l[i]*μ[i]*k(x[i,:],x[a,:]) for i=1:length(l)) for a in A])\n",
    "    result = b\n",
    "\n",
    "    for i=1:length(μ)\n",
    "        result = result .+ μ[i] .* l[i] .* k(x[i,:],y)\n",
    "    end\n",
    "    # ================================================================================================\n",
    "    return result\n",
    "end"
   ]
  },
  {
   "cell_type": "markdown",
   "metadata": {},
   "source": [
    "## Classify Versicolor & Virginica"
   ]
  },
  {
   "cell_type": "code",
   "execution_count": null,
   "metadata": {
    "ExecuteTime": {
     "end_time": "2023-02-01T10:11:50.368000+01:00",
     "start_time": "2023-02-01T09:10:28.105Z"
    }
   },
   "outputs": [],
   "source": [
    "# combine indices of virginica and versicolor species\n",
    "species_indices = vcat(virginica_indices, versicolor_indices)\n",
    "\n",
    "# create the data matrix containing data from virginica and versicolor species\n",
    "# with measured features PetalWidth and PetalLength\n",
    "data = Matrix(iris[species_indices,[\"PetalWidth\", \"PetalLength\"]])\n",
    "\n",
    "# create the vector containg the labels of each data point\n",
    "labels = iris[species_indices,[\"Species\"]]\n",
    "\n",
    "# converting the string label into numeric label -1 or 1\n",
    "binary_labels = [x.Species == \"versicolor\" ? -1 : 1 for x in eachrow(labels)];"
   ]
  },
  {
   "cell_type": "code",
   "execution_count": null,
   "metadata": {
    "ExecuteTime": {
     "end_time": "2023-02-01T10:12:32.281000+01:00",
     "start_time": "2023-02-01T09:10:28.109Z"
    }
   },
   "outputs": [],
   "source": [
    "function gauss_kernel_closure(x,y)\n",
    "    return gaussian_kernel(x, y; σ = 0.7)\n",
    "end\n",
    "\n",
    "function poly_kernel_closure(x, y)\n",
    "    return polynomial_kernel(x,y,d=5)\n",
    "end\n",
    "\n",
    "function exp_kernel_closure(x, y)\n",
    "    return exponential_kernel(x,y,σ = 1.0)\n",
    "end\n",
    "\n",
    "# choose a kernel function\n",
    "#kernel_function = poly_kernel_closure\n",
    "kernel_function = gauss_kernel_closure\n",
    "#kernel_function = exp_kernel_closure\n",
    "\n",
    "# compute the result of the svm\n",
    "μ = svm(data, binary_labels, k=kernel_function);"
   ]
  },
  {
   "cell_type": "code",
   "execution_count": null,
   "metadata": {
    "ExecuteTime": {
     "end_time": "2023-02-01T10:12:32.392000+01:00",
     "start_time": "2023-02-01T09:10:28.111Z"
    }
   },
   "outputs": [],
   "source": [
    "println(\"Number of support vectors: \", sum(μ .> 0.01))"
   ]
  },
  {
   "cell_type": "code",
   "execution_count": null,
   "metadata": {
    "ExecuteTime": {
     "end_time": "2023-02-01T10:12:32.581000+01:00",
     "start_time": "2023-02-01T09:10:28.114Z"
    }
   },
   "outputs": [],
   "source": [
    "# closure for svm_classify to simplify plotting\n",
    "function svm_classify_closure(y1,y2)\n",
    "    return svm_classify([y1,y2], data, binary_labels, μ,  k=kernel_function)\n",
    "end"
   ]
  },
  {
   "cell_type": "code",
   "execution_count": null,
   "metadata": {
    "ExecuteTime": {
     "end_time": "2023-02-01T10:12:55.452000+01:00",
     "start_time": "2023-02-01T09:10:28.118Z"
    }
   },
   "outputs": [],
   "source": [
    "n_points = 50\n",
    "\n",
    "ys = LA.range(2,8,length = n_points)\n",
    "xs = LA.range(0,3,length = n_points)\n",
    "\n",
    "svm_result = [svm_classify_closure(xi,yi) for xi = xs, yi = ys]\n",
    "\n",
    "max_level = max(abs(minimum(svm_result)),abs(maximum(svm_result)))\n",
    "levels = LA.range(-max_level,max_level, length = 20)\n",
    "Plots.contour(xs, ys, svm_classify_closure, fill=true, c=:bluesreds, levels=levels)#, colorbar=:none)# \n",
    "scatter!(iris.PetalWidth[versicolor_indices], iris.PetalLength[versicolor_indices], label=\"versicolor\")\n",
    "scatter!(iris.PetalWidth[virginica_indices], iris.PetalLength[virginica_indices], label=\"virginica\")\n",
    "\n",
    "ylims!((2,8))\n",
    "xlims!((0,3))\n",
    "plot!(size=(500,300), xlabel = \"petal width/cm\", ylabel= \"petal length/cm\",)"
   ]
  },
  {
   "cell_type": "markdown",
   "metadata": {},
   "source": [
    "## SVM self-made"
   ]
  },
  {
   "cell_type": "code",
   "execution_count": null,
   "metadata": {
    "ExecuteTime": {
     "end_time": "2023-02-01T10:12:56.224000+01:00",
     "start_time": "2023-02-01T09:10:28.121Z"
    }
   },
   "outputs": [],
   "source": [
    "include(\"optimization_library.jl\")\n",
    "import ForwardDiff"
   ]
  },
  {
   "cell_type": "code",
   "execution_count": null,
   "metadata": {
    "ExecuteTime": {
     "end_time": "2023-02-01T10:16:02.134000+01:00",
     "start_time": "2023-02-01T09:16:02.122Z"
    }
   },
   "outputs": [],
   "source": [
    "# function solving the dual of the hard-margin SVM\n",
    "# l: labels in -1 and +1 format\n",
    "# x: input data\n",
    "# k: Kernel function\n",
    "function svm_v2(x, l; k=dot)\n",
    "    #build Matrix K from kernels and labels\n",
    "    K = zeros(length(l), length(l))\n",
    "    for i = 1:length(l), j=1:length(l)\n",
    "        K[i,j] = l[i]*l[j]*k(x[i,:],x[j,:])\n",
    "    end\n",
    "    \n",
    "    # ensure positive semi-definiteness of K that might be violated by Eigenvalues close to zero \n",
    "    # due to numerical imprecisions\n",
    "    for i = 1:length(l)\n",
    "        K[i,i] += 0.001\n",
    "    end\n",
    "    \n",
    "    # construct objective function   \n",
    "    f(μ) = -sum(μ) + 0.5 * μ'*K*μ\n",
    "    df(μ) = ForwardDiff.gradient(f,μ)\n",
    "    Hf(μ) = ForwardDiff.hessian(f,μ)\n",
    "    \n",
    "    # construct equality constraints\n",
    "    # since A has to be a matrix in ConstraintElimination_ipm and not a vector we simply duplicate the \n",
    "    # constraints. This is a bit of a dirty hack, sorry... Still, the result is the same!\n",
    "\n",
    "    A = [2 .*l';l']\n",
    "    b = [0,0]\n",
    "    \n",
    "    # construct inequality constraints\n",
    "    n_constr = length(μ)\n",
    "    g_vec = Vector(undef, n_constr)\n",
    "    ∇g_vec = Vector(undef, n_constr)\n",
    "    Hg_vec = Vector(undef, n_constr)\n",
    "\n",
    "    for i in 1:n_constr\n",
    "        g_vec[i] = μ -> -μ[i]\n",
    "        ∇g_vec[i] = μ -> ForwardDiff.gradient(g_vec[i], μ)\n",
    "        Hg_vec[i] = μ -> ForwardDiff.hessian(g_vec[i], μ)\n",
    "    end\n",
    "       \n",
    "    μval, trace = ConstraintElimination_ipm(f,df,Hf,A,b;g=g_vec,dg=∇g_vec,Hg=Hg_vec,eps = 0.0001, barrier_increase = 2.0,\n",
    "                                    maxiters = 100, inner_maxiters = 100)\n",
    "    # return the values of the dual variable\n",
    "    return μval\n",
    "end;"
   ]
  },
  {
   "cell_type": "code",
   "execution_count": null,
   "metadata": {
    "ExecuteTime": {
     "end_time": "2023-02-01T10:17:51.938000+01:00",
     "start_time": "2023-02-01T09:16:03.007Z"
    }
   },
   "outputs": [],
   "source": [
    "# choose a kernel function\n",
    "kernel_function = exp_kernel_closure\n",
    "\n",
    "# compute the result of the svm\n",
    "μ2 = svm_v2(data, binary_labels, k=kernel_function);"
   ]
  },
  {
   "cell_type": "code",
   "execution_count": null,
   "metadata": {
    "ExecuteTime": {
     "end_time": "2023-02-01T10:18:19.477000+01:00",
     "start_time": "2023-02-01T09:18:19.473Z"
    }
   },
   "outputs": [],
   "source": [
    "# closure for svm_classify to simplify plotting\n",
    "function svm_classify_closure(y1,y2)\n",
    "    return svm_classify([y1,y2], data, binary_labels, μ2,  k=kernel_function)\n",
    "end"
   ]
  },
  {
   "cell_type": "code",
   "execution_count": null,
   "metadata": {
    "ExecuteTime": {
     "end_time": "2023-02-01T10:18:38.553000+01:00",
     "start_time": "2023-02-01T09:18:20.159Z"
    }
   },
   "outputs": [],
   "source": [
    "ys = 2.0:0.04:8.0\n",
    "xs = 0.0:0.04:3.0\n",
    "Plots.contour(xs, ys, svm_classify_closure, fill=true, c=:bluesreds)#, colorbar=:none)# levels=[-1,0.5,0,0.5,1])\n",
    "scatter!(iris.PetalWidth[versicolor_indices], iris.PetalLength[versicolor_indices], label=\"versicolor\")\n",
    "scatter!(iris.PetalWidth[virginica_indices], iris.PetalLength[virginica_indices], label=\"virginica\")\n",
    "\n",
    "ylims!((2,8))\n",
    "xlims!((0,3))\n",
    "plot!(size=(500,300), xlabel = \"petal width/cm\", ylabel= \"petal length/cm\",)"
   ]
  },
  {
   "cell_type": "code",
   "execution_count": null,
   "metadata": {
    "ExecuteTime": {
     "end_time": "2023-02-01T10:18:39.993000+01:00",
     "start_time": "2023-02-01T09:18:21.246Z"
    }
   },
   "outputs": [],
   "source": [
    "[μ2 μ]"
   ]
  },
  {
   "cell_type": "code",
   "execution_count": null,
   "metadata": {
    "ExecuteTime": {
     "end_time": "2023-02-01T10:18:40.225000+01:00",
     "start_time": "2023-02-01T09:18:22.902Z"
    }
   },
   "outputs": [],
   "source": [
    "# Deviation between svm and svm_v2\n",
    "sum((μ2-μ) .> 0.1)"
   ]
  },
  {
   "cell_type": "code",
   "execution_count": null,
   "metadata": {},
   "outputs": [],
   "source": []
  }
 ],
 "metadata": {
  "kernelspec": {
   "display_name": "Julia 1.6.3",
   "language": "julia",
   "name": "julia-1.6"
  },
  "language_info": {
   "file_extension": ".jl",
   "mimetype": "application/julia",
   "name": "julia",
   "version": "1.6.3"
  },
  "toc": {
   "base_numbering": 1,
   "nav_menu": {},
   "number_sections": true,
   "sideBar": true,
   "skip_h1_title": false,
   "title_cell": "Table of Contents",
   "title_sidebar": "Contents",
   "toc_cell": false,
   "toc_position": {
    "height": "calc(100% - 180px)",
    "left": "10px",
    "top": "150px",
    "width": "204.417px"
   },
   "toc_section_display": true,
   "toc_window_display": true
  },
  "varInspector": {
   "cols": {
    "lenName": 16,
    "lenType": 16,
    "lenVar": 40
   },
   "kernels_config": {
    "python": {
     "delete_cmd_postfix": "",
     "delete_cmd_prefix": "del ",
     "library": "var_list.py",
     "varRefreshCmd": "print(var_dic_list())"
    },
    "r": {
     "delete_cmd_postfix": ") ",
     "delete_cmd_prefix": "rm(",
     "library": "var_list.r",
     "varRefreshCmd": "cat(var_dic_list()) "
    }
   },
   "types_to_exclude": [
    "module",
    "function",
    "builtin_function_or_method",
    "instance",
    "_Feature"
   ],
   "window_display": false
  }
 },
 "nbformat": 4,
 "nbformat_minor": 4
}
