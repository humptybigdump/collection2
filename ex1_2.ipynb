{
 "cells": [
  {
   "cell_type": "markdown",
   "metadata": {
    "collapsed": true,
    "pycharm": {
     "name": "#%% md\n"
    }
   },
   "source": [
    "# Homework 6, Exercise 1\n",
    "\n",
    "## Lab Instructions\n",
    "All your answers for this exercise should be written in this notebook. You shouldn't need to write or modify any other files.\n",
    "\n",
    "**You should execute every block of code to not miss any dependency.**\n",
    "\n",
    "*This exercise was developed by Maximilian Hüttenrauch for the KIT Cognitive Systems Lecture, July 2020.*"
   ]
  },
  {
   "cell_type": "markdown",
   "metadata": {},
   "source": [
    "## Introduction\n",
    "\n",
    "In this assignment, you will implement code that applies 2D convolution to grayscale images.\n",
    "\n",
    "### Hints\n",
    "- Be careful with indexing. I(x, y) -> x increases to the right, y increases down but numpy indexing is row column\n",
    "- A fast implementation is better than a slow implementation (although gives same points), a slow implementation is\n",
    "better than no implementation\n",
    "- When implementing the padding functions it can be useful to differentiate between cases where no padding is needed\n",
    "- For the Gaussian kernel function look at $\\texttt{np.arange}$ and $\\texttt{np.meshgrid}$"
   ]
  },
  {
   "cell_type": "code",
   "execution_count": null,
   "metadata": {
    "pycharm": {
     "name": "#%%\n"
    }
   },
   "outputs": [],
   "source": [
    "import numpy as np\n",
    "import matplotlib.pyplot as plt\n",
    "# %matplotlib auto"
   ]
  },
  {
   "cell_type": "markdown",
   "metadata": {
    "pycharm": {
     "name": "#%% md\n"
    }
   },
   "source": [
    "We will do manipulations on the following image."
   ]
  },
  {
   "cell_type": "code",
   "execution_count": null,
   "metadata": {
    "pycharm": {
     "name": "#%%\n"
    }
   },
   "outputs": [],
   "source": [
    "image = plt.imread(\"ex1/gauss.jpg\").dot([0.07, 0.72, 0.21]) / 255\n",
    "\n",
    "plt.figure(figsize=(9, 24))\n",
    "plt.imshow(image, cmap=\"gray\")\n",
    "plt.show()"
   ]
  },
  {
   "cell_type": "code",
   "execution_count": null,
   "metadata": {
    "pycharm": {
     "name": "#%%\n"
    }
   },
   "outputs": [],
   "source": [
    "def conv2d(i, f, padding=None):\n",
    "    \"\"\"\n",
    "    Perform 2D convolution on image i using kernel f\n",
    "    :param i: A grayscale image\n",
    "    :param f: A filter kernel\n",
    "    :param padding: How to treat image boundaries.\n",
    "            Accepted values: None -> no padding (default),\n",
    "                            \"zero\" -> zero padding\n",
    "                            \"extend\" -> nearest boundary pixel\n",
    "    :return: image after convolution\n",
    "    \"\"\"\n",
    "    r_i, c_i = i.shape\n",
    "    r_f, c_f = f.shape\n",
    "\n",
    "    if padding == \"zero\":\n",
    "        \"\"\"Exercise 1e)\"\"\"\n",
    "        pass  # replace this line with your code\n",
    "    elif padding == \"extend\":\n",
    "        \"\"\"Exercise 1f)\"\"\"\n",
    "        pass  # replace this line with your code\n",
    "    else:\n",
    "        pass  # no padding\n",
    "\n",
    "    out_r = r_i  # this needs to be changed\n",
    "    out_c = c_i  # this needs to be changed\n",
    "    out = np.zeros(shape=(out_r, out_c))\n",
    "\n",
    "    \"\"\"Exercise 1c)\"\"\"\n",
    "    # implement 2d convolution here\n",
    "\n",
    "    return out"
   ]
  },
  {
   "cell_type": "markdown",
   "metadata": {},
   "source": [
    "## 1 g) Gaussian smoothing"
   ]
  },
  {
   "cell_type": "code",
   "execution_count": null,
   "metadata": {
    "pycharm": {
     "name": "#%%\n"
    }
   },
   "outputs": [],
   "source": [
    "def gauss_filter(s, sigma):\n",
    "    \"\"\"\n",
    "    Create a Gaussian blur filter of size s with bandwidth parameter sigma\n",
    "    :param s: Filter size (should be uneven)\n",
    "    :param sigma: Bandwidth of the Gaussian\n",
    "    :return:\n",
    "    \"\"\"\n",
    "    filt = np.ones(shape=(s, s))  # this needs to be changed\n",
    "    return filt / np.sum(filt)\n"
   ]
  },
  {
   "cell_type": "markdown",
   "metadata": {},
   "source": [
    "## 1 d) Image gradient"
   ]
  },
  {
   "cell_type": "code",
   "execution_count": null,
   "metadata": {
    "pycharm": {
     "name": "#%%\n"
    }
   },
   "outputs": [],
   "source": [
    "h_x = np.array([(-1, 1)])\n",
    "h_y = h_x.T\n",
    "\n",
    "i_grad_x = conv2d(image, h_x)\n",
    "\n",
    "i_grad_y = conv2d(image, h_y)\n",
    "\n",
    "fig, ax = plt.subplots(1, 2, figsize=(18, 16))\n",
    "ax[0].set_title(\"Gradient in x\")\n",
    "ax[0].imshow(i_grad_x / i_grad_x.max(), cmap=\"gray\")\n",
    "ax[1].set_title(\"Gradient in y\")\n",
    "ax[1].imshow(i_grad_y / i_grad_y.max(), cmap=\"gray\")\n",
    "\n",
    "\n",
    "grad_image = np.sqrt(i_grad_x ** 2 + i_grad_y ** 2)  # this is supposed to fail"
   ]
  },
  {
   "cell_type": "markdown",
   "metadata": {
    "pycharm": {
     "name": "#%% md\n"
    }
   },
   "source": [
    "Why is the computation of the magnitude failing?\n"
   ]
  },
  {
   "cell_type": "markdown",
   "metadata": {},
   "source": [
    "## 1 e) Image gradient with zero padding"
   ]
  },
  {
   "cell_type": "code",
   "execution_count": null,
   "metadata": {
    "pycharm": {
     "name": "#%%\n"
    }
   },
   "outputs": [],
   "source": [
    "h_x = np.array([(-1, 0, 1)])\n",
    "h_y = h_x.T\n",
    "\n",
    "i_grad_x_pad_0 = conv2d(image, h_x, padding=\"zero\")\n",
    "\n",
    "i_grad_y_pad_0 = conv2d(image, h_y, padding=\"zero\")\n",
    "\n",
    "grad_image_pad_0 = np.sqrt(i_grad_x_pad_0 ** 2 + i_grad_y_pad_0 ** 2)\n",
    "\n",
    "fig, ax = plt.subplots(1, 3, figsize=(18, 16))\n",
    "ax[0].set_title(\"Gradient in x\")\n",
    "ax[0].imshow(i_grad_x_pad_0 / i_grad_x_pad_0.max(), cmap=\"gray\")\n",
    "ax[1].set_title(\"Gradient in y\")\n",
    "ax[1].imshow(i_grad_y_pad_0 / i_grad_y_pad_0.max(), cmap=\"gray\")\n",
    "ax[2].set_title(\"Magnitude of gradient\")\n",
    "ax[2].imshow(grad_image_pad_0 / grad_image_pad_0.max(), cmap=\"gray\")"
   ]
  },
  {
   "cell_type": "markdown",
   "metadata": {},
   "source": [
    "## 1 f) Image gradient with extended padding"
   ]
  },
  {
   "cell_type": "code",
   "execution_count": null,
   "metadata": {
    "pycharm": {
     "name": "#%%\n"
    }
   },
   "outputs": [],
   "source": [
    "h_x = np.array([(1, 0, -1)])\n",
    "h_y = h_x.T\n",
    "\n",
    "i_grad_x_pad_extend = conv2d(image, h_x, padding=\"extend\")\n",
    "\n",
    "i_grad_y_pad_extend = conv2d(image, h_y, padding=\"extend\")\n",
    "\n",
    "grad_image_pad_extend = np.sqrt(i_grad_x_pad_extend ** 2 + i_grad_y_pad_extend ** 2)\n",
    "\n",
    "fig, ax = plt.subplots(1, 3, figsize=(18, 16))\n",
    "ax[0].set_title(\"Gradient in x\")\n",
    "ax[0].imshow(i_grad_x_pad_extend / i_grad_x_pad_extend.max(), cmap=\"gray\")\n",
    "ax[1].set_title(\"Gradient in y\")\n",
    "ax[1].imshow(i_grad_y_pad_extend / i_grad_y_pad_extend.max(), cmap=\"gray\")\n",
    "ax[2].set_title(\"Magnitude of gradient\")\n",
    "ax[2].imshow(grad_image_pad_extend / grad_image_pad_extend.max(), cmap=\"gray\")"
   ]
  },
  {
   "cell_type": "markdown",
   "metadata": {},
   "source": [
    "## 1 g) Gaussian smoothing"
   ]
  },
  {
   "cell_type": "code",
   "execution_count": null,
   "metadata": {
    "pycharm": {
     "name": "#%%\n"
    }
   },
   "outputs": [],
   "source": [
    "h1 = gauss_filter(3, 0.1)\n",
    "h2 = gauss_filter(5, 0.1)\n",
    "h3 = gauss_filter(9, 0.1)\n",
    "h4 = gauss_filter(3, 1)\n",
    "h5 = gauss_filter(5, 1)\n",
    "h6 = gauss_filter(9, 1)\n",
    "h7 = gauss_filter(3, 10)\n",
    "h8 = gauss_filter(5, 10)\n",
    "h9 = gauss_filter(9, 10)\n",
    "\n",
    "i_conv_h1 = conv2d(image, h1, padding=\"extend\")\n",
    "i_conv_h2 = conv2d(image, h2, padding=\"extend\")\n",
    "i_conv_h3 = conv2d(image, h3, padding=\"extend\")\n",
    "i_conv_h4 = conv2d(image, h4, padding=\"extend\")\n",
    "i_conv_h5 = conv2d(image, h5, padding=\"extend\")\n",
    "i_conv_h6 = conv2d(image, h6, padding=\"extend\")\n",
    "i_conv_h7 = conv2d(image, h7, padding=\"extend\")\n",
    "i_conv_h8 = conv2d(image, h8, padding=\"extend\")\n",
    "i_conv_h9 = conv2d(image, h9, padding=\"extend\")"
   ]
  },
  {
   "cell_type": "code",
   "execution_count": null,
   "metadata": {
    "pycharm": {
     "name": "#%%\n"
    }
   },
   "outputs": [],
   "source": [
    "fig, ax = plt.subplots(3, 3, figsize=(18, 24))\n",
    "ax[0, 0].set_title(\"size = 3, sigma = 2\")\n",
    "ax[0, 0].imshow(i_conv_h1 / i_conv_h1.max(), cmap=\"gray\")\n",
    "ax[0, 1].set_title(\"size = 3, sigma = 5\")\n",
    "ax[0, 1].imshow(i_conv_h2 / i_conv_h2.max(), cmap=\"gray\")\n",
    "ax[0, 2].set_title(\"size = 3, sigma = 10\")\n",
    "ax[0, 2].imshow(i_conv_h3 / i_conv_h3.max(), cmap=\"gray\")\n",
    "ax[1, 0].set_title(\"size = 5, sigma = 2\")\n",
    "ax[1, 0].imshow(i_conv_h4 / i_conv_h4.max(), cmap=\"gray\")\n",
    "ax[1, 1].set_title(\"size = 5, sigma = 5\")\n",
    "ax[1, 1].imshow(i_conv_h5 / i_conv_h5.max(), cmap=\"gray\")\n",
    "ax[1, 2].set_title(\"size = 5, sigma = 10\")\n",
    "ax[1, 2].imshow(i_conv_h6 / i_conv_h6.max(), cmap=\"gray\")\n",
    "ax[2, 0].set_title(\"size = 9, sigma = 2\")\n",
    "ax[2, 0].imshow(i_conv_h7 / i_conv_h7.max(), cmap=\"gray\")\n",
    "ax[2, 1].set_title(\"size = 9, sigma = 5\")\n",
    "ax[2, 1].imshow(i_conv_h8 / i_conv_h8.max(), cmap=\"gray\")\n",
    "ax[2, 2].set_title(\"size = 9, sigma = 10\")\n",
    "ax[2, 2].imshow(i_conv_h9 / i_conv_h9.max(), cmap=\"gray\")"
   ]
  },
  {
   "cell_type": "markdown",
   "metadata": {
    "pycharm": {
     "name": "#%% md\n"
    }
   },
   "source": [
    "## 1 h) Image gradient of smoothed image"
   ]
  },
  {
   "cell_type": "code",
   "execution_count": null,
   "metadata": {
    "pycharm": {
     "name": "#%%\n"
    }
   },
   "outputs": [],
   "source": [
    "h_x = np.array([(1, 0, -1)])\n",
    "h_y = h_x.T\n",
    "\n",
    "i_conv_h_grad_x = conv2d(i_conv_h5, h_x, padding=\"extend\")\n",
    "i_conv_h_grad_y = conv2d(i_conv_h5, h_y, padding=\"extend\")\n",
    "\n",
    "grad_image_blur = np.sqrt(i_conv_h_grad_x ** 2 + i_conv_h_grad_y ** 2)\n",
    "\n",
    "fig, ax = plt.subplots(1, 3, figsize=(18, 16))\n",
    "ax[0].set_title(\"Original image\")\n",
    "ax[0].imshow(image, cmap=\"gray\")\n",
    "ax[1].set_title(\"Magnitude of gradient without smoothing\")\n",
    "ax[1].imshow(grad_image_pad_extend / grad_image_pad_extend.max(), cmap=\"gray\")\n",
    "ax[2].set_title(\"Magnitude of gradient with smoothing\")\n",
    "ax[2].imshow(grad_image_blur / grad_image_blur.max(), cmap=\"gray\")\n"
   ]
  },
  {
   "cell_type": "markdown",
   "metadata": {
    "pycharm": {
     "name": "#%% md\n"
    }
   },
   "source": [
    "Observations:"
   ]
  }
 ],
 "metadata": {
  "kernelspec": {
   "display_name": "Python 3",
   "language": "python",
   "name": "python3"
  },
  "language_info": {
   "codemirror_mode": {
    "name": "ipython",
    "version": 3
   },
   "file_extension": ".py",
   "mimetype": "text/x-python",
   "name": "python",
   "nbconvert_exporter": "python",
   "pygments_lexer": "ipython3",
   "version": "3.6.9"
  }
 },
 "nbformat": 4,
 "nbformat_minor": 1
}
