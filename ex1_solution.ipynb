{
 "cells": [
  {
   "cell_type": "markdown",
   "metadata": {
    "collapsed": true,
    "pycharm": {
     "name": "#%% md\n"
    }
   },
   "source": [
    "# Exercise 1, Mini Image Classifier, 28P(oints)\n",
    "\n",
    "## Lab Instructions\n",
    "All your answers of this exercise should be written **in this notebook**.\n",
    "You shouldn't need to write or modify any other files.\n",
    "\n",
    "**You should execute every block of code to not miss any dependency. For the\n",
    "training tasks, your notebook should contain the classification accuracy (the\n",
    " figures are NOT necessary however).\n",
    " Please DO NOT clear the notebook output when you submit it.\n",
    " Please DO NOT upload the dataset when you submit your homework.**\n",
    "\n",
    "This exercise was developed by Ge Li for the KIT Cognitive Systems Lecture,\n",
    "July 2021.\n",
    "\n",
    "## Task instructions:\n",
    "In this jupyter notebook, you are going to define multiple **Image\n",
    "classifiers** with different structures. Read the instruction and example code\n",
    "carefully and finish the tasks. You can run the training procedure and\n",
    "thereby verify your computation and implementation.<br>\n",
    "\n",
    "Detailed instructions:\n",
    "\n",
    "0. You need to install torch and torchvision to run this notebook. E.g. if you\n",
    " use pip as the package manager, run \"pip3 install torch torchvision\".\n",
    "  You need to install tqdm for visualize process-bar and matplotlib to visualize\n",
    " figure, run \"pip3 install tqdm matplotlib\".  \n",
    " You do not need a GPU to train.<br><br>\n",
    "\n",
    "1. The dataset you are working with is CIFAR-10 dataset. The code in the file\n",
    "**data_loader.py** will download and manage this dataset for you. You do not\n",
    " need to write any code for it.<br><br>\n",
    "\n",
    "2. The deep learning platform you are working with is PyTorch. In the scope of\n",
    "this homework, you can learn the fundamental knowledge from the instructions.\n",
    " You don't have to spend much time on external materials / tutorials.<br><br>\n",
    "\n",
    "3. In this notebook, you will focus on the Neural Network models for image\n",
    "classification. A classifier with fully connected layers is given as an\n",
    "example. This example mainly contains two parts: a **constructor** in which\n",
    "all the layers to be used are initialized (except activation function), and a\n",
    "**forward** function, where\n",
    "forward pass process of the network is defined. In PyTorch, once the forward\n",
    "function of a network is\n",
    "given, the gradient of the loss function with respect to the network\n",
    "parameters can be automatically computed and back-propagated.<br><br>\n",
    "\n",
    "4. In your model's constructor, you may need to call these functions:\n",
    "    - Define fully connected layers: **nn.Linear(in_features, out_features)**,\n",
    "such as: nn.Linear(64, 10)\n",
    "    - Define 2-D convolutional layers: **nn.Conv2d(in_channels, out_channels,\n",
    "kernel_size)**, such as: nn.Conv2d(8, 16, 5)\n",
    "    - Define max-pooling layers: **nn.MaxPool2d(kernel_size, stride)**, such as:\n",
    "nn.MaxPool2d(2, 2)<br><br>\n",
    "\n",
    "5. In your model's forward function, you may need to call these functions:\n",
    "    - Flatten the 3rd order tensor to 1st order tensor: e.g. **x = torch\n",
    "    .flatten(x, 1)**\n",
    "    - Relu activation function: e.g. **x = F.relu(x)**<br><br>\n",
    "\n",
    "6. All the training and plotting related code are offered in the\n",
    "file **fit.py**. The contents can\n",
    "be described in the pseudo code below, which is also a common workflow\n",
    "in deep learning. <br>\n",
    "    - Get train, valid and test data-loader to load data from dataset.\n",
    "    - Initialize the loss function and optimizer for parameters' updating.\n",
    "    - Loop in epochs:\n",
    "        - Loop in batch of training dataset:\n",
    "            - Compute the output using forward function\n",
    "            - Compute the loss using output and labels\n",
    "            - Applying back-propagation and update network parameters\n",
    "            - Record the training loss\n",
    "        - Loop in batch of validation dataset:\n",
    "            - Compute the output using forward function\n",
    "            - Compute the loss using output and labels\n",
    "            - Record the validation loss\n",
    "        - Plotting the training and validation loss for each epoch.\n",
    "        - save model's parameters if the model achieves a better performance\n",
    "        - break the loop (early stopping) if the validation loss keeps\n",
    "        increasing.\n",
    "    - Apply the model with the best parameters to the test dataset and get the\n",
    "    result (classification accuracy).\n",
    "<br><br>"
   ]
  },
  {
   "cell_type": "code",
   "execution_count": 1,
   "metadata": {
    "pycharm": {
     "is_executing": true,
     "name": "#%%\n"
    },
    "scrolled": true
   },
   "outputs": [
    {
     "name": "stdout",
     "output_type": "stream",
     "text": [
      "cpu\n"
     ]
    }
   ],
   "source": [
    "# DO NOT MODIFY THIS BLOCK\n",
    "# DO NOT MODIFY THIS BLOCK\n",
    "# DO NOT MODIFY THIS BLOCK\n",
    "\n",
    "# Import Python libs\n",
    "import torch\n",
    "import torch.nn as nn\n",
    "import torch.nn.functional as F\n",
    "from ex1.fitit import fit\n",
    "\n",
    "# Fix random seed to make sure the result in your computer is reproducible\n",
    "torch.manual_seed(0)\n",
    "\n",
    "# Max training epochs\n",
    "max_epochs = 100\n",
    "device = 'cuda' if torch.cuda.is_available() else 'cpu'\n",
    "print(device)"
   ]
  },
  {
   "cell_type": "code",
   "execution_count": 2,
   "metadata": {},
   "outputs": [],
   "source": [
    "def print_output_size(self, input, output):\n",
    "    # input is a tuple of packed inputs\n",
    "    # output is a Tensor. output.data is the Tensor we are interested\n",
    "    \n",
    "    print('')\n",
    "    print('input size:', input[0].size())\n",
    "    print('output size:', output.data.size())\n",
    "    print('')\n"
   ]
  },
  {
   "cell_type": "markdown",
   "metadata": {
    "pycharm": {
     "name": "#%% md\n"
    }
   },
   "source": [
    "### Task a)\n",
    "- Read the implementation of fully connected layers classifier, then run the\n",
    "cell afterwards to train this classifier. The training result will be shown\n",
    "automatically."
   ]
  },
  {
   "cell_type": "code",
   "execution_count": 3,
   "metadata": {
    "pycharm": {
     "is_executing": true,
     "name": "#%%\n"
    }
   },
   "outputs": [],
   "source": [
    "# DO NOT MODIFY THIS BLOCK\n",
    "# DO NOT MODIFY THIS BLOCK\n",
    "# DO NOT MODIFY THIS BLOCK\n",
    "\n",
    "class FCLayersNet(nn.Module):\n",
    "    \"\"\"\n",
    "    Image classifier using fully connected layers\n",
    "    \"\"\"\n",
    "\n",
    "    def __init__(self):\n",
    "        \"\"\"\n",
    "        Model Constructor, Initialize all the layers to be used\n",
    "        \"\"\"\n",
    "        super(FCLayersNet, self).__init__()\n",
    "        self.fc1 = nn.Linear(32 * 32 * 3, 1024)\n",
    "        self.fc2 = nn.Linear(1024, 256)\n",
    "        self.fc3 = nn.Linear(256, 64)\n",
    "        self.fc4 = nn.Linear(64, 10)\n",
    "\n",
    "    def forward(self, x):\n",
    "        \"\"\"\n",
    "        This function defines the forward pass of this net model.\n",
    "        Once this function is defined, the gradient back-propagation can be\n",
    "        automatically computed by PyTorch.\n",
    "\n",
    "        :param x: input data of this model\n",
    "        :return: output data of this model\n",
    "        \"\"\"\n",
    "        # The original data is 3rd order tensor, we need to flatten it to 1st\n",
    "        # order tensor, as the input of the fully connected layer.\n",
    "        x = torch.flatten(x, 1)\n",
    "\n",
    "        # The data pass through the fully connected layers one after another\n",
    "        x = self.fc1(x)\n",
    "        x = F.relu(x)\n",
    "\n",
    "        x = self.fc2(x)\n",
    "        x = F.relu(x)\n",
    "\n",
    "        x = self.fc3(x)\n",
    "        x = F.relu(x)\n",
    "\n",
    "        x = self.fc4(x)\n",
    "\n",
    "        return x"
   ]
  },
  {
   "cell_type": "markdown",
   "metadata": {
    "pycharm": {
     "name": "#%% md\n"
    }
   },
   "source": [
    "- Run next cell and see the training progress and results."
   ]
  },
  {
   "cell_type": "code",
   "execution_count": 4,
   "metadata": {
    "pycharm": {
     "is_executing": true,
     "name": "#%%\n"
    },
    "scrolled": false
   },
   "outputs": [
    {
     "name": "stderr",
     "output_type": "stream",
     "text": [
      "FCLayersNet Training:   8%| | 8/100 [01:24<16:13, 10.58s/Epoch, train_loss=0.867\n"
     ]
    },
    {
     "data": {
      "image/png": "[encoded data removed]",
      "text/plain": [
       "<Figure size 432x288 with 1 Axes>"
      ]
     },
     "metadata": {
      "needs_background": "light"
     },
     "output_type": "display_data"
    },
    {
     "name": "stdout",
     "output_type": "stream",
     "text": [
      "Finished Training.\n",
      "Accuracy of the network on the 10000 test images: 53.64 %\n"
     ]
    }
   ],
   "source": [
    "# Run me\n",
    "%matplotlib inline\n",
    "fc_net = FCLayersNet().to(device)\n",
    "fit(fc_net, max_epochs, device, early_stop=True)"
   ]
  },
  {
   "cell_type": "markdown",
   "metadata": {
    "pycharm": {
     "name": "#%% md\n"
    }
   },
   "source": [
    "### Task b)"
   ]
  },
  {
   "cell_type": "markdown",
   "metadata": {},
   "source": [
    "- Finish the implementation:"
   ]
  },
  {
   "cell_type": "code",
   "execution_count": 13,
   "metadata": {
    "pycharm": {
     "is_executing": true,
     "name": "#%%\n"
    }
   },
   "outputs": [],
   "source": [
    "# TODO: PLEASE FINISH THE IMPLEMENTATION IN THIS BLOCK\n",
    "# TODO: PLEASE FINISH THE IMPLEMENTATION IN THIS BLOCK\n",
    "# TODO: PLEASE FINISH THE IMPLEMENTATION IN THIS BLOCK\n",
    "\n",
    "class ConvLayersNet(nn.Module):\n",
    "    \"\"\"\n",
    "    Image classifier using convolutional layers\n",
    "    \"\"\"\n",
    "\n",
    "    def __init__(self, print_size=False):\n",
    "        \"\"\"\n",
    "        Model Constructor, Initialize all the layers to be used\n",
    "        \"\"\"\n",
    "        super(ConvLayersNet, self).__init__()\n",
    "        ########   Your code begins here   ########\n",
    "        self.conv1 = nn.Conv2d(3, 8, 5)\n",
    "        self.conv2 = nn.Conv2d(8, 16, 3)\n",
    "        self.conv3 = nn.Conv2d(16, 32, 3)\n",
    "        self.fc1 = nn.Linear(32 * 24 * 24, 10)\n",
    "        ########   Your code ends here   ########\n",
    "        \n",
    "        if print_size:\n",
    "            self.conv1.register_forward_hook(print_output_size)\n",
    "            self.conv2.register_forward_hook(print_output_size)\n",
    "            self.conv3.register_forward_hook(print_output_size)\n",
    "            self.fc1.register_forward_hook(print_output_size)\n",
    "\n",
    "    def forward(self, x):\n",
    "        \"\"\"\n",
    "        This function defines the forward pass of this net model.\n",
    "        Once this function is defined, the gradient back-propagation can be\n",
    "        automatically computed by PyTorch.\n",
    "\n",
    "        :param x: input data of this model\n",
    "        :return: output data of this model\n",
    "        \"\"\"\n",
    "        ########   Your code begins here   ########\n",
    "        x = self.conv1(x)\n",
    "        x = F.relu(x)\n",
    "\n",
    "        x = self.conv2(x)\n",
    "        x = F.relu(x)\n",
    "\n",
    "        x = self.conv3(x)\n",
    "        x = F.relu(x)\n",
    "\n",
    "        # The original data is 3rd order tensor, we need to flatten it to 1st\n",
    "        # order tensor, as the input of the fully connected layer.\n",
    "        x = torch.flatten(x, 1)\n",
    "\n",
    "        x = self.fc1(x)\n",
    "        ########   Your code ends here   ########\n",
    "        return x\n",
    "    \n"
   ]
  },
  {
   "cell_type": "markdown",
   "metadata": {
    "pycharm": {
     "name": "#%% md\n"
    }
   },
   "source": [
    "- Run next cell and see the training progress and results."
   ]
  },
  {
   "cell_type": "code",
   "execution_count": 14,
   "metadata": {},
   "outputs": [
    {
     "name": "stdout",
     "output_type": "stream",
     "text": [
      "\n",
      "input size: torch.Size([1, 3, 32, 32])\n",
      "output size: torch.Size([1, 8, 28, 28])\n",
      "\n",
      "\n",
      "input size: torch.Size([1, 8, 28, 28])\n",
      "output size: torch.Size([1, 16, 26, 26])\n",
      "\n",
      "\n",
      "input size: torch.Size([1, 16, 26, 26])\n",
      "output size: torch.Size([1, 32, 24, 24])\n",
      "\n",
      "\n",
      "input size: torch.Size([1, 18432])\n",
      "output size: torch.Size([1, 10])\n",
      "\n"
     ]
    },
    {
     "data": {
      "text/plain": [
       "tensor([[-0.0076,  0.0343,  0.0102,  0.0239,  0.0138,  0.0101, -0.0208,  0.0069,\n",
       "          0.0095,  0.0147]], grad_fn=<AddmmBackward0>)"
      ]
     },
     "execution_count": 14,
     "metadata": {},
     "output_type": "execute_result"
    }
   ],
   "source": [
    "dummy_input = torch.zeros((1, 3, 32, 32))\n",
    "conv_net = ConvLayersNet(print_size=True).to(device)\n",
    "conv_net.forward(dummy_input)"
   ]
  },
  {
   "cell_type": "code",
   "execution_count": 15,
   "metadata": {
    "pycharm": {
     "is_executing": true,
     "name": "#%%\n"
    },
    "scrolled": false
   },
   "outputs": [
    {
     "name": "stderr",
     "output_type": "stream",
     "text": [
      "ConvLayersNet Training:  17%|▏| 17/100 [04:32<22:12, 16.05s/Epoch, train_loss=0.\n"
     ]
    },
    {
     "data": {
      "image/png": "[encoded data removed]",
      "text/plain": [
       "<Figure size 432x288 with 1 Axes>"
      ]
     },
     "metadata": {
      "needs_background": "light"
     },
     "output_type": "display_data"
    },
    {
     "name": "stdout",
     "output_type": "stream",
     "text": [
      "Finished Training.\n",
      "Accuracy of the network on the 10000 test images: 60.39 %\n"
     ]
    }
   ],
   "source": [
    "# Run me\n",
    "%matplotlib inline\n",
    "conv_net = ConvLayersNet().to(device)\n",
    "fit(conv_net, max_epochs, device, early_stop=True)"
   ]
  },
  {
   "cell_type": "markdown",
   "metadata": {},
   "source": [
    "### Task c)"
   ]
  },
  {
   "cell_type": "markdown",
   "metadata": {},
   "source": [
    "- Recall the knowledge in Cognitive system lecture, what kind of benefits can\n",
    "we expect when applying max-pooling layer in CNNs?<br>"
   ]
  },
  {
   "cell_type": "markdown",
   "metadata": {},
   "source": [
    "- Finish the implementation:"
   ]
  },
  {
   "cell_type": "code",
   "execution_count": 16,
   "metadata": {
    "pycharm": {
     "is_executing": true,
     "name": "#%%\n"
    }
   },
   "outputs": [],
   "source": [
    "# TODO: PLEASE FINISH THE IMPLEMENTATION IN THIS BLOCK\n",
    "# TODO: PLEASE FINISH THE IMPLEMENTATION IN THIS BLOCK\n",
    "# TODO: PLEASE FINISH THE IMPLEMENTATION IN THIS BLOCK\n",
    "\n",
    "class CNN(nn.Module):\n",
    "    \"\"\"\n",
    "    Image classifier using CNNs with more channels.\n",
    "    \"\"\"\n",
    "\n",
    "    def __init__(self, print_size=False):\n",
    "        \"\"\"\n",
    "        Model Constructor, Initialize all the layers to be used\n",
    "        \"\"\"\n",
    "        super(CNN, self).__init__()\n",
    "        ########   Your code begins here   ########\n",
    "        self.conv1 = nn.Conv2d(3, 8, 5)\n",
    "        self.conv2 = nn.Conv2d(8, 16, 3)\n",
    "        self.conv3 = nn.Conv2d(16, 32, 3)\n",
    "        self.max_pool = nn.MaxPool2d(2, 2)\n",
    "        self.fc1 = nn.Linear(32 * 2 * 2, 10)\n",
    "        ########   Your code ends here   ########\n",
    "        \n",
    "        if print_size:\n",
    "            self.conv1.register_forward_hook(print_output_size)\n",
    "            self.conv2.register_forward_hook(print_output_size)\n",
    "            self.conv3.register_forward_hook(print_output_size)\n",
    "            self.max_pool.register_forward_hook(print_output_size)\n",
    "            self.fc1.register_forward_hook(print_output_size)\n",
    "\n",
    "    def forward(self, x):\n",
    "        \"\"\"\n",
    "        This function defines the forward pass of this net model.\n",
    "        Once this function is defined, the gradient back-propagation can be\n",
    "        automatically computed by PyTorch.\n",
    "\n",
    "        :param x: input data of this model\n",
    "        :return: output data of this model\n",
    "        \"\"\"\n",
    "        ########   Your code begins here   ########\n",
    "        x = self.conv1(x)\n",
    "        x = F.relu(x)\n",
    "        x = self.max_pool(x)\n",
    "\n",
    "        x = self.conv2(x)\n",
    "        x = F.relu(x)\n",
    "        x = self.max_pool(x)\n",
    "        \n",
    "        x = self.conv3(x)\n",
    "        x = F.relu(x)\n",
    "        x = self.max_pool(x)\n",
    "\n",
    "        x = torch.flatten(x, 1)\n",
    "\n",
    "        x = self.fc1(x)\n",
    "        ########   Your code ends here   ########\n",
    "        return x"
   ]
  },
  {
   "cell_type": "code",
   "execution_count": 17,
   "metadata": {
    "scrolled": false
   },
   "outputs": [
    {
     "name": "stdout",
     "output_type": "stream",
     "text": [
      "\n",
      "input size: torch.Size([1, 3, 32, 32])\n",
      "output size: torch.Size([1, 8, 28, 28])\n",
      "\n",
      "\n",
      "input size: torch.Size([1, 8, 28, 28])\n",
      "output size: torch.Size([1, 8, 14, 14])\n",
      "\n",
      "\n",
      "input size: torch.Size([1, 8, 14, 14])\n",
      "output size: torch.Size([1, 16, 12, 12])\n",
      "\n",
      "\n",
      "input size: torch.Size([1, 16, 12, 12])\n",
      "output size: torch.Size([1, 16, 6, 6])\n",
      "\n",
      "\n",
      "input size: torch.Size([1, 16, 6, 6])\n",
      "output size: torch.Size([1, 32, 4, 4])\n",
      "\n",
      "\n",
      "input size: torch.Size([1, 32, 4, 4])\n",
      "output size: torch.Size([1, 32, 2, 2])\n",
      "\n",
      "\n",
      "input size: torch.Size([1, 128])\n",
      "output size: torch.Size([1, 10])\n",
      "\n"
     ]
    },
    {
     "data": {
      "text/plain": [
       "tensor([[-0.0505, -0.0496,  0.0177, -0.0484, -0.0148,  0.0617, -0.0508, -0.0928,\n",
       "          0.0176, -0.0976]], grad_fn=<AddmmBackward0>)"
      ]
     },
     "execution_count": 17,
     "metadata": {},
     "output_type": "execute_result"
    }
   ],
   "source": [
    "dummy_input = torch.zeros((1, 3, 32, 32))\n",
    "cnn = CNN(print_size=True).to(device)\n",
    "cnn.forward(dummy_input)"
   ]
  },
  {
   "cell_type": "markdown",
   "metadata": {
    "pycharm": {
     "name": "#%% md\n"
    }
   },
   "source": [
    "- Run next cell and see the training progress and results."
   ]
  },
  {
   "cell_type": "code",
   "execution_count": 18,
   "metadata": {
    "pycharm": {
     "is_executing": true,
     "name": "#%%\n"
    },
    "scrolled": false
   },
   "outputs": [
    {
     "name": "stderr",
     "output_type": "stream",
     "text": [
      "CNN Training:  52%|▌| 52/100 [07:35<07:00,  8.76s/Epoch, train_loss=1, valid_los\n"
     ]
    },
    {
     "data": {
      "image/png": "[encoded data removed]",
      "text/plain": [
       "<Figure size 432x288 with 1 Axes>"
      ]
     },
     "metadata": {
      "needs_background": "light"
     },
     "output_type": "display_data"
    },
    {
     "name": "stdout",
     "output_type": "stream",
     "text": [
      "Finished Training.\n",
      "Accuracy of the network on the 10000 test images: 61.30 %\n"
     ]
    }
   ],
   "source": [
    "# Run me\n",
    "%matplotlib inline\n",
    "cnn = CNN().to(device)\n",
    "fit(cnn, max_epochs, device, early_stop=True)"
   ]
  },
  {
   "cell_type": "markdown",
   "metadata": {},
   "source": [
    "### Task d)"
   ]
  },
  {
   "cell_type": "markdown",
   "metadata": {},
   "source": [
    "- Finish the implementation:"
   ]
  },
  {
   "cell_type": "code",
   "execution_count": 19,
   "metadata": {
    "pycharm": {
     "is_executing": true,
     "name": "#%%\n"
    }
   },
   "outputs": [],
   "source": [
    "# TODO: PLEASE FINISH THE IMPLEMENTATION IN THIS BLOCK\n",
    "# TODO: PLEASE FINISH THE IMPLEMENTATION IN THIS BLOCK\n",
    "# TODO: PLEASE FINISH THE IMPLEMENTATION IN THIS BLOCK\n",
    "\n",
    "class MiniResNetSimple(nn.Module):\n",
    "    \"\"\"\n",
    "    Image classifier using CNNs with small kernel size.\n",
    "    \"\"\"\n",
    "\n",
    "    def __init__(self, print_size=False):\n",
    "        \"\"\"\n",
    "        Model Constructor, Initialize all the layers to be used\n",
    "        \"\"\"\n",
    "        super(MiniResNetSimple, self).__init__()\n",
    "        ########   Your code begins here   ########\n",
    "        self.conv1 = nn.Conv2d(3, 8, 5)\n",
    "        self.max_pool = nn.MaxPool2d(2, 2)\n",
    "        self.res1_conv1 = nn.Conv2d(8, 8, 3, padding=1)\n",
    "        self.res1_conv2 = nn.Conv2d(8, 8, 3, padding=1)\n",
    "        self.res2_conv1 = nn.Conv2d(8, 8, 3, padding=1)\n",
    "        self.res2_conv2 = nn.Conv2d(8, 8, 3, padding=1)\n",
    "        self.fc1 = nn.Linear(8 * 14 * 14, 10)\n",
    "        ########   Your code ends here   ########\n",
    "        \n",
    "        if print_size:\n",
    "            self.conv1.register_forward_hook(print_output_size)\n",
    "            self.max_pool.register_forward_hook(print_output_size)\n",
    "            self.res1_conv1.register_forward_hook(print_output_size)\n",
    "            self.res1_conv2.register_forward_hook(print_output_size)\n",
    "            self.res2_conv1.register_forward_hook(print_output_size)\n",
    "            self.res2_conv2.register_forward_hook(print_output_size)        \n",
    "            self.fc1.register_forward_hook(print_output_size)\n",
    "\n",
    "    def forward(self, x):\n",
    "        \"\"\"\n",
    "        This function defines the forward pass of this net model.\n",
    "        Once this function is defined, the gradient back-propagation can be\n",
    "        automatically computed by PyTorch.\n",
    "\n",
    "        :param x: input data of this model\n",
    "        :return: output data of this model\n",
    "        \"\"\"\n",
    "        ########   Your code begins here   ########\n",
    "        x = self.conv1(x)\n",
    "        \n",
    "        x = F.relu(x)\n",
    "        x = self.max_pool(x)\n",
    "        \n",
    "        res = x\n",
    "\n",
    "        x = self.res1_conv1(x)\n",
    "        x = F.relu(x)\n",
    "        \n",
    "        x = self.res1_conv2(x)\n",
    "        \n",
    "        x = F.relu(x + res)\n",
    "        \n",
    "        res = x\n",
    "\n",
    "        x = self.res2_conv1(x)\n",
    "        x = F.relu(x)\n",
    "        \n",
    "        x = self.res2_conv2(x)\n",
    "        x = F.relu(x + res)\n",
    "\n",
    "        x = torch.flatten(x, 1)\n",
    "\n",
    "        x = self.fc1(x)\n",
    " \n",
    "        ########   Your code ends here   ########\n",
    "        return x\n"
   ]
  },
  {
   "cell_type": "markdown",
   "metadata": {},
   "source": [
    "- Run next cell and see the training progress and results."
   ]
  },
  {
   "cell_type": "code",
   "execution_count": 20,
   "metadata": {
    "scrolled": false
   },
   "outputs": [
    {
     "name": "stdout",
     "output_type": "stream",
     "text": [
      "\n",
      "input size: torch.Size([1, 3, 32, 32])\n",
      "output size: torch.Size([1, 8, 28, 28])\n",
      "\n",
      "\n",
      "input size: torch.Size([1, 8, 28, 28])\n",
      "output size: torch.Size([1, 8, 14, 14])\n",
      "\n",
      "\n",
      "input size: torch.Size([1, 8, 14, 14])\n",
      "output size: torch.Size([1, 8, 14, 14])\n",
      "\n",
      "\n",
      "input size: torch.Size([1, 8, 14, 14])\n",
      "output size: torch.Size([1, 8, 14, 14])\n",
      "\n",
      "\n",
      "input size: torch.Size([1, 8, 14, 14])\n",
      "output size: torch.Size([1, 8, 14, 14])\n",
      "\n",
      "\n",
      "input size: torch.Size([1, 8, 14, 14])\n",
      "output size: torch.Size([1, 8, 14, 14])\n",
      "\n",
      "\n",
      "input size: torch.Size([1, 1568])\n",
      "output size: torch.Size([1, 10])\n",
      "\n"
     ]
    },
    {
     "data": {
      "text/plain": [
       "tensor([[ 0.0005,  0.0229,  0.0175, -0.0466, -0.0005,  0.0045, -0.0152, -0.0226,\n",
       "          0.0034, -0.0372]], grad_fn=<AddmmBackward0>)"
      ]
     },
     "execution_count": 20,
     "metadata": {},
     "output_type": "execute_result"
    }
   ],
   "source": [
    "dummy_input = torch.zeros((1, 3, 32, 32))\n",
    "cnn = MiniResNetSimple(print_size=True).to(device)\n",
    "cnn.forward(dummy_input)"
   ]
  },
  {
   "cell_type": "code",
   "execution_count": 21,
   "metadata": {
    "pycharm": {
     "is_executing": true,
     "name": "#%%\n"
    },
    "scrolled": false
   },
   "outputs": [
    {
     "name": "stderr",
     "output_type": "stream",
     "text": [
      "MiniResNetSimple Training:  47%|▍| 47/100 [07:23<08:20,  9.44s/Epoch, train_loss\n"
     ]
    },
    {
     "data": {
      "image/png": "[encoded data removed]",
      "text/plain": [
       "<Figure size 432x288 with 1 Axes>"
      ]
     },
     "metadata": {
      "needs_background": "light"
     },
     "output_type": "display_data"
    },
    {
     "name": "stdout",
     "output_type": "stream",
     "text": [
      "Finished Training.\n",
      "Accuracy of the network on the 10000 test images: 61.82 %\n"
     ]
    }
   ],
   "source": [
    "# Run me\n",
    "%matplotlib inline\n",
    "resnet = MiniResNetSimple().to(device)\n",
    "fit(resnet, max_epochs, device, early_stop=True)"
   ]
  },
  {
   "cell_type": "markdown",
   "metadata": {},
   "source": [
    "## Task e)"
   ]
  },
  {
   "cell_type": "markdown",
   "metadata": {},
   "source": [
    "- Finish the implementation:"
   ]
  },
  {
   "cell_type": "code",
   "execution_count": 22,
   "metadata": {},
   "outputs": [],
   "source": [
    "# TODO: PLEASE FINISH THE IMPLEMENTATION IN THIS BLOCK\n",
    "# TODO: PLEASE FINISH THE IMPLEMENTATION IN THIS BLOCK\n",
    "# TODO: PLEASE FINISH THE IMPLEMENTATION IN THIS BLOCK\n",
    "\n",
    "class MiniResNet(nn.Module):\n",
    "    \"\"\"\n",
    "    Image classifier using ResNets with increasing channel size.\n",
    "    \"\"\"\n",
    "\n",
    "    def __init__(self, print_size=False):\n",
    "        \"\"\"\n",
    "        Model Constructor, Initialize all the layers to be used\n",
    "        \"\"\"\n",
    "        super(MiniResNet, self).__init__()\n",
    "        ########   Your code begins here   ########\n",
    "        self.conv1 = nn.Conv2d(3, 8, 5)\n",
    "        self.max_pool = nn.MaxPool2d(2, 2)\n",
    "\n",
    "        self.short_cut_2 = nn.Conv2d(8, 16,\n",
    "                                     kernel_size=1, stride=2)\n",
    "        self.res1_conv1 = nn.Conv2d(8, 8, 3, stride=1, padding=1)\n",
    "        self.res1_conv2 = nn.Conv2d(8, 8, 3, padding='same')\n",
    "        self.res2_conv1 = nn.Conv2d(8, 16, 3, stride=2, padding=1)\n",
    "        self.res2_conv2 = nn.Conv2d(16, 16, 3, padding='same')\n",
    "        self.fc1 = nn.Linear(16 * 7 * 7, 10)\n",
    "        ########   Your code ends here   ########\n",
    "        \n",
    "        if print_size:\n",
    "            self.conv1.register_forward_hook(print_output_size)\n",
    "            self.max_pool.register_forward_hook(print_output_size)\n",
    "            self.res1_conv1.register_forward_hook(print_output_size)\n",
    "            self.res1_conv2.register_forward_hook(print_output_size)\n",
    "            self.res2_conv1.register_forward_hook(print_output_size)\n",
    "            self.res2_conv2.register_forward_hook(print_output_size)        \n",
    "            self.short_cut_2.register_forward_hook(print_output_size)\n",
    "            self.fc1.register_forward_hook(print_output_size)\n",
    "\n",
    "    def forward(self, x):\n",
    "        \"\"\"\n",
    "        This function defines the forward pass of this net model.\n",
    "        Once this function is defined, the gradient back-propagation can be\n",
    "        automatically computed by PyTorch.\n",
    "\n",
    "        :param x: input data of this model\n",
    "        :return: output data of this model\n",
    "        \"\"\"\n",
    "        ########   Your code begins here   ########\n",
    "\n",
    "        x = self.conv1(x)\n",
    "        x = F.relu(x)\n",
    "\n",
    "        x = self.max_pool(x)\n",
    "\n",
    "        res = x # self.short_cut_1(x)\n",
    "\n",
    "        x = self.res1_conv1(x)\n",
    "        x = F.relu(x)\n",
    "\n",
    "        x = self.res1_conv2(x)\n",
    "        \n",
    "        x = F.relu(x + res)\n",
    "        \n",
    "        res = self.short_cut_2(x)\n",
    "\n",
    "        x = self.res2_conv1(x)\n",
    "        x = F.relu(x)\n",
    "        \n",
    "        x = self.res2_conv2(x)\n",
    "        x = F.relu(x + res)\n",
    "\n",
    "        x = torch.flatten(x, 1)\n",
    "\n",
    "        x = self.fc1(x)\n",
    " \n",
    "        ########   Your code ends here   ########\n",
    "        return x\n"
   ]
  },
  {
   "cell_type": "code",
   "execution_count": 23,
   "metadata": {},
   "outputs": [
    {
     "name": "stdout",
     "output_type": "stream",
     "text": [
      "\n",
      "input size: torch.Size([1, 3, 32, 32])\n",
      "output size: torch.Size([1, 8, 28, 28])\n",
      "\n",
      "\n",
      "input size: torch.Size([1, 8, 28, 28])\n",
      "output size: torch.Size([1, 8, 14, 14])\n",
      "\n",
      "\n",
      "input size: torch.Size([1, 8, 14, 14])\n",
      "output size: torch.Size([1, 8, 14, 14])\n",
      "\n",
      "\n",
      "input size: torch.Size([1, 8, 14, 14])\n",
      "output size: torch.Size([1, 8, 14, 14])\n",
      "\n",
      "\n",
      "input size: torch.Size([1, 8, 14, 14])\n",
      "output size: torch.Size([1, 16, 7, 7])\n",
      "\n",
      "\n",
      "input size: torch.Size([1, 8, 14, 14])\n",
      "output size: torch.Size([1, 16, 7, 7])\n",
      "\n",
      "\n",
      "input size: torch.Size([1, 16, 7, 7])\n",
      "output size: torch.Size([1, 16, 7, 7])\n",
      "\n",
      "\n",
      "input size: torch.Size([1, 784])\n",
      "output size: torch.Size([1, 10])\n",
      "\n"
     ]
    },
    {
     "data": {
      "text/plain": [
       "tensor([[ 0.0089,  0.1324, -0.0726, -0.0021, -0.0579, -0.0149, -0.0215,  0.0124,\n",
       "         -0.0561,  0.0428]], grad_fn=<AddmmBackward0>)"
      ]
     },
     "execution_count": 23,
     "metadata": {},
     "output_type": "execute_result"
    }
   ],
   "source": [
    "dummy_input = torch.zeros((1, 3, 32, 32))\n",
    "cnn = MiniResNet(print_size=True).to(device)\n",
    "cnn.forward(dummy_input)"
   ]
  },
  {
   "cell_type": "code",
   "execution_count": 24,
   "metadata": {},
   "outputs": [
    {
     "name": "stderr",
     "output_type": "stream",
     "text": [
      "MiniResNet Training:  56%|▌| 56/100 [09:03<07:07,  9.71s/Epoch, train_loss=0.84,\n"
     ]
    },
    {
     "data": {
      "image/png": "[encoded data removed]",
      "text/plain": [
       "<Figure size 432x288 with 1 Axes>"
      ]
     },
     "metadata": {
      "needs_background": "light"
     },
     "output_type": "display_data"
    },
    {
     "name": "stdout",
     "output_type": "stream",
     "text": [
      "Finished Training.\n",
      "Accuracy of the network on the 10000 test images: 62.85 %\n"
     ]
    }
   ],
   "source": [
    "# Run me\n",
    "%matplotlib inline\n",
    "resnet2 = MiniResNet().to(device)\n",
    "fit(resnet2, max_epochs, device, early_stop=True)"
   ]
  }
 ],
 "metadata": {
  "kernelspec": {
   "display_name": "Python 3 (ipykernel)",
   "language": "python",
   "name": "python3"
  },
  "language_info": {
   "codemirror_mode": {
    "name": "ipython",
    "version": 3
   },
   "file_extension": ".py",
   "mimetype": "text/x-python",
   "name": "python",
   "nbconvert_exporter": "python",
   "pygments_lexer": "ipython3",
   "version": "3.8.0"
  }
 },
 "nbformat": 4,
 "nbformat_minor": 1
}
