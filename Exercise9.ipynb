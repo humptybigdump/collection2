{
 "cells": [
  {
   "cell_type": "markdown",
   "metadata": {},
   "source": [
    "# Markovitz Portfolio Selection"
   ]
  },
  {
   "cell_type": "code",
   "execution_count": null,
   "metadata": {
    "ExecuteTime": {
     "end_time": "2023-01-19T14:38:51.273000+01:00",
     "start_time": "2023-01-19T13:38:06.467Z"
    }
   },
   "outputs": [],
   "source": [
    "using DataFrames\n",
    "using CSV\n",
    "using Plots\n",
    "using Statistics\n",
    "using Dates\n",
    "\n",
    "using JuMP\n",
    "using COSMO"
   ]
  },
  {
   "cell_type": "code",
   "execution_count": null,
   "metadata": {
    "ExecuteTime": {
     "end_time": "2021-12-20T20:08:14.531000+01:00",
     "start_time": "2021-12-20T19:06:59.564Z"
    }
   },
   "outputs": [],
   "source": [
    "# Load the data and visualize first rows\n",
    "data = DataFrames.DataFrame(CSV.File(\"data/all_stocks_5yr.csv\"));\n",
    "print(first(data, 5))\n",
    "stocks = Dict()\n",
    "for (key, subdf) in pairs(groupby(data, :Name))\n",
    "    stocks[key.Name] = copy(subdf)\n",
    "end"
   ]
  },
  {
   "cell_type": "code",
   "execution_count": null,
   "metadata": {
    "ExecuteTime": {
     "end_time": "2021-12-20T20:08:14.916000+01:00",
     "start_time": "2021-12-20T19:06:59.567Z"
    }
   },
   "outputs": [],
   "source": [
    "# Get a fixed order of the stocks\n",
    "#stock_names = collect(keys(stocks));\n",
    "stock_names = unique(keys(stocks));\n",
    "\n",
    "# randomly select some stocks to reduce the amount of data\n",
    "N_stocks = 110\n",
    "stocks_selected = rand(stock_names, N_stocks);\n",
    "\n",
    "# delete some stocks\n",
    "for name in stock_names\n",
    "    if name in stocks_selected\n",
    "        continue\n",
    "    end\n",
    "    delete!(stocks, name)\n",
    "end;\n",
    "\n",
    "# adapt stock_names array after stock deletion\n",
    "stock_names = collect(keys(stocks));\n",
    "N_stocks = length(stock_names);"
   ]
  },
  {
   "cell_type": "code",
   "execution_count": null,
   "metadata": {
    "ExecuteTime": {
     "end_time": "2021-12-20T20:08:34.034000+01:00",
     "start_time": "2021-12-20T19:06:59.570Z"
    }
   },
   "outputs": [],
   "source": [
    "# Visualize evolution of stock changes for some examples\n",
    "plot(stocks[stock_names[1]].Date, stocks[stock_names[1]].Close / first(stocks[stock_names[1]].Close); label=stock_names[1], legend=:topleft)\n",
    "plot!(stocks[stock_names[2]].Date, stocks[stock_names[2]].Close / first(stocks[stock_names[2]].Close); label=stock_names[2])\n",
    "plot!(stocks[stock_names[3]].Date, stocks[stock_names[3]].Close / first(stocks[stock_names[3]].Close); label=stock_names[3])"
   ]
  },
  {
   "cell_type": "markdown",
   "metadata": {},
   "source": [
    "## Calculate Statistical Quantities"
   ]
  },
  {
   "cell_type": "code",
   "execution_count": null,
   "metadata": {
    "ExecuteTime": {
     "end_time": "2021-12-20T20:08:36.745000+01:00",
     "start_time": "2021-12-20T19:06:59.573Z"
    }
   },
   "outputs": [],
   "source": [
    "# Calculate the daily change\n",
    "for k in keys(stocks)\n",
    "   select!(stocks[k], :Name, :Date, :Open, :Close, [:Open,:Close] => ByRow((o,c) -> c/o) => :Change)\n",
    "end"
   ]
  },
  {
   "cell_type": "code",
   "execution_count": null,
   "metadata": {
    "ExecuteTime": {
     "end_time": "2021-12-20T20:08:41.091000+01:00",
     "start_time": "2021-12-20T19:06:59.576Z"
    }
   },
   "outputs": [],
   "source": [
    "# plot the daily changes for an example in a histogram\n",
    "stock_number = 4\n",
    "histogram(filter(x -> x !== missing, stocks[stock_names[stock_number]].Change), label=stock_names[stock_number])\n",
    "xlabel!(\"relative daily change\")\n",
    "ylabel!(\"counts\")"
   ]
  },
  {
   "cell_type": "code",
   "execution_count": null,
   "metadata": {
    "ExecuteTime": {
     "end_time": "2021-12-20T20:08:41.110000+01:00",
     "start_time": "2021-12-20T19:06:59.579Z"
    }
   },
   "outputs": [],
   "source": [
    "# ===============================================================================\n",
    "# Compute the average of the daily changes for each stock\n",
    "# Hint: As done for plotting the histogram above you should filter out missing values\n",
    "avg = zeros(N_stocks);\n",
    "# ==============================================================================="
   ]
  },
  {
   "cell_type": "code",
   "execution_count": null,
   "metadata": {
    "ExecuteTime": {
     "end_time": "2021-12-20T20:08:43.219000+01:00",
     "start_time": "2021-12-20T19:06:59.582Z"
    }
   },
   "outputs": [],
   "source": [
    "# define a function to compute the covariance of two distributions s1 and s2\n",
    "# s1, s2: input arrays containing stock changes\n",
    "function covariance(s1, s2)\n",
    "\n",
    "    l = min(length(s1), length(s2))\n",
    "    # make sure that both stocks have data at the same day!\n",
    "    gi = filter(i -> s1[i] !== missing && s2[i] !== missing, 1:l) # good indices\n",
    "    l = length(gi)\n",
    "    \n",
    "    covariance = zeros(l,l)\n",
    "    # ==================================================================================================\n",
    "    # Compute the covariance\n",
    "    # ==================================================================================================\n",
    "    return covariance\n",
    "end"
   ]
  },
  {
   "cell_type": "code",
   "execution_count": null,
   "metadata": {
    "ExecuteTime": {
     "end_time": "2021-12-20T20:08:43.235000+01:00",
     "start_time": "2021-12-20T19:06:59.585Z"
    }
   },
   "outputs": [],
   "source": [
    "# =============================================================================================\n",
    "# Compute the covariance matrix\n",
    "covar = zeros(N_stocks ,N_stocks);\n",
    "# ============================================================================================="
   ]
  },
  {
   "cell_type": "code",
   "execution_count": null,
   "metadata": {
    "ExecuteTime": {
     "end_time": "2021-12-20T20:08:43.235000+01:00",
     "start_time": "2021-12-20T19:06:59.590Z"
    }
   },
   "outputs": [],
   "source": [
    "# =============================================================================================\n",
    "# Compute the Variance for each stock\n",
    "# Hint: As done for plotting the histogram above you should filter out missing values\n",
    "variance = zeros(N_stocks);\n",
    "# ============================================================================================="
   ]
  },
  {
   "cell_type": "code",
   "execution_count": null,
   "metadata": {
    "ExecuteTime": {
     "end_time": "2021-12-20T20:08:47.365000+01:00",
     "start_time": "2021-12-20T19:06:59.594Z"
    }
   },
   "outputs": [],
   "source": [
    "# Show annualized standard deviation and average\n",
    "fig = scatter([], [], xlabel=\"Annualized Standard Deviation\", ylim=(0.75,1.7), xlim=(-0.01,.4), ylabel=\"Annualized Expected Value\", labels=:none, legend=:topleft)\n",
    "for k=1:N_stocks \n",
    "    scatter!([sqrt(variance[k]) * sqrt(252)], [avg[k]^252], labels=:none, markercolor=:blue)\n",
    "end\n",
    "scatter!([0.0], [1.02], label=\"Government Bonds\", markercolor=:red)"
   ]
  },
  {
   "cell_type": "code",
   "execution_count": null,
   "metadata": {
    "ExecuteTime": {
     "end_time": "2021-12-20T20:08:54.377000+01:00",
     "start_time": "2021-12-20T19:06:59.597Z"
    }
   },
   "outputs": [],
   "source": [
    "# Compute correlation between stocks and visualize in a heatmap\n",
    "corre = zeros(N_stocks,N_stocks)\n",
    "for i=1:N_stocks , j=1:N_stocks\n",
    "    corre[i,j] = covar[i,j] / (sqrt(variance[i])*sqrt(variance[j]))\n",
    "end\n",
    "\n",
    "heatmap(corre, yflip=true, aspect_ratio=:equal, size=(300,300))"
   ]
  },
  {
   "cell_type": "markdown",
   "metadata": {},
   "source": [
    "## Optimize Portfolio"
   ]
  },
  {
   "cell_type": "code",
   "execution_count": null,
   "metadata": {
    "ExecuteTime": {
     "end_time": "2021-12-20T20:08:54.377000+01:00",
     "start_time": "2021-12-20T19:06:59.600Z"
    }
   },
   "outputs": [],
   "source": [
    "# =============================================================================================\n",
    "# Optimize your portfolio by using the COSMO Optimizer (Quadratic solver).\n",
    "# Choose your favourite form of the optimization problem (lecture 5, slide 21).\n",
    "# Depending on your choice, try different values for the minimum expected change, the maximum variance \n",
    "# or the risk aversion parameter\n",
    "\n",
    "model = Model(COSMO.Optimizer)\n",
    "@variable(model, w[1:N_stocks])\n",
    "#@constraint(model, ...)\n",
    "#@objective(model, Max, ...)\n",
    "#optimize!(model)\n",
    "\n",
    "# =============================================================================================\n",
    "\n",
    "w_best = value.(w[1:N_stocks]);"
   ]
  },
  {
   "cell_type": "code",
   "execution_count": null,
   "metadata": {},
   "outputs": [],
   "source": [
    "indices = sortperm(w_best, rev=true);\n",
    "println(w_best[indices[1:5]],\"\\n\",stock_names[indices[1:5]])"
   ]
  },
  {
   "cell_type": "code",
   "execution_count": null,
   "metadata": {},
   "outputs": [],
   "source": [
    "#plot your optimized portfolio and see how your portfolio performs in comparison to single stock investments\n",
    "\n",
    "fig = scatter([], [], xlabel=\"Annualized Standard Deviation\", ylim=(0.75,1.7), xlim=(-0.01,.4), ylabel=\"Annualized Expected Value\", labels=:none, legend=:topleft)\n",
    "for k=1:N_stocks\n",
    "    scatter!([sqrt(variance[k]) * sqrt(252)], [avg[k]^252], labels=:none, markercolor=:blue)\n",
    "end\n",
    "scatter!([0.0], [1.02], label=\"Government Bonds\", markercolor=:red)\n",
    "\n",
    "risk = w_best'*covar*w_best\n",
    "ret = avg'*w_best\n",
    "scatter!([sqrt(risk) * sqrt(252)], [ret^252], labels=\"Selected Portfolio\", markercolor=:green, marker=:+, markersize=5,linewidth=20)\n"
   ]
  },
  {
   "cell_type": "markdown",
   "metadata": {},
   "source": [
    "# Exercise 12.2: The inverted pendulum\n",
    "\n",
    "**Remark to generate the animations**\n",
    "* Install the ffmpeg package, e.g. by conda install ffmpeg!!\n",
    "* Beware that existing gifs might not be overwritten automatically. Make sure to always give a new name to the `animate_pendulum` function or delete the existing file.\n"
   ]
  },
  {
   "cell_type": "code",
   "execution_count": null,
   "metadata": {
    "ExecuteTime": {
     "end_time": "2023-01-27T17:07:31.372000+01:00",
     "start_time": "2023-01-27T16:07:05.380Z"
    }
   },
   "outputs": [],
   "source": [
    "using Luxor\n",
    "\n",
    "import LinearAlgebra\n",
    "LA = LinearAlgebra;"
   ]
  },
  {
   "cell_type": "code",
   "execution_count": null,
   "metadata": {
    "ExecuteTime": {
     "end_time": "2023-01-27T17:07:31.883000+01:00",
     "start_time": "2023-01-27T16:07:06.178Z"
    }
   },
   "outputs": [],
   "source": [
    "# define some global variables\n",
    "\n",
    "# pendulum mass in kg\n",
    "const m = 2\n",
    "# cart mass in kg\n",
    "const c = 8\n",
    "# pole length in m\n",
    "const l = 0.5\n",
    "# earth acceleration in m/s²\n",
    "const g = 9.81\n",
    "\n",
    "# number of time steps for prediction horizion in MPC\n",
    "T = 100\n",
    "# length of time steps in s\n",
    "Δt = 0.03\n",
    "# time discount to weight objective function different depending on the amount of time passed\n",
    "time_discount = 0.1\n",
    "\n",
    "# number of variables of interest in optimization problem: 4 state space variables + 1 control\n",
    "n = 5\n",
    "# number of constraints in optimization problem\n",
    "k = 4;"
   ]
  },
  {
   "cell_type": "code",
   "execution_count": null,
   "metadata": {
    "ExecuteTime": {
     "end_time": "2023-01-27T17:07:34.760000+01:00",
     "start_time": "2023-01-27T16:07:07.313Z"
    }
   },
   "outputs": [],
   "source": [
    "# Function for plotting pendulum animation\n",
    "# Needs the ffmpeg package!! and a folder tmp\n",
    "# Beware that existing gifs might not be overwritten automatically.\n",
    "# Make sure to always give a new name or delete the existing\n",
    "# p: array of cart positions for all times\n",
    "# θ: array of pendulum positions for all times\n",
    "# name: name of gif-file containing the animation\n",
    "function animate_pendulum(p,θ,name)\n",
    "    \n",
    "    nt = length(p)\n",
    "    \n",
    "    # iterate over all times and generate a png per time step\n",
    "    for i=1:nt\n",
    "    @png begin\n",
    "        background(\"white\")\n",
    "        factor = 400\n",
    "        p1 = Point(p[i]*factor, 0)\n",
    "        p2 = Point(sin(θ[i])*factor*l,-cos(θ[i])*factor*l) + p1\n",
    "        origin()\n",
    "        setline(10)\n",
    "        sethue(\"red\")\n",
    "        line(p1, p2, :stroke)\n",
    "        sethue(\"gold\")\n",
    "        line(Point(-800, 0), Point(800, 0), :stroke)\n",
    "        sethue(\"black\")\n",
    "        Luxor.box(p1, 80, 40, :fill)\n",
    "        circle(p2, 20, :fill)\n",
    "        preview()\n",
    "            end 2000 600 \"tmp/\"* name * \"_\" * lpad(i,2,\"0\") * \".png\"\n",
    "    end\n",
    "    \n",
    "    # combine png images to gif\n",
    "    loadpath = \"tmp/\" * name * \"_\"\n",
    "    run(`ffmpeg -framerate 15 -i $loadpath\"%02d.png\" \"$name.mp4\"`)\n",
    "    \n",
    "end"
   ]
  },
  {
   "cell_type": "markdown",
   "metadata": {},
   "source": [
    "## Exercise 12.2b: Pendulum simulation"
   ]
  },
  {
   "cell_type": "markdown",
   "metadata": {},
   "source": [
    "\\begin{align*}\n",
    "\\vec x_{t+1} = A_t \\vec x_t + \\vec b_t  u_t + \\vec c_t\\\\\n",
    "\\end{align*}"
   ]
  },
  {
   "cell_type": "code",
   "execution_count": null,
   "metadata": {
    "ExecuteTime": {
     "end_time": "2023-01-27T17:07:35.124000+01:00",
     "start_time": "2023-01-27T16:07:14.522Z"
    }
   },
   "outputs": [],
   "source": [
    "# returns the quantities needed to calculate x_t+1 from time x_t and u_t\n",
    "function At_bt_ct(θ,dθ)\n",
    "    # acceleration linear in xt\n",
    "    ddθ_fixed = Δt * ((c+m)*g*sin(θ)-m*l*sin(θ)*cos(θ)*(dθ^2)) / (l*(c+m*sin(θ)^2))\n",
    "    ddp_fixed = Δt * (-m*g*sin(θ)*cos(θ)+m*l*sin(θ)*dθ^2) / (c+m*sin(θ)^2)\n",
    "    \n",
    "    # acceleration linear in u\n",
    "    ddθ_u = Δt * (-cos(θ)) / (l*(c+m*sin(θ)^2))\n",
    "    ddp_u = Δt / (c+m*sin(θ)^2)\n",
    "    \n",
    "    At = zeros(4,4)\n",
    "    bt = zeros(4)\n",
    "    ct = zeros(4)\n",
    "    \n",
    "    # ====================================================================================================\n",
    "    # Construct the matrix At and the vectors bt and ct \n",
    "    # ====================================================================================================\n",
    "    \n",
    "    return At, bt, ct\n",
    "end"
   ]
  },
  {
   "cell_type": "code",
   "execution_count": null,
   "metadata": {
    "ExecuteTime": {
     "end_time": "2023-01-27T17:07:35.514000+01:00",
     "start_time": "2023-01-27T16:07:15.409Z"
    }
   },
   "outputs": [],
   "source": [
    "# simulate the pendulum movement\n",
    "# x0: initial state vector\n",
    "# u: array of control for each time step\n",
    "# xt: array with state vector for each time step\n",
    "function simulate_pendulum(x0,u)\n",
    "    x_new = copy(x0)\n",
    "    \n",
    "    # number of time steps extracted from the length of control vector\n",
    "    nt = length(u)\n",
    "    xt = Vector(undef, nt)\n",
    "    \n",
    "    # iterate over time steps\n",
    "    for t in 1:nt\n",
    "        x = x_new\n",
    "        At, bt, ct = At_bt_ct(x[1],x[3])\n",
    "        x_new = At*x + bt*u[t] + ct\n",
    "        xt[t] = x_new\n",
    "    end\n",
    "    return xt\n",
    "end"
   ]
  },
  {
   "cell_type": "code",
   "execution_count": null,
   "metadata": {
    "ExecuteTime": {
     "end_time": "2023-01-27T17:07:37.603000+01:00",
     "start_time": "2023-01-27T16:07:16.320Z"
    }
   },
   "outputs": [],
   "source": [
    "# set number of time steps of size Δt for which to simulate pendulum movement\n",
    "time_sim = 200\n",
    "x_arr = simulate_pendulum([0.75*pi,0,0,0],zeros(time_sim));"
   ]
  },
  {
   "cell_type": "code",
   "execution_count": null,
   "metadata": {
    "ExecuteTime": {
     "end_time": "2023-01-27T17:08:25.533000+01:00",
     "start_time": "2023-01-27T16:07:17.138Z"
    }
   },
   "outputs": [],
   "source": [
    "p_initial = map(x->x[2],x_arr)\n",
    "θ_initial = map(x->x[1],x_arr)\n",
    "\n",
    "animate_pendulum(p_initial,θ_initial,\"pendulum\")"
   ]
  },
  {
   "cell_type": "markdown",
   "metadata": {},
   "source": [
    "## Exercise 12.2d: Model predictive control"
   ]
  },
  {
   "cell_type": "markdown",
   "metadata": {},
   "source": [
    "From the lecture we know the problem definition where we want to minimize the kinetic energy of the system (carriage + pendulum) and maximize the potential energy of the pendulum:\n",
    "\n",
    "\\begin{align*}\n",
    "      \\text{Kinetic Energy:} & \\quad \\begin{aligned}[t]\n",
    "          e_{kin,kart}(\\vec x) &= \\frac{1}{2} c \\dot p^2\\\\\n",
    "          e_{kin,pend}(\\vec x) &= \\frac{1}{2} m \\Big[(\\dot p + l \\color{red}{\\sin(\\theta)} \\dot\\theta)^2 + ( l \\color{red}{\\cos(\\theta)} \\dot\\theta)^2 \\Big]\n",
    "        \\end{aligned}\\\\\n",
    "    \\text{Potential Energy:} & \\quad e_{\\mathrm{pot}}(\\vec x) = m\\, l\\, \\color{red}{\\cos(\\theta)}\\\\\n",
    "    &f_{\\mathrm{state}}(\\vec x_t) = \\tilde e_{\\mathrm{kin,cart}}(\\vec x_t) + \\tilde e_{\\mathrm{kin,pend}}(\\vec x_t) - \\tilde e_{\\mathrm{pot}}(\\vec x_t)\n",
    "  \\end{align*}\n",
    "  \n",
    " To ensure that the objective $f_{\\mathrm{state}}(\\vec x_t)$ is a convex function we have to replace the trigonometric functions $\\cos$ and $\\sin$ (red terms). We use a simulation run of the current control flow and the pendulum dynamics to generate a series of $\\theta$ and $p$. We use those values in order to fix and approximate the $\\cos$ and $\\sin$ terms before optimizing $x_t$ and $u_t$. We recompute the control flow after each time step to keep the deviations between this approximation and reality as small as possible. \n",
    " \n",
    "As you might have noticed the potential energy that would lead to an upright pendulum is no longer dependent on $\\theta$ or $p$, at least not the $\\theta$ and $p$ that we optimize over.\n",
    "To make the approximation work we have to introduce additional incentives. The original $e_{\\mathrm{pot}}(\\vec x) = m\\, l\\, \\cos(\\theta)$ would be maximized for $\\theta = 0$. We therefore introduce $\\theta^2$ as part of our objective:\n",
    "\n",
    "\\begin{align*}\n",
    "    \\min_{\\substack{\\vec u_0,\\dots \\vec u_{T-1},\\\\\\vec x_1,\\dots, \\vec x_T}} \\quad & \\sum_{t=1}^{T} \\left[ f_{\\mathrm{state}}(\\vec x_t) + \\vec u_t^\\top R \\vec u_t + \\theta_t^2\\right]\\\\\n",
    "  \\end{align*}\n",
    "  \n",
    " Additionally we would like to keep the pendulum centered to the screen. We therefore also require $p$ to be close to 0. Hence, we add the term $p^2$:\n",
    " \n",
    " \\begin{align*}\n",
    "    \\min_{\\substack{\\vec u_0,\\dots \\vec u_{T-1},\\\\\\vec x_1,\\dots, \\vec x_T}} \\quad & \\sum_{t=1}^{T} \\left[ f_{\\mathrm{state}}(\\vec x_t) + \\vec u_t^\\top R \\vec u_t + \\theta_t^2+p_t^2\\right]\\\\\n",
    "  \\end{align*}\n",
    "  \n",
    "Not all conditions are equally important at all points in time. For example: we want to use fast movement that is rich in kinetic energy to swing the pendulum upright in the beginning, but use only small movements to hold it there. We therefore also introduce a time series discount factor $\\gamma$:\n",
    "\n",
    "\\begin{align*}\n",
    "    \\min_{\\substack{\\vec u_0,\\dots \\vec u_{T-1},\\\\\\vec x_1,\\dots, \\vec x_T}} \\quad & \\sum_{t=1}^{T} \\left[ (f_{\\mathrm{state}}(\\vec x_t) + \\vec u_t^\\top R \\vec u_t + p_t^2)\\cdot \\gamma t +\\theta_t^2\\right]\\\\\n",
    "  \\end{align*}\n",
    "  \n",
    "This objective will be expressed by $\\tilde{x_T^\\top} Q \\tilde{x_T}$ with the cost matrix $Q$ and\n",
    "\\begin{align*}\n",
    "\\tilde{\\vec x}_T = \\begin{pmatrix}\n",
    "\\theta_1\\\\\n",
    "p_1\\\\\n",
    "\\dot{\\theta_1}\\\\\n",
    "\\dot{p_1}\\\\\n",
    "u_1\\\\\n",
    "\\theta_2\\\\\n",
    "p_2\\\\\n",
    "\\vdots\\\\\n",
    "\\dot{\\theta_T}\\\\\n",
    "\\dot{p_T}\\\\\n",
    "u_T\n",
    "\\end{pmatrix}\n",
    "\\end{align*}.\n",
    "\n",
    "This means\n",
    "\n",
    "\\begin{align*}\n",
    "    \\sum_{t=1}^{T} \\left[ (f_{\\mathrm{state}}(\\vec x_t) + \\vec u_t^\\top R \\vec u_t + p_t^2)\\cdot \\gamma t +\\theta_t^2\\right] =  \\tilde{x_T^\\top} Q \\tilde{x_T} \\\\\n",
    "  \\end{align*}\n"
   ]
  },
  {
   "cell_type": "code",
   "execution_count": null,
   "metadata": {
    "ExecuteTime": {
     "end_time": "2023-01-27T17:08:25.999000+01:00",
     "start_time": "2023-01-27T16:07:21.307Z"
    }
   },
   "outputs": [],
   "source": [
    "# input is the state and the previously computed control u\n",
    "# output is the control in this period\n",
    "function mpc_pendulum_policy(x0,u_old)\n",
    "      \n",
    "    xt = simulate_pendulum(x0,u_old)\n",
    "   \n",
    "    # construct Matrix A_tilde and b_tilde for the equality constraints\n",
    "\n",
    "    # kronecker product of two matrices --> new matrix has size = (T*k,T*n)\n",
    "    A_tilde = kron(Matrix{Float64}(LA.I,T,T), -Matrix{Float64}(LA.I, k, n))\n",
    "    b_tilde = zeros(k*T)\n",
    "    \n",
    "    b_tilde[1:length(x0)] = -x0 # Set first elements of b_tilde with x0\n",
    "    \n",
    "    for t=1:T-1\n",
    "        # calculate At, bt and ct for each time step\n",
    "        A_tmp, b_tmp, c_tmp = At_bt_ct(xt[t][1],xt[t][3])\n",
    "        # construct Matrix A_tilde and b_tilde\n",
    "        A_tilde[(t*k)+1:(t+1)*k,((t-1)*n)+1:t*n] = hcat(A_tmp,b_tmp)\n",
    "        b_tilde[(t*k)+1:(t+1)*k] = -c_tmp\n",
    "    end\n",
    "\n",
    "    \n",
    "    #calculate the cost matrix Q \n",
    "    Q = zeros(n*T,n*T)\n",
    "    for t=1:T-1\n",
    "        θ = xt[t][1]\n",
    "        c = cos(θ)\n",
    "        s = sin(θ)\n",
    "        #Our first objective is to get the pendulum upright and then hold that position in the centre of the line with at best not movement\n",
    "        #not all objectives are similar important over time. time_discount*t enables us to reweight costs based on the passage of time.\n",
    "        #make the pendulum upright and centered\n",
    "        Q[((t-1)*n)+1,((t-1)*n)+1] = 100\n",
    "        Q[((t-1)*n)+2,((t-1)*n)+2] = time_discount*t\n",
    "        \n",
    "        #minimize kinetic energy in the system\n",
    "        # ============================================================================================\n",
    "        # fill the matrix Q with the terms of the objective function that are representing the kinetic\n",
    "        # energy ot the system\n",
    "        Q[((t-1)*n)+3,((t-1)*n)+3] = 0\n",
    "        Q[((t-1)*n)+4,((t-1)*n)+4] = 0\n",
    "        Q[((t-1)*n)+3,((t-1)*n)+4] = 0\n",
    "        # ============================================================================================\n",
    "        \n",
    "        #punish for large control values, if zero we might break the pendulum simulation, but you are encouraged to experiment\n",
    "        Q[((t-1)*n)+5,((t-1)*n)+5] = 0.001\n",
    "    end\n",
    "    \n",
    "    \n",
    "    # ============================================================================================\n",
    "    # setup the optimization problem and solve it using the COSMO solver \n",
    "    # define the objective and constraints using the JuMP package\n",
    "    # ============================================================================================\n",
    "    \n",
    "    \n",
    "    # ============================================================================================\n",
    "    # extract the sequence of control values from the solution\n",
    "    u_new = zeros(T)\n",
    "    \n",
    "    # ============================================================================================\n",
    "    return u_new\n",
    "end"
   ]
  },
  {
   "cell_type": "code",
   "execution_count": null,
   "metadata": {
    "ExecuteTime": {
     "end_time": "2023-01-27T17:08:26.488000+01:00",
     "start_time": "2023-01-27T16:07:22.321Z"
    }
   },
   "outputs": [],
   "source": [
    "# Run the model predictive control\n",
    "# x0: initial pendulum state\n",
    "# time_sim: time for which the simulation should be run. This NOT the prediction horizon!\n",
    "function run_mpc(x0,time_sim)\n",
    "    \n",
    "    # trace of pendulum state (rows 1-4) and control values (row 5)\n",
    "    trace = zeros(length(x0)+1, time_sim) # the last entry at each t is the control value u\n",
    "    \n",
    "    # vector storing control values for the prediction horizon\n",
    "    U = zeros(T)\n",
    "\n",
    "    # copy of inital state\n",
    "    x = copy(x0)\n",
    "    \n",
    "    # iterate over time steps\n",
    "    for t=1:time_sim\n",
    "        # compute the control by assuming the last control sequence as the starting point\n",
    "        U[:] = mpc_pendulum_policy(x, U)\n",
    "\n",
    "        # store the trace of all pendulum state and control for each time step\n",
    "        trace[:,t] = vcat(x, U[1])\n",
    "\n",
    "        # propagate pendulum one time step\n",
    "        xt = simulate_pendulum(x,U[1]) \n",
    "        \n",
    "        x[:] = xt[1]\n",
    "    end\n",
    "    return trace\n",
    "end"
   ]
  },
  {
   "cell_type": "code",
   "execution_count": null,
   "metadata": {
    "ExecuteTime": {
     "end_time": "2023-01-27T17:08:42.683000+01:00",
     "start_time": "2023-01-27T16:07:23.275Z"
    }
   },
   "outputs": [],
   "source": [
    "# initial pendulum state\n",
    "x0 = [pi, 0, 0, 0]\n",
    "time_sim = 300\n",
    "trace = run_mpc(x0, time_sim)"
   ]
  },
  {
   "cell_type": "code",
   "execution_count": null,
   "metadata": {
    "ExecuteTime": {
     "end_time": "2023-01-27T17:09:49.980000+01:00",
     "start_time": "2023-01-27T16:07:24.079Z"
    }
   },
   "outputs": [],
   "source": [
    "p_optimized = trace[2,:]\n",
    "θ_optimized = trace[1,:]\n",
    "\n",
    "animate_pendulum(p_optimized,θ_optimized,\"mpc_pendulum\")"
   ]
  },
  {
   "cell_type": "code",
   "execution_count": null,
   "metadata": {},
   "outputs": [],
   "source": []
  }
 ],
 "metadata": {
  "kernelspec": {
   "display_name": "Julia 1.6.3",
   "language": "julia",
   "name": "julia-1.6"
  },
  "language_info": {
   "file_extension": ".jl",
   "mimetype": "application/julia",
   "name": "julia",
   "version": "1.6.3"
  },
  "toc": {
   "base_numbering": 1,
   "nav_menu": {},
   "number_sections": true,
   "sideBar": true,
   "skip_h1_title": false,
   "title_cell": "Table of Contents",
   "title_sidebar": "Contents",
   "toc_cell": false,
   "toc_position": {
    "height": "calc(100% - 180px)",
    "left": "10px",
    "top": "150px",
    "width": "206.7px"
   },
   "toc_section_display": true,
   "toc_window_display": true
  },
  "varInspector": {
   "cols": {
    "lenName": 16,
    "lenType": 16,
    "lenVar": 40
   },
   "kernels_config": {
    "python": {
     "delete_cmd_postfix": "",
     "delete_cmd_prefix": "del ",
     "library": "var_list.py",
     "varRefreshCmd": "print(var_dic_list())"
    },
    "r": {
     "delete_cmd_postfix": ") ",
     "delete_cmd_prefix": "rm(",
     "library": "var_list.r",
     "varRefreshCmd": "cat(var_dic_list()) "
    }
   },
   "types_to_exclude": [
    "module",
    "function",
    "builtin_function_or_method",
    "instance",
    "_Feature"
   ],
   "window_display": false
  }
 },
 "nbformat": 4,
 "nbformat_minor": 4
}
