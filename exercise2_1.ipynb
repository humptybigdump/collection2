{
 "cells": [
  {
   "cell_type": "code",
   "execution_count": 1,
   "id": "57c9944e",
   "metadata": {},
   "outputs": [],
   "source": [
    "import numpy as np\n",
    "import matplotlib.pyplot as plt\n",
    "import scipy.optimize"
   ]
  },
  {
   "cell_type": "code",
   "execution_count": 2,
   "id": "e53b447d",
   "metadata": {},
   "outputs": [],
   "source": [
    "# economic parameters\n",
    "beta = 0.7\n",
    "gamma = 5.0\n",
    "alpha = 0.3\n",
    "z_shock = np.exp([-0.25, 0.25])\n",
    "P = np.array([[0.5, 0.5],\n",
    "              [0.5, 0.5]])"
   ]
  },
  {
   "cell_type": "code",
   "execution_count": 3,
   "id": "b0f6b6ea",
   "metadata": {},
   "outputs": [],
   "source": [
    "# system of equations\n",
    "def euler_equation(kp, k0, z_idx, T):\n",
    "\n",
    "    # production today\n",
    "    z0 = z_shock[z_idx]\n",
    "    w = z0 * (1.0 - alpha) * k0 ** alpha\n",
    "\n",
    "    # production tomorrow\n",
    "    yp = z_shock * kp ** alpha\n",
    "    rp = z_shock * alpha * kp ** (alpha - 1.0) - 1.0\n",
    "\n",
    "    # consumption today and tomorrow\n",
    "    c = w - kp - T\n",
    "    cp = (1 + rp) * kp + T\n",
    "\n",
    "    # euler equation\n",
    "    ee_res = c ** (-gamma) - beta * np.sum((1 + rp) * cp ** (-gamma) * P[z_idx, :])\n",
    "\n",
    "    return ee_res"
   ]
  },
  {
   "cell_type": "code",
   "execution_count": 4,
   "id": "b71cdd6a",
   "metadata": {},
   "outputs": [],
   "source": [
    "# solve the model along the simulation\n",
    "t_end = 200\n",
    "n_max = 100\n",
    "T_grid = np.linspace(0, 0.05, n_max)\n",
    "\n",
    "np.random.seed(12345)\n",
    "idx_ts = np.random.choice([0, 1], t_end)\n",
    "k_ts = np.zeros((n_max, t_end))\n",
    "k_ts[:, 0] = 0.1\n",
    "r_ts = np.zeros((n_max, t_end))\n",
    "w_ts = np.zeros((n_max, t_end))\n",
    "cy_ts = np.zeros((n_max, t_end))\n",
    "co_ts = np.zeros((n_max, t_end))\n",
    "u_ts = np.zeros((n_max, t_end))\n",
    "for i in range(n_max):\n",
    "    for t in range(t_end-1):\n",
    "        # solve system of equations given the current capital stock\n",
    "        lb = 0.01\n",
    "        ub = 0.99 * (z_shock[idx_ts[t]] * (1.0 - alpha) * k_ts[i, t] ** alpha - T_grid[i])\n",
    "        sol = scipy.optimize.root_scalar(euler_equation, bracket=[lb, ub], args=(k_ts[i, t], idx_ts[t], T_grid[i]), method='brentq')\n",
    "        k_ts[i, t+1] = sol.root\n",
    "\n",
    "        # compute factor prices and consumption\n",
    "        r_ts[i, t] = z_shock[idx_ts[t]] * alpha * k_ts[i, t] ** (alpha - 1) - 1\n",
    "        w_ts[i, t] = z_shock[idx_ts[t]] * (1 - alpha) * k_ts[i, t] ** alpha\n",
    "        cy_ts[i, t] = w_ts[i, t] - k_ts[i, t + 1] - T_grid[i]\n",
    "        co_ts[i, t] = (1 + r_ts[i, t]) * k_ts[i, t] + T_grid[i]\n",
    "\n",
    "        # compute ex-ante utility\n",
    "        r_tom = z_shock * alpha * k_ts[i, t+1] ** (alpha - 1.0) - 1.0\n",
    "        co_tom = (1 + r_tom) * k_ts[i, t+1] + T_grid[i]\n",
    "        u_ts[i, t] = 1 / (1 - gamma) * cy_ts[i, t] ** (1-gamma) + beta / (1 - gamma) * np.sum(P[idx_ts[t], :] * co_tom ** (1-gamma))"
   ]
  },
  {
   "cell_type": "code",
   "execution_count": 5,
   "id": "ee98da95",
   "metadata": {},
   "outputs": [
    {
     "name": "stdout",
     "output_type": "stream",
     "text": [
      "Optimal Transfer: 0.025252525252525252\n"
     ]
    },
    {
     "data": {
      "image/png": "[encoded data removed]",
      "text/plain": [
       "<Figure size 432x288 with 1 Axes>"
      ]
     },
     "metadata": {
      "needs_background": "light"
     },
     "output_type": "display_data"
    },
    {
     "data": {
      "image/png": "[encoded data removed]",
      "text/plain": [
       "<Figure size 432x288 with 1 Axes>"
      ]
     },
     "metadata": {
      "needs_background": "light"
     },
     "output_type": "display_data"
    }
   ],
   "source": [
    "# steady state utility comparison\n",
    "plt.figure()\n",
    "plt.plot(T_grid, np.mean(u_ts[:, 100:], axis=1), color='darkred', linewidth=2)\n",
    "plt.axhline(y=np.mean(u_ts[0, 100:]), color='lightgrey', linestyle='dashed')\n",
    "plt.xlabel('Transfer')\n",
    "plt.title('Utility')\n",
    "\n",
    "plt.figure()\n",
    "plt.plot(T_grid, np.mean(r_ts[:, 100:], axis=1), color='darkred', linewidth=2)\n",
    "plt.axhline(y=0.0, color='lightgrey', linestyle='dashed')\n",
    "plt.xlabel('Transfer')\n",
    "plt.title('Avg. Interest Rate')\n",
    "\n",
    "idx_opt = np.argmax(np.mean(u_ts[:, 100:], axis=1))\n",
    "print('Optimal Transfer: ' + str(T_grid[idx_opt]))\n",
    "\n",
    "plt.show()"
   ]
  },
  {
   "cell_type": "code",
   "execution_count": null,
   "id": "d395c797",
   "metadata": {},
   "outputs": [],
   "source": []
  }
 ],
 "metadata": {
  "kernelspec": {
   "display_name": "Python 3 (ipykernel)",
   "language": "python",
   "name": "python3"
  },
  "language_info": {
   "codemirror_mode": {
    "name": "ipython",
    "version": 3
   },
   "file_extension": ".py",
   "mimetype": "text/x-python",
   "name": "python",
   "nbconvert_exporter": "python",
   "pygments_lexer": "ipython3",
   "version": "3.9.7"
  }
 },
 "nbformat": 4,
 "nbformat_minor": 5
}
