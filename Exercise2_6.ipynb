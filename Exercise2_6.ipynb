{
 "cells": [
  {
   "cell_type": "code",
   "execution_count": 1,
   "metadata": {
    "ExecuteTime": {
     "end_time": "2020-11-05T17:31:01.127000+01:00",
     "start_time": "2020-11-05T16:30:55.665Z"
    }
   },
   "outputs": [],
   "source": [
    "import LinearAlgebra\n",
    "LA = LinearAlgebra\n",
    "\n",
    "include(\"mplstyle.jl\");"
   ]
  },
  {
   "cell_type": "markdown",
   "metadata": {},
   "source": [
    "# Exercise 2.2\n",
    "\n",
    "Find the inverse of matrix B"
   ]
  },
  {
   "cell_type": "markdown",
   "metadata": {},
   "source": [
    "# Exercise 2.4\n",
    "Implement the backtracking line search algorithm."
   ]
  },
  {
   "cell_type": "code",
   "execution_count": 2,
   "metadata": {
    "ExecuteTime": {
     "end_time": "2020-11-05T17:31:01.540000+01:00",
     "start_time": "2020-11-05T16:30:55.667Z"
    }
   },
   "outputs": [],
   "source": [
    "# f: objective function\n",
    "# ∇f: gradient of the objective function\n",
    "# x: current point\n",
    "# d: step direction\n",
    "# p: step size reduction p∈(0,1)\n",
    "# β: minimum downward slope is -β∇f(x)\n",
    "\n",
    "function linesearch(f, ∇f, x, d; p=0.8, β = 1.0*10^-4)\n",
    "    \n",
    "    # initialize step length factor\n",
    "    α = 1.0\n",
    "    \n",
    "    # ======================================================\n",
    "    # implement the while loop where α is reduced using the Armijo Condition as stopping criterion\n",
    "    \n",
    "    # while ...\n",
    "    #    do something\n",
    "    # end\n",
    "    \n",
    "    # ======================================================\n",
    "    \n",
    "    return α\n",
    "end;"
   ]
  },
  {
   "cell_type": "markdown",
   "metadata": {},
   "source": [
    "# Exercise 2.5\n",
    "Implement the gradient descent algorithm"
   ]
  },
  {
   "cell_type": "code",
   "execution_count": 3,
   "metadata": {
    "ExecuteTime": {
     "end_time": "2020-11-05T17:31:01.996000+01:00",
     "start_time": "2020-11-05T16:30:55.668Z"
    }
   },
   "outputs": [],
   "source": [
    "# f: objective function\n",
    "# ∇f: gradient of the objective function\n",
    "# x0: initial point\n",
    "# ε: stopping criterion on the norm of the gradient\n",
    "# maxiters: max numbers of gradient descent steps\n",
    "\n",
    "function gradient_descent(f, ∇f, x0; ϵ=0.0001, maxiters = 100)\n",
    "    # make a copy of initial point to prevent changing x0 by manipulating x\n",
    "    x = copy(x0)\n",
    "    \n",
    "    # store initial point and evaluated function at initial point \n",
    "    trace = [x; f(x)]\n",
    "    for _=1:maxiters\n",
    "        # ======================================================\n",
    "        # 1. evaluate the descent step direction at the point x\n",
    "        # 2. check if norm of the gradient is close enough to zero (use precision of ϵ). If yes break from the\n",
    "        #    loop.\n",
    "        # 3. Evaluate the next point x by stepping into the descent direction.\n",
    "        #    Use the result of the backtracking linesearch to guarantee convergence\n",
    "        # ======================================================\n",
    "        trace = hcat(trace,[x; f(x)])\n",
    "        \n",
    "        # check if the function value became smaller\n",
    "        @assert trace[end,end] <= trace[end,end-1]\n",
    "    end\n",
    "    return x,trace\n",
    "end;"
   ]
  },
  {
   "cell_type": "markdown",
   "metadata": {},
   "source": [
    "# Exercise 2.6\n",
    "\n",
    "Test your implementation at the _marathon training example_ treated in lectures 1 and 2.\n",
    "\n",
    "Use gradient descent in combination with backtracking line search to fit a linear model to the data from a training for a marathon."
   ]
  },
  {
   "cell_type": "markdown",
   "metadata": {
    "ExecuteTime": {
     "end_time": "2020-10-22T11:42:54.019000+02:00",
     "start_time": "2020-10-22T09:42:53.603Z"
    }
   },
   "source": [
    "<img src=\"figures/laufbahn.jpeg\" width=\"350\">\n",
    "\n",
    "We train for a Marathon and measure the covered distance every 10 min. We train only for 2 hours to spare our strength for the contest. How long would we run in a real Marathon?\n",
    "\n",
    "In this example we assume that we run at an average constant velocity $v$, i.e., the covered distance $d$ scales linearly with time $t$:\n",
    "\\begin{equation}\n",
    "    p(t) = vt\n",
    "\\end{equation}"
   ]
  },
  {
   "cell_type": "code",
   "execution_count": 4,
   "metadata": {
    "ExecuteTime": {
     "end_time": "2020-11-05T17:31:01.998000+01:00",
     "start_time": "2020-11-05T16:30:55.670Z"
    }
   },
   "outputs": [],
   "source": [
    "# Given Dataset\n",
    "\n",
    "# times in minutes\n",
    "t = [10, 20, 30, 40, 50, 60, 70, 80, 90, 100, 110, 120]\n",
    "\n",
    "# distances in kilometers\n",
    "d = [1.88, 4.47, 5.63, 8.13, 8.54, 11.23, 12.27, 14.23, 15.50, 16.93, 18.69, 21.31];"
   ]
  },
  {
   "cell_type": "code",
   "execution_count": 5,
   "metadata": {
    "ExecuteTime": {
     "end_time": "2020-11-05T17:31:02.461000+01:00",
     "start_time": "2020-11-05T16:30:55.673Z"
    }
   },
   "outputs": [
    {
     "data": {
      "text/plain": [
       "m (generic function with 1 method)"
      ]
     },
     "execution_count": 5,
     "metadata": {},
     "output_type": "execute_result"
    }
   ],
   "source": [
    "# linear model\n",
    "function m(t,v)\n",
    "    # The times are measured in minutes. We convert them in units of hours by dividing by 60. Like this, the velocity\n",
    "    # has units of km/h\n",
    "    return t.*(v/60)\n",
    "end"
   ]
  },
  {
   "cell_type": "code",
   "execution_count": 6,
   "metadata": {
    "ExecuteTime": {
     "end_time": "2020-11-05T17:31:05.494000+01:00",
     "start_time": "2020-11-05T16:30:55.675Z"
    }
   },
   "outputs": [
    {
     "data": {
      "image/png": "[encoded data removed]",
      "text/plain": [
       "Figure(PyObject <Figure size 750x550 with 1 Axes>)"
      ]
     },
     "metadata": {},
     "output_type": "display_data"
    }
   ],
   "source": [
    "# Plot data and model\n",
    "\n",
    "# ===============================================\n",
    "# Test different values for the velocity and see which one fits best!\n",
    "v = 15\n",
    "# ===============================================\n",
    "\n",
    "# plot data\n",
    "scatter(t,d,color = \"black\",zorder=3, label = \"data\")\n",
    "# plot model\n",
    "plot(t,m(t,v),color = \"red\",label=\"linear model\")\n",
    "\n",
    "xlabel(\"t [min]\")\n",
    "ylabel(\"d [km]\")\n",
    "\n",
    "legend(loc = \"upper left\");"
   ]
  },
  {
   "cell_type": "markdown",
   "metadata": {},
   "source": [
    "The loss function quantifying the deviation between data  $D = \\{(t_{1}, d_{1}), (t_{2}, d_{2}),\\dots\\, (t_{n}, d_{n})\\} $ and model $m(t_i,v)$ can be defined as:\n",
    "\\begin{equation}\n",
    "l(v) = \\frac{1}{n}\\sum_{i = 1}^n \\big( d^{i} - m(t_{i},v) \\big)^2 \n",
    "\\end{equation}\n",
    "For a given dataset the loss function only depends on the model parameters, in our case the velocity $v$."
   ]
  },
  {
   "cell_type": "code",
   "execution_count": 7,
   "metadata": {
    "ExecuteTime": {
     "end_time": "2020-11-05T17:31:05.569000+01:00",
     "start_time": "2020-11-05T16:30:55.680Z"
    }
   },
   "outputs": [
    {
     "data": {
      "text/plain": [
       "dloss (generic function with 1 method)"
      ]
     },
     "execution_count": 7,
     "metadata": {},
     "output_type": "execute_result"
    }
   ],
   "source": [
    "# ===============================================\n",
    "# Define the loss function\n",
    "loss(v) = 0\n",
    "# ===============================================\n",
    "\n",
    "# ===============================================\n",
    "# Define the derivative of the loss function with respect to the velocity v\n",
    "dloss(v) = 0\n",
    "# ===============================================\n"
   ]
  },
  {
   "cell_type": "code",
   "execution_count": 8,
   "metadata": {
    "ExecuteTime": {
     "end_time": "2020-11-05T17:31:06.452000+01:00",
     "start_time": "2020-11-05T16:30:55.682Z"
    }
   },
   "outputs": [
    {
     "data": {
      "image/png": "[encoded data removed]",
      "text/plain": [
       "Figure(PyObject <Figure size 750x550 with 1 Axes>)"
      ]
     },
     "metadata": {},
     "output_type": "display_data"
    },
    {
     "data": {
      "text/plain": [
       "PyObject Text(36.0, 0.5, '$l(v)$')"
      ]
     },
     "execution_count": 8,
     "metadata": {},
     "output_type": "execute_result"
    }
   ],
   "source": [
    "# plot the loss function\n",
    "\n",
    "# create values of velocities for which the loss function should be evaluated\n",
    "test_velocities = range(8,15,length = 20)\n",
    "\n",
    "# evaluate the loss function for some test velocities\n",
    "losses = zeros(size(test_velocities,1))\n",
    "for (index,test) in enumerate(test_velocities)\n",
    "    losses[index] = loss(test)\n",
    "end\n",
    "\n",
    "# evaluate the gradient of the loss function for some test velocities\n",
    "dlosses = zeros(size(test_velocities,1))\n",
    "for (index,test) in enumerate(test_velocities)\n",
    "    dlosses[index] = dloss(test)\n",
    "end\n",
    "\n",
    "plot(test_velocities',losses)\n",
    "plot(test_velocities',dlosses)\n",
    "\n",
    "xlabel(\"v [km/h]\")\n",
    "ylabel(L\"$l(v)$\")\n"
   ]
  },
  {
   "cell_type": "code",
   "execution_count": 9,
   "metadata": {
    "ExecuteTime": {
     "end_time": "2020-11-05T17:31:07.107000+01:00",
     "start_time": "2020-11-05T16:30:55.684Z"
    }
   },
   "outputs": [
    {
     "name": "stdout",
     "output_type": "stream",
     "text": [
      "Optimal velocity [km/h]: 1\n",
      "Optimal loss: 0\n",
      "Iterations: 10001\n"
     ]
    }
   ],
   "source": [
    "result,trace = gradient_descent(loss,dloss, 1,maxiters = 10000)\n",
    "println(\"Optimal velocity [km/h]: \",result)\n",
    "println(\"Optimal loss: \",trace[end,end])\n",
    "println(\"Iterations: \", size(trace,2))"
   ]
  },
  {
   "cell_type": "code",
   "execution_count": 10,
   "metadata": {
    "ExecuteTime": {
     "end_time": "2020-11-05T17:31:07.219000+01:00",
     "start_time": "2020-11-05T16:30:55.687Z"
    }
   },
   "outputs": [
    {
     "name": "stdout",
     "output_type": "stream",
     "text": [
      "A real marathon of 42 km would take 42.0 hours\n"
     ]
    }
   ],
   "source": [
    "println(\"A real marathon of 42 km would take \", round(42/result,digits = 2), \" hours\")"
   ]
  },
  {
   "cell_type": "code",
   "execution_count": null,
   "metadata": {},
   "outputs": [],
   "source": []
  },
  {
   "cell_type": "code",
   "execution_count": null,
   "metadata": {},
   "outputs": [],
   "source": []
  }
 ],
 "metadata": {
  "kernelspec": {
   "display_name": "Julia 1.9.3",
   "language": "julia",
   "name": "julia-1.9"
  },
  "language_info": {
   "file_extension": ".jl",
   "mimetype": "application/julia",
   "name": "julia",
   "version": "1.9.3"
  },
  "toc": {
   "base_numbering": 1,
   "nav_menu": {},
   "number_sections": true,
   "sideBar": true,
   "skip_h1_title": false,
   "title_cell": "Table of Contents",
   "title_sidebar": "Contents",
   "toc_cell": false,
   "toc_position": {},
   "toc_section_display": true,
   "toc_window_display": false
  },
  "varInspector": {
   "cols": {
    "lenName": 16,
    "lenType": 16,
    "lenVar": 40
   },
   "kernels_config": {
    "python": {
     "delete_cmd_postfix": "",
     "delete_cmd_prefix": "del ",
     "library": "var_list.py",
     "varRefreshCmd": "print(var_dic_list())"
    },
    "r": {
     "delete_cmd_postfix": ") ",
     "delete_cmd_prefix": "rm(",
     "library": "var_list.r",
     "varRefreshCmd": "cat(var_dic_list()) "
    }
   },
   "types_to_exclude": [
    "module",
    "function",
    "builtin_function_or_method",
    "instance",
    "_Feature"
   ],
   "window_display": false
  }
 },
 "nbformat": 4,
 "nbformat_minor": 4
}
