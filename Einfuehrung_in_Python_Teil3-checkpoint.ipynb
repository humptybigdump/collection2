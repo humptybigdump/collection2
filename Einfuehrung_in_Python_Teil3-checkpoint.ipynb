{
 "cells": [
  {
   "cell_type": "markdown",
   "metadata": {},
   "source": [
    "# Einführung in Python - Teil 3 \n",
    "\n",
    "\n",
    "## Exkurs: Binärsystem\n",
    "\n",
    "Menschen können Informationen auf unterschiedliche Weisen verarbeiten. Sie können mit Zahlen und Zeichen umgehen oder visuelle, akustische oder sensorische Daten wahrnehmen. Computer können dagegen „nur“ unterschiedliche elektrische Spannungen, magnetische Ausrichtungen oder Reflexionsunterschiede in optischen Speichermedien „erkennen“. Die einzige „Sprache“, die sie also „verstehen“, besteht aus zusammengesetzten Nullen und Einsen.\n",
    "\n",
    "Um mit dem Computer kommunizieren zu können, müssen wir unsere Sprache in die Computersprache übersetzen. Einen Vorgang bei dem Symbole eines Alphabets durch Symbole eines anderen ersetzt werden bezeichnet man als <b>Codierung</b>.\n",
    "\n",
    "Auf folgende Weise können Zahlen des Dezimalsystems in das Binärsystem (auch Dualsystem oder Zweiersystem) umgeschrieben werden:\n",
    "\n",
    "<br>\n",
    "\n",
    " <figure>\n",
    "  <img src=\"resources/img/binaer.png\" alt=\"Dezimal- und Binärsystem\" style=\"width:70%\">\n",
    "  <br>\n",
    "  <figcaption></figcaption>\n",
    "</figure> \n",
    "\n",
    "<br>\n",
    "\n",
    "Die unterschiedlichen Codierungen der Zeichen können der Unicode-Tabelle entnommen werden. Der Unicode des Zeichens „A“ entspricht 41 in Hexadezimaldarstellung, 65 in Dezimaldarstellung und 1000001 in Binärdarstellung.\n",
    "\n",
    "Erklärvideo: https://www.youtube.com/watch?v=tgR2IGtP4tY\n",
    "\n",
    "\n",
    "## Funktionen (Fortsetzung)\n",
    "\n",
    "### Reihenfolge der Parameter beim Aufruf ändern\n",
    "\n",
    "In der Definition einer Funktion stehen die Parameter der Funktion in einer bestimmten Reihenfolge. Durch die Angabe der Namen der Parameter können die Argumente aber auch in einer beliebigen Reihenfolge beim Funktionsaufruf geschrieben werden."
   ]
  },
  {
   "cell_type": "code",
   "execution_count": null,
   "metadata": {},
   "outputs": [],
   "source": [
    "def reihenfolge(name, alter, philosoph):\n",
    "    if philosoph:\n",
    "        print(f\"Hallo {name}! Alter: {alter}, PhilosophIn: {philosoph}\")\n",
    "    else:\n",
    "        print(\"Gott ist tot!\")\n",
    "        \n",
    "reihenfolge(\"Judith\", 94, True)\n",
    "\n",
    "# Unter der Angabe der Parameternamen können die Argumente der Funktion in einer\n",
    "# anderen Reihenfolge übergeben werden.\n",
    "reihenfolge(alter=68, name=\"Angela\", philosoph=False)"
   ]
  },
  {
   "cell_type": "markdown",
   "metadata": {},
   "source": [
    "### Defaultwerte für Parameter festlegen\n",
    "\n",
    "In Python ist es möglich die Parameter der Funktionen mit bestimmten Defaultwerten zu belegen. Wenn beim Fuktionsaufruf nicht so viele Argumente übergeben wie die Anzahl der Parameter, werden die Defaultwerte bei der Ausführung der Funktion verwendet."
   ]
  },
  {
   "cell_type": "code",
   "execution_count": null,
   "metadata": {},
   "outputs": [],
   "source": [
    "# Argumente von Funktionen können bestimmte Defaultwerte haben.\n",
    "def begruessung(name=\"Friedrich\", jahr=2023):\n",
    "    print(f\"Hallo {name}! Willkommen im Jahr {jahr}.\")\n",
    "    \n",
    "# Folglich ist die Angabe der Argumente optional.\n",
    "begruessung()\n",
    "begruessung(\"Immanuel\")\n",
    "begruessung(\"John Stuart\", 2050)\n",
    "begruessung(jahr=2099)\n",
    "\n",
    "def func1(a=1, b=2, c=3):\n",
    "    print(a, b, c)\n"
   ]
  },
  {
   "cell_type": "markdown",
   "metadata": {},
   "source": [
    "### Funktionen in Funktionen\n",
    "\n",
    "Funktionen können auch innerhalb von Funktionen definiert werden. Dieser Fall ist allerdings nur selten sinnvoll. Eine Funktion, die innerhalb einer anderen Funktion definiert wird, kann nicht außerhalb dieser Funktion aufgerufen werden."
   ]
  },
  {
   "cell_type": "code",
   "execution_count": null,
   "metadata": {},
   "outputs": [],
   "source": [
    "def func1():\n",
    "    def func2():\n",
    "        return \"Hallo! \"\n",
    "    \n",
    "    begruessung = func2()\n",
    "    \n",
    "    return 5 * begruessung\n",
    "\n",
    "print(func1())\n",
    "\n",
    "# Der Aufruf func2() führt zu einem Fehler."
   ]
  },
  {
   "cell_type": "markdown",
   "metadata": {},
   "source": [
    "### Funktionen in Dateien auslagern und importieren\n",
    "\n",
    "Aus Gründen der besseren Wartbarkeit, Lesbarkeit und Strukturierung ist es ratsam, bestimmte Funktionen in unterschiedliche Dateien (in unterschiedliche Ordner) auszulagern, wenn das Programm eine bestimmte Größe überschreitet. Befolge folge Schritte, um die im Codefeld definierte Funktion außerhalb des Jupyter-Notebooks zu schreiben.\n",
    "\n",
    "<ol>\n",
    "    <li>Lege im selben Ordner, in dem sich dein Jupyter-Notebook befindet einen neuen Ordner an.</li>\n",
    "    <li>Erzeuge in diesem Ordner eine neue Datei mit der Endung .py.</li>\n",
    "    <li>Kopiere die Funktion aus dem Codefeld in die Datei und lösche sie aus dem Codefeld.</li>\n",
    "    <li>Erzeuge eine weitere Datei mit dem Namen <i>__init__.py</i> (dadurch „weiß“ Python, dass es sich bei dem Ordner um ein <i>Package</i> handelt). \n",
    "    <li>Füge in das Codefeld folgede Zeile ein: <i>from Name_des_Ordners.Name_der_Datei import phil_spruch</i></li>\n",
    "    <li>Rufe die Funktion auf und überprüfe, ob der Import geklappt hat.</li>\n",
    "    \n",
    "Auf diese Weise importierst du genau eine Funktion. Möchtest du das ganze <b>Modul</b> (Datei, in der Funktionen implementiert sind) importieren, ersetzt du die Zeile im fünften Schritt durch <i>import Name_des_Ordners.Name_der_Datei as sinnvoller_name<i>. Die Funktion kannst du nun mit <i>sinnvoller_name.philspruch()</i> aufrufen.\n",
    " "
   ]
  },
  {
   "cell_type": "code",
   "execution_count": null,
   "metadata": {},
   "outputs": [],
   "source": [
    "# Import der Funktion\n",
    "from package_test.test import phil_spruch\n",
    "phil_spruch()\n",
    "\n",
    "import package_test.test as test\n",
    "test.phil_spruch()"
   ]
  },
  {
   "cell_type": "markdown",
   "metadata": {},
   "source": [
    "### Standardbibliothek von Python\n",
    "\n",
    "Die Standardbibliothek von Python bietet sehr viele Funktionen, die nicht implementiert werden müssen und einfach importiert werden können (siehe https://docs.python.org/3/library/). Im Laufe des Seminars werden wir noch oft auf diese Module zurückgreifen. Hier sind einige Beispiele."
   ]
  },
  {
   "cell_type": "code",
   "execution_count": null,
   "metadata": {},
   "outputs": [],
   "source": [
    "import random \n",
    "\n",
    "# Zufallszahl zwischen 0 und 11\n",
    "zufallszahl = random.randint(0, 11)\n",
    "print(zufallszahl)\n",
    "\n",
    "# Mischt eine Liste.\n",
    "liste = [1, 2, 3, 4, 5]\n",
    "random.shuffle(liste)\n",
    "print(liste)"
   ]
  },
  {
   "cell_type": "code",
   "execution_count": null,
   "metadata": {},
   "outputs": [],
   "source": [
    "import time\n",
    "\n",
    "# Stoppt die Programmausführung um 2 Sekunden.\n",
    "print(\"Hallo!\")\n",
    "time.sleep(5)\n",
    "print(\"Tschüss!\")\n",
    "\n",
    "# Gibt das aktuelle Datum aus.\n",
    "from time import localtime, strftime\n",
    "strftime(\"%a, %d %b %Y %H:%M:%S\", localtime())"
   ]
  },
  {
   "cell_type": "markdown",
   "metadata": {},
   "source": [
    "<img style=\"float: left;\" src=\"resources/img/laptop_icon.png\" width=50 height=50 /> <br><br>\n",
    "<i>Implementiere die Funktion gemäß ihrer Beschreibung. (Hinweis: Eine Primzahl ist eine Zahl, die nur 1 und sich selbst ohne Rest teilbar ist.)</i>"
   ]
  },
  {
   "cell_type": "code",
   "execution_count": null,
   "metadata": {},
   "outputs": [],
   "source": [
    "def primzahlen(n):\n",
    "    '''\n",
    "    Liste alle Primzahlen bis zu einer bestimmten Zahl auf.\n",
    "    @param n: Obergrenze, bis zu der alle Primzahlen berechnet werden sollen\n",
    "    @return: Liste aller Primzahlen größer gleich n \n",
    "    '''\n",
    "    return ergebnis"
   ]
  }
 ],
 "metadata": {
  "@webio": {
   "lastCommId": null,
   "lastKernelId": null
  },
  "interpreter": {
   "hash": "2d260b012bbf33bcb2887d0961c178b7e1cdbf98f02eb539d597fc41b3ad5997"
  },
  "kernelspec": {
   "display_name": "Python 3",
   "language": "python",
   "name": "python3"
  },
  "language_info": {
   "codemirror_mode": {
    "name": "ipython",
    "version": 3
   },
   "file_extension": ".py",
   "mimetype": "text/x-python",
   "name": "python",
   "nbconvert_exporter": "python",
   "pygments_lexer": "ipython3",
   "version": "3.6.12"
  }
 },
 "nbformat": 4,
 "nbformat_minor": 2
}
