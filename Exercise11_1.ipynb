{
 "cells": [
  {
   "cell_type": "code",
   "execution_count": 1,
   "metadata": {
    "ExecuteTime": {
     "end_time": "2022-01-13T18:48:09.677000+01:00",
     "start_time": "2022-01-13T17:48:08.688Z"
    }
   },
   "outputs": [
    {
     "name": "stderr",
     "output_type": "stream",
     "text": [
      "WARNING: using LinearAlgebra.norm in module Main conflicts with an existing identifier.\n",
      "WARNING: using LinearAlgebra.dot in module Main conflicts with an existing identifier.\n"
     ]
    }
   ],
   "source": [
    "include(\"vector_spaces_library.jl\")\n",
    "using LinearAlgebra"
   ]
  },
  {
   "cell_type": "markdown",
   "metadata": {},
   "source": [
    "# Exercise 11.3: Manufacturing Company"
   ]
  },
  {
   "cell_type": "markdown",
   "metadata": {},
   "source": [
    "# Exercise 11.4: Eigenfaces"
   ]
  },
  {
   "cell_type": "code",
   "execution_count": 2,
   "metadata": {
    "ExecuteTime": {
     "end_time": "2022-01-13T18:48:24.477000+01:00",
     "start_time": "2022-01-13T17:48:11.727Z"
    }
   },
   "outputs": [
    {
     "data": {
      "text/plain": [
       "clamp (generic function with 1 method)"
      ]
     },
     "execution_count": 2,
     "metadata": {},
     "output_type": "execute_result"
    }
   ],
   "source": [
    "import Images\n",
    "import Glob\n",
    "import ImageView\n",
    "\n",
    "# Force the pixel values on the interval [0,1]\n",
    "function clamp(val)\n",
    "    if val > 1.0\n",
    "        return 1.0\n",
    "    end\n",
    "    if val < 0.0\n",
    "        return 0.0\n",
    "    end\n",
    "    return val\n",
    "end"
   ]
  },
  {
   "cell_type": "code",
   "execution_count": 3,
   "metadata": {
    "ExecuteTime": {
     "end_time": "2022-01-13T18:48:30.067000+01:00",
     "start_time": "2022-01-13T17:48:26.869Z"
    }
   },
   "outputs": [],
   "source": [
    "# Load the faces into the matrix F.\n",
    "# Every column is one face\n",
    "x = \"datasets/att_faces/s1/1.pgm\"\n",
    "faces = map(x->Images.load(x), Glob.glob(\"*/*.pgm\",\"datasets/att_faces\"))\n",
    "picsize = size(faces[1])\n",
    "F = zeros(picsize[1]*picsize[2], length(faces))\n",
    "for i = 1:length(faces)\n",
    "   F[:,i] = reshape(map(Float64, faces[i]), size(F,1))\n",
    "end"
   ]
  },
  {
   "cell_type": "code",
   "execution_count": 4,
   "metadata": {
    "ExecuteTime": {
     "end_time": "2022-01-13T18:48:33.671000+01:00",
     "start_time": "2022-01-13T17:48:27.527Z"
    }
   },
   "outputs": [
    {
     "data": {
      "image/png": "[encoded data removed]",
      "text/plain": [
       "112×92 reinterpret(reshape, ColorTypes.Gray{Float64}, ::Matrix{Float64}) with eltype ColorTypes.Gray{Float64}:\n",
       " Gray{Float64}(0.335755)  Gray{Float64}(0.335598)  …  Gray{Float64}(0.331441)\n",
       " Gray{Float64}(0.336078)  Gray{Float64}(0.336696)     Gray{Float64}(0.332412)\n",
       " Gray{Float64}(0.33701)   Gray{Float64}(0.336549)     Gray{Float64}(0.333333)\n",
       " Gray{Float64}(0.336402)  Gray{Float64}(0.336461)     Gray{Float64}(0.333382)\n",
       " Gray{Float64}(0.337343)  Gray{Float64}(0.337216)     Gray{Float64}(0.334186)\n",
       " Gray{Float64}(0.337059)  Gray{Float64}(0.338294)  …  Gray{Float64}(0.334363)\n",
       " Gray{Float64}(0.337412)  Gray{Float64}(0.337892)     Gray{Float64}(0.334657)\n",
       " Gray{Float64}(0.337235)  Gray{Float64}(0.338108)     Gray{Float64}(0.334686)\n",
       " Gray{Float64}(0.337578)  Gray{Float64}(0.336804)     Gray{Float64}(0.334402)\n",
       " Gray{Float64}(0.338422)  Gray{Float64}(0.335255)     Gray{Float64}(0.333716)\n",
       " Gray{Float64}(0.337294)  Gray{Float64}(0.332902)  …  Gray{Float64}(0.331588)\n",
       " Gray{Float64}(0.335559)  Gray{Float64}(0.331833)     Gray{Float64}(0.332892)\n",
       " Gray{Float64}(0.33401)   Gray{Float64}(0.330373)     Gray{Float64}(0.331618)\n",
       " ⋮                                                 ⋱  \n",
       " Gray{Float64}(0.291314)  Gray{Float64}(0.291775)  …  Gray{Float64}(0.249618)\n",
       " Gray{Float64}(0.295382)  Gray{Float64}(0.294882)     Gray{Float64}(0.249451)\n",
       " Gray{Float64}(0.299814)  Gray{Float64}(0.29851)      Gray{Float64}(0.254363)\n",
       " Gray{Float64}(0.305627)  Gray{Float64}(0.306382)     Gray{Float64}(0.259578)\n",
       " Gray{Float64}(0.313833)  Gray{Float64}(0.314794)     Gray{Float64}(0.262235)\n",
       " Gray{Float64}(0.323333)  Gray{Float64}(0.323343)  …  Gray{Float64}(0.26499)\n",
       " Gray{Float64}(0.336549)  Gray{Float64}(0.338029)     Gray{Float64}(0.27151)\n",
       " Gray{Float64}(0.351078)  Gray{Float64}(0.349539)     Gray{Float64}(0.2805)\n",
       " Gray{Float64}(0.360294)  Gray{Float64}(0.359882)     Gray{Float64}(0.283696)\n",
       " Gray{Float64}(0.371608)  Gray{Float64}(0.372647)     Gray{Float64}(0.2825)\n",
       " Gray{Float64}(0.385725)  Gray{Float64}(0.387627)  …  Gray{Float64}(0.289461)\n",
       " Gray{Float64}(0.394147)  Gray{Float64}(0.403284)     Gray{Float64}(0.29501)"
      ]
     },
     "execution_count": 4,
     "metadata": {},
     "output_type": "execute_result"
    }
   ],
   "source": [
    "# Subtract the average face to compute Fnormalized\n",
    "avg_face = zeros(picsize[1]*picsize[2])\n",
    "for i = 1:picsize[1]*picsize[2]\n",
    "   avg_face[i] = sum(F[i,:]) / length(faces)\n",
    "end\n",
    "Fnormalized = F .- avg_face\n",
    "Images.colorview(Images.Gray, reshape(avg_face, picsize))"
   ]
  },
  {
   "cell_type": "code",
   "execution_count": 5,
   "metadata": {
    "ExecuteTime": {
     "end_time": "2022-01-13T18:48:35.592000+01:00",
     "start_time": "2022-01-13T17:48:28.771Z"
    }
   },
   "outputs": [],
   "source": [
    "# Compute the vector space of the first N eigenfaces\n",
    "# You don't have to understand this step to continue!\n",
    "N = 20\n",
    "AA = transpose(Fnormalized) * Fnormalized\n",
    "EV = LinearAlgebra.eigvecs(AA)\n",
    "eigenfaces = Fnormalized * EV[:,length(faces)-N+1:end]\n",
    "Images.colorview(Images.Gray, reshape(eigenfaces[:,end-2], picsize));"
   ]
  },
  {
   "cell_type": "code",
   "execution_count": 6,
   "metadata": {
    "ExecuteTime": {
     "end_time": "2022-01-13T18:48:35.807000+01:00",
     "start_time": "2022-01-13T17:48:29.996Z"
    }
   },
   "outputs": [
    {
     "data": {
      "image/png": "[encoded data removed]",
      "text/plain": [
       "112×92 reinterpret(reshape, ColorTypes.Gray{Float64}, ::Matrix{Float64}) with eltype ColorTypes.Gray{Float64}:\n",
       " Gray{Float64}(0.3175)     …  Gray{Float64}(0.427888)\n",
       " Gray{Float64}(0.329165)      Gray{Float64}(0.408815)\n",
       " Gray{Float64}(0.320414)      Gray{Float64}(0.412211)\n",
       " Gray{Float64}(0.306888)      Gray{Float64}(0.410611)\n",
       " Gray{Float64}(0.321812)      Gray{Float64}(0.399825)\n",
       " Gray{Float64}(0.323408)   …  Gray{Float64}(0.389566)\n",
       " Gray{Float64}(0.340451)      Gray{Float64}(0.379156)\n",
       " Gray{Float64}(0.357639)      Gray{Float64}(0.358093)\n",
       " Gray{Float64}(0.35473)       Gray{Float64}(0.361313)\n",
       " Gray{Float64}(0.337154)      Gray{Float64}(0.351204)\n",
       " Gray{Float64}(0.352113)   …  Gray{Float64}(0.328912)\n",
       " Gray{Float64}(0.379528)      Gray{Float64}(0.285223)\n",
       " Gray{Float64}(0.399369)      Gray{Float64}(0.260897)\n",
       " ⋮                         ⋱  \n",
       " Gray{Float64}(0.378308)   …  Gray{Float64}(0.770416)\n",
       " Gray{Float64}(0.402279)      Gray{Float64}(0.773275)\n",
       " Gray{Float64}(0.443114)      Gray{Float64}(0.74387)\n",
       " Gray{Float64}(0.455893)      Gray{Float64}(0.653986)\n",
       " Gray{Float64}(0.402379)      Gray{Float64}(0.633192)\n",
       " Gray{Float64}(0.351307)   …  Gray{Float64}(0.609055)\n",
       " Gray{Float64}(0.172604)      Gray{Float64}(0.513677)\n",
       " Gray{Float64}(0.0824851)     Gray{Float64}(0.470906)\n",
       " Gray{Float64}(0.0671119)     Gray{Float64}(0.460558)\n",
       " Gray{Float64}(0.130477)      Gray{Float64}(0.526137)\n",
       " Gray{Float64}(0.177146)   …  Gray{Float64}(0.476392)\n",
       " Gray{Float64}(0.122949)      Gray{Float64}(0.404437)"
      ]
     },
     "execution_count": 6,
     "metadata": {},
     "output_type": "execute_result"
    }
   ],
   "source": [
    "Images.colorview(Images.Gray, reshape(clamp.(eigenfaces[:,2] + avg_face), picsize))"
   ]
  },
  {
   "cell_type": "code",
   "execution_count": 7,
   "metadata": {
    "ExecuteTime": {
     "end_time": "2022-01-13T18:48:36.837000+01:00",
     "start_time": "2022-01-13T17:48:30.034Z"
    }
   },
   "outputs": [
    {
     "data": {
      "text/plain": [
       "10304-element Vector{Float64}:\n",
       " -0.1318333333333334\n",
       " -0.15960784313725493\n",
       " -0.15269607843137256\n",
       " -0.14816666666666656\n",
       " -0.15302941176470586\n",
       " -0.17235294117647063\n",
       " -0.14525490196078425\n",
       " -0.17645098039215693\n",
       " -0.15326470588235286\n",
       " -0.1580294117647059\n",
       " -0.16082352941176467\n",
       " -0.16300980392156855\n",
       " -0.1614607843137255\n",
       "  ⋮\n",
       " -0.12412745098039216\n",
       " -0.13180392156862755\n",
       " -0.15240196078431387\n",
       " -0.1615392156862746\n",
       " -0.16419607843137263\n",
       " -0.16695098039215694\n",
       " -0.15778431372549018\n",
       " -0.1981470588235295\n",
       " -0.15820588235294125\n",
       " -0.18446078431372553\n",
       " -0.199264705882353\n",
       " -0.20089215686274514"
      ]
     },
     "execution_count": 7,
     "metadata": {},
     "output_type": "execute_result"
    }
   ],
   "source": [
    "f = rand(1:length(faces)) # face index\n",
    "face = Fnormalized[:,f]\n",
    "# =========================================================================================\n",
    "# Reconstruct the face at index f as a linar combination of the eigenfaces\n",
    "\n",
    "# 1. Build your basis by arranging the \"eigenfaces\" in a vector\n",
    "# 2. perform the projection of the given face on the space spanned by the basis.\n",
    "\n",
    "# projection = ...\n",
    "\n",
    "# ========================================================================================="
   ]
  },
  {
   "cell_type": "code",
   "execution_count": 8,
   "metadata": {
    "ExecuteTime": {
     "end_time": "2022-01-13T18:48:36.907000+01:00",
     "start_time": "2022-01-13T17:48:30.103Z"
    }
   },
   "outputs": [],
   "source": [
    "# uncomment the following line to see your result\n",
    "#[faces[f] Images.colorview(Images.Gray, reshape(projection + avg_face, picsize))]"
   ]
  },
  {
   "cell_type": "code",
   "execution_count": null,
   "metadata": {},
   "outputs": [],
   "source": []
  }
 ],
 "metadata": {
  "kernelspec": {
   "display_name": "Julia 1.6.3",
   "language": "julia",
   "name": "julia-1.6"
  },
  "language_info": {
   "file_extension": ".jl",
   "mimetype": "application/julia",
   "name": "julia",
   "version": "1.6.3"
  },
  "toc": {
   "base_numbering": 1,
   "nav_menu": {},
   "number_sections": true,
   "sideBar": true,
   "skip_h1_title": false,
   "title_cell": "Table of Contents",
   "title_sidebar": "Contents",
   "toc_cell": false,
   "toc_position": {
    "height": "calc(100% - 180px)",
    "left": "10px",
    "top": "150px",
    "width": "352px"
   },
   "toc_section_display": true,
   "toc_window_display": true
  },
  "varInspector": {
   "cols": {
    "lenName": 16,
    "lenType": 16,
    "lenVar": 40
   },
   "kernels_config": {
    "python": {
     "delete_cmd_postfix": "",
     "delete_cmd_prefix": "del ",
     "library": "var_list.py",
     "varRefreshCmd": "print(var_dic_list())"
    },
    "r": {
     "delete_cmd_postfix": ") ",
     "delete_cmd_prefix": "rm(",
     "library": "var_list.r",
     "varRefreshCmd": "cat(var_dic_list()) "
    }
   },
   "types_to_exclude": [
    "module",
    "function",
    "builtin_function_or_method",
    "instance",
    "_Feature"
   ],
   "window_display": false
  }
 },
 "nbformat": 4,
 "nbformat_minor": 4
}
