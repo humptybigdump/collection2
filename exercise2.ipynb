{
 "cells": [
  {
   "cell_type": "code",
   "execution_count": 1,
   "id": "eb8cdb88",
   "metadata": {},
   "outputs": [],
   "source": [
    "import numpy as np\n",
    "import matplotlib.pyplot as plt\n",
    "import scipy.optimize"
   ]
  },
  {
   "cell_type": "code",
   "execution_count": 2,
   "id": "85ab2357",
   "metadata": {},
   "outputs": [],
   "source": [
    "# load age productivity profile and lifetable\n",
    "age_profile = np.loadtxt('ageprod.txt')\n",
    "age_profile = age_profile / np.mean(age_profile)\n",
    "surv_rate = np.loadtxt('surv_rate.txt')"
   ]
  },
  {
   "cell_type": "code",
   "execution_count": 3,
   "id": "ca493ba7",
   "metadata": {},
   "outputs": [],
   "source": [
    "# economic parameters\n",
    "maxage = 81\n",
    "ret_age = 45\n",
    "irate = 0.03\n",
    "time_pref = irate\n",
    "betta = 1.0 / (1.0 + time_pref)\n",
    "sigma = 2.0\n",
    "tau = 0.15\n",
    "ben = 0.44\n",
    "v_frisch = 1.0\n",
    "chi = 12.0"
   ]
  },
  {
   "cell_type": "code",
   "execution_count": 4,
   "id": "d64fa60e",
   "metadata": {},
   "outputs": [],
   "source": [
    "amin = 0.0\n",
    "amax = 50.0\n",
    "na = 101\n",
    "\n",
    "# set up the savings grid\n",
    "agrid = np.linspace(amin, amax, na)"
   ]
  },
  {
   "cell_type": "code",
   "execution_count": 5,
   "id": "38a1a07c",
   "metadata": {},
   "outputs": [],
   "source": [
    "# set up the income stream\n",
    "y = np.zeros(maxage)\n",
    "y[:ret_age] = 3 * (1 - tau) * age_profile\n",
    "y[ret_age:] = ben"
   ]
  },
  {
   "cell_type": "code",
   "execution_count": 6,
   "id": "ece00f7c",
   "metadata": {},
   "outputs": [],
   "source": [
    "# pre-allocate\n",
    "ap = np.zeros((maxage, na))\n",
    "con = np.zeros((maxage, na))\n",
    "lab = np.zeros((maxage, na))\n",
    "lab_new = np.zeros((maxage, na))\n",
    "c_new = np.zeros((maxage, na)) # implied consumption\n",
    "astar = np.zeros((maxage, na)) # endogenous asset\n",
    "a_bar = np.zeros(maxage) # a today correspodning to a'=0"
   ]
  },
  {
   "cell_type": "code",
   "execution_count": 7,
   "id": "14341cd2",
   "metadata": {},
   "outputs": [],
   "source": [
    "# LAST PERIOD\n",
    "j = maxage-1\n",
    "# loop over (beginning-of-period) savings\n",
    "for ia in range(na):\n",
    "    # the household will consume all the remaining resources\n",
    "    ap[j, ia] = 0.0\n",
    "    con[j, ia] = (1.0 + irate) * agrid[ia] + y[j]"
   ]
  },
  {
   "cell_type": "code",
   "execution_count": 8,
   "id": "682e64fc",
   "metadata": {},
   "outputs": [],
   "source": [
    "# RETRIEMENT PERIODS\n",
    "# loop backwards over all periods\n",
    "for j in range(maxage-2, ret_age-1, -1):\n",
    "\n",
    "    # EGM Step 1:\n",
    "    # loop over savings choice\n",
    "    for ia in range(na):\n",
    "        # compute the RHS of the euler equation\n",
    "        rhs = betta * surv_rate[j] * (1.0 + irate) * con[j+1, ia]**(-sigma)\n",
    "        # compute the implied consumption\n",
    "        c_new[j, ia] = rhs**(-1.0/sigma)\n",
    "        # compute the implied beginning-of-period assets\n",
    "        astar[j, ia] = (c_new[j, ia] + agrid[ia] - y[j]) / (1.0 + irate)\n",
    "\n",
    "    # store the savings corresponding to the lowest grid point\n",
    "    a_bar[j] = astar[j, 0]\n",
    "\n",
    "    # EGM Step 2:\n",
    "    # loop over beginning-of-period assets\n",
    "    for ia in range(na):\n",
    "        if agrid[ia] < a_bar[j]: # if the borrowing constraint is binding\n",
    "            con[j, ia] = y[j] + (1.0 + irate) * agrid[ia]\n",
    "            ap[j, ia] = 0.0\n",
    "        else: # if the borrowing cosntraint is not binding\n",
    "            con[j, ia] = np.interp(agrid[ia], astar[j, :], c_new[j, :])\n",
    "            ap[j, ia] = (1.0 + irate) * agrid[ia] + y[j] - con[j, ia]"
   ]
  },
  {
   "cell_type": "code",
   "execution_count": 9,
   "id": "9e00e4cc",
   "metadata": {},
   "outputs": [],
   "source": [
    "# WORKING PERIODS\n",
    "# loop backwards over all periods\n",
    "for j in range(ret_age-1, -1, -1):\n",
    "\n",
    "    # EGM Step 1:\n",
    "    # loop over savings choice\n",
    "    for ia in range(na):\n",
    "        # compute the RHS of the euler equation\n",
    "        rhs = betta * surv_rate[j] * (1.0 + irate) * con[j+1, ia]**(-sigma)\n",
    "        # compute the implied consumption\n",
    "        c_new[j, ia] = rhs**(-1.0/sigma)\n",
    "        # find labor supply\n",
    "        lab_new[j, ia] = ((c_new[j, ia] ** (-sigma) * y[j]) / chi) ** v_frisch\n",
    "        # compute the implied beginning-of-period assets\n",
    "        astar[j, ia] = (c_new[j, ia] + agrid[ia] - y[j] * lab_new[j, ia]) / (1.0 + irate)\n",
    "\n",
    "    # store the savings corresponding to the lowest grid point\n",
    "    a_bar[j] = astar[j, 0]\n",
    "\n",
    "    # EGM Step 2:\n",
    "    # loop over beginning-of-period assets\n",
    "    for ia in range(na):\n",
    "        if agrid[ia] < a_bar[j]: # if the borrowing constraint is binding\n",
    "\n",
    "            # when the constraint is binding the choices for consumption and\n",
    "            # labor supply are not analytical, therefore we solve the system\n",
    "            # of equations numerically\n",
    "            def lab_bc(lab_guess):\n",
    "                con_imp = (1 + irate) * agrid[ia] + y[j] * lab_guess\n",
    "                res = chi * lab_guess ** (1 / v_frisch) - y[j] * con_imp ** (-sigma)\n",
    "                return res\n",
    "\n",
    "            lab[j, ia] = scipy.optimize.brentq(lab_bc, 0.01, 2.0)\n",
    "            con[j, ia] = y[j] * lab[j, ia] + (1.0 + irate) * agrid[ia]\n",
    "            ap[j, ia] = 0.0\n",
    "        else: # if the borrowing cosntraint is not binding\n",
    "\n",
    "            con[j, ia] = np.interp(agrid[ia], astar[j, :], c_new[j, :])\n",
    "            lab[j, ia] = np.interp(agrid[ia], astar[j, :], lab_new[j, :])\n",
    "            ap[j, ia] = (1.0 + irate) * agrid[ia] + y[j] * lab[j, ia] - con[j, ia]"
   ]
  },
  {
   "cell_type": "code",
   "execution_count": 10,
   "id": "28045779",
   "metadata": {},
   "outputs": [],
   "source": [
    "# LIFECYCLE PROFILES\n",
    "a_profile = np.zeros(maxage)\n",
    "con_profile = np.zeros(maxage)\n",
    "ap_profile = np.zeros(maxage)\n",
    "lab_profile = np.zeros(maxage)\n",
    "\n",
    "for j in range(maxage-1):\n",
    "    con_profile[j] = np.interp(a_profile[j], agrid, con[j, :])\n",
    "    ap_profile[j] = np.interp(a_profile[j], agrid, ap[j, :])\n",
    "    a_profile[j+1] = ap_profile[j]\n",
    "    lab_profile[j] = np.interp(a_profile[j], agrid, lab[j, :])\n",
    "\n",
    "# last period\n",
    "con_profile[maxage-1] = np.interp(a_profile[maxage-1], agrid, con[maxage-1, :])\n",
    "lab_profile[maxage-1] = np.interp(a_profile[maxage-1], agrid, lab[maxage-1, :])"
   ]
  },
  {
   "cell_type": "code",
   "execution_count": 11,
   "id": "110606e9",
   "metadata": {},
   "outputs": [
    {
     "data": {
      "image/png": "[encoded data removed]",
      "text/plain": [
       "<Figure size 432x288 with 1 Axes>"
      ]
     },
     "metadata": {
      "needs_background": "light"
     },
     "output_type": "display_data"
    },
    {
     "data": {
      "image/png": "[encoded data removed]",
      "text/plain": [
       "<Figure size 432x288 with 1 Axes>"
      ]
     },
     "metadata": {
      "needs_background": "light"
     },
     "output_type": "display_data"
    },
    {
     "data": {
      "image/png": "[encoded data removed]",
      "text/plain": [
       "<Figure size 432x288 with 1 Axes>"
      ]
     },
     "metadata": {
      "needs_background": "light"
     },
     "output_type": "display_data"
    }
   ],
   "source": [
    "plt.figure()\n",
    "plt.plot(np.arange(maxage), con_profile, color='black')\n",
    "plt.title('Consumption Profile')\n",
    "\n",
    "plt.figure()\n",
    "plt.plot(np.arange(maxage), a_profile, color='black')\n",
    "plt.title('Asset Profile')\n",
    "\n",
    "plt.figure()\n",
    "plt.plot(np.arange(ret_age), lab_profile[:ret_age], color='black')\n",
    "plt.title('Labor Profile')\n",
    "\n",
    "plt.show()"
   ]
  },
  {
   "cell_type": "code",
   "execution_count": null,
   "id": "60940446",
   "metadata": {},
   "outputs": [],
   "source": []
  }
 ],
 "metadata": {
  "kernelspec": {
   "display_name": "Python 3 (ipykernel)",
   "language": "python",
   "name": "python3"
  },
  "language_info": {
   "codemirror_mode": {
    "name": "ipython",
    "version": 3
   },
   "file_extension": ".py",
   "mimetype": "text/x-python",
   "name": "python",
   "nbconvert_exporter": "python",
   "pygments_lexer": "ipython3",
   "version": "3.9.7"
  }
 },
 "nbformat": 4,
 "nbformat_minor": 5
}
