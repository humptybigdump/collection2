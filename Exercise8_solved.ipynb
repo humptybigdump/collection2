{
 "cells": [
  {
   "cell_type": "code",
   "execution_count": 1,
   "metadata": {
    "ExecuteTime": {
     "end_time": "2021-12-17T12:56:27.707000+01:00",
     "start_time": "2021-12-17T11:56:26.139Z"
    }
   },
   "outputs": [],
   "source": [
    "include(\"optimization_library.jl\");"
   ]
  },
  {
   "cell_type": "markdown",
   "metadata": {},
   "source": [
    "# Exercise 8.1: Optimal Path for Santa\n",
    "\n",
    "<img src=\"figures/santa-claus.png\" width=\"300\">"
   ]
  },
  {
   "cell_type": "code",
   "execution_count": 2,
   "metadata": {
    "ExecuteTime": {
     "end_time": "2021-12-17T15:37:58.600000+01:00",
     "start_time": "2021-12-17T14:37:58.572Z"
    }
   },
   "outputs": [
    {
     "data": {
      "text/plain": [
       "4-element Vector{Int64}:\n",
       " 178\n",
       "  78\n",
       "  60\n",
       "  40"
      ]
     },
     "execution_count": 2,
     "metadata": {},
     "output_type": "execute_result"
    }
   ],
   "source": [
    "# ================================================================================================\n",
    "# vector c, matrix A and vector b\n",
    "\n",
    "c = [4857; 3281; 7891; 7891; 7312; 7312; 9892; 9892]\n",
    "\n",
    "A = [1 1 0 0 0 0 0 0;\n",
    "    0 1 1 -1 0 0 1 -1;\n",
    "    1 0 -1 1 1 -1 0 0;\n",
    "    0 0 0 0 -1 1 -1 1]\n",
    "\n",
    "d_eu = 78\n",
    "d_usa = 60\n",
    "d_bz = 40\n",
    "supply = d_eu + d_usa + d_bz\n",
    "\n",
    "b = [supply; d_eu; d_usa; d_bz]\n",
    "# ================================================================================================"
   ]
  },
  {
   "cell_type": "code",
   "execution_count": 3,
   "metadata": {
    "ExecuteTime": {
     "end_time": "2021-12-17T15:38:14.819000+01:00",
     "start_time": "2021-12-17T14:38:14.806Z"
    }
   },
   "outputs": [],
   "source": [
    "# ================================================================================================\n",
    "# 1. Implement the objective function, its gradient and Hessian.\n",
    "# 2. Implement the functions g(x) for the inequality constraints, their gradients and Hessians.\n",
    "nx = size(A,2)\n",
    "\n",
    "f(x) = c' * x\n",
    "df(x) = c\n",
    "Hf(x) = zeros(nx,nx)\n",
    "\n",
    "g = Vector(undef, nx)\n",
    "dg = Vector(undef, nx)\n",
    "Hg = Vector(undef, nx)\n",
    "    \n",
    "for i in 1:nx # allow only positive quantities\n",
    "    g[i] = x -> -x[i]\n",
    "    dg[i] = x -> begin d = zeros(nx); d[i] = -1; return d end\n",
    "    Hg[i] = x -> zeros(nx, nx)\n",
    "end"
   ]
  },
  {
   "cell_type": "code",
   "execution_count": 4,
   "metadata": {
    "ExecuteTime": {
     "end_time": "2021-12-17T15:38:17.914000+01:00",
     "start_time": "2021-12-17T14:38:15.935Z"
    }
   },
   "outputs": [
    {
     "name": "stdout",
     "output_type": "stream",
     "text": [
      "10.943851197933643\n"
     ]
    }
   ],
   "source": [
    "# ================================================================================================\n",
    "# Apply the function ConstraintElimination_ipm() from the optimization library\n",
    "x_best, trace = ConstraintElimination_ipm(f,df,Hf,A,b,g=g,dg = dg, Hg = Hg, eps_barrier = 0.00001, barrier_increase = 10.0);\n",
    "# ================================================================================================"
   ]
  },
  {
   "cell_type": "code",
   "execution_count": 5,
   "metadata": {
    "ExecuteTime": {
     "end_time": "2021-12-17T15:40:16.361000+01:00",
     "start_time": "2021-12-17T14:40:16.357Z"
    }
   },
   "outputs": [
    {
     "data": {
      "text/plain": [
       "8-element Vector{Float64}:\n",
       " 99.99999911788571\n",
       " 78.00000088211425\n",
       "  9.360653585588352e-8\n",
       "  1.4032828854482204e-7\n",
       "  6.059718593576235e-8\n",
       " 39.9999992252047\n",
       "  4.7187068474841e-8\n",
       "  8.825795703160111e-7"
      ]
     },
     "execution_count": 5,
     "metadata": {},
     "output_type": "execute_result"
    }
   ],
   "source": [
    "x_best"
   ]
  },
  {
   "cell_type": "code",
   "execution_count": 6,
   "metadata": {
    "ExecuteTime": {
     "end_time": "2021-12-17T15:40:17.260000+01:00",
     "start_time": "2021-12-17T14:40:17.257Z"
    }
   },
   "outputs": [
    {
     "name": "stdout",
     "output_type": "stream",
     "text": [
      "average distance per package: 5809.54 km\n"
     ]
    }
   ],
   "source": [
    "println(\"average distance per package: \",round((c'*x_best)/supply,digits=2),\" km\")"
   ]
  },
  {
   "cell_type": "markdown",
   "metadata": {},
   "source": [
    "## How to use the SCS solver"
   ]
  },
  {
   "cell_type": "markdown",
   "metadata": {},
   "source": [
    "We will now learn how to use the SCS solver using the JuMP package. The JuMP package provides macros that allow to access some functions of the solver in a very convenient way."
   ]
  },
  {
   "cell_type": "code",
   "execution_count": 7,
   "metadata": {
    "ExecuteTime": {
     "end_time": "2021-12-17T15:41:41.083000+01:00",
     "start_time": "2021-12-17T14:41:41.066Z"
    }
   },
   "outputs": [],
   "source": [
    "using JuMP\n",
    "using SCS"
   ]
  },
  {
   "cell_type": "code",
   "execution_count": 8,
   "metadata": {
    "ExecuteTime": {
     "end_time": "2021-12-17T15:42:44.206000+01:00",
     "start_time": "2021-12-17T14:42:44.095Z"
    }
   },
   "outputs": [
    {
     "name": "stdout",
     "output_type": "stream",
     "text": [
      "------------------------------------------------------------------\n",
      "\t       SCS v3.2.6 - Splitting Conic Solver\n",
      "\t(c) Brendan O'Donoghue, Stanford University, 2012\n",
      "------------------------------------------------------------------\n",
      "problem:  variables n: 8, constraints m: 12\n",
      "cones: \t  z: primal zero / dual free vars: 4\n",
      "\t  l: linear vars: 8\n",
      "settings: eps_abs: 1.0e-004, eps_rel: 1.0e-004, eps_infeas: 1.0e-007\n",
      "\t  alpha: 1.50, scale: 1.00e-001, adaptive_scale: 1\n",
      "\t  max_iters: 100000, normalize: 1, rho_x: 1.00e-006\n",
      "\t  acceleration_lookback: 10, acceleration_interval: 10\n",
      "\t  compiled with openmp parallelization enabled\n",
      "lin-sys:  sparse-direct-amd-qdldl\n",
      "\t  nnz(A): 24, nnz(P): 0\n",
      "------------------------------------------------------------------\n",
      " iter | pri res | dua res |   gap   |   obj   |  scale  | time (s)\n",
      "------------------------------------------------------------------\n",
      "     0|2.00e+005 9.89e+003 8.56e+009 -4.28e+009 1.00e-001 4.46e-003 \n",
      "   225|6.97e-005 1.14e-004 7.22e-001 1.03e+006 2.83e+001 6.59e-003 \n",
      "------------------------------------------------------------------\n",
      "status:  solved\n",
      "timings: total: 6.60e-003s = setup: 1.94e-004s + solve: 6.40e-003s\n",
      "\t lin-sys: 1.75e-004s, cones: 6.87e-005s, accel: 1.28e-004s\n",
      "------------------------------------------------------------------\n",
      "objective = 1034098.361238\n",
      "------------------------------------------------------------------\n"
     ]
    }
   ],
   "source": [
    "# ================================================================================================\n",
    "# Uncomment the following lines to solve the problem with the SCS solver.\n",
    "model = Model(SCS.Optimizer)\n",
    "@JuMP.variable(model, x[1:nx])\n",
    "@JuMP.constraint(model, A * x .== b)\n",
    "@JuMP.constraint(model,  -x .<= zeros(nx))\n",
    "@JuMP.objective(model, Min, c'*x)\n",
    "JuMP.optimize!(model)\n",
    "# ================================================================================================"
   ]
  },
  {
   "cell_type": "code",
   "execution_count": 9,
   "metadata": {
    "ExecuteTime": {
     "end_time": "2021-12-17T15:44:11.172000+01:00",
     "start_time": "2021-12-17T14:44:11.168Z"
    }
   },
   "outputs": [
    {
     "data": {
      "text/plain": [
       "8-element Vector{Float64}:\n",
       " 100.00000230135663\n",
       "  77.99999770467177\n",
       "  -1.6398455005371797e-5\n",
       "   1.568723962887483e-5\n",
       "   3.290514205987734e-5\n",
       "  40.000067325469054\n",
       "   1.6746026859733684e-5\n",
       "  -1.7637593277805285e-5"
      ]
     },
     "execution_count": 9,
     "metadata": {},
     "output_type": "execute_result"
    }
   ],
   "source": [
    "# ================================================================================================\n",
    "# Uncomment the following line to retrieve the minimizer. Compare the solution to the result from the \n",
    "# ConstraintElimination_ipm() function.\n",
    "sol = JuMP.value.(x)\n",
    "# ================================================================================================"
   ]
  },
  {
   "cell_type": "code",
   "execution_count": 10,
   "metadata": {
    "ExecuteTime": {
     "end_time": "2021-12-17T15:44:25.896000+01:00",
     "start_time": "2021-12-17T14:44:25.891Z"
    }
   },
   "outputs": [
    {
     "data": {
      "text/plain": [
       "8-element BitVector:\n",
       " 1\n",
       " 1\n",
       " 1\n",
       " 1\n",
       " 1\n",
       " 1\n",
       " 1\n",
       " 1"
      ]
     },
     "execution_count": 10,
     "metadata": {},
     "output_type": "execute_result"
    }
   ],
   "source": [
    "abs.(sol-x_best) .< 0.01"
   ]
  },
  {
   "cell_type": "code",
   "execution_count": 11,
   "metadata": {
    "ExecuteTime": {
     "end_time": "2021-12-17T15:44:37.807000+01:00",
     "start_time": "2021-12-17T14:44:37.804Z"
    }
   },
   "outputs": [],
   "source": [
    "@assert sum(abs.(sol-x_best) .< 0.01) == length(x_best)"
   ]
  },
  {
   "cell_type": "markdown",
   "metadata": {},
   "source": [
    "# Exercise 8.2: Truss Structure"
   ]
  },
  {
   "cell_type": "code",
   "execution_count": 14,
   "metadata": {
    "ExecuteTime": {
     "end_time": "2021-12-17T16:16:34.206000+01:00",
     "start_time": "2021-12-17T15:16:34.195Z"
    }
   },
   "outputs": [
    {
     "data": {
      "text/plain": [
       "drawTruss (generic function with 1 method)"
      ]
     },
     "execution_count": 14,
     "metadata": {},
     "output_type": "execute_result"
    },
    {
     "name": "stderr",
     "output_type": "stream",
     "text": [
      "\n",
      "(process:33568): GLib-GIO-WARNING **: 18:48:00.197: Failed to open application manifest `C:\\Windows\\SystemApps\\Microsoft.MicrosoftEdge_8wekyb3d8bbwe\\AppxManifest.xml' for package #42 (`Microsoft.MicrosoftEdge_44.22621.2134.0_neutral__8wekyb3d8bbwe'): error code 0x2\n"
     ]
    }
   ],
   "source": [
    "using Luxor\n",
    "# J: Joints\n",
    "# B: Beams\n",
    "# Jc: Cantilever joints\n",
    "# Jl: Joint load\n",
    "# A: Beam cross-sectional area\n",
    "function drawTruss(J, B, Jc, Jl, A)\n",
    "    scale = 40\n",
    "    function pos(j)\n",
    "        return Point(J[j][1]*scale - 400, -J[j][2]*scale)\n",
    "    end\n",
    "    @pdf begin\n",
    "        background(\"white\")\n",
    "        \n",
    "        # Draw beams\n",
    "        setcolor(\"black\")\n",
    "        for b=1:nB\n",
    "            if A[b] <= 1\n",
    "                continue\n",
    "            end\n",
    "            setline(sqrt(A[b]))\n",
    "            line(pos(B[b][1]), pos(B[b][2]), :stroke)\n",
    "        end\n",
    "        \n",
    "        # Draw road\n",
    "        setcolor(\"blue\")\n",
    "        setline(5)\n",
    "        line(Point(-400,0), Point(-400 + max_x*scale,0), :stroke)\n",
    "        \n",
    "        # Draw joints\n",
    "        setcolor(\"red\")\n",
    "        for j = 1:length(J)\n",
    "            if j in Jc\n",
    "                circle(pos(j), 8, :fill)\n",
    "            end\n",
    "        end\n",
    "        \n",
    "        # Draw load arrows\n",
    "        setcolor(\"green\")\n",
    "        for j = 1:length(J)\n",
    "            if LinearAlgebra.norm(Jl[j]) <= 0.1\n",
    "                continue\n",
    "            end\n",
    "            Luxor.arrow(pos(j), pos(j) - (Point(Jl[j][1], Jl[j][2])/500), linewidth=5)\n",
    "        end\n",
    "    end 1000 400\n",
    "end"
   ]
  },
  {
   "cell_type": "code",
   "execution_count": 15,
   "metadata": {
    "ExecuteTime": {
     "end_time": "2021-12-17T16:16:36.934000+01:00",
     "start_time": "2021-12-17T15:16:36.085Z"
    }
   },
   "outputs": [],
   "source": [
    "# Joints. Each is a two-vector with the x-y coordinate\n",
    "J = [[x,y] for x=0:1:17, y=-2:1:4]\n",
    "nJ = length(J) # number of joints\n",
    "\n",
    "# Constructing vector of beams of lenght 1 m. Each beam corresponds to a tuple with the indeces of the joints the beam is connecting\n",
    "# Connect all joints that are in a radius < 2m.\n",
    "rad = 2.0\n",
    "B = [(i,j) for i=1:nJ, j = 1:nJ if j < i && LinearAlgebra.norm(J[i]-J[j]) < rad]\n",
    "\n",
    "# number of beams\n",
    "nB = length(B)\n",
    "\n",
    "# Vector storing indices of beams connected to each joint\n",
    "# Beams connected to each joint\n",
    "Bj = [[b for b=1:nB if B[b][1] == j || B[b][2] == j] for j=1:nJ];\n",
    "\n",
    "# number of joints along x-axis\n",
    "max_x = maximum([J[i][1] for i=1:nJ])\n",
    "\n",
    "# Defining cantilever joints as the joints that are on both sides of the bridge and below or equal to the street level\n",
    "Jc = [i for i=1:nJ if ((J[i][1] == 0 || J[i][1] == max_x) && J[i][2] <= 0)];\n",
    "\n",
    "# If you want to have two additional cantilever points in the middle of the river uncomment the following line.\n",
    "# Jc = [i for i=1:nJ if (((J[i][1] == 0 || J[i][1] == max_x) && J[i][2] <= 0) || ((J[i][1] == 6 || J[i][1] == 7) && J[i][2] == 0))];\n",
    "\n",
    "nC = length(Jc) # number of cantilever points\n",
    "\n",
    "# external load excerted on each joint at street level --> try also other loads!\n",
    "load = 2000\n",
    "\n",
    "# External loads excerted on the joints at street level (y-coordinate equals zero)\n",
    "Jl = [J[j][2] == 0 ? [0.0, -load*9.81] : [0.0,0.0] for j=1:nJ];"
   ]
  },
  {
   "cell_type": "code",
   "execution_count": 16,
   "metadata": {
    "ExecuteTime": {
     "end_time": "2021-12-17T16:14:13.739000+01:00",
     "start_time": "2021-12-17T15:14:13.405Z"
    }
   },
   "outputs": [
    {
     "data": {
      "text/plain": []
     },
     "execution_count": 16,
     "metadata": {},
     "output_type": "execute_result"
    }
   ],
   "source": [
    "# Initialize the masses of beams for drawing of initial structure\n",
    "mb_init = ones(nB)*100;\n",
    "\n",
    "# Draw initial truss structure\n",
    "drawTruss(J,B,Jc,Jl,mb_init/10)"
   ]
  },
  {
   "cell_type": "markdown",
   "metadata": {
    "ExecuteTime": {
     "end_time": "2020-12-16T19:06:22.681000+01:00",
     "start_time": "2020-12-16T18:06:22.680Z"
    }
   },
   "source": [
    "## The Optimization Problem\n",
    "\n",
    "In lecture 5, slide 15, we learned that the weight of the truss structure defined above can be minimized by solving the problem under the constraint of a given load of 2000 kg distributed evenly on the joints on the street level: \n",
    "\n",
    "  \\begin{equation*}\n",
    "    \\begin{aligned}\n",
    "    \\min_{\\substack{f_1, \\dots, f_n\\\\ \\tilde f_1,\\dots, \\tilde f_n}} \\quad & \\sum_{b=1}^n \\Big[ \\delta \\cdot  \\|\\vec d_b\\| \\cdot \\tilde f_b  \\Big]\\\\\n",
    "    \\text{subject to} \\quad & \n",
    "    \\vec l_j + \\sum_{b \\in B_j} \\Big[ \\frac{\\vec d_b}{\\|\\vec d_b\\|} f_b \\Big] = \\vec 0, & j = 1,\\dots,m\\\\\n",
    "    & \\tilde f_b \\geq f_b,\\quad \\tilde f_b \\geq -f_b, & b = 1,\\dots,n\n",
    "    \\end{aligned}\n",
    "  \\end{equation*}\n",
    "  \n",
    "This problem neglects the weight of the beams. Modify the problem to include the weight of the beams into the equality constraints. Use $\\delta = 5\\cdot 10^{-4}\\,$kg/(Nm).\n",
    "**Hint:** The gravitational force $f$ in the unit Newton depends on the mass $m$ by $f = 9.81 m\\,$ and acts only into the negative y-direction.\n",
    "Implement the problem as a linear program of the form:\n",
    "\\begin{align}\n",
    " \\min_{\\vec{x}} \\quad & \\vec{c}^\\top \\vec{x}\\\\\n",
    " \\text{subject to} \\quad & A\\vec{x} = \\vec{b}\\\\\n",
    " \\quad & C\\vec{x} \\leq \\vec{d},\n",
    "\\end{align}\n",
    "\n",
    "with the target variable $x = [f_1, f_2, \\dots, \\tilde f_1, \\tilde f_2, \\dots]$. \n",
    "\n",
    "There are 2 * nB inequality constraints and  2 * (nJ - nC) equality constraints."
   ]
  },
  {
   "cell_type": "code",
   "execution_count": 17,
   "metadata": {
    "ExecuteTime": {
     "end_time": "2021-12-17T16:14:18.529000+01:00",
     "start_time": "2021-12-17T15:14:18.449Z"
    }
   },
   "outputs": [],
   "source": [
    "delta = 5e-4\n",
    "\n",
    "# ================================================================================================\n",
    "# Construct the vector c.\n",
    "c = vcat(zeros(nB), delta*[LinearAlgebra.norm(J[b[1]]-J[b[2]]) for b in B]);\n",
    "# c = vcat(zeros(nB), [LinearAlgebra.norm(J[b[1]]-J[b[2]]) for b in B]);\n",
    "# ================================================================================================"
   ]
  },
  {
   "cell_type": "code",
   "execution_count": 18,
   "metadata": {
    "ExecuteTime": {
     "end_time": "2021-12-17T16:14:19.005000+01:00",
     "start_time": "2021-12-17T15:14:18.993Z"
    }
   },
   "outputs": [
    {
     "name": "stdout",
     "output_type": "stream",
     "text": [
      "Dimensions of the problem: 862\n",
      "Inequalities: 862\n",
      "Equality constraints: 240\n"
     ]
    }
   ],
   "source": [
    "println(\"Dimensions of the problem: \", length(c))\n",
    "println(\"Inequalities: \", 2*nB)\n",
    "println(\"Equality constraints: \", 2*(nJ-nC))"
   ]
  },
  {
   "cell_type": "code",
   "execution_count": 19,
   "metadata": {
    "ExecuteTime": {
     "end_time": "2021-12-17T16:14:19.910000+01:00",
     "start_time": "2021-12-17T15:14:19.785Z"
    }
   },
   "outputs": [],
   "source": [
    "# ================================================================================================\n",
    "# Construct matrix A and vector b for the equality constraints.\n",
    "A = zeros(2 * (nJ-nC), length(c));\n",
    "b = zeros(2 * (nJ-nC))\n",
    "\n",
    "idx = 0\n",
    "# iterate over all joints\n",
    "for j=1:nJ\n",
    "    \n",
    "    # ignore cantilever joints\n",
    "    if j in Jc\n",
    "        continue\n",
    "    end\n",
    "    \n",
    "    # Construct the vector b.\n",
    "    # External load applied at the joint\n",
    "    b[2*idx+1] = -Jl[j][1] # joint load in x-direction\n",
    "    b[2*idx+2] = -Jl[j][2] # joint load in y-direction\n",
    "    \n",
    "    # Iterate over all beams connected to joint j\n",
    "    for b in Bj[j]\n",
    "        db = J[B[b][1]] - J[B[b][2]] # beam direction vector\n",
    "        \n",
    "        # Construct matrix A\n",
    "        db_dir = db / LinearAlgebra.norm(db)\n",
    "        A[2*idx+1,b] = db_dir[1] # force across the beam in x-direction --> odd rows of A\n",
    "        A[2*idx+2,b] = db_dir[2] # force across the beam in y-direction --> even rows of A\n",
    "        \n",
    "    end\n",
    "    idx = idx + 1\n",
    "end\n",
    "# ================================================================================================"
   ]
  },
  {
   "cell_type": "code",
   "execution_count": 20,
   "metadata": {
    "ExecuteTime": {
     "end_time": "2021-12-17T16:14:20.609000+01:00",
     "start_time": "2021-12-17T15:14:20.554Z"
    }
   },
   "outputs": [],
   "source": [
    "# ================================================================================================\n",
    "# construct matrix C and vector d for the inequality constraints Cx <= d\n",
    "C = zeros(2 * nB, length(c))\n",
    "d = zeros(2 * nB);\n",
    "\n",
    "# Fill the matrix C\n",
    "for b = 1:nB\n",
    "    # fb - tildefb <= 0 --> odd rows of C\n",
    "    C[2*b-1,b] = 1.0\n",
    "    C[2*b-1,b+nB] = -1.0\n",
    "    \n",
    "    # -fb - tildefb <= 0 --> even rows of C\n",
    "    C[2*b,b] = -1.0\n",
    "    C[2*b,b+nB] = -1.0\n",
    "end\n",
    "# ================================================================================================"
   ]
  },
  {
   "cell_type": "markdown",
   "metadata": {},
   "source": [
    "## Use the solver to find the solution"
   ]
  },
  {
   "cell_type": "code",
   "execution_count": 21,
   "metadata": {
    "ExecuteTime": {
     "end_time": "2021-12-17T16:15:59.135000+01:00",
     "start_time": "2021-12-17T15:15:54.598Z"
    }
   },
   "outputs": [
    {
     "name": "stdout",
     "output_type": "stream",
     "text": [
      "------------------------------------------------------------------\n",
      "\t       SCS v3.2.6 - Splitting Conic Solver\n",
      "\t(c) Brendan O'Donoghue, Stanford University, 2012\n",
      "------------------------------------------------------------------\n",
      "problem:  variables n: 862, constraints m: 1102\n",
      "cones: \t  z: primal zero / dual free vars: 240\n",
      "\t  l: linear vars: 862\n",
      "settings: eps_abs: 1.0e-004, eps_rel: 1.0e-004, eps_infeas: 1.0e-007\n",
      "\t  alpha: 1.50, scale: 1.00e-001, adaptive_scale: 1\n",
      "\t  max_iters: 100000, normalize: 1, rho_x: 1.00e-006\n",
      "\t  acceleration_lookback: 10, acceleration_interval: 10\n",
      "\t  compiled with openmp parallelization enabled\n",
      "lin-sys:  sparse-direct-amd-qdldl\n",
      "\t  nnz(A): 2958, nnz(P): 0\n",
      "------------------------------------------------------------------\n",
      " iter | pri res | dua res |   gap   |   obj   |  scale  | time (s)\n",
      "------------------------------------------------------------------\n",
      "     0|7.65e+004 5.41e+003 1.02e+010 5.10e+009 1.00e-001 3.13e-003 \n",
      "   250|3.74e+002 7.07e-004 6.93e+002 1.65e+003 1.00e-006 1.96e-002 \n",
      "   500|5.34e+000 5.00e-004 3.89e+001 1.63e+003 1.00e-006 3.44e-002 \n",
      "   750|2.09e+005 1.48e-001 4.95e+002 1.68e+003 1.00e-006 1.67e-001 \n",
      "  1000|3.26e+000 5.73e-005 3.11e+001 1.63e+003 1.00e-006 1.95e-001 \n",
      "  1250|8.45e+000 3.62e-005 2.01e+001 1.62e+003 1.00e-006 2.13e-001 \n",
      "  1500|6.04e+000 1.98e-005 7.00e+000 1.61e+003 1.00e-006 2.31e-001 \n",
      "  1750|4.48e+000 1.29e-005 6.05e+000 1.61e+003 1.00e-006 2.45e-001 \n",
      "  2000|2.38e+000 1.42e-005 7.21e+000 1.61e+003 1.00e-006 2.57e-001 \n",
      "  2250|2.14e+000 1.51e-005 8.39e+000 1.61e+003 1.00e-006 2.66e-001 \n",
      "  2500|1.25e+000 1.31e-005 8.14e+000 1.61e+003 1.00e-006 2.75e-001 \n",
      "  2750|5.09e-001 1.54e-005 9.92e+000 1.61e+003 1.00e-006 2.83e-001 \n",
      "  3000|2.42e+000 1.33e-005 9.19e+000 1.60e+003 1.00e-006 2.90e-001 \n",
      "  3250|1.11e+000 1.26e-005 9.11e+000 1.60e+003 1.00e-006 4.02e-001 \n",
      "  3500|1.37e+007 9.72e+000 5.18e+003 2.64e+002 1.00e-006 4.42e-001 \n",
      "  3750|4.05e+000 1.22e-005 2.84e+000 1.60e+003 1.00e-006 4.53e-001 \n",
      "  4000|3.03e+000 1.02e-005 3.99e+000 1.60e+003 1.00e-006 4.61e-001 \n",
      "  4250|1.75e+000 1.18e-005 4.85e+000 1.60e+003 1.00e-006 6.16e-001 \n",
      "  4500|1.24e+000 1.07e-005 4.28e+000 1.60e+003 1.00e-006 7.73e-001 \n",
      "  4750|1.23e+000 1.10e-005 5.14e+000 1.60e+003 1.00e-006 7.89e-001 \n",
      "  5000|1.27e+000 1.11e-005 4.75e+000 1.60e+003 1.00e-006 9.42e-001 \n",
      "  5250|1.20e+000 1.13e-005 5.54e+000 1.60e+003 1.00e-006 9.59e-001 \n",
      "  5500|8.01e-001 1.09e-005 5.73e+000 1.60e+003 1.00e-006 9.86e-001 \n",
      "  5750|7.58e-001 1.10e-005 5.93e+000 1.60e+003 1.00e-006 1.03e+000 \n",
      "  6000|7.08e-001 1.13e-005 6.36e+000 1.60e+003 1.00e-006 1.04e+000 \n",
      "  6250|2.95e+005 2.09e-001 4.94e+000 1.56e+003 1.00e-006 1.06e+000 \n",
      "  6500|4.16e-001 1.12e-005 7.31e+000 1.60e+003 1.00e-006 1.07e+000 \n",
      "  6750|3.87e-001 1.07e-005 6.28e+000 1.60e+003 1.00e-006 1.09e+000 \n",
      "  7000|5.42e-001 1.11e-005 7.40e+000 1.60e+003 1.00e-006 1.11e+000 \n",
      "  7250|3.57e-001 1.12e-005 7.98e+000 1.60e+003 1.00e-006 1.14e+000 \n",
      "  7500|1.35e-001 1.08e-005 7.31e+000 1.60e+003 1.00e-006 1.17e+000 \n",
      "  7750|4.67e-001 1.11e-005 8.28e+000 1.60e+003 1.00e-006 1.20e+000 \n",
      "  8000|3.63e-001 1.10e-005 8.52e+000 1.60e+003 1.00e-006 1.23e+000 \n",
      "  8250|1.90e-001 1.08e-005 8.20e+000 1.60e+003 1.00e-006 1.25e+000 \n",
      "  8500|3.87e-001 1.10e-005 9.00e+000 1.60e+003 1.00e-006 1.28e+000 \n",
      "  8750|2.67e-001 1.10e-005 9.33e+000 1.60e+003 1.00e-006 1.31e+000 \n",
      "  9000|2.14e+006 1.51e+000 9.27e+002 1.82e+003 1.00e-006 1.34e+000 \n",
      "  9250|2.83e-001 1.10e-005 9.82e+000 1.60e+003 1.00e-006 1.36e+000 \n",
      "  9500|5.68e+000 1.19e-005 1.31e+001 1.60e+003 1.00e-006 1.39e+000 \n",
      "  9750|2.11e+000 8.41e-006 9.13e+000 1.59e+003 1.00e-006 1.42e+000 \n",
      " 10000|1.57e+000 9.73e-006 1.20e+001 1.60e+003 1.00e-006 1.45e+000 \n",
      " 10250|1.57e+000 3.35e-006 4.05e+000 1.59e+003 1.00e-006 1.48e+000 \n",
      " 10350|1.60e-002 1.70e-008 9.68e-003 1.59e+003 1.00e-006 1.49e+000 \n",
      "------------------------------------------------------------------\n",
      "status:  solved\n",
      "timings: total: 1.49e+000s = setup: 2.74e-003s + solve: 1.49e+000s\n",
      "\t lin-sys: 6.22e-001s, cones: 7.21e-002s, accel: 3.09e-002s\n",
      "------------------------------------------------------------------\n",
      "objective = 1589.215358\n",
      "------------------------------------------------------------------\n"
     ]
    }
   ],
   "source": [
    "model = Model(SCS.Optimizer)\n",
    "@variable(model, x[1:2*nB])\n",
    "@constraint(model, A * x .== b)\n",
    "@constraint(model, C * x .<= d)\n",
    "@objective(model, Min, c'*x)\n",
    "optimize!(model)"
   ]
  },
  {
   "cell_type": "code",
   "execution_count": 22,
   "metadata": {
    "ExecuteTime": {
     "end_time": "2021-12-17T16:16:08.020000+01:00",
     "start_time": "2021-12-17T15:16:07.802Z"
    }
   },
   "outputs": [
    {
     "data": {
      "text/plain": []
     },
     "execution_count": 22,
     "metadata": {},
     "output_type": "execute_result"
    }
   ],
   "source": [
    "sol = value.(x)\n",
    "masses = c.*sol\n",
    "masses = masses[nB+1:2*nB]\n",
    "\n",
    "drawTruss(J,B,Jc,Jl, masses)"
   ]
  },
  {
   "cell_type": "code",
   "execution_count": null,
   "metadata": {},
   "outputs": [],
   "source": []
  }
 ],
 "metadata": {
  "kernelspec": {
   "display_name": "Julia 1.11.0",
   "language": "julia",
   "name": "julia-1.11"
  },
  "language_info": {
   "file_extension": ".jl",
   "mimetype": "application/julia",
   "name": "julia",
   "version": "1.11.0"
  },
  "toc": {
   "base_numbering": 1,
   "nav_menu": {},
   "number_sections": true,
   "sideBar": true,
   "skip_h1_title": false,
   "title_cell": "Table of Contents",
   "title_sidebar": "Contents",
   "toc_cell": false,
   "toc_position": {
    "height": "calc(100% - 180px)",
    "left": "10px",
    "top": "150px",
    "width": "177.133px"
   },
   "toc_section_display": true,
   "toc_window_display": true
  },
  "varInspector": {
   "cols": {
    "lenName": 16,
    "lenType": 16,
    "lenVar": 40
   },
   "kernels_config": {
    "python": {
     "delete_cmd_postfix": "",
     "delete_cmd_prefix": "del ",
     "library": "var_list.py",
     "varRefreshCmd": "print(var_dic_list())"
    },
    "r": {
     "delete_cmd_postfix": ") ",
     "delete_cmd_prefix": "rm(",
     "library": "var_list.r",
     "varRefreshCmd": "cat(var_dic_list()) "
    }
   },
   "types_to_exclude": [
    "module",
    "function",
    "builtin_function_or_method",
    "instance",
    "_Feature"
   ],
   "window_display": false
  }
 },
 "nbformat": 4,
 "nbformat_minor": 4
}
