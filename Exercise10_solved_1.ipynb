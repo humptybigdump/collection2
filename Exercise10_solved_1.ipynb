{
 "cells": [
  {
   "cell_type": "markdown",
   "metadata": {},
   "source": [
    "# Symbolic Differentiation"
   ]
  },
  {
   "cell_type": "code",
   "execution_count": 1,
   "metadata": {
    "ExecuteTime": {
     "end_time": "2022-01-14T15:50:40.845000+01:00",
     "start_time": "2022-01-14T14:50:40.812Z"
    }
   },
   "outputs": [
    {
     "data": {
      "text/plain": [
       "g (generic function with 1 method)"
      ]
     },
     "execution_count": 1,
     "metadata": {},
     "output_type": "execute_result"
    }
   ],
   "source": [
    "g(x) = 4x*(1-x)*(1+x)^2"
   ]
  },
  {
   "cell_type": "code",
   "execution_count": 2,
   "metadata": {
    "ExecuteTime": {
     "end_time": "2022-01-14T15:50:48.836000+01:00",
     "start_time": "2022-01-14T14:50:48.572Z"
    }
   },
   "outputs": [
    {
     "data": {
      "text/latex": [
       "$x$"
      ],
      "text/plain": [
       "x"
      ]
     },
     "execution_count": 2,
     "metadata": {},
     "output_type": "execute_result"
    }
   ],
   "source": [
    "using SymPy\n",
    "x = Sym(\"x\")"
   ]
  },
  {
   "cell_type": "code",
   "execution_count": 3,
   "metadata": {
    "ExecuteTime": {
     "end_time": "2022-01-14T15:50:59.317000+01:00",
     "start_time": "2022-01-14T14:50:59.258Z"
    }
   },
   "outputs": [
    {
     "data": {
      "text/latex": [
       "$4 x \\left(1 - x\\right) \\left(2 x + 2\\right) - 4 x \\left(x + 1\\right)^{2} + 4 \\cdot \\left(1 - x\\right) \\left(x + 1\\right)^{2}$"
      ],
      "text/plain": [
       "                                   2                    2\n",
       "4⋅x⋅(1 - x)⋅(2⋅x + 2) - 4⋅x⋅(x + 1)  + 4⋅(1 - x)⋅(x + 1) "
      ]
     },
     "execution_count": 3,
     "metadata": {},
     "output_type": "execute_result"
    }
   ],
   "source": [
    "dg = diff(g)"
   ]
  },
  {
   "cell_type": "code",
   "execution_count": 4,
   "metadata": {
    "ExecuteTime": {
     "end_time": "2022-01-14T15:51:05.979000+01:00",
     "start_time": "2022-01-14T14:51:05.943Z"
    }
   },
   "outputs": [
    {
     "data": {
      "text/latex": [
       "$-17116$"
      ],
      "text/plain": [
       "-17116"
      ]
     },
     "execution_count": 4,
     "metadata": {},
     "output_type": "execute_result"
    }
   ],
   "source": [
    "dg(x=>10)"
   ]
  },
  {
   "cell_type": "code",
   "execution_count": 5,
   "metadata": {
    "ExecuteTime": {
     "end_time": "2022-01-14T11:35:09.644000+01:00",
     "start_time": "2022-01-14T10:35:04.499Z"
    }
   },
   "outputs": [
    {
     "data": {
      "text/latex": [
       "$- 16 x^{3} - 12 x^{2} + 8 x + 4$"
      ],
      "text/plain": [
       "      3       2          \n",
       "- 16⋅x  - 12⋅x  + 8⋅x + 4"
      ]
     },
     "execution_count": 5,
     "metadata": {},
     "output_type": "execute_result"
    }
   ],
   "source": [
    "dg_simple = simplify(4*x*(1-x)*(2x+2)-4x*(x+1)^2+4*(1-x)*(x+1)^2)"
   ]
  },
  {
   "cell_type": "code",
   "execution_count": 6,
   "metadata": {
    "ExecuteTime": {
     "end_time": "2022-01-14T11:35:09.644000+01:00",
     "start_time": "2022-01-14T10:35:04.501Z"
    }
   },
   "outputs": [
    {
     "data": {
      "text/latex": [
       "$-17116$"
      ],
      "text/plain": [
       "-17116"
      ]
     },
     "execution_count": 6,
     "metadata": {},
     "output_type": "execute_result"
    }
   ],
   "source": [
    "dg_simple(x=>10)"
   ]
  },
  {
   "cell_type": "markdown",
   "metadata": {},
   "source": [
    "# Automatic Differentiation"
   ]
  },
  {
   "cell_type": "code",
   "execution_count": 7,
   "metadata": {
    "ExecuteTime": {
     "end_time": "2022-01-14T15:52:37.457000+01:00",
     "start_time": "2022-01-14T14:52:37.427Z"
    }
   },
   "outputs": [
    {
     "data": {
      "text/plain": [
       "gradient (generic function with 2 methods)"
      ]
     },
     "execution_count": 7,
     "metadata": {},
     "output_type": "execute_result"
    }
   ],
   "source": [
    "include(\"ad.jl\")"
   ]
  },
  {
   "cell_type": "code",
   "execution_count": 8,
   "metadata": {
    "ExecuteTime": {
     "end_time": "2022-01-14T15:52:45.063000+01:00",
     "start_time": "2022-01-14T14:52:45.002Z"
    }
   },
   "outputs": [
    {
     "data": {
      "text/plain": [
       "-17116.0"
      ]
     },
     "execution_count": 8,
     "metadata": {},
     "output_type": "execute_result"
    }
   ],
   "source": [
    "gradient(g,10)"
   ]
  },
  {
   "cell_type": "markdown",
   "metadata": {},
   "source": [
    "# Exercise 10.2: Space Mission Planning"
   ]
  },
  {
   "cell_type": "code",
   "execution_count": 9,
   "metadata": {
    "ExecuteTime": {
     "end_time": "2022-01-14T13:28:14.613000+01:00",
     "start_time": "2022-01-14T12:28:13.638Z"
    }
   },
   "outputs": [],
   "source": [
    "include(\"mplstyle.jl\")\n",
    "include(\"optimization_library.jl\")\n",
    "include(\"nbody_simulation.jl\")\n",
    "\n",
    "using Distributions\n",
    "import Dates\n",
    "import DelimitedFiles\n",
    "import ForwardDiff\n",
    "DF = DelimitedFiles;"
   ]
  },
  {
   "cell_type": "markdown",
   "metadata": {},
   "source": [
    "| Planet | Mass | Distance from Sun |\n",
    "| --- | --- | --- |\n",
    "| Sun | 1.989e30 kg | 0 AU |\n",
    "| Earth | 5.972e24 kg | 1 AU |\n",
    "| Mercury | 3.30e23 kg | 0.38 AU |\n",
    "| Mars | 6.4219e23 kg | 1.52 AU |\n",
    "| Venus | 4.869e24 kg | 0.72 AU |"
   ]
  },
  {
   "cell_type": "code",
   "execution_count": 10,
   "metadata": {
    "ExecuteTime": {
     "end_time": "2022-01-14T11:35:24.416000+01:00",
     "start_time": "2022-01-14T10:35:04.514Z"
    }
   },
   "outputs": [
    {
     "data": {
      "text/plain": [
       "5-element Vector{Vector{Int64}}:\n",
       " [0, 0]\n",
       " [0, -1]\n",
       " [-1, 0]\n",
       " [0, 1]\n",
       " [1, 0]"
      ]
     },
     "execution_count": 10,
     "metadata": {},
     "output_type": "execute_result"
    }
   ],
   "source": [
    "labels = [\"Sun\", \"Mercury\", \"Venus\", \"Earth\", \"Mars\",\"Rocket\"]\n",
    "\n",
    "# Masses of bodies in kg\n",
    "m = [1.989e30, 3.30e23, 4.867e24, 5.972e24, 6.4219e23]\n",
    "\n",
    "# Distance to the sun in m\n",
    "d = [0.00, 0.38, 0.72, 1.00, 1.52] * AU\n",
    "\n",
    "# Speed of bodies in m/s\n",
    "s = [0.00, 47.9, 35.0, 29.8, 24.1] * 1000\n",
    "\n",
    "#startpositions\n",
    "p = [[0,0],[-1,0],[0,1],[1,0],[0,-1]]\n",
    "\n",
    "#velocitydirection\n",
    "v = [[0,0],[0,-1],[-1,0],[0,1],[1,0]]"
   ]
  },
  {
   "cell_type": "code",
   "execution_count": 11,
   "metadata": {
    "ExecuteTime": {
     "end_time": "2022-01-14T11:36:51.320000+01:00",
     "start_time": "2022-01-14T10:35:04.516Z"
    }
   },
   "outputs": [
    {
     "name": "stderr",
     "output_type": "stream",
     "text": [
      "┌ Info: Saved animation to \n",
      "│   fn = C:\\Users\\ben97726\\Git-Reps\\Optimization\\exercises\\10_auto_diff\\solar_system.gif\n",
      "└ @ Plots C:\\Users\\ben97726\\.julia\\packages\\Plots\\PomtQ\\src\\animation.jl:114\n"
     ]
    },
    {
     "data": {
      "text/plain": [
       "([0.0 -5.6847190866e10 … 1.495978707e11 0.0; 7.124682542265387 -5.682057150020203e10 … 1.4959402685986008e11 8.676000018531387e8; … ; -5.407429326116788e6 -5.6596328776543434e10 … -2.5540169487386642e10 2.2343281215432764e11; -5.406752671863626e6 -5.6734675105805046e10 … -2.659584268091357e10 2.235674399405609e11], [0.0 0.0 … 0.0 -2.27388763464e11; 17.606553594220184 -1.7243999879402893e9 … 1.0728000033062695e9 -2.2738709974939893e11; … ; 5.594203390255793e6 5.361198824542111e9 … 1.4753509580217035e11 -3.65371618708731e10; 5.594621308291411e6 3.642082220947251e9 … 1.4734924678059198e11 -3.567623396743897e10])"
      ]
     },
     "execution_count": 11,
     "metadata": {},
     "output_type": "execute_result"
    }
   ],
   "source": [
    "B = [Body(d[i]*p[i], s[i]*v[i], m[i], [0.0,0.0]) for i=1:length(m)]\n",
    "\n",
    "Δt = 3600.0 * 10\n",
    "tmax = 2000\n",
    "\n",
    "simulate_n_bodies(B,Δt, tmax, \"solar_system\")"
   ]
  },
  {
   "cell_type": "code",
   "execution_count": 12,
   "metadata": {
    "ExecuteTime": {
     "end_time": "2022-01-14T11:38:19.259000+01:00",
     "start_time": "2022-01-14T10:35:04.520Z"
    }
   },
   "outputs": [
    {
     "name": "stderr",
     "output_type": "stream",
     "text": [
      "┌ Info: Saved animation to \n",
      "│   fn = C:\\Users\\ben97726\\Git-Reps\\Optimization\\exercises\\10_auto_diff\\solar_system_with_rocket.gif\n",
      "└ @ Plots C:\\Users\\ben97726\\.julia\\packages\\Plots\\PomtQ\\src\\animation.jl:114\n"
     ]
    },
    {
     "data": {
      "text/plain": [
       "([0.0 -5.6847190866e10 … 0.0 1.51093849407e11; 7.124682542265387 -5.682057150020203e10 … 8.676000018531387e8 1.5145004105539694e11; … ; 7.43411084987386e6 -5.6584061944423096e10 … 2.2344726803365997e11 -1.8634530455609122e11; 7.440292599542336e6 -5.672231995269087e10 … 2.2358177230452945e11 -1.864769286143521e11], [0.0 0.0 … -2.27388763464e11 1.495978707e9; 17.606553594220184 -1.7243999879402893e9 … -2.2738709974939893e11 2.6047006036586e9; … ; 5.594186066805642e6 5.358554718103285e9 … -3.650590945914834e10 1.0418948637870439e11; 5.594604033545949e6 3.6394414942198215e9 … -3.564495586790921e10 1.0336715421383789e11])"
      ]
     },
     "execution_count": 12,
     "metadata": {},
     "output_type": "execute_result"
    }
   ],
   "source": [
    "# Do a simulation including the rocket\n",
    "B = [Body(d[i]*p[i], s[i]*v[i], m[i], [0.0,0.0]) for i=1:length(m)]\n",
    "\n",
    "theta = [10000.0, 1000.0]\n",
    "\n",
    "# The rocket starts at earth's position and speed plus some offset\n",
    "push!(B, Body(B[4].pos + ones(2) * 0.01*AU, B[4].speed + theta, 5.0 * 10^4, [0.0,0.0]))\n",
    "simulate_n_bodies(B,Δt, tmax, \"solar_system_with_rocket\")"
   ]
  },
  {
   "cell_type": "markdown",
   "metadata": {},
   "source": [
    "## Optimization Problem\n",
    "\n",
    "The loss function is given by:\n",
    "\n",
    "\\begin{align*}\n",
    "l(\\theta) = \\| \\vec r_{\\mathrm{Mars}}^{(k)} - \\vec r_{\\mathrm{Rocket}}^{(k)} \\|^2 + \\| \\vec r_{\\mathrm{Earth}}^{(l)} - \\vec r_{\\mathrm{Rocket}}^{(l)} \\|^2,\\qquad \\mathrm{with}\\; l>k\n",
    "\\end{align*}\n",
    "with $\\theta$ the initial speed vector of the rocket that is added to the speed vector of earth."
   ]
  },
  {
   "cell_type": "code",
   "execution_count": 12,
   "metadata": {
    "ExecuteTime": {
     "end_time": "2022-01-14T11:38:19.480000+01:00",
     "start_time": "2022-01-14T10:35:04.525Z"
    }
   },
   "outputs": [
    {
     "data": {
      "text/plain": [
       "trajectory_loss (generic function with 1 method)"
      ]
     },
     "execution_count": 12,
     "metadata": {},
     "output_type": "execute_result"
    }
   ],
   "source": [
    "function trajectory_loss(theta::Vector{T}) where T\n",
    "    B = [Body{T}(d[i]*p[i], s[i]*v[i], m[i], [0.0,0.0]) for i=1:length(m)]\n",
    "    \n",
    "    # The rocket starts at earth's position and speed plus some offset\n",
    "    push!(B, Body{T}(B[4].pos + ones(2) * 0.01*AU, B[4].speed + theta, 5.0 * 10^4, [0.0,0.0]))\n",
    "    \n",
    "    dist_mars = zeros(T, tmax)\n",
    "    dist_earth = zeros(T, tmax)\n",
    "    for t=1:tmax\n",
    "        simulate_step!(B, Δt,t)\n",
    "        dist_mars[t] = norm2(B[5].pos - B[6].pos)\n",
    "        dist_earth[t] = norm2(B[4].pos - B[6].pos)\n",
    "    end\n",
    "    min_mars, idx = findmin(dist_mars)\n",
    "    min_earth = minimum(dist_earth[idx:end])\n",
    "    return min_mars + min_earth\n",
    "end"
   ]
  },
  {
   "cell_type": "code",
   "execution_count": 33,
   "metadata": {},
   "outputs": [
    {
     "data": {
      "text/plain": [
       "-500000.0:5025.125628140703:500000.0"
      ]
     },
     "execution_count": 33,
     "metadata": {},
     "output_type": "execute_result"
    }
   ],
   "source": [
    "n_points = 200\n",
    "θ1_plot = range(-500000,500000,length = n_points)\n",
    "θ2_plot = range(-500000,500000,length = n_points)"
   ]
  },
  {
   "cell_type": "code",
   "execution_count": 52,
   "metadata": {},
   "outputs": [],
   "source": [
    "using DelimitedFiles\n",
    "\n",
    "\n",
    "\n",
    "losses_plot = [trajectory_loss([θ1,θ2]) for θ1 = θ1_plot, θ2 = θ2_plot]\n",
    "\n",
    "\n",
    "writedlm( \"loss_plot.csv\",  losses_plot, ',')"
   ]
  },
  {
   "cell_type": "code",
   "execution_count": 27,
   "metadata": {},
   "outputs": [
    {
     "data": {
      "text/plain": [
       "200×200 Matrix{Float64}:\n",
       " 1.19036e11  1.18877e11  1.1872e11   …  1.21528e11  1.21702e11  1.21877e11\n",
       " 1.1873e11   1.18571e11  1.18413e11     1.21233e11  1.21408e11  1.21583e11\n",
       " 1.18425e11  1.18265e11  1.18106e11     1.20939e11  1.21114e11  1.2129e11\n",
       " 1.1812e11   1.1796e11   1.178e11       1.20646e11  1.20821e11  1.20998e11\n",
       " 1.17817e11  1.17655e11  1.17495e11     1.20353e11  1.2053e11   1.20707e11\n",
       " 1.17514e11  1.17352e11  1.17191e11  …  1.20061e11  1.20238e11  1.20417e11\n",
       " 1.17212e11  1.17049e11  1.16887e11     1.1977e11   1.19948e11  1.20127e11\n",
       " 1.1691e11   1.16747e11  1.16584e11     1.1948e11   1.19659e11  1.19838e11\n",
       " 1.1661e11   1.16445e11  1.16282e11     1.1919e11   1.1937e11   1.1955e11\n",
       " 1.1631e11   1.16145e11  1.15981e11     1.18902e11  1.19082e11  1.19263e11\n",
       " 1.16011e11  1.15845e11  1.1568e11   …  1.18614e11  1.18795e11  1.18977e11\n",
       " 1.15713e11  1.15546e11  1.15381e11     1.18327e11  1.18509e11  1.18691e11\n",
       " 1.15416e11  1.15248e11  1.15082e11     1.18041e11  1.18224e11  1.18407e11\n",
       " ⋮                                   ⋱                          \n",
       " 1.03989e11  1.0351e11   1.03034e11     1.07577e11  1.08078e11  1.08582e11\n",
       " 1.03956e11  1.03477e11  1.03001e11     1.07545e11  1.08046e11  1.0855e11\n",
       " 1.03925e11  1.03446e11  1.02971e11  …  1.07515e11  1.08016e11  1.0852e11\n",
       " 1.03896e11  1.03417e11  1.02942e11     1.07488e11  1.07989e11  1.08492e11\n",
       " 1.03869e11  1.03391e11  1.02916e11     1.07463e11  1.07963e11  1.08466e11\n",
       " 1.03845e11  1.03367e11  1.02892e11     1.0744e11   1.0794e11   1.08443e11\n",
       " 1.03822e11  1.03345e11  1.0287e11      1.0742e11   1.0792e11   1.08423e11\n",
       " 1.03802e11  1.03325e11  1.0285e11   …  1.07401e11  1.07902e11  1.08405e11\n",
       " 1.03785e11  1.03307e11  1.02833e11     1.07386e11  1.07886e11  1.08389e11\n",
       " 1.03769e11  1.03292e11  1.02817e11     1.07372e11  1.07872e11  1.08375e11\n",
       " 1.03756e11  1.03279e11  1.02804e11     1.07361e11  1.07861e11  1.08364e11\n",
       " 1.03745e11  1.03268e11  1.02793e11     1.07353e11  1.07852e11  1.08355e11"
      ]
     },
     "execution_count": 27,
     "metadata": {},
     "output_type": "execute_result"
    }
   ],
   "source": [
    "using DelimitedFiles\n",
    "\n",
    "losses_plot = readdlm(\"loss_plot.csv\",',')\n"
   ]
  },
  {
   "cell_type": "code",
   "execution_count": 25,
   "metadata": {
    "ExecuteTime": {
     "end_time": "2022-01-14T11:47:45.766000+01:00",
     "start_time": "2022-01-14T10:35:04.527Z"
    }
   },
   "outputs": [
    {
     "name": "stderr",
     "output_type": "stream",
     "text": [
      "Traceback (most recent call last):\n",
      "  File \"C:\\Users\\ben97726\\.julia\\conda\\3\\lib\\site-packages\\matplotlib\\cbook\\__init__.py\", line 270, in process\n",
      "    func(*args, **kwargs)\n",
      "  File \"C:\\Users\\ben97726\\.julia\\conda\\3\\lib\\site-packages\\mpl_toolkits\\mplot3d\\axes3d.py\", line 1223, in _button_release\n",
      "    toolbar = getattr(self.figure.canvas, \"toolbar\")\n",
      "AttributeError: 'NoneType' object has no attribute 'canvas'\n",
      "Traceback (most recent call last):\n",
      "  File \"C:\\Users\\ben97726\\.julia\\conda\\3\\lib\\site-packages\\matplotlib\\cbook\\__init__.py\", line 270, in process\n",
      "    func(*args, **kwargs)\n",
      "  File \"C:\\Users\\ben97726\\.julia\\conda\\3\\lib\\site-packages\\mpl_toolkits\\mplot3d\\axes3d.py\", line 1223, in _button_release\n",
      "    toolbar = getattr(self.figure.canvas, \"toolbar\")\n",
      "AttributeError: 'NoneType' object has no attribute 'canvas'\n"
     ]
    }
   ],
   "source": [
    "# plot the loss function\n",
    "\n",
    "# create grid points\n",
    "xgrid = repeat(θ1_plot',n_points,1)\n",
    "ygrid = repeat(θ2_plot,1,n_points);\n",
    "\n",
    "fontsize = 13\n",
    "\n",
    "using3D()\n",
    "PyPlot.pygui(true);\n",
    "fig = figure(\"pyplot_surfaceplot\",figsize=(15,10))\n",
    "ax = fig.add_subplot(1,1,1,projection=\"3d\")\n",
    "plot_surface(xgrid', ygrid', losses_plot, rstride=2,\n",
    "             #edgecolors=\"k\",\n",
    "            cstride=2, cmap=ColorMap(\"jet\"), alpha=0.3, linewidth=0.25)\n",
    "PyPlot.zscale(\"log\")\n",
    "xlabel(L\"\\theta_1\", fontsize=fontsize)\n",
    "ylabel(L\"\\theta_2\", fontsize=fontsize)\n",
    "zlabel(L\"loss\", fontsize=fontsize)\n",
    "\n",
    "show()"
   ]
  },
  {
   "cell_type": "code",
   "execution_count": 13,
   "metadata": {
    "ExecuteTime": {
     "end_time": "2022-01-14T11:47:45.895000+01:00",
     "start_time": "2022-01-14T10:35:04.529Z"
    }
   },
   "outputs": [
    {
     "data": {
      "text/plain": [
       "∇trajectory_loss (generic function with 1 method)"
      ]
     },
     "execution_count": 13,
     "metadata": {},
     "output_type": "execute_result"
    }
   ],
   "source": [
    "# ========================================================================================\n",
    "# Define the gradient function of trajectory_loss() using the provided methods in ad.jl\n",
    "∇trajectory_loss(θ) = gradient(trajectory_loss, θ)\n",
    "\n",
    "# Forward Mode AD with Julia Package -> faster than our implementation but give the same result\n",
    "#import ForwardDiff\n",
    "#∇trajectory_loss = θ -> ForwardDiff.gradient(trajectory_loss, θ)\n",
    "#H_trajectory_loss = θ -> ForwardDiff.hessian(trajectory_loss, θ)\n",
    "# ========================================================================================"
   ]
  },
  {
   "cell_type": "code",
   "execution_count": 14,
   "metadata": {},
   "outputs": [
    {
     "data": {
      "text/plain": [
       "10"
      ]
     },
     "execution_count": 14,
     "metadata": {},
     "output_type": "execute_result"
    }
   ],
   "source": [
    "n_tests = 10"
   ]
  },
  {
   "cell_type": "code",
   "execution_count": 56,
   "metadata": {
    "ExecuteTime": {
     "end_time": "2022-01-14T12:36:59.152000+01:00",
     "start_time": "2022-01-14T10:35:04.532Z"
    }
   },
   "outputs": [
    {
     "name": "stdout",
     "output_type": "stream",
     "text": [
      ".1 Number of iterations: 21\n",
      ".2 Number of iterations: 21\n",
      ".3 Number of iterations: 21\n",
      ".4 Number of iterations: 21\n",
      ".5 Number of iterations: 21\n",
      ".6 Number of iterations: 21\n",
      ".7 Number of iterations: 21\n",
      ".8 Number of iterations: 21\n",
      ".9 Number of iterations: 21\n",
      ".10 Number of iterations: 21\n"
     ]
    }
   ],
   "source": [
    "# ===========================================================================\n",
    "# Minimize the loss function using the gradient_descent function from optimization_library.jl\n",
    "# Hint: Since the loss function is not convex, there is no guarantee that you found the global minimum. However, \n",
    "# sometimes a \"more optimal\" solution than the starting point is already sufficient.\n",
    "\n",
    "i_sorted = sortperm(reshape(losses_plot,n_points*n_points,1)[:,1]);\n",
    "x_shaped = reshape(xgrid',n_points*n_points,1)\n",
    "y_shaped = reshape(ygrid',n_points*n_points,1);\n",
    "\n",
    "# Since loss function is not convex there a multiple minima\n",
    "# solve optimization problem for different starting points and take the minimum of all solutions\n",
    "\n",
    "n_tests = 10\n",
    "results = Matrix(undef,n_tests,2)\n",
    "costs = zeros(n_tests)\n",
    "traces = Vector(undef,n_tests)\n",
    "\n",
    "for i in 1:n_tests\n",
    "    print(\".\")\n",
    "    # initialize starting point\n",
    "    θ1 = x_shaped[i_sorted[i],1]\n",
    "    θ2 = y_shaped[i_sorted[i],1]\n",
    "    x0 = [θ1,θ2]\n",
    "    \n",
    "    if LA.norm(∇trajectory_loss(x0)) < 0.01\n",
    "        println(\"negligible gradient at \",x0)\n",
    "        continue\n",
    "    end\n",
    "\n",
    "    # Compute the solution\n",
    "    x_best,trace = gradient_descent(trajectory_loss, ∇trajectory_loss, x0; ϵ=0.01, maxiters = 20, p = 0.2);\n",
    "    println(i, \" Number of iterations: \", size(trace,2))\n",
    "    results[i,:] = x_best\n",
    "    costs[i] = trajectory_loss(x_best)\n",
    "    traces[i] = trace\n",
    "end\n",
    "\n",
    "# ==========================================================================="
   ]
  },
  {
   "cell_type": "code",
   "execution_count": 57,
   "metadata": {
    "ExecuteTime": {
     "end_time": "2022-01-14T12:37:00.422000+01:00",
     "start_time": "2022-01-14T10:35:04.536Z"
    }
   },
   "outputs": [],
   "source": [
    "# save results\n",
    "time_now = Dates.format(Dates.now(), \"yy-mm-dd-HH-MM\")\n",
    "open(\"Results_$time_now.csv\", \"w\") do io\n",
    "           DF.writedlm(io, hcat(costs, results))\n",
    "end;\n",
    "\n",
    "# save results\n",
    "time_now = Dates.format(Dates.now(), \"yy-mm-dd-HH-MM\")\n",
    "open(\"Traces_$time_now.csv\", \"w\") do io\n",
    "    for i = 1:n_tests\n",
    "           DF.writedlm(io, traces[i])\n",
    "    end\n",
    "end;"
   ]
  },
  {
   "cell_type": "code",
   "execution_count": 15,
   "metadata": {
    "ExecuteTime": {
     "end_time": "2022-01-14T13:17:51.144000+01:00",
     "start_time": "2022-01-14T12:17:51.027Z"
    }
   },
   "outputs": [],
   "source": [
    "# Code to read in the files that you stored in the previous code cell.\n",
    "# Comment the following lines if you want to use the results from your optimization that are still in memory.\n",
    "costs_results = DF.readdlm(\"Results.csv\")\n",
    "traces_read = DF.readdlm(\"Traces.csv\")\n",
    "\n",
    "traces = Vector(undef,n_tests)\n",
    "costs = zeros(n_tests)\n",
    "results = zeros(n_tests,2)\n",
    "\n",
    "for i in 1:n_tests\n",
    "    traces[i] = traces_read[(i*3)-2:(i*3)]\n",
    "    costs[i] = costs_results[i,1]\n",
    "    results[i,:] = costs_results[i,2:3]\n",
    "end"
   ]
  },
  {
   "cell_type": "code",
   "execution_count": 16,
   "metadata": {
    "ExecuteTime": {
     "end_time": "2022-01-14T13:41:38.484000+01:00",
     "start_time": "2022-01-14T12:41:38.489Z"
    }
   },
   "outputs": [
    {
     "name": "stdout",
     "output_type": "stream",
     "text": [
      "Minimizer: [-15073.550552647714, -55121.971458839835]\n"
     ]
    }
   ],
   "source": [
    "# compare solutions and find the best one\n",
    "i_minimizer = argmin(costs)\n",
    "minimizer = results[i_minimizer,:]\n",
    "println(\"Minimizer: \", minimizer)"
   ]
  },
  {
   "cell_type": "code",
   "execution_count": 17,
   "metadata": {
    "ExecuteTime": {
     "end_time": "2022-01-14T12:37:26.232000+01:00",
     "start_time": "2022-01-14T10:35:04.548Z"
    }
   },
   "outputs": [
    {
     "name": "stderr",
     "output_type": "stream",
     "text": [
      "┌ Info: Saved animation to \n",
      "│   fn = C:\\Users\\ben97726\\Git-Reps\\Optimization\\exercises\\10_auto_diff\\optimized_rocket.gif\n",
      "└ @ Plots C:\\Users\\ben97726\\.julia\\packages\\Plots\\PomtQ\\src\\animation.jl:114\n"
     ]
    },
    {
     "data": {
      "text/plain": [
       "([0.0 -5.6847190866e10 … 0.0 1.51093849407e11; 7.124682542265387 -5.682057150020203e10 … 8.676000018531387e8 1.5054739323550165e11; … ; -5.407429326116788e6 -5.6596328776543434e10 … 2.2343281215432764e11 -8.554936778481238e10; -5.406752671863626e6 -5.6734675105805046e10 … 2.235674399405609e11 -8.519765943096837e10], [0.0 0.0 … -2.27388763464e11 1.495978707e9; 17.606553594220184 -1.7243999879402893e9 … -2.2738709974939893e11 5.843096311403657e8; … ; 5.594203390255793e6 5.361198824542111e9 … -3.65371618708731e10 8.856536688362143e10; 5.594621308291411e6 3.642082220947251e9 … -3.567623396743897e10 8.979400893461845e10])"
      ]
     },
     "execution_count": 17,
     "metadata": {},
     "output_type": "execute_result"
    }
   ],
   "source": [
    "tmax = 2000\n",
    "Δt = 3600.0 * 10\n",
    "\n",
    "B = [Body(d[i]*p[i], s[i]*v[i], m[i], [0.0,0.0]) for i=1:length(m)]\n",
    "\n",
    "# The rocket starts at earth's position and speed plus some offset\n",
    "push!(B, Body(B[4].pos + ones(2) * 0.01*AU, B[4].speed + minimizer, 5.0 * 10^4, [0.0,0.0]))\n",
    "simulate_n_bodies(B,Δt, tmax, \"optimized_rocket\")"
   ]
  },
  {
   "cell_type": "code",
   "execution_count": 34,
   "metadata": {
    "ExecuteTime": {
     "end_time": "2022-01-14T12:40:44.335000+01:00",
     "start_time": "2022-01-14T10:35:04.550Z"
    }
   },
   "outputs": [
    {
     "ename": "LoadError",
     "evalue": "PyError ($(Expr(:escape, :(ccall(#= C:\\Users\\ben97726\\.julia\\packages\\PyCall\\3fwVL\\src\\pyfncall.jl:43 =# @pysym(:PyObject_Call), PyPtr, (PyPtr, PyPtr, PyPtr), o, pyargsptr, kw))))) <class 'ValueError'>\nValueError('shape mismatch: objects cannot be broadcast to a single shape')\n  File \"C:\\Users\\ben97726\\.julia\\conda\\3\\lib\\site-packages\\matplotlib\\_api\\deprecation.py\", line 431, in wrapper\n    return func(*inner_args, **inner_kwargs)\n  File \"C:\\Users\\ben97726\\.julia\\conda\\3\\lib\\site-packages\\mpl_toolkits\\mplot3d\\axes3d.py\", line 1665, in plot_surface\n    X, Y, Z = np.broadcast_arrays(X, Y, Z)\n  File \"<__array_function__ internals>\", line 5, in broadcast_arrays\n  File \"C:\\Users\\ben97726\\.julia\\conda\\3\\lib\\site-packages\\numpy\\lib\\stride_tricks.py\", line 538, in broadcast_arrays\n    shape = _broadcast_shape(*args)\n  File \"C:\\Users\\ben97726\\.julia\\conda\\3\\lib\\site-packages\\numpy\\lib\\stride_tricks.py\", line 420, in _broadcast_shape\n    b = np.broadcast(*args[:32])\n",
     "output_type": "error",
     "traceback": [
      "PyError ($(Expr(:escape, :(ccall(#= C:\\Users\\ben97726\\.julia\\packages\\PyCall\\3fwVL\\src\\pyfncall.jl:43 =# @pysym(:PyObject_Call), PyPtr, (PyPtr, PyPtr, PyPtr), o, pyargsptr, kw))))) <class 'ValueError'>\nValueError('shape mismatch: objects cannot be broadcast to a single shape')\n  File \"C:\\Users\\ben97726\\.julia\\conda\\3\\lib\\site-packages\\matplotlib\\_api\\deprecation.py\", line 431, in wrapper\n    return func(*inner_args, **inner_kwargs)\n  File \"C:\\Users\\ben97726\\.julia\\conda\\3\\lib\\site-packages\\mpl_toolkits\\mplot3d\\axes3d.py\", line 1665, in plot_surface\n    X, Y, Z = np.broadcast_arrays(X, Y, Z)\n  File \"<__array_function__ internals>\", line 5, in broadcast_arrays\n  File \"C:\\Users\\ben97726\\.julia\\conda\\3\\lib\\site-packages\\numpy\\lib\\stride_tricks.py\", line 538, in broadcast_arrays\n    shape = _broadcast_shape(*args)\n  File \"C:\\Users\\ben97726\\.julia\\conda\\3\\lib\\site-packages\\numpy\\lib\\stride_tricks.py\", line 420, in _broadcast_shape\n    b = np.broadcast(*args[:32])\n",
      "",
      "Stacktrace:",
      " [1] pyerr_check",
      "   @ C:\\Users\\ben97726\\.julia\\packages\\PyCall\\3fwVL\\src\\exception.jl:62 [inlined]",
      " [2] pyerr_check",
      "   @ C:\\Users\\ben97726\\.julia\\packages\\PyCall\\3fwVL\\src\\exception.jl:66 [inlined]",
      " [3] _handle_error(msg::String)",
      "   @ PyCall C:\\Users\\ben97726\\.julia\\packages\\PyCall\\3fwVL\\src\\exception.jl:83"
     ]
    }
   ],
   "source": [
    "# Most optimal point I found\n",
    "p_opt = [-15073.550552647714, -55121.971458839835]\n",
    "\n",
    "using3D()\n",
    "PyPlot.pygui(true);\n",
    "fig = figure(\"pyplot_surfaceplot\",figsize=(15,10))\n",
    "ax = fig.add_subplot(1,1,1,projection=\"3d\")\n",
    "plot_surface(xgrid', ygrid', losses_plot, rstride=2,\n",
    "             edgecolors=\"k\", cstride=2, cmap=ColorMap(\"jet\"), alpha=0.3, linewidth=0.25)\n",
    "\n",
    "colors= [\"green\",\"orange\",\"blue\",\"purple\",\"magenta\",\"yellow\",\"brown\",\"cyan\",\"black\"]\n",
    "for k in 1:n_tests-1\n",
    "    ax[:plot](traces[k][1,:], traces[k][2,:], traces[k][3,:], color = colors[k], zorder = 3)\n",
    "    ax[:scatter](traces[k][1,:], traces[k][2,:], traces[k][3,:], color = colors[k], zorder = 3)\n",
    "end\n",
    "ax[:scatter](p_opt[1], p_opt[2], trajectory_loss(convert(Array{Float64,1}, p_opt)), color=\"red\", zorder = 4)\n",
    "PyPlot.zscale(\"log\")\n",
    "xlabel(L\"\\theta_1\", fontsize=fontsize)\n",
    "ylabel(L\"\\theta_2\", fontsize=fontsize)\n",
    "zlabel(L\"loss\", fontsize=fontsize)\n",
    "\n",
    "PyPlot.show()"
   ]
  },
  {
   "cell_type": "markdown",
   "metadata": {},
   "source": [
    "# Neural Network"
   ]
  },
  {
   "cell_type": "code",
   "execution_count": null,
   "metadata": {
    "ExecuteTime": {
     "end_time": "2022-01-14T12:40:58.776000+01:00",
     "start_time": "2022-01-14T10:35:04.552Z"
    }
   },
   "outputs": [],
   "source": [
    "using MLDatasets\n",
    "using Images\n",
    "using ReverseDiff"
   ]
  },
  {
   "cell_type": "code",
   "execution_count": null,
   "metadata": {
    "ExecuteTime": {
     "end_time": "2022-01-14T12:41:05.204000+01:00",
     "start_time": "2022-01-14T10:35:04.555Z"
    }
   },
   "outputs": [],
   "source": [
    "train_x, train_y = MNIST.traindata()\n",
    "test_x,  test_y  = MNIST.testdata();"
   ]
  },
  {
   "cell_type": "code",
   "execution_count": null,
   "metadata": {
    "ExecuteTime": {
     "end_time": "2022-01-14T16:08:40.469000+01:00",
     "start_time": "2022-01-14T15:08:40.332Z"
    }
   },
   "outputs": [],
   "source": [
    "# Plot the k-th image\n",
    "k = 23\n",
    "println(train_y[k])\n",
    "Plots.plot(Gray.(train_x[:,:,k]'))"
   ]
  },
  {
   "cell_type": "code",
   "execution_count": null,
   "metadata": {
    "ExecuteTime": {
     "end_time": "2022-01-14T12:41:20.603000+01:00",
     "start_time": "2022-01-14T10:35:04.560Z"
    }
   },
   "outputs": [],
   "source": [
    "# define the sigmoid activation function\n",
    "sigmoid(z) = 1.0 / (1.0 + exp(-z))\n",
    "\n",
    "# define the softmax function\n",
    "function softmax(z)\n",
    "    res = exp.(z .- maximum(z))\n",
    "    return res / sum(res)\n",
    "end"
   ]
  },
  {
   "cell_type": "code",
   "execution_count": null,
   "metadata": {
    "ExecuteTime": {
     "end_time": "2022-01-14T12:41:20.711000+01:00",
     "start_time": "2022-01-14T10:35:04.561Z"
    }
   },
   "outputs": [],
   "source": [
    "# The input is a 28x28 matrix\n",
    "# The output is a 10-vector\n",
    "function classify_mnist(theta, im)    \n",
    "    W1 = reshape(theta[1:100352], (128,28*28))\n",
    "    b1 = theta[100353:100480]\n",
    "    layer1(x) = sigmoid.(W1 * x + b1)\n",
    "    \n",
    "    W3 = reshape(theta[100481:101760], (10,128))\n",
    "    b3 = theta[101761:101770]\n",
    "    layer2(x) = softmax(W3 * x + b3)\n",
    "    \n",
    "    return layer2(layer1(vec(im)))\n",
    "end"
   ]
  },
  {
   "cell_type": "code",
   "execution_count": null,
   "metadata": {
    "ExecuteTime": {
     "end_time": "2022-01-14T12:41:20.835000+01:00",
     "start_time": "2022-01-14T10:35:04.563Z"
    }
   },
   "outputs": [],
   "source": [
    "training_cycles = 10^3; \n",
    "learning_rate = 0.1;\n",
    "batchsize = 128\n",
    "\n",
    "function loss_minibatch(theta)\n",
    "    loss = 0.0\n",
    "    for i=1:batchsize\n",
    "        n = rand(1:length(train_y))\n",
    "        res = classify_mnist(theta, train_x[:,:,n])\n",
    "        loss += -log(res[train_y[n]+1])\n",
    "    end\n",
    "    return loss\n",
    "end"
   ]
  },
  {
   "cell_type": "code",
   "execution_count": null,
   "metadata": {
    "ExecuteTime": {
     "end_time": "2022-01-14T12:41:20.926000+01:00",
     "start_time": "2022-01-14T10:35:04.565Z"
    }
   },
   "outputs": [],
   "source": [
    "# Define the gradient function of loss_minibatch by using Reverse Mode AD\n",
    "grad_loss_minibatch(theta) = ReverseDiff.gradient(loss_minibatch, theta)"
   ]
  },
  {
   "cell_type": "code",
   "execution_count": null,
   "metadata": {
    "ExecuteTime": {
     "end_time": "2022-01-14T12:41:20.931000+01:00",
     "start_time": "2022-01-14T10:35:04.568Z"
    }
   },
   "outputs": [],
   "source": [
    "# ADAM is an improved Gradient Descent for Neural Networks\n",
    "# Kingma, D. P., & Ba, J. (2014). Adam: A method for stochastic optimization.\n",
    "function adam!(df, θ; iters=1000, α=0.001, β1 = 0.9, β2=0.999, ϵ=10.0^(-8))\n",
    "    m = zeros(size(θ))\n",
    "    v = zeros(size(θ))\n",
    "    mhat = zeros(size(θ))\n",
    "    vhat = zeros(size(θ))\n",
    "    for t=1:iters\n",
    "        print(\".\")\n",
    "        g = df(θ)\n",
    "        m[:] = β1 * m[:] + (1-β1) * g[:]\n",
    "        v[:] = β2 * v[:] + (1-β2) * g[:].^2\n",
    "        mhat[:] = m / (1-β1^t)\n",
    "        vhat[:] = v / (1-β2^t)\n",
    "        θ[:] = θ[:] .- (α * mhat ./ (sqrt.(vhat) .+ ϵ)) \n",
    "    end\n",
    "end;"
   ]
  },
  {
   "cell_type": "code",
   "execution_count": null,
   "metadata": {
    "ExecuteTime": {
     "end_time": "2022-01-14T12:43:21.926000+01:00",
     "start_time": "2022-01-14T10:35:04.570Z"
    }
   },
   "outputs": [],
   "source": [
    "# start with zero for the model parameters\n",
    "# otherwise the first sigmoid layer will be \"all zeros\"\n",
    "theta = rand(101770);\n",
    "\n",
    "#train\n",
    "adam!(grad_loss_minibatch, theta, iters=500, α=0.05)"
   ]
  },
  {
   "cell_type": "code",
   "execution_count": null,
   "metadata": {
    "ExecuteTime": {
     "end_time": "2022-01-14T12:43:22.011000+01:00",
     "start_time": "2022-01-14T10:35:04.572Z"
    }
   },
   "outputs": [],
   "source": [
    "# save results\n",
    "open(\"theta.csv\", \"w\") do io\n",
    "           DF.writedlm(io, theta)\n",
    "end;"
   ]
  },
  {
   "cell_type": "code",
   "execution_count": null,
   "metadata": {
    "ExecuteTime": {
     "end_time": "2022-01-14T12:43:22.341000+01:00",
     "start_time": "2022-01-14T10:35:04.575Z"
    }
   },
   "outputs": [],
   "source": [
    "# read from file as a shortcut\n",
    "theta2 = DF.readdlm(\"theta.csv\");"
   ]
  },
  {
   "cell_type": "code",
   "execution_count": null,
   "metadata": {
    "ExecuteTime": {
     "end_time": "2022-01-14T16:16:21.415000+01:00",
     "start_time": "2022-01-14T15:16:21.275Z"
    }
   },
   "outputs": [],
   "source": [
    "# Plot the k-th image\n",
    "k = rand(1:length(test_y))\n",
    "res = classify_mnist(theta2, test_x[:,:,k])\n",
    "println(\"Selected Sample: \", k)\n",
    "println(\"Prediction Distribution: \", res)\n",
    "println(\"Predictd Category: \", argmax(res)-1)\n",
    "Plots.plot(Gray.(test_x[:,:,k]'))"
   ]
  },
  {
   "cell_type": "code",
   "execution_count": null,
   "metadata": {},
   "outputs": [],
   "source": []
  }
 ],
 "metadata": {
  "kernelspec": {
   "display_name": "Julia 1.6.3",
   "language": "julia",
   "name": "julia-1.6"
  },
  "language_info": {
   "file_extension": ".jl",
   "mimetype": "application/julia",
   "name": "julia",
   "version": "1.6.3"
  },
  "toc": {
   "base_numbering": 1,
   "nav_menu": {},
   "number_sections": true,
   "sideBar": true,
   "skip_h1_title": false,
   "title_cell": "Table of Contents",
   "title_sidebar": "Contents",
   "toc_cell": false,
   "toc_position": {
    "height": "calc(100% - 180px)",
    "left": "10px",
    "top": "150px",
    "width": "199.667px"
   },
   "toc_section_display": true,
   "toc_window_display": true
  },
  "varInspector": {
   "cols": {
    "lenName": 16,
    "lenType": 16,
    "lenVar": 40
   },
   "kernels_config": {
    "python": {
     "delete_cmd_postfix": "",
     "delete_cmd_prefix": "del ",
     "library": "var_list.py",
     "varRefreshCmd": "print(var_dic_list())"
    },
    "r": {
     "delete_cmd_postfix": ") ",
     "delete_cmd_prefix": "rm(",
     "library": "var_list.r",
     "varRefreshCmd": "cat(var_dic_list()) "
    }
   },
   "types_to_exclude": [
    "module",
    "function",
    "builtin_function_or_method",
    "instance",
    "_Feature"
   ],
   "window_display": false
  }
 },
 "nbformat": 4,
 "nbformat_minor": 4
}
