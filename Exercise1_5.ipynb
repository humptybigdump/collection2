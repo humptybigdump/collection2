{
 "cells": [
  {
   "cell_type": "code",
   "execution_count": 1,
   "metadata": {},
   "outputs": [],
   "source": [
    "using Plots"
   ]
  },
  {
   "cell_type": "markdown",
   "metadata": {
    "ExecuteTime": {
     "end_time": "2020-10-12T15:10:12.877000+02:00",
     "start_time": "2020-10-12T13:10:12.101Z"
    }
   },
   "source": [
    "# Exercise 1.1b\n",
    "\n",
    "Verify the derivative of $f(x)$ by implementing the difference quotient.\n",
    "\n",
    "The given function is:\n",
    "\\begin{equation}\n",
    "f(x) = \\mathrm{ln}(3x^3 + 2)\\cdot x + 2 x^5 + 5 e^{-x^2} + \\mathrm{sin}(2x)\n",
    "\\end{equation}"
   ]
  },
  {
   "cell_type": "code",
   "execution_count": 2,
   "metadata": {
    "ExecuteTime": {
     "end_time": "2020-10-15T16:30:05.371000+02:00",
     "start_time": "2020-10-15T14:30:04.448Z"
    }
   },
   "outputs": [
    {
     "data": {
      "text/plain": [
       "f (generic function with 1 method)"
      ]
     },
     "execution_count": 2,
     "metadata": {},
     "output_type": "execute_result"
    }
   ],
   "source": [
    "f(x) = log(3 * x^3 + 2) * x + 2 * x ^ 5 + 5 * exp(-x^2) + sin(2 * x)"
   ]
  },
  {
   "cell_type": "code",
   "execution_count": 3,
   "metadata": {
    "ExecuteTime": {
     "end_time": "2020-10-15T16:30:05.393000+02:00",
     "start_time": "2020-10-15T14:30:04.450Z"
    }
   },
   "outputs": [],
   "source": [
    "# Implement the analytical derivative of f(x)\n",
    "# ===============================================\n",
    "# df(x) = \n",
    "# ==============================================="
   ]
  },
  {
   "cell_type": "code",
   "execution_count": 5,
   "metadata": {
    "ExecuteTime": {
     "end_time": "2020-10-15T16:30:12.143000+02:00",
     "start_time": "2020-10-15T14:30:04.453Z"
    }
   },
   "outputs": [
    {
     "ename": "LoadError",
     "evalue": "UndefVarError: `dfX` not defined in `Main`\nSuggestion: check for spelling errors or missing imports.",
     "output_type": "error",
     "traceback": [
      "UndefVarError: `dfX` not defined in `Main`\nSuggestion: check for spelling errors or missing imports.",
      "",
      "Stacktrace:",
      " [1] top-level scope",
      "   @ In[5]:9"
     ]
    }
   ],
   "source": [
    "# Define a range of values for which the function should be evaluated\n",
    "X = 0:100\n",
    "\n",
    "# Evaluate the function for each point and write it to an array\n",
    "fX = [f(x) for x in X]\n",
    "dfX = [df(x) for x in X]\n",
    "\n",
    "# Plot the values\n",
    "plot(x, [fX, dfX], linewidth=3, label=[\"f(x)\" \"df(x)\"])"
   ]
  },
  {
   "cell_type": "markdown",
   "metadata": {},
   "source": [
    "The difference quotient of a function at the point $x$ is an approximation of the derivative $df/dx$ for $h\\rightarrow 0$.\n",
    "\\begin{equation}\n",
    "\\frac{df}{dx}(x) \\approx \\frac{f(x+h)-f(x)}{h},\n",
    "\\end{equation}"
   ]
  },
  {
   "cell_type": "code",
   "execution_count": 5,
   "metadata": {
    "ExecuteTime": {
     "end_time": "2020-10-15T16:30:12.431000+02:00",
     "start_time": "2020-10-15T14:30:04.456Z"
    }
   },
   "outputs": [
    {
     "data": {
      "text/plain": [
       "df_approx (generic function with 1 method)"
      ]
     },
     "execution_count": 5,
     "metadata": {},
     "output_type": "execute_result"
    }
   ],
   "source": [
    "function df_approx(f,x,h)\n",
    "    return (f(x+h) - f(x)) / h\n",
    "end"
   ]
  },
  {
   "cell_type": "code",
   "execution_count": 6,
   "metadata": {
    "ExecuteTime": {
     "end_time": "2020-10-15T16:30:12.447000+02:00",
     "start_time": "2020-10-15T14:30:04.461Z"
    }
   },
   "outputs": [
    {
     "data": {
      "text/plain": [
       "1.0e-5"
      ]
     },
     "execution_count": 6,
     "metadata": {},
     "output_type": "execute_result"
    }
   ],
   "source": [
    "# Test your result\n",
    "# Some arbitrary value at which the derivative of the function should be tested\n",
    "# Try others as well!\n",
    "\n",
    "x0 = 5\n",
    "h = 0.00001\n",
    "\n",
    "# ===============================================\n",
    "# @assert abs(df_approx(f,x0,h) - df(x0)) < 0.1\n",
    "# ==============================================="
   ]
  },
  {
   "cell_type": "markdown",
   "metadata": {},
   "source": [
    "# Exercise 1.2c"
   ]
  },
  {
   "cell_type": "markdown",
   "metadata": {},
   "source": [
    " Let $g$ be a function depending on the variables $x_1$ and $x_2$:\n",
    "\\begin{equation}\n",
    "g(x_1,x_2) =  6 x_1^3 + \\mathrm{sin}(2x_2)\n",
    "\\end{equation}"
   ]
  },
  {
   "cell_type": "code",
   "execution_count": 7,
   "metadata": {
    "ExecuteTime": {
     "end_time": "2020-10-15T16:30:12.513000+02:00",
     "start_time": "2020-10-15T14:30:04.463Z"
    }
   },
   "outputs": [
    {
     "data": {
      "text/plain": [
       "g (generic function with 1 method)"
      ]
     },
     "execution_count": 7,
     "metadata": {},
     "output_type": "execute_result"
    }
   ],
   "source": [
    "g(x1,x2) = 6*x1^3 + sin(2*x2)"
   ]
  },
  {
   "cell_type": "code",
   "execution_count": 8,
   "metadata": {
    "ExecuteTime": {
     "end_time": "2020-10-15T16:30:12.977000+02:00",
     "start_time": "2020-10-15T14:30:04.466Z"
    }
   },
   "outputs": [
    {
     "data": {
      "text/plain": [
       "dg (generic function with 1 method)"
      ]
     },
     "execution_count": 8,
     "metadata": {},
     "output_type": "execute_result"
    }
   ],
   "source": [
    "# Implement the gradient of g(x) (returns a column vector)\n",
    "dg(x1,x2) = [\n",
    "    # ===============================================\n",
    "\n",
    "    ;\n",
    "\n",
    "    # ===============================================\n",
    "]"
   ]
  },
  {
   "cell_type": "code",
   "execution_count": 9,
   "metadata": {
    "ExecuteTime": {
     "end_time": "2020-10-15T16:30:12.977000+02:00",
     "start_time": "2020-10-15T14:30:04.470Z"
    }
   },
   "outputs": [
    {
     "data": {
      "text/plain": [
       "Hg (generic function with 1 method)"
      ]
     },
     "execution_count": 9,
     "metadata": {},
     "output_type": "execute_result"
    }
   ],
   "source": [
    "# Implement the Hessian of g(x) (returns a matrix)\n",
    "Hg(x1,x2) = [\n",
    "    # ===============================================\n",
    "\n",
    "    ;\n",
    "\n",
    "    # ===============================================\n",
    "]"
   ]
  },
  {
   "cell_type": "code",
   "execution_count": 10,
   "metadata": {
    "ExecuteTime": {
     "end_time": "2020-10-15T16:30:13.061000+02:00",
     "start_time": "2020-10-15T14:30:04.473Z"
    }
   },
   "outputs": [
    {
     "data": {
      "text/plain": [
       "g1 (generic function with 1 method)"
      ]
     },
     "execution_count": 10,
     "metadata": {},
     "output_type": "execute_result"
    }
   ],
   "source": [
    "# Test the implementation of derivative dg for some sample input.\n",
    "# Fix some value for x2.\n",
    "x2_fix = 4\n",
    "g1(x1) = g(x1,x2_fix)\n",
    "\n",
    "# ===============================================\n",
    "# @assert abs(df_approx(gg,x0,h) - dg(x0,x2_fix)[1])<0.1\n",
    "# ==============================================="
   ]
  },
  {
   "cell_type": "code",
   "execution_count": 11,
   "metadata": {
    "ExecuteTime": {
     "end_time": "2020-10-15T16:30:13.146000+02:00",
     "start_time": "2020-10-15T14:30:04.479Z"
    }
   },
   "outputs": [
    {
     "data": {
      "text/plain": [
       "Hg1 (generic function with 1 method)"
      ]
     },
     "execution_count": 11,
     "metadata": {},
     "output_type": "execute_result"
    },
    {
     "name": "stderr",
     "output_type": "stream",
     "text": [
      "\n",
      "(process:14896): GLib-GIO-WARNING **: 10:39:47.953: Failed to open application manifest `C:\\Windows\\SystemApps\\Microsoft.MicrosoftEdge_8wekyb3d8bbwe\\AppxManifest.xml' for package #42 (`Microsoft.MicrosoftEdge_44.22621.2134.0_neutral__8wekyb3d8bbwe'): error code 0x2\n"
     ]
    }
   ],
   "source": [
    "# Test the implementation of the Hessian (for the second derivative of g wrt x1).\n",
    "x2_fix = 5\n",
    "dg1(x) = dg(x,x2_fix)[1]\n",
    "Hg1(x) = Hg(x,x2_fix)\n",
    "\n",
    "# ===============================================\n",
    "# @assert abs(df_approx(dg1,x0,h) - Hg1(x0)[1,1])<0.1\n",
    "# ==============================================="
   ]
  },
  {
   "cell_type": "code",
   "execution_count": null,
   "metadata": {},
   "outputs": [],
   "source": []
  }
 ],
 "metadata": {
  "kernelspec": {
   "display_name": "Julia 1.11.0",
   "language": "julia",
   "name": "julia-1.11"
  },
  "language_info": {
   "file_extension": ".jl",
   "mimetype": "application/julia",
   "name": "julia",
   "version": "1.11.0"
  },
  "toc": {
   "base_numbering": 1,
   "nav_menu": {},
   "number_sections": true,
   "sideBar": true,
   "skip_h1_title": false,
   "title_cell": "Table of Contents",
   "title_sidebar": "Contents",
   "toc_cell": false,
   "toc_position": {},
   "toc_section_display": true,
   "toc_window_display": false
  },
  "varInspector": {
   "cols": {
    "lenName": 16,
    "lenType": 16,
    "lenVar": 40
   },
   "kernels_config": {
    "python": {
     "delete_cmd_postfix": "",
     "delete_cmd_prefix": "del ",
     "library": "var_list.py",
     "varRefreshCmd": "print(var_dic_list())"
    },
    "r": {
     "delete_cmd_postfix": ") ",
     "delete_cmd_prefix": "rm(",
     "library": "var_list.r",
     "varRefreshCmd": "cat(var_dic_list()) "
    }
   },
   "types_to_exclude": [
    "module",
    "function",
    "builtin_function_or_method",
    "instance",
    "_Feature"
   ],
   "window_display": false
  }
 },
 "nbformat": 4,
 "nbformat_minor": 4
}
