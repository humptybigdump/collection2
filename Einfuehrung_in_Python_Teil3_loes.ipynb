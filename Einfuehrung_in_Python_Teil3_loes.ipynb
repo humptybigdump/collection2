{
 "cells": [
  {
   "cell_type": "markdown",
   "metadata": {},
   "source": [
    "# Einführung in Python - Teil 3 \n",
    "\n",
    "In diesem Übungsblatt lernen wir im Hauptteil das wichtige Konzept der Klasse kennen.\n",
    "\n",
    "## Exkurs: Binärsystem\n",
    "\n",
    "Menschen können Informationen auf unterschiedliche Weisen verarbeiten. Sie können mit Zahlen und Zeichen umgehen oder visuelle, akustische oder sensorische Daten wahrnehmen. Computer können dagegen „nur“ unterschiedliche elektrische Spannungen, magnetische Ausrichtungen oder Reflexionsunterschiede in optischen Speichermedien „erkennen“. Die einzige „Sprache“, die sie also „verstehen“, besteht aus zusammengesetzten Nullen und Einsen.\n",
    "\n",
    "Um mit dem Computer kommunizieren zu können, müssen wir unsere Sprache in die Computersprache übersetzen. Einen Vorgang bei dem Symbole eines Alphabets durch Symbole eines anderen ersetzt werden bezeichnet man als <b>Codierung</b>.\n",
    "\n",
    "Auf folgende Weise können Zahlen des Dezimalsystems in das Binärsystem (auch Dualsystem oder Zweiersystem) umgeschrieben werden:\n",
    "\n",
    "<br>\n",
    "\n",
    " <figure>\n",
    "  <img src=\"resources/img/binaer.png\" alt=\"Dezimal- und Binärsystem\" style=\"width:70%\">\n",
    "  <br>\n",
    "  <figcaption></figcaption>\n",
    "</figure> \n",
    "\n",
    "<br>\n",
    "\n",
    "Die unterschiedlichen Codierungen der Zeichen können der Unicode-Tabelle entnommen werden. Der Unicode des Zeichens „A“ entspricht 41 in Hexadezimaldarstellung, 65 in Dezimaldarstellung und 1000001 in Binärdarstellung.\n",
    "\n",
    "Erklärvideo: https://www.youtube.com/watch?v=tgR2IGtP4tY\n",
    "\n",
    "\n",
    "## Funktionen (Fortsetzung)\n",
    "\n",
    "### Reihenfolge der Parameter beim Aufruf ändern\n",
    "\n",
    "In der Definition einer Funktion stehen die Parameter der Funktion in einer bestimmten Reihenfolge. Durch die Angabe der Namen der Parameter können die Argumente aber auch in einer beliebigen Reihenfolge beim Funktionsaufruf geschrieben werden."
   ]
  },
  {
   "cell_type": "code",
   "execution_count": 3,
   "metadata": {},
   "outputs": [
    {
     "name": "stdout",
     "output_type": "stream",
     "text": [
      "Hallo Judith! Alter: 94, PhilosophIn: True\n",
      "Gott ist tot!\n"
     ]
    }
   ],
   "source": [
    "def reihenfolge(name, alter, philosoph):\n",
    "    if philosoph:\n",
    "        print(f\"Hallo {name}! Alter: {alter}, PhilosophIn: {philosoph}\")\n",
    "    else:\n",
    "        print(\"Gott ist tot!\")\n",
    "        \n",
    "reihenfolge(\"Judith\", 94, True)\n",
    "\n",
    "# Unter der Angabe der Parameternamen können die Argumente der Funktion in einer\n",
    "# anderen Reihenfolge übergeben werden.\n",
    "reihenfolge(alter=68, name=\"Angela\", philosoph=False)"
   ]
  },
  {
   "cell_type": "markdown",
   "metadata": {},
   "source": [
    "### Defaultwerte für Parameter festlegen\n",
    "\n",
    "In Python ist es möglich die Parameter der Funktionen mit bestimmten Defaultwerten zu belegen. Wenn beim Fuktionsaufruf nicht so viele Argumente übergeben wie die Anzahl der Parameter, werden die Defaultwerte bei der Ausführung der Funktion verwendet."
   ]
  },
  {
   "cell_type": "code",
   "execution_count": 9,
   "metadata": {},
   "outputs": [
    {
     "name": "stdout",
     "output_type": "stream",
     "text": [
      "Hallo Friedrich! Willkommen im Jahr 2023.\n",
      "Hallo Immanuel! Willkommen im Jahr 2023.\n",
      "Hallo John Stuart! Willkommen im Jahr 2050.\n",
      "Hallo Friedrich! Willkommen im Jahr 2099.\n"
     ]
    }
   ],
   "source": [
    "# Argumente von Funktionen können bestimmte Defaultwerte haben.\n",
    "def begruessung(name=\"Friedrich\", jahr=2023):\n",
    "    print(f\"Hallo {name}! Willkommen im Jahr {jahr}.\")\n",
    "    \n",
    "# Folglich ist die Angabe der Argumente optional.\n",
    "begruessung()\n",
    "begruessung(\"Immanuel\")\n",
    "begruessung(\"John Stuart\", 2050)\n",
    "begruessung(jahr=2099)"
   ]
  },
  {
   "cell_type": "markdown",
   "metadata": {},
   "source": [
    "### Funktionen in Funktionen\n",
    "\n",
    "Funktionen können auch innerhalb von Funktionen definiert werden. Dieser Fall ist allerdings nur selten sinnvoll. Eine Funktion, die innerhalb einer anderen Funktion definiert wird, kann nicht außerhalb dieser Funktion aufgerufen werden."
   ]
  },
  {
   "cell_type": "code",
   "execution_count": 8,
   "metadata": {},
   "outputs": [
    {
     "name": "stdout",
     "output_type": "stream",
     "text": [
      "Hallo! Hallo! Hallo! Hallo! Hallo! \n"
     ]
    }
   ],
   "source": [
    "def func1():\n",
    "    def func2():\n",
    "        return \"Hallo! \"\n",
    "    \n",
    "    begruessung = func2()\n",
    "    \n",
    "    return 5 * begruessung\n",
    "\n",
    "print(func1())\n",
    "\n",
    "# Der Aufruf func2() führt zu einem Fehler."
   ]
  },
  {
   "cell_type": "markdown",
   "metadata": {},
   "source": [
    "### Funktionen in Dateien auslagern und importieren\n",
    "\n",
    "Aus Gründen der besseren Wartbarkeit, Lesbarkeit und Strukturierung ist es ratsam, bestimmte Funktionen in unterschiedliche Dateien (in unterschiedliche Ordner) auszulagern, wenn das Programm eine bestimmte Größe überschreitet. Befolge folge Schritte, um die im Codefeld definierte Funktion außerhalb des Jupyter-Notebooks zu schreiben.\n",
    "\n",
    "<ol>\n",
    "    <li>Lege im selben Ordner, in dem sich dein Jupyter-Notebook befindet einen neuen Ordner an.</li>\n",
    "    <li>Erzeuge in diesem Ordner eine neue Datei mit der Endung .py.</li>\n",
    "    <li>Kopiere die Funktion aus dem Codefeld in die Datei und lösche sie aus dem Codefeld.</li>\n",
    "    <li>Erzeuge eine weitere Datei mit dem Namen <i>__init__.py</i> (dadurch „weiß“ Python, dass es sich bei dem Ordner um ein <i>Package</i> handelt). \n",
    "    <li>Füge in das Codefeld folgede Zeile ein: <i>from Name_des_Ordners.Name_der_Datei import phil_spruch</i></li>\n",
    "    <li>Rufe die Funktion auf und überprüfe, ob der Import geklappt hat.</li>\n",
    "    \n",
    "Auf diese Weise importierst du genau eine Funktion. Möchtest du das ganze <b>Modul</b> (Datei, in der Funktionen implementiert sind) importieren, ersetzt du die Zeile im fünften Schritt durch <i>import Name_des_Ordners.Name_der_Datei as sinnvoller_name<i>. Die Funktion kannst du nun mit <i>sinnvoller_name.philspruch()</i> aufrufen.\n",
    " "
   ]
  },
  {
   "cell_type": "code",
   "execution_count": 18,
   "metadata": {},
   "outputs": [],
   "source": [
    "def phil_spruch():\n",
    "    print(\"Es ist besser, ein nicht vollständig zufriedener Mensch zu sein, als ein restlos zufriedenes Schwein \\\n",
    "    – besser, ein nicht vollständig zufriedener Sokrates als ein restlos zufriedener Narr.\")\n",
    "    return True"
   ]
  },
  {
   "cell_type": "markdown",
   "metadata": {},
   "source": [
    "### Standardbibliothek von Python\n",
    "\n",
    "Die Standardbibliothek von Python bietet sehr viele Funktionen, die nicht implementiert werden müssen und einfach importiert werden können (siehe https://docs.python.org/3/library/). Im Laufe des Seminars werden wir noch oft auf diese Module zurückgreifen. Hier sind einige Beispiele."
   ]
  },
  {
   "cell_type": "code",
   "execution_count": 20,
   "metadata": {},
   "outputs": [
    {
     "name": "stdout",
     "output_type": "stream",
     "text": [
      "3\n",
      "[2, 1, 3, 4, 5]\n"
     ]
    }
   ],
   "source": [
    "import random \n",
    "\n",
    "# Zufallszahl zwischen 0 und 10\n",
    "zufallszahl = random.randint(0, 11)\n",
    "print(zufallszahl)\n",
    "\n",
    "# Mischt eine Liste.\n",
    "liste = [1, 2, 3, 4, 5]\n",
    "random.shuffle(liste)\n",
    "print(liste)"
   ]
  },
  {
   "cell_type": "code",
   "execution_count": 30,
   "metadata": {},
   "outputs": [
    {
     "name": "stdout",
     "output_type": "stream",
     "text": [
      "Hallo!\n",
      "Tschüss!\n"
     ]
    },
    {
     "data": {
      "text/plain": [
       "'Sun, 14 May 2023 23:45:11'"
      ]
     },
     "execution_count": 30,
     "metadata": {},
     "output_type": "execute_result"
    }
   ],
   "source": [
    "import time\n",
    "\n",
    "# Stoppt die Programmausführung um 2 Sekunden.\n",
    "print(\"Hallo!\")\n",
    "time.sleep(2)\n",
    "print(\"Tschüss!\")\n",
    "\n",
    "# Gibt das aktuelle Datum aus.\n",
    "from time import localtime, strftime\n",
    "strftime(\"%a, %d %b %Y %H:%M:%S\", localtime())"
   ]
  },
  {
   "cell_type": "markdown",
   "metadata": {},
   "source": [
    "<img style=\"float: left;\" src=\"resources/img/laptop_icon.png\" width=50 height=50 /> <br><br>\n",
    "<i>Implementiere die Funktion gemäß ihrer Beschreibung. (Hinweis: Eine Primzahl ist eine Zahl, die nur 1 und sich selbst ohne Rest teilbar ist.)</i>"
   ]
  },
  {
   "cell_type": "code",
   "execution_count": null,
   "metadata": {},
   "outputs": [],
   "source": [
    "def primzahlen(n):\n",
    "    '''\n",
    "    Liste alle Primzahlen bis zu einer bestimmten Zahl auf.\n",
    "    @param n: Obergrenze, bis zu der alle Primzahlen berechnet werden sollen\n",
    "    @return: Liste aller Primzahlen größer gleich n \n",
    "    '''\n",
    "    pass"
   ]
  },
  {
   "cell_type": "markdown",
   "metadata": {},
   "source": [
    "## Klassen\n",
    "\n",
    "In diesem Abschitt lernen wir ein weiteres sehr wichtiges Konzept der objektorientierten Programmierung (OOP) kennen: Klassen. \n",
    "\n",
    "Um Sachverhalte zu modellieren ist es oft nicht ausreichend auf Datentypen zuzugreifen, die wir bisher kennen gelernt haben (Ganzzahlen, Zeichenketten, Listen, usw.). Wenn wir ein Tier in unserem Programm darstellen, möchten wir, dass es bestimmte Eigenschaften hat und bestimmte „Sachen“ machen kann. Das erreichen wir durch <b>Klassen</b>. Jene können als Baupläne / abstrakte Modelle für bestimmte Objekte verstanden werden.\n",
    "\n",
    "So könnte eine Klasse für ein Tier aussehen."
   ]
  },
  {
   "cell_type": "code",
   "execution_count": 15,
   "metadata": {},
   "outputs": [],
   "source": [
    "# Klassen werden großgeschrieben.\n",
    "class Tier:\n",
    "    def __init__(self, name, alter, groesse):\n",
    "        self.name = name\n",
    "        self.alter = alter\n",
    "        self.groesse = groesse\n",
    "    \n",
    "    def vorstellen(self):\n",
    "        print(f\"Ich bin ein Tier namens {self.name}, ich bin\", self.alter, \n",
    "              \"Jahre alt und\", self.groesse, \"cm groß.\")\n",
    "        \n",
    "    def wachsen(self, diff_in_cm):\n",
    "        self.groesse += diff_in_cm"
   ]
  },
  {
   "cell_type": "markdown",
   "metadata": {},
   "source": [
    "Wir haben mit der oberen Klasse einen Bauplan für ein Tier erstellt. Die Variablen 'name', 'alter' und 'groesse' sind Attribute, die bestimmte Eigenschaften der erzeugten Objekte beschreiben. Funktionen, die innerhalb von Klassen definiert sind, nennt man <b>Methoden</b>. Die Funktion 'vorstellen' ist also eine Methode, die nur durch ein Objekt dieser Klasse aufgerufen werden kann. Alle Methoden haben als <b>ersten Parameter 'self'</b>.\n",
    "\n",
    "Bis jetzt haben wir nur einen Bauplan erstellt, ohne davon Objekte zu generieren. Ein Objekt kann dabei als eine Inkarnation der entsprechenden Klasse verstanden werden. Durch folgenden Aufruf erzeugen wir Objekte von Klassen. Hierbei wird der <b>Konstruktur</b> aufgerufen. Der Konstruktur gibt an, welche Eigenschaften das Objekt zum Zeitpunkt seiner Erzeugung hat, und wird durch die Funktion '_init_' realisiert.  "
   ]
  },
  {
   "cell_type": "code",
   "execution_count": 28,
   "metadata": {},
   "outputs": [
    {
     "name": "stdout",
     "output_type": "stream",
     "text": [
      "Ich bin ein Tier namens Loni, ich bin 7 Jahre alt und 56 cm groß.\n",
      "Ich bin ein Tier namens Loni, ich bin 7 Jahre alt und 60 cm groß.\n",
      "60\n"
     ]
    }
   ],
   "source": [
    "# Erzeugung des Objekts der Klasse 'Tier'\n",
    "tier = Tier(\"Loni\", 7, 56)\n",
    "\n",
    "# Aufruf der Methode 'vorstellen'\n",
    "tier.vorstellen()\n",
    "\n",
    "# Durch diesen Methoden Aufruf ändert sich \n",
    "# das Attribut des Objekts 'loni'\n",
    "tier.wachsen(4)\n",
    "tier.vorstellen()\n",
    "\n",
    "# So kannst du auf die Attribute von 'tier' zugreifen.\n",
    "print(tier.groesse)"
   ]
  },
  {
   "cell_type": "markdown",
   "metadata": {},
   "source": [
    "### Vererbung \n",
    "\n",
    "Manchmal ist es notwendig, eine Klasse zu erweitern. Die Klasse 'Tier' kann weiter verfeinert werden, indem man <b>Unterklassen</b> davon erzeugt und so z.B. neue Klassen 'Katze' und 'Hund' definiert. Alle Attribute und Methoden der <b>Oberklasse</b> 'Tier' werden dabei an die Unterklassen 'Katze' und 'Hund' <b>vererbt</b>. Das ist ein UML-Diagramm, das die Vererbung darstellt:\n",
    "\n",
    "<br>\n",
    "\n",
    " <figure>\n",
    "  <img src=\"resources/img/uml_diagramm.png\" alt=\"UML-Diagramm\" style=\"width:40%\">\n",
    "  <br>\n",
    "  <figcaption></figcaption>\n",
    "</figure> \n",
    "\n",
    "<br>"
   ]
  },
  {
   "cell_type": "code",
   "execution_count": 36,
   "metadata": {},
   "outputs": [
    {
     "name": "stdout",
     "output_type": "stream",
     "text": [
      "Ich bin ein Tier namens Minka, ich bin 3 Jahre alt und 35 cm groß.\n",
      "Die Katze Minka macht 'miau'!\n",
      "Ich bin ein Tier namens Bello, ich bin 5 Jahre alt und 61 cm groß.\n",
      "Der Hund Bello bellt 'wuff wuff'!\n"
     ]
    }
   ],
   "source": [
    "# Ableitung der spezifischen Tierunterklassen 'Katze' und 'Hund' von der allgemeinen Tierklasse\n",
    "\n",
    "class Katze(Tier):\n",
    "    def __init__(self, name, alter, groesse, rasse):\n",
    "        # Aufruf des Konstruktors der Oberklasse\n",
    "        super().__init__(name, alter, groesse)\n",
    "        self.rasse = rasse\n",
    "    \n",
    "    def miauen(self):\n",
    "        print(\"Die Katze\", self.name, \"macht 'miau'!\")\n",
    "        \n",
    "class Hund(Tier):\n",
    "    def __init__(self, name, alter, groesse, rasse):\n",
    "        super().__init__(name, alter, groesse)\n",
    "        self.rasse = rasse\n",
    "    \n",
    "    def bellen(self):\n",
    "        print(\"Der Hund\", self.name, \"bellt 'wuff wuff'!\")\n",
    "\n",
    "# Objekte der spezifischen Tierunterklassen erzeugen\n",
    "katze1 = Katze(\"Minka\", 3, 35, \"Siam\")\n",
    "hund1 = Hund(\"Bello\", 5, 61, \"Labrador\")\n",
    "\n",
    "# Die Methode 'vorstellen'  wurde nicht in der Klasse 'Katze' \n",
    "# definiert, sondern wurde von der Oberklasse 'Tier' geerbt.\n",
    "katze1.vorstellen()  \n",
    "katze1.miauen()\n",
    "\n",
    "hund1.vorstellen()\n",
    "hund1.bellen()"
   ]
  },
  {
   "cell_type": "markdown",
   "metadata": {},
   "source": [
    "<img style=\"float: left;\" src=\"resources/img/laptop_icon.png\" width=50 height=50 /> <br><br>\n",
    "<i>Setze folgenden Sachverhalt mit Hilfe von Klassen um. Orientiere dich dabei am unteren Codefeld, um die Methoden der Klassen richtig zu benennen.  \n",
    "\n",
    "Der Roboter 'Roby' arbeitet in der Lagerhalle A und B, in denen Pakete für den Versand aufbewahrt werden. Die Lagerhallen werden dabei als Listen modelliert, deren Elemente Objekte der Klasse 'Paket' sind. Pakete haben eine Id, ein Gewicht und ein Wert. Leere Plätze werden durch den Schlüsselbegriff 'None' modelliert. \n",
    "\n",
    "Roby bekommt Aufträge in Form von Listen, die die IDs der Pakete enthalten, die aus der Lagerhalle entfernt werden sollen. Nachdem er diese Pakete eingesammelt hat, gibt er aus, ob alle Pakete des Auftrags gefunden wurden. Die eingesammelten Pakete bringt Roby anschließend zur Lagerhalle B und räumt sie auf die nächstfreien Plätze ein. Wenn es mehr Pakete als freie Plätze gibt, gibt er eine Benachrichtigung aus.\n",
    "\n",
    "</i>"
   ]
  },
  {
   "cell_type": "code",
   "execution_count": 33,
   "metadata": {},
   "outputs": [],
   "source": [
    "# Implemetiere hier die Klasse für ein Paket.\n",
    "# Die Klasse soll die Attribute id_nummer, gewicht, wert haben.\n",
    "\n",
    "class Paket:\n",
    "    \n",
    "    def __init__(self, id_nummer, gewicht, wert):\n",
    "        self.id_nummer = id_nummer\n",
    "        self.gewicht = gewicht\n",
    "        self.wert = wert"
   ]
  },
  {
   "cell_type": "code",
   "execution_count": 34,
   "metadata": {},
   "outputs": [],
   "source": [
    "# Implementiere hier die Klasse 'Roboter'.\n",
    "\n",
    "class Roboter:\n",
    "    \n",
    "    def __init__(self, name):\n",
    "        self.name = name\n",
    "        \n",
    "    def pakete_holen(self, lagerhalle, auftrag):\n",
    "        ergebnis = []\n",
    "        \n",
    "        for i in range(len(lagerhalle)):\n",
    "            # ID des aktuellen Pakets wird abgefragt\n",
    "            if lagerhalle[i] != None:\n",
    "                id_ = lagerhalle[i].id_nummer\n",
    "                \n",
    "                # Wenn das aktuelle Paket Teil des Auftrags ist,\n",
    "                # wird das Paket an das Ergebnis angehägt und \n",
    "                # der Listenplatz der Lagerhalle auf 'None' gesetzt.\n",
    "                if id_ in auftrag:\n",
    "                    ergebnis.append(lagerhalle[i])\n",
    "                    lagerhalle[i] = None\n",
    "                \n",
    "        if len(auftrag) == len(ergebnis):\n",
    "            message = \"\\nDer Auftrag wurde erfolgreich bearbeitet.\"\n",
    "        else:\n",
    "            message = \"\\nBei der Bearbeitung ist ein Fehler aufgetreten. \\\n",
    "                       Möglicherweise wurde ein Paket nicht gefunden oder eine ID ist an zwei Pakete vergeben.\"\n",
    "        \n",
    "        return ergebnis, message\n",
    "    \n",
    "    def pakete_einraeumen(self, pakete, lagerhalle):\n",
    "        for paket in pakete:\n",
    "            for i in range(len(lagerhalle)):\n",
    "                if lagerhalle[i] == None:\n",
    "                    lagerhalle[i] = paket\n",
    "                    break\n",
    "                else:\n",
    "                    if i == len(lagerhalle) - 1:\n",
    "                        return \"\\nEs konnten nicht alle Pakete eingeräumt werden.\"\n",
    "                        \n",
    "        return \"\\nEs konnten alle Pakete eingeräumt werden.\" "
   ]
  },
  {
   "cell_type": "code",
   "execution_count": 35,
   "metadata": {},
   "outputs": [
    {
     "name": "stdout",
     "output_type": "stream",
     "text": [
      "\n",
      "Lagerhalle A\n",
      "Platz 0: (8912, 2, 50)\n",
      "Platz 1: (1022, 0.8, 10)\n",
      "Platz 2: (3003, 0.2, 500)\n",
      "Platz 3: None\n",
      "Platz 4: (3212, 0.8, 2500)\n",
      "Platz 5: (1001, 5, 20)\n",
      "Platz 6: None\n",
      "Platz 7: (9711, 0.3, 150)\n",
      "Platz 8: (5511, 0.2, 37)\n",
      "Platz 9: None\n",
      "\n",
      "Lagerhalle B\n",
      "Platz 0: None\n",
      "Platz 1: (1111, 4, 100)\n",
      "Platz 2: None\n",
      "Platz 3: (1112, 0.4, 11)\n",
      "Platz 4: (1113, 0.1, 3)\n",
      "Platz 5: (1114, 3.2, 1000)\n",
      "Platz 6: (1115, 2.1, 89)\n",
      "Platz 7: (1116, 1.76, 33)\n",
      "Platz 8: (1117, 3.11, 432)\n",
      "Platz 9: None\n",
      "\n",
      "Der Auftrag wurde erfolgreich bearbeitet.\n",
      "\n",
      "Es konnten nicht alle Pakete eingeräumt werden.\n",
      "\n",
      "Lagerhalle A\n",
      "Platz 0: None\n",
      "Platz 1: None\n",
      "Platz 2: (3003, 0.2, 500)\n",
      "Platz 3: None\n",
      "Platz 4: (3212, 0.8, 2500)\n",
      "Platz 5: None\n",
      "Platz 6: None\n",
      "Platz 7: (9711, 0.3, 150)\n",
      "Platz 8: None\n",
      "Platz 9: None\n",
      "\n",
      "Lagerhalle B\n",
      "Platz 0: (8912, 2, 50)\n",
      "Platz 1: (1111, 4, 100)\n",
      "Platz 2: (1022, 0.8, 10)\n",
      "Platz 3: (1112, 0.4, 11)\n",
      "Platz 4: (1113, 0.1, 3)\n",
      "Platz 5: (1114, 3.2, 1000)\n",
      "Platz 6: (1115, 2.1, 89)\n",
      "Platz 7: (1116, 1.76, 33)\n",
      "Platz 8: (1117, 3.11, 432)\n",
      "Platz 9: (1001, 5, 20)\n"
     ]
    }
   ],
   "source": [
    "def lagerhalle_anzeigen(name, lagerhalle):\n",
    "    '''\n",
    "    Gibt die Belegung der Lagerhalle aus.\n",
    "    @param name: Name der Lagerhalle\n",
    "    @param lagerhalle: Belegung der Lagerhalle als Liste\n",
    "    '''\n",
    "    print(f\"\\nLagerhalle {name}\")\n",
    "    for i in range(len(lagerhalle)):\n",
    "        if lagerhalle[i] != None:\n",
    "            print(f\"Platz {i}: ({lagerhalle[i].id_nummer}, {lagerhalle[i].gewicht}, {lagerhalle[i].wert})\")\n",
    "        else: \n",
    "            print(f\"Platz {i}: None\")\n",
    "\n",
    "lagerhalle_A = [Paket(8912, 2, 50), Paket(1022, 0.8, 10), Paket(3003, 0.2, 500), None, Paket(3212, 0.8, 2500),\n",
    "                Paket(1001, 5, 20), None, Paket(9711, 0.3, 150), Paket(5511, 0.2, 37), None]\n",
    "\n",
    "lagerhalle_B = [None, Paket(1111, 4, 100), None, Paket(1112, 0.4, 11), Paket(1113, 0.1, 3),\n",
    "               Paket(1114, 3.2, 1000), Paket(1115, 2.1, 89), Paket(1116, 1.76, 33), Paket(1117, 3.11, 432), None] \n",
    "\n",
    "roby = Roboter(\"roby\")\n",
    "auftrag = [8912, 1022, 1001, 5511]\n",
    "\n",
    "lagerhalle_anzeigen(\"A\", lagerhalle_A)\n",
    "lagerhalle_anzeigen(\"B\", lagerhalle_B)\n",
    "\n",
    "pakete, msg = roby.pakete_holen(lagerhalle_A, auftrag)\n",
    "print(msg)\n",
    "\n",
    "msg = roby.pakete_einraeumen(pakete, lagerhalle_B)\n",
    "print(msg)\n",
    "\n",
    "lagerhalle_anzeigen(\"A\", lagerhalle_A)\n",
    "lagerhalle_anzeigen(\"B\", lagerhalle_B)"
   ]
  },
  {
   "cell_type": "markdown",
   "metadata": {},
   "source": [
    "Wenn du noch Schwierigkeiten beim Umgang mit Klassen hast, können dir folgende Erklärungen behilflich sein:\n",
    "\n",
    "<ul>\n",
    "    <li><a href=\"https://www.youtube.com/watch?v=46yolPy-2VQ&list=PL_pqkvxZ6ho3u8PJAsUU-rOAQ74D0TqZB&index=21\">YouTube Python Tutorial - Objektorientierung</a></li>\n",
    "    <li><a href=\"https://www.youtube.com/watch?v=XxCZrT7Z3G4&t=255s\">YouTube Python Tutorial - Klassen und Objekte</a></li>\n",
    "    <li><a href=\"https://www.youtube.com/watch?v=CLoK-_qNTnU&list=PL_pqkvxZ6ho3u8PJAsUU-rOAQ74D0TqZB&index=23\">YouTube Python Tutorial - self-Parameter</a></li>\n",
    "    <li><a href=\"https://www.youtube.com/watch?v=58IjjwHs_4A&list=PL_pqkvxZ6ho3u8PJAsUU-rOAQ74D0TqZB&index=24\">YouTube Python Tutorial - Methoden in Klassen</a></li>\n",
    " <li><a href=\"https://www.youtube.com/watch?v=1FMCzUPaHzQ\">YouTube Python Tutorial - Vererbung</a></li>\n",
    "</ul>\n",
    "\n",
    "## Listen (Fortsetzung)\n",
    "\n",
    "In Python sind Listen auch Objekte einer Klasse, sodass auf Listen bestimmte Methoden aufgerufen werden können, wie du schon in der letzten Einheit festgestellst hast."
   ]
  },
  {
   "cell_type": "code",
   "execution_count": 24,
   "metadata": {},
   "outputs": [
    {
     "name": "stdout",
     "output_type": "stream",
     "text": [
      "Logik ist ein Teilgebiet der Philosophie.\n",
      "['Erkenntnistheorie', 'Logik', 'Metaphysik und Ontologie', 'Sprachphilosophie', 'Wissenschaftstheorie']\n",
      "['Wissenschaftstheorie', 'Sprachphilosophie', 'Metaphysik und Ontologie', 'Logik', 'Erkenntnistheorie']\n"
     ]
    }
   ],
   "source": [
    "philosophie = [\"Logik\", \"Erkenntnistheorie\", \"Wissenschaftstheorie\", \n",
    "               \"Metaphysik und Ontologie\", \"Sprachphilosophie\"]\n",
    "\n",
    "# Prüfen, ob Element in Liste enthalten ist.\n",
    "if \"Logik\" in philosophie:\n",
    "    print(\"Logik ist ein Teilgebiet der Philosophie.\")\n",
    "    \n",
    "var = \"Ontologie\"\n",
    "if var in philosophie:\n",
    "    print(f\"{var} ist ein Teilgebiet der Philosophie.\")\n",
    "    \n",
    "# Liste sortieren\n",
    "philosophie.sort()\n",
    "print(philosophie)\n",
    "\n",
    "# Liste umkehren\n",
    "philosophie.reverse()\n",
    "print(philosophie)"
   ]
  }
 ],
 "metadata": {
  "@webio": {
   "lastCommId": null,
   "lastKernelId": null
  },
  "interpreter": {
   "hash": "2d260b012bbf33bcb2887d0961c178b7e1cdbf98f02eb539d597fc41b3ad5997"
  },
  "kernelspec": {
   "display_name": "Python 3",
   "language": "python",
   "name": "python3"
  },
  "language_info": {
   "codemirror_mode": {
    "name": "ipython",
    "version": 3
   },
   "file_extension": ".py",
   "mimetype": "text/x-python",
   "name": "python",
   "nbconvert_exporter": "python",
   "pygments_lexer": "ipython3",
   "version": "3.6.12"
  }
 },
 "nbformat": 4,
 "nbformat_minor": 2
}
