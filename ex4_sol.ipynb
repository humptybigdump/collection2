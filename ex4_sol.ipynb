{
 "cells": [
  {
   "cell_type": "markdown",
   "metadata": {
    "collapsed": true,
    "pycharm": {
     "name": "#%% md\n"
    }
   },
   "source": [
    "# Homework 6, Exercise 4\n",
    "\n",
    "## Lab Instructions\n",
    "All your answers for this exercise should be written in this notebook. You shouldn't need to write or modify any other files.\n",
    "\n",
    "**You should execute every block of code to not miss any dependency.**\n",
    "\n",
    "*This exercise was developed by Maximilian Hüttenrauch for the KIT Cognitive Systems Lecture, July 2020.*"
   ]
  },
  {
   "cell_type": "code",
   "execution_count": 1,
   "metadata": {
    "pycharm": {
     "name": "#%%\n"
    }
   },
   "outputs": [
    {
     "name": "stdout",
     "output_type": "stream",
     "text": [
      "Using matplotlib backend: MacOSX\n"
     ]
    }
   ],
   "source": [
    "from ex4.quad_link import QuadLink\n",
    "import numpy as np\n",
    "import matplotlib.pyplot as plt\n",
    "%matplotlib auto"
   ]
  },
  {
   "cell_type": "markdown",
   "metadata": {
    "pycharm": {
     "name": "#%% md\n"
    }
   },
   "source": [
    "Exercise 4a) Jacobian Transpose DIK (you can change alpha values for different behavior)"
   ]
  },
  {
   "cell_type": "code",
   "execution_count": 2,
   "metadata": {
    "pycharm": {
     "name": "#%%\n"
    }
   },
   "outputs": [],
   "source": [
    "def jacobian_transpose_dik(ql, alpha=2):\n",
    "    \"\"\"\n",
    "    Computes the Jacobian Transposed DIK\n",
    "    :param ql: A QuadLink object\n",
    "    :param alpha: \"learning rate\"\n",
    "    :return: Desired joint velocities\n",
    "    \"\"\"\n",
    "    jac = ql.get_jacobian()\n",
    "    err = ql.get_error()\n",
    "\n",
    "    q_dot_des = alpha * jac.T @ err\n",
    "\n",
    "\n",
    "    assert q_dot_des.shape == (4, 1)\n",
    "    return q_dot_des"
   ]
  },
  {
   "cell_type": "markdown",
   "metadata": {},
   "source": [
    "Exercise 4b) Jacobian Pseudo Inverse DIK (you can change alpha values for different behavior)"
   ]
  },
  {
   "cell_type": "code",
   "execution_count": 3,
   "metadata": {
    "pycharm": {
     "name": "#%%\n"
    }
   },
   "outputs": [],
   "source": [
    "def jacobian_pinv_dik(ql, alpha=10):\n",
    "    \"\"\"\n",
    "    Computes the Jacobian Pseudo Inverse DIK\n",
    "    :param ql: A QuadLink object\n",
    "    :param alpha: \"learning rate\"\n",
    "    :return: Desired joint velocities\n",
    "    \"\"\"\n",
    "    jac = ql.get_jacobian()\n",
    "    err = ql.get_error()\n",
    "\n",
    "    q_dot_des = alpha * jac.T @ np.linalg.solve(jac @ jac.T, err)\n",
    "\n",
    "    assert q_dot_des.shape == (4, 1)\n",
    "    return q_dot_des"
   ]
  },
  {
   "cell_type": "markdown",
   "metadata": {},
   "source": [
    "Exercise 4c) Jacobian Damped Pseudo Inverse DIK (you can change alpha and lambda values for different behavior)"
   ]
  },
  {
   "cell_type": "code",
   "execution_count": 4,
   "metadata": {
    "pycharm": {
     "name": "#%%\n"
    }
   },
   "outputs": [],
   "source": [
    "def jacobian_damped_pinv_dik(ql, alpha=10, lamb=1e-2):\n",
    "    \"\"\"\n",
    "    Computes the Jacobian Damped Pseudo Inverse DIK\n",
    "    :param ql: A QuadLink object\n",
    "    :param alpha: \"learning rate\"\n",
    "    :param lamb: Damping factor\n",
    "    :return:\n",
    "    \"\"\"\n",
    "    jac = ql.get_jacobian()\n",
    "    err = ql.get_error()\n",
    "\n",
    "    q_dot_des = alpha * jac.T @ np.linalg.solve(jac @ jac.T + lamb * np.eye(2), err)\n",
    "\n",
    "    assert q_dot_des.shape == (4, 1)\n",
    "    return q_dot_des"
   ]
  },
  {
   "cell_type": "markdown",
   "metadata": {},
   "source": [
    "zero_vel and random_vel return a 0 velocity or random velocity and are only there as examples."
   ]
  },
  {
   "cell_type": "code",
   "execution_count": 5,
   "metadata": {
    "pycharm": {
     "name": "#%%\n"
    }
   },
   "outputs": [],
   "source": [
    "def zero_vel():\n",
    "    return np.zeros(shape=(4, 1))"
   ]
  },
  {
   "cell_type": "code",
   "execution_count": 6,
   "metadata": {
    "pycharm": {
     "name": "#%%\n"
    }
   },
   "outputs": [],
   "source": [
    "def random_vel():\n",
    "    return 10 * np.random.standard_normal(size=(4, 1))"
   ]
  },
  {
   "cell_type": "code",
   "execution_count": 7,
   "metadata": {
    "pycharm": {
     "name": "#%%\n"
    }
   },
   "outputs": [],
   "source": [
    "def get_q_des(q_dot_des, ql):\n",
    "    return ql.q + ql.dt * q_dot_des"
   ]
  },
  {
   "cell_type": "markdown",
   "metadata": {},
   "source": [
    "Exercise 4d) PD-controller (you can change gains for different behavior)"
   ]
  },
  {
   "cell_type": "code",
   "execution_count": 8,
   "metadata": {
    "pycharm": {
     "name": "#%%\n"
    }
   },
   "outputs": [],
   "source": [
    "def pd_control(q_des, q_dot_des, ql, kp=20, kd=20):\n",
    "    \"\"\"\n",
    "    PD-controller\n",
    "    :param q_des: Desired joint configuration\n",
    "    :param q_dot_des: Desired joint velocity\n",
    "    :param ql: A QuadLink object\n",
    "    :param kp: Proportional gain\n",
    "    :param kd: Derivative gain\n",
    "    :return:\n",
    "    \"\"\"\n",
    "    u = kp * (q_des - ql.q) + kd * (q_dot_des - ql.q_dot)\n",
    "    assert u.shape == (4, 1)\n",
    "    return u"
   ]
  },
  {
   "cell_type": "code",
   "execution_count": 9,
   "metadata": {
    "pycharm": {
     "name": "#%%\n"
    }
   },
   "outputs": [],
   "source": [
    "# No changes necessary in here\n",
    "def simulate(ql, dik=\"zero\", n_steps=200, render=True):\n",
    "    \"\"\"\n",
    "    Run the quad link simulation for n_steps time steps with differential inverse kinematics dik\n",
    "    :param ql: A QuadLink object\n",
    "    :param dik: The type of differential inverse kinematics (string)\n",
    "    :param n_steps: Number of time steps\n",
    "    :param render: If true, show rendering. If false, run without rendering.\n",
    "    :return:\n",
    "    \"\"\"\n",
    "\n",
    "    ql.reset()\n",
    "\n",
    "    qs = []\n",
    "    q_dots = []\n",
    "    costs = []\n",
    "    qs.append(ql.q)\n",
    "    q_dots.append(ql.q_dot)\n",
    "\n",
    "    if render:\n",
    "        ql.render()\n",
    "\n",
    "    for i in range(n_steps):\n",
    "\n",
    "        if dik == \"zero\":\n",
    "            q_dot_des = zero_vel()\n",
    "        elif dik == \"random\":\n",
    "            q_dot_des = random_vel()\n",
    "        elif dik == \"jac_t\":\n",
    "            q_dot_des = jacobian_transpose_dik(ql)\n",
    "        elif dik == \"jac_pinv\":\n",
    "            q_dot_des = jacobian_pinv_dik(ql)\n",
    "        elif dik == \"jac_damped_pinv\":\n",
    "            q_dot_des = jacobian_damped_pinv_dik(ql)\n",
    "        else:\n",
    "            raise ValueError(\"unknown dik\")\n",
    "\n",
    "        q_des = get_q_des(q_dot_des, ql)\n",
    "\n",
    "        u = pd_control(q_des, q_dot_des, ql)\n",
    "\n",
    "        cost = ql.step(u)\n",
    "\n",
    "        qs.append(ql.q)\n",
    "        q_dots.append(ql.q_dot)\n",
    "        costs.append(cost)\n",
    "\n",
    "        if render:\n",
    "            ql.render()\n",
    "\n",
    "    return qs, q_dots, costs\n"
   ]
  },
  {
   "cell_type": "code",
   "execution_count": 10,
   "metadata": {
    "pycharm": {
     "name": "#%%\n"
    }
   },
   "outputs": [],
   "source": [
    "# Try different initializations here\n",
    "# q_init = np.zeros(shape=(4, 1))\n",
    "q_init = 1 * np.random.standard_normal(size=(4, 1))\n",
    "# q_init = 0.1 * np.ones(shape=(4, 1))\n",
    "q_dot_init = np.zeros(shape=(4, 1))\n",
    "\n",
    "# Try different goal states here\n",
    "x_goal = np.array((-1, -1))\n",
    "\n",
    "quad_link = QuadLink(q_init, q_dot_init, x_goal)"
   ]
  },
  {
   "cell_type": "code",
   "execution_count": 11,
   "metadata": {
    "pycharm": {
     "name": "#%%\n"
    }
   },
   "outputs": [],
   "source": [
    "\"Run a quad link simulation, uncomment dik_type for different calculations of \\dot{q}_des\"\n",
    "# dik_type = \"zero\"\n",
    "# dik_type = \"random\"\n",
    "dik_type = \"jac_t\"\n",
    "# dik_type = \"jac_pinv\"\n",
    "# dik_type = \"jac_damped_pinv\"\n",
    "\n",
    "traj_q, traj_q_dot, costs = simulate(quad_link, dik=dik_type, render=True)"
   ]
  },
  {
   "cell_type": "markdown",
   "metadata": {},
   "source": [
    "### Exercise 4e) Singularities\n",
    "Look at the trajectories for a multiple zero initialization of q_init.\n",
    "\n",
    "Each line in the first plot represents the trajectory of a joint angle.\n",
    "\n",
    "Each line in the second plot represents the trajectory of a joint velocity."
   ]
  },
  {
   "cell_type": "code",
   "execution_count": 22,
   "metadata": {
    "pycharm": {
     "name": "#%%\n"
    }
   },
   "outputs": [],
   "source": [
    "fig, ax = plt.subplots(2)\n",
    "ax[0].plot(np.hstack(traj_q).T);\n",
    "ax[1].plot(np.hstack(traj_q_dot).T);"
   ]
  },
  {
   "cell_type": "code",
   "execution_count": null,
   "outputs": [],
   "source": [
    "from solution_checker import check_ex4\n",
    "check_ex4(get_q_des, jacobian_transpose_dik, jacobian_pinv_dik, jacobian_damped_pinv_dik, pd_control)\n",
    "\n"
   ],
   "metadata": {
    "collapsed": false,
    "pycharm": {
     "name": "#%%\n"
    }
   }
  }
 ],
 "metadata": {
  "kernelspec": {
   "display_name": "Python 3",
   "language": "python",
   "name": "python3"
  },
  "language_info": {
   "codemirror_mode": {
    "name": "ipython",
    "version": 3
   },
   "file_extension": ".py",
   "mimetype": "text/x-python",
   "name": "python",
   "nbconvert_exporter": "python",
   "pygments_lexer": "ipython3",
   "version": "3.8.5"
  }
 },
 "nbformat": 4,
 "nbformat_minor": 1
}