{
 "cells": [
  {
   "cell_type": "markdown",
   "id": "14e04dac",
   "metadata": {},
   "source": [
    "# Exercise 2, Kalman Filter Applied to a Pendulum\n",
    "\n",
    "## Lab Instructions\n",
    "Your answers for **tasks a - c** and **task g** should be written **in this notebook**.\n",
    "Your answers for **tasks d - f** should be written **in your solution\n",
    " pdf file**.\n",
    "\n",
    "You shouldn't need to write or modify any other files.\n",
    "\n",
    "**You should execute every block of code to not miss any dependency.**\n",
    "\n",
    "This exercise was developed by Philipp Dahlinger for the KIT Cognitive Systems Lecture, Juli 2022. The pygame implementation of the pendulum environment was adapted from this source: [Pastebin](https://pastebin.com/zTZVi8Yv)\n",
    "\n",
    "\n",
    "In this notebook you should implement a Kalman Filter as well as an Extended Kalman Filter. To test your implementation we will use a pendulum with noisy observations. Read the instructions carefully and complete the unfinished functions.\n",
    "\n",
    "Detailed instructions:\n",
    "\n",
    "0. You may need to install pygame to run this notebook. Either you install it globally by opening a terminal and type in \"pip3 install -U pygame\" or you create a virtual environment (venv) and install pygame there. If you use a virtual environment, you may need to create a new kernel for the notebook. Detailled instructions for that can be found here: [StackOverflow](https://stackoverflow.com/questions/33496350/execute-python-script-within-jupyter-notebook-using-a-specific-virtualenv).\n",
    "\n",
    "1. In script \"pendulum.py\", you can find the definition of the \"PendulumGame\" class. The only relevant quantity of the pendulum that we model is the angle. \n",
    "2. Keywords for the pendulum:\n",
    "    - **angle**: The angle of the actuation of the pendulum measured between the string of the pendulum and the position of rest in the horizontal center.  <br>\n",
    "    - **vel**: Angular velocity  <br>\n",
    "    - **acc**: Angular acceleration <br>\n",
    "    - **gravity**: This controls the acceleration of the simulation.     \n",
    "    <br>\n",
    "3. Our state for the Kalman filter is the current angle and the angular velocity, hence a 2-dimensional vector.\n",
    "\n"
   ]
  },
  {
   "cell_type": "code",
   "execution_count": 1,
   "id": "8463e1e5",
   "metadata": {},
   "outputs": [
    {
     "name": "stdout",
     "output_type": "stream",
     "text": [
      "pygame 2.1.2 (SDL 2.0.16, Python 3.9.5)\n",
      "Hello from the pygame community. https://www.pygame.org/contribute.html\n"
     ]
    }
   ],
   "source": [
    "# DO NOT MODIFY THIS BLOCK\n",
    "\n",
    "# Imports\n",
    "from ex2.pendulum import PendulumGame\n",
    "import numpy as np"
   ]
  },
  {
   "cell_type": "markdown",
   "id": "e4dcedb5",
   "metadata": {},
   "source": [
    "# a) Implementation of the Kalman Filter <br>\n",
    "Please finish the function **\"kalman_step\"** below. This function performs one update of the Kalman filter (prediction step and observation step). You can test your implementation with the cell below. For completeness sake, here is the algorithm in mathematical notation:<br>\n",
    "\n",
    "The current belief is given by \n",
    "$$\n",
    "b_t(z) = \\mathcal{N}(\\mu_t, \\Sigma_t).\n",
    "$$\n",
    "The first step is the preciction step:\n",
    "$$\n",
    "\\mu_{t+1}^- = A_t \\mu_t + a_t\n",
    "$$\n",
    "$$\n",
    "\\Sigma_{t+1}^- = A_t \\Sigma_t A_t^T + R_t\n",
    "$$\n",
    "The second step is the observation step:\n",
    "$$\n",
    "K_t = \\Sigma_{t+1}^- H_t^T (H_t \\Sigma_{t+1}^- H_t^T + Q_t)^{-1}\n",
    "$$\n",
    "$$\n",
    "\\mu_{t+1} = \\mu_{t+1}^- + K_t(y_t - H_t \\mu_{t+1}^-)\n",
    "$$\n",
    "$$\n",
    "\\Sigma_{t+1} = \\Sigma_{t+1}^- - K_t H_t \\Sigma_{t+1}^-\n",
    "$$\n"
   ]
  },
  {
   "cell_type": "code",
   "execution_count": 2,
   "id": "005250e4",
   "metadata": {},
   "outputs": [],
   "source": [
    "# TODO: implement the function body\n",
    "\n",
    "def kalman_step(obs, belief_mean, belief_var, A, a, H, R, Q):\n",
    "    \"\"\"\n",
    "    obs: real valued observation of the angle of the pendulum.\n",
    "    belief_mean: np.array with shape (2,) which displays the current belief about the angular position and velocity (mu_t).\n",
    "    belief_var: np.array with shape (2, 2). Variance matrix of the belief gaussian (Sigma_t).\n",
    "    A: np.array with shape (2, 2). Current Transition matrix A_t\n",
    "    a: np.array with shape (2,). Current Offset of the transition model a_t.\n",
    "    H: np.array with shape (2,). Current Measurement matrix H_t.\n",
    "    R: np.array with shape (2, 2). Current Transition noise matrix R_t.\n",
    "    Q: real valued observation noise Q_t.\n",
    "    \n",
    "    return: new_belief_mean, new_belief_var\n",
    "    \"\"\"\n",
    "    # 1. prediction step\n",
    "    mean_minus = A @ belief_mean + a\n",
    "    var_minus = A @ belief_var @ A.T + R\n",
    "    # 2. observation step\n",
    "    K_t = (var_minus @ H.T * 1 / (H @ var_minus @ H.T + Q)).squeeze()\n",
    "    new_belief_mean = mean_minus + K_t * (obs - H @ mean_minus)\n",
    "    new_belief_var = var_minus - np.outer(K_t, H.squeeze()) @ var_minus\n",
    "\n",
    "    assert new_belief_mean.shape == belief_mean.shape\n",
    "    assert new_belief_var.shape == belief_var.shape\n",
    "    return new_belief_mean, new_belief_var"
   ]
  },
  {
   "cell_type": "code",
   "execution_count": 3,
   "id": "f7a68672",
   "metadata": {},
   "outputs": [
    {
     "name": "stdout",
     "output_type": "stream",
     "text": [
      "new_belief_mean=array([1.38872692, 2.89650146])\n",
      "new_belief_var=array([[0.28182702, 0.08746356],\n",
      "       [0.08746356, 0.28921283]])\n"
     ]
    }
   ],
   "source": [
    "# DO NOT MODIFY THIS BLOCK\n",
    "# this is a test to verify that your implementation is correct. The result with the code from the solution is \n",
    "# given as a comment below. \n",
    "\n",
    "# some dummy values\n",
    "test_obs = 1.0\n",
    "test_belief_mean = np.array([1.0, 2.0])\n",
    "test_belief_var = np.eye(2) * 0.5\n",
    "test_A = np.ones((2, 2)) * 0.3\n",
    "test_a = np.array([0.5, 2.0])\n",
    "test_H = np.array([1.0, 0.0])\n",
    "test_R = np.eye(2) * 0.2\n",
    "test_Q = 10.\n",
    "\n",
    "new_belief_mean, new_belief_var = kalman_step(test_obs, test_belief_mean, test_belief_var, test_A, test_a, test_H, test_R, test_Q)\n",
    "\n",
    "print(f\"{new_belief_mean=}\")\n",
    "print(f\"{new_belief_var=}\")\n",
    "\n",
    "# Correct results:\n",
    "\n",
    "# new_belief_mean=array([1.38872692, 2.89650146])\n",
    "# new_belief_var=array([[0.28182702, 0.08746356],\n",
    "#        [0.08746356, 0.28921283]])\n"
   ]
  },
  {
   "cell_type": "markdown",
   "id": "b533f224",
   "metadata": {},
   "source": [
    "### b) First Order Dynamics model <br>\n",
    "We model our state of the pendulum by the current angle position $x_t$ and its angular velocity $\\dot x_t$\n",
    "Our simple dynamics model is given by\n",
    "\n",
    "$$\n",
    "\\begin{bmatrix} x_{t+1}   \\\\  \\dot{x}_{t+1} \\end{bmatrix} = \\begin{bmatrix} 1 & dt \\\\ 0 & 1 \\end{bmatrix} \\begin{bmatrix} x_{t}   \\\\  \\dot{x}_{t} \\end{bmatrix} + \\begin{bmatrix} 0   \\\\  0 \\end{bmatrix}\n",
    "$$\n",
    "\n",
    "Please finish the function **\"get_first_order_system\"** below. This function returns the transition matrix $A \\in \\mathbb{R}^{2 \\times 2}$ and the linear offset $a \\in \\mathbb{R}^2$. "
   ]
  },
  {
   "cell_type": "code",
   "execution_count": 4,
   "id": "0e1feb85",
   "metadata": {},
   "outputs": [],
   "source": [
    "# TODO: implement the function body\n",
    "\n",
    "def get_first_order_system(dt):\n",
    "    \"\"\"\n",
    "    dt: real value. Difference in time between 2 measurements.\n",
    "    returns: Transition matrix A (np.array with shape (2, 2)) and linear offset a (np.array with shape (2,)).\n",
    "    \"\"\"\n",
    "    A = np.array([[1, dt], [0, 1]])\n",
    "    a = np.array([0, 0., ])\n",
    "    return A, a"
   ]
  },
  {
   "cell_type": "markdown",
   "id": "42beb865",
   "metadata": {},
   "source": [
    "### c)Visual Analysis of the Kalman Filter<br>\n",
    "Execute the cell below. You will see an animation with 3 pendulums of differenct color. \n",
    "- The red pendulum is the true state pendulum which we would like to approximate.\n",
    "- The green pendulum is the visualization of the Kalman filter mean belief angle.\n",
    "- the blue pendulum shows the individual noisy observations in each step. <br>\n",
    "\n",
    "**The different lengths of the pendulums are not relevant, they are just chosen for a better visibility. The only relevant quantities are the angles of the pendulums.**  <br>\n",
    "\n",
    "The estimated state of the Kalman filter is (even with correct implementaiton) not optimal. Describe the behavior of the green estimated pendulum. Also, explain the reason behind that specific movement. You can answer these questions inside the notebook below the next cell. <br>"
   ]
  },
  {
   "cell_type": "code",
   "execution_count": 5,
   "id": "2b37fd16",
   "metadata": {},
   "outputs": [],
   "source": [
    "# TODO: Run the cell\n",
    "\n",
    "# set up the visualization\n",
    "game = PendulumGame(gravity=25., framerate=60, damping=1.0, obs_noise_std=0.3)\n",
    "# initial belief state\n",
    "kf_belief_mean = np.array([game.angle, 0.0])\n",
    "kf_belief_var = np.eye(2)\n",
    "\n",
    "A, a = get_first_order_system(game.dt)\n",
    "H = np.array([[1., 0]])\n",
    "# noise values\n",
    "R = np.eye(2) * 5.\n",
    "Q = np.array([150.])\n",
    "\n",
    "game.start_gui()\n",
    "for step in range(10000):\n",
    "    obs = game.step_physics()\n",
    "    \n",
    "    kf_belief_mean, kf_belief_var = kalman_step(obs, kf_belief_mean, kf_belief_var, A, a, H, R, Q)\n",
    "    game.set_kf_angle(kf_belief_mean[0])\n",
    "    terminated = game.redraw()\n",
    "    if terminated:\n",
    "        break"
   ]
  },
  {
   "cell_type": "markdown",
   "id": "2a42fbd1",
   "metadata": {},
   "source": [
    "### Answer to c)\n",
    "**Beobachtung**: Der Kalman Filter ist zeitlich versetzt und hinkt dem echten Pendel hinterher. Außerdem gibt es noch immer etwas Rauschen im gefilterten Signal.\n",
    "\n",
    "**Erklärung**: Der Kalman Filter geht in seinem Dymanikmodell davon aus, dass auf dem Pendel keine Kräfte und daraus resultierenden Beschleunigungen wirken. Dies ist in der Realität aber nicht der Fall: Das Pendel beschleunigt und bremst. Wenn das Pendel von der linken Seite nach rechts schwingt, beschleunigt es auf dem Weg nach unten. Der Kalman Filter reagiert da zu spät, da er mit dieser Dynamik nicht rechnet. Dadurch verzögert sich das gefilterte Signal. Schwingt nun das Pendel nach rechts und bremst auf dem Weg nach oben, reagiert der Kalman Filter ebenfalls verzögert, da er weiterhin von einer gleichförmigen Bewegung ausgeht. Dadurch überschwingt das Pendel vom Kalman Filter. Insgesamt entsteht so eine zeitliche Verzögerung. \n",
    "\n"
   ]
  },
  {
   "cell_type": "markdown",
   "id": "68bcc75e",
   "metadata": {},
   "source": [
    "### d) Taylor Approximation of the real Pendulum Dynamics<br>\n",
    "Please answer the question e) given **on the exercise sheet** in your solution pdf. <br>"
   ]
  },
  {
   "cell_type": "markdown",
   "id": "26a20a2e",
   "metadata": {},
   "source": [
    "### e) Linearized Dynamics model<br>\n",
    "Please answer the question f) given **on the exercise sheet** in your solution pdf. <br>"
   ]
  },
  {
   "cell_type": "markdown",
   "id": "11577f83",
   "metadata": {},
   "source": [
    "### f) Implementation of the Linearized Dynamics model<br>\n",
    "Now that you have derived the dynamics model in e), implement it in the cell below. Afterwards, run the visualization of the extended Kalman filter! <br>"
   ]
  },
  {
   "cell_type": "code",
   "execution_count": 6,
   "id": "5f4e5fa3",
   "metadata": {},
   "outputs": [],
   "source": [
    "# TODO: implement the function body\n",
    "\n",
    "def get_linearization(dt, gravity, ekf_belief_mean):\n",
    "    \"\"\"\n",
    "    dt: real value. Difference in time between 2 measurements.\n",
    "    gravity: real value. This controls the acceleration of the pendulum. (In the formula the variable 'g')\n",
    "    ekf_belief_mean: np.array with shape (2,) which displays the current belief about the angular position\n",
    "                     and velocity of the extended Kalman Filter.\n",
    "    returns: Transition matrix A_t (np.array with shape (2, 2)) and linear offset a_t (np.array with shape (2,))\n",
    "             for the timestep t.\n",
    "    \"\"\"\n",
    "    A_t = np.array([[1, dt], [- gravity * np.cos(ekf_belief_mean[0]) * dt, 1]])\n",
    "    a_t = np.array([ekf_belief_mean[0] + ekf_belief_mean[1] * dt, ekf_belief_mean[1] - \n",
    "                    gravity * np.sin(ekf_belief_mean[0]) * dt]) - A_t @ ekf_belief_mean\n",
    "    return A_t, a_t"
   ]
  },
  {
   "cell_type": "code",
   "execution_count": 7,
   "id": "901bc498",
   "metadata": {},
   "outputs": [],
   "source": [
    "# TODO: Run the cell\n",
    "\n",
    "game = PendulumGame(gravity=25., framerate=60, damping=1.0, obs_noise_std=0.3)\n",
    "ekf_belief_mean = np.array([game.angle, 0.0])\n",
    "ekf_belief_var = np.eye(2)\n",
    "\n",
    "H = np.array([[1., 0]])\n",
    "R = np.eye(2) * 1.\n",
    "Q = np.array([80.])\n",
    "\n",
    "game.start_gui()\n",
    "for step in range(10000):\n",
    "    obs = game.step_physics()\n",
    "    A_t, a_t = get_linearization(game.dt, game.gravity, ekf_belief_mean)\n",
    "    ekf_belief_mean, ekf_belief_var = kalman_step(obs, ekf_belief_mean, ekf_belief_var, A_t, a_t, H, R, Q)\n",
    "    game.set_kf_angle(ekf_belief_mean[0])\n",
    "    terminated = game.redraw()\n",
    "    if terminated:\n",
    "        break"
   ]
  },
  {
   "cell_type": "markdown",
   "id": "e5852cc0",
   "metadata": {},
   "source": [
    "### g) Voluntary exercise: Selecting good noise values<br>\n",
    "The Kalman Filter is sensitive to the choice of the noise values $R$ and $Q$. Play around with these values for the Kalman filter and the extended Kalman filter. To not mess up your working implementation above, we copied the previous cell below. What is the best fit you can get?<br>"
   ]
  },
  {
   "cell_type": "code",
   "execution_count": 8,
   "id": "bd2f5823",
   "metadata": {},
   "outputs": [],
   "source": [
    "# TODO: Edit R and Q and see how they influence the Kalman filter\n",
    "\n",
    "game = PendulumGame(gravity=25., framerate=60, damping=1.0, obs_noise_std=0.3)\n",
    "ekf_belief_mean = np.array([game.angle, 0.0])\n",
    "ekf_belief_var = np.eye(2)\n",
    "\n",
    "H = np.array([[1., 0]])\n",
    "\n",
    "# TODO: change these values and see what they do\n",
    "R = np.eye(2) * 1.\n",
    "Q = np.array([80.])\n",
    "\n",
    "game.start_gui()\n",
    "for step in range(10000):\n",
    "    obs = game.step_physics()\n",
    "    A_t, a_t = get_linearization(game.dt, game.gravity, ekf_belief_mean)\n",
    "    ekf_belief_mean, ekf_belief_var = kalman_step(obs, ekf_belief_mean, ekf_belief_var, A_t, a_t, H, R, Q)\n",
    "    game.set_kf_angle(ekf_belief_mean[0])\n",
    "    terminated = game.redraw()\n",
    "    if terminated:\n",
    "        break"
   ]
  },
  {
   "cell_type": "code",
   "execution_count": null,
   "id": "c5091e55",
   "metadata": {},
   "outputs": [],
   "source": []
  }
 ],
 "metadata": {
  "kernelspec": {
   "display_name": "Python3 (kogsys2022)",
   "language": "python",
   "name": "kogsys2022"
  },
  "language_info": {
   "codemirror_mode": {
    "name": "ipython",
    "version": 3
   },
   "file_extension": ".py",
   "mimetype": "text/x-python",
   "name": "python",
   "nbconvert_exporter": "python",
   "pygments_lexer": "ipython3",
   "version": "3.9.5"
  }
 },
 "nbformat": 4,
 "nbformat_minor": 5
}
