{
 "cells": [
  {
   "cell_type": "markdown",
   "metadata": {},
   "source": [
    "# Einführung in Python - Teil 1 \n",
    "\n",
    "Dieses Übungsblatt ist eine kurze Einführung in Python. Es handelt sich um ein Jupyter Notebook, das aus Feldern mit nicht ausführbarem Text und aus Feldern mit ausführbarem Code besteht. <br><br>\n",
    "\n",
    "<img style=\"float: left;\" src=\"resources/img/laptop_icon.png\" width=50 height=50 /> <br><br>\n",
    "<i>Führe das untere Feld aus, indem du das Feld auswählst und anschließend entweder oben in der Leiste auf <b>Run</b> klickst oder <b>Strg + Enter</b> drückst.</i>\n"
   ]
  },
  {
   "cell_type": "code",
   "execution_count": 1,
   "metadata": {
    "scrolled": true
   },
   "outputs": [
    {
     "name": "stdout",
     "output_type": "stream",
     "text": [
      "Herzlich willkommen im Seminar „Programmieren für GeisteswissenschaftlerInnen“!\n"
     ]
    }
   ],
   "source": [
    "# Das ist ein ausführbares Feld.\n",
    "# Zeilen, die mit dem Symbol # beginnen, sind Kommentare und werden vom Compiler ignoriert. \n",
    "\n",
    "print(\"Herzlich willkommen im Seminar „Programmieren für GeisteswissenschaftlerInnen“!\")"
   ]
  },
  {
   "cell_type": "markdown",
   "metadata": {},
   "source": [
    "Bevor wir mit dem Programmieren einsteigen, sollten wir die Fragen klären, was das eigentlich ist und aus welchem Grund wir das machen.\n",
    "\n",
    "Zunächst müssen wir feststellen, dass Computer in vielen Bereichen den Menschen überlegen sind, z.B. können sie schneller rechnen oder Informationen effizienter verarbeiten und abrufen. Diese Überlegenheit möchten wir zu unseren Gunsten nutzen und dem Computer mitteilen, was er auszuführen hat. Letzteres erfolgt dabei durch eine eindeutige Handlungsvorschrift / Anweisung, die aus einem oder mehreren Einzelschritten bestehen kann. Solch eine Handlungsvorschrift wird <b>Algorithmus</b> genannt. Handlungsvorschriften aus dem Alltag wie\n",
    "\n",
    "<ol>\n",
    "    <li>Gehe zum Bücherschrank.</li>\n",
    "    <li>Greife das Buch <i>Kritik der reinen Vernunft</i> heraus.</li>\n",
    "    <li>Lerne das Buch auswendig. </li>\n",
    "</ol>\n",
    "\n",
    "sind ebenso Algorithmen. \n",
    "\n",
    "Um Algorithmen so umzusetzen, dass sie für den Computer verständlich sind, gibt es unterschiedliche Programmiersprachen. Je nach Problemstellung sind bestimmte Programmiersprachen besser geeignet als andere. Zum Beispiel ist für umfangreiche Softwareanwendungen <i>Java</i> sehr beliebt, für statische Berechnungen <i>R</i> und für Programme, die Speicherressourcen und Prozessoren effizient nutzen sollen, ist vor allem <i>C/C++</i> im Einsatz. Für unsere Zwecke setzen wir den Begriff <i>Programmierung</i> mit dem Umsetzen von Anweisungen in eine Programmiersprache gleich.\n",
    "\n",
    "## 1. Warum Python?\n",
    "\n",
    "<br>\n",
    "\n",
    " <figure>\n",
    "  <img src=\"resources/img/statista_beliebteste_programmiersprachen.png\" alt=\"Deep Neural Network\" style=\"width:70%\">\n",
    "  <br>\n",
    "  <figcaption></figcaption>\n",
    "</figure> \n",
    "\n",
    "<br>\n",
    "\n",
    "Python lässt sich auf Grund der einfachen Syntax schnell erlernen und bietet v.a. zu den aktuellen Themen der künstlichen Intelligenz, wie den tiefen neuronalen Netzen, der Sprachverarbeitung (Natural Language Processing) und vielen weiteren, eine sehr gute Auswahl an Bibliotheken (d.h. Code den man für seine eigenen Projekte benutzen kann, ohne alles selbst schreiben zu müssen). Laut PYPL-Index (\"PopularitY of Programming Language Index\") ist Python momentan die beliebteste Programmiersprache weltweit (Stand: März 2023). \n",
    "\n",
    "## 2. Nützliche Links\n",
    "\n",
    "Verstehst du im Folgenden bestimmte Inhalte nicht oder möchtest sie weiter vertiefen, ist hier eine kleine Auswahl an nützlichen Webinhalten:\n",
    "\n",
    "Kostenlose Videokurse:\n",
    "\n",
    "<ul>\n",
    "    <li><a href=\"https://www.youtube.com/watch?v=RBpK8C3N-Y8\">YouTube Python Komplettkurs 1 (Deutsch)</a></li>\n",
    "    <li><a href=\"https://youtube.com/playlist?list=PL_pqkvxZ6ho3u8PJAsUU-rOAQ74D0TqZB\">YouTube Python Komplettkurs 2 (Deutsch)</a></li>\n",
    "    <li><a href=\"https://www.youtube.com/watch?v=rfscVS0vtbw&t=1s\">YouTube Python-Komplettkurs (Englisch)</a></li>\n",
    "    \n",
    "</ul>\n",
    "\n",
    "Kostenlose Webseiten:\n",
    "\n",
    "<ul>  \n",
    "    <li><a href=\"https://www.w3schools.com/python/\">W3Schools Python Tutorials (Englisch)</a></li>\n",
    "    <li><a href=\"https://www.codecademy.com/learn/learn-python-3\">Codecademy Python-Kurs (Englisch)</a></li>\n",
    "    <li><a href=\"https://www.python-kurs.eu/python_kurs.php\">Python-Kurs (Deutsch)</a></li>\n",
    "</ul>\n",
    "\n",
    "## 3. Variablen\n",
    "\n",
    "Wird ein Computerprogramm ausgeführt, müssen bestimmte Zahlen- oder Zeichenwerte (zwischen-)gespeichert werden, wie z.B. die Eingabe von Nutzern oder das Ergebnis einer Berechnung. Dafür werden <b>Variablen</b> verwendet. Variablen sind abstrakte Behälter, die eine Bezeichnung und einen Wert haben."
   ]
  },
  {
   "cell_type": "code",
   "execution_count": null,
   "metadata": {},
   "outputs": [],
   "source": [
    "# 'name' ist der Bezeichner der Variable und 'Sokrates' deren Wert.\n",
    "name = \"Sokrates\"\n",
    "\n",
    "# Variablen können unterschiedliche Werte annehmen, wie z.B. Zeichen-, Zahlenwerte,...\n",
    "# Zeichenketten werden durch Anführungzeichen \"...\" oder '...' kenntlich gemacht.\n",
    "# Zahlenwerte \n",
    "birth = 469\n",
    "death = 399\n",
    "\n",
    "# ... oder auch boolesche Werte (wahr / falsch).\n",
    "philosopher = True\n",
    "president = False"
   ]
  },
  {
   "cell_type": "code",
   "execution_count": null,
   "metadata": {},
   "outputs": [],
   "source": [
    "# Mit Variablen, die Zahlenwerte speichern, können auch Rechnungen durchgeführt werden.\n",
    "grade1 = 1.7\n",
    "grade2 = 1.0\n",
    "num_exams = 2\n",
    "average = (grade1 + grade2) / num_exams\n",
    "print(\"Durchschnitt:\", average)"
   ]
  },
  {
   "cell_type": "code",
   "execution_count": null,
   "metadata": {},
   "outputs": [],
   "source": [
    "# Möchtest du Variablen als Text / in einem Text ausgeben, rufst du die Funktion\n",
    "# print() mit folgender Syntax auf ('\\' markiert einen Zeilenumbruch).\n",
    "\n",
    "# 1. Möglichkeit\n",
    "print(f\"{name} war ein bekannter griechischer Philosoph, der {birth} v.Chr. geboren wurde\\\n",
    " und {death} v.Chr. gestorben ist.\")\n",
    "\n",
    "# 2. Möglichkeit\n",
    "print(name, \"war ein bekannter griechischer Philosoph, der\", birth, \"v.Chr. geboren wurde\",\n",
    " \"und\", death, \"v.Chr. gestorben ist.\")\n",
    "\n",
    "# Du kannst auch einfach nur die Werte der Variablen ausgeben.\n",
    "print(name, birth, death, philosopher, president)"
   ]
  },
  {
   "cell_type": "code",
   "execution_count": null,
   "metadata": {},
   "outputs": [],
   "source": [
    "# Die Werte der Variablen können sich im Laufe der Programmausführung auch ändern.\n",
    "\n",
    "# Die Variable 'name' wurde bereits oben definiert. \n",
    "# Durch \"=\" wird ihr ein neuer Wert zugewiesen.\n",
    "name = \"Platon\"\n",
    "\n",
    "# Die folgende Zeilen sind nicht als mathematische Gleichungen zu verstehen!\n",
    "# Zunächst wird die rechte Seite berechnet und anschließend der \n",
    "# linken Seite / Variablen zugewiesen.\n",
    "\n",
    "# Die Variable 'birth' wird also aktualisiert.\n",
    "birth = birth - 41\n",
    "\n",
    "# Die Variable 'birth' wird also aktualisiert.\n",
    "death = birth - 80\n",
    "\n",
    "print(f\"{name} war ein bekannter griechischer Philosoph, der ca. {birth} v.Chr. geboren wurde\\\n",
    " und ca. {death} v.Chr. gestorben ist.\")"
   ]
  },
  {
   "cell_type": "markdown",
   "metadata": {},
   "source": [
    "<img style=\"float: left;\" src=\"resources/img/laptop_icon.png\" width=50 height=50 /> <br><br>\n",
    "<i>Führe eine neue Variable „age“ ein, deren Wert dem Alter von Platon entspricht. Gebe das Alter anschließend mit Hilfe von „print(...)“ aus.</i>"
   ]
  },
  {
   "cell_type": "code",
   "execution_count": null,
   "metadata": {},
   "outputs": [],
   "source": [
    "# Füge deinen Code hier ein."
   ]
  },
  {
   "cell_type": "markdown",
   "metadata": {},
   "source": [
    "<img style=\"float: left;\" src=\"resources/img/laptop_icon.png\" width=50 height=50 /> <br><br>\n",
    "<i>Ergänze die fehlenden Werte der Variablen, sodass die Ausgabe fehlerfrei ist.</i>"
   ]
  },
  {
   "cell_type": "code",
   "execution_count": null,
   "metadata": {},
   "outputs": [],
   "source": [
    "steckbrief = \"Steckbrief:\\n\"\n",
    "\n",
    "# Deklariere die Variablen 'name', 'maennlich', 'alter' \n",
    "# und 'groesse' analog zu der Deklarierung der \n",
    "# Variablen 'steckbrief'.\n",
    "\n",
    "# Füge hier deinen Code ein.\n",
    "\n",
    "\n",
    "print(steckbrief, \"Name: \", name, \"\\n\", \"weiblich:\", weiblich, \n",
    "      \"\\n\", \"Alter: \", alter, \"\\n\", \"Größe (in m): \", groesse)"
   ]
  },
  {
   "cell_type": "markdown",
   "metadata": {},
   "source": [
    "<img style=\"float: left;\" src=\"resources/img/laptop_icon.png\" width=50 height=50 /> <br><br>\n",
    "<i>Bearbeite das folgenden Feld, um den Umgang mit Zahlen zu üben.</i>"
   ]
  },
  {
   "cell_type": "code",
   "execution_count": null,
   "metadata": {},
   "outputs": [],
   "source": [
    "# Ergänze unter jedem nachfolgenden Kommentar deinen Code.\n",
    "x = 9\n",
    "\n",
    "# Addiere zur Variable 'x' 6 dazu.\n",
    "\n",
    "\n",
    "# Multipliziere das Ergebnis mit 3. \n",
    "\n",
    "\n",
    "# Nimm das Ergebnis hoch 4 (Hochzeichen: **).\n",
    "\n",
    "\n",
    "# Teile das Ergebnis durch 91125.\n",
    "\n",
    "\n",
    "# Subtrahiere 3 vom Ergebnis.\n",
    "\n",
    "print(\"Ergebnis:\", x, \"Lösung:\", 42)"
   ]
  },
  {
   "cell_type": "markdown",
   "metadata": {},
   "source": [
    "### 3.1. Zeichenketten\n",
    "\n",
    "Für unser Seminar ist der richtige Umgang mit Zeichenketten (auch Strings genannt) besonders wichtig. \n",
    "\n",
    "<img style=\"float: left;\" src=\"resources/img/laptop_icon.png\" width=50 height=50 /> <br><br>\n",
    "<i>Bearbeite das folgenden Feld, um den Umgang mit Zeichenketten zu üben.</i>"
   ]
  },
  {
   "cell_type": "code",
   "execution_count": null,
   "metadata": {},
   "outputs": [],
   "source": [
    "begruessung1 = 'hi'\n",
    "begruessung2 = 'hallo'\n",
    "begruessung3 = 'hey'\n",
    "\n",
    "# Verbinde alle Begrüßungen, indem du die Strings jeweils durch ein '+' verbindest\n",
    "# und das Ergebnis in der Variable 'begruessung' speicherst.\n",
    "# Das Aneinanderreihen von Zeichenketten nennt man auch Konkatenation.\n",
    "\n",
    "# Füge hier deinen Code ein.\n",
    "\n",
    "print(\"Konkatenierter String: \", begruessung)"
   ]
  },
  {
   "cell_type": "code",
   "execution_count": null,
   "metadata": {},
   "outputs": [],
   "source": [
    "# Gib den dritten und siebten Buchstaben der Variable 'begruessung' aus und überprüfe dein Ergebnis. \n",
    "# Möchtest du den i-ten Buchstaben eines Strings str ausgeben lassen, schreibst du einfach str[i].\n",
    "# (Beachte, dass Informatiker beim Zählen mit 0 beginnen!)\n",
    "\n",
    "beispiel = \"Das ist ein Beispiel.\"\n",
    "print(\"Der fünfte Buchstabe der Zeichenkette ist:\", beispiel[5])\n",
    "\n",
    "# Füge hier deinen Code ein.\n"
   ]
  },
  {
   "cell_type": "code",
   "execution_count": null,
   "metadata": {},
   "outputs": [],
   "source": [
    "# Du kannst nicht nur einzelne Buchstaben eines Strings ausgeben lassen, sondern auch ganze Bereiche.\n",
    "# Verwende str[5:8] um den Bereich vom fünften bis ausschließlich achten Zeichen des Strings str ausgeben zu lassen.\n",
    "# Mit str[0:4] oder str[:4] bekommst du den Bereich vom Anfang bis zum dritten Zeichen \n",
    "# (also ausschließlich des vierten Zeichens).\n",
    "# Analog bekommst du mit str[4:] den Bereich vom vierten bis zum letzten Buchstaben.\n",
    "\n",
    "print(beispiel[:4])\n",
    "print(beispiel[4:12])\n",
    "print(beispiel[12:])"
   ]
  },
  {
   "cell_type": "code",
   "execution_count": null,
   "metadata": {},
   "outputs": [],
   "source": [
    "# Benutze deine vorher definierte Variable 'begruessung', um hi, hallo und hey mithilfe von [] ausgeben zu lassen.\n",
    "\n",
    "# Füge hier deinen Code ein.\n",
    "\n",
    "\n",
    "# Bonusfrage: Was passiert, wenn in die Klammer eine (kleine) negative Zahl eingetragen wird?"
   ]
  },
  {
   "cell_type": "markdown",
   "metadata": {},
   "source": [
    "Wenn du noch Schwierigkeiten beim Umgang mit Variablen hast, können dir folgende Erklärungen behilflich sein:\n",
    "\n",
    "<ul>\n",
    "    <li><a href=\"https://www.youtube.com/watch?v=jfOLXKPGXJ0\">YouTube Python Tutorial - Variablen</a></li>\n",
    "    <li><a href=\"https://www.w3schools.com/python/python_variables.asp\">Python Variables (W3Schools)</a></li>\n",
    "</ul>\n",
    "\n",
    "\n",
    "## 4. Einrückungen\n",
    "\n",
    "Im Gegensatz zu vielen anderen Programmiersprachen werden in Python keine geschweiften Klammern verwendet, um das Programm zu strukturieren. Die Strukturierung von Klassen, Anweisungen und Funktionen basiert auf Einrückungen. Wenn du eine Anweisung schreibst und eine Einrückung vergisst, kann sich dein Programm anders verhalten als du es möchtest. Achte also im Folgenden besonders darauf, welcher Code eingerückt werden muss.\n",
    "\n",
    "<img style=\"float: left;\" src=\"resources/img/laptop_icon.png\" width=50 height=50 /> <br><br>\n",
    "<i>Führe das folgende Feld aus. Behebe anschließend den Fehler.</i>"
   ]
  },
  {
   "cell_type": "code",
   "execution_count": null,
   "metadata": {},
   "outputs": [],
   "source": [
    "# Hier wurde richtig eingerückt.\n",
    "str1 = \"Hallo!\"\n",
    "print(str1)\n",
    "\n",
    "# Diese Einrückung ist falsch\n",
    "str2 = \"Hi!\"\n",
    "    print(str2)"
   ]
  },
  {
   "cell_type": "markdown",
   "metadata": {},
   "source": [
    "## 5. Kontrollstrukturen\n",
    "\n",
    "Mit Kontrollstrukturen steuerst du den Ablauf deines Programms.\n",
    "Im Folgenden findest du immer Beispiele und Aufgaben zu den jeweiligen Kontrollstrukturen.\n",
    "\n",
    "### 5.1. if-else-Anweisung"
   ]
  },
  {
   "cell_type": "code",
   "execution_count": null,
   "metadata": {
    "scrolled": true
   },
   "outputs": [],
   "source": [
    "# Führe das folgende Feld aus. \n",
    "# Beobachte, was passiert, wenn du die Werte änderst.\n",
    "\n",
    "bedingung = True # False\n",
    "\n",
    "if bedingung:\n",
    "    print(\"Die Bedingung ist erfült.\")\n",
    "else:\n",
    "    print(\"Die Bedingung ist nicht erfüllt.\")"
   ]
  },
  {
   "cell_type": "code",
   "execution_count": null,
   "metadata": {},
   "outputs": [],
   "source": [
    "x = 5\n",
    "\n",
    "# Klammern sind bei einer if-else-Anweisung um die Bedingung optional.\n",
    "if (x < 0):\n",
    "    print(\"Die Zahl ist kleiner 0.\")\n",
    "elif 0 <= x <= 3:\n",
    "    print(\"Die Zahl liegt zwischen 0 und 3.\")\n",
    "else:\n",
    "    print(\"Die Zahl ist größer als 5.\")"
   ]
  },
  {
   "cell_type": "code",
   "execution_count": null,
   "metadata": {},
   "outputs": [],
   "source": [
    "name1 = 'Angela'\n",
    "name2 = 'Olaf'\n",
    "\n",
    "# Eine elif- oder else-Anweisung muss nicht zwingend nach einer if-Anweisung folgen.\n",
    "if name1 == 'Angela':\n",
    "    print(\"Hallo Angela!\")\n",
    "    \n",
    "if name1 != name2:\n",
    "    print(f\"{name1} und {name2} sind zwei unterschiedliche Namen.\")"
   ]
  },
  {
   "cell_type": "code",
   "execution_count": null,
   "metadata": {},
   "outputs": [],
   "source": [
    "# Sollen mehrere Bedigungen erfüllt sein, können die entsprechenden Bedingungen \n",
    "# mit 'and' verbunden werden.\n",
    "bedingung1 = True\n",
    "zahl1 = 5\n",
    "zahl2 = 42\n",
    "zahl3 = 11\n",
    "\n",
    "if bedingung1 and zahl1 < zahl2 and zahl2 > zahl3:\n",
    "    print(\"Alle drei Bedingungen sind erfüllt.\")\n",
    "    \n",
    "# Muss nur eine von mehreren Bedingungen erfüllt sein,\n",
    "# werden die entsprechenden Bedingungen durch 'or' verbunden.\n",
    "\n",
    "if bedingung1 or zahl1 > zahl2 or \"Sokrates\" == \"Platon\":\n",
    "    print(\"Mindestens eine Bedingung ist erfüllt.\")"
   ]
  },
  {
   "cell_type": "markdown",
   "metadata": {},
   "source": [
    "<img style=\"float: left;\" src=\"resources/img/laptop_icon.png\" width=50 height=50 /> <br><br>\n",
    "<i>Realisiere folgenden Sachverhalt:</i> <br>\n",
    "\n",
    "<i>Du steuerst mit einem Zug auf eine Abzweigstelle zu. Auf dem linken Gleisbett arbeiten $x_{links}$ Bauarbeiter und auf dem rechten $x_{rechts}$. Ist weder $x_{links}$ noch $x_{rechts}$ gleich 0, führe eine Vollbremsung durch, indem du einen entsprechenden Text ausgibst. Die boolsche Variable „vollbremsung“ gibt dir darüber Auskunft, ob die Vollbremsung erfolgreich war. Ist die Vollbremsung nicht erfolgreich, dann fahre auf den Gleis, auf dem weniger Bauarbeiter arbeiten. Ist $x_{links}$ oder $x_{rechts}$ gleich 0, fahre auf den entsprechend leeren Gleis. <br>Probiere unterschiedliche Werte der Variablen $x_{links}$, $x_{rechts}$ und vollbremsung durch, um sicherzugehen, dass du alles richtig umgesetzt hast.</i> "
   ]
  },
  {
   "cell_type": "code",
   "execution_count": null,
   "metadata": {
    "scrolled": true
   },
   "outputs": [],
   "source": [
    "xlinks = 5\n",
    "xrechts = 1\n",
    "vollbremsung = False\n",
    "\n",
    "# Füge hier deinen Code ein.\n"
   ]
  },
  {
   "cell_type": "markdown",
   "metadata": {},
   "source": [
    "Wenn du noch Schwierigkeiten beim Umgang mit der if-else-Anweisung hast, können dir folgende Erklärungen behilflich sein:\n",
    "\n",
    "<ul>\n",
    "    <li><a href=\"https://www.youtube.com/watch?v=b6KzYbM-Hvg\">YouTube Python Tutorial - if-Anweisung</a></li>\n",
    "    <li><a href=\"https://www.youtube.com/watch?v=f3YdEdYSNdk\">YouTube Python Tutorial - if-Anweisung mit elif- und else-Zweigen</a></li>\n",
    "    <li><a href=\"https://www.w3schools.com/python/python_conditions.asp\">Python if-else (W3Schools)</a></li>\n",
    "</ul>\n",
    "\n",
    "\n",
    "### 5.2. while-Schleife\n",
    "Der Code in der while-Schleife wird solange ausgeführt, bis die Bedingung der while-Schleife nicht mehr erfüllt ist. Wenn die Bedingung nie auf <i>falsch</i> gesetzt wird, dann wird die while-Schleife unendlich oft ausgeführt und dein Programm wird nie regulär beendet. "
   ]
  },
  {
   "cell_type": "code",
   "execution_count": null,
   "metadata": {
    "scrolled": true
   },
   "outputs": [],
   "source": [
    "i = 0\n",
    "while i < 5:\n",
    "    print(\"i=\", i)\n",
    "    # Das ist die Kurzschreibweise für i = i + 1.\n",
    "    i += 1 "
   ]
  },
  {
   "cell_type": "markdown",
   "metadata": {},
   "source": [
    "<img style=\"float: left;\" src=\"resources/img/laptop_icon.png\" width=50 height=50 /> <br><br>\n",
    "<i>Berechne mithilfe der while-Schleife die Summe von 1 bis 10. Klappe die Hinweise nacheinander aus, wenn du Tipps für die Umsetzung benötigst.</i>\n",
    "\n",
    "<br>\n",
    "\n",
    "<details>\n",
    "<summary>➤ Hinweis 1</summary>\n",
    "    Definiere vor der while-Schleife eine Variable <i>result</i> und setze sie zu Beginn gleich 0.\n",
    "</details>\n",
    "\n",
    "<details>\n",
    "<summary>➤ Hinweis 2</summary>\n",
    "    Addiere zur Variable <i>result</i> in jedem Durchlauf den entsprechenden Wert hinzu.\n",
    "</details>"
   ]
  },
  {
   "cell_type": "code",
   "execution_count": null,
   "metadata": {
    "scrolled": true
   },
   "outputs": [],
   "source": [
    "# Füge hier deinen Code ein."
   ]
  },
  {
   "cell_type": "markdown",
   "metadata": {},
   "source": [
    "Wenn du noch Schwierigkeiten beim Umgang mit der while-Schleife hast, können dir folgende Erklärungen behilflich sein:\n",
    "\n",
    "<ul>\n",
    "    <li><a href=\"https://www.youtube.com/watch?v=sXLicTuJzB4\">YouTube Python Tutorial - while-Schleife</a></li>\n",
    "        <li><a href=\"https://www.w3schools.com/python/python_while_loops.asp\">Python While Loops (W3Schools)</a></li>\n",
    "</ul>\n",
    "\n",
    "\n",
    "### 5.3. for-Schleife\n",
    "Möchtest du über einen Zahlenbereich (ganze Zahlen), eine Zeichenkette oder allgemein über ein iterierbares Objekt iterieren, so eignet sich die for-Schleife dazu. "
   ]
  },
  {
   "cell_type": "code",
   "execution_count": null,
   "metadata": {
    "scrolled": true
   },
   "outputs": [],
   "source": [
    "# So iterierst du über den Zahlenbereich (ganzer Zahlen) von 0 bis aussschließlich 3.\n",
    "for i in range(3):\n",
    "    print(f\"{i}. Hallo\")"
   ]
  },
  {
   "cell_type": "code",
   "execution_count": null,
   "metadata": {},
   "outputs": [],
   "source": [
    "# So iterierst du über den Zahlenbereich (ganzer Zahlen) von 5 bis aussschließlich 10.\n",
    "for i in range(3,6):\n",
    "    print(f\"{i}. Hi\")"
   ]
  },
  {
   "cell_type": "code",
   "execution_count": null,
   "metadata": {},
   "outputs": [],
   "source": [
    "# So iterierst du über einen String.\n",
    "str = 'ABCDE'\n",
    "for s in str:\n",
    "    print(s)"
   ]
  },
  {
   "cell_type": "markdown",
   "metadata": {},
   "source": [
    "<img style=\"float: left;\" src=\"resources/img/laptop_icon.png\" width=50 height=50 /> <br><br>\n",
    "<i>Zähle mit Hilfe einer for-Schleife und einer if-Anweisung die Vorkommen des Bustaben 'a' im vorgegebenen Satz. Anschließend kannst du mit satz.count('a') überprüfen, ob du richtig liegst.</i> \n",
    "\n",
    "<br>\n",
    "\n",
    "<details>\n",
    "<summary>➤ Hinweis 1</summary>\n",
    "    Iteriere über die Variable <i>satz</i> mit Hilfe einer for-Schleife. \n",
    "</details>\n",
    "\n",
    "<details>\n",
    "<summary>➤ Hinweis 2</summary>\n",
    "    Definiere vor der for-Schleife eine Variable <i>anzahl</i> und setze sie zu Beginn auf 0.  \n",
    "</details>\n",
    "\n",
    "<details>\n",
    "<summary>➤ Hinweis 3</summary>\n",
    "    Wenn das aktuell betrachtete Zeichen des Satzes gleich „a“ ist, erhöhe die Variable <i>anzahl</i> um 1. \n",
    "</details>"
   ]
  },
  {
   "cell_type": "code",
   "execution_count": null,
   "metadata": {
    "scrolled": true
   },
   "outputs": [],
   "source": [
    "satz = \"Max wachst Wachsmasken. Was macht Max? Wachsmasken wachst Max.\"\n",
    "\n",
    "# Füge hier deinen Code ein.\n"
   ]
  },
  {
   "cell_type": "markdown",
   "metadata": {},
   "source": [
    "Wenn du noch Schwierigkeiten beim Umgang mit der for-Schleife hast, können dir folgende Erklärungen behilflich sein:\n",
    "\n",
    "<ul>\n",
    "    <li><a href=\"https://www.youtube.com/watch?v=ISo1uqLcVw8\">YouTube Python Tutorial - for-Schleife</a></li>\n",
    "        <li><a href=\"https://www.w3schools.com/python/python_for_loops.asp\">Python For Loops (W3Schools)</a></li>\n",
    "</ul>\n",
    "\n",
    "## Abbildungsverzeichnis\n",
    "\n",
    "\n",
    "Abbildung 1: https://de.statista.com/statistik/daten/studie/678732/umfrage/beliebteste-programmiersprachen-weltweit-laut-pypl-index/"
   ]
  }
 ],
 "metadata": {
  "@webio": {
   "lastCommId": null,
   "lastKernelId": null
  },
  "interpreter": {
   "hash": "2d260b012bbf33bcb2887d0961c178b7e1cdbf98f02eb539d597fc41b3ad5997"
  },
  "kernelspec": {
   "display_name": "Python 3 (ipykernel)",
   "language": "python",
   "name": "python3"
  },
  "language_info": {
   "codemirror_mode": {
    "name": "ipython",
    "version": 3
   },
   "file_extension": ".py",
   "mimetype": "text/x-python",
   "name": "python",
   "nbconvert_exporter": "python",
   "pygments_lexer": "ipython3",
   "version": "3.11.2"
  }
 },
 "nbformat": 4,
 "nbformat_minor": 2
}
