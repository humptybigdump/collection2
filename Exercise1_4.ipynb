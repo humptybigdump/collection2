{
 "cells": [
  {
   "cell_type": "markdown",
   "metadata": {},
   "source": [
    "# Exercise 1.1b"
   ]
  },
  {
   "cell_type": "markdown",
   "metadata": {
    "ExecuteTime": {
     "end_time": "2020-10-12T15:10:12.877000+02:00",
     "start_time": "2020-10-12T13:10:12.101Z"
    }
   },
   "source": [
    "Verify the derivative of $f(x)$ by implementing the difference quotient.\n",
    "\n",
    "The given function is:\n",
    "\\begin{equation}\n",
    "f(x) = \\mathrm{ln}(3x^3 + 2)\\cdot x + 2 x^5 + 5 e^{-x^2} + \\mathrm{sin}(2x)\n",
    "\\end{equation}"
   ]
  },
  {
   "cell_type": "code",
   "execution_count": null,
   "metadata": {
    "ExecuteTime": {
     "end_time": "2020-10-15T16:30:05.371000+02:00",
     "start_time": "2020-10-15T14:30:04.448Z"
    }
   },
   "outputs": [],
   "source": [
    "f(x) = log(3 * x^3 + 2) * x + 2 * x ^ 5 + 5 * exp(-x^2) + sin(2 * x)"
   ]
  },
  {
   "cell_type": "code",
   "execution_count": null,
   "metadata": {
    "ExecuteTime": {
     "end_time": "2020-10-15T16:30:05.393000+02:00",
     "start_time": "2020-10-15T14:30:04.450Z"
    }
   },
   "outputs": [],
   "source": [
    "# ===============================================\n",
    "# Implement the analytical derivative of f(x)\n",
    "# df(x) = ...\n",
    "# ==============================================="
   ]
  },
  {
   "cell_type": "code",
   "execution_count": null,
   "metadata": {
    "ExecuteTime": {
     "end_time": "2020-10-15T16:30:12.143000+02:00",
     "start_time": "2020-10-15T14:30:04.453Z"
    }
   },
   "outputs": [],
   "source": [
    "# Create a range of values for which the function should be evaluated\n",
    "x_plot = range(0, 10, length = 100)\n",
    "\n",
    "# Evaluate the function for each point and write it to an array\n",
    "f_plot = [f(x) for x in x_plot]\n",
    "\n",
    "# ===============================================\n",
    "# do the same for the derivative\n",
    "# df_plot = ...\n",
    "# ==============================================="
   ]
  },
  {
   "cell_type": "code",
   "execution_count": null,
   "metadata": {},
   "outputs": [],
   "source": [
    "# Plot the functions\n",
    "using PyPlot\n",
    "plot(x_plot, f_plot, color=\"blue\", label=\"f(x)\")\n",
    "plot(x_plot, df_plot, color=\"red\", label=\"df(x)\")\n",
    "\n",
    "# Add the legend to the plot\n",
    "ax = gca()\n",
    "ax.legend(loc = \"upper left\");"
   ]
  },
  {
   "cell_type": "markdown",
   "metadata": {},
   "source": [
    "The difference quotient of a function at the point $x$ is an approximation for the functions derivative $df/dx$:\n",
    "\\begin{equation}\n",
    "\\frac{df}{dx}(x) \\approx \\frac{f(x+h)-f(x)}{h},\n",
    "\\end{equation}\n",
    "for $h\\rightarrow 0$. See lecture 1, slide 16."
   ]
  },
  {
   "cell_type": "code",
   "execution_count": null,
   "metadata": {
    "ExecuteTime": {
     "end_time": "2020-10-15T16:30:12.431000+02:00",
     "start_time": "2020-10-15T14:30:04.456Z"
    }
   },
   "outputs": [],
   "source": [
    "function df_approx(f,x,h)\n",
    "    # ===============================================\n",
    "    # Return the difference quotient\n",
    "    return (f(x+h) - f(x)) / h\n",
    "    # ===============================================\n",
    "end"
   ]
  },
  {
   "cell_type": "code",
   "execution_count": null,
   "metadata": {
    "ExecuteTime": {
     "end_time": "2020-10-15T16:30:12.447000+02:00",
     "start_time": "2020-10-15T14:30:04.458Z"
    }
   },
   "outputs": [],
   "source": [
    "# some arbitrary value at which the derivative of the function should be tested\n",
    "# try others as well!\n",
    "x0 = 5\n",
    "# some small value\n",
    "h = 0.00001;"
   ]
  },
  {
   "cell_type": "code",
   "execution_count": null,
   "metadata": {
    "ExecuteTime": {
     "end_time": "2020-10-15T16:30:12.447000+02:00",
     "start_time": "2020-10-15T14:30:04.461Z"
    }
   },
   "outputs": [],
   "source": [
    "# ===============================================\n",
    "# Test your result\n",
    "# @assert abs(df_approx(f,x0,h) - df(x0)) < 0.1\n",
    "# ==============================================="
   ]
  },
  {
   "cell_type": "markdown",
   "metadata": {},
   "source": [
    "# Exercise 1.2c"
   ]
  },
  {
   "cell_type": "markdown",
   "metadata": {},
   "source": [
    " Let $g$ be a function depending on the variables $x_1$ and $x_2$:\n",
    "\\begin{equation}\n",
    "g(x_1,x_2) =  6 x_1^3 + \\mathrm{sin}(2x_2)\n",
    "\\end{equation}"
   ]
  },
  {
   "cell_type": "code",
   "execution_count": null,
   "metadata": {
    "ExecuteTime": {
     "end_time": "2020-10-15T16:30:12.513000+02:00",
     "start_time": "2020-10-15T14:30:04.463Z"
    }
   },
   "outputs": [],
   "source": [
    "g(x1,x2) = 6*x1^3 + sin(2*x2)"
   ]
  },
  {
   "cell_type": "code",
   "execution_count": null,
   "metadata": {
    "ExecuteTime": {
     "end_time": "2020-10-15T16:30:12.977000+02:00",
     "start_time": "2020-10-15T14:30:04.466Z"
    }
   },
   "outputs": [],
   "source": [
    "# The gradient of g(x)\n",
    "dg(x1,x2) = [\n",
    "    # ===============================================\n",
    "    # implement the analytical derivative dg/dx1 in this line\n",
    "    # ===============================================\n",
    "    ;\n",
    "    # ===============================================\n",
    "    # implement the analytical derivative dg/dx2 in this line\n",
    "    # ===============================================\n",
    "]"
   ]
  },
  {
   "cell_type": "code",
   "execution_count": null,
   "metadata": {
    "ExecuteTime": {
     "end_time": "2020-10-15T16:30:12.977000+02:00",
     "start_time": "2020-10-15T14:30:04.470Z"
    }
   },
   "outputs": [],
   "source": [
    "# The hessian of g(x)\n",
    "H(x1,x2) = [\n",
    "    # ===============================================\n",
    "    # implement the analytical derivative (ddg)/(dx1dx1) in this line\n",
    "    # ===============================================\n",
    "    # ===============================================\n",
    "    # implement the analytical derivative (ddg)/(dx1dx2)in this line\n",
    "    # ===============================================\n",
    "    ;\n",
    "    # ===============================================\n",
    "    # implement the analytical derivative (ddg)/(dx2dx1)in this line\n",
    "    # ===============================================\n",
    "    # ===============================================\n",
    "    # implement the analytical derivative (ddg)/(dx2dx2)in this line\n",
    "    # ===============================================\n",
    "]"
   ]
  },
  {
   "cell_type": "code",
   "execution_count": null,
   "metadata": {
    "ExecuteTime": {
     "end_time": "2020-10-15T16:30:13.061000+02:00",
     "start_time": "2020-10-15T14:30:04.473Z"
    }
   },
   "outputs": [],
   "source": [
    "# test the derivative dg/dx1\n",
    "# fix the value for x2 -> has no influence on the test\n",
    "x_fix = 4\n",
    "g_test(x) = g(x,x_fix)\n",
    "# ===============================================\n",
    "# test your implementation of dg/dx1 by uncommenting the following line\n",
    "# @assert abs(df_approx(g_test,x0,h) - dg(x0,x_fix)[1])<0.1\n",
    "# ==============================================="
   ]
  },
  {
   "cell_type": "code",
   "execution_count": null,
   "metadata": {
    "ExecuteTime": {
     "end_time": "2020-10-15T16:30:13.061000+02:00",
     "start_time": "2020-10-15T14:30:04.476Z"
    }
   },
   "outputs": [],
   "source": [
    "# test the derivative dg/dx1\n",
    "# fix the value for x2 -> has no influence on the test\n",
    "x_fix = 10\n",
    "g_test(x) = g(x_fix,x)\n",
    "# ===============================================\n",
    "# test your implementation of dg/dx2 by uncommenting the following line\n",
    "# @assert abs(df_approx(g_test,x0,h) - dg(x_fix,x0)[2])<0.1\n",
    "# ==============================================="
   ]
  },
  {
   "cell_type": "code",
   "execution_count": null,
   "metadata": {
    "ExecuteTime": {
     "end_time": "2020-10-15T16:30:13.146000+02:00",
     "start_time": "2020-10-15T14:30:04.479Z"
    }
   },
   "outputs": [],
   "source": [
    "# Test the implementation of the Hessian: entry at row 1, column 1\n",
    "# fix the value for x2 -> has no influence on the test\n",
    "x_fix = 5\n",
    "H_test(x) = H(x,x_fix)\n",
    "dg_test(x) = dg(x,x_fix)[1]\n",
    "# ===============================================\n",
    "# test your implementation by uncommenting the following line\n",
    "# @assert abs(df_approx(dg_test,x0,h) - H_test(x0)[1,1])<0.1\n",
    "# ==============================================="
   ]
  },
  {
   "cell_type": "code",
   "execution_count": null,
   "metadata": {
    "ExecuteTime": {
     "end_time": "2020-10-15T16:30:13.146000+02:00",
     "start_time": "2020-10-15T14:30:04.480Z"
    }
   },
   "outputs": [],
   "source": [
    "# Test the implementation of the Hessian: entry at row 1, column 2\n",
    "# fix the value for x1 -> has no influence on the test\n",
    "x_fix = 5\n",
    "H_test(x) = H(x_fix,x)\n",
    "dg_test(x) = dg(x_fix,x)[1]\n",
    "# ===============================================\n",
    "# test your implementation by uncommenting the following line\n",
    "# @assert abs(df_approx(dg_test,x0,h) - H_test(x0)[1,2])<0.1\n",
    "# ==============================================="
   ]
  },
  {
   "cell_type": "code",
   "execution_count": null,
   "metadata": {
    "ExecuteTime": {
     "end_time": "2020-10-15T16:30:13.146000+02:00",
     "start_time": "2020-10-15T14:30:04.483Z"
    }
   },
   "outputs": [],
   "source": [
    "# Test the implementation of the Hessian: entry at row 2, column 1\n",
    "# fix the value for x2 -> has no influence on the test\n",
    "x_fix = 5\n",
    "H_test(x) = H(x,x_fix)\n",
    "dg_test(x) = dg(x,x_fix)[2]\n",
    "# ===============================================\n",
    "# test your implementation by uncommenting the following line\n",
    "# @assert abs(df_approx(dg_test,x0,h) - H_test(x0)[2,1])<0.1\n",
    "# ==============================================="
   ]
  },
  {
   "cell_type": "code",
   "execution_count": null,
   "metadata": {
    "ExecuteTime": {
     "end_time": "2020-10-15T16:30:13.162000+02:00",
     "start_time": "2020-10-15T14:30:04.485Z"
    }
   },
   "outputs": [],
   "source": [
    "# Test the implementation of the Hessian: entry at row 2, column 2\n",
    "# fix the value for x1 -> has no influence on the test\n",
    "x_fix = 5\n",
    "H_test(x) = H(x_fix,x)\n",
    "dg_test(x) = dg(x_fix,x)[2]\n",
    "# ===============================================\n",
    "# test your implementation by uncommenting the following line\n",
    "# @assert abs(df_approx(dg_test,x0,h) - H_test(x0)[2,2])<0.1\n",
    "# ==============================================="
   ]
  }
 ],
 "metadata": {
  "kernelspec": {
   "display_name": "Julia 1.9.1",
   "language": "julia",
   "name": "julia-1.9"
  },
  "language_info": {
   "file_extension": ".jl",
   "mimetype": "application/julia",
   "name": "julia",
   "version": "1.9.1"
  },
  "toc": {
   "base_numbering": 1,
   "nav_menu": {},
   "number_sections": true,
   "sideBar": true,
   "skip_h1_title": false,
   "title_cell": "Table of Contents",
   "title_sidebar": "Contents",
   "toc_cell": false,
   "toc_position": {},
   "toc_section_display": true,
   "toc_window_display": false
  },
  "varInspector": {
   "cols": {
    "lenName": 16,
    "lenType": 16,
    "lenVar": 40
   },
   "kernels_config": {
    "python": {
     "delete_cmd_postfix": "",
     "delete_cmd_prefix": "del ",
     "library": "var_list.py",
     "varRefreshCmd": "print(var_dic_list())"
    },
    "r": {
     "delete_cmd_postfix": ") ",
     "delete_cmd_prefix": "rm(",
     "library": "var_list.r",
     "varRefreshCmd": "cat(var_dic_list()) "
    }
   },
   "types_to_exclude": [
    "module",
    "function",
    "builtin_function_or_method",
    "instance",
    "_Feature"
   ],
   "window_display": false
  }
 },
 "nbformat": 4,
 "nbformat_minor": 4
}
