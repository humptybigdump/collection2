{
 "cells": [
  {
   "cell_type": "code",
   "execution_count": null,
   "metadata": {
    "ExecuteTime": {
     "end_time": "2021-12-17T12:56:27.707000+01:00",
     "start_time": "2021-12-17T11:56:26.139Z"
    }
   },
   "outputs": [],
   "source": [
    "include(\"optimization_library.jl\");"
   ]
  },
  {
   "cell_type": "markdown",
   "metadata": {},
   "source": [
    "# Exercise 8.1: Optimal Path for Santa\n",
    "\n",
    "<img src=\"figures/santa-claus.png\" width=\"300\">"
   ]
  },
  {
   "cell_type": "code",
   "execution_count": null,
   "metadata": {
    "ExecuteTime": {
     "end_time": "2021-12-17T15:37:58.600000+01:00",
     "start_time": "2021-12-17T14:37:58.572Z"
    }
   },
   "outputs": [],
   "source": [
    "# ================================================================================================\n",
    "# vector c, matrix A and vector b\n",
    "\n",
    "c = [4857; 3281; 7891; 7891; 7312; 7312; 9892; 9892]\n",
    "\n",
    "A = [1 1 0 0 0 0 0 0;\n",
    "    0 1 1 -1 0 0 1 -1;\n",
    "    1 0 -1 1 1 -1 0 0;\n",
    "    0 0 0 0 -1 1 -1 1]\n",
    "\n",
    "d_eu = 78\n",
    "d_usa = 60\n",
    "d_bz = 40\n",
    "supply = d_eu + d_usa + d_bz\n",
    "\n",
    "b = [supply; d_eu; d_usa; d_bz]\n",
    "# ================================================================================================"
   ]
  },
  {
   "cell_type": "code",
   "execution_count": null,
   "metadata": {
    "ExecuteTime": {
     "end_time": "2021-12-17T15:38:14.819000+01:00",
     "start_time": "2021-12-17T14:38:14.806Z"
    }
   },
   "outputs": [],
   "source": [
    "# ================================================================================================\n",
    "# 1. Implement the objective function, its gradient and Hessian.\n",
    "# 2. Implement the functions g(x) for the inequality constraints, their gradients and Hessians.\n",
    "nx = size(A,2)\n",
    "\n",
    "f(x) = c' * x\n",
    "df(x) = c\n",
    "Hf(x) = zeros(nx,nx)\n",
    "\n",
    "g = Vector(undef, nx)\n",
    "dg = Vector(undef, nx)\n",
    "Hg = Vector(undef, nx)\n",
    "    \n",
    "for i in 1:nx # allow only positive quantities\n",
    "    g[i] = x -> -x[i]\n",
    "    dg[i] = x -> begin d = zeros(nx); d[i] = -1; return d end\n",
    "    Hg[i] = x -> zeros(nx, nx)\n",
    "end"
   ]
  },
  {
   "cell_type": "code",
   "execution_count": null,
   "metadata": {
    "ExecuteTime": {
     "end_time": "2021-12-17T15:38:17.914000+01:00",
     "start_time": "2021-12-17T14:38:15.935Z"
    }
   },
   "outputs": [],
   "source": [
    "# ================================================================================================\n",
    "# Apply the function ConstraintElimination_ipm() from the optimization library\n",
    "x_best, trace = ConstraintElimination_ipm(f,df,Hf,A,b,g=g,dg = dg, Hg = Hg, eps = 0.00001, barrier_increase = 10.0);\n",
    "# ================================================================================================"
   ]
  },
  {
   "cell_type": "code",
   "execution_count": null,
   "metadata": {
    "ExecuteTime": {
     "end_time": "2021-12-17T15:40:16.361000+01:00",
     "start_time": "2021-12-17T14:40:16.357Z"
    }
   },
   "outputs": [],
   "source": [
    "x_best"
   ]
  },
  {
   "cell_type": "code",
   "execution_count": null,
   "metadata": {
    "ExecuteTime": {
     "end_time": "2021-12-17T15:40:17.260000+01:00",
     "start_time": "2021-12-17T14:40:17.257Z"
    }
   },
   "outputs": [],
   "source": [
    "println(\"average distance per package: \",round((c'*x_best)/supply,digits=2),\" km\")"
   ]
  },
  {
   "cell_type": "markdown",
   "metadata": {},
   "source": [
    "## How to use the SCS solver"
   ]
  },
  {
   "cell_type": "markdown",
   "metadata": {},
   "source": [
    "We will now learn how to use the SCS solver using the JuMP package. The JuMP package provides macros that allow to access some functions of the solver in a very convenient way."
   ]
  },
  {
   "cell_type": "code",
   "execution_count": null,
   "metadata": {
    "ExecuteTime": {
     "end_time": "2021-12-17T15:41:41.083000+01:00",
     "start_time": "2021-12-17T14:41:41.066Z"
    }
   },
   "outputs": [],
   "source": [
    "using JuMP\n",
    "using SCS"
   ]
  },
  {
   "cell_type": "code",
   "execution_count": null,
   "metadata": {
    "ExecuteTime": {
     "end_time": "2021-12-17T15:42:44.206000+01:00",
     "start_time": "2021-12-17T14:42:44.095Z"
    }
   },
   "outputs": [],
   "source": [
    "# ================================================================================================\n",
    "# Uncomment the following lines to solve the problem with the SCS solver.\n",
    "model = Model(SCS.Optimizer)\n",
    "@JuMP.variable(model, x[1:nx])\n",
    "@JuMP.constraint(model, A * x .== b)\n",
    "@JuMP.constraint(model,  -x .<= zeros(nx))\n",
    "@JuMP.objective(model, Min, c'*x)\n",
    "JuMP.optimize!(model)\n",
    "# ================================================================================================"
   ]
  },
  {
   "cell_type": "code",
   "execution_count": null,
   "metadata": {
    "ExecuteTime": {
     "end_time": "2021-12-17T15:44:11.172000+01:00",
     "start_time": "2021-12-17T14:44:11.168Z"
    }
   },
   "outputs": [],
   "source": [
    "# ================================================================================================\n",
    "# Uncomment the following line to retrieve the minimizer. Compare the solution to the result from the \n",
    "# ConstraintElimination_ipm() function.\n",
    "sol = JuMP.value.(x)\n",
    "# ================================================================================================"
   ]
  },
  {
   "cell_type": "code",
   "execution_count": null,
   "metadata": {
    "ExecuteTime": {
     "end_time": "2021-12-17T15:44:25.896000+01:00",
     "start_time": "2021-12-17T14:44:25.891Z"
    }
   },
   "outputs": [],
   "source": [
    "abs.(sol-x_best) .< 0.01"
   ]
  },
  {
   "cell_type": "code",
   "execution_count": null,
   "metadata": {
    "ExecuteTime": {
     "end_time": "2021-12-17T15:44:37.807000+01:00",
     "start_time": "2021-12-17T14:44:37.804Z"
    }
   },
   "outputs": [],
   "source": [
    "@assert sum(abs.(sol-x_best) .< 0.01) == length(x_best)"
   ]
  },
  {
   "cell_type": "markdown",
   "metadata": {},
   "source": [
    "# Exercise 8.2: Truss Structure"
   ]
  },
  {
   "cell_type": "code",
   "execution_count": null,
   "metadata": {
    "ExecuteTime": {
     "end_time": "2021-12-17T16:16:34.206000+01:00",
     "start_time": "2021-12-17T15:16:34.195Z"
    }
   },
   "outputs": [],
   "source": [
    "using Luxor\n",
    "\n",
    "# Function for drawing the truss structure\n",
    "# J: Vector of joint coordinates\n",
    "# B: Vector of beams, i.e. vector of tuples with joint indices that the beams connect\n",
    "# Jc: Vector of cantilever joints\n",
    "# Jl: Vector with load on each joint\n",
    "# mb: Vector with beam masses\n",
    "function drawTruss(J, B, Jc, Jl, mb)\n",
    "    scale = 40\n",
    "    function pos(j)\n",
    "        return Point(J[j][1]*scale - 400, -J[j][2]*scale)\n",
    "    end\n",
    "    @pdf begin\n",
    "        background(\"white\")\n",
    "        \n",
    "        # Draw beams\n",
    "        setcolor(\"black\")\n",
    "        for b=1:nB\n",
    "            if mb[b] <= 1\n",
    "                continue\n",
    "            end\n",
    "            setline(sqrt(mb[b]))\n",
    "            line(pos(B[b][1]), pos(B[b][2]), :stroke)\n",
    "        end\n",
    "        \n",
    "        # Draw road\n",
    "        setcolor(\"blue\")\n",
    "        setline(5)\n",
    "        line(Point(-400,0), Point(-400 + max_x*scale,0), :stroke)\n",
    "        \n",
    "        # Draw joints\n",
    "        setcolor(\"red\")\n",
    "        for j = 1:length(J)\n",
    "            if j in Jc\n",
    "                circle(pos(j), 8, :fill)\n",
    "            end\n",
    "        end\n",
    "        \n",
    "        # Draw load arrows\n",
    "        setcolor(\"green\")\n",
    "        for j = 1:length(J)\n",
    "            if LinearAlgebra.norm(Jl[j]) <= 0.1\n",
    "                continue\n",
    "            end\n",
    "            Luxor.arrow(pos(j), pos(j) - (Point(Jl[j][1], Jl[j][2])/5000), linewidth=5)\n",
    "        end\n",
    "    end 1000 400\n",
    "end\n",
    "\n"
   ]
  },
  {
   "cell_type": "code",
   "execution_count": null,
   "metadata": {
    "ExecuteTime": {
     "end_time": "2021-12-17T16:16:36.934000+01:00",
     "start_time": "2021-12-17T15:16:36.085Z"
    }
   },
   "outputs": [],
   "source": [
    "# Vector with indices of joints. Each entry is a two-vector with the x-y coordinates\n",
    "J = [[x,y] for x=0:1:17, y=-2:1:4]\n",
    "\n",
    "# number of joints\n",
    "nJ = length(J) \n",
    "\n",
    "# Constructing vector of beams of lenght 1 m. Each beam corresponds to a tuple with the indeces of the joints the beam is connecting\n",
    "# Connect all joints that are in a radius < 2m.\n",
    "rad = 2.0\n",
    "B = [(i,j) for i=1:nJ, j = 1:nJ if j < i && LinearAlgebra.norm(J[i]-J[j]) < rad]\n",
    "\n",
    "# number of beams\n",
    "nB = length(B)\n",
    "\n",
    "# Vector storing indices of beams connected to each joint\n",
    "Bj = [[b for b=1:nB if B[b][1] == j || B[b][2] == j] for j=1:nJ];\n",
    "\n",
    "# number of joints along x-axis\n",
    "max_x = maximum([J[i][1] for i=1:nJ])\n",
    "\n",
    "# Defining cantilever joints as the joints that are on both sides of the bridge and below or equal to the street level\n",
    "Jc = [i for i=1:nJ if ((J[i][1] == 0 || J[i][1] == max_x) && J[i][2] <= 0)];\n",
    "\n",
    "# If you want to have two additional cantilever points in the middle of the river uncomment the following line.\n",
    "Jc = [i for i=1:nJ if (((J[i][1] == 0 || J[i][1] == max_x) && J[i][2] <= 0) || ((J[i][1] == 6 || J[i][1] == 7) && J[i][2] == 0))];\n",
    "nC = length(Jc) # number of cantilever points\n",
    "\n",
    "# external load excerted on each joint at street level --> try also other loads!\n",
    "load = 20000\n",
    "# External loads excerted on the joints at street level (y-coordinate equals zero)\n",
    "Jl = [J[j][2] == 0 ? [0.0, -load*9.81] : [0.0,0.0] for j=1:nJ];"
   ]
  },
  {
   "cell_type": "code",
   "execution_count": null,
   "metadata": {
    "ExecuteTime": {
     "end_time": "2021-12-17T16:14:11.824000+01:00",
     "start_time": "2021-12-17T15:14:11.753Z"
    }
   },
   "outputs": [],
   "source": [
    "Bj"
   ]
  },
  {
   "cell_type": "code",
   "execution_count": null,
   "metadata": {
    "ExecuteTime": {
     "end_time": "2021-12-17T16:14:13.739000+01:00",
     "start_time": "2021-12-17T15:14:13.405Z"
    }
   },
   "outputs": [],
   "source": [
    "# Initialize the masses of beams for drawing of initial structure\n",
    "mb_init = ones(nB)*10;\n",
    "\n",
    "# Draw initial truss structure\n",
    "drawTruss(J,B,Jc,Jl,mb_init)"
   ]
  },
  {
   "cell_type": "markdown",
   "metadata": {
    "ExecuteTime": {
     "end_time": "2020-12-16T19:06:22.681000+01:00",
     "start_time": "2020-12-16T18:06:22.680Z"
    }
   },
   "source": [
    "## The Optimization Problem\n",
    "\n",
    "In lecture 5, slide 15, we learned that the weight of the truss structure defined above can be minimized by solving the problem under the constraint of a given load of 2000 kg distributed evenly on the joints on the street level: \n",
    "\n",
    "  \\begin{equation*}\n",
    "    \\begin{aligned}\n",
    "    \\min_{\\substack{f_1, \\dots, f_n\\\\ \\tilde f_1,\\dots, \\tilde f_n}} \\quad & \\sum_{b=1}^n \\Big[ \\delta \\cdot  \\|\\vec d_b\\| \\cdot \\tilde f_b  \\Big]\\\\\n",
    "    \\text{subject to} \\quad & \n",
    "    \\vec l_j + \\sum_{b \\in B_j} \\Big[ \\frac{\\vec d_b}{\\|\\vec d_b\\|} f_b \\Big] = \\vec 0, & j = 1,\\dots,m\\\\\n",
    "    & \\tilde f_b \\geq f_b,\\quad \\tilde f_b \\geq -f_b, & b = 1,\\dots,n\n",
    "    \\end{aligned}\n",
    "  \\end{equation*}\n",
    "  \n",
    "This problem neglects the weight of the beams. Modify the problem to include the weight of the beams into the equality constraints. Use $\\delta = 5\\cdot 10^{-4}\\,$kg/(Nm).\n",
    "**Hint:** The gravitational force $f$ in the unit Newton depends on the mass $m$ by $f = 9.81 m\\,$ and acts only into the negative y-direction.\n",
    "Implement the problem as a linear program of the form:\n",
    "\\begin{align}\n",
    " \\min_{\\vec{x}} \\quad & \\vec{c}^\\top \\vec{x}\\\\\n",
    " \\text{subject to} \\quad & A\\vec{x} = \\vec{b}\\\\\n",
    " \\quad & C\\vec{x} \\leq \\vec{d},\n",
    "\\end{align}\n",
    "\n",
    "with the target variable $x = [f_1, f_2, \\dots, \\tilde f_1, \\tilde f_2, \\dots]$. \n",
    "\n",
    "There are 2 * nB inequality constraints and  2 * (nJ - nC) equality constraints."
   ]
  },
  {
   "cell_type": "code",
   "execution_count": null,
   "metadata": {
    "ExecuteTime": {
     "end_time": "2021-12-17T16:14:18.529000+01:00",
     "start_time": "2021-12-17T15:14:18.449Z"
    }
   },
   "outputs": [],
   "source": [
    "delta = 5e-6\n",
    "\n",
    "# ================================================================================================\n",
    "# Construct the vector c.\n",
    "c = vcat(zeros(nB), delta*[LinearAlgebra.norm(J[b[1]]-J[b[2]]) for b in B]);\n",
    "# ================================================================================================"
   ]
  },
  {
   "cell_type": "code",
   "execution_count": null,
   "metadata": {
    "ExecuteTime": {
     "end_time": "2021-12-17T16:14:19.005000+01:00",
     "start_time": "2021-12-17T15:14:18.993Z"
    }
   },
   "outputs": [],
   "source": [
    "println(\"Dimensions of the problem: \", length(c))\n",
    "println(\"Inequalities: \", 2*nB)\n",
    "println(\"Equality constraints: \", 2*(nJ-nC))"
   ]
  },
  {
   "cell_type": "code",
   "execution_count": null,
   "metadata": {
    "ExecuteTime": {
     "end_time": "2021-12-17T16:14:19.910000+01:00",
     "start_time": "2021-12-17T15:14:19.785Z"
    }
   },
   "outputs": [],
   "source": [
    "# ================================================================================================\n",
    "# Construct matrix A and vector b for the equality constraints.\n",
    "A = zeros(2 * (nJ-nC), length(c));\n",
    "b = zeros(2 * (nJ-nC))\n",
    "\n",
    "idx = 0\n",
    "# iterate over all joints\n",
    "for j=1:nJ\n",
    "    \n",
    "    # ignore cantilever joints\n",
    "    if j in Jc\n",
    "        continue\n",
    "    end\n",
    "    \n",
    "    # Construct the vector b.\n",
    "    # External load applied at the joint\n",
    "    b[2*idx+1] = -Jl[j][1] # joint load in x-direction\n",
    "    b[2*idx+2] = -Jl[j][2] # joint load in y-direction\n",
    "    \n",
    "    # Iterate over all beams connected to joint j\n",
    "    for b in Bj[j]\n",
    "        db = J[B[b][1]] - J[B[b][2]] # beam direction vector\n",
    "        \n",
    "        # Construct matrix A\n",
    "        db_dir = db / LinearAlgebra.norm(db)\n",
    "        A[2*idx+1,b] = db_dir[1] # force across the beam in x-direction --> odd rows of A\n",
    "        A[2*idx+2,b] = db_dir[2] # force across the beam in y-direction --> even rows of A\n",
    "        \n",
    "    end\n",
    "    idx = idx + 1\n",
    "end\n",
    "# ================================================================================================"
   ]
  },
  {
   "cell_type": "code",
   "execution_count": null,
   "metadata": {
    "ExecuteTime": {
     "end_time": "2021-12-17T16:14:20.609000+01:00",
     "start_time": "2021-12-17T15:14:20.554Z"
    }
   },
   "outputs": [],
   "source": [
    "# ================================================================================================\n",
    "# construct matrix C and vector d for the inequality constraints Cx <= d\n",
    "C = zeros(2 * nB, length(c))\n",
    "d = zeros(2 * nB);\n",
    "\n",
    "# Fill the matrix C\n",
    "for b = 1:nB\n",
    "    # fb - tildefb <= 0 --> odd rows of C\n",
    "    C[2*b-1,b] = 1.0\n",
    "    C[2*b-1,b+nB] = -1.0\n",
    "    \n",
    "    # -fb - tildefb <= 0 --> even rows of C\n",
    "    C[2*b,b] = -1.0\n",
    "    C[2*b,b+nB] = -1.0\n",
    "end\n",
    "# ================================================================================================"
   ]
  },
  {
   "cell_type": "markdown",
   "metadata": {},
   "source": [
    "## Use the solver to find the solution"
   ]
  },
  {
   "cell_type": "code",
   "execution_count": null,
   "metadata": {
    "ExecuteTime": {
     "end_time": "2021-12-17T16:15:59.135000+01:00",
     "start_time": "2021-12-17T15:15:54.598Z"
    }
   },
   "outputs": [],
   "source": [
    "model = Model(SCS.Optimizer)\n",
    "@variable(model, x[1:2*nB])\n",
    "@constraint(model, A * x .== b)\n",
    "@constraint(model, C * x .<= d)\n",
    "@objective(model, Min, c'*x)\n",
    "optimize!(model)"
   ]
  },
  {
   "cell_type": "code",
   "execution_count": null,
   "metadata": {
    "ExecuteTime": {
     "end_time": "2021-12-17T16:16:08.020000+01:00",
     "start_time": "2021-12-17T15:16:07.802Z"
    }
   },
   "outputs": [],
   "source": [
    "sol = value.(x)\n",
    "masses = c.*sol\n",
    "masses = masses[nB+1:2*nB]\n",
    "\n",
    "drawTruss(J,B,Jc,Jl, masses)"
   ]
  }
 ],
 "metadata": {
  "kernelspec": {
   "display_name": "Julia 1.6.3",
   "language": "julia",
   "name": "julia-1.6"
  },
  "language_info": {
   "file_extension": ".jl",
   "mimetype": "application/julia",
   "name": "julia",
   "version": "1.6.3"
  },
  "toc": {
   "base_numbering": 1,
   "nav_menu": {},
   "number_sections": true,
   "sideBar": true,
   "skip_h1_title": false,
   "title_cell": "Table of Contents",
   "title_sidebar": "Contents",
   "toc_cell": false,
   "toc_position": {
    "height": "calc(100% - 180px)",
    "left": "10px",
    "top": "150px",
    "width": "177.133px"
   },
   "toc_section_display": true,
   "toc_window_display": true
  },
  "varInspector": {
   "cols": {
    "lenName": 16,
    "lenType": 16,
    "lenVar": 40
   },
   "kernels_config": {
    "python": {
     "delete_cmd_postfix": "",
     "delete_cmd_prefix": "del ",
     "library": "var_list.py",
     "varRefreshCmd": "print(var_dic_list())"
    },
    "r": {
     "delete_cmd_postfix": ") ",
     "delete_cmd_prefix": "rm(",
     "library": "var_list.r",
     "varRefreshCmd": "cat(var_dic_list()) "
    }
   },
   "types_to_exclude": [
    "module",
    "function",
    "builtin_function_or_method",
    "instance",
    "_Feature"
   ],
   "window_display": false
  }
 },
 "nbformat": 4,
 "nbformat_minor": 4
}
