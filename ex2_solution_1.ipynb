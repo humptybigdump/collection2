{
 "cells": [
  {
   "cell_type": "markdown",
   "metadata": {
    "collapsed": true,
    "pycharm": {
     "name": "#%% md\n"
    }
   },
   "source": [
    "# Exercise 2, Mini Image Classifier, 28P(oints)\n",
    "\n",
    "## Lab Instructions\n",
    "All your answers of this exercise should be written **in this notebook**.\n",
    "You shouldn't need to write or modify any other files.\n",
    "\n",
    "**You should execute every block of code to not miss any dependency. For the\n",
    "training tasks, your notebook should contain the classification accuracy (the\n",
    " figures are NOT necessary however).\n",
    " Please DO NOT clear the notebook output when you submit it.\n",
    " Please DO NOT upload the dataset when you submit your homework.**\n",
    "\n",
    "This exercise was developed by Ge Li for the KIT Cognitive Systems Lecture,\n",
    "July 2021.\n",
    "\n",
    "## Task instructions:\n",
    "In this jupyter notebook, you are going to define multiple **Image\n",
    "classifiers** with different structures. Read the instruction and example code\n",
    "carefully and finish the tasks. You can run the training procedure and\n",
    "thereby verify your computation and implementation.<br>\n",
    "\n",
    "Detailed instructions:\n",
    "\n",
    "0. You need to install torch and torchvision to run this notebook. E.g. if you\n",
    " use pip as the package manager, run \"pip3 install torch torchvision\".\n",
    "  You need to install tqdm for visualize process-bar and matplotlib to visualize\n",
    " figure, run \"pip3 install tqdm matplotlib\".  \n",
    " You do not need a GPU to train.<br><br>\n",
    "\n",
    "1. The dataset you are working with is CIFAR-10 dataset. The code in the file\n",
    "**data_loader.py** will download and manage this dataset for you. You do not\n",
    " need to write any code for it.<br><br>\n",
    "\n",
    "2. The deep learning platform you are working with is PyTorch. In the scope of\n",
    "this homework, you can learn the fundamental knowledge from the instructions.\n",
    " You don't have to spend much time on external materials / tutorials.<br><br>\n",
    "\n",
    "3. In this notebook, you will focus on the Neural Network models for image\n",
    "classification. A classifier with fully connected layers is given as an\n",
    "example. This example mainly contains two parts: a **constructor** in which\n",
    "all the layers to be used are initialized (except activation function), and a\n",
    "**forward** function, where\n",
    "forward pass process of the network is defined. In PyTorch, once the forward\n",
    "function of a network is\n",
    "given, the gradient of the loss function with respect to the network\n",
    "parameters can be automatically computed and back-propagated.<br><br>\n",
    "\n",
    "4. In your model's constructor, you may need to call these functions:\n",
    "    - Define fully connected layers: **nn.Linear(in_features, out_features)**,\n",
    "such as: nn.Linear(64, 10)\n",
    "    - Define 2-D convolutional layers: **nn.Conv2d(in_channels, out_channels,\n",
    "kernel_size)**, such as: nn.Conv2d(8, 16, 5)\n",
    "    - Define max-pooling layers: **nn.MaxPool2d(kernel_size, stride)**, such as:\n",
    "nn.MaxPool2d(2, 2)<br><br>\n",
    "\n",
    "5. In your model's forward function, you may need to call these functions:\n",
    "    - Flatten the 3rd order tensor to 1st order tensor: e.g. **x = torch\n",
    "    .flatten(x, 1)**\n",
    "    - Relu activation function: e.g. **x = F.relu(x)**<br><br>\n",
    "\n",
    "6. All the training and plotting related code are offered in the\n",
    "file **fit.py**. The contents can\n",
    "be described in the pseudo code below, which is also a common workflow\n",
    "in deep learning. <br>\n",
    "    - Get train, valid and test data-loader to load data from dataset.\n",
    "    - Initialize the loss function and optimizer for parameters' updating.\n",
    "    - Loop in epochs:\n",
    "        - Loop in batch of training dataset:\n",
    "            - Compute the output using forward function\n",
    "            - Compute the loss using output and labels\n",
    "            - Applying back-propagation and update network parameters\n",
    "            - Record the training loss\n",
    "        - Loop in batch of validation dataset:\n",
    "            - Compute the output using forward function\n",
    "            - Compute the loss using output and labels\n",
    "            - Record the validation loss\n",
    "        - Plotting the training and validation loss for each epoch.\n",
    "        - save model's parameters if the model achieves a better performance\n",
    "        - break the loop (early stopping) if the validation loss keeps\n",
    "        increasing.\n",
    "    - Apply the model with the best parameters to the test dataset and get the\n",
    "    result (classification accuracy).\n",
    "<br><br>"
   ]
  },
  {
   "cell_type": "code",
   "execution_count": 1,
   "metadata": {
    "pycharm": {
     "is_executing": true,
     "name": "#%%\n"
    }
   },
   "outputs": [
    {
     "name": "stdout",
     "output_type": "stream",
     "text": [
      "Files already downloaded and verified\n",
      "Files already downloaded and verified\n"
     ]
    }
   ],
   "source": [
    "# DO NOT MODIFY THIS BLOCK\n",
    "# DO NOT MODIFY THIS BLOCK\n",
    "# DO NOT MODIFY THIS BLOCK\n",
    "\n",
    "# Import Python libs\n",
    "import torch\n",
    "import torch.nn as nn\n",
    "import torch.nn.functional as F\n",
    "from ex2.fit import fit\n",
    "\n",
    "# Fix random seed to make sure the result in your computer is reproducible\n",
    "torch.manual_seed(0)\n",
    "\n",
    "# Max training epochs\n",
    "max_epochs = 100\n"
   ]
  },
  {
   "cell_type": "markdown",
   "metadata": {
    "pycharm": {
     "name": "#%% md\n"
    }
   },
   "source": [
    "### Task a)\n",
    "- Read the implementation of fully connected layers classifier, then run the\n",
    "cell afterwards to train this classifier. The training result will be shown\n",
    "automatically."
   ]
  },
  {
   "cell_type": "code",
   "execution_count": 2,
   "metadata": {
    "pycharm": {
     "is_executing": true,
     "name": "#%%\n"
    }
   },
   "outputs": [],
   "source": [
    "# DO NOT MODIFY THIS BLOCK\n",
    "# DO NOT MODIFY THIS BLOCK\n",
    "# DO NOT MODIFY THIS BLOCK\n",
    "\n",
    "class FCLayersNet(nn.Module):\n",
    "    \"\"\"\n",
    "    Image classifier using fully connected layers\n",
    "    \"\"\"\n",
    "\n",
    "    def __init__(self):\n",
    "        \"\"\"\n",
    "        Model Constructor, Initialize all the layers to be used\n",
    "        \"\"\"\n",
    "        super(FCLayersNet, self).__init__()\n",
    "        self.fc1 = nn.Linear(32 * 32 * 3, 1024)\n",
    "        self.fc2 = nn.Linear(1024, 256)\n",
    "        self.fc3 = nn.Linear(256, 64)\n",
    "        self.fc4 = nn.Linear(64, 10)\n",
    "\n",
    "    def forward(self, x):\n",
    "        \"\"\"\n",
    "        This function defines the forward pass of this net model.\n",
    "        Once this function is defined, the gradient back-propagation can be\n",
    "        automatically computed by PyTorch.\n",
    "\n",
    "        :param x: input data of this model\n",
    "        :return: output data of this model\n",
    "        \"\"\"\n",
    "        # The original data is 3rd order tensor, we need to flatten it to 1st\n",
    "        # order tensor, as the input of the fully connected layer.\n",
    "        x = torch.flatten(x, 1)\n",
    "\n",
    "        # The data pass through the fully connected layers one after another\n",
    "        x = self.fc1(x)\n",
    "        x = F.relu(x)\n",
    "\n",
    "        x = self.fc2(x)\n",
    "        x = F.relu(x)\n",
    "\n",
    "        x = self.fc3(x)\n",
    "        x = F.relu(x)\n",
    "\n",
    "        x = self.fc4(x)\n",
    "\n",
    "        return x"
   ]
  },
  {
   "cell_type": "markdown",
   "metadata": {
    "pycharm": {
     "name": "#%% md\n"
    }
   },
   "source": [
    "- Run next cell and see the training progress and results."
   ]
  },
  {
   "cell_type": "code",
   "execution_count": 3,
   "metadata": {
    "pycharm": {
     "is_executing": true,
     "name": "#%%\n"
    }
   },
   "outputs": [
    {
     "name": "stderr",
     "output_type": "stream",
     "text": [
      "FCLayersNet Training:  10%|█         | 10/100 [01:41<15:09, 10.11s/Epoch, train_loss=0.701, valid_loss=1.54]\n"
     ]
    },
    {
     "data": {
      "image/png": "[encoded data removed]",
      "text/plain": [
       "<Figure size 432x288 with 1 Axes>"
      ]
     },
     "metadata": {
      "needs_background": "light"
     },
     "output_type": "display_data"
    },
    {
     "name": "stdout",
     "output_type": "stream",
     "text": [
      "Finished Training.\n",
      "Accuracy of the network on the 10000 test images: 53.30 %\n"
     ]
    }
   ],
   "source": [
    "# Run me\n",
    "%matplotlib inline\n",
    "fit(FCLayersNet(), max_epochs, early_stop=True)"
   ]
  },
  {
   "cell_type": "markdown",
   "metadata": {
    "pycharm": {
     "name": "#%% md\n"
    }
   },
   "source": [
    "### Task b)"
   ]
  },
  {
   "cell_type": "markdown",
   "metadata": {
    "pycharm": {
     "name": "#%% md\n"
    }
   },
   "source": [
    "- Write down the missing cells:<br>"
   ]
  },
  {
   "cell_type": "markdown",
   "metadata": {},
   "source": [
    "    - I: 28*28*8, II: 28*28*8, III: 24*24*16, IV: 24*24*16, V: 20*20*16, VI: 20*20*16"
   ]
  },
  {
   "cell_type": "markdown",
   "metadata": {},
   "source": [
    "- Finish the implementation:"
   ]
  },
  {
   "cell_type": "code",
   "execution_count": 4,
   "metadata": {
    "pycharm": {
     "is_executing": true,
     "name": "#%%\n"
    }
   },
   "outputs": [],
   "source": [
    "# TODO: PLEASE FINISH THE IMPLEMENTATION IN THIS BLOCK\n",
    "# TODO: PLEASE FINISH THE IMPLEMENTATION IN THIS BLOCK\n",
    "# TODO: PLEASE FINISH THE IMPLEMENTATION IN THIS BLOCK\n",
    "\n",
    "class ConvLayersNet(nn.Module):\n",
    "    \"\"\"\n",
    "    Image classifier using convolutional layers\n",
    "    \"\"\"\n",
    "\n",
    "    def __init__(self):\n",
    "        \"\"\"\n",
    "        Model Constructor, Initialize all the layers to be used\n",
    "        \"\"\"\n",
    "        super(ConvLayersNet, self).__init__()\n",
    "        ########   Your code begins here   ########\n",
    "        self.conv1 = nn.Conv2d(3, 8, 5)\n",
    "        self.conv2 = nn.Conv2d(8, 16, 5)\n",
    "        self.conv3 = nn.Conv2d(16, 16, 5)\n",
    "        self.fc1 = nn.Linear(16 * 20 * 20, 1024)\n",
    "        self.fc2 = nn.Linear(1024, 256)\n",
    "        self.fc3 = nn.Linear(256, 64)\n",
    "        self.fc4 = nn.Linear(64, 10)\n",
    "        ########   Your code ends here   ########\n",
    "\n",
    "    def forward(self, x):\n",
    "        \"\"\"\n",
    "        This function defines the forward pass of this net model.\n",
    "        Once this function is defined, the gradient back-propagation can be\n",
    "        automatically computed by PyTorch.\n",
    "\n",
    "        :param x: input data of this model\n",
    "        :return: output data of this model\n",
    "        \"\"\"\n",
    "        ########   Your code begins here   ########\n",
    "        x = self.conv1(x)\n",
    "        x = F.relu(x)\n",
    "\n",
    "        x = self.conv2(x)\n",
    "        x = F.relu(x)\n",
    "\n",
    "        x = self.conv3(x)\n",
    "        x = F.relu(x)\n",
    "\n",
    "        # The original data is 3rd order tensor, we need to flatten it to 1st\n",
    "        # order tensor, as the input of the fully connected layer.\n",
    "        x = torch.flatten(x, 1)\n",
    "\n",
    "        x = self.fc1(x)\n",
    "        x = F.relu(x)\n",
    "\n",
    "        x = self.fc2(x)\n",
    "        x = F.relu(x)\n",
    "\n",
    "        x = self.fc3(x)\n",
    "        x = F.relu(x)\n",
    "\n",
    "        x = self.fc4(x)\n",
    "        ########   Your code ends here   ########\n",
    "        return x"
   ]
  },
  {
   "cell_type": "markdown",
   "metadata": {
    "pycharm": {
     "name": "#%% md\n"
    }
   },
   "source": [
    "- Run next cell and see the training progress and results."
   ]
  },
  {
   "cell_type": "code",
   "execution_count": 5,
   "metadata": {
    "pycharm": {
     "is_executing": true,
     "name": "#%%\n"
    },
    "scrolled": true
   },
   "outputs": [
    {
     "name": "stderr",
     "output_type": "stream",
     "text": [
      "ConvLayersNet Training:  14%|█▍        | 14/100 [04:36<28:16, 19.72s/Epoch, train_loss=0.196, valid_loss=1.89]\n"
     ]
    },
    {
     "data": {
      "image/png": "[encoded data removed]",
      "text/plain": [
       "<Figure size 432x288 with 1 Axes>"
      ]
     },
     "metadata": {
      "needs_background": "light"
     },
     "output_type": "display_data"
    },
    {
     "name": "stdout",
     "output_type": "stream",
     "text": [
      "Finished Training.\n",
      "Accuracy of the network on the 10000 test images: 60.55 %\n"
     ]
    }
   ],
   "source": [
    "# Run me\n",
    "%matplotlib inline\n",
    "fit(ConvLayersNet(), max_epochs, early_stop=True)"
   ]
  },
  {
   "cell_type": "markdown",
   "metadata": {},
   "source": [
    "### Task c)"
   ]
  },
  {
   "cell_type": "markdown",
   "metadata": {},
   "source": [
    "- Recall the knowledge in Cognitive system lecture, what kind of benefits can\n",
    "we expect when applying max-pooling layer in CNNs?<br>"
   ]
  },
  {
   "cell_type": "markdown",
   "metadata": {},
   "source": [
    "- Write down the missing cells:<br>"
   ]
  },
  {
   "cell_type": "markdown",
   "metadata": {},
   "source": [
    "    - I: 28*28*8, II: 28*28*8, III: 14*14*8, IV: 14*14*8, V: 10*10*16, VI: 10*10*16, VII: 5*5*16, VIII: 5*5*16"
   ]
  },
  {
   "cell_type": "markdown",
   "metadata": {},
   "source": [
    "- Finish the implementation: <br>"
   ]
  },
  {
   "cell_type": "code",
   "execution_count": 6,
   "metadata": {
    "pycharm": {
     "is_executing": true,
     "name": "#%%\n"
    }
   },
   "outputs": [],
   "source": [
    "# TODO: PLEASE FINISH THE IMPLEMENTATION IN THIS BLOCK\n",
    "# TODO: PLEASE FINISH THE IMPLEMENTATION IN THIS BLOCK\n",
    "# TODO: PLEASE FINISH THE IMPLEMENTATION IN THIS BLOCK\n",
    "\n",
    "class CNNs(nn.Module):\n",
    "    \"\"\"\n",
    "    Image classifier using convolutional layers with max pooling.\n",
    "    \"\"\"\n",
    "\n",
    "    def __init__(self):\n",
    "        \"\"\"\n",
    "        Model Constructor, Initialize all the layers to be used\n",
    "        \"\"\"\n",
    "        super(CNNs, self).__init__()\n",
    "        ########   Your code begins here   ########\n",
    "        self.conv1 = nn.Conv2d(3, 8, 5)\n",
    "        self.max_pool = nn.MaxPool2d(2, 2)\n",
    "        self.conv2 = nn.Conv2d(8, 16, 5)\n",
    "        self.fc1 = nn.Linear(16 * 5 * 5, 128)\n",
    "        self.fc2 = nn.Linear(128, 64)\n",
    "        self.fc3 = nn.Linear(64, 10)\n",
    "        ########   Your code ends here   ########\n",
    "\n",
    "    def forward(self, x):\n",
    "        \"\"\"\n",
    "        This function defines the forward pass of this net model.\n",
    "        Once this function is defined, the gradient back-propagation can be\n",
    "        automatically computed by PyTorch.\n",
    "\n",
    "        :param x: input data of this model\n",
    "        :return: output data of this model\n",
    "        \"\"\"\n",
    "        ########   Your code begins here   ########\n",
    "        x = self.conv1(x)\n",
    "        x = F.relu(x)\n",
    "        x = self.max_pool(x)\n",
    "\n",
    "        x = self.conv2(x)\n",
    "        x = F.relu(x)\n",
    "        x = self.max_pool(x)\n",
    "\n",
    "        x = torch.flatten(x, 1)\n",
    "\n",
    "        x = self.fc1(x)\n",
    "        x = F.relu(x)\n",
    "\n",
    "        x = self.fc2(x)\n",
    "        x = F.relu(x)\n",
    "\n",
    "        x = self.fc3(x)\n",
    "        ########   Your code ends here   ########\n",
    "        return x\n"
   ]
  },
  {
   "cell_type": "markdown",
   "metadata": {},
   "source": [
    "- Run next cell and see the training progress and results."
   ]
  },
  {
   "cell_type": "code",
   "execution_count": 7,
   "metadata": {
    "pycharm": {
     "is_executing": true,
     "name": "#%%\n"
    }
   },
   "outputs": [
    {
     "name": "stderr",
     "output_type": "stream",
     "text": [
      "CNNs Training:   0%|          | 0/100 [00:00<?, ?Epoch/s]/home/lige/Softwares/anaconda3/envs/cogsys21/lib/python3.8/site-packages/torch/nn/functional.py:718: UserWarning: Named tensors and all their associated APIs are an experimental feature and subject to change. Please do not use them for anything important until they are released as stable. (Triggered internally at  /pytorch/c10/core/TensorImpl.h:1156.)\n",
      "  return torch.max_pool2d(input, kernel_size, stride, padding, dilation, ceil_mode)\n",
      "CNNs Training:  31%|███       | 31/100 [04:22<09:43,  8.45s/Epoch, train_loss=0.86, valid_loss=1.07] \n"
     ]
    },
    {
     "data": {
      "image/png": "[encoded data removed]",
      "text/plain": [
       "<Figure size 432x288 with 1 Axes>"
      ]
     },
     "metadata": {
      "needs_background": "light"
     },
     "output_type": "display_data"
    },
    {
     "name": "stdout",
     "output_type": "stream",
     "text": [
      "Finished Training.\n",
      "Accuracy of the network on the 10000 test images: 62.90 %\n"
     ]
    }
   ],
   "source": [
    "# Run me\n",
    "%matplotlib inline\n",
    "fit(CNNs(), max_epochs, early_stop=True)"
   ]
  },
  {
   "cell_type": "markdown",
   "metadata": {
    "pycharm": {
     "name": "#%% md\n"
    }
   },
   "source": [
    "### Task d)"
   ]
  },
  {
   "cell_type": "markdown",
   "metadata": {},
   "source": [
    "- Write down the missing cells:<br>"
   ]
  },
  {
   "cell_type": "markdown",
   "metadata": {},
   "source": [
    "    - I: 28*28*16, II: 28*28*16, III: 14*14*16, IV: 14*14*16, V: 10*10*32, VI:10*10*32, VII: 5*5*32, VIII: 5*5*32"
   ]
  },
  {
   "cell_type": "markdown",
   "metadata": {},
   "source": [
    "- Finish the implementation:"
   ]
  },
  {
   "cell_type": "code",
   "execution_count": 8,
   "metadata": {
    "pycharm": {
     "is_executing": true,
     "name": "#%%\n"
    }
   },
   "outputs": [],
   "source": [
    "# TODO: PLEASE FINISH THE IMPLEMENTATION IN THIS BLOCK\n",
    "# TODO: PLEASE FINISH THE IMPLEMENTATION IN THIS BLOCK\n",
    "# TODO: PLEASE FINISH THE IMPLEMENTATION IN THIS BLOCK\n",
    "\n",
    "class CNNsMoreChannels(nn.Module):\n",
    "    \"\"\"\n",
    "    Image classifier using CNNs with more channels.\n",
    "    \"\"\"\n",
    "\n",
    "    def __init__(self):\n",
    "        \"\"\"\n",
    "        Model Constructor, Initialize all the layers to be used\n",
    "        \"\"\"\n",
    "        super(CNNsMoreChannels, self).__init__()\n",
    "        ########   Your code begins here   ########\n",
    "        self.conv1 = nn.Conv2d(3, 16, 5)\n",
    "        self.max_pool = nn.MaxPool2d(2, 2)\n",
    "        self.conv2 = nn.Conv2d(16, 32, 5)\n",
    "        self.fc1 = nn.Linear(32 * 5 * 5, 256)\n",
    "        self.fc2 = nn.Linear(256, 64)\n",
    "        self.fc3 = nn.Linear(64, 10)\n",
    "        ########   Your code ends here   ########\n",
    "\n",
    "    def forward(self, x):\n",
    "        \"\"\"\n",
    "        This function defines the forward pass of this net model.\n",
    "        Once this function is defined, the gradient back-propagation can be\n",
    "        automatically computed by PyTorch.\n",
    "\n",
    "        :param x: input data of this model\n",
    "        :return: output data of this model\n",
    "        \"\"\"\n",
    "        ########   Your code begins here   ########\n",
    "        x = self.conv1(x)\n",
    "        x = F.relu(x)\n",
    "        x = self.max_pool(x)\n",
    "\n",
    "        x = self.conv2(x)\n",
    "        x = F.relu(x)\n",
    "        x = self.max_pool(x)\n",
    "\n",
    "        x = torch.flatten(x, 1)\n",
    "\n",
    "        x = self.fc1(x)\n",
    "        x = F.relu(x)\n",
    "\n",
    "        x = self.fc2(x)\n",
    "        x = F.relu(x)\n",
    "\n",
    "        x = self.fc3(x)\n",
    "        ########   Your code ends here   ########\n",
    "        return x"
   ]
  },
  {
   "cell_type": "markdown",
   "metadata": {
    "pycharm": {
     "name": "#%% md\n"
    }
   },
   "source": [
    "- Run next cell and see the training progress and results."
   ]
  },
  {
   "cell_type": "code",
   "execution_count": 9,
   "metadata": {
    "pycharm": {
     "is_executing": true,
     "name": "#%%\n"
    }
   },
   "outputs": [
    {
     "name": "stderr",
     "output_type": "stream",
     "text": [
      "CNNsMoreChannels Training:  24%|██▍       | 24/100 [05:02<15:59, 12.62s/Epoch, train_loss=0.568, valid_loss=1.02] \n"
     ]
    },
    {
     "data": {
      "image/png": "[encoded data removed]",
      "text/plain": [
       "<Figure size 432x288 with 1 Axes>"
      ]
     },
     "metadata": {
      "needs_background": "light"
     },
     "output_type": "display_data"
    },
    {
     "name": "stdout",
     "output_type": "stream",
     "text": [
      "Finished Training.\n",
      "Accuracy of the network on the 10000 test images: 66.89 %\n"
     ]
    }
   ],
   "source": [
    "# Run me\n",
    "%matplotlib inline\n",
    "fit(CNNsMoreChannels(), max_epochs, early_stop=True)"
   ]
  },
  {
   "cell_type": "markdown",
   "metadata": {},
   "source": [
    "### Task e)"
   ]
  },
  {
   "cell_type": "markdown",
   "metadata": {},
   "source": [
    "- Write down the missing cells:<br>"
   ]
  },
  {
   "cell_type": "markdown",
   "metadata": {},
   "source": [
    "    - I: 30*30*8, II: 30*30*8, III: 15*15*8, IV: 15*15*8, V: 13*13*16, VI: 13*13*16, VII: 6*6*16, VIII: 6*6*16"
   ]
  },
  {
   "cell_type": "markdown",
   "metadata": {},
   "source": [
    "- Finish the implementation:"
   ]
  },
  {
   "cell_type": "code",
   "execution_count": 10,
   "metadata": {
    "pycharm": {
     "is_executing": true,
     "name": "#%%\n"
    }
   },
   "outputs": [],
   "source": [
    "# TODO: PLEASE FINISH THE IMPLEMENTATION IN THIS BLOCK\n",
    "# TODO: PLEASE FINISH THE IMPLEMENTATION IN THIS BLOCK\n",
    "# TODO: PLEASE FINISH THE IMPLEMENTATION IN THIS BLOCK\n",
    "\n",
    "class CNNsSmallKernel(nn.Module):\n",
    "    \"\"\"\n",
    "    Image classifier using CNNs with small kernel size.\n",
    "    \"\"\"\n",
    "\n",
    "    def __init__(self):\n",
    "        \"\"\"\n",
    "        Model Constructor, Initialize all the layers to be used\n",
    "        \"\"\"\n",
    "        super(CNNsSmallKernel, self).__init__()\n",
    "        ########   Your code begins here   ########\n",
    "        self.conv1 = nn.Conv2d(3, 8, 3)\n",
    "        self.max_pool = nn.MaxPool2d(2, 2)\n",
    "        self.conv2 = nn.Conv2d(8, 16, 3)\n",
    "        self.fc1 = nn.Linear(16 * 6 * 6, 128)\n",
    "        self.fc2 = nn.Linear(128, 64)\n",
    "        self.fc3 = nn.Linear(64, 10)\n",
    "        ########   Your code ends here   ########\n",
    "\n",
    "    def forward(self, x):\n",
    "        \"\"\"\n",
    "        This function defines the forward pass of this net model.\n",
    "        Once this function is defined, the gradient back-propagation can be\n",
    "        automatically computed by PyTorch.\n",
    "\n",
    "        :param x: input data of this model\n",
    "        :return: output data of this model\n",
    "        \"\"\"\n",
    "        ########   Your code begins here   ########\n",
    "        x = self.conv1(x)\n",
    "        x = F.relu(x)\n",
    "        x = self.max_pool(x)\n",
    "\n",
    "        x = self.conv2(x)\n",
    "        x = F.relu(x)\n",
    "        x = self.max_pool(x)\n",
    "\n",
    "        x = torch.flatten(x, 1)\n",
    "\n",
    "        x = self.fc1(x)\n",
    "        x = F.relu(x)\n",
    "\n",
    "        x = self.fc2(x)\n",
    "        x = F.relu(x)\n",
    "\n",
    "        x = self.fc3(x)\n",
    "        ########   Your code ends here   ########\n",
    "        return x\n"
   ]
  },
  {
   "cell_type": "markdown",
   "metadata": {},
   "source": [
    "- Run next cell and see the training progress and results."
   ]
  },
  {
   "cell_type": "code",
   "execution_count": 11,
   "metadata": {
    "pycharm": {
     "is_executing": true,
     "name": "#%%\n"
    }
   },
   "outputs": [
    {
     "name": "stderr",
     "output_type": "stream",
     "text": [
      "CNNsSmallKernel Training:  34%|███▍      | 34/100 [07:31<14:35, 13.27s/Epoch, train_loss=0.817, valid_loss=1.12]\n"
     ]
    },
    {
     "data": {
      "image/png": "[encoded data removed]",
      "text/plain": [
       "<Figure size 432x288 with 1 Axes>"
      ]
     },
     "metadata": {
      "needs_background": "light"
     },
     "output_type": "display_data"
    },
    {
     "name": "stdout",
     "output_type": "stream",
     "text": [
      "Finished Training.\n",
      "Accuracy of the network on the 10000 test images: 61.54 %\n"
     ]
    }
   ],
   "source": [
    "# Run me\n",
    "%matplotlib inline\n",
    "fit(CNNsSmallKernel(), max_epochs, early_stop=True)"
   ]
  },
  {
   "cell_type": "markdown",
   "metadata": {
    "pycharm": {
     "name": "#%% md\n"
    }
   },
   "source": [
    "### Task f)"
   ]
  },
  {
   "cell_type": "markdown",
   "metadata": {},
   "source": [
    "- Why do we apply early stopping during the training? <br>"
   ]
  },
  {
   "cell_type": "markdown",
   "metadata": {},
   "source": [
    "Your answer:<br>"
   ]
  },
  {
   "cell_type": "markdown",
   "metadata": {},
   "source": [
    "- Please write down an alternative way to achieve a similar effect as early\n",
    "stopping. <br>"
   ]
  },
  {
   "cell_type": "markdown",
   "metadata": {},
   "source": [
    "Your answer:<br>\n",
    "\n"
   ]
  }
 ],
 "metadata": {
  "kernelspec": {
   "display_name": "Python 3",
   "language": "python",
   "name": "python3"
  },
  "language_info": {
   "codemirror_mode": {
    "name": "ipython",
    "version": 3
   },
   "file_extension": ".py",
   "mimetype": "text/x-python",
   "name": "python",
   "nbconvert_exporter": "python",
   "pygments_lexer": "ipython3",
   "version": "3.8.10"
  }
 },
 "nbformat": 4,
 "nbformat_minor": 1
}