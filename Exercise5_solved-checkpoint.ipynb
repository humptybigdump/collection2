{
 "cells": [
  {
   "cell_type": "code",
   "execution_count": 1,
   "metadata": {
    "ExecuteTime": {
     "end_time": "2021-11-26T16:16:22.076000+01:00",
     "start_time": "2021-11-26T15:16:21.800Z"
    }
   },
   "outputs": [],
   "source": [
    "include(\"optimization_library.jl\");\n",
    "include(\"mplstyle.jl\");"
   ]
  },
  {
   "cell_type": "code",
   "execution_count": 2,
   "metadata": {
    "ExecuteTime": {
     "end_time": "2021-11-26T16:16:22.233000+01:00",
     "start_time": "2021-11-26T15:16:22.201Z"
    }
   },
   "outputs": [
    {
     "data": {
      "text/plain": [
       "PlotFunction (generic function with 3 methods)"
      ]
     },
     "execution_count": 2,
     "metadata": {},
     "output_type": "execute_result"
    }
   ],
   "source": [
    "function PlotFunction(f, x0, x1, label = \"f(x)\", color = \"blue\")\n",
    "    # create a number of x-values for which the function should be evaluated\n",
    "    x_plot = range(x0, x1, length = 100)\n",
    "    # evaluate the function for each point and write it to an array\n",
    "    f_plot = [f(x) for x = x_plot]\n",
    "    # do the same for the derivativ\n",
    "    \n",
    "    # plot the function\n",
    "    plot(x_plot,f_plot,color = color,label = label)\n",
    "    \n",
    "    fontsize = 15\n",
    "    xlabel(\"x\", fontsize = fontsize)\n",
    "    xlabel(\"y\", fontsize = fontsize)\n",
    "    \n",
    "    # Some axis formatting\n",
    "    ax = gca()\n",
    "    # plot the legend\n",
    "    ax.legend(loc = \"upper left\", fontsize=fontsize);\n",
    "end"
   ]
  },
  {
   "cell_type": "markdown",
   "metadata": {},
   "source": [
    "# Exercise 5.3"
   ]
  },
  {
   "cell_type": "code",
   "execution_count": 3,
   "metadata": {
    "ExecuteTime": {
     "end_time": "2021-11-26T16:20:02.696000+01:00",
     "start_time": "2021-11-26T15:20:02.647Z"
    }
   },
   "outputs": [
    {
     "data": {
      "text/plain": [
       "ipm (generic function with 1 method)"
      ]
     },
     "execution_count": 3,
     "metadata": {},
     "output_type": "execute_result"
    }
   ],
   "source": [
    "# g: Inequality constraint g(x) < 0\n",
    "# dg: Gradient of the inequality constraint\n",
    "# Hg: Hessian of the inequality constraint\n",
    "function log_barrier(g, dg, Hg)\n",
    "# ===============================================================================\n",
    "    # Implement the log barrier function b(x) (without 1/t scaling factor) for the constraint function g(x). \n",
    "    # We could accidentally cross the barrier during descent steps. Return Inf when the barrier is crossed.\n",
    "    b(x) = g(x) > 0 ? Inf : -log(-g(x))\n",
    "    # Implement the gradient db(x) and hessian Hb(x) of the log barrier function.\n",
    "    db(x) = -dg(x) / g(x)\n",
    "    Hb(x) = ((dg(x) * dg(x)') / (g(x))^2) - (Hg(x) / g(x))\n",
    "# ===============================================================================\n",
    "    return b,db,Hb\n",
    "end\n",
    "\n",
    "\n",
    "# Interior Point Method in combination with log barrier and the Newton Method\n",
    "# f: Objective function\n",
    "# df: Gradient vector of the objective function\n",
    "# Hf: Hessian matrix of the objective function\n",
    "# x0: Initial point. Must be an interior point of the feasible set\n",
    "# g: Array of inequality constraints g_i(x) < 0\n",
    "# dg: Array with the gradient of the inequality constraints\n",
    "# Hg: Array with the Hessian of the inequality constraints\n",
    "# initial_barrier: initial scaling of barrier function\n",
    "# barrier_increase: Factor by how much to increase the barrier in every outer iteration\n",
    "# maxiters: maximum number of outer iterations\n",
    "# inner_maxiters: maximum number of inner iterations (within descent method)\n",
    "# ls: Use linesearch?\n",
    "# eps: Stopping criterion\n",
    "\n",
    "function ipm(f, df, Hf, x0; g=[], dg=[], Hg=[],\n",
    "             initial_barrier = 1.0, barrier_increase = 2.0,\n",
    "             maxiters=100, inner_maxiters=100,\n",
    "             ls=true, eps=0.0001)\n",
    "\n",
    "    glen = length(g) # number of constraints\n",
    "    barr = Vector(undef, glen) # vector storing barrier functions of all constraints g_j(x) < 0\n",
    "    dbarr = Vector(undef, glen) # vector storing gradients of barrier functions of all constraints g_j(x) < 0\n",
    "    Hbarr = Vector(undef, glen) # vector storing hessian matricies of barrier functions of all constraints g_j(x) < 0\n",
    "# ===============================================================================\n",
    "    # 1. Fill barr, dbarr and Hbarr\n",
    "    \n",
    "    for i in 1:glen\n",
    "        barr[i],dbarr[i],Hbarr[i] = log_barrier(g[i], dg[i], Hg[i])\n",
    "    end\n",
    "\n",
    "    # 2. Extend f, with the log barrier scaled by 1/t. Implement also the gradient and Hessian of the extended objective\n",
    "    # function. Use closure functions.\n",
    "    t = initial_barrier\n",
    "    ftilde(x)  = f(x)  + sum([bb(x) for bb in barr]) / t\n",
    "    dftilde(x) = df(x) + sum([dbb(x) for dbb in dbarr]) / t\n",
    "    Hftilde(x) = Hf(x) + sum([Hbb(x) for Hbb in Hbarr]) / t\n",
    "    \n",
    "    # 3. Solve with the Newton Method and increasingly tighten the barrier using barrier_increase.\n",
    "    # Break the outer iteration if the solution does not change any more within the required precision ε\n",
    "    x = copy(x0)\n",
    "    trace = [x; ftilde(x)] # or trace = [x; f(x)]\n",
    "    for _ = 1:maxiters # Outer Iteration\n",
    "        x,_ = newton_descent(ftilde, dftilde, Hftilde, x;\n",
    "                             ls=ls, eps=eps, maxiters=inner_maxiters) # Inner Iteration\n",
    "        trace = hcat(trace, [x; ftilde(x)]) # or trace = hcat(trace, [x; f(x)])\n",
    "        if LA.norm(trace[1:end-1,end-1] - x) < eps\n",
    "            break\n",
    "        end\n",
    "        t *= barrier_increase\n",
    "    end\n",
    "# ===============================================================================\n",
    "    return x,trace\n",
    "end"
   ]
  },
  {
   "cell_type": "markdown",
   "metadata": {},
   "source": [
    "## Test the implementation of ipm\n",
    "\n",
    "Take the following optimimization problem:\n",
    "\n",
    "\\begin{align}\n",
    "\\text{minimize}\\quad &f(x) = x^2 + 1\\\\\n",
    "\\text{subject to} \\quad &x \\in [2,4]\n",
    "\\end{align}\n",
    "\n"
   ]
  },
  {
   "cell_type": "code",
   "execution_count": 4,
   "metadata": {
    "ExecuteTime": {
     "end_time": "2021-11-26T16:20:17.525000+01:00",
     "start_time": "2021-11-26T15:20:17.117Z"
    }
   },
   "outputs": [
    {
     "data": {
      "image/png": "[encoded data removed]",
      "text/plain": [
       "Figure(PyObject <Figure size 550x400 with 1 Axes>)"
      ]
     },
     "metadata": {},
     "output_type": "display_data"
    }
   ],
   "source": [
    "f(x) = x^2 + 1\n",
    "\n",
    "PlotFunction(f, 0, 5)\n",
    "plot((2,2),(0,25), color = \"red\")\n",
    "plot((4,4),(0,25), color = \"red\");"
   ]
  },
  {
   "cell_type": "markdown",
   "metadata": {},
   "source": [
    "Bringing the problem to the canonical form:\n",
    "\n",
    "\\begin{align}\n",
    "\\text{minimize}\\quad &f(x) = x^2 + 1\\\\\n",
    "\\text{subject to} \\quad &2 - x \\leq 0\\\\\n",
    "& x-4 \\leq 0\n",
    "\\end{align}"
   ]
  },
  {
   "cell_type": "code",
   "execution_count": 5,
   "metadata": {
    "ExecuteTime": {
     "end_time": "2021-11-26T16:20:38.828000+01:00",
     "start_time": "2021-11-26T15:20:35.231Z"
    }
   },
   "outputs": [],
   "source": [
    "f(x) = sum(x.^2 .+ 1)\n",
    "df(x) = 2 * x\n",
    "Hf(x) = ones(1,1)*2\n",
    "\n",
    "g1(x) = sum(2 .-x)\n",
    "dg1(x) = [-1]\n",
    "Hg1(x) = zeros(1,1)\n",
    "\n",
    "g2(x) = sum(x .-4)\n",
    "dg2(x) = [1]\n",
    "Hg2(x) = zeros(1,1)\n",
    "\n",
    "\n",
    "# ===============================================================================\n",
    "# Check your implementation of the interior point method for the problem given above.\n",
    "x_best, trace_simple = ipm(f, df, Hf, [3.9]; g=[g1,g2], dg=[dg1,dg2], Hg=[Hg1,Hg2], initial_barrier = 1.0, barrier_increase = 2.0,\n",
    "             maxiters=100, inner_maxiters=100,\n",
    "             ls=true, eps=0.0001)\n",
    "\n",
    "@assert (x_best[1] - 2) < 0.001\n",
    "# ==============================================================================="
   ]
  },
  {
   "cell_type": "code",
   "execution_count": 6,
   "metadata": {
    "ExecuteTime": {
     "end_time": "2021-11-26T16:20:41.775000+01:00",
     "start_time": "2021-11-26T15:20:41.378Z"
    }
   },
   "outputs": [
    {
     "data": {
      "image/png": "[encoded data removed]",
      "text/plain": [
       "Figure(PyObject <Figure size 550x400 with 1 Axes>)"
      ]
     },
     "metadata": {},
     "output_type": "display_data"
    },
    {
     "data": {
      "text/plain": [
       "PyObject <matplotlib.legend.Legend object at 0x00000281ADFB6AD0>"
      ]
     },
     "execution_count": 6,
     "metadata": {},
     "output_type": "execute_result"
    }
   ],
   "source": [
    "# define f(x) + barrier for plotting\n",
    "function bf(t)\n",
    "    function barrier(x)\n",
    "        return x^2 + 1 - 1/t * (log(x-2) + log(4-x))\n",
    "    end\n",
    "end\n",
    "\n",
    "# plot original function f(x)\n",
    "PlotFunction(f, 2, 4)\n",
    "# plot f(x) + barrier for different values of t\n",
    "PlotFunction(bf(1), 2, 4, \"t = 1\", \"red\")\n",
    "PlotFunction(bf(2), 2, 4, \"t = 2\", \"orange\")\n",
    "PlotFunction(bf(4), 2, 4, \"t = 4\", \"purple\")\n",
    "# plot trace of interior point method\n",
    "plot(trace_simple[1,:], trace_simple[2,:], label = \"trace\", marker = \"o\", markersize = 5, color = \"green\")\n",
    "legend(loc = \"upper left\", fontsize = 15)"
   ]
  },
  {
   "cell_type": "markdown",
   "metadata": {},
   "source": [
    "# Exercise 5.4: McDonalds Diet\n",
    "\n",
    "We would like to eat at McDonalds and fill our daily requirement of nutrients. However, in doing so we would like to minimize the amount of calories we eat.\n",
    "\n",
    "In analogy to the Stiegler's diet we can formulate the problem in the following way:\n",
    "\\begin{align}\n",
    "\\text{minimize}\\qquad & c^\\top x\\\\\n",
    "\\text{subject to} \\qquad & a_i^\\top x \\geq b_i\\\\\n",
    "\\qquad & x_k \\geq 0, \\quad k = 1,\\dots n_{food}\n",
    "\\end{align}\n",
    "with the vector $x$ storing the amount for each product, the vector $c$ storing the amount of calories for each product, the vectors $a_i$ storing the amount of nutrient $i$ for each food and $b_i$ the minimum daily requirement for nutrient $i$."
   ]
  },
  {
   "cell_type": "code",
   "execution_count": 7,
   "metadata": {
    "ExecuteTime": {
     "end_time": "2021-11-26T16:23:23.918000+01:00",
     "start_time": "2021-11-26T15:23:23.911Z"
    }
   },
   "outputs": [],
   "source": [
    "import DelimitedFiles\n",
    "using DataFrames\n",
    "DF = DelimitedFiles;"
   ]
  },
  {
   "cell_type": "code",
   "execution_count": 8,
   "metadata": {
    "ExecuteTime": {
     "end_time": "2021-11-26T16:23:24.533000+01:00",
     "start_time": "2021-11-26T15:23:24.522Z"
    }
   },
   "outputs": [],
   "source": [
    "# Load the datasets\n",
    "\n",
    "# daily requirement on nutrients\n",
    "nutr_ideal = DF.readdlm(\"nutr_ideal.dat\")\n",
    "nutrients = nutr_ideal[1,:]\n",
    "nutrients_required = nutr_ideal[2,:]\n",
    "\n",
    "# Dataset of Mc Donalds Products and corresponding calories and nutrients\n",
    "diet_data = DF.readdlm(\"McDonaldsData.csv\")\n",
    "\n",
    "# name of products\n",
    "products = diet_data[2:end,1]\n",
    "\n",
    "# matrix with nutrients per food, size = (length(products),length(nutrients))\n",
    "nutrients_provided = Matrix{Float64}(diet_data[2:end,4:end])\n",
    "\n",
    "Nproducts = length(products)\n",
    "Nnutrients = length(nutrients);\n",
    "\n",
    "# vector of calories for each food, size = (Nproducts)\n",
    "cal = diet_data[2:end,2];"
   ]
  },
  {
   "cell_type": "code",
   "execution_count": 9,
   "metadata": {
    "ExecuteTime": {
     "end_time": "2021-11-26T16:23:26.518000+01:00",
     "start_time": "2021-11-26T15:23:26.475Z"
    }
   },
   "outputs": [
    {
     "name": "stdout",
     "output_type": "stream",
     "text": [
      "┌──────────────────────────────────────────────────────────────────────────────┬──────┬────────┬─────┬────────┬──────┬────────┬───────┬─────────┬──────┬──────┬─────────┬──────┐\n",
      "│\u001b[1m                                                                         Food \u001b[0m│\u001b[1m  Cal \u001b[0m│\u001b[1m CalFat \u001b[0m│\u001b[1m Fat \u001b[0m│\u001b[1m SatFat \u001b[0m│\u001b[1m Chol \u001b[0m│\u001b[1m Sodium \u001b[0m│\u001b[1m Carbo \u001b[0m│\u001b[1m Protein \u001b[0m│\u001b[1m VitA \u001b[0m│\u001b[1m VitC \u001b[0m│\u001b[1m Calcium \u001b[0m│\u001b[1m Iron \u001b[0m│\n",
      "├──────────────────────────────────────────────────────────────────────────────┼──────┼────────┼─────┼────────┼──────┼────────┼───────┼─────────┼──────┼──────┼─────────┼──────┤\n",
      "│                                        1%_Low_Fat_Milk_Jug 1_carton_(236_ml) │  100 │     20 │   2 │      1 │   10 │    125 │    12 │       8 │   10 │    4 │      30 │    0 │\n",
      "│                                                   Apple_Slices 1.2_oz_(34_g) │   15 │      0 │   0 │      0 │    0 │      0 │     4 │       0 │    0 │  160 │       2 │    0 │\n",
      "│                                              BBQ_Ranch_Burger 4.1_oz_(116_g) │  350 │    140 │  16 │      6 │   45 │    680 │    37 │      16 │    4 │    0 │      20 │   15 │\n",
      "│                                       Bacon,_Egg_&_Cheese_Bagel 7_oz_(199_g) │  630 │    290 │  32 │     11 │  275 │   1490 │    57 │      30 │   20 │   15 │      20 │   20 │\n",
      "│                     Bacon,_Egg_&_Cheese_Bagel_with_Egg_Whites 7.2_oz_(203_g) │  580 │    230 │  26 │      9 │   60 │   1490 │    55 │      30 │   10 │   15 │      20 │   15 │\n",
      "│              Bacon,_Egg_&_Cheese_Biscuit_(Large_Size_Biscuit) 5.8_oz_(164_g) │  520 │    270 │  30 │     14 │  250 │   1410 │    43 │      19 │   15 │    8 │      20 │   20 │\n",
      "│            Bacon,_Egg_&_Cheese_Biscuit_(Regular_Size_Biscuit) 5.3_oz_(150_g) │  460 │    230 │  26 │     13 │  250 │   1300 │    38 │      19 │   10 │    8 │      15 │   15 │\n",
      "│   Bacon,_Egg_&_Cheese_Biscuit_with_Egg_Whites_(Large_Biscuit) 5.9_oz_(167_g) │  470 │    220 │  25 │     12 │   35 │   1420 │    42 │      20 │    6 │    8 │      15 │   15 │\n",
      "│  Bacon,_Egg_&_Cheese_Biscuit_with_Egg_Whites_(RegularBiscuit) 5.4_oz_(153_g) │  410 │    180 │  20 │     11 │   35 │   1300 │    36 │      20 │    2 │    8 │      15 │   10 │\n",
      "│                                Bacon,_Egg_&_Cheese_McGriddles 6.1_oz_(174_g) │  460 │    190 │  21 │      9 │  250 │   1250 │    48 │      19 │   10 │   10 │      20 │   15 │\n",
      "│                Bacon,_Egg_&_Cheese_McGriddles_with_Egg_Whites 6.3_oz_(178_g) │  400 │    140 │  15 │      7 │   35 │   1250 │    47 │      20 │    2 │   10 │      15 │   10 │\n",
      "│                                 Bacon_Buffalo_Ranch_McChicken 5.6_oz_(159_g) │  420 │    180 │  20 │      4 │   50 │   1250 │    41 │      20 │    2 │   10 │      15 │   15 │\n",
      "│                                         Bacon_Cheddar_McChicken 6_oz_(171_g) │  480 │    220 │  24 │      7 │   65 │   1260 │    43 │      22 │    4 │   10 │      20 │   15 │\n",
      "│                                                Bacon_McDouble 5.8_oz_(165_g) │  460 │    210 │  24 │     10 │   85 │   1120 │    34 │      28 │    6 │   10 │      20 │   20 │\n",
      "│                                            Baked_Hot_Apple_Pie 2.7_oz_(77_g) │  250 │    110 │  13 │      7 │    0 │    170 │    32 │       2 │    4 │   25 │       2 │    6 │\n",
      "│                             Big_Breakfast_(Large_Size_Biscuit) 10_oz_(283_g) │  800 │    470 │  52 │     18 │  555 │   1680 │    56 │      28 │   15 │    2 │      15 │   30 │\n",
      "│                          Big_Breakfast_(Regular_Size_Biscuit) 9.5_oz_(269_g) │  740 │    430 │  48 │     17 │  555 │   1560 │    51 │      28 │   15 │    2 │      15 │   25 │\n",
      "│           Big_Breakfast_with_Egg_Whites_(Large_Size_Biscuit) 10.1_oz_(286_g) │  690 │    370 │  41 │     14 │   35 │   1700 │    55 │      26 │    4 │    2 │      10 │   15 │\n",
      "│          Big_Breakfast_with_Egg_Whites_(Regular_Size_Biscuit) 9.6_oz_(272_g) │  640 │    330 │  37 │     14 │   35 │   1590 │    50 │      26 │    0 │    2 │      10 │   15 │\n",
      "│             Big_Breakfast_with_Hotcakes_(Large_Size_Biscuit) 15.3_oz_(434_g) │ 1150 │    540 │  60 │     20 │  575 │   2260 │   116 │      36 │   15 │    2 │      30 │   40 │\n",
      "│           Big_Breakfast_with_Hotcakes_(Regular_Size_Biscuit) 14.8_oz_(420_g) │ 1090 │    510 │  56 │     19 │  575 │   2150 │   111 │      36 │   15 │    2 │      25 │   40 │\n",
      "│   Big_Breakfast_with_Hotcakes_and_Egg_Whites_(Large_Biscuit) 15.4_oz_(437_g) │ 1050 │    450 │  50 │     16 │   55 │   2290 │   115 │      35 │    4 │    2 │      25 │   30 │\n",
      "│ Big_Breakfast_with_Hotcakes_and_Egg_Whites_(Regular_Biscuit) 14.9_oz_(423_g) │  990 │    410 │  46 │     16 │   55 │   2170 │   110 │      35 │    0 │    2 │      25 │   30 │\n",
      "│                                                       Big_Mac 7.6_oz_(215_g) │  550 │    260 │  29 │     10 │   75 │    970 │    46 │      25 │    4 │    2 │      25 │   25 │\n",
      "│                          Blueberry_Pomegranate_Smoothie_(Large) 22_fl_oz_cup │  340 │     10 │   1 │      0 │    5 │     65 │    79 │       4 │    0 │    4 │      10 │    2 │\n",
      "│                         Blueberry_Pomegranate_Smoothie_(Medium) 16_fl_oz_cup │  260 │      5 │   1 │      0 │    5 │     50 │    62 │       3 │    0 │    4 │       8 │    2 │\n",
      "│                          Blueberry_Pomegranate_Smoothie_(Small) 12_fl_oz_cup │  220 │      5 │   0 │      0 │    5 │     40 │    50 │       2 │    0 │    2 │       6 │    2 │\n",
      "│                                       Buffalo_Ranch_McChicken 5.1_oz_(145_g) │  350 │    130 │  15 │      3 │   35 │    980 │    40 │      14 │    2 │    2 │      15 │   15 │\n",
      "│                                           Caramel_Latte_(Large) 20_fl_oz_cup │  430 │    120 │  14 │      8 │   40 │    180 │    62 │      15 │   15 │    0 │      50 │    2 │\n",
      "│                                          Caramel_Latte_(Medium) 16_fl_oz_cup │  340 │     90 │  10 │      6 │   30 │    140 │    50 │      11 │   10 │    0 │      35 │    0 │\n",
      "│                                           Caramel_Latte_(Small) 12_fl_oz_cup │  270 │     80 │   9 │      5 │   25 │    115 │    40 │       9 │    8 │    0 │      30 │    0 │\n",
      "│                                           Caramel_Mocha_(Large) 20_fl_oz_cup │  480 │    150 │  17 │     10 │   50 │    270 │    66 │      16 │   15 │    0 │      50 │    4 │\n",
      "│                                          Caramel_Mocha_(Medium) 16_fl_oz_cup │  390 │    120 │  14 │      8 │   40 │    220 │    55 │      12 │   15 │    0 │      40 │    2 │\n",
      "│                                           Caramel_Mocha_(Small) 12_fl_oz_cup │  320 │    100 │  11 │      7 │   35 │    170 │    45 │      10 │   10 │    0 │      30 │    2 │\n",
      "│                                                    Cheeseburger 4_oz_(114_g) │  300 │    110 │  12 │      6 │   40 │    680 │    33 │      15 │    6 │    2 │      20 │   15 │\n",
      "│                                  Chicken_McNuggets_(10_piece) 5.7_oz_(162_g) │  470 │    270 │  30 │      5 │   65 │    900 │    30 │      22 │    0 │    4 │       2 │    6 │\n",
      "│                                 Chicken_McNuggets_(20_piece) 11.4_oz_(323_g) │  940 │    530 │  59 │     10 │  135 │   1800 │    59 │      44 │    0 │    8 │       4 │   10 │\n",
      "│                                 Chicken_McNuggets_(40_piece) 22.8_oz_(646_g) │ 1880 │   1060 │ 118 │     20 │  265 │   3600 │   118 │      87 │    0 │   15 │       8 │   25 │\n",
      "│                                    Chicken_McNuggets_(4_piece) 2.3_oz_(65_g) │  190 │    110 │  12 │      2 │   25 │    360 │    12 │       9 │    0 │    2 │       0 │    2 │\n",
      "│                                    Chicken_McNuggets_(6_piece) 3.4_oz_(97_g) │  280 │    160 │  18 │      3 │   40 │    540 │    18 │      13 │    0 │    2 │       2 │    4 │\n",
      "│                  Chicken_Selects_Premium_Breast_Strips_(5_pc) 7.3_oz_(206_g) │  640 │    340 │  38 │      6 │   90 │   1240 │    36 │      38 │    0 │    6 │       4 │    6 │\n",
      "│                              Chipotle_BBQ_Snack_Wrap_(Crispy) 4.4_oz_(124_g) │  330 │    130 │  15 │      4 │   30 │    750 │    34 │      14 │    4 │    0 │      10 │   10 │\n",
      "│                             Chipotle_BBQ_Snack_Wrap_(Grilled) 4.1_oz_(117_g) │  250 │     70 │   8 │      3 │   40 │    670 │    27 │      16 │    4 │    2 │      10 │   10 │\n",
      "│                                        Chocolate_Chip_Cookie 1_cookie_(33_g) │  160 │     70 │   8 │      3 │   10 │     90 │    21 │       2 │    2 │    0 │       2 │    8 │\n",
      "│                               Chocolate_McCafe_Shake_(12_fl_oz_cup) 12_fl_oz │  560 │    150 │  16 │     10 │   60 │    240 │    91 │      12 │   20 │    0 │      40 │    8 │\n",
      "│                               Chocolate_McCafe_Shake_(16_fl_oz_cup) 16_fl_oz │  700 │    180 │  20 │     12 │   75 │    300 │   114 │      15 │   25 │    0 │      50 │   10 │\n",
      "│                               Chocolate_McCafe_Shake_(22_fl_oz_cup) 22_fl_oz │  850 │    210 │  23 │     15 │   85 │    380 │   141 │      19 │   30 │    0 │      60 │   15 │\n",
      "│                                                  Cinnamon_Melts 4_oz_(114_g) │  460 │    170 │  19 │      9 │   15 │    370 │    66 │       6 │    4 │    0 │       6 │   15 │\n",
      "│                                       Coca-Cola_Classic_(Child) 12_fl_oz_cup │  100 │      0 │   0 │      0 │    0 │      0 │    28 │       0 │    0 │    0 │       0 │    0 │\n",
      "│                                       Coca-Cola_Classic_(Large) 30_fl_oz_cup │  280 │      0 │   0 │      0 │    0 │      5 │    76 │       0 │    0 │    0 │       0 │    0 │\n",
      "│                                      Coca-Cola_Classic_(Medium) 21_fl_oz_cup │  200 │      0 │   0 │      0 │    0 │      5 │    55 │       0 │    0 │    0 │       0 │    0 │\n",
      "│                                       Coca-Cola_Classic_(Small) 16_fl_oz_cup │  140 │      0 │   0 │      0 │    0 │      0 │    39 │       0 │    0 │    0 │       0 │    0 │\n",
      "│                                               Coffee_Cream 0.4_fl_oz_(11_ml) │   20 │     20 │   2 │      1 │   10 │     15 │     0 │       0 │    2 │    0 │       2 │    0 │\n",
      "│                                             Creamy_Ranch_Sauce 0.8_oz_(22_g) │  110 │    110 │  12 │      2 │    5 │    170 │     1 │       0 │    0 │    0 │       0 │    0 │\n",
      "│                                                  Daily_Double 6.8_oz_(194_g) │  440 │    220 │  24 │      9 │   70 │    770 │    33 │      23 │    6 │    6 │      20 │   20 │\n",
      "│                                           Double_Cheeseburger 5.8_oz_(165_g) │  440 │    210 │  23 │     11 │   80 │   1050 │    34 │      25 │    8 │    2 │      30 │   20 │\n",
      "│                           Double_Quarter_Pounder_with_Cheese++ 10_oz_(283_g) │  750 │    380 │  43 │     19 │  160 │   1280 │    42 │      48 │   10 │    2 │      30 │   35 │\n",
      "│                                               Dr_Pepper_(Child) 12_fl_oz_cup │  100 │      0 │   0 │      0 │    0 │     30 │    27 │       0 │    0 │    0 │       0 │    0 │\n",
      "│                                               Dr_Pepper_(Large) 30_fl_oz_cup │  270 │      0 │   0 │      0 │    0 │     90 │    72 │       0 │    0 │    0 │       0 │    0 │\n",
      "│                                              Dr_Pepper_(Medium) 21_fl_oz_cup │  190 │      0 │   0 │      0 │    0 │     65 │    53 │       0 │    0 │    0 │       0 │    0 │\n",
      "│                                               Dr_Pepper_(Small) 16_fl_oz_cup │  140 │      0 │   0 │      0 │    0 │     45 │    37 │       0 │    0 │    0 │       0 │    0 │\n",
      "│                                                  Egg_McMuffin 4.8_oz_(135_g) │  290 │    110 │  12 │      5 │  260 │    740 │    31 │      17 │   10 │    0 │      25 │   15 │\n",
      "│                   Egg_Nog_McCafe_Shake_(16_fl_oz_cup)_Medium 14.7_oz_(418_g) │  680 │    170 │  19 │     12 │   75 │    220 │   111 │      14 │   25 │    0 │      50 │    0 │\n",
      "│                    Egg_Nog_McCafe_Shake_(22_fl_oz_cup)_Large 18.2_oz_(516_g) │  830 │    210 │  23 │     15 │   90 │    270 │   137 │      18 │   30 │    0 │      70 │    0 │\n",
      "│                                             Egg_White_Delight 4.7_oz_(134_g) │  250 │     60 │   7 │      3 │   25 │    770 │    30 │      18 │    4 │    0 │      25 │    8 │\n",
      "│                                Fat_Free_Chocolate_Milk_Jug 1_carton_(236_ml) │  130 │      0 │   0 │      0 │    5 │    135 │    23 │       9 │   10 │    0 │      30 │    8 │\n",
      "│                                                    Filet-O-Fish 5_oz_(142_g) │  390 │    170 │  19 │      4 │   40 │    590 │    39 │      15 │    2 │    0 │      15 │   10 │\n",
      "│                                          Frappe_Caramel_(Large) 22_fl_oz_cup │  670 │    250 │  27 │     17 │   95 │    190 │    96 │      11 │   20 │    0 │      35 │    2 │\n",
      "│                                         Frappe_Caramel_(Medium) 16_fl_oz_cup │  550 │    200 │  23 │     15 │   80 │    160 │    79 │       9 │   20 │    0 │      30 │    2 │\n",
      "│                                          Frappe_Caramel_(Small) 12_fl_oz_cup │  450 │    170 │  19 │     12 │   65 │    125 │    64 │       7 │   15 │    0 │      25 │    2 │\n",
      "│                                   Frappe_Chocolate_Chip_(Large) 22_fl_oz_cup │  760 │    280 │  31 │     20 │   95 │    200 │   111 │      12 │   20 │    0 │      35 │    6 │\n",
      "│                                  Frappe_Chocolate_Chip_(Medium) 16_fl_oz_cup │  630 │    240 │  26 │     17 │   80 │    160 │    91 │       9 │   15 │    0 │      30 │    4 │\n",
      "│                                   Frappe_Chocolate_Chip_(Small) 12_fl_oz_cup │  530 │    200 │  23 │     14 │   65 │    135 │    76 │       8 │   15 │    0 │      25 │    4 │\n",
      "│                     Frappe_Chocolate_Covered_Strawberry_(Small) 12_fl_oz_cup │  570 │    200 │  22 │     14 │   65 │    130 │    88 │       8 │   15 │    0 │      20 │    6 │\n",
      "│                                            Frappe_Mocha_(Large) 22_fl_oz_cup │  670 │    240 │  26 │     17 │   90 │    190 │    98 │      11 │   20 │    0 │      35 │    4 │\n",
      "│                                           Frappe_Mocha_(Medium) 16_fl_oz_cup │  550 │    200 │  22 │     14 │   75 │    160 │    80 │       9 │   15 │    0 │      25 │    4 │\n",
      "│                                            Frappe_Mocha_(Small) 12_fl_oz_cup │  450 │    160 │  18 │     12 │   65 │    125 │    65 │       7 │   15 │    0 │      20 │    4 │\n",
      "│                                    French_Vanilla_Latte_(Large) 20_fl_oz_cup │  420 │    120 │  14 │      8 │   40 │    190 │    60 │      15 │   15 │    0 │      50 │    2 │\n",
      "│                                   French_Vanilla_Latte_(Medium) 16_fl_oz_cup │  330 │     90 │  10 │      6 │   30 │    140 │    48 │      11 │   10 │    0 │      35 │    2 │\n",
      "│                                    French_Vanilla_Latte_(Small) 12_fl_oz_cup │  260 │     80 │   9 │      5 │   25 │    115 │    38 │       9 │    8 │    0 │      30 │    0 │\n",
      "│                                        Fruit_&_Maple_Oatmeal_ 9.6_oz_(251_g) │  290 │     35 │   4 │      1 │    5 │    160 │    58 │       5 │    2 │  130 │      10 │   10 │\n",
      "│                     Fruit_&_Maple_Oatmeal_without_Brown_Sugar 9.6_oz_(251_g) │  260 │     40 │   4 │      1 │    5 │    115 │    49 │       5 │    2 │  130 │       6 │   10 │\n",
      "│                                       Fruit_'n_Yogurt_Parfait 5.2_oz_(149_g) │  150 │     20 │   2 │      1 │    5 │     70 │    30 │       4 │    2 │   15 │      10 │    4 │\n",
      "│                                                      Grape_Jam 0.5_oz_(14_g) │   35 │      0 │   0 │      0 │    0 │      0 │     9 │       0 │    0 │    2 │       0 │    0 │\n",
      "│                                         Grilled_Onion_Cheddar 4.1_oz_(115_g) │  310 │    120 │  13 │      6 │   40 │    660 │    33 │      15 │    2 │    0 │      20 │   15 │\n",
      "│                                                     Hamburger 3.5_oz_(100_g) │  250 │     80 │   9 │      3 │   25 │    480 │    31 │      12 │    2 │    2 │      10 │   15 │\n",
      "│                                                       Hash_Brown 2_oz_(56_g) │  150 │     80 │   9 │      1 │    0 │    310 │    15 │       1 │    0 │    2 │       0 │    2 │\n",
      "│                                          Hazelnut_Latte_(Large) 20_fl_oz_cup │  430 │    120 │  14 │      8 │   40 │    180 │    62 │      15 │   15 │    0 │      50 │    2 │\n",
      "│                                         Hazelnut_Latte_(Medium) 16_fl_oz_cup │  330 │     90 │  10 │      6 │   30 │    140 │    50 │      11 │   10 │    0 │      35 │    0 │\n",
      "│                                          Hazelnut_Latte_(Small) 12_fl_oz_cup │  270 │     80 │   9 │      5 │   25 │    115 │    40 │       9 │    8 │    0 │      30 │    0 │\n",
      "│                                   Hi-C_Orange_Lavaburst_(Child) 12_fl_oz_cup │  110 │      0 │   0 │      0 │    0 │      0 │    31 │       0 │    0 │  150 │       0 │    0 │\n",
      "│                                   Hi-C_Orange_Lavaburst_(Large) 30_fl_oz_cup │  310 │      0 │   0 │      0 │    0 │      0 │    84 │       0 │    0 │  410 │       0 │    0 │\n",
      "│                                  Hi-C_Orange_Lavaburst_(Medium) 21_fl_oz_cup │  230 │      0 │   0 │      0 │    0 │      0 │    61 │       0 │    0 │  290 │       0 │    0 │\n",
      "│                                   Hi-C_Orange_Lavaburst_(Small) 16_fl_oz_cup │  160 │      0 │   0 │      0 │    0 │      0 │    43 │       0 │    0 │  210 │       0 │    0 │\n",
      "│                                                           Honey 1_pkg_(14_g) │   50 │      0 │   0 │      0 │    0 │      0 │    12 │       0 │    0 │    0 │       0 │    0 │\n",
      "│                                            Honey_Mustard_Sauce 0.8_oz_(22_g) │   60 │     35 │   4 │      0 │    5 │    115 │     6 │       0 │    0 │    0 │       0 │    0 │\n",
      "│                             Honey_Mustard_Snack_Wrap_(Crispy) 4.3_oz_(123_g) │  330 │    130 │  15 │      4 │   35 │    730 │    34 │      14 │    2 │    0 │      10 │   10 │\n",
      "│                            Honey_Mustard_Snack_Wrap_(Grilled) 4.1_oz_(116_g) │  250 │     70 │   8 │      3 │   45 │    650 │    27 │      16 │    2 │    2 │      10 │   10 │\n",
      "│                                            Hot_Caramel_Sundae 6.4_oz_(182_g) │  340 │     70 │   8 │      5 │   30 │    150 │    60 │       7 │   10 │    0 │      25 │    0 │\n",
      "│                                           Hot_Chocolate_(Large) 20_fl_oz_cup │  540 │    180 │  20 │     12 │   60 │    280 │    73 │      17 │   20 │    0 │      60 │    8 │\n",
      "│                                          Hot_Chocolate_(Medium) 16_fl_oz_cup │  440 │    140 │  16 │      9 │   50 │    220 │    61 │      14 │   15 │    0 │      45 │    6 │\n",
      "│                                           Hot_Chocolate_(Small) 12_fl_oz_cup │  360 │    120 │  13 │      8 │   40 │    180 │    50 │      11 │   10 │    0 │      40 │    6 │\n",
      "│                          Hot_Chocolate_with_Nonfat_Milk_(Large) 20_fl_oz_cup │  400 │     35 │   3 │      2 │   20 │    280 │    74 │      19 │   25 │    0 │      60 │    8 │\n",
      "│                         Hot_Chocolate_with_Nonfat_Milk_(Medium) 16_fl_oz_cup │  340 │     30 │   3 │      2 │   15 │    220 │    61 │      14 │   20 │    0 │      50 │    6 │\n",
      "│                          Hot_Chocolate_with_Nonfat_Milk_(Small) 12_fl_oz_cup │  280 │     30 │   3 │      2 │   15 │    180 │    50 │      12 │   15 │    0 │      40 │    6 │\n",
      "│                                              Hot_Fudge_Sundae 6.3_oz_(179_g) │  330 │     80 │   9 │      7 │   25 │    170 │    53 │       8 │    8 │    0 │      25 │    8 │\n",
      "│                                             Hot_Habanero_Sauce 22_oz_(0.8_g) │   80 │     60 │   7 │      1 │   10 │    180 │     5 │       1 │    0 │    0 │       2 │    2 │\n",
      "│                                                   Hotcake_Syrup 1_pkg_(60_g) │  180 │      0 │   0 │      0 │    0 │     20 │    45 │       0 │    0 │    0 │       0 │    0 │\n",
      "│                                                      Hotcakes 5.3_oz_(151_g) │  350 │     80 │   9 │      2 │   20 │    590 │    60 │       8 │    0 │    0 │      15 │   15 │\n",
      "│                                          Hotcakes_and_Sausage 6.8_oz_(192_g) │  520 │    210 │  24 │      7 │   50 │    930 │    61 │      15 │    0 │    0 │      15 │   15 │\n",
      "│                                      Iced_Caramel_Mocha_(Large) 22_fl_oz_cup │  460 │    150 │  16 │     10 │   50 │    250 │    65 │      13 │   15 │    0 │      40 │    4 │\n",
      "│                                     Iced_Caramel_Mocha_(Medium) 16_fl_oz_cup │  340 │    110 │  13 │      7 │   40 │    170 │    46 │       9 │   10 │    0 │      30 │    2 │\n",
      "│                                      Iced_Caramel_Mocha_(Small) 12_fl_oz_cup │  280 │    100 │  11 │      7 │   35 │    140 │    38 │       8 │   10 │    0 │      25 │    2 │\n",
      "│                                     Iced_Coffee-Caramel_(Large) 32_fl_oz_cup │  260 │     80 │   9 │      6 │   35 │     65 │    43 │       2 │    6 │    0 │       6 │    0 │\n",
      "│                                    Iced_Coffee-Caramel_(Medium) 22_fl_oz_cup │  180 │     60 │   7 │      4 │   25 │     50 │    29 │       1 │    4 │    0 │       4 │    0 │\n",
      "│                                     Iced_Coffee-Caramel_(Small) 16_fl_oz_cup │  130 │     40 │   4 │      3 │   15 │     35 │    22 │       1 │    4 │    0 │       4 │    0 │\n",
      "│                              Iced_Coffee-French_Vanilla_(Large) 32_fl_oz_cup │  240 │     80 │   9 │      6 │   35 │     80 │    41 │       2 │    6 │    0 │       8 │    0 │\n",
      "│                             Iced_Coffee-French_Vanilla_(Medium) 22_fl_oz_cup │  170 │     60 │   7 │      4 │   25 │     55 │    27 │       1 │    4 │    0 │       4 │    0 │\n",
      "│                              Iced_Coffee-French_Vanilla_(Small) 16_fl_oz_cup │  120 │     40 │   4 │      3 │   15 │     40 │    20 │       1 │    4 │    0 │       4 │    0 │\n",
      "│                                    Iced_Coffee-Hazelnut_(Large) 32_fl_oz_cup │  250 │     80 │   9 │      6 │   35 │     75 │    43 │       2 │    6 │    0 │       8 │    0 │\n",
      "│                                   Iced_Coffee-Hazelnut_(Medium) 22_fl_oz_cup │  180 │     60 │   7 │      4 │   25 │     50 │    29 │       1 │    4 │    0 │       4 │    0 │\n",
      "│                                    Iced_Coffee-Hazelnut_(Small) 16_fl_oz_cup │  130 │     40 │   4 │      3 │   15 │     35 │    21 │       1 │    4 │    0 │       4 │    0 │\n",
      "│                                     Iced_Coffee-Regular_(Large) 32_fl_oz_cup │  270 │     80 │   9 │      6 │   35 │     75 │    47 │       2 │    6 │    0 │       8 │    0 │\n",
      "│                                    Iced_Coffee-Regular_(Medium) 22_fl_oz_cup │  190 │     60 │   7 │      4 │   25 │     50 │    31 │       1 │    4 │    0 │       4 │    0 │\n",
      "│                                     Iced_Coffee-Regular_(Small) 16_fl_oz_cup │  140 │     40 │   4 │      3 │   15 │     35 │    23 │       1 │    4 │    0 │       4 │    0 │\n",
      "│        Iced_Coffee_with_Sugar_Free_French_Vanilla_Syrup_(Large) 32_fl_oz_cup │  160 │     80 │   9 │      6 │   35 │    135 │    18 │       2 │    6 │    0 │       8 │    0 │\n",
      "│       Iced_Coffee_with_Sugar_Free_French_Vanilla_Syrup_(Medium) 22_fl_oz_cup │  120 │     60 │   7 │      4 │   25 │     90 │    12 │       1 │    4 │    0 │       4 │    0 │\n",
      "│        Iced_Coffee_with_Sugar_Free_French_Vanilla_Syrup_(Small) 16_fl_oz_cup │   80 │     40 │   4 │      3 │   15 │     65 │     9 │       1 │    4 │    0 │       4 │    0 │\n",
      "│                                              Iced_Mocha_(Large) 22_fl_oz_cup │  480 │    150 │  16 │     10 │   50 │    220 │    70 │      14 │   15 │    0 │      40 │    8 │\n",
      "│                                             Iced_Mocha_(Medium) 16_fl_oz_cup │  350 │    110 │  13 │      8 │   40 │    150 │    50 │       9 │   10 │    0 │      30 │    6 │\n",
      "│                                              Iced_Mocha_(Small) 12_fl_oz_cup │  290 │    100 │  11 │      7 │   35 │    125 │    41 │       8 │   10 │    0 │      25 │    4 │\n",
      "│                             Iced_Mocha_with_Nonfat_Milk_(Large) 22_fl_oz_cup │  390 │     50 │   6 │      3 │   25 │    220 │    71 │      14 │   20 │    0 │      45 │    8 │\n",
      "│                            Iced_Mocha_with_Nonfat_Milk_(Medium) 16_fl_oz_cup │  290 │     45 │   5 │      3 │   20 │    150 │    50 │      10 │   15 │    0 │      30 │    6 │\n",
      "│                             Iced_Mocha_with_Nonfat_Milk_(Small) 12_fl_oz_cup │  240 │     45 │   5 │      3 │   20 │    125 │    41 │       8 │   10 │    0 │      25 │    4 │\n",
      "│                               Iced_Nonfat_Caramel_Mocha_(Large) 22_fl_oz_cup │  370 │     50 │   6 │      3 │   25 │    250 │    65 │      14 │   20 │    0 │      45 │    4 │\n",
      "│                              Iced_Nonfat_Caramel_Mocha_(Medium) 16_fl_oz_cup │  270 │     45 │   5 │      3 │   20 │    170 │    47 │      10 │   15 │    0 │      30 │    2 │\n",
      "│                               Iced_Nonfat_Caramel_Mocha_(Small) 12_fl_oz_cup │  230 │     45 │   5 │      3 │   20 │    140 │    38 │       8 │   10 │    0 │      25 │    2 │\n",
      "│                                                  Ketchup_Packet 1_pkg_(10_g) │   10 │      0 │   0 │      0 │    0 │    100 │     3 │       0 │    2 │    2 │       0 │    0 │\n",
      "│                                                      Kiddie_Cone 1_oz_(29_g) │   45 │     10 │   1 │      1 │    5 │     20 │     7 │       1 │    2 │    0 │       4 │    0 │\n",
      "│                                                     Kids_Fries 1.1_oz_(31_g) │  100 │     45 │   5 │      0 │    0 │     70 │    13 │       1 │    0 │    4 │       0 │    2 │\n",
      "│                                            Large_French_Fries 5.4_oz_(154_g) │  500 │    220 │  25 │      3 │    0 │    350 │    63 │       6 │    0 │   20 │       2 │    8 │\n",
      "│                                                   Latte_(Large) 20_fl_oz_cup │  280 │    120 │  14 │      8 │   40 │    180 │    24 │      15 │   15 │    0 │      50 │    2 │\n",
      "│                                                  Latte_(Medium) 16_fl_oz_cup │  210 │     90 │  10 │      6 │   30 │    140 │    18 │      11 │   10 │    0 │      35 │    0 │\n",
      "│                                                  Latte_(Small)_ 12_fl_oz_cup │  170 │     80 │   9 │      5 │   25 │    115 │    15 │       9 │    8 │    0 │      30 │    0 │\n",
      "│              Latte_with_Sugar_Free_French_Vanilla_Syrup_(Large) 20_fl_oz_cup │  330 │    120 │  14 │      8 │   40 │    240 │    37 │      15 │   15 │    0 │      50 │    2 │\n",
      "│             Latte_with_Sugar_Free_French_Vanilla_Syrup_(Medium) 16_fl_oz_cup │  260 │     90 │  10 │      6 │   30 │    190 │    29 │      12 │   10 │    0 │      35 │    0 │\n",
      "│              Latte_with_Sugar_Free_French_Vanilla_Syrup_(Small) 12_fl_oz_cup │  210 │     80 │   9 │      5 │   25 │    150 │    24 │       9 │    8 │    0 │      30 │    0 │\n",
      "│                                                Mac_Snack_Wrap 4.4_oz_(125_g) │  330 │    170 │  19 │      7 │   45 │    670 │    26 │      14 │    2 │    0 │       8 │   15 │\n",
      "│                                Mango_Pineapple_Smoothie_(Large) 22_fl_oz_cup │  340 │     15 │   1 │      1 │    5 │     70 │    78 │       5 │   50 │   45 │      10 │    2 │\n",
      "│                               Mango_Pineapple_Smoothie_(Medium) 16_fl_oz_cup │  270 │     10 │   1 │      1 │    5 │     55 │    61 │       3 │   45 │   35 │       8 │    2 │\n",
      "│                                Mango_Pineapple_Smoothie_(Small) 12_fl_oz_cup │  220 │     10 │   1 │      0 │    5 │     45 │    49 │       3 │   35 │   30 │       8 │    2 │\n",
      "│           McCafe_Caramel_Hot_Chocolate_with_Nonfat_Milk_(Large) 20_fl_oz_cup │  380 │     35 │   3 │      2 │   20 │    300 │    68 │      18 │   25 │    0 │      60 │    4 │\n",
      "│          McCafe_Caramel_Hot_Chocolate_with_Nonfat_Milk_(Medium) 16_fl_oz_cup │  310 │     30 │   3 │      2 │   20 │    240 │    57 │      14 │   20 │    0 │      50 │    2 │\n",
      "│           McCafe_Caramel_Hot_Chocolate_with_Nonfat_Milk_(Small) 12_fl_oz_cup │  260 │     30 │   3 │      2 │   15 │    200 │    46 │      11 │   15 │    0 │      40 │    2 │\n",
      "│                                                    McChicken_ 5.1_oz_(143_g) │  360 │    140 │  16 │      3 │   35 │    800 │    40 │      14 │    0 │    2 │      10 │   15 │\n",
      "│                                                      McDouble 5.3_oz_(151_g) │  390 │    170 │  19 │      8 │   65 │    850 │    33 │      23 │    6 │    2 │      20 │   20 │\n",
      "│                   McFlurry_with_M&M'S_Candies_(12_fl_oz_cup) 10.9_oz_(310_g) │  650 │    210 │  23 │     14 │   50 │    180 │    96 │      13 │   15 │    0 │      45 │    8 │\n",
      "│                   McFlurry_with_M&M'S_Candies_(16_fl_oz_cup) 16.2_oz_(460_g) │  930 │    290 │  33 │     20 │   75 │    260 │   139 │      20 │   25 │    0 │      70 │   10 │\n",
      "│                    McFlurry_with_OREO_Cookies_(12_fl_oz_cup) 10.1_oz_(285_g) │  510 │    150 │  17 │      9 │   45 │    280 │    80 │      12 │   15 │    0 │      40 │    8 │\n",
      "│                    McFlurry_with_OREO_Cookies_(16_fl_oz_cup) 13.4_oz_(381_g) │  690 │    200 │  23 │     12 │   55 │    380 │   106 │      15 │   20 │    0 │      50 │   10 │\n",
      "│       McFlurry_with_Reese's_Peanut_Butter_Cup_(16_fl_oz_cup) 14.2_oz_(403_g) │  810 │    290 │  32 │     15 │   60 │    400 │   114 │      21 │   20 │    0 │      60 │    6 │\n",
      "│                                                        McRib_ 7.3_oz_(208_g) │  500 │    240 │  26 │     10 │   70 │    980 │    44 │      22 │    2 │    2 │      15 │   20 │\n",
      "│                                           Medium_French_Fries 4.1_oz_(117_g) │  380 │    170 │  19 │      2 │    0 │    270 │    48 │       4 │    0 │   15 │       2 │    6 │\n",
      "│                                      Mighty_Wings_(10_piece) 11.1_oz_(314_g) │  960 │    570 │  63 │     13 │  295 │   2900 │    40 │      60 │    4 │    6 │       6 │   15 │\n",
      "│                                         Mighty_Wings_(3_piece) 3.3_oz_(94_g) │  290 │    170 │  19 │      4 │   90 │    870 │    12 │      18 │    2 │    2 │       2 │    4 │\n",
      "│                                        Mighty_Wings_(5_piece) 5.5_oz_(157_g) │  480 │    280 │  31 │      7 │  145 │   1450 │    20 │      30 │    2 │    4 │       2 │    6 │\n",
      "│                          Minute_Maid_100%_Apple_Juice_Box 6.8_fl_oz_(200_ml) │  100 │      0 │   0 │      0 │    0 │     15 │    23 │       0 │    0 │  100 │      10 │    0 │\n",
      "│                                Minute_Maid_Orange_Juice_(Large) 22_fl_oz_cup │  280 │      0 │   0 │      0 │    0 │      5 │    65 │       4 │    0 │  240 │       4 │    0 │\n",
      "│                               Minute_Maid_Orange_Juice_(Medium) 16_fl_oz_cup │  190 │      0 │   0 │      0 │    0 │      0 │    44 │       3 │    0 │  160 │       4 │    0 │\n",
      "│                                Minute_Maid_Orange_Juice_(Small) 12_fl_oz_cup │  150 │      0 │   0 │      0 │    0 │      0 │    34 │       2 │    0 │  130 │       2 │    0 │\n",
      "│                                                   Mocha_(Large) 20_fl_oz_cup │  500 │    150 │  17 │     10 │   50 │    240 │    72 │      16 │   15 │    0 │      50 │    8 │\n",
      "│                                                  Mocha_(Medium) 16_fl_oz_cup │  410 │    120 │  14 │      8 │   40 │    190 │    60 │      13 │   10 │    0 │      40 │    6 │\n",
      "│                                                   Mocha_(Small) 12_fl_oz_cup │  340 │    100 │  11 │      7 │   35 │    150 │    49 │      10 │   10 │    0 │      30 │    6 │\n",
      "│                                  Mocha_with_Nonfat_Milk_(Large) 20_fl_oz_cup │  390 │     35 │   4 │      2 │   20 │    240 │    73 │      17 │   20 │    0 │      50 │    8 │\n",
      "│                                 Mocha_with_Nonfat_Milk_(Medium) 16_fl_oz_cup │  330 │     30 │   3 │      2 │   15 │    190 │    60 │      13 │   15 │    0 │      40 │    6 │\n",
      "│                                  Mocha_with_Nonfat_Milk_(Small) 12_fl_oz_cup │  270 │     30 │   3 │      2 │   15 │    150 │    49 │      11 │   10 │    0 │      35 │    6 │\n",
      "│                     Newman's_Own_Creamy_Southwest_Dressing 1.5_fl_oz_(44_ml) │  100 │     50 │   6 │      1 │   20 │    340 │    11 │       1 │    0 │    0 │       2 │    2 │\n",
      "│                  Newman's_Own_Low_Fat_Balsamic_Vinaigrette 1.5_fl_oz_(44_ml) │   35 │     25 │   2 │      0 │    0 │    420 │     3 │       0 │    0 │    0 │       0 │    0 │\n",
      "│        Newman's_Own_Low_Fat_Family_Recipe_Italian_Dressing 1.5_fl_oz_(44_ml) │   50 │     20 │   2 │      0 │    0 │    390 │     7 │       1 │    0 │    0 │       2 │    0 │\n",
      "│                Newman's_Own_Low_Fat_Sesame_Ginger_Dressing 1.5_fl_oz_(44_ml) │   90 │     25 │   2 │      0 │    0 │    410 │    15 │       1 │    0 │    4 │       0 │    0 │\n",
      "│                                  Newman's_Own_Ranch_Dressing 2_fl_oz_(59_ml) │  170 │    130 │  15 │      2 │   20 │    530 │     9 │       1 │    0 │    0 │       4 │    0 │\n",
      "│                                    Nonfat_Caramel_Latte_(Large) 20_fl_oz_cup │  310 │      0 │   0 │      0 │   10 │    180 │    63 │      16 │   15 │    0 │      50 │    2 │\n",
      "│                                   Nonfat_Caramel_Latte_(Medium) 16_fl_oz_cup │  250 │      0 │   0 │      0 │    5 │    135 │    51 │      12 │   15 │    0 │      40 │    0 │\n",
      "│                                    Nonfat_Caramel_Latte_(Small) 12_fl_oz_cup │  200 │      0 │   0 │      0 │    5 │    110 │    41 │      10 │   10 │    0 │      30 │    0 │\n",
      "│                                    Nonfat_Caramel_Mocha_(Large) 20_fl_oz_cup │  370 │     35 │   3 │      2 │   20 │    270 │    67 │      17 │   20 │    0 │      50 │    4 │\n",
      "│                                   Nonfat_Caramel_Mocha_(Medium) 16_fl_oz_cup │  310 │     30 │   3 │      2 │   15 │    210 │    56 │      13 │   15 │    0 │      40 │    2 │\n",
      "│                                    Nonfat_Caramel_Mocha_(Small) 12_fl_oz_cup │  250 │     30 │   3 │      2 │   15 │    170 │    45 │      10 │   10 │    0 │      35 │    2 │\n",
      "│                             Nonfat_French_Vanilla_Latte_(Large) 20_fl_oz_cup │  300 │      0 │   0 │      0 │   10 │    180 │    60 │      16 │   15 │    0 │      50 │    2 │\n",
      "│                            Nonfat_French_Vanilla_Latte_(Medium) 16_fl_oz_cup │  240 │      0 │   0 │      0 │    5 │    140 │    49 │      12 │   15 │    0 │      40 │    2 │\n",
      "│                             Nonfat_French_Vanilla_Latte_(Small) 12_fl_oz_cup │  190 │      0 │   0 │      0 │    5 │    115 │    39 │      10 │   10 │    0 │      30 │    0 │\n",
      "│                                   Nonfat_Hazelnut_Latte_(Large) 20_fl_oz_cup │  310 │      0 │   0 │      0 │   10 │    180 │    63 │      16 │   15 │    0 │      50 │    2 │\n",
      "│                                  Nonfat_Hazelnut_Latte_(Medium) 16_fl_oz_cup │  250 │      0 │   0 │      0 │    5 │    135 │    51 │      12 │   15 │    0 │      40 │    0 │\n",
      "│                                   Nonfat_Hazelnut_Latte_(Small) 12_fl_oz_cup │  200 │      0 │   0 │      0 │    5 │    110 │    40 │      10 │   10 │    0 │      30 │    0 │\n",
      "│                                            Nonfat_Latte_(Large) 20_fl_oz_cup │  170 │      0 │   0 │      0 │   10 │    180 │    25 │      16 │   15 │    0 │      50 │    2 │\n",
      "│                                           Nonfat_Latte_(Medium) 16_fl_oz_cup │  130 │      0 │   0 │      0 │    5 │    135 │    19 │      12 │   15 │    0 │      40 │    0 │\n",
      "│                                            Nonfat_Latte_(Small) 12_fl_oz_cup │  100 │      0 │   0 │      0 │    5 │    110 │    15 │      10 │   10 │    0 │      30 │    0 │\n",
      "│       Nonfat_Latte_with_Sugar_Free_French_Vanilla_Syrup_(Large) 20_fl_oz_cup │  220 │      0 │   0 │      0 │   10 │    240 │    38 │      16 │   15 │    0 │      50 │    2 │\n",
      "│      Nonfat_Latte_with_Sugar_Free_French_Vanilla_Syrup_(Medium) 16_fl_oz_cup │  170 │      0 │   0 │      0 │    5 │    180 │    30 │      12 │   15 │    0 │      40 │    0 │\n",
      "│       Nonfat_Latte_with_Sugar_Free_French_Vanilla_Syrup_(Small) 12_fl_oz_cup │  140 │      0 │   0 │      0 │    5 │    150 │    24 │      10 │   10 │    0 │      30 │    0 │\n",
      "│                                        Oatmeal_Raisin_Cookie 1_cookie_(33_g) │  150 │     50 │   6 │      2 │   10 │    135 │    22 │       2 │    2 │    0 │       2 │    6 │\n",
      "│                                 POWERade_Mountain_Blast_(Child) 12_fl_oz_cup │   60 │      0 │   0 │      0 │    0 │     55 │    15 │       0 │    0 │    0 │       0 │    0 │\n",
      "│                                 POWERade_Mountain_Blast_(Large) 30_fl_oz_cup │  160 │      0 │   0 │      0 │    0 │    150 │    42 │       0 │    0 │    2 │       0 │    0 │\n",
      "│                                POWERade_Mountain_Blast_(Medium) 21_fl_oz_cup │  120 │      0 │   0 │      0 │    0 │    105 │    30 │       0 │    0 │    2 │       0 │    0 │\n",
      "│                                 POWERade_Mountain_Blast_(Small) 16_fl_oz_cup │   80 │      0 │   0 │      0 │    0 │     75 │    21 │       0 │    0 │    2 │       0 │    0 │\n",
      "│                                           Peanuts_(for_Sundaes) 0.3_oz_(7_g) │   45 │     30 │   3 │      0 │    0 │      0 │     2 │       2 │    0 │    0 │       0 │    0 │\n",
      "│                   Premium_Bacon_Ranch_Salad_(without_chicken) 7.9_oz_(223_g) │  140 │     70 │   7 │      3 │   25 │    300 │    10 │       9 │  160 │   30 │      15 │    8 │\n",
      "│                Premium_Bacon_Ranch_Salad_with_Crispy_Chicken 11.3_oz_(319_g) │  390 │    190 │  22 │      6 │   70 │    870 │    24 │      26 │  160 │   35 │      15 │   10 │\n",
      "│               Premium_Bacon_Ranch_Salad_with_Grilled_Chicken 10.8_oz_(306_g) │  230 │     80 │   9 │      4 │   85 │    700 │    10 │      30 │  160 │   35 │      15 │   10 │\n",
      "│                       Premium_Crispy_Chicken_Classic_Sandwich 7.5_oz_(213_g) │  510 │    200 │  22 │      3 │   45 │    990 │    55 │      24 │    4 │    6 │      15 │   20 │\n",
      "│                          Premium_Crispy_Chicken_Club_Sandwich 8.8_oz_(249_g) │  670 │    300 │  33 │      9 │   85 │   1410 │    58 │      36 │    8 │   20 │      30 │   20 │\n",
      "│                       Premium_Crispy_Chicken_Ranch_BLT_Sandwich 8_oz_(227_g) │  590 │    240 │  27 │      6 │   70 │   1380 │    57 │      32 │    4 │   20 │      15 │   20 │\n",
      "│                        Premium_Grilled_Chicken_Classic_Sandwich 7_oz_(200_g) │  350 │     80 │   9 │      2 │   65 │    820 │    42 │      28 │    4 │    8 │      15 │   20 │\n",
      "│                         Premium_Grilled_Chicken_Club_Sandwich 8.3_oz_(235_g) │  510 │    180 │  20 │      7 │  105 │   1250 │    44 │      40 │    8 │   20 │      30 │   20 │\n",
      "│                    Premium_Grilled_Chicken_Ranch_BLT_Sandwich 7.5_oz_(214_g) │  440 │    120 │  14 │      4 │   90 │   1210 │    43 │      36 │    4 │   20 │      15 │   20 │\n",
      "│                       Premium_McWrap_Chicken_&_Bacon_(Crispy) 9.5_oz_(269_g) │  620 │    280 │  31 │      9 │   75 │   1490 │    54 │      32 │   10 │   20 │      15 │   20 │\n",
      "│                        Premium_McWrap_Chicken_&_Bacon_(Grilled) 9_oz_(255_g) │  460 │    160 │  18 │      7 │   95 │   1330 │    40 │      35 │   10 │   20 │      15 │   20 │\n",
      "│                       Premium_McWrap_Chicken_&_Ranch_(Crispy) 9.9_oz_(280_g) │  580 │    260 │  29 │      8 │   60 │   1290 │    55 │      26 │   10 │   10 │      15 │   20 │\n",
      "│                      Premium_McWrap_Chicken_&_Ranch_(Grilled) 9.4_oz_(266_g) │  420 │    140 │  16 │      6 │   80 │   1130 │    41 │      30 │   10 │   15 │      15 │   20 │\n",
      "│                   Premium_McWrap_Chicken_Sweet_Chili_(Crispy) 8.4_oz_(239_g) │  520 │    200 │  22 │      4 │   45 │   1190 │    57 │      23 │    8 │    4 │       8 │   20 │\n",
      "│                    Premium_McWrap_Chicken_Sweet_Chili_(Grilled) 8_oz_(226_g) │  360 │     80 │   9 │      2 │   65 │   1030 │    43 │      26 │    8 │    6 │       8 │   20 │\n",
      "│                    Premium_McWrap_Southwest_Chicken_(Crispy) 10.2_oz_(289_g) │  670 │    290 │  33 │      8 │   60 │   1450 │    67 │      27 │   15 │   15 │      20 │   20 │\n",
      "│                    Premium_McWrap_Southwest_Chicken_(Grilled) 9.7_oz_(275_g) │  510 │    180 │  20 │      6 │   80 │   1280 │    53 │      31 │   15 │   15 │      20 │   20 │\n",
      "│                     Premium_Southwest_Salad_(without_chicken) 8.1_oz_(230_g) │  140 │     40 │   4 │      2 │   10 │    150 │    20 │       6 │  160 │   25 │      15 │   10 │\n",
      "│                  Premium_Southwest_Salad_with_Crispy_Chicken 12.3_oz_(350_g) │  450 │    190 │  21 │      4 │   50 │    820 │    42 │      23 │  160 │   30 │      15 │   15 │\n",
      "│                 Premium_Southwest_Salad_with_Grilled_Chicken 11.8_oz_(335_g) │  290 │     70 │   8 │      2 │   70 │    650 │    28 │      27 │  160 │   35 │      15 │   15 │\n",
      "│                                 Quarter_Pounder_Bacon_&_Cheese+ 8_oz_(227_g) │  600 │    260 │  29 │     13 │  105 │   1440 │    48 │      37 │    6 │   15 │      25 │   30 │\n",
      "│                         Quarter_Pounder_Bacon_Habanero_Ranch+ 8.3_oz_(235_g) │  610 │    280 │  31 │     13 │  105 │   1180 │    46 │      37 │    8 │   20 │      25 │   30 │\n",
      "│                                       Quarter_Pounder_Deluxe+ 8.6_oz_(244_g) │  540 │    250 │  27 │     11 │   85 │    960 │    45 │      29 │   10 │    8 │      25 │   30 │\n",
      "│                                  Quarter_Pounder_with_Cheese+ 7.1_oz_(202_g) │  520 │    240 │  26 │     12 │   95 │   1100 │    41 │      30 │   10 │    2 │      30 │   25 │\n",
      "│                                     Ranch_Snack_Wrap_(Crispy) 4.4_oz_(125_g) │  350 │    170 │  18 │      5 │   40 │    790 │    32 │      15 │    2 │    0 │      10 │   10 │\n",
      "│                                    Ranch_Snack_Wrap_(Grilled) 4.2_oz_(118_g) │  270 │    110 │  12 │      4 │   45 │    700 │    25 │      16 │    2 │    2 │      10 │   10 │\n",
      "│                                           STRAWBERRY_&_CREME_PIE 3_oz_(86_g) │  310 │    150 │  17 │      9 │   10 │    180 │    36 │       4 │    6 │    6 │       4 │    6 │\n",
      "│                              Sausage,_Egg_&_Cheese_McGriddles 7.1_oz_(201_g) │  550 │    280 │  31 │     12 │  265 │   1320 │    48 │      20 │   10 │    0 │      20 │   15 │\n",
      "│              Sausage,_Egg_&_Cheese_McGriddles_with_Egg_Whites 7.2_oz_(205_g) │  500 │    230 │  26 │     10 │   50 │   1320 │    46 │      21 │    2 │    0 │      20 │   10 │\n",
      "│                          Sausage_Biscuit_(Large_Size_Biscuit) 4.6_oz_(131_g) │  480 │    280 │  31 │     13 │   30 │   1190 │    39 │      11 │    4 │    0 │       8 │   15 │\n",
      "│                        Sausage_Biscuit_(Regular_Size_Biscuit) 4.1_oz_(117_g) │  430 │    240 │  27 │     12 │   30 │   1080 │    34 │      11 │    0 │    0 │       6 │   15 │\n",
      "│                 Sausage_Biscuit_with_Egg_(Large_Size_Biscuit) 6.2_oz_(177_g) │  570 │    330 │  37 │     15 │  250 │   1280 │    42 │      18 │   10 │    0 │      10 │   20 │\n",
      "│               Sausage_Biscuit_with_Egg_(Regular_Size_Biscuit) 5.7_oz_(163_g) │  510 │    290 │  33 │     14 │  250 │   1170 │    36 │      18 │    6 │    0 │      10 │   20 │\n",
      "│          Sausage_Biscuit_with_Egg_Whites_(Large_Size_Biscuit) 6.4_oz_(181_g) │  520 │    280 │  32 │     13 │   35 │   1290 │    40 │      18 │    4 │    0 │       8 │   15 │\n",
      "│        Sausage_Biscuit_with_Egg_Whites_(Regular_Size_Biscuit) 5.9_oz_(167_g) │  460 │    250 │  27 │     12 │   35 │   1180 │    34 │      18 │    0 │    0 │       8 │   15 │\n",
      "│                                               Sausage_Burrito 3.9_oz_(111_g) │  300 │    150 │  16 │      7 │  115 │    790 │    26 │      12 │   10 │    2 │      15 │   15 │\n",
      "│                                              Sausage_McGriddles 5_oz_(141_g) │  420 │    200 │  22 │      8 │   35 │   1030 │    44 │      11 │    0 │    0 │       8 │   10 │\n",
      "│                                              Sausage_McMuffin 3.9_oz_(110_g) │  360 │    200 │  22 │      8 │   45 │    780 │    29 │      14 │    6 │    0 │      20 │   10 │\n",
      "│                                     Sausage_McMuffin_with_Egg 5.6_oz_(160_g) │  440 │    240 │  27 │     10 │  285 │    850 │    30 │      21 │   10 │    0 │      30 │   15 │\n",
      "│                              Sausage_McMuffin_with_Egg_Whites 5.6_oz_(159_g) │  390 │    200 │  22 │      8 │   50 │    870 │    30 │      21 │    4 │    0 │      25 │   10 │\n",
      "│                                                     Side_Salad 3.1_oz_(87_g) │   20 │      0 │   0 │      0 │    0 │     10 │     4 │       1 │   45 │   25 │       2 │    4 │\n",
      "│                                             Small_French_Fries 2.5_oz_(71_g) │  230 │    100 │  11 │      1 │    0 │    160 │    29 │       3 │    0 │    8 │       2 │    4 │\n",
      "│                              Snack_Size_Holiday_Mint_McFlurry 6.9_oz_(196_g) │  380 │    130 │  14 │     10 │   30 │    110 │    56 │       8 │   10 │    0 │      30 │    0 │\n",
      "│                        Snack_Size_McFlurry_with_M&M'S_Candies 7.3_oz_(207_g) │  430 │    140 │  15 │     10 │   35 │    120 │    64 │       9 │   10 │    0 │      30 │    4 │\n",
      "│                         Snack_Size_McFlurry_with_OREO_Cookies 6.7_oz_(190_g) │  340 │    100 │  11 │      6 │   30 │    190 │    53 │       8 │   10 │    0 │      25 │    6 │\n",
      "│           Snack_Size_McFlurry_with_Reese's_Peanut_Butter_Cup_ 7.1_oz_(202_g) │  410 │    150 │  16 │      8 │   30 │    200 │    57 │      10 │   10 │    0 │      30 │    4 │\n",
      "│                                 Snack_Size_McFlurry_with_Rolo 8.4_oz_(238_g) │  510 │    140 │  16 │     10 │   40 │    190 │    84 │      10 │   10 │    0 │      35 │    2 │\n",
      "│           Southern_Style_Chicken_Biscuit_(Large_Size_Biscuit) 5.5_oz_(157_g) │  470 │    220 │  24 │      9 │   30 │   1290 │    46 │      17 │    4 │    2 │       8 │   15 │\n",
      "│           Southern_Style_Chicken_Biscuit_(Regular_Size_Biscuit) 5_oz_(143_g) │  410 │    180 │  20 │      8 │   30 │   1180 │    41 │      17 │    0 │    2 │       6 │   15 │\n",
      "│                        Southern_Style_Crispy_Chicken_Sandwich 5.6_oz_(159_g) │  420 │    170 │  19 │      3 │   45 │    900 │    43 │      21 │    2 │    2 │      15 │   15 │\n",
      "│                                            Spicy_Buffalo_Sauce 0.8_oz_(22_g) │   35 │     30 │   3 │      0 │    0 │    540 │     1 │       0 │    6 │    0 │       0 │    0 │\n",
      "│                           Spicy_Chicken_McBites_Shareable_Size 10_oz_(284_g) │  910 │    500 │  55 │     10 │  120 │   1990 │    61 │      46 │   15 │    4 │      10 │   10 │\n",
      "│                                 Spicy_Chicken_McBites_Snack_Size 3_oz_(85_g) │  270 │    150 │  17 │      3 │   35 │    600 │    18 │      14 │    4 │    0 │       2 │    2 │\n",
      "│                                                  Sprite_(Child) 12_fl_oz_cup │  100 │      0 │   0 │      0 │    0 │     25 │    27 │       0 │    0 │    0 │       0 │    0 │\n",
      "│                                                  Sprite_(Large) 30_fl_oz_cup │  280 │      0 │   0 │      0 │    0 │     60 │    74 │       0 │    0 │    0 │       0 │    0 │\n",
      "│                                                 Sprite_(Medium) 21_fl_oz_cup │  200 │      0 │   0 │      0 │    0 │     45 │    54 │       0 │    0 │    0 │       0 │    0 │\n",
      "│                                                  Sprite_(Small) 16_fl_oz_cup │  140 │      0 │   0 │      0 │    0 │     30 │    37 │       0 │    0 │    0 │       0 │    0 │\n",
      "│                                     Steak,_Egg_&_Cheese_Bagel 8.6_oz_(243_g) │  680 │    320 │  35 │     13 │  300 │   1520 │    57 │      33 │   20 │    4 │      25 │   25 │\n",
      "│                         Steak_&_Egg_Biscuit_(Regular_Biscuit) 7.1_oz_(201_g) │  540 │    290 │  32 │     16 │  280 │   1470 │    38 │      25 │   10 │    2 │      20 │   25 │\n",
      "│                                          Steak_&_Egg_McMuffin 6.5_oz_(184_g) │  420 │    200 │  23 │      9 │  300 │    950 │    31 │      26 │   10 │    2 │      30 │   20 │\n",
      "│                              Strawberry_Banana_Smoothie_(Large) 22_fl_oz_cup │  330 │     10 │   1 │      0 │    5 │     80 │    74 │       5 │    0 │   45 │      10 │    4 │\n",
      "│                             Strawberry_Banana_Smoothie_(Medium) 16_fl_oz_cup │  250 │      5 │   1 │      0 │    5 │     60 │    58 │       4 │    0 │   35 │       8 │    4 │\n",
      "│                              Strawberry_Banana_Smoothie_(Small) 12_fl_oz_cup │  210 │      5 │   0 │      0 │    5 │     50 │    47 │       3 │    0 │   30 │       8 │    2 │\n",
      "│                              Strawberry_McCafe_Shake_(12_fl_oz_cup) 12_fl_oz │  550 │    150 │  16 │     10 │   60 │    160 │    90 │      12 │   20 │    0 │      40 │    0 │\n",
      "│                              Strawberry_McCafe_Shake_(16_fl_oz_cup) 16_fl_oz │  690 │    180 │  20 │     13 │   75 │    210 │   114 │      15 │   25 │    0 │      50 │    0 │\n",
      "│                              Strawberry_McCafe_Shake_(22_fl_oz_cup) 22_fl_oz │  850 │    210 │  24 │     15 │   90 │    260 │   140 │      18 │   30 │    0 │      70 │    0 │\n",
      "│                                           Strawberry_Preserves 0.5_oz_(14_g) │   35 │      0 │   0 │      0 │    0 │      0 │     9 │       0 │    0 │    4 │       0 │    0 │\n",
      "│                                             Strawberry_Sundae 6.3_oz_(178_g) │  280 │     60 │   6 │      4 │   25 │     85 │    49 │       6 │    8 │    4 │      20 │    0 │\n",
      "│                                                   Sugar_Packet 1_pkg_(4.0_g) │   15 │      0 │   0 │      0 │    0 │      0 │     4 │       0 │    0 │    0 │       0 │    0 │\n",
      "│                                             Sweet_'N_Sour_Sauce 1_pkg_(28_g) │   50 │      0 │   0 │      0 │    0 │    150 │    12 │       0 │    2 │    0 │       0 │    0 │\n",
      "│                                               Sweet_Tea_(Child) 12_fl_oz_cup │  110 │      0 │   0 │      0 │    0 │      5 │    27 │       0 │    0 │    0 │       0 │    0 │\n",
      "│                                               Sweet_Tea_(Large) 30_fl_oz_cup │  220 │      0 │   0 │      0 │    0 │     10 │    54 │       1 │    0 │    0 │       0 │    0 │\n",
      "│                                              Sweet_Tea_(Medium) 21_fl_oz_cup │  180 │      0 │   0 │      0 │    0 │     10 │    45 │       1 │    0 │    0 │       0 │    0 │\n",
      "│                                               Sweet_Tea_(Small) 16_fl_oz_cup │  150 │      0 │   0 │      0 │    0 │     10 │    36 │       1 │    0 │    0 │       0 │    0 │\n",
      "│                                            Tangy_Barbeque_Sauce 1_pkg_(28_g) │   50 │      0 │   0 │      0 │    0 │    260 │    12 │       0 │    2 │    0 │       0 │    0 │\n",
      "│                                                 Tartar_Sauce_Cup 1_oz_(28_g) │  140 │    130 │  15 │      2 │   10 │    150 │     0 │       0 │    0 │    0 │       2 │    2 │\n",
      "│                                 Vanilla_McCafe_Shake_(12_fl_oz_cup) 12_fl_oz │  530 │    140 │  15 │     10 │   60 │    160 │    86 │      11 │   20 │    0 │      40 │    0 │\n",
      "│                                 Vanilla_McCafe_Shake_(16_fl_oz_cup) 16_fl_oz │  660 │    170 │  19 │     12 │   75 │    200 │   109 │      14 │   25 │    0 │      50 │    0 │\n",
      "│                                 Vanilla_McCafe_Shake_(22_fl_oz_cup) 22_fl_oz │  820 │    210 │  23 │     15 │   90 │    260 │   135 │      18 │   30 │    0 │      60 │    0 │\n",
      "│                            Vanilla_Reduced_Fat_Ice_Cream_Cone 3.7_oz_(105_g) │  170 │     40 │   4 │      3 │   15 │     70 │    27 │       5 │    6 │    0 │      15 │    2 │\n",
      "│                                        Whipped_Margarine_(1_pat) 1_pkg_(6_g) │   40 │     40 │   4 │      1 │    0 │     55 │     0 │       0 │    4 │    0 │       0 │    0 │\n",
      "└──────────────────────────────────────────────────────────────────────────────┴──────┴────────┴─────┴────────┴──────┴────────┴───────┴─────────┴──────┴──────┴─────────┴──────┘\n"
     ]
    }
   ],
   "source": [
    "using PrettyTables\n",
    "\n",
    "# Assuming diet_data is your data matrix and the first row contains column names\n",
    "pretty_table(diet_data[2:end, :], header=diet_data[1, :], display_size=(20, 120))\n"
   ]
  },
  {
   "cell_type": "markdown",
   "metadata": {},
   "source": [
    "Canonical form of optimization problem:\n",
    "\\begin{align}\n",
    "\\text{minimize}\\qquad & c^\\top x\\\\\n",
    "\\text{subject to} \\qquad & b_i - a_i^\\top x \\leq 0\\\\\n",
    "\\qquad & - x_k \\leq 0, \\quad k = 1,\\dots n_{food}\n",
    "\\end{align}"
   ]
  },
  {
   "cell_type": "code",
   "execution_count": 10,
   "metadata": {
    "ExecuteTime": {
     "end_time": "2021-11-26T16:25:33.330000+01:00",
     "start_time": "2021-11-26T15:25:33.315Z"
    }
   },
   "outputs": [],
   "source": [
    "# Create vectors that store the functions, gradients and hessian matrices for all contraints\n",
    "c = Vector(undef, Nnutrients+Nproducts)\n",
    "dc = Vector(undef, Nnutrients+Nproducts)\n",
    "Hc = Vector(undef, Nnutrients+Nproducts)\n",
    "\n",
    "# ===============================================================================\n",
    "# Fill the vectors c, dc and Hc\n",
    "# Mind that you have to bring the optimization problem to the canonical form (g_j(x) < 0) in order to be able to \n",
    "# use the implemented interior point method\n",
    "# Hint: Each element of the vectors is a function. You might want to use anonymous functions here.\n",
    "for i in 1:Nnutrients\n",
    "    c[i] = x -> nutrients_required[i] - sum(nutrients_provided[:,i].*x) \n",
    "    # or c[i] = function (x) nutrients_required[i] - sum(nutrients_provided[:,i].*x) end\n",
    "    dc[i] = x -> -nutrients_provided[:,i]\n",
    "    Hc[i] = x -> zeros(Nproducts, Nproducts)\n",
    "end\n",
    "\n",
    "for i in 1:Nproducts # allow only positive quantities for the products\n",
    "    c[Nnutrients+i] = x -> -x[i]\n",
    "    dc[Nnutrients+i] = x -> begin d = zeros(Nproducts); d[i] = -1; return d end\n",
    "    Hc[Nnutrients+i] = x -> zeros(Nproducts, Nproducts)\n",
    "end\n",
    "# ==============================================================================="
   ]
  },
  {
   "cell_type": "code",
   "execution_count": 11,
   "metadata": {
    "ExecuteTime": {
     "end_time": "2021-11-26T16:25:53.496000+01:00",
     "start_time": "2021-11-26T15:25:53.492Z"
    }
   },
   "outputs": [
    {
     "data": {
      "text/plain": [
       "Hf (generic function with 1 method)"
      ]
     },
     "execution_count": 11,
     "metadata": {},
     "output_type": "execute_result"
    }
   ],
   "source": [
    "# ===============================================================================\n",
    "# Implement the objective function, its gradient and Hessian\n",
    "f(x) = cal' * x # or LA.dot(cal,x)\n",
    "df(x) = cal\n",
    "Hf(x) = zeros(Nproducts, Nproducts)\n",
    "# ==============================================================================="
   ]
  },
  {
   "cell_type": "markdown",
   "metadata": {},
   "source": [
    "## This block takes a long time to run. \n",
    "1. So either don't run this cell during the live session and run directly the next cell\n",
    "2. Or directly run the next cell to load the results\n"
   ]
  },
  {
   "cell_type": "code",
   "execution_count": 55,
   "metadata": {
    "ExecuteTime": {
     "end_time": "2021-11-26T13:30:05.464000+01:00",
     "start_time": "2021-11-26T12:28:17.589Z"
    }
   },
   "outputs": [],
   "source": [
    "# # intialize starting point with large values in order to make sure to be within the feasible set\n",
    "# x0 = 100000*ones(Nproducts);\n",
    "\n",
    "# # Compute the solution\n",
    "# amount, trace = ipm(f, df, Hf,x0; g=c, dg=dc, Hg=Hc, initial_barrier = 1.0, barrier_increase = 2.0,\n",
    "#              maxiters=100, inner_maxiters=100,\n",
    "#              ls=true, eps=0.0001);\n",
    "# println(\"Number of outer iterations: \", size(trace,2))\n",
    "\n",
    "# ##\n",
    "# open(\"McDonalds_results.csv\", \"w\") do io\n",
    "#     DF.writedlm(io, [vcat(amount, zeros(1)) trace], ',')\n",
    "# end"
   ]
  },
  {
   "cell_type": "markdown",
   "metadata": {},
   "source": [
    "## Run this cell to directly load the results"
   ]
  },
  {
   "cell_type": "code",
   "execution_count": 69,
   "metadata": {},
   "outputs": [],
   "source": [
    "# Read the CSV file\n",
    "results_data = DF.readdlm(\"McDonalds_results.csv\", ',')\n",
    "amount = results_data[1:end-1, 1];"
   ]
  },
  {
   "cell_type": "code",
   "execution_count": 70,
   "metadata": {
    "ExecuteTime": {
     "end_time": "2021-11-26T16:26:19.048000+01:00",
     "start_time": "2021-11-26T15:26:19.004Z"
    }
   },
   "outputs": [
    {
     "name": "stdout",
     "output_type": "stream",
     "text": [
      "Total Calories: \t\t1833.93\n",
      "┌───────────────────────────────────────────────────────────────────────┬────────┐\n",
      "│\u001b[1m                                                               Product \u001b[0m│\u001b[1m Amount \u001b[0m│\n",
      "├───────────────────────────────────────────────────────────────────────┼────────┤\n",
      "│                                        Coffee_Cream 0.4_fl_oz_(11_ml) │   0.92 │\n",
      "│                                      Hot_Habanero_Sauce 22_oz_(0.8_g) │   4.92 │\n",
      "│ Iced_Coffee_with_Sugar_Free_French_Vanilla_Syrup_(Large) 32_fl_oz_cup │   0.69 │\n",
      "│                                           Ketchup_Packet 1_pkg_(10_g) │  51.08 │\n",
      "│                                           Latte_(Small)_ 12_fl_oz_cup │   0.82 │\n",
      "│                                              Side_Salad 3.1_oz_(87_g) │  19.26 │\n",
      "│                                   Steak_&_Egg_McMuffin 6.5_oz_(184_g) │   0.66 │\n",
      "└───────────────────────────────────────────────────────────────────────┴────────┘\n"
     ]
    }
   ],
   "source": [
    "# Print the solutions\n",
    "solutions = Vector{Int}()\n",
    "\n",
    "\n",
    "for i in 1:Nproducts\n",
    "    if amount[i] > 0.0001\n",
    "        append!(solutions,i)\n",
    "    end\n",
    "end\n",
    "\n",
    "println(\"Total Calories: \\t\\t\", round(f(amount),digits = 2))\n",
    "ttable = hcat(products[solutions],round.(amount[solutions],digits = 2))\n",
    "pretty_table(ttable, header = [\"Product\", \"Amount\"], display_size = (20,120))"
   ]
  },
  {
   "cell_type": "code",
   "execution_count": 71,
   "metadata": {
    "ExecuteTime": {
     "end_time": "2021-11-26T16:27:08.231000+01:00",
     "start_time": "2021-11-26T15:27:08.158Z"
    }
   },
   "outputs": [
    {
     "name": "stdout",
     "output_type": "stream",
     "text": [
      "┌────────────┬──────────┬──────────┐\n",
      "│\u001b[1m   Nutrient \u001b[0m│\u001b[1m Required \u001b[0m│\u001b[1m provided \u001b[0m│\n",
      "├────────────┼──────────┼──────────┤\n",
      "│     Fat[g] │       65 │     65.0 │\n",
      "│  SatFat[g] │       20 │     20.0 │\n",
      "│   Chol[mg] │      300 │    300.0 │\n",
      "│ Sodium[mg] │     2400 │  7012.07 │\n",
      "│   Carbo[g] │      300 │    300.0 │\n",
      "│ Protein[g] │       50 │     50.0 │\n",
      "│    VitA[%] │      100 │  987.854 │\n",
      "│    VitC[%] │      100 │  584.913 │\n",
      "│ Calcium[%] │      100 │    100.0 │\n",
      "│    Iron[%] │      100 │    100.0 │\n",
      "└────────────┴──────────┴──────────┘\n"
     ]
    }
   ],
   "source": [
    "# Check if requirements are fulfilled\n",
    "ttable = hcat(nutrients,nutrients_required)\n",
    "provided_nutrients = [sum(nutrients_provided[:,i].*amount[:]) for i in 1:Nnutrients]\n",
    "ttable = hcat(ttable, provided_nutrients);\n",
    "header = [\"Nutrient\", \"Required\", \"provided\"]\n",
    "pretty_table(ttable, header=header)"
   ]
  },
  {
   "cell_type": "code",
   "execution_count": 72,
   "metadata": {
    "ExecuteTime": {
     "end_time": "2021-11-26T17:14:57.690000+01:00",
     "start_time": "2021-11-26T16:14:57.398Z"
    }
   },
   "outputs": [
    {
     "name": "stdout",
     "output_type": "stream",
     "text": [
      "┌────────┬─────────────────┬──────────┬──────┬────────┬───────┬────────┬───────┬─────────┬───────┬───────┬─────────┬──────┐\n",
      "│\u001b[1m Amount \u001b[0m│\u001b[1m         Product \u001b[0m│\u001b[1m Calories \u001b[0m│\u001b[1m  Fat \u001b[0m│\u001b[1m SatFat \u001b[0m│\u001b[1m  Chol \u001b[0m│\u001b[1m Sodium \u001b[0m│\u001b[1m Carbo \u001b[0m│\u001b[1m Protein \u001b[0m│\u001b[1m  VitA \u001b[0m│\u001b[1m  VitC \u001b[0m│\u001b[1m Calcium \u001b[0m│\u001b[1m Iron \u001b[0m│\n",
      "├────────┼─────────────────┼──────────┼──────┼────────┼───────┼────────┼───────┼─────────┼───────┼───────┼─────────┼──────┤\n",
      "│    0.9 │ Coffee_Cream 0. │     18.4 │  1.8 │    0.9 │   9.2 │   13.8 │   0.0 │     0.0 │   1.8 │   0.0 │     1.8 │  0.0 │\n",
      "│    4.9 │ Hot_Habanero_Sa │    393.9 │ 34.5 │    4.9 │  49.2 │  886.2 │  24.6 │     4.9 │   0.0 │   0.0 │     9.8 │  9.8 │\n",
      "│    0.7 │ Iced_Coffee_wit │    110.9 │  6.2 │    4.2 │  24.3 │   93.5 │  12.5 │     1.4 │   4.2 │   0.0 │     5.5 │  0.0 │\n",
      "│   51.1 │ Ketchup_Packet  │    510.8 │  0.0 │    0.0 │   0.0 │ 5108.4 │ 153.3 │     0.0 │ 102.2 │ 102.2 │     0.0 │  0.0 │\n",
      "│    0.8 │ Latte_(Small)_  │    139.3 │  7.4 │    4.1 │  20.5 │   94.2 │  12.3 │     7.4 │   6.6 │   0.0 │    24.6 │  0.0 │\n",
      "│   19.3 │ Side_Salad 3.1_ │    385.1 │  0.0 │    0.0 │   0.0 │  192.6 │  77.0 │    19.3 │ 866.6 │ 481.4 │    38.5 │ 77.0 │\n",
      "│    0.7 │ Steak_&_Egg_McM │    275.6 │ 15.1 │    5.9 │ 196.9 │  623.4 │  20.3 │    17.1 │   6.6 │   1.3 │    19.7 │ 13.1 │\n",
      "└────────┴─────────────────┴──────────┴──────┴────────┴───────┴────────┴───────┴─────────┴───────┴───────┴─────────┴──────┘\n"
     ]
    }
   ],
   "source": [
    "# Check on nutrients in each product that is part of the solution\n",
    "ttable = hcat(round.(amount[solutions], digits = 1),first.(products[solutions], 15))\n",
    "ttable = hcat(ttable, round.(cal[solutions].*amount[solutions], digits = 1))\n",
    "ttable = hcat(ttable,round.(nutrients_provided[solutions,:].*amount[solutions], digits = 1))\n",
    "header = [\"Amount\", \"Product\", \"Calories\", \"Fat\", \"SatFat\", \"Chol\", \"Sodium\", \"Carbo\", \"Protein\", \"VitA\", \"VitC\", \"Calcium\", \"Iron\"];\n",
    "pretty_table(ttable,display_size = (20,120), header=header, crop = :none)"
   ]
  },
  {
   "cell_type": "code",
   "execution_count": null,
   "metadata": {},
   "outputs": [],
   "source": []
  }
 ],
 "metadata": {
  "kernelspec": {
   "display_name": "Julia 1.11.0",
   "language": "julia",
   "name": "julia-1.11"
  },
  "language_info": {
   "file_extension": ".jl",
   "mimetype": "application/julia",
   "name": "julia",
   "version": "1.11.0"
  },
  "toc": {
   "base_numbering": 1,
   "nav_menu": {},
   "number_sections": true,
   "sideBar": true,
   "skip_h1_title": false,
   "title_cell": "Table of Contents",
   "title_sidebar": "Contents",
   "toc_cell": false,
   "toc_position": {
    "height": "calc(100% - 180px)",
    "left": "10px",
    "top": "150px",
    "width": "253.167px"
   },
   "toc_section_display": true,
   "toc_window_display": true
  },
  "varInspector": {
   "cols": {
    "lenName": 16,
    "lenType": 16,
    "lenVar": 40
   },
   "kernels_config": {
    "python": {
     "delete_cmd_postfix": "",
     "delete_cmd_prefix": "del ",
     "library": "var_list.py",
     "varRefreshCmd": "print(var_dic_list())"
    },
    "r": {
     "delete_cmd_postfix": ") ",
     "delete_cmd_prefix": "rm(",
     "library": "var_list.r",
     "varRefreshCmd": "cat(var_dic_list()) "
    }
   },
   "types_to_exclude": [
    "module",
    "function",
    "builtin_function_or_method",
    "instance",
    "_Feature"
   ],
   "window_display": false
  }
 },
 "nbformat": 4,
 "nbformat_minor": 4
}
