{
 "cells": [
  {
   "cell_type": "code",
   "execution_count": 5,
   "metadata": {
    "ExecuteTime": {
     "end_time": "2020-11-05T17:31:01.127000+01:00",
     "start_time": "2020-11-05T16:30:55.665Z"
    }
   },
   "outputs": [
    {
     "data": {
      "text/plain": [
       "LinearAlgebra"
      ]
     },
     "execution_count": 5,
     "metadata": {},
     "output_type": "execute_result"
    }
   ],
   "source": [
    "using Plots\n",
    "import LinearAlgebra\n",
    "LA = LinearAlgebra"
   ]
  },
  {
   "cell_type": "markdown",
   "metadata": {},
   "source": [
    "# Exercise 2.2\n",
    "\n",
    "Find the inverse of matrix B"
   ]
  },
  {
   "cell_type": "code",
   "execution_count": 9,
   "metadata": {},
   "outputs": [
    {
     "data": {
      "text/plain": [
       "3×3 Matrix{Int64}:\n",
       " 2  0   2\n",
       " 2  0  -2\n",
       " 0  1   1"
      ]
     },
     "execution_count": 9,
     "metadata": {},
     "output_type": "execute_result"
    }
   ],
   "source": [
    "X = [2 0 2;\n",
    "     2 0 -2;\n",
    "     0 1 1]\n",
    "\n",
    "# ======================================================\n",
    "# Xinv = \n",
    "# ======================================================"
   ]
  },
  {
   "cell_type": "markdown",
   "metadata": {},
   "source": [
    "# Exercise 2.4\n",
    "Implement the backtracking line search algorithm."
   ]
  },
  {
   "cell_type": "code",
   "execution_count": null,
   "metadata": {
    "ExecuteTime": {
     "end_time": "2020-11-05T17:31:01.540000+01:00",
     "start_time": "2020-11-05T16:30:55.667Z"
    }
   },
   "outputs": [],
   "source": [
    "# f: objective function\n",
    "# df: gradient of the objective function\n",
    "# x: current point\n",
    "# d: step direction\n",
    "# p: step size reduction p∈(0,1)\n",
    "# beta: minimum downward slope is -beta*df(x)\n",
    "\n",
    "function linesearch(f, df, x, d; p=0.8, beta = 1.0*10^-4)\n",
    "    \n",
    "    alpha = 1.0 # initialize step length factor\n",
    "    \n",
    "    # Implement the while loop where alpha is reduced using the Armijo Condition as stopping criterion.\n",
    "    # ======================================================\n",
    "    # while ...\n",
    "    #    do something\n",
    "    # end\n",
    "    # ======================================================\n",
    "    \n",
    "    return alpha\n",
    "end;"
   ]
  },
  {
   "cell_type": "markdown",
   "metadata": {},
   "source": [
    "# Exercise 2.5\n",
    "Implement the gradient descent algorithm"
   ]
  },
  {
   "cell_type": "code",
   "execution_count": null,
   "metadata": {
    "ExecuteTime": {
     "end_time": "2020-11-05T17:31:01.996000+01:00",
     "start_time": "2020-11-05T16:30:55.668Z"
    }
   },
   "outputs": [],
   "source": [
    "# f: objective function\n",
    "# df: gradient of the objective function\n",
    "# x0: initial point\n",
    "# eps: stopping criterion on the norm of the gradient\n",
    "# maxiters: max numbers of gradient descent steps\n",
    "\n",
    "function gradient_descent(f, df, x0; eps=0.0001, maxiters = 1000)\n",
    "    x = copy(x0) # Make a copy of initial point to prevent changing x0 by manipulating x\n",
    "    trace = [x; f(x)] # Store initial point and evaluated function at initial point\n",
    "    \n",
    "    for _=1:maxiters\n",
    "        \n",
    "        # ======================================================\n",
    "        # 1. Evaluate the gradient to get the descent step direction at the point x.\n",
    "        # 2. Check if the norm \"LA.norm(...)\" of the gradient is close enough to zero (precision eps).\n",
    "        #    If yes then break from the loop.\n",
    "        # 3. Use linesearch to refine the step length.\n",
    "        # 4. Take the step and update x.\n",
    "        # ======================================================\n",
    "\n",
    "        trace = hcat(trace,[x; f(x)]) # Append the new location to the trace\n",
    "        @assert trace[end,end] <= trace[end,end-1] # Assert that the function value did not increase\n",
    "    end\n",
    "    return x,trace\n",
    "end;"
   ]
  },
  {
   "cell_type": "markdown",
   "metadata": {},
   "source": [
    "# Exercise 2.6\n",
    "\n",
    "Test your implementation at the _marathon training example_ treated in lectures 1 and 2.\n",
    "\n",
    "Use gradient descent in combination with backtracking line search to fit a linear model to the data from a training for a marathon."
   ]
  },
  {
   "cell_type": "markdown",
   "metadata": {
    "ExecuteTime": {
     "end_time": "2020-10-22T11:42:54.019000+02:00",
     "start_time": "2020-10-22T09:42:53.603Z"
    }
   },
   "source": [
    "<img src=\"figures/laufbahn.jpeg\" width=\"350\">\n",
    "\n",
    "We train for a Marathon and measure the covered distance every 10 min. We train only for 2 hours to spare our strength for the contest. How long would we run in a real Marathon?\n",
    "\n",
    "In this example we assume that we run at an average constant velocity $v$, i.e., the covered distance $d$ scales linearly with time $t$:\n",
    "\\begin{equation}\n",
    "    p(t) = vt\n",
    "\\end{equation}"
   ]
  },
  {
   "cell_type": "code",
   "execution_count": null,
   "metadata": {
    "ExecuteTime": {
     "end_time": "2020-11-05T17:31:01.998000+01:00",
     "start_time": "2020-11-05T16:30:55.670Z"
    }
   },
   "outputs": [],
   "source": [
    "# Given Dataset\n",
    "T = [10, 20, 30, 40, 50, 60, 70, 80, 90, 100, 110, 120] # Time durations in minutes\n",
    "D = [1.88, 4.47, 5.63, 8.13, 8.54, 11.23, 12.27, 14.23, 15.50, 16.93, 18.69, 21.31]; # Distances in kilometers"
   ]
  },
  {
   "cell_type": "code",
   "execution_count": null,
   "metadata": {
    "ExecuteTime": {
     "end_time": "2020-11-05T17:31:02.461000+01:00",
     "start_time": "2020-11-05T16:30:55.673Z"
    }
   },
   "outputs": [],
   "source": [
    "# Linear model with parameters t (time) and v (speed / velocity).\n",
    "# This returns an array of predictions if the first argument is a vector.\n",
    "function m(t,v)\n",
    "    # The times are measured in minutes.\n",
    "    # We convert unit to hours by dividing by 60.\n",
    "    # So the speed has units of km/h\n",
    "    return t*(v/60)\n",
    "end"
   ]
  },
  {
   "cell_type": "code",
   "execution_count": null,
   "metadata": {
    "ExecuteTime": {
     "end_time": "2020-11-05T17:31:05.494000+01:00",
     "start_time": "2020-11-05T16:30:55.675Z"
    }
   },
   "outputs": [],
   "source": [
    "# Test different values for the velocity to see which one fits best!\n",
    "# ===============================================\n",
    "v = 15\n",
    "# ===============================================\n",
    "\n",
    "# Plot data and model prediction\n",
    "scatter(T, D, label=\"Measurement\", xlabel=\"t\", ylabel=\"d\") # Data plot\n",
    "plot!(T, m(T,v), label=\"Linear Prediction\")                # Add model prediction to the previous plot"
   ]
  },
  {
   "cell_type": "markdown",
   "metadata": {},
   "source": [
    "The loss function quantifying the deviation between data  $D = \\{(t_{1}, d_{1}), (t_{2}, d_{2}),\\dots\\, (t_{n}, d_{n})\\} $ and model $m(t_i,v)$ can be defined as:\n",
    "\\begin{equation}\n",
    "l(v) = \\frac{1}{n}\\sum_{i = 1}^n \\big( d_{i} - m(t_{i},v) \\big)^2 \n",
    "\\end{equation}\n",
    "For a given dataset the loss function only depends on the model parameters, in our case the velocity $v$."
   ]
  },
  {
   "cell_type": "code",
   "execution_count": null,
   "metadata": {
    "ExecuteTime": {
     "end_time": "2020-11-05T17:31:05.569000+01:00",
     "start_time": "2020-11-05T16:30:55.680Z"
    }
   },
   "outputs": [],
   "source": [
    "# Define the loss function\n",
    "# ===============================================\n",
    "# loss(v) = ...\n",
    "# ===============================================\n",
    "\n",
    "# Define the derivative of the loss function with respect to the velocity v\n",
    "# ===============================================\n",
    "# dloss(v) = ...\n",
    "# ==============================================="
   ]
  },
  {
   "cell_type": "code",
   "execution_count": null,
   "metadata": {
    "ExecuteTime": {
     "end_time": "2020-11-05T17:31:06.452000+01:00",
     "start_time": "2020-11-05T16:30:55.682Z"
    }
   },
   "outputs": [],
   "source": [
    "# Plot values between 8 and 15 for the velocity\n",
    "\n",
    "N = 20 # Number of elements for which to test\n",
    "Vtest  = range(8, 15, length = N)\n",
    "Ltest  = [loss(v) for v in Vtest]\n",
    "dLtest = [dloss(v) for v in Vtest]\n",
    "\n",
    "plot(Vtest, Ltest, label=\"l\", xlabel=\"v\")\n",
    "plot!(Vtest, dLtest, label=\"dl\")"
   ]
  },
  {
   "cell_type": "code",
   "execution_count": null,
   "metadata": {
    "ExecuteTime": {
     "end_time": "2020-11-05T17:31:07.107000+01:00",
     "start_time": "2020-11-05T16:30:55.684Z"
    }
   },
   "outputs": [],
   "source": [
    "# Minimize the loss to find the best-fitting velocity\n",
    "\n",
    "v0 = 2.0 # Starting point\n",
    "result,trace = gradient_descent(loss, dloss, v0)\n",
    "duration_rounded = round(42/result, digits = 2)\n",
    "\n",
    "println(\"Optimal velocity [km/h]: \", result)\n",
    "println(\"Optimal loss: \", trace[end,end])\n",
    "println(\"Number of Gradient Steps: \", size(trace,2))\n",
    "println(\"A full marathon of 42 km would take \", duration_rounded, \" hours\")"
   ]
  }
 ],
 "metadata": {
  "kernelspec": {
   "display_name": "Julia 1.11.0",
   "language": "julia",
   "name": "julia-1.11"
  },
  "language_info": {
   "file_extension": ".jl",
   "mimetype": "application/julia",
   "name": "julia",
   "version": "1.11.0"
  },
  "toc": {
   "base_numbering": 1,
   "nav_menu": {},
   "number_sections": true,
   "sideBar": true,
   "skip_h1_title": false,
   "title_cell": "Table of Contents",
   "title_sidebar": "Contents",
   "toc_cell": false,
   "toc_position": {},
   "toc_section_display": true,
   "toc_window_display": false
  },
  "varInspector": {
   "cols": {
    "lenName": 16,
    "lenType": 16,
    "lenVar": 40
   },
   "kernels_config": {
    "python": {
     "delete_cmd_postfix": "",
     "delete_cmd_prefix": "del ",
     "library": "var_list.py",
     "varRefreshCmd": "print(var_dic_list())"
    },
    "r": {
     "delete_cmd_postfix": ") ",
     "delete_cmd_prefix": "rm(",
     "library": "var_list.r",
     "varRefreshCmd": "cat(var_dic_list()) "
    }
   },
   "types_to_exclude": [
    "module",
    "function",
    "builtin_function_or_method",
    "instance",
    "_Feature"
   ],
   "window_display": false
  }
 },
 "nbformat": 4,
 "nbformat_minor": 4
}
