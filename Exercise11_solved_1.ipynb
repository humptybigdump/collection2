{
 "cells": [
  {
   "cell_type": "code",
   "execution_count": null,
   "metadata": {
    "ExecuteTime": {
     "end_time": "2022-01-21T16:00:58.246000+01:00",
     "start_time": "2022-01-21T15:00:58.019Z"
    }
   },
   "outputs": [],
   "source": [
    "include(\"vector_spaces_library.jl\")\n",
    "include(\"mplstyle.jl\");\n",
    "import LinearAlgebra\n",
    "LA = LinearAlgebra;"
   ]
  },
  {
   "cell_type": "markdown",
   "metadata": {},
   "source": [
    "## Projection on a Subspace \n"
   ]
  },
  {
   "cell_type": "code",
   "execution_count": null,
   "metadata": {
    "ExecuteTime": {
     "end_time": "2022-01-21T16:00:59.190000+01:00",
     "start_time": "2022-01-21T15:00:59.108Z"
    }
   },
   "outputs": [],
   "source": [
    "v1 = [1.0,0.0,1.0]\n",
    "v2 = [1.0,1.0,1.0]\n",
    "v_basis = [v1,v2];"
   ]
  },
  {
   "cell_type": "code",
   "execution_count": null,
   "metadata": {
    "ExecuteTime": {
     "end_time": "2022-01-21T16:01:59.944000+01:00",
     "start_time": "2022-01-21T15:01:59.878Z"
    }
   },
   "outputs": [],
   "source": [
    "x = rand(3)"
   ]
  },
  {
   "cell_type": "code",
   "execution_count": null,
   "metadata": {
    "ExecuteTime": {
     "end_time": "2022-01-21T16:02:19.357000+01:00",
     "start_time": "2022-01-21T15:02:18.792Z"
    }
   },
   "outputs": [],
   "source": [
    "xstar = proj(P2,x,v_basis)"
   ]
  },
  {
   "cell_type": "code",
   "execution_count": null,
   "metadata": {
    "ExecuteTime": {
     "end_time": "2022-01-21T16:02:22.471000+01:00",
     "start_time": "2022-01-21T15:02:22.120Z"
    }
   },
   "outputs": [],
   "source": [
    "xstar2, coeff = proj_normal(P2,x,v_basis)"
   ]
  },
  {
   "cell_type": "code",
   "execution_count": null,
   "metadata": {
    "ExecuteTime": {
     "end_time": "2022-01-21T16:02:38.736000+01:00",
     "start_time": "2022-01-21T15:02:38.263Z"
    }
   },
   "outputs": [],
   "source": [
    "using3D()\n",
    "pygui(true);\n",
    "fig = figure(\"pyplot_surfaceplot\",figsize=(15,10))\n",
    "ax = fig.add_subplot(1,1,1,projection=\"3d\")\n",
    "\n",
    "ax[:scatter](v1[1], v1[2], v1[3], color=\"red\")\n",
    "ax[:plot]((v1[1],0), (v1[2],0),(v1[3],0), color=\"red\", zorder = 3)\n",
    "ax[:scatter](v2[1], v2[2], v2[3], color=\"red\")\n",
    "ax[:plot]((v2[1],0), (v2[2],0),(v2[3],0), color=\"red\", zorder = 3)\n",
    "\n",
    "ax[:scatter](x[1], x[2], x[3], color=\"green\")\n",
    "ax[:plot]((x[1],0), (x[2],0),(x[3],0), color=\"green\", zorder = 3)\n",
    "\n",
    "ax[:scatter](xstar[1], xstar[2], xstar[3], color=\"blue\")\n",
    "ax[:plot]((xstar[1],0), (xstar[2],0),(xstar[3],0), color=\"blue\", zorder = 3)"
   ]
  },
  {
   "cell_type": "markdown",
   "metadata": {},
   "source": [
    "# Exercise 11.3: Manufacturing Company"
   ]
  },
  {
   "cell_type": "code",
   "execution_count": null,
   "metadata": {
    "ExecuteTime": {
     "end_time": "2022-01-21T16:07:06.620000+01:00",
     "start_time": "2022-01-21T15:07:06.562Z"
    }
   },
   "outputs": [],
   "source": [
    "Q = Matrix(LA.I, 10, 10)\n",
    "A = vcat(ones(10)',[10 9 8 7 6 5 4 3 2 1])\n",
    "b = [0;10^4];"
   ]
  },
  {
   "cell_type": "code",
   "execution_count": null,
   "metadata": {
    "ExecuteTime": {
     "end_time": "2022-01-21T16:07:11.136000+01:00",
     "start_time": "2022-01-21T15:07:11.063Z"
    }
   },
   "outputs": [],
   "source": [
    "LQ = Val(:LQ) # Dispatch on the symbol LQ\n",
    "\n",
    "function dot(::Val{:LQ}, x, y)\n",
    "    return x' * Q * y\n",
    "end"
   ]
  },
  {
   "cell_type": "code",
   "execution_count": null,
   "metadata": {
    "ExecuteTime": {
     "end_time": "2022-01-21T16:07:49.159000+01:00",
     "start_time": "2022-01-21T15:07:48.431Z"
    }
   },
   "outputs": [],
   "source": [
    "# Take some x with Ax=b\n",
    "start = A \\ b\n",
    "\n",
    "# Compute a basis for the null space of A\n",
    "ns = LinearAlgebra.nullspace(A)\n",
    "null_basis = [ns[:,i] for i=1:8]\n",
    "\n",
    "# Project the start point on the subspace with Ax=0\n",
    "p, coeff = proj_normal(LQ, start, null_basis)\n",
    "\n",
    "# Move the start point but stay within the linear variety of Ax=b\n",
    "minimizer = start - p"
   ]
  },
  {
   "cell_type": "code",
   "execution_count": null,
   "metadata": {
    "ExecuteTime": {
     "end_time": "2022-01-21T16:08:17.188000+01:00",
     "start_time": "2022-01-21T15:08:17.133Z"
    }
   },
   "outputs": [],
   "source": [
    "# Norm of the result\n",
    "dot(LQ, minimizer, minimizer)"
   ]
  },
  {
   "cell_type": "code",
   "execution_count": null,
   "metadata": {
    "ExecuteTime": {
     "end_time": "2022-01-21T16:08:21.237000+01:00",
     "start_time": "2022-01-21T15:08:21.166Z"
    }
   },
   "outputs": [],
   "source": [
    "# Is the affine constraint fulfilled?\n",
    "@assert sum((A * minimizer .- b) .< 0.01) == length(b)"
   ]
  },
  {
   "cell_type": "markdown",
   "metadata": {},
   "source": [
    "# Exercise 11.4: Eigenfaces"
   ]
  },
  {
   "cell_type": "code",
   "execution_count": null,
   "metadata": {
    "ExecuteTime": {
     "end_time": "2022-01-21T16:10:51.281000+01:00",
     "start_time": "2022-01-21T15:10:51.188Z"
    }
   },
   "outputs": [],
   "source": [
    "import Images\n",
    "import Glob\n",
    "import ImageView\n",
    "\n",
    "# Force the pixel values on the interval [0,1]\n",
    "function clamp_px(val)\n",
    "    if val > 1.0\n",
    "        return 1.0\n",
    "    end\n",
    "    if val < 0.0\n",
    "        return 0.0\n",
    "    end\n",
    "    return val\n",
    "end\n"
   ]
  },
  {
   "cell_type": "code",
   "execution_count": null,
   "metadata": {
    "ExecuteTime": {
     "end_time": "2022-01-21T16:10:58.169000+01:00",
     "start_time": "2022-01-21T15:10:55.166Z"
    }
   },
   "outputs": [],
   "source": [
    "# Load the faces into the matrix F.\n",
    "# Every column is one face\n",
    "x = \"datasets/att_faces/s1/1.pgm\"\n",
    "faces = map(x->Images.load(x), Glob.glob(\"*/*.pgm\",\"datasets/att_faces\"))\n",
    "picsize = size(faces[1])\n",
    "F = zeros(picsize[1]*picsize[2], length(faces))\n",
    "for i = 1:length(faces)\n",
    "   F[:,i] = reshape(map(Float64, faces[i]), size(F,1))\n",
    "end"
   ]
  },
  {
   "cell_type": "code",
   "execution_count": null,
   "metadata": {
    "ExecuteTime": {
     "end_time": "2022-01-21T16:10:59.579000+01:00",
     "start_time": "2022-01-21T15:10:56.301Z"
    }
   },
   "outputs": [],
   "source": [
    "faces"
   ]
  },
  {
   "cell_type": "code",
   "execution_count": null,
   "metadata": {
    "ExecuteTime": {
     "end_time": "2022-01-21T16:11:38.472000+01:00",
     "start_time": "2022-01-21T15:11:37.940Z"
    }
   },
   "outputs": [],
   "source": [
    "# Subtract the average face to compute Fnormalized\n",
    "avg_face = zeros(picsize[1]*picsize[2])\n",
    "for i = 1:picsize[1]*picsize[2]\n",
    "   avg_face[i] = sum(F[i,:]) / length(faces)\n",
    "end\n",
    "Fnormalized = F .- avg_face\n",
    "Images.colorview(Images.Gray, reshape(avg_face, picsize))"
   ]
  },
  {
   "cell_type": "code",
   "execution_count": null,
   "metadata": {
    "ExecuteTime": {
     "end_time": "2022-01-21T16:15:19.585000+01:00",
     "start_time": "2022-01-21T15:15:19.291Z"
    }
   },
   "outputs": [],
   "source": [
    "# Compute the vector space of the first N eigenfaces\n",
    "# You don't have to understand this step to continue!\n",
    "N = 200\n",
    "AA = transpose(Fnormalized) * Fnormalized\n",
    "EV = LinearAlgebra.eigvecs(AA)\n",
    "eigenfaces = Fnormalized * EV[:,length(faces)-N+1:end]\n",
    "Images.colorview(Images.Gray, reshape(eigenfaces[:,end-2], picsize));"
   ]
  },
  {
   "cell_type": "code",
   "execution_count": null,
   "metadata": {
    "ExecuteTime": {
     "end_time": "2022-01-21T16:15:24.948000+01:00",
     "start_time": "2022-01-21T15:15:24.875Z"
    }
   },
   "outputs": [],
   "source": [
    "Images.colorview(Images.Gray, reshape(clamp_px.(eigenfaces[:,40] + avg_face), picsize))"
   ]
  },
  {
   "cell_type": "code",
   "execution_count": null,
   "metadata": {
    "ExecuteTime": {
     "end_time": "2022-01-21T16:15:28.175000+01:00",
     "start_time": "2022-01-21T15:15:27.623Z"
    }
   },
   "outputs": [],
   "source": [
    "f = rand(1:length(faces)) # face index\n",
    "face = Fnormalized[:,f]\n",
    "# =========================================================================================\n",
    "# Reconstruct the face at index f as a linar combination of the eigenfaces\n",
    "\n",
    "facespace = Vector(undef, size(eigenfaces,2))\n",
    "\n",
    "for i = 1:size(eigenfaces,2)\n",
    "   facespace[i] = eigenfaces[:,i]\n",
    "end\n",
    "\n",
    "projection, coeff = proj_normal(P2, face, facespace)\n",
    "# ========================================================================================="
   ]
  },
  {
   "cell_type": "code",
   "execution_count": null,
   "metadata": {
    "ExecuteTime": {
     "end_time": "2022-01-21T16:15:30.031000+01:00",
     "start_time": "2022-01-21T15:15:29.961Z"
    }
   },
   "outputs": [],
   "source": [
    "[faces[f] Images.colorview(Images.Gray, reshape(projection + avg_face, picsize))]"
   ]
  },
  {
   "cell_type": "code",
   "execution_count": null,
   "metadata": {},
   "outputs": [],
   "source": []
  }
 ],
 "metadata": {
  "kernelspec": {
   "display_name": "Julia 1.6.3",
   "language": "julia",
   "name": "julia-1.6"
  },
  "language_info": {
   "file_extension": ".jl",
   "mimetype": "application/julia",
   "name": "julia",
   "version": "1.6.3"
  },
  "toc": {
   "base_numbering": 1,
   "nav_menu": {},
   "number_sections": true,
   "sideBar": true,
   "skip_h1_title": false,
   "title_cell": "Table of Contents",
   "title_sidebar": "Contents",
   "toc_cell": false,
   "toc_position": {
    "height": "calc(100% - 180px)",
    "left": "10px",
    "top": "150px",
    "width": "352px"
   },
   "toc_section_display": true,
   "toc_window_display": true
  },
  "varInspector": {
   "cols": {
    "lenName": 16,
    "lenType": 16,
    "lenVar": 40
   },
   "kernels_config": {
    "python": {
     "delete_cmd_postfix": "",
     "delete_cmd_prefix": "del ",
     "library": "var_list.py",
     "varRefreshCmd": "print(var_dic_list())"
    },
    "r": {
     "delete_cmd_postfix": ") ",
     "delete_cmd_prefix": "rm(",
     "library": "var_list.r",
     "varRefreshCmd": "cat(var_dic_list()) "
    }
   },
   "types_to_exclude": [
    "module",
    "function",
    "builtin_function_or_method",
    "instance",
    "_Feature"
   ],
   "window_display": false
  }
 },
 "nbformat": 4,
 "nbformat_minor": 4
}
