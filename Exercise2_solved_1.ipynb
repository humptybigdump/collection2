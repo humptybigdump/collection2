{
 "cells": [
  {
   "cell_type": "code",
   "execution_count": 1,
   "metadata": {
    "ExecuteTime": {
     "end_time": "2021-11-12T18:06:39.523000+01:00",
     "start_time": "2021-11-12T17:06:25.232Z"
    }
   },
   "outputs": [],
   "source": [
    "import LinearAlgebra\n",
    "LA = LinearAlgebra\n",
    "\n",
    "include(\"mplstyle.jl\");"
   ]
  },
  {
   "cell_type": "markdown",
   "metadata": {},
   "source": [
    "# Exercise 2.1"
   ]
  },
  {
   "cell_type": "code",
   "execution_count": 2,
   "metadata": {
    "ExecuteTime": {
     "end_time": "2021-11-12T18:06:41.714000+01:00",
     "start_time": "2021-11-12T17:06:25.748Z"
    }
   },
   "outputs": [
    {
     "data": {
      "text/plain": [
       "3-element Vector{Int64}:\n",
       " 5\n",
       " 7\n",
       " 1"
      ]
     },
     "execution_count": 2,
     "metadata": {},
     "output_type": "execute_result"
    }
   ],
   "source": [
    "A = [1 2 3; 4 5 6; 7 8 9]\n",
    "x = [2; 4; 0]\n",
    "y = [5; 7; 1]"
   ]
  },
  {
   "cell_type": "code",
   "execution_count": 3,
   "metadata": {
    "ExecuteTime": {
     "end_time": "2021-11-12T18:06:42.174000+01:00",
     "start_time": "2021-11-12T17:06:26.010Z"
    }
   },
   "outputs": [
    {
     "data": {
      "text/plain": [
       "288"
      ]
     },
     "execution_count": 3,
     "metadata": {},
     "output_type": "execute_result"
    }
   ],
   "source": [
    "x'*A*y"
   ]
  },
  {
   "cell_type": "markdown",
   "metadata": {},
   "source": [
    "# Exercise 2.2\n",
    "\n",
    "Find the inverse of matrix B"
   ]
  },
  {
   "cell_type": "code",
   "execution_count": 4,
   "metadata": {
    "ExecuteTime": {
     "end_time": "2021-11-12T18:06:43.055000+01:00",
     "start_time": "2021-11-12T17:06:28.450Z"
    }
   },
   "outputs": [
    {
     "data": {
      "text/plain": [
       "3×3 Matrix{Int64}:\n",
       " 3  0   2\n",
       " 2  0  -2\n",
       " 0  1   1"
      ]
     },
     "execution_count": 4,
     "metadata": {},
     "output_type": "execute_result"
    }
   ],
   "source": [
    "B = [3 0 2; 2 0 -2; 0 1 1]"
   ]
  },
  {
   "cell_type": "code",
   "execution_count": 5,
   "metadata": {
    "ExecuteTime": {
     "end_time": "2021-11-12T18:06:44.425000+01:00",
     "start_time": "2021-11-12T17:06:29.129Z"
    }
   },
   "outputs": [
    {
     "data": {
      "text/plain": [
       "3×3 Matrix{Float64}:\n",
       "  0.2   0.2  -0.0\n",
       " -0.2   0.3   1.0\n",
       "  0.2  -0.3   0.0"
      ]
     },
     "execution_count": 5,
     "metadata": {},
     "output_type": "execute_result"
    }
   ],
   "source": [
    "B_inv = LA.inv(B)"
   ]
  },
  {
   "cell_type": "code",
   "execution_count": 6,
   "metadata": {
    "ExecuteTime": {
     "end_time": "2021-11-12T18:06:45.503000+01:00",
     "start_time": "2021-11-12T17:06:29.365Z"
    }
   },
   "outputs": [
    {
     "data": {
      "text/plain": [
       "3×3 Matrix{Float64}:\n",
       " 1.0  0.0  -5.55112e-17\n",
       " 0.0  1.0   0.0\n",
       " 0.0  0.0   1.0"
      ]
     },
     "execution_count": 6,
     "metadata": {},
     "output_type": "execute_result"
    }
   ],
   "source": [
    "B_inv * B"
   ]
  },
  {
   "cell_type": "code",
   "execution_count": 7,
   "metadata": {
    "ExecuteTime": {
     "end_time": "2021-11-12T18:06:45.513000+01:00",
     "start_time": "2021-11-12T17:06:29.540Z"
    }
   },
   "outputs": [
    {
     "data": {
      "text/plain": [
       "3×3 Matrix{Float64}:\n",
       "  0.2   0.2  -0.0\n",
       " -0.2   0.3   1.0\n",
       "  0.2  -0.3   0.0"
      ]
     },
     "execution_count": 7,
     "metadata": {},
     "output_type": "execute_result"
    }
   ],
   "source": [
    "B^-1"
   ]
  },
  {
   "cell_type": "markdown",
   "metadata": {},
   "source": [
    "# Exercise 2.3: Taylor Expansion"
   ]
  },
  {
   "cell_type": "code",
   "execution_count": 8,
   "metadata": {
    "ExecuteTime": {
     "end_time": "2021-11-12T18:06:59.224000+01:00",
     "start_time": "2021-11-12T17:06:58.667Z"
    }
   },
   "outputs": [
    {
     "data": {
      "text/plain": [
       "f_approx (generic function with 1 method)"
      ]
     },
     "execution_count": 8,
     "metadata": {},
     "output_type": "execute_result"
    }
   ],
   "source": [
    "f(x) = exp(0.1*x[1]) + log(x[2])\n",
    "\n",
    "∇f(x) = [0.1*exp(0.1*x[1]); 1/x[2]]\n",
    "H(x) = [0.01*exp(0.1*x[1]) 0;\n",
    "        0  -x[2]^(-2)]\n",
    "\n",
    "# Taylor approximation around the point a\n",
    "## x,a are supposed to be vectors\n",
    "f_approx(x,a) = f(a) + (x-a)'*∇f(a)+0.5*(x-a)'*H(a)*(x-a)"
   ]
  },
  {
   "cell_type": "code",
   "execution_count": 9,
   "metadata": {
    "ExecuteTime": {
     "end_time": "2021-11-12T18:07:48.973000+01:00",
     "start_time": "2021-11-12T17:07:48.970Z"
    }
   },
   "outputs": [
    {
     "data": {
      "text/plain": [
       "f_approx_a (generic function with 1 method)"
      ]
     },
     "execution_count": 9,
     "metadata": {},
     "output_type": "execute_result"
    }
   ],
   "source": [
    "# result of analytical Taylor approximation around the point a = [0; 1]\n",
    "f_approx_a(x) = 0.005*x[1]^2 - 0.5* x[2]^2 + 0.1*x[1] + 2*x[2] - 0.5"
   ]
  },
  {
   "cell_type": "code",
   "execution_count": 10,
   "metadata": {
    "ExecuteTime": {
     "end_time": "2021-11-12T18:07:49.843000+01:00",
     "start_time": "2021-11-12T17:07:49.833Z"
    }
   },
   "outputs": [],
   "source": [
    "# Test if analytical solution agrees with the more generic definition of the Taylor approximation\n",
    "a = [0; 1]\n",
    "x0 = [10; 5]\n",
    "@assert f_approx(x0,a) - f_approx_a(x0) < 0.01"
   ]
  },
  {
   "cell_type": "code",
   "execution_count": 11,
   "metadata": {
    "ExecuteTime": {
     "end_time": "2021-11-12T18:07:52.573000+01:00",
     "start_time": "2021-11-12T17:07:52.273Z"
    }
   },
   "outputs": [
    {
     "data": {
      "text/plain": [
       "PyObject Text(0.5, 1.0, 'Surface Plot')"
      ]
     },
     "execution_count": 11,
     "metadata": {},
     "output_type": "execute_result"
    }
   ],
   "source": [
    "# create points for which the functions will be plotted\n",
    "\n",
    "n = 30 # number of points per dimension\n",
    "\n",
    "x1_plot = range(-1, 1, length = n)\n",
    "x2_plot = range(0.1, 2, length = n)\n",
    "\n",
    "f_plot = [f([x1,x2]) for x1 = x1_plot, x2 = x2_plot]\n",
    "f_approx_plot = [f_approx([x1,x2],a) for x1 = x1_plot, x2 = x2_plot]\n",
    "\n",
    "# create grid points\n",
    "xgrid = repeat(x1_plot',n,1)\n",
    "ygrid = repeat(x2_plot,1,n)\n",
    "\n",
    "# allow window to open for interactions\n",
    "using3D()\n",
    "pygui(true);\n",
    "fig = figure(\"pyplot_surfaceplot\",figsize=(15,10))\n",
    "ax = fig.add_subplot(1,1,1,projection=\"3d\")\n",
    "\n",
    "plot_surface(xgrid, ygrid, f_plot, rstride=2,edgecolors=\"k\", cstride=2, cmap=ColorMap(\"gray\"), alpha=0.7, linewidth=0.25)\n",
    "scatter3D(a[1],a[2],f(a), color = \"black\", s = 50, zorder = 3)\n",
    "plot_surface(xgrid, ygrid, f_approx_plot, rstride=2,edgecolors=\"k\", cstride=2, alpha=0.7, linewidth=0.25)\n",
    "\n",
    "xlabel(L\"x_1\")\n",
    "ylabel(L\"x_2\")\n",
    "zlabel(L\"f(x_1,x_2)\")\n",
    "title(\"Surface Plot\")"
   ]
  },
  {
   "cell_type": "markdown",
   "metadata": {},
   "source": [
    "# Exercise 2.4\n",
    "Implement the backtracking line search algorithm."
   ]
  },
  {
   "cell_type": "code",
   "execution_count": 22,
   "metadata": {
    "ExecuteTime": {
     "end_time": "2021-11-05T17:12:31.536000+01:00",
     "start_time": "2021-11-05T16:12:17.070Z"
    }
   },
   "outputs": [],
   "source": [
    "# f: objective function\n",
    "# ∇f: gradient of the objective function\n",
    "# x: current point\n",
    "# d: step direction\n",
    "# p: step size reduction p∈(0,1)\n",
    "# β: minimum downward slope is -β∇f(x)\n",
    "\n",
    "function linesearch(f, ∇f, x, d; p=0.5, β = 1.0*10^-4)\n",
    "    # initialize step length factor\n",
    "    α = 1.0   \n",
    "    \n",
    "    # ======================================================\n",
    "    # implement the while loop where α is reduced by p using the Armijo Condition as stopping criterion\n",
    "    \n",
    "    # update step length until Armijo Condition is fulfilled\n",
    "    while f(x + α*d) >  f(x) + β * ∇f(x)' * (α*d)\n",
    "        α = α*p\n",
    "    end\n",
    "    # ======================================================\n",
    "    \n",
    "    return α\n",
    "end;"
   ]
  },
  {
   "cell_type": "markdown",
   "metadata": {},
   "source": [
    "# Exercise 2.5\n",
    "Implement the gradient descent algorithm"
   ]
  },
  {
   "cell_type": "code",
   "execution_count": 23,
   "metadata": {
    "ExecuteTime": {
     "end_time": "2021-11-05T17:12:31.536000+01:00",
     "start_time": "2021-11-05T16:12:17.072Z"
    }
   },
   "outputs": [],
   "source": [
    "# f: objective function\n",
    "# ∇f: gradient of the objective function\n",
    "# x0: initial point\n",
    "# ε: stopping criterion on the norm of the gradient\n",
    "# maxiters: max numbers of gradient descent steps\n",
    "\n",
    "function gradient_descent(f, ∇f, x0; ϵ=0.0001, maxiters = 1000, p = 0.5)\n",
    "    # make a copy of initial point to prevent changing x0 by manipulating x\n",
    "    x = copy(x0)\n",
    "    \n",
    "    # store initial point and evaluated function at initial point \n",
    "    trace = [x; f(x)]\n",
    "    for _=1:maxiters\n",
    "        \n",
    "        # ======================================================\n",
    "        # 1. evaluate the descent step direction at the point x\n",
    "        d = -∇f(x)\n",
    "        # 2. check if norm of the gradient is close enough to zero (use precision of ϵ). If yes break from the\n",
    "        #    loop.\n",
    "        if LA.norm(d) < ϵ\n",
    "            break\n",
    "        end\n",
    "        # 3. Evaluate the next point x by stepping into the descent direction.\n",
    "        #    Use the result of the backtracking linesearch to guarantee convergence.\n",
    "        x += linesearch(f, ∇f, x, d, p = p) * d\n",
    "        \n",
    "        # ======================================================\n",
    "        \n",
    "        trace = hcat(trace,[x; f(x)])\n",
    "        \n",
    "        # check if the function value became smaller\n",
    "        @assert trace[end,end] <= trace[end,end-1]\n",
    "    end\n",
    "    return x,trace\n",
    "end;"
   ]
  },
  {
   "cell_type": "markdown",
   "metadata": {},
   "source": [
    "# Exercise 2.6\n",
    "\n",
    "Test your implementation at the _marathon training example_ treated in lectures 1 and 2.\n",
    "\n",
    "Use gradient descent in combination with backtracking line search to fit a linear model to the data from a training for a marathon."
   ]
  },
  {
   "cell_type": "markdown",
   "metadata": {
    "ExecuteTime": {
     "end_time": "2020-10-22T11:42:54.019000+02:00",
     "start_time": "2020-10-22T09:42:53.603Z"
    }
   },
   "source": [
    "<img src=\"figures/laufbahn.jpeg\" width=\"350\">\n",
    "\n",
    "We train for a Marathon and measure the covered distance every 10 min. We train only for 2 hours to spare my strength for the contest. How long would we run in a real Marathon?\n",
    "\n",
    "In this example we assume that we run at an average constant velocity $v$, i.e., the covered distance $d$ scales linearly with time $t$:\n",
    "\\begin{equation}\n",
    "    m(t) = vt\n",
    "\\end{equation}"
   ]
  },
  {
   "cell_type": "code",
   "execution_count": 24,
   "metadata": {
    "ExecuteTime": {
     "end_time": "2021-11-05T17:12:31.536000+01:00",
     "start_time": "2021-11-05T16:12:17.074Z"
    }
   },
   "outputs": [],
   "source": [
    "# Given Dataset\n",
    "\n",
    "# times in minutes\n",
    "t = [10, 20, 30, 40, 50, 60, 70, 80, 90, 100, 110, 120]\n",
    "\n",
    "# distances in kilometers\n",
    "d = [1.88, 4.47, 5.63, 8.13, 8.54, 11.23, 12.27, 14.23, 15.50, 16.93, 18.69, 21.31];"
   ]
  },
  {
   "cell_type": "code",
   "execution_count": 25,
   "metadata": {
    "ExecuteTime": {
     "end_time": "2021-11-05T17:12:31.652000+01:00",
     "start_time": "2021-11-05T16:12:17.076Z"
    }
   },
   "outputs": [
    {
     "data": {
      "text/plain": [
       "m (generic function with 1 method)"
      ]
     },
     "execution_count": 25,
     "metadata": {},
     "output_type": "execute_result"
    }
   ],
   "source": [
    "# linear model\n",
    "function m(t,v)\n",
    "    # The times are measured in minutes. We convert them in units of hours by dividing by 60. Like this, the velocity\n",
    "    # has units of km/h\n",
    "    return t.*(v/60)\n",
    "end"
   ]
  },
  {
   "cell_type": "code",
   "execution_count": 26,
   "metadata": {
    "ExecuteTime": {
     "end_time": "2021-11-05T17:12:34.368000+01:00",
     "start_time": "2021-11-05T16:12:17.079Z"
    }
   },
   "outputs": [
    {
     "data": {
      "image/png": "[encoded data removed]",
      "text/plain": [
       "Figure(PyObject <Figure size 750x550 with 1 Axes>)"
      ]
     },
     "metadata": {},
     "output_type": "display_data"
    }
   ],
   "source": [
    "fontsize = 15;\n",
    "\n",
    "# Plot data and model\n",
    "\n",
    "# ===============================================\n",
    "# Test different values for the velocity and see which one fits best!\n",
    "v =10\n",
    "# ===============================================\n",
    "\n",
    "# do an inline plot\n",
    "pygui(false);\n",
    "\n",
    "# plot data\n",
    "scatter(t,d,color = \"black\",zorder=3, label = \"data\")\n",
    "# plot model\n",
    "plot(t,m(t,v),color = \"red\",label=\"linear model\")\n",
    "\n",
    "xlabel(\"t [min]\")\n",
    "ylabel(\"d [km]\")\n",
    "\n",
    "legend(loc = \"upper left\");"
   ]
  },
  {
   "cell_type": "markdown",
   "metadata": {},
   "source": [
    "The loss function quantifying the deviation between data  $D = \\{(t_{1}, d_{1}), (t_{2}, d_{2}),\\dots\\, (t_{n}, d_{n})\\} $ and model $m(t_i,v)$ can be defined as:\n",
    "\\begin{equation}\n",
    "l(v) = \\frac{1}{n}\\sum_{i = 1}^n \\big( d_{i} - m(t_{i},v) \\big)^2 \n",
    "\\end{equation}\n",
    "\n",
    "\\begin{equation}\n",
    "∇l(v) = \\frac{1}{n}\\sum_{i = 1}^n \\left( \\frac{-t_{i}}{60} * 2(d_{i} - m(t_{i},v)) \\right) \n",
    "\\end{equation}\n",
    "\n",
    "For a given dataset the loss function only depends on the model parameters, in our case the velocity $v$."
   ]
  },
  {
   "cell_type": "code",
   "execution_count": 27,
   "metadata": {
    "ExecuteTime": {
     "end_time": "2021-11-05T17:12:34.471000+01:00",
     "start_time": "2021-11-05T16:12:17.083Z"
    }
   },
   "outputs": [
    {
     "data": {
      "text/plain": [
       "∇loss (generic function with 1 method)"
      ]
     },
     "execution_count": 27,
     "metadata": {},
     "output_type": "execute_result"
    }
   ],
   "source": [
    "# ===============================================\n",
    "# Define the loss function\n",
    "loss(v) = sum((d-m(t,v)).^2)\n",
    "# ===============================================\n",
    "\n",
    "# ===============================================\n",
    "# Define the derivative of the loss function\n",
    "# The loss derivative function is defined for a single d_i and t_i and not for the whole vector d or t\n",
    "function ∇loss(v)\n",
    "    inner = -t./60 # column vector for the inner grad\n",
    "    outer = 2*(d-m(t,v)) # column vector for the outer grad\n",
    "    return inner' * outer # inner product -> scalar\n",
    "end\n",
    "# ==============================================="
   ]
  },
  {
   "cell_type": "code",
   "execution_count": 28,
   "metadata": {
    "ExecuteTime": {
     "end_time": "2021-11-05T17:12:35.197000+01:00",
     "start_time": "2021-11-05T16:12:17.087Z"
    }
   },
   "outputs": [
    {
     "data": {
      "image/png": "[encoded data removed]",
      "text/plain": [
       "Figure(PyObject <Figure size 750x550 with 1 Axes>)"
      ]
     },
     "metadata": {},
     "output_type": "display_data"
    },
    {
     "data": {
      "text/plain": [
       "PyObject Text(36.0, 0.5, '$l(v)$')"
      ]
     },
     "execution_count": 28,
     "metadata": {},
     "output_type": "execute_result"
    }
   ],
   "source": [
    "# plot the loss function\n",
    "\n",
    "# create values of velocities for which the loss function should be evaluated\n",
    "test_velocities = range(8,15,length = 20)\n",
    "\n",
    "# evaluate the loss function for some test velocities\n",
    "losses = zeros(size(test_velocities,1))\n",
    "for (index,test) in enumerate(test_velocities)\n",
    "    losses[index] = loss(test)\n",
    "end\n",
    "\n",
    "# evaluate the gradient of the loss function for some test velocities\n",
    "∇losses = zeros(size(test_velocities,1))\n",
    "for (index,test) in enumerate(test_velocities)\n",
    "    ∇losses[index] = ∇loss(test)\n",
    "end\n",
    "\n",
    "plot(test_velocities',losses)\n",
    "\n",
    "xlabel(\"v [km/h]\")\n",
    "ylabel(L\"$l(v)$\")"
   ]
  },
  {
   "cell_type": "code",
   "execution_count": 29,
   "metadata": {
    "ExecuteTime": {
     "end_time": "2021-11-05T17:12:35.727000+01:00",
     "start_time": "2021-11-05T16:12:17.089Z"
    }
   },
   "outputs": [
    {
     "name": "stdout",
     "output_type": "stream",
     "text": [
      "Optimal velocity [km/h]: 10.524460831632599\n",
      "Optimal loss: 3.7956961538551766\n",
      "Gradient at optimum: -2.5524378370889167e-5\n",
      "Iterations: 9\n"
     ]
    }
   ],
   "source": [
    "x0 = 1\n",
    "\n",
    "result,trace = gradient_descent(loss,∇loss, x0, maxiters = 10000, p = 0.5)\n",
    "println(\"Optimal velocity [km/h]: \",result)\n",
    "println(\"Optimal loss: \",trace[end,end])\n",
    "println(\"Gradient at optimum: \",∇loss(result))\n",
    "println(\"Iterations: \", size(trace,2)) # --> mistake in the exercise notebook! Corrected here."
   ]
  },
  {
   "cell_type": "code",
   "execution_count": 30,
   "metadata": {
    "ExecuteTime": {
     "end_time": "2021-11-05T17:12:35.743000+01:00",
     "start_time": "2021-11-05T16:12:17.090Z"
    }
   },
   "outputs": [
    {
     "name": "stdout",
     "output_type": "stream",
     "text": [
      "A real marathon of 42.2 km would take 4.01 hours\n"
     ]
    }
   ],
   "source": [
    "println(\"A real marathon of 42.2 km would take \", round(42.2/result,digits = 2), \" hours\")"
   ]
  },
  {
   "cell_type": "code",
   "execution_count": 31,
   "metadata": {
    "ExecuteTime": {
     "end_time": "2021-11-05T17:12:36.313000+01:00",
     "start_time": "2021-11-05T16:12:17.092Z"
    }
   },
   "outputs": [
    {
     "data": {
      "image/png": "[encoded data removed]",
      "text/plain": [
       "Figure(PyObject <Figure size 750x550 with 1 Axes>)"
      ]
     },
     "metadata": {},
     "output_type": "display_data"
    },
    {
     "data": {
      "text/plain": [
       "(0.0, 50.0)"
      ]
     },
     "execution_count": 31,
     "metadata": {},
     "output_type": "execute_result"
    }
   ],
   "source": [
    "# plot the trace\n",
    "\n",
    "# create values of velocities for which the loss function should be evaluated\n",
    "test_velocities = range(1,15,length = 100)\n",
    "\n",
    "# evaluate the loss function for some test velocities\n",
    "losses = zeros(size(test_velocities,1))\n",
    "for (index,test) in enumerate(test_velocities)\n",
    "    losses[index] = loss(test)\n",
    "end\n",
    "\n",
    "# evaluate the gradient of the loss function for some test velocities\n",
    "∇losses = zeros(size(test_velocities,1))\n",
    "for (index,test) in enumerate(test_velocities)\n",
    "    ∇losses[index] = ∇loss(test)\n",
    "end\n",
    "\n",
    "plot(test_velocities',losses)\n",
    "plot(trace[1,:],trace[2,:], marker = \"o\")\n",
    "\n",
    "xlabel(\"v [km/h]\")\n",
    "ylabel(L\"$l(v)$\")\n",
    "\n",
    "xlim(9,12)\n",
    "ylim(0,50)"
   ]
  },
  {
   "cell_type": "code",
   "execution_count": null,
   "metadata": {},
   "outputs": [],
   "source": []
  }
 ],
 "metadata": {
  "kernelspec": {
   "display_name": "Julia 1.9.3",
   "language": "julia",
   "name": "julia-1.9"
  },
  "language_info": {
   "file_extension": ".jl",
   "mimetype": "application/julia",
   "name": "julia",
   "version": "1.9.3"
  },
  "toc": {
   "base_numbering": 1,
   "nav_menu": {},
   "number_sections": true,
   "sideBar": true,
   "skip_h1_title": false,
   "title_cell": "Table of Contents",
   "title_sidebar": "Contents",
   "toc_cell": false,
   "toc_position": {
    "height": "calc(100% - 180px)",
    "left": "10px",
    "top": "150px",
    "width": "165px"
   },
   "toc_section_display": true,
   "toc_window_display": true
  },
  "varInspector": {
   "cols": {
    "lenName": 16,
    "lenType": 16,
    "lenVar": 40
   },
   "kernels_config": {
    "python": {
     "delete_cmd_postfix": "",
     "delete_cmd_prefix": "del ",
     "library": "var_list.py",
     "varRefreshCmd": "print(var_dic_list())"
    },
    "r": {
     "delete_cmd_postfix": ") ",
     "delete_cmd_prefix": "rm(",
     "library": "var_list.r",
     "varRefreshCmd": "cat(var_dic_list()) "
    }
   },
   "types_to_exclude": [
    "module",
    "function",
    "builtin_function_or_method",
    "instance",
    "_Feature"
   ],
   "window_display": false
  }
 },
 "nbformat": 4,
 "nbformat_minor": 4
}
