{
 "cells": [
  {
   "cell_type": "markdown",
   "metadata": {},
   "source": [
    "# Exercise 13.3: Dual Perceptron"
   ]
  },
  {
   "cell_type": "code",
   "execution_count": null,
   "metadata": {
    "ExecuteTime": {
     "end_time": "2023-02-01T10:10:51.927000+01:00",
     "start_time": "2023-02-01T09:10:17.089Z"
    }
   },
   "outputs": [],
   "source": [
    "using Random\n",
    "using Plots\n",
    "using RDatasets\n",
    "using COSMO\n",
    "using JuMP\n",
    "import LinearAlgebra\n",
    "LA = LinearAlgebra;\n",
    "include(\"optimization_library.jl\")"
   ]
  },
  {
   "cell_type": "code",
   "execution_count": null,
   "metadata": {
    "ExecuteTime": {
     "end_time": "2023-02-01T10:11:28.778000+01:00",
     "start_time": "2023-02-01T09:10:17.094Z"
    }
   },
   "outputs": [],
   "source": [
    "# Load the dataset with the iris flowers\n",
    "iris = dataset(\"datasets\", \"iris\")\n",
    "first(iris, 5)"
   ]
  },
  {
   "cell_type": "code",
   "execution_count": null,
   "metadata": {
    "ExecuteTime": {
     "end_time": "2023-02-01T10:11:29.014000+01:00",
     "start_time": "2023-02-01T09:10:17.098Z"
    }
   },
   "outputs": [],
   "source": [
    "# find the indices of the setosa and virginica species\n",
    "setosa_indices = findall(x -> x .== \"setosa\", iris.Species)\n",
    "virginica_indices = findall(x -> x .== \"virginica\", iris.Species);"
   ]
  },
  {
   "cell_type": "code",
   "execution_count": null,
   "metadata": {
    "ExecuteTime": {
     "end_time": "2023-02-01T10:11:29.520000+01:00",
     "start_time": "2023-02-01T09:10:17.101Z"
    }
   },
   "outputs": [],
   "source": [
    "# combine the species indices\n",
    "species_indices = vcat(virginica_indices, setosa_indices)\n",
    "\n",
    "# create the data matrix containing data from of the features PetalWidth and PetalLength\n",
    "data = Matrix(iris[species_indices,[\"PetalWidth\", \"PetalLength\"]])\n",
    "\n",
    "# create the vector containg the labels of each data point\n",
    "labels = iris[species_indices,[\"Species\"]]\n",
    "\n",
    "# converting the string label into numeric label -1 or 1\n",
    "binary_labels = [x.Species == \"setosa\" ? -1 : 1 for x in eachrow(labels)];"
   ]
  },
  {
   "cell_type": "code",
   "execution_count": null,
   "metadata": {
    "ExecuteTime": {
     "end_time": "2023-02-01T10:11:29.523000+01:00",
     "start_time": "2023-02-01T09:10:17.105Z"
    }
   },
   "outputs": [],
   "source": [
    "# l: labels in -1 and +1 format\n",
    "# x: input data\n",
    "# max_iters: maximum number of iterations within which the algorithm should converge\n",
    "function dual_perceptron(x, l, max_iters)\n",
    "    α = zeros(Int64, size(x)[1])\n",
    "    b = 0.0 \n",
    "    # ================================================================================================\n",
    "    #  Implement the dual Perceptron Algorithm given in the lecture.   \n",
    "    # ================================================================================================\n",
    "    \n",
    "    return b, α  \n",
    "end;"
   ]
  },
  {
   "cell_type": "code",
   "execution_count": null,
   "metadata": {
    "ExecuteTime": {
     "end_time": "2023-02-01T10:11:29.616000+01:00",
     "start_time": "2023-02-01T09:10:17.108Z"
    }
   },
   "outputs": [],
   "source": [
    "b , α = dual_perceptron( data, binary_labels, 10000)\n",
    "println(\"Total number of updates: \", sum(α))"
   ]
  },
  {
   "cell_type": "code",
   "execution_count": null,
   "metadata": {
    "ExecuteTime": {
     "end_time": "2023-02-01T10:11:31.515000+01:00",
     "start_time": "2023-02-01T09:10:17.110Z"
    }
   },
   "outputs": [],
   "source": [
    "# evaluate weights vector of decision boundary\n",
    "w = sum([α[j] * binary_labels[j] * data[j, :] for j in 1:size(data)[1]])"
   ]
  },
  {
   "cell_type": "code",
   "execution_count": null,
   "metadata": {
    "ExecuteTime": {
     "end_time": "2023-02-01T10:11:46.733000+01:00",
     "start_time": "2023-02-01T09:10:17.112Z"
    }
   },
   "outputs": [],
   "source": [
    "# plot the datasets\n",
    "scatter(iris.PetalWidth[setosa_indices], iris.PetalLength[setosa_indices], label=\"setosa\", size = (350, 350))\n",
    "scatter!(iris.PetalWidth[virginica_indices], iris.PetalLength[virginica_indices], label=\"virginica\")\n",
    "\n",
    "# plot the decision boundary\n",
    "# run the dual_perceptron several times and observe the different decision boundaries!\n",
    "x_axis = collect(0:3)\n",
    "slope = - w[1] / w[2]\n",
    "y_intercept = (-b / w[2]) \n",
    "a =  slope * x_axis .+ y_intercept\n",
    "plot!(x_axis, a, label=\"decision boundary\",  xlabel = \"petal width/cm\", ylabel= \"petal length/cm\", color= :red, legend=:bottomright)\n",
    "ylims!((0,8))"
   ]
  },
  {
   "cell_type": "markdown",
   "metadata": {},
   "source": [
    "# Exercise 13.4: Dual Support Vector Machine"
   ]
  },
  {
   "cell_type": "markdown",
   "metadata": {},
   "source": [
    "\n"
   ]
  },
  {
   "cell_type": "code",
   "execution_count": null,
   "metadata": {
    "ExecuteTime": {
     "end_time": "2023-02-01T10:11:47.865000+01:00",
     "start_time": "2023-02-01T09:10:17.115Z"
    }
   },
   "outputs": [],
   "source": [
    "# define some kernel functions\n",
    "\n",
    "function exponential_kernel(x, y; σ::Float64=1.0)\n",
    "    # ================================================================================================\n",
    "    #  Implement the exponential kernel\n",
    "    # ================================================================================================\n",
    "    return 0\n",
    "end\n",
    "\n",
    "# d: polynomial dregree\n",
    "# c: constant offset\n",
    "function polynomial_kernel(x, y; d=2, c=1.)\n",
    "    # ================================================================================================\n",
    "    #  Implement the polynomial kernel of degree d\n",
    "    # ================================================================================================\n",
    "    return 0\n",
    "end\n"
   ]
  },
  {
   "cell_type": "code",
   "execution_count": null,
   "metadata": {
    "ExecuteTime": {
     "end_time": "2023-02-01T10:41:58.262000+01:00",
     "start_time": "2023-02-01T09:41:58.255Z"
    }
   },
   "outputs": [],
   "source": [
    "# function solving the dual of the hard-margin SVM\n",
    "# l: labels in -1 and +1 format\n",
    "# x: input data\n",
    "# k: Kernel function\n",
    "function svm(x, l; k=dot)\n",
    "    \n",
    "    #build Matrix K from kernels and labels\n",
    "    K = zeros(length(l), length(l))\n",
    "    for i = 1:length(l), j=1:length(l)\n",
    "        K[i,j] = l[i]*l[j]*k(x[i,:],x[j,:])\n",
    "    end\n",
    "    \n",
    "    # ensure positive semi-definiteness of K that might be violated by Eigenvalues close to zero \n",
    "    # due to numerical imprecisions\n",
    "    for i = 1:length(l)\n",
    "        K[i,i] += 0.001\n",
    "    end\n",
    "      \n",
    "    # ================================================================================================\n",
    "    # define the objective and constraints of the optimization problem\n",
    "    # solve the optimization problem\n",
    "    # ================================================================================================\n",
    "    \n",
    "    μ = zeros(length(l))\n",
    "    \n",
    "    # return the values of the dual variable\n",
    "    return μ\n",
    "end;"
   ]
  },
  {
   "cell_type": "code",
   "execution_count": null,
   "metadata": {
    "ExecuteTime": {
     "end_time": "2023-02-01T10:41:58.817000+01:00",
     "start_time": "2023-02-01T09:41:58.814Z"
    }
   },
   "outputs": [],
   "source": [
    "# Use output of svm() function to classify data points y\n",
    "# l: labels in -1 and +1 format\n",
    "# x: train data\n",
    "# y: test data\n",
    "# μ: dual variable\n",
    "# k: Kernel function\n",
    "function svm_classify(y, x, l, μ; k=dot)\n",
    "    A = findall(μ .> 0.0001)\n",
    "    result = 0\n",
    "    # ================================================================================================\n",
    "    #  Implement the computation of  <w | y> + b \n",
    "    # ================================================================================================\n",
    "    \n",
    "    return result\n",
    "end"
   ]
  },
  {
   "cell_type": "code",
   "execution_count": null,
   "metadata": {
    "ExecuteTime": {
     "end_time": "2023-02-01T10:41:59.584000+01:00",
     "start_time": "2023-02-01T09:41:59.518Z"
    }
   },
   "outputs": [],
   "source": [
    "# find the indices for the versicolor species\n",
    "versicolor_indices = findall(x -> x .== \"versicolor\", iris.Species);"
   ]
  },
  {
   "cell_type": "code",
   "execution_count": null,
   "metadata": {
    "ExecuteTime": {
     "end_time": "2023-02-01T10:42:00.353000+01:00",
     "start_time": "2023-02-01T09:42:00.303Z"
    }
   },
   "outputs": [],
   "source": [
    "# combine indices of virginica and versicolor species\n",
    "species_indices = vcat(virginica_indices, versicolor_indices)\n",
    "\n",
    "# create the data matrix containing data from virginica and versicolor species\n",
    "# with measured features PetalWidth and PetalLength\n",
    "data = Matrix(iris[species_indices,[\"PetalWidth\", \"PetalLength\"]])\n",
    "\n",
    "# create the vector containg the labels of each data point\n",
    "labels = iris[species_indices,[\"Species\"]]\n",
    "\n",
    "# converting the string label into numeric label -1 or 1\n",
    "binary_labels = [x.Species == \"versicolor\" ? -1 : 1 for x in eachrow(labels)];"
   ]
  },
  {
   "cell_type": "code",
   "execution_count": null,
   "metadata": {
    "ExecuteTime": {
     "end_time": "2023-02-01T10:42:01.395000+01:00",
     "start_time": "2023-02-01T09:42:01.350Z"
    }
   },
   "outputs": [],
   "source": [
    "# Construct closures\n",
    "# Try different hyperparameters!!!\n",
    "function poly_kernel_closure(x, y)\n",
    "    return polynomial_kernel(x,y,d=5)\n",
    "end\n",
    "\n",
    "function exp_kernel_closure(x, y)\n",
    "    return exponential_kernel(x,y,σ = 0.5)\n",
    "end\n",
    "\n",
    "# choose a kernel function\n",
    "kernel_function = exp_kernel_closure\n",
    "\n",
    "# compute the result of the svm\n",
    "μ = svm(data, binary_labels, k=kernel_function);"
   ]
  },
  {
   "cell_type": "code",
   "execution_count": null,
   "metadata": {
    "ExecuteTime": {
     "end_time": "2023-02-01T10:42:03.127000+01:00",
     "start_time": "2023-02-01T09:42:03.126Z"
    }
   },
   "outputs": [],
   "source": [
    "# closure for svm_classify to simplify plotting\n",
    "function svm_classify_closure(y1,y2)\n",
    "    return svm_classify([y1,y2], data, binary_labels, μ,  k=kernel_function)\n",
    "end"
   ]
  },
  {
   "cell_type": "code",
   "execution_count": null,
   "metadata": {
    "ExecuteTime": {
     "end_time": "2023-02-01T10:42:06.072000+01:00",
     "start_time": "2023-02-01T09:42:03.693Z"
    }
   },
   "outputs": [],
   "source": [
    "ys = 2.0:0.04:8.0\n",
    "xs = 0.0:0.04:3.0\n",
    "contour(xs, ys, svm_classify_closure, fill=true, c=:bluesreds)#, colorbar=:none)# levels=[-1,0.5,0,0.5,1])\n",
    "scatter!(iris.PetalWidth[versicolor_indices], iris.PetalLength[versicolor_indices], label=\"versicolor\")\n",
    "scatter!(iris.PetalWidth[virginica_indices], iris.PetalLength[virginica_indices], label=\"virginica\")\n",
    "\n",
    "ylims!((2,8))\n",
    "xlims!((0,3))\n",
    "plot!(size=(500,300), xlabel = \"petal width/cm\", ylabel= \"petal length/cm\",)"
   ]
  },
  {
   "cell_type": "code",
   "execution_count": null,
   "metadata": {},
   "outputs": [],
   "source": []
  }
 ],
 "metadata": {
  "kernelspec": {
   "display_name": "Julia 1.6.3",
   "language": "julia",
   "name": "julia-1.6"
  },
  "language_info": {
   "file_extension": ".jl",
   "mimetype": "application/julia",
   "name": "julia",
   "version": "1.6.3"
  },
  "toc": {
   "base_numbering": 1,
   "nav_menu": {},
   "number_sections": true,
   "sideBar": true,
   "skip_h1_title": false,
   "title_cell": "Table of Contents",
   "title_sidebar": "Contents",
   "toc_cell": false,
   "toc_position": {},
   "toc_section_display": true,
   "toc_window_display": true
  },
  "varInspector": {
   "cols": {
    "lenName": 16,
    "lenType": 16,
    "lenVar": 40
   },
   "kernels_config": {
    "python": {
     "delete_cmd_postfix": "",
     "delete_cmd_prefix": "del ",
     "library": "var_list.py",
     "varRefreshCmd": "print(var_dic_list())"
    },
    "r": {
     "delete_cmd_postfix": ") ",
     "delete_cmd_prefix": "rm(",
     "library": "var_list.r",
     "varRefreshCmd": "cat(var_dic_list()) "
    }
   },
   "types_to_exclude": [
    "module",
    "function",
    "builtin_function_or_method",
    "instance",
    "_Feature"
   ],
   "window_display": false
  }
 },
 "nbformat": 4,
 "nbformat_minor": 4
}
