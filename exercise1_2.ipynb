{
 "cells": [
  {
   "cell_type": "code",
   "execution_count": 1,
   "id": "04926db1",
   "metadata": {},
   "outputs": [],
   "source": [
    "import numpy as np\n",
    "import matplotlib.pyplot as plt\n",
    "import scipy.optimize"
   ]
  },
  {
   "cell_type": "code",
   "execution_count": 2,
   "id": "d5c6c945",
   "metadata": {},
   "outputs": [],
   "source": [
    "# load age productivity profile and lifetable\n",
    "age_profile = np.loadtxt('ageprod.txt')\n",
    "surv_rate = np.loadtxt('surv_rate.txt')\n",
    "population_weights = np.ones_like(surv_rate)\n",
    "population_weights[1:] = np.cumprod(surv_rate)[:-1]"
   ]
  },
  {
   "cell_type": "code",
   "execution_count": 3,
   "id": "5397ca24",
   "metadata": {},
   "outputs": [],
   "source": [
    "# economic parameters\n",
    "maxage = 81\n",
    "ret_age = 45\n",
    "betta = 0.98\n",
    "sigma = 2.0\n",
    "rep = 0.3\n",
    "v_frisch = 0.5\n",
    "chi = 50.0\n",
    "alpha = 0.33\n",
    "delta = 0.08"
   ]
  },
  {
   "cell_type": "code",
   "execution_count": 4,
   "id": "77972b62",
   "metadata": {},
   "outputs": [],
   "source": [
    "# retiree to worker ratio\n",
    "rw_ratio = np.sum(population_weights[ret_age:]) / np.sum(population_weights[:ret_age])\n",
    "tau = rep * rw_ratio / (1 + rep * rw_ratio)"
   ]
  },
  {
   "cell_type": "code",
   "execution_count": 5,
   "id": "6e7c396a",
   "metadata": {},
   "outputs": [],
   "source": [
    "amin = 0.0\n",
    "amax = 10.0\n",
    "na = 101\n",
    "\n",
    "# set up the savings grid\n",
    "agrid = np.linspace(amin, amax, na)"
   ]
  },
  {
   "cell_type": "code",
   "execution_count": 6,
   "id": "436c3e04",
   "metadata": {},
   "outputs": [],
   "source": [
    "def solve_life_cycle(ratio, ben):\n",
    "\n",
    "    # calculate factor prices depending on capital stock and labor supply guess\n",
    "    w = (1 - alpha) * ratio ** alpha\n",
    "    irate = alpha * ratio ** (alpha - 1) - delta\n",
    "\n",
    "    # pre-allocate\n",
    "    ap = np.zeros((maxage, na))\n",
    "    con = np.zeros((maxage, na))\n",
    "    lab = np.zeros((maxage, na))\n",
    "    lab_new = np.zeros((maxage, na))\n",
    "    c_new = np.zeros((maxage, na)) # implied consumption\n",
    "    astar = np.zeros((maxage, na)) # endogenous asset\n",
    "    a_bar = np.zeros(maxage) # a today correspodning to a'=0\n",
    "\n",
    "    # LAST PERIOD\n",
    "    j = maxage-1\n",
    "    # loop over (beginning-of-period) savings\n",
    "    for ia in range(na):\n",
    "        # the household will consume all the remaining resources\n",
    "        ap[j, ia] = 0.0\n",
    "        con[j, ia] = (1.0 + irate) * agrid[ia] + ben\n",
    "\n",
    "    # RETRIEMENT PERIODS\n",
    "    # loop backwards over all periods\n",
    "    for j in range(maxage-2, ret_age-1, -1):\n",
    "\n",
    "        # EGM Step 1:\n",
    "        # loop over savings choice\n",
    "        for ia in range(na):\n",
    "            # compute the RHS of the euler equation\n",
    "            rhs = betta * surv_rate[j] * (1.0 + irate) * con[j+1, ia]**(-sigma)\n",
    "            # compute the implied consumption\n",
    "            c_new[j, ia] = rhs**(-1.0/sigma)\n",
    "            # compute the implied beginning-of-period assets\n",
    "            astar[j, ia] = (c_new[j, ia] + agrid[ia] - ben) / (1.0 + irate)\n",
    "\n",
    "        # store the savings corresponding to the lowest grid point\n",
    "        a_bar[j] = astar[j, 0]\n",
    "\n",
    "        # EGM Step 2:\n",
    "        # loop over beginning-of-period assets\n",
    "        for ia in range(na):\n",
    "            if agrid[ia] < a_bar[j]: # if the borrowing constraint is binding\n",
    "                con[j, ia] = ben + (1.0 + irate) * agrid[ia]\n",
    "                ap[j, ia] = 0.0\n",
    "            else: # if the borrowing cosntraint is not binding\n",
    "                con[j, ia] = np.interp(agrid[ia], astar[j, :], c_new[j, :])\n",
    "                ap[j, ia] = (1.0 + irate) * agrid[ia] + ben - con[j, ia]\n",
    "\n",
    "    # WORKING PERIODS\n",
    "    # loop backwards over all periods\n",
    "    for j in range(ret_age-1, -1, -1):\n",
    "\n",
    "        # EGM Step 1:\n",
    "        # loop over savings choice\n",
    "        for ia in range(na):\n",
    "            # compute the RHS of the euler equation\n",
    "            rhs = betta * surv_rate[j] * (1.0 + irate) * con[j+1, ia]**(-sigma)\n",
    "            # compute the implied consumption\n",
    "            c_new[j, ia] = rhs**(-1.0/sigma)\n",
    "            # find labor supply\n",
    "            lab_new[j, ia] = ((c_new[j, ia] ** (-sigma) * (1 - tau) * w * age_profile[j]) / chi) ** v_frisch\n",
    "            # compute the implied beginning-of-period assets\n",
    "            astar[j, ia] = (c_new[j, ia] + agrid[ia] - (1 - tau) * w * age_profile[j] * lab_new[j, ia]) / (1.0 + irate)\n",
    "\n",
    "        # store the savings corresponding to the lowest grid point\n",
    "        a_bar[j] = astar[j, 0]\n",
    "\n",
    "        # EGM Step 2:\n",
    "        # loop over beginning-of-period assets\n",
    "        for ia in range(na):\n",
    "            if agrid[ia] < a_bar[j]: # if the borrowing constraint is binding\n",
    "\n",
    "                # when the constraint is binding the choices for consumption and\n",
    "                # labor supply are not analytical, therefore we solve the system\n",
    "                # of equations numerically\n",
    "                def lab_bc(lab_guess):\n",
    "                    con_imp = (1 + irate) * agrid[ia] + (1 - tau) * w * age_profile[j] * lab_guess\n",
    "                    res = chi * lab_guess ** (1 / v_frisch) - (1 - tau) * w * age_profile[j] * con_imp ** (-sigma)\n",
    "                    return res\n",
    "\n",
    "                lab[j, ia] = scipy.optimize.brentq(lab_bc, 0.01, 2.0)\n",
    "                con[j, ia] = (1 - tau) * w * age_profile[j] * lab[j, ia] + (1.0 + irate) * agrid[ia]\n",
    "                ap[j, ia] = 0.0\n",
    "            else: # if the borrowing cosntraint is not binding\n",
    "\n",
    "                con[j, ia] = np.interp(agrid[ia], astar[j, :], c_new[j, :])\n",
    "                lab[j, ia] = np.interp(agrid[ia], astar[j, :], lab_new[j, :])\n",
    "                ap[j, ia] = (1.0 + irate) * agrid[ia] + (1 - tau) * w * age_profile[j] * lab[j, ia] - con[j, ia]\n",
    "\n",
    "    # LIFECYCLE PROFILES\n",
    "    a_profile = np.zeros(maxage)\n",
    "    con_profile = np.zeros(maxage)\n",
    "    ap_profile = np.zeros(maxage)\n",
    "    lab_profile = np.zeros(maxage)\n",
    "\n",
    "    for j in range(maxage-1):\n",
    "        con_profile[j] = np.interp(a_profile[j], agrid, con[j, :])\n",
    "        ap_profile[j] = np.interp(a_profile[j], agrid, ap[j, :])\n",
    "        a_profile[j+1] = ap_profile[j]\n",
    "        lab_profile[j] = np.interp(a_profile[j], agrid, lab[j, :])\n",
    "\n",
    "    # last period\n",
    "    con_profile[maxage-1] = np.interp(a_profile[maxage-1], agrid, con[maxage-1, :])\n",
    "    lab_profile[maxage-1] = np.interp(a_profile[maxage-1], agrid, lab[maxage-1, :])\n",
    "\n",
    "    return a_profile, con_profile, ap_profile, lab_profile"
   ]
  },
  {
   "cell_type": "code",
   "execution_count": 7,
   "id": "74861eed",
   "metadata": {},
   "outputs": [
    {
     "name": "stdout",
     "output_type": "stream",
     "text": [
      "0 5.870867789058307 3.4834711562332306 0.06419785072264828 0.15679140289059307\n",
      "1 6.045192787452037 0.6972999935749211 0.09620786281362362 0.12804004836390137\n",
      "2 5.979014797324078 0.26471196051183643 0.12028586619762832 0.09631201353601879\n",
      "3 5.838239336836281 0.5631018419511902 0.13785795632828327 0.07028836052261975\n",
      "4 5.6982379569978665 0.5600055193536582 0.15045193918619243 0.050375931431636684\n",
      "5 5.5853587888227985 0.4515166727002722 0.15937836360991586 0.03570569769489379\n",
      "6 5.502724301314393 0.3305379500336221 0.16566772470176774 0.025157444367407522\n",
      "7 5.444985221901737 0.23095631765062308 0.17008915536472605 0.017685722651833186\n",
      "8 5.406267474060388 0.15487099136539317 0.17319647527799453 0.012429279653073888\n",
      "9 5.380388742358175 0.10351492680884977 0.17538482569665464 0.008753401674640393\n",
      "10 5.362844127816588 0.07017845816634605 0.17692981273082303 0.006179948136673524\n",
      "11 5.350797993728954 0.04818453635053732 0.17802261209090703 0.0043711974403359\n",
      "12 5.342444362386269 0.03341452537074119 0.1787965963794879 0.0030959371543233527\n",
      "13 5.336608973724246 0.023341554648093066 0.179345283297545 0.0021947476722284087\n",
      "14 5.332511688008008 0.016389142864952078 0.17973450322440326 0.001556879707433012\n",
      "15 5.329624535263534 0.01154861097789528 0.1800107258517845 0.0011048905095249195\n",
      "16 5.327585001325608 0.008158135751702211 0.1802068152455806 0.0007843575751844689\n",
      "17 5.326141772747698 0.005772914311640953 0.18034604718208436 0.0005569277460150401\n",
      "18 5.325119298203205 0.004089898177969786 0.18044492195453776 0.0003954990898136501\n",
      "19 5.324394322134594 0.0028999042744422 0.18051514424798457 0.000280889173787241\n",
      "20 5.323879994508825 0.0020573105030763372 0.1805650205654203 0.0001995052697428834\n",
      "21 5.3235149662037315 0.0014601132203750922 0.18060044758622296 0.00014170808321067874\n",
      "22 5.3232558210019585 0.0010365808070931237 0.18062561217388567 0.00010065835065084516\n",
      "23 5.323071812897777 0.000736032416725152 0.18064348753683518 7.150145179796175e-05\n",
      "24 5.322941139539148 0.000522693434517052 0.1806561852934428 5.0791026430463404e-05\n",
      "25 5.322848333255121 0.0003712251361100982 0.18066520524429025 3.6079803389765797e-05\n",
      "26 5.3227824164140545 0.0002636673642655296 0.1806716126899597 2.562978267792171e-05\n",
      "27 5.322735595940768 0.0001872818931474285 0.18067616433352646 1.8206574266987907e-05\n",
      "28 5.322702338430828 0.00013303003975906336 0.1806793976884006 1.2933419496541365e-05\n",
      "29 5.322678714401146 9.449611872902608e-05 0.1806816945762426 9.187551368028402e-06\n",
      "30 5.322661933102596 6.712519419771468e-05 0.1806833262266765 6.526601735445947e-06\n",
      "31 5.322650012386113 4.768286593481719e-05 0.18068448531118975 4.636338053032318e-06\n",
      "32 5.322641544346973 3.387215656047715e-05 0.18068530869732116 3.2935445256621065e-06\n",
      "33 5.322635528926578 2.4061681579645722e-05 0.1806858936117309 2.3396576389056456e-06\n",
      "34 5.322631255748615 1.7092711853905485e-05 0.1806863091215839 1.6620394120425708e-06\n",
      "35 5.322628220199232 1.2142197530984333e-05 0.18068660429041702 1.1806753325294128e-06\n",
      "36 5.322626063822842 8.62550556401942e-06 0.18068681397175917 8.38725368657034e-07\n",
      "37 5.322624531986018 6.127347294437868e-06 0.18068696292472705 5.958118715621019e-07\n",
      "38 5.32262344380558 4.352721751033073e-06 0.1806870687376212 4.2325157662004287e-07\n",
      "39 5.32262267078748 3.0920724007899025e-06 0.1806871439047684 3.00668588804065e-07\n",
      "40 5.322622121653077 2.1965376122423663e-06 0.18068719730185626 2.1358835144980048e-07\n",
      "41 5.322621731560384 1.5603707756994822e-06 0.18068723523397476 1.5172847395161781e-07\n",
      "42 5.32262145444726 1.1084524924598327e-06 0.18068726218011955 1.0778457923410478e-07\n",
      "43 5.322621257592252 7.874200305124646e-07 0.18068728132207013 7.656780237619287e-08\n"
     ]
    }
   ],
   "source": [
    "maxiter = 1000\n",
    "damp = 0.25\n",
    "tol = 1e-6\n",
    "\n",
    "ratio_guess = 5.0\n",
    "ben_guess = 0.025\n",
    "for i in range(maxiter):\n",
    "\n",
    "    # solve lifecycle model\n",
    "    a_profile, con_profile, ap_profile, lab_profile = solve_life_cycle(ratio_guess, ben_guess)\n",
    "\n",
    "    # compute implied aggregates\n",
    "    implied_capital = np.sum(population_weights * a_profile)\n",
    "    implied_labor =  np.sum(population_weights[:ret_age] * lab_profile[:ret_age] * age_profile)\n",
    "\n",
    "    # updated values for capital / labor and pension benefits\n",
    "    w = (1 - alpha) * ratio_guess ** alpha\n",
    "    ratio_new = implied_capital / implied_labor\n",
    "    ben_new = tau * w * implied_labor / np.sum(population_weights[ret_age-1:])\n",
    "\n",
    "    # check exit criterion\n",
    "    metric0 = np.abs(ratio_guess - ratio_new)\n",
    "    metric1 = np.abs(ben_guess - ben_new)\n",
    "    metric = max(metric0, metric1)\n",
    "\n",
    "    # update the guess with a dampening parameter\n",
    "    ratio_guess = damp * ratio_new + (1 - damp) * ratio_guess\n",
    "    ben_guess = damp * ben_new + (1 - damp) * ben_guess\n",
    "\n",
    "    print(i, ratio_guess, metric0, ben_guess, metric1)\n",
    "\n",
    "    if metric < tol:\n",
    "        break"
   ]
  },
  {
   "cell_type": "code",
   "execution_count": 8,
   "id": "f92ad076",
   "metadata": {},
   "outputs": [
    {
     "name": "stdout",
     "output_type": "stream",
     "text": [
      "\n",
      "Capital: 139.47474871879083\n",
      "Labor: 26.204149693179197\n"
     ]
    },
    {
     "data": {
      "image/png": "[encoded data removed]",
      "text/plain": [
       "<Figure size 432x288 with 1 Axes>"
      ]
     },
     "metadata": {
      "needs_background": "light"
     },
     "output_type": "display_data"
    },
    {
     "data": {
      "image/png": "[encoded data removed]",
      "text/plain": [
       "<Figure size 432x288 with 1 Axes>"
      ]
     },
     "metadata": {
      "needs_background": "light"
     },
     "output_type": "display_data"
    },
    {
     "data": {
      "image/png": "[encoded data removed]",
      "text/plain": [
       "<Figure size 432x288 with 1 Axes>"
      ]
     },
     "metadata": {
      "needs_background": "light"
     },
     "output_type": "display_data"
    }
   ],
   "source": [
    "print('')\n",
    "print('Capital: ' + str(implied_capital))\n",
    "print('Labor: ' + str(implied_labor))\n",
    "\n",
    "plt.figure()\n",
    "plt.plot(np.arange(maxage), con_profile, color='black')\n",
    "plt.title('Consumption Profile')\n",
    "\n",
    "plt.figure()\n",
    "plt.plot(np.arange(maxage), a_profile, color='black')\n",
    "plt.title('Asset Profile')\n",
    "\n",
    "plt.figure()\n",
    "plt.plot(np.arange(ret_age), lab_profile[:ret_age], color='black')\n",
    "plt.title('Labor Profile')\n",
    "\n",
    "plt.show()"
   ]
  },
  {
   "cell_type": "code",
   "execution_count": null,
   "id": "d77b8561",
   "metadata": {},
   "outputs": [],
   "source": []
  }
 ],
 "metadata": {
  "kernelspec": {
   "display_name": "Python 3 (ipykernel)",
   "language": "python",
   "name": "python3"
  },
  "language_info": {
   "codemirror_mode": {
    "name": "ipython",
    "version": 3
   },
   "file_extension": ".py",
   "mimetype": "text/x-python",
   "name": "python",
   "nbconvert_exporter": "python",
   "pygments_lexer": "ipython3",
   "version": "3.9.7"
  }
 },
 "nbformat": 4,
 "nbformat_minor": 5
}
