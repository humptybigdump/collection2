{
 "cells": [
  {
   "cell_type": "code",
   "execution_count": 1,
   "id": "b12191a5",
   "metadata": {},
   "outputs": [],
   "source": [
    "import numpy as np\n",
    "import matplotlib.pyplot as plt"
   ]
  },
  {
   "cell_type": "code",
   "execution_count": 3,
   "id": "02949032",
   "metadata": {},
   "outputs": [],
   "source": [
    "# load age productivity profile and lifetable\n",
    "age_profile = np.loadtxt('ageprod.txt')\n",
    "age_profile = age_profile / np.mean(age_profile)\n",
    "surv_rate = np.loadtxt('surv_rate.txt')"
   ]
  },
  {
   "cell_type": "code",
   "execution_count": 4,
   "id": "b9f0dd7f",
   "metadata": {},
   "outputs": [],
   "source": [
    "# economic parameters\n",
    "maxage = 81\n",
    "ret_age = 45\n",
    "irate = 0.03\n",
    "time_pref = irate\n",
    "betta = 1.0 / (1.0 + time_pref)\n",
    "sigma = 2.0\n",
    "tau = 0.15\n",
    "ben = 0.44"
   ]
  },
  {
   "cell_type": "code",
   "execution_count": 5,
   "id": "1706f2fe",
   "metadata": {},
   "outputs": [],
   "source": [
    "amin = 0.0\n",
    "amax = 50.0\n",
    "na = 101\n",
    "\n",
    "# set up the savings grid\n",
    "agrid = np.linspace(amin, amax, na)"
   ]
  },
  {
   "cell_type": "code",
   "execution_count": 6,
   "id": "3c538606",
   "metadata": {},
   "outputs": [],
   "source": [
    "# set up the income stream\n",
    "y = np.zeros(maxage)\n",
    "y[:ret_age] = (1 - tau) * age_profile\n",
    "y[ret_age:] = ben"
   ]
  },
  {
   "cell_type": "code",
   "execution_count": 7,
   "id": "d3ee2282",
   "metadata": {},
   "outputs": [],
   "source": [
    "# pre-allocate\n",
    "ap = np.zeros((maxage, na))\n",
    "con = np.zeros((maxage, na))\n",
    "c_new = np.zeros((maxage, na)) # implied consumption\n",
    "astar = np.zeros((maxage, na)) # endogenous asset\n",
    "a_bar = np.zeros(maxage) # a today correspodning to a'=0"
   ]
  },
  {
   "cell_type": "code",
   "execution_count": 8,
   "id": "0cf198a8",
   "metadata": {},
   "outputs": [],
   "source": [
    "# LAST PERIOD\n",
    "j = maxage-1\n",
    "# loop over (beginning-of-period) savings\n",
    "for ia in range(na):\n",
    "    # the household will consume all the remaining resources\n",
    "    ap[j, ia] = 0.0\n",
    "    con[j, ia] = (1.0 + irate) * agrid[ia] + y[j]"
   ]
  },
  {
   "cell_type": "code",
   "execution_count": 9,
   "id": "b88dbf35",
   "metadata": {},
   "outputs": [],
   "source": [
    "# REMAINING PERIODS\n",
    "# loop backwards over all periods\n",
    "for j in range(maxage-2, -1, -1):\n",
    "\n",
    "    # EGM Step 1:\n",
    "    # loop over savings choice\n",
    "    for ia in range(na):\n",
    "        # compute the RHS of the euler equation\n",
    "        rhs = betta * surv_rate[j] * (1.0 + irate) * con[j+1, ia]**(-sigma)\n",
    "        # compute the implied consumption\n",
    "        c_new[j, ia] = rhs**(-1.0/sigma)\n",
    "        # compute the implied beginning-of-period assets\n",
    "        astar[j, ia] = (c_new[j, ia] + agrid[ia] - y[j]) / (1.0 + irate)\n",
    "\n",
    "    # store the savings corresponding to the lowest grid point\n",
    "    a_bar[j] = astar[j, 0]\n",
    "\n",
    "    # EGM Step 2:\n",
    "    # loop over beginning-of-period assets\n",
    "    for ia in range(na):\n",
    "        if agrid[ia] < a_bar[j]: # if the borrowing constraint is binding\n",
    "            con[j, ia] = y[j] + (1.0 + irate) * agrid[ia]\n",
    "            ap[j, ia] = 0.0\n",
    "        else: # if the borrowing cosntraint is not binding\n",
    "            con[j, ia] = np.interp(agrid[ia], astar[j, :], c_new[j, :])\n",
    "            ap[j, ia] = (1.0 + irate) * agrid[ia] + y[j] - con[j, ia]"
   ]
  },
  {
   "cell_type": "code",
   "execution_count": 11,
   "id": "c54a8710",
   "metadata": {},
   "outputs": [],
   "source": [
    "# LIFECYCLE PROFILES\n",
    "a_profile = np.zeros(maxage)\n",
    "con_profile = np.zeros(maxage)\n",
    "ap_profile = np.zeros(maxage)\n",
    "\n",
    "for j in range(maxage-1):\n",
    "    con_profile[j] = np.interp(a_profile[j], agrid, con[j, :])\n",
    "    ap_profile[j] = np.interp(a_profile[j], agrid, ap[j, :])\n",
    "    a_profile[j+1] = ap_profile[j]\n",
    "    \n",
    "# last period\n",
    "con_profile[maxage-1] = np.interp(a_profile[maxage-1], agrid, con[maxage-1, :])"
   ]
  },
  {
   "cell_type": "code",
   "execution_count": 12,
   "id": "340313f5",
   "metadata": {},
   "outputs": [
    {
     "data": {
      "image/png": "[encoded data removed]",
      "text/plain": [
       "<Figure size 432x288 with 1 Axes>"
      ]
     },
     "metadata": {
      "needs_background": "light"
     },
     "output_type": "display_data"
    },
    {
     "data": {
      "image/png": "[encoded data removed]",
      "text/plain": [
       "<Figure size 432x288 with 1 Axes>"
      ]
     },
     "metadata": {
      "needs_background": "light"
     },
     "output_type": "display_data"
    }
   ],
   "source": [
    "plt.figure()\n",
    "plt.plot(np.arange(maxage), con_profile, color='black')\n",
    "plt.title('Consumption Profile')\n",
    "\n",
    "plt.figure()\n",
    "plt.plot(np.arange(maxage), a_profile, color='black')\n",
    "plt.title('Asset Profile')\n",
    "plt.show()"
   ]
  },
  {
   "cell_type": "code",
   "execution_count": null,
   "id": "d772d33b",
   "metadata": {},
   "outputs": [],
   "source": []
  }
 ],
 "metadata": {
  "kernelspec": {
   "display_name": "Python 3 (ipykernel)",
   "language": "python",
   "name": "python3"
  },
  "language_info": {
   "codemirror_mode": {
    "name": "ipython",
    "version": 3
   },
   "file_extension": ".py",
   "mimetype": "text/x-python",
   "name": "python",
   "nbconvert_exporter": "python",
   "pygments_lexer": "ipython3",
   "version": "3.9.7"
  }
 },
 "nbformat": 4,
 "nbformat_minor": 5
}
