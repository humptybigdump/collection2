{
 "cells": [
  {
   "cell_type": "code",
   "execution_count": 57,
   "metadata": {
    "ExecuteTime": {
     "end_time": "2021-11-11T16:43:56.073000+01:00",
     "start_time": "2021-11-11T15:43:48.114Z"
    }
   },
   "outputs": [],
   "source": [
    "include(\"optimization_library.jl\");\n",
    "include(\"mplstyle.jl\");"
   ]
  },
  {
   "cell_type": "markdown",
   "metadata": {},
   "source": [
    "# Exercise 4.1"
   ]
  },
  {
   "cell_type": "code",
   "execution_count": 58,
   "metadata": {
    "ExecuteTime": {
     "end_time": "2021-11-11T16:43:56.379000+01:00",
     "start_time": "2021-11-11T15:43:48.120Z"
    }
   },
   "outputs": [],
   "source": [
    "import DelimitedFiles\n",
    "DF = DelimitedFiles;"
   ]
  },
  {
   "cell_type": "markdown",
   "metadata": {},
   "source": [
    "We have given a mini shock absorber for scale cars which we want to characterize.\n",
    "\n",
    "<img src=\"figures/Mini_Shocks.JPG\" width=\"400\">\n",
    "\n",
    "Figure credit: By Avsar Aras - Own work, CC BY-SA 3.0, https://commons.wikimedia.org/w/index.php?curid=25687910\n",
    "\n",
    "After applying a force on the absorber, we did a total of 30 measurements of its vertical position $p$ over time $t$. Negative values of $p$ mean that the shock absorber is compressed while positive values mean that it is expanded.\n",
    "\n",
    "Due to the small scale of the shock absorbers and our limited measurement techniques, the data is influenced by statistical fluctuations within the measurement procedure.\n",
    "\n",
    "We already split our 30 data points into 20 points for training and 10 points for testing.\n"
   ]
  },
  {
   "cell_type": "code",
   "execution_count": 13,
   "metadata": {
    "ExecuteTime": {
     "end_time": "2021-11-11T16:43:57.022000+01:00",
     "start_time": "2021-11-11T15:43:48.127Z"
    }
   },
   "outputs": [],
   "source": [
    "# load training data\n",
    "data = DF.readdlm(\"train_data.csv\",',', Float64)\n",
    "p_train = data[2,:]\n",
    "t_train = data[1,:];"
   ]
  },
  {
   "cell_type": "code",
   "execution_count": 14,
   "metadata": {
    "ExecuteTime": {
     "end_time": "2021-11-11T16:43:57.022000+01:00",
     "start_time": "2021-11-11T15:43:48.134Z"
    }
   },
   "outputs": [],
   "source": [
    "# load test data\n",
    "data = DF.readdlm(\"test_data.csv\",',', Float64)\n",
    "p_test = data[2,:]\n",
    "t_test = data[1,:];"
   ]
  },
  {
   "cell_type": "code",
   "execution_count": 6,
   "metadata": {
    "ExecuteTime": {
     "end_time": "2021-11-11T16:44:02.934000+01:00",
     "start_time": "2021-11-11T15:43:48.140Z"
    }
   },
   "outputs": [
    {
     "data": {
      "image/png": "[encoded data removed]",
      "text/plain": [
       "Figure(PyObject <Figure size 1000x600 with 1 Axes>)"
      ]
     },
     "metadata": {},
     "output_type": "display_data"
    },
    {
     "data": {
      "text/plain": [
       "PyObject <matplotlib.legend.Legend object at 0x7f1c3a1474c0>"
      ]
     },
     "execution_count": 6,
     "metadata": {},
     "output_type": "execute_result"
    }
   ],
   "source": [
    "# Visualize the data points\n",
    "fig = figure(figsize= (10,6))\n",
    "fontsize = 13\n",
    "scatter(t_train, p_train, color = \"black\", label = \"Training Data\")\n",
    "scatter(t_test, p_test, color = \"red\", label = \"Test Data\")\n",
    "xlabel(\"t [s]\",fontsize = fontsize)\n",
    "ylabel(\"p [cm]\", fontsize = fontsize)\n",
    "legend(fontsize = fontsize)"
   ]
  },
  {
   "cell_type": "markdown",
   "metadata": {},
   "source": [
    "We would like to fit a model to the data in order to be able to compare the curves to other shock absorbers."
   ]
  },
  {
   "cell_type": "markdown",
   "metadata": {},
   "source": [
    "## Exercise 4.1a\n",
    " We want to fit linear regression models of the form:\n",
    " \n",
    " \\begin{equation}\n",
    " m_\\mathbf{\\theta}(\\mathbf{x}) = \\sum_{j = 0}^n \\theta_j \\phi_j(\\mathbf{x}),\n",
    " \\end{equation}\n",
    "with $n$ parameters $\\theta_j$ and basis functions $\\phi_j(\\mathbf{x})$. By convention $\\phi_0(\\mathbf{x}) = 1$. The 0th term is also denoted as bias or offset since it shifts the whole model up or down independent of the position on the $x$-axis.\n",
    "\n",
    "We will use a quadratic loss function of the form:\n",
    "\n",
    " \\begin{equation}\n",
    "l_\\theta(\\mathbf{x}) = \\frac{1}{|D|}\\sum_{i = 1}^{|D|} \\left(y_i - \\mathbf{\\theta}^\\top \\mathbf{\\phi}(x_i)\\right)^2 \n",
    " \\end{equation}\n",
    "\n",
    " We would like to see if polynomial or gaussian basis functions work better for the given data."
   ]
  },
  {
   "cell_type": "code",
   "execution_count": 54,
   "metadata": {},
   "outputs": [
    {
     "data": {
      "text/plain": [
       "m (generic function with 1 method)"
      ]
     },
     "execution_count": 54,
     "metadata": {},
     "output_type": "execute_result"
    }
   ],
   "source": [
    "function m(x, θ, basis)\n",
    "    # get the number of parameters. The polynomial degree d is given by d = n - 1\n",
    "    n = size(θ,1)\n",
    "    \n",
    "    return basis(x, [0:n-1;]') * θ\n",
    "end"
   ]
  },
  {
   "cell_type": "code",
   "execution_count": 55,
   "metadata": {
    "ExecuteTime": {
     "end_time": "2021-11-11T16:44:03.662000+01:00",
     "start_time": "2021-11-11T15:43:48.146Z"
    }
   },
   "outputs": [
    {
     "data": {
      "text/plain": [
       "model_poly (generic function with 1 method)"
      ]
     },
     "execution_count": 55,
     "metadata": {},
     "output_type": "execute_result"
    }
   ],
   "source": [
    "function basis_poly(x, i) \n",
    "    return x .^ i\n",
    "end\n",
    "\n",
    "# Model from polynomial basis functions\n",
    "# x: vector with data points\n",
    "# θ: vector with scalings of polynomial basis functions\n",
    "# The polynomial degree d is given by d = n - 1 with n = size(θ,1)\n",
    "function model_poly(x, θ)\n",
    "    return m(x, θ, basis_poly)\n",
    "end"
   ]
  },
  {
   "cell_type": "code",
   "execution_count": 59,
   "metadata": {
    "ExecuteTime": {
     "end_time": "2021-11-11T16:44:03.809000+01:00",
     "start_time": "2021-11-11T15:43:48.151Z"
    }
   },
   "outputs": [
    {
     "data": {
      "text/plain": [
       "model_gaussian (generic function with 1 method)"
      ]
     },
     "execution_count": 59,
     "metadata": {},
     "output_type": "execute_result"
    }
   ],
   "source": [
    "# x: data point\n",
    "# mu: mean value of gaussian distribution\n",
    "# sigma: standard deviation of gaussian distribution\n",
    "function gaussian(x, mu, sigma)\n",
    "# ===============================================================================\n",
    "# Implement a gaussian function\n",
    "    return exp.(-(x .- mu).^2 ./(2*sigma.^2))\n",
    "# ===============================================================================\n",
    "end\n",
    "\n",
    "function basis_gaussian(mus, sigma)\n",
    "    function calculate_basis(x, i)\n",
    "        i = vec((i.+1)')\n",
    "        return [ones(size(x, 1), 1) gaussian(x, [mus;]', sigma)][:, i]\n",
    "    end\n",
    "end\n",
    "\n",
    "\n",
    "function model_gaussian(mus, sigma)\n",
    "    # Model from gaussian basis functions\n",
    "    # x: vector with data points\n",
    "    # θ: vector with scalings of polynomial basis functions\n",
    "    function calculate_model(x,θ)\n",
    "    # ===============================================================================\n",
    "        # Implement a linear regression model with gaussian basis functions\n",
    "        # Beware that the 0th basis function is equal to one.\n",
    "        # Generate different gaussian basis functions by varying the mean value. Assume the mean values to be globally\n",
    "        # defined in the vector \"mus\".\n",
    "        # Keep the standard deviation constant for all gaussian basis functions and assume a globally defined variable \"sigma\"\n",
    "\n",
    "        return m(x, θ, basis_gaussian(mus, sigma))\n",
    "    # ===============================================================================\n",
    "    end\n",
    "end\n"
   ]
  },
  {
   "cell_type": "code",
   "execution_count": 60,
   "metadata": {
    "ExecuteTime": {
     "end_time": "2021-11-11T16:44:03.940000+01:00",
     "start_time": "2021-11-11T15:43:48.159Z"
    }
   },
   "outputs": [
    {
     "data": {
      "text/plain": [
       "quadratic_loss (generic function with 1 method)"
      ]
     },
     "execution_count": 60,
     "metadata": {},
     "output_type": "execute_result"
    }
   ],
   "source": [
    "# Quadratic loss function for a given model\n",
    "function quadratic_loss(x, y, model)\n",
    "    function calculate_loss(θ)\n",
    "        return sum((y.-model(x,θ)).^2)\n",
    "    end\n",
    "end"
   ]
  },
  {
   "cell_type": "markdown",
   "metadata": {},
   "source": [
    "The definition of a function in a function is called a _Closure_. It allows to define the quadratic loss independent of the model and dataset. The loss function that only depends on the parameters $\\theta$ and can be given to our descent algorithms is gained by:"
   ]
  },
  {
   "cell_type": "code",
   "execution_count": 61,
   "metadata": {
    "ExecuteTime": {
     "end_time": "2021-11-11T16:44:04.097000+01:00",
     "start_time": "2021-11-11T15:43:48.165Z"
    }
   },
   "outputs": [
    {
     "data": {
      "text/plain": [
       "(::var\"#calculate_loss#27\"{Vector{Float64}, Vector{Float64}, typeof(model_poly)}) (generic function with 1 method)"
      ]
     },
     "execution_count": 61,
     "metadata": {},
     "output_type": "execute_result"
    }
   ],
   "source": [
    "loss_train_poly = quadratic_loss(t_train,p_train,model_poly)"
   ]
  },
  {
   "cell_type": "code",
   "execution_count": 62,
   "metadata": {
    "ExecuteTime": {
     "end_time": "2021-11-11T16:44:04.642000+01:00",
     "start_time": "2021-11-11T15:43:48.173Z"
    }
   },
   "outputs": [
    {
     "name": "stdout",
     "output_type": "stream",
     "text": [
      "248720.6216353449\n"
     ]
    }
   ],
   "source": [
    "# Test the loss function\n",
    "θ0 = [1,2,3,4]\n",
    "println(loss_train_poly(θ0))"
   ]
  },
  {
   "cell_type": "markdown",
   "metadata": {},
   "source": [
    "## Exercise 4.1b"
   ]
  },
  {
   "cell_type": "code",
   "execution_count": 63,
   "metadata": {
    "ExecuteTime": {
     "end_time": "2021-11-11T16:44:04.798000+01:00",
     "start_time": "2021-11-11T15:43:48.181Z"
    }
   },
   "outputs": [
    {
     "data": {
      "text/plain": [
       "∇model_gaussian (generic function with 1 method)"
      ]
     },
     "execution_count": 63,
     "metadata": {},
     "output_type": "execute_result"
    }
   ],
   "source": [
    "function ∇m(x, θ, basis)\n",
    "    n = size(θ,1)\n",
    "# ===============================================================================\n",
    "    # Implement the gradient of a model w.r.t. its parameters θ\n",
    "    return basis(x, [0:n-1;]')\n",
    "# ===============================================================================\n",
    "end\n",
    "\n",
    "# Gradient of polynomial linear regression model\n",
    "function ∇model_poly(x, θ)\n",
    "    return ∇m(x, θ, basis_poly)\n",
    "end\n",
    "\n",
    "function ∇model_gaussian(mus, sigma)\n",
    "    # Gradient of gaussian linear regression model\n",
    "    function calculate_∇model_gaussian(x, θ)\n",
    "                \n",
    "    # ===============================================================================\n",
    "        # Implement the gradient of the gaussian model w.r.t. the parameters θ\n",
    "        return ∇m(x, θ, basis_gaussian(mus, sigma))\n",
    "    # ===============================================================================\n",
    "\n",
    "    end\n",
    "end\n"
   ]
  },
  {
   "cell_type": "code",
   "execution_count": 64,
   "metadata": {
    "ExecuteTime": {
     "end_time": "2021-11-11T16:44:04.960000+01:00",
     "start_time": "2021-11-11T15:43:48.189Z"
    }
   },
   "outputs": [
    {
     "data": {
      "text/plain": [
       "H_quadratic_loss (generic function with 1 method)"
      ]
     },
     "execution_count": 64,
     "metadata": {},
     "output_type": "execute_result"
    }
   ],
   "source": [
    "# gradient of the quadratic loss function for a generic model and dataset\n",
    "function ∇quadratic_loss(x, y, model, ∇model)\n",
    "    function calculate_gradient(θ)\n",
    "        # get the number of parameter of the polynomial model\n",
    "        n = size(θ,1)\n",
    "# ===============================================================================\n",
    "# Implement the gradient of the quadratic loss function for a given dataset (x,y) and model\n",
    "        outer = (2 .* (y .- model(x, θ)))'\n",
    "        inner = ∇model(x, θ)\n",
    "        ∇loss = outer * inner\n",
    "# ===============================================================================\n",
    "        return - ∇loss'\n",
    "    end\n",
    "end\n",
    "\n",
    "\n",
    "# Hessian of the loss function\n",
    "function H_quadratic_loss(x,y,model,∇model)\n",
    "# ===============================================================================\n",
    "# Implement the Hessian of the quadratic loss function for a given dataset (x,y) and model\n",
    "# In analogy as done in the function ∇quadratic_loss(x,y,model,∇model) use a Closure in order to be able to retrieve\n",
    "# a function depending only on the parameters \n",
    "    function calculate_hessian(θ)\n",
    "        return 2 .* (∇model(x,θ)' * ∇model(x,θ))\n",
    "    end\n",
    "# ===============================================================================\n",
    "end\n"
   ]
  },
  {
   "cell_type": "markdown",
   "metadata": {},
   "source": [
    "## Exercise 4.1c"
   ]
  },
  {
   "cell_type": "code",
   "execution_count": 82,
   "metadata": {
    "ExecuteTime": {
     "end_time": "2021-11-11T16:44:05.348000+01:00",
     "start_time": "2021-11-11T15:43:48.196Z"
    }
   },
   "outputs": [],
   "source": [
    "# define the number of parameters\n",
    "n_params = 13\n",
    "# define the mean values of the gaussian basis function as equidistant points over the data range\n",
    "# beware that there is one basis function less than number of parameters\n",
    "mus = range(minimum(t_train), maximum(t_train), length=n_params - 1)\n",
    "# standard deviation of gaussian basis functions\n",
    "sigma = 1;"
   ]
  },
  {
   "cell_type": "code",
   "execution_count": 83,
   "metadata": {
    "ExecuteTime": {
     "end_time": "2021-11-11T16:44:05.496000+01:00",
     "start_time": "2021-11-11T15:43:48.202Z"
    }
   },
   "outputs": [
    {
     "data": {
      "text/plain": [
       "(::var\"#calculate_loss#27\"{Vector{Float64}, Vector{Float64}, var\"#calculate_model#26\"{StepRangeLen{Float64, Base.TwicePrecision{Float64}, Base.TwicePrecision{Float64}}, Int64}}) (generic function with 1 method)"
      ]
     },
     "execution_count": 83,
     "metadata": {},
     "output_type": "execute_result"
    }
   ],
   "source": [
    "# quadratic losses and their derivatives for polynomial linear regression model\n",
    "loss_train_poly = quadratic_loss(t_train, p_train, model_poly)\n",
    "∇loss_train_poly = ∇quadratic_loss(t_train, p_train, model_poly, ∇model_poly)\n",
    "H_loss_train_poly = H_quadratic_loss(t_train, p_train, model_poly, ∇model_poly)\n",
    "\n",
    "# quadratic losses and their derivatives for gaussian linear regression model\n",
    "loss_train_gaussian = quadratic_loss(t_train, p_train, model_gaussian(mus, sigma))\n",
    "∇loss_train_gaussian = ∇quadratic_loss(t_train, p_train, model_gaussian(mus, sigma), ∇model_gaussian(mus, sigma))\n",
    "H_loss_train_gaussian = H_quadratic_loss(t_train, p_train, model_gaussian(mus, sigma), ∇model_gaussian(mus, sigma))\n",
    "\n",
    "# Losses for test dataset\n",
    "loss_test_poly = quadratic_loss(t_test, p_test, model_poly)\n",
    "loss_test_gaussian = quadratic_loss(t_test, p_test, model_gaussian(mus, sigma))"
   ]
  },
  {
   "cell_type": "code",
   "execution_count": 84,
   "metadata": {
    "ExecuteTime": {
     "end_time": "2021-11-11T16:44:10.669000+01:00",
     "start_time": "2021-11-11T15:43:48.208Z"
    }
   },
   "outputs": [
    {
     "name": "stdout",
     "output_type": "stream",
     "text": [
      "Minimizer: [6.243713789510139, -67.38559781588944, 277.06720202478164, -631.6546208943116, 895.0692591517109, -846.1617467250448, 558.2897152257203, -263.3949039223558, 89.2064100558877, -21.270746188432398, 3.391596588288163, -0.3238749006576682, 0.013956390484780376]\n",
      "Number of Iterations: 4\n",
      "Optimal loss: 0.033873266049197104\n",
      "Loss on test data: 0.08201616093510063\n",
      "Gradient at Optimum: [-1.6095839106000653e-8, -3.88134230866477e-8, -2.4658767749929922e-8, -4.1387613936016976e-7, 1.9574824028367743e-7, -2.195589910769513e-6, -3.951711413208159e-6, -1.1287464104725586e-5, -6.133687844567248e-5, -0.0003471175118647807, -0.0011130655734632455, -0.0015933603190205758, -0.0397189355280716]\n"
     ]
    }
   ],
   "source": [
    "# ===============================================================================\n",
    "# Randomly intialize first set of parameters and perform newton descent for the polynomial and gaussian linear\n",
    "# regression models\n",
    "\n",
    "x0 = 10*rand(n_params)\n",
    "result_poly,trace_poly = newton_descent(loss_train_poly,∇loss_train_poly, H_loss_train_poly,x0,maxiters = 10000, eps = 0.001);\n",
    "\n",
    "println(\"Minimizer: \",result_poly)\n",
    "println(\"Number of Iterations: \",size(trace_poly,2))\n",
    "println(\"Optimal loss: \",loss_train_poly(result_poly))\n",
    "println(\"Loss on test data: \",loss_test_poly(result_poly))\n",
    "println(\"Gradient at Optimum: \",∇loss_train_poly(result_poly))\n",
    "\n",
    "# ==============================================================================="
   ]
  },
  {
   "cell_type": "code",
   "execution_count": 85,
   "metadata": {},
   "outputs": [
    {
     "name": "stdout",
     "output_type": "stream",
     "text": [
      "Minimizer: [634.309249025795, -10220.641155544916, 35405.05674124265, -61892.584133321616, 72536.98964020232, -73162.08525881678, 74425.70817336405, -66753.48533902057, 32471.968488440474, 14835.848314434561, -40225.1966670381, 30504.07668202397, -9749.914066885]\n",
      "Number of Iterations: 2\n",
      "Optimal loss: 0.032307854106275485\n",
      "Loss on test data: 0.07127728500415387\n",
      "Gradient at Optimum: [2.0459689498153466e-10, -9.602998951585562e-12, 1.0280216955482757e-10, 4.759284355504434e-10, -2.5984588786220897e-10, -3.8091937937245746e-10, -1.6022576321272908e-10, -4.620983734549e-10, 4.367103900726477e-11, 8.161294001718389e-10, 9.278867257878076e-11, -1.7696159815283607e-10, -5.6045432184070876e-11]\n"
     ]
    }
   ],
   "source": [
    "result_gaussian,trace_gaussian = newton_descent(loss_train_gaussian,∇loss_train_gaussian, H_loss_train_gaussian, x0,maxiters = 10000, eps = 0.0001);\n",
    "\n",
    "println(\"Minimizer: \",result_gaussian)\n",
    "println(\"Number of Iterations: \",size(trace_gaussian,2))\n",
    "println(\"Optimal loss: \",loss_train_gaussian(result_gaussian))\n",
    "println(\"Loss on test data: \",loss_test_gaussian(result_gaussian))\n",
    "println(\"Gradient at Optimum: \",∇loss_train_gaussian(result_gaussian))"
   ]
  },
  {
   "cell_type": "code",
   "execution_count": 86,
   "metadata": {
    "ExecuteTime": {
     "end_time": "2021-11-11T16:44:12.378000+01:00",
     "start_time": "2021-11-11T15:43:48.213Z"
    }
   },
   "outputs": [
    {
     "data": {
      "image/png": "[encoded data removed]",
      "text/plain": [
       "Figure(PyObject <Figure size 1000x600 with 1 Axes>)"
      ]
     },
     "metadata": {},
     "output_type": "display_data"
    },
    {
     "data": {
      "text/plain": [
       "(-1, 1)"
      ]
     },
     "execution_count": 86,
     "metadata": {},
     "output_type": "execute_result"
    }
   ],
   "source": [
    "# plot the fit results\n",
    "\n",
    "# ===============================================================================\n",
    "# Vary the number of parameters and the standard deviation of the gaussian basis functions\n",
    "# Observe the performance of the models.\n",
    "# ===============================================================================\n",
    "\n",
    "t_plot = range(0,5,length = 100)\n",
    "fontsize = 13\n",
    "\n",
    "fig = figure(figsize= (10,6))\n",
    "plot(t_plot,model_poly(t_plot,result_poly)', label = \"Polynomial\")\n",
    "plot(t_plot,model_gaussian(mus, sigma)(t_plot,result_gaussian)', label = \"Gaussian\")\n",
    "scatter(t_train,p_train, color = \"black\", label = \"Training data\")\n",
    "scatter(t_test,p_test, color = \"red\", label = \"Test data\")\n",
    "xlabel(\"t [s]\",fontsize = fontsize)\n",
    "ylabel(\"p [cm]\", fontsize = fontsize)\n",
    "legend(loc = \"upper left\", fontsize = fontsize)\n",
    "\n",
    "ylim(-1,1)"
   ]
  },
  {
   "cell_type": "markdown",
   "metadata": {},
   "source": [
    "## Exercise 4.1d"
   ]
  },
  {
   "cell_type": "code",
   "execution_count": 87,
   "metadata": {
    "ExecuteTime": {
     "end_time": "2021-11-11T16:44:32.609000+01:00",
     "start_time": "2021-11-11T15:43:48.219Z"
    }
   },
   "outputs": [],
   "source": [
    "# set the standard deviation of gaussian basis functions back to one\n",
    "sigma = 1;\n",
    "\n",
    "n_paras_max = 13\n",
    "losses_poly_test = zeros(n_paras_max-2)\n",
    "losses_poly_train = zeros(n_paras_max-2)\n",
    "losses_gaussian_test = zeros(n_paras_max-2)\n",
    "losses_gaussian_train = zeros(n_paras_max-2)\n",
    "\n",
    "# ===============================================================================\n",
    "# Implement a loop to test between 3 and 15 dimensional linear regression models (number of parameters) \n",
    "# Randomly initialize the initial points for newton descent in each iteration\n",
    "# make sure to set the vector \"mus\" (mean values of the gaussian basis functions) to the lenght of (n_params - 1)\n",
    "\n",
    "for n_params in range(3,stop=n_paras_max)\n",
    "    \n",
    "    # create an array of random numbers to get a starting point\n",
    "    x0 = 10*rand(n_params)\n",
    "    \n",
    "    mus = range(minimum(t_train), maximum(t_train), length = n_params-1)\n",
    "    \n",
    "    result_poly,trace_poly = newton_descent(loss_train_poly,∇loss_train_poly, H_loss_train_poly,x0,maxiters = 10000, eps = 0.000000001);\n",
    "    result_gaussian,trace_gaussian = newton_descent(loss_train_gaussian,∇loss_train_gaussian, H_loss_train_gaussian, x0,maxiters = 10000, eps = 0.0000001);\n",
    "    \n",
    "    losses_poly_test[n_params-2] = loss_test_poly(result_poly)\n",
    "    losses_poly_train[n_params-2] = loss_train_poly(result_poly)\n",
    "    \n",
    "    losses_gaussian_test[n_params-2] = loss_test_gaussian(result_gaussian)\n",
    "    losses_gaussian_train[n_params-2] = loss_train_gaussian(result_gaussian)\n",
    "        \n",
    "# ===============================================================================\n",
    "        \n",
    "end"
   ]
  },
  {
   "cell_type": "code",
   "execution_count": 88,
   "metadata": {
    "ExecuteTime": {
     "end_time": "2021-11-11T16:44:34.162000+01:00",
     "start_time": "2021-11-11T15:43:48.223Z"
    }
   },
   "outputs": [
    {
     "data": {
      "text/plain": [
       "11-element Vector{Float64}:\n",
       " 0.1800738340182181\n",
       " 0.040186541782587605\n",
       " 0.0394777231472\n",
       " 0.04001033693290763\n",
       " 0.03639751209996161\n",
       " 0.03512206286188471\n",
       " 0.03744959560662678\n",
       " 0.05795198262704728\n",
       " 0.06448338597320508\n",
       " 0.0960267605522985\n",
       " 0.5759631473732866"
      ]
     },
     "execution_count": 88,
     "metadata": {},
     "output_type": "execute_result"
    }
   ],
   "source": [
    "losses_poly_test"
   ]
  },
  {
   "cell_type": "code",
   "execution_count": 89,
   "metadata": {
    "ExecuteTime": {
     "end_time": "2021-11-11T16:44:35.025000+01:00",
     "start_time": "2021-11-11T15:43:48.228Z"
    }
   },
   "outputs": [
    {
     "data": {
      "image/png": "[encoded data removed]",
      "text/plain": [
       "Figure(PyObject <Figure size 800x400 with 1 Axes>)"
      ]
     },
     "metadata": {},
     "output_type": "display_data"
    },
    {
     "data": {
      "text/plain": [
       "PyObject Text(28.0, 0.5, 'loss')"
      ]
     },
     "execution_count": 89,
     "metadata": {},
     "output_type": "execute_result"
    }
   ],
   "source": [
    "# Plot the losses versus the number of parameters\n",
    "fig = figure(figsize= (8,4))\n",
    "plot(range(3,stop=n_paras_max).-1,losses_poly_test, label = \"test data\", marker = \"o\")\n",
    "plot(range(3,stop=n_paras_max).-1,losses_poly_train, label = \"training data\", marker = \"o\")\n",
    "\n",
    "# plot(range(3,stop=n_paras_max),losses_gaussian_test, label = \"Test Gaussian\", marker = \"o\")\n",
    "# plot(range(3,stop=n_paras_max),losses_gaussian_train, label = \"Train Gaussian\", marker = \"o\")\n",
    "\n",
    "ax = plt.gca()\n",
    "legend(fontsize = fontsize)\n",
    "ax.set_yscale(\"log\")\n",
    "\n",
    "xlabel(\"polynomial degree\", fontsize = fontsize)\n",
    "ylabel(\"loss\", fontsize = fontsize)\n",
    "\n",
    "#ylim(3e-2,6e-2)"
   ]
  },
  {
   "cell_type": "markdown",
   "metadata": {},
   "source": [
    "According to the above plot: Which number of parameters seems to be best for the respective models?"
   ]
  },
  {
   "cell_type": "markdown",
   "metadata": {},
   "source": [
    "## Exercise 4.1e"
   ]
  },
  {
   "cell_type": "markdown",
   "metadata": {},
   "source": [
    "In order to prevent overfitting for models with high number of model parameters, a regularization term is added to the loss function:\n",
    "\n",
    "\n",
    " \\begin{equation}\n",
    "l_\\theta(\\mathbf{x}) = \\frac{1}{|D|}\\sum_{i = 1}^{|D|} \\left(y_i - \\mathbf{\\theta}^\\top \\mathbf{\\phi}(x_i)\\right)^2 + \\mu \\sum_{j = 1}^{n} |\\theta_j|^q \n",
    " \\end{equation}\n",
    "\n",
    "with fixed values  $\\mu>0; q \\geq 1; \\mu, q \\in \\mathbb{R}$"
   ]
  },
  {
   "cell_type": "code",
   "execution_count": 90,
   "metadata": {},
   "outputs": [],
   "source": [
    "using LinearAlgebra"
   ]
  },
  {
   "cell_type": "code",
   "execution_count": 91,
   "metadata": {
    "ExecuteTime": {
     "end_time": "2021-11-11T16:44:35.156000+01:00",
     "start_time": "2021-11-11T15:43:48.235Z"
    }
   },
   "outputs": [
    {
     "data": {
      "text/plain": [
       "H_regularization (generic function with 1 method)"
      ]
     },
     "execution_count": 91,
     "metadata": {},
     "output_type": "execute_result"
    }
   ],
   "source": [
    "# Regularization term\n",
    "function regularization(θ,μ,q)\n",
    "    return μ * sum(abs.(θ).^q)\n",
    "end\n",
    "\n",
    "function ∇regularization(θ,μ,q)\n",
    "    n = size(θ,1)\n",
    "# ===============================================================================\n",
    "    # Implement the gradient of the regularization term w.r.t. θ\n",
    "    gradient = μ .* q .* abs.(θ) .^ (q-1) .* sign.(θ)\n",
    "# ===============================================================================\n",
    "    return gradient\n",
    "end\n",
    "\n",
    "function H_regularization(θ,μ,q)\n",
    "    n = size(θ,1)\n",
    "    hessian = zeros(n,n)\n",
    "# ===============================================================================\n",
    "    # Implement the hessian of the regularization term w.r.t. θ, θ != 0 !!\n",
    "    hessian[diagind(hessian, 0)] = μ .* q .* (q-1) .* abs.(θ).^(q-2) .* sign.(θ)\n",
    "# ===============================================================================\n",
    "    return hessian\n",
    "end"
   ]
  },
  {
   "cell_type": "code",
   "execution_count": 92,
   "metadata": {
    "ExecuteTime": {
     "end_time": "2021-11-11T16:44:35.322000+01:00",
     "start_time": "2021-11-11T15:43:48.239Z"
    }
   },
   "outputs": [
    {
     "data": {
      "text/plain": [
       "0.23545103730263994:0.33021915521451217:3.8678617446622736"
      ]
     },
     "execution_count": 92,
     "metadata": {},
     "output_type": "execute_result"
    }
   ],
   "source": [
    "# ===============================================================================\n",
    "# try different values for the following variables\n",
    "n_params = 13\n",
    "q = 2\n",
    "μ = 1 #  1e-3\n",
    "# ===============================================================================\n",
    "\n",
    "mus = range(minimum(t_train), maximum(t_train), length = n_params-1)\n",
    "\n"
   ]
  },
  {
   "cell_type": "code",
   "execution_count": 93,
   "metadata": {
    "ExecuteTime": {
     "end_time": "2021-11-11T16:44:05.496000+01:00",
     "start_time": "2021-11-11T15:43:48.202Z"
    }
   },
   "outputs": [
    {
     "data": {
      "text/plain": [
       "(::var\"#calculate_loss#27\"{Vector{Float64}, Vector{Float64}, var\"#calculate_model#26\"{StepRangeLen{Float64, Base.TwicePrecision{Float64}, Base.TwicePrecision{Float64}}, Int64}}) (generic function with 1 method)"
      ]
     },
     "execution_count": 93,
     "metadata": {},
     "output_type": "execute_result"
    }
   ],
   "source": [
    "# quadratic losses and their derivatives for polynomial linear regression model\n",
    "loss_train_poly = quadratic_loss(t_train, p_train, model_poly)\n",
    "∇loss_train_poly = ∇quadratic_loss(t_train, p_train, model_poly, ∇model_poly)\n",
    "H_loss_train_poly = H_quadratic_loss(t_train, p_train, model_poly, ∇model_poly)\n",
    "\n",
    "# quadratic losses and their derivatives for gaussian linear regression model\n",
    "loss_train_gaussian = quadratic_loss(t_train, p_train, model_gaussian(mus, sigma))\n",
    "∇loss_train_gaussian = ∇quadratic_loss(t_train, p_train, model_gaussian(mus, sigma), ∇model_gaussian(mus, sigma))\n",
    "H_loss_train_gaussian = H_quadratic_loss(t_train, p_train, model_gaussian(mus, sigma), ∇model_gaussian(mus, sigma))\n",
    "\n",
    "# Losses for test dataset\n",
    "loss_test_poly = quadratic_loss(t_test, p_test, model_poly)\n",
    "loss_test_gaussian = quadratic_loss(t_test, p_test, model_gaussian(mus, sigma))"
   ]
  },
  {
   "cell_type": "code",
   "execution_count": 94,
   "metadata": {},
   "outputs": [
    {
     "data": {
      "text/plain": [
       "H_loss_train_gaussian_reg (generic function with 1 method)"
      ]
     },
     "execution_count": 94,
     "metadata": {},
     "output_type": "execute_result"
    }
   ],
   "source": [
    "\n",
    "loss_train_poly_reg(x) = loss_train_poly(x) + regularization(x,μ,q)\n",
    "∇loss_train_poly_reg(x) = ∇loss_train_poly(x) + ∇regularization(x,μ,q)\n",
    "H_loss_train_poly_reg(x) = H_loss_train_poly(x) + H_regularization(x,μ,q)\n",
    "\n",
    "loss_train_gaussian_reg(x) = loss_train_gaussian(x) + regularization(x,μ,q)\n",
    "∇loss_train_gaussian_reg(x) = ∇loss_train_gaussian(x) + ∇regularization(x,μ,q)\n",
    "H_loss_train_gaussian_reg(x) = H_loss_train_gaussian(x) + H_regularization(x,μ,q)"
   ]
  },
  {
   "cell_type": "code",
   "execution_count": 96,
   "metadata": {
    "ExecuteTime": {
     "end_time": "2021-11-11T16:44:36.596000+01:00",
     "start_time": "2021-11-11T15:43:48.244Z"
    }
   },
   "outputs": [
    {
     "name": "stdout",
     "output_type": "stream",
     "text": [
      "Minimizer: [-0.3588530585879761, -0.2569549582921189, -0.14497048262966394, -0.05478615428008138, 0.009173855885114435, 0.041295228414515606, 0.036565082534322, 0.004586334846092166, -0.018517929906622044, -0.004136880240261043, 0.006942020316840214, -0.0019087289110941708, 0.00016470117804257]\n",
      "Number of Iterations: 2\n",
      "Optimal loss: 0.3742898273320087\n",
      "Gradient at Optimum: [-1.3942099843511357e-6, -1.3499813511508307e-7, -6.002741688160285e-7, 1.0898111888479889e-6, -1.5005345188612296e-5, -3.643710924450261e-5, 2.825888941160315e-5, -5.813917972075089e-5, -3.970065276348578e-5, -0.007974413485287712, -0.0025055068197197272, -0.0512507667754476, -0.4457898567554981]\n",
      "\n",
      " Minimizer: [-0.046292575047511164, -0.05220383058955225, -0.11779435729532794, -0.16805693181159476, -0.1832568298207562, -0.15647061277791074, -0.09757406641645128, -0.028280919220086576, 0.02860307833421416, 0.05920021252365526, 0.06255473411406598, 0.04765282548230587, 0.026662770793054236]\n",
      "Number of Iterations: 2\n",
      "Optimal loss: 0.28835102227182474\n",
      "Gradient at Optimum: [9.431344594190705e-14, 5.684341886080802e-14, -4.8683279629813114e-14, -3.064215547965432e-14, 6.250555628639631e-14, -9.181544413650045e-14, -4.854450175173497e-14, 3.2238101077552983e-13, 5.159761506945415e-14, 1.0276501871686605e-13, -7.915890165577366e-14, -1.2406742300186124e-14, 7.048528427588963e-14]\n"
     ]
    }
   ],
   "source": [
    "# Perform newton descent for the the regularized loss functions\n",
    "using Random\n",
    "Random.seed!(42);\n",
    "x0 = 10*rand(n_params) # initial parameter setting\n",
    "#x0 = zeros(n_params)\n",
    "\n",
    "result_poly_reg,trace_poly_reg = newton_descent(loss_train_poly_reg,∇loss_train_poly_reg,H_loss_train_poly_reg,x0,maxiters = 10000, eps = 0.00001);\n",
    "\n",
    "println(\"Minimizer: \",result_poly_reg)\n",
    "println(\"Number of Iterations: \",size(trace_poly_reg,2))\n",
    "println(\"Optimal loss: \",loss_train_poly_reg(result_poly_reg))\n",
    "println(\"Gradient at Optimum: \",∇loss_train_poly_reg(result_poly_reg))\n",
    "\n",
    "result_gaussian_reg,trace_gaussian_reg = newton_descent(loss_train_gaussian_reg,∇loss_train_gaussian_reg, H_loss_train_gaussian_reg, x0,maxiters = 10000, eps = 0.00001);\n",
    "\n",
    "println(\"\\n Minimizer: \",result_gaussian_reg)\n",
    "println(\"Number of Iterations: \",size(trace_gaussian_reg,2))\n",
    "println(\"Optimal loss: \",loss_train_gaussian_reg(result_gaussian_reg))\n",
    "println(\"Gradient at Optimum: \",∇loss_train_gaussian_reg(result_gaussian_reg))"
   ]
  },
  {
   "cell_type": "code",
   "execution_count": 97,
   "metadata": {
    "ExecuteTime": {
     "end_time": "2021-11-11T16:44:36.652000+01:00",
     "start_time": "2021-11-11T15:43:48.248Z"
    }
   },
   "outputs": [
    {
     "name": "stdout",
     "output_type": "stream",
     "text": [
      "Minimizer: [3.670218927019871, -36.684449081658286, 128.4445573759639, -237.91605384555666, 250.49872849484493, -151.44630336158588, 47.91465076881518, -3.750540488237913, -2.2154956679688196, 0.5873158595021306, 0.005984270924889734, -0.01752361913553356, 0.0016641290675032134]\n",
      "Number of Iterations: 6\n",
      "Optimal loss: 0.03305167482406569\n",
      "Loss on test data: 0.08275261374776542\n",
      "Gradient at Optimum: [-4.203516645873151e-9, -9.835330744278892e-9, -5.103217515234348e-9, -8.988176469770792e-8, 1.213197795557619e-7, -2.4979428125959657e-7, 5.889833900596386e-7, 2.8822003343975666e-6, 1.0029978000147821e-5, 5.555935558732017e-6, 0.00012605851952685043, 0.0010025234623753931, -0.003902827957062982]\n",
      "\n",
      " Minimizer: [634.2328235178074, -10216.265986756376, 35382.12839566614, -61831.4535438761, 72430.80355969998, -73032.08759691738, 74313.90936243179, -66693.98035325659, 32467.435117071025, 14810.97631911994, -40200.09244682219, 30491.67884444984, -9747.077429865305]\n",
      "Number of Iterations: 2\n",
      "Optimal loss: 0.03230783314616316\n",
      "Loss on test data: 0.07127739557755393\n",
      "Gradient at Optimum: [3.5359415395674887e-10, -1.505007229951616e-11, 1.1508713426700012e-10, 5.151076509779529e-10, -1.865881546492254e-10, -2.746568528166904e-10, -2.7326606255595465e-11, -3.132036019426465e-10, 1.9397462802661636e-10, 9.547850288171844e-10, 2.1223219709431973e-10, -8.162184816917772e-11, 1.4103614109917118e-11]\n"
     ]
    }
   ],
   "source": [
    "# Perform newton descent for the the un-regularized loss functions\n",
    "\n",
    "result_poly,trace_poly = newton_descent(loss_train_poly, ∇loss_train_poly, H_loss_train_poly, x0, maxiters = 10000, eps = 0.0001);\n",
    "println(\"Minimizer: \",result_poly)\n",
    "println(\"Number of Iterations: \",size(trace_poly,2))\n",
    "println(\"Optimal loss: \",loss_train_poly(result_poly))\n",
    "println(\"Loss on test data: \",loss_test_poly(result_poly))\n",
    "println(\"Gradient at Optimum: \",∇loss_train_poly(result_poly))\n",
    "\n",
    "result_gaussian,trace_gaussian = newton_descent(loss_train_gaussian, ∇loss_train_gaussian, H_loss_train_gaussian, x0,maxiters = 10000, eps = 0.0001);\n",
    "println(\"\\n Minimizer: \",result_gaussian)\n",
    "println(\"Number of Iterations: \",size(trace_gaussian,2))\n",
    "println(\"Optimal loss: \",loss_train_gaussian(result_gaussian))\n",
    "println(\"Loss on test data: \",loss_test_gaussian(result_gaussian))\n",
    "println(\"Gradient at Optimum: \",∇loss_train_gaussian(result_gaussian))"
   ]
  },
  {
   "cell_type": "code",
   "execution_count": 101,
   "metadata": {
    "ExecuteTime": {
     "end_time": "2021-11-11T16:44:37.436000+01:00",
     "start_time": "2021-11-11T15:43:48.253Z"
    }
   },
   "outputs": [
    {
     "data": {
      "image/png": "[encoded data removed]",
      "text/plain": [
       "Figure(PyObject <Figure size 1000x600 with 1 Axes>)"
      ]
     },
     "metadata": {},
     "output_type": "display_data"
    },
    {
     "data": {
      "text/plain": [
       "(-1.2, 1.2)"
      ]
     },
     "execution_count": 101,
     "metadata": {},
     "output_type": "execute_result"
    }
   ],
   "source": [
    "t_plot = range(0,5,length = 100)\n",
    "\n",
    "fig = figure(figsize= (10,6))\n",
    "#plot(t_plot,model_poly(t_plot,result_poly_reg)', label = \"Polynomial Regularized\")\n",
    "plot(t_plot,model_gaussian(mus, sigma)(t_plot,result_gaussian_reg)', label = \"Gaussian Regularized\")\n",
    "\n",
    "#plot(t_plot,model_poly(t_plot,result_poly)', label = \"Polynomial\")\n",
    "plot(t_plot,model_gaussian(mus, sigma)(t_plot,result_gaussian)', label = \"Gaussian\")\n",
    "\n",
    "scatter(t_train,p_train, color = \"black\")\n",
    "scatter(t_test,p_test, color = \"red\")\n",
    "xlabel(\"t [s]\",fontsize = fontsize)\n",
    "ylabel(\"p [cm]\", fontsize = fontsize)\n",
    "legend(loc = \"upper left\", fontsize = fontsize)\n",
    "\n",
    "ylim(-1.2,1.2)"
   ]
  },
  {
   "cell_type": "code",
   "execution_count": 102,
   "metadata": {
    "ExecuteTime": {
     "end_time": "2021-11-11T16:44:49.181000+01:00",
     "start_time": "2021-11-11T15:43:48.258Z"
    }
   },
   "outputs": [],
   "source": [
    "# Loop over different values for the regularization parameter μ in order to find the best one\n",
    "\n",
    "μ_array = [1e-11,1e-10,1e-9,1e-8,1e-7,1e-6,1e-5,0.0001,0.001,0.01,0.1,1,10,100]\n",
    "n_μ = size(μ_array,1)\n",
    "\n",
    "losses_poly_test = zeros(n_μ)\n",
    "losses_poly_train = zeros(n_μ)\n",
    "losses_gaussian_test = zeros(n_μ)\n",
    "losses_gaussian_train = zeros(n_μ)\n",
    "\n",
    "\n",
    "for (index,μ) in enumerate(μ_array)\n",
    "    # create an array of random numbers to get a starting point\n",
    "    x0 = 10*rand(n_params)\n",
    "    \n",
    "    loss_train_poly_reg(x) = loss_train_poly(x) + regularization(x,μ,q)\n",
    "    ∇loss_train_poly_reg(x) = ∇loss_train_poly(x) + ∇regularization(x,μ,q)\n",
    "    H_loss_train_poly_reg(x) = H_loss_train_poly(x) + H_regularization(x,μ,q)\n",
    "\n",
    "    loss_train_gaussian_reg(x) = loss_train_gaussian(x) + regularization(x,μ,q)\n",
    "    ∇loss_train_gaussian_reg(x) = ∇loss_train_gaussian(x) + ∇regularization(x,μ,q)\n",
    "    H_loss_train_gaussian_reg(x) = H_loss_train_gaussian(x) + H_regularization(x,μ,q)\n",
    "    \n",
    "    \n",
    "    result_poly,trace_poly = newton_descent(loss_train_poly_reg,\n",
    "                                            ∇loss_train_poly_reg,\n",
    "                                            H_loss_train_poly_reg,\n",
    "                                            x0,\n",
    "                                            maxiters = 10000,\n",
    "                                            eps = 0.0001);\n",
    "    result_gaussian,trace_gaussian = newton_descent(loss_train_gaussian_reg,\n",
    "                                                    ∇loss_train_gaussian_reg,\n",
    "                                                    H_loss_train_gaussian_reg,\n",
    "                                                    x0,\n",
    "                                                    maxiters = 10000,\n",
    "                                                    eps = 0.0001);\n",
    "    \n",
    "    losses_poly_test[index] = loss_test_poly(result_poly)\n",
    "    losses_poly_train[index] = loss_train_poly(result_poly)\n",
    "    \n",
    "    losses_gaussian_test[index] = loss_test_gaussian(result_gaussian)\n",
    "    losses_gaussian_train[index] = loss_train_gaussian(result_gaussian)\n",
    "    \n",
    "end"
   ]
  },
  {
   "cell_type": "code",
   "execution_count": 103,
   "metadata": {
    "ExecuteTime": {
     "end_time": "2021-11-11T16:44:50.035000+01:00",
     "start_time": "2021-11-11T15:43:48.264Z"
    }
   },
   "outputs": [
    {
     "data": {
      "image/png": "[encoded data removed]",
      "text/plain": [
       "Figure(PyObject <Figure size 800x400 with 1 Axes>)"
      ]
     },
     "metadata": {},
     "output_type": "display_data"
    },
    {
     "data": {
      "text/plain": [
       "PyObject Text(28.0, 0.5, 'loss')"
      ]
     },
     "execution_count": 103,
     "metadata": {},
     "output_type": "execute_result"
    }
   ],
   "source": [
    "# Plot the losses on the test dataset as function of the regularization parameter μ\n",
    "fig = figure(figsize= (8,4))\n",
    "plot(μ_array,losses_poly_test, label = \"Test Polynomial\", marker = \"o\")\n",
    "plot(μ_array,losses_gaussian_test, label = \"Test Gaussian\", marker = \"o\")\n",
    "\n",
    "ax = plt.gca()\n",
    "legend(fontsize = fontsize)\n",
    "ax.set_yscale(\"log\")\n",
    "ax.set_xscale(\"log\")\n",
    "\n",
    "xlabel(L\"$\\mu$\", fontsize = fontsize)\n",
    "ylabel(\"loss\", fontsize = fontsize)\n",
    "\n",
    "#ylim(5e-3,7e-1)"
   ]
  },
  {
   "cell_type": "markdown",
   "metadata": {},
   "source": [
    "# Exercise 3.3 (voluntary): Radiocarbon Dating Method\n",
    "\n",
    "Radiocarbon dating is a good method to determine the age of archeological findings by determining the decay rate of the the radioactive carbon isotope $^{14}C$ in a given sample:\n",
    "\\begin{equation}\n",
    "^{14}_6C \\rightarrow ^{14}_7 N + e^- + \\overline{\\nu_e}\n",
    "\\end{equation}\n",
    "\n",
    "The isotope $^{14}_6C$ is produced by cosmic radiation in the upper atmosphere:\n",
    "<img src=\"figures/cosmic_rays.jpg\" width=\"350\">\n",
    "Graphic from: https://www.kth.se/en/sci/centra/rymdcenter/utstallning/myondetektor-1.813976\n",
    "\n",
    "\n",
    "Plants and animals live in an equilibrium with their surroundings in terms of their carbon content. The term \"equilibrium\" means in that context that the decaying isotopes are replaced by the exchange of $^{14}C$ through the atmosphere and their diets. Hence, the proportion of $^{14}C$ in the living being stays constant during its life. The **natural $^{14}C$ decay rate** in a sample of one gram of pure carbon from a **living animal** yields about $\\mathbf{N_0 = 14}$ radioactive decays per minute.\n",
    "\n",
    "Once it dies, the $^{14}C$ exchange with the environment ceases while the isotopes in its tissue will continue to decay and gradually diminish over time.\n",
    "<img src=\"figures/C14_Kreislauf.png\" width=\"500\">\n",
    "Graphic from: Von Sgbeer - Eigenes Werk, CC BY-SA 3.0, https://commons.wikimedia.org/w/index.php?curid=8869328"
   ]
  },
  {
   "cell_type": "code",
   "execution_count": 41,
   "metadata": {
    "ExecuteTime": {
     "end_time": "2021-11-11T16:44:50.819000+01:00",
     "start_time": "2021-11-11T15:43:48.272Z"
    }
   },
   "outputs": [
    {
     "data": {
      "image/png": "[encoded data removed]",
      "text/plain": [
       "Figure(PyObject <Figure size 750x550 with 1 Axes>)"
      ]
     },
     "metadata": {},
     "output_type": "display_data"
    }
   ],
   "source": [
    "# exponential decay of C^14 atoms\n",
    "\n",
    "fontsize = 13\n",
    "\n",
    "lambda = log(2)/5730\n",
    "x = range(0,10000,length = 50)\n",
    "y = [exp(-k*lambda) for k = x]\n",
    "plot(x,y)\n",
    "\n",
    "xlabel(\"time [years]\", fontsize=fontsize)\n",
    "ax = gca()\n",
    "\n",
    "plot((0,5730),(0.5,0.5),color = \"gray\",linestyle = \"--\")\n",
    "plot((5730,5730),(0,0.5),color = \"gray\",linestyle = \"--\")\n",
    "ax.text(0.5, 0.6, \"\\$Half-life\\$\" , transform=ax.transAxes, fontsize=fontsize, verticalalignment=\"top\",color=\"gray\")\n",
    "ax.set_title(\"Exponential Decay of \\$^{14}C\\$\",fontsize=fontsize);"
   ]
  },
  {
   "cell_type": "markdown",
   "metadata": {},
   "source": [
    "Because the $^{14}C$ decays at a known rate which is exponentially decreasing over time (after 5730 years the rate will be halved), a measurement of the decay rate in a given sample can be used to determine how long the living being has been dead.\n",
    "\n",
    "We are measuring the decays of $^{14}C$ per minute several times. Since there is only a certain probability that an atom decays within a certain time interval, the number of measured decays varies from measurement to measurement. The underlying statistics is called Poisson statistics.\n",
    "\n",
    "The probability $p$ of measuring $x$ decays is given by\n",
    "\\begin{equation}\n",
    "p_k(x) = \\frac{k^x}{x!}e^{-k},\n",
    "\\end{equation}\n",
    "with $k$ the expectation value which is our parameter of interest."
   ]
  },
  {
   "cell_type": "code",
   "execution_count": 42,
   "metadata": {
    "ExecuteTime": {
     "end_time": "2021-11-11T16:44:52.871000+01:00",
     "start_time": "2021-11-11T15:43:48.279Z"
    }
   },
   "outputs": [
    {
     "ename": "LoadError",
     "evalue": "ArgumentError: Package Distributions not found in current path:\n- Run `import Pkg; Pkg.add(\"Distributions\")` to install the Distributions package.\n",
     "output_type": "error",
     "traceback": [
      "ArgumentError: Package Distributions not found in current path:\n- Run `import Pkg; Pkg.add(\"Distributions\")` to install the Distributions package.\n",
      "",
      "Stacktrace:",
      " [1] require(into::Module, mod::Symbol)",
      "   @ Base ./loading.jl:871",
      " [2] eval",
      "   @ ./boot.jl:360 [inlined]",
      " [3] include_string(mapexpr::typeof(REPL.softscope), mod::Module, code::String, filename::String)",
      "   @ Base ./loading.jl:1094"
     ]
    }
   ],
   "source": [
    "using Distributions \n",
    "\n",
    "# poisson distribution\n",
    "p(x,k) = (k^(x)/factorial(x))*exp(-k)"
   ]
  },
  {
   "cell_type": "markdown",
   "metadata": {
    "ExecuteTime": {
     "end_time": "2021-11-11T16:25:29.028000+01:00",
     "start_time": "2021-11-11T15:25:27.653Z"
    }
   },
   "source": [
    "## The Likelihood Function\n",
    "\n",
    "We have a sample of archeological bones and we want to determine its age.\n",
    "<img src=\"figures/bone.jpg\" width=\"350\">\n",
    "\n",
    "We measure a bone piece containing one gram of natural carbon 10 times. The following array defines the observed number of decays per minute. It represents our dataset $D = \\{x_1,x_2,\\dots,x_n\\}$:"
   ]
  },
  {
   "cell_type": "code",
   "execution_count": 43,
   "metadata": {
    "ExecuteTime": {
     "end_time": "2021-11-11T16:44:52.887000+01:00",
     "start_time": "2021-11-11T15:43:48.287Z"
    }
   },
   "outputs": [],
   "source": [
    "data = [2, 3, 4, 6, 5, 3, 3, 5, 5, 6];"
   ]
  },
  {
   "cell_type": "code",
   "execution_count": 44,
   "metadata": {
    "ExecuteTime": {
     "end_time": "2021-11-11T16:45:11.054000+01:00",
     "start_time": "2021-11-11T15:45:10.576Z"
    }
   },
   "outputs": [
    {
     "ename": "LoadError",
     "evalue": "UndefVarError: p not defined",
     "output_type": "error",
     "traceback": [
      "UndefVarError: p not defined",
      "",
      "Stacktrace:",
      " [1] (::var\"#18#19\")(x::Float64)",
      "   @ Main ./none:0",
      " [2] iterate",
      "   @ ./generator.jl:47 [inlined]",
      " [3] collect(itr::Base.Generator{StepRangeLen{Float64, Base.TwicePrecision{Float64}, Base.TwicePrecision{Float64}}, var\"#18#19\"})",
      "   @ Base ./array.jl:678",
      " [4] top-level scope",
      "   @ In[44]:14",
      " [5] eval",
      "   @ ./boot.jl:360 [inlined]",
      " [6] include_string(mapexpr::typeof(REPL.softscope), mod::Module, code::String, filename::String)",
      "   @ Base ./loading.jl:1094"
     ]
    }
   ],
   "source": [
    "# Plot the data as a histogram and compare to different Poisson distributions. Which one matches best?\n",
    "\n",
    "test_points = range(0,25,length = 100)\n",
    "\n",
    "fig, ax1 = subplots()\n",
    "\n",
    "# plot the poisson distributions\n",
    "ax1.set_xlabel(\"\\$x\\$\",fontsize=fontsize)\n",
    "ax1.set_ylabel(\"\\$p_k(x)\\$\", fontsize=fontsize,color = \"red\")\n",
    "\n",
    "# ===============================================================================\n",
    "# You can play around with the parameter k of the poisson distribution in order to find out which one is matching\n",
    "# best to the data based on your eye judgement\n",
    "ax1.plot(test_points,[p(x,3) for x in test_points],color = \"magenta\",label = \"\\$k = 3\\$\", linewidth = 2)\n",
    "ax1.plot(test_points,[p(x,4) for x in test_points],color = \"orange\",label = \"\\$k = 4\\$\", linewidth = 2)\n",
    "ax1.plot(test_points,[p(x,5) for x in test_points],color = \"red\",label = \"\\$k = 5\\$\", linewidth = 2)\n",
    "# ===============================================================================\n",
    "\n",
    "ax1.tick_params(axis=\"y\", which=\"major\", labelcolor=\"red\")\n",
    "ax1.set_ylim(0,0.3)\n",
    "ax1.set_xlim(0,15)\n",
    "\n",
    "# instantiate a second axes that shares the same x-axis\n",
    "ax2 = ax1.twinx()  \n",
    "ax2.set_ylabel(\"Observations\", color=\"blue\",fontsize=fontsize)  # we already handled the x-label with ax1\n",
    "ax2.tick_params(axis=\"y\", which=\"major\", labelsize=fontsize, labelcolor=\"blue\")\n",
    "\n",
    "# plot the dataset as a histogram\n",
    "ax2.hist(data,color=\"blue\", alpha = 0.6, rwidth = 0.9, range = (0,15), bins = 15)\n",
    "\n",
    "fig.tight_layout()  # otherwise the right y-label is slightly clipped\n",
    "ax1.legend(loc = \"upper right\", fontsize=fontsize)"
   ]
  },
  {
   "cell_type": "markdown",
   "metadata": {
    "ExecuteTime": {
     "end_time": "2021-11-11T16:26:41.867000+01:00",
     "start_time": "2021-11-11T15:26:41.859Z"
    }
   },
   "source": [
    "The total probability of all observations together is given by:\n",
    "\\begin{equation}\n",
    "\\ell_k(D) = \\prod_i p_k(x_i)\n",
    "\\end{equation}\n",
    "This is also called the $Likelihood\\;function$. We want to find the parameter $k$ for which the likelihood of our observation is at a maximum. Hence our optimization problem is:\n",
    "\n",
    "Maximize $\\ell_k (D)$ given our dataset $D$.\n",
    "\n",
    "Or equivalently:\n",
    "\n",
    "Minimize $-\\log \\ell_k (D)$"
   ]
  },
  {
   "cell_type": "code",
   "execution_count": 45,
   "metadata": {
    "ExecuteTime": {
     "end_time": "2021-11-11T16:44:54.840000+01:00",
     "start_time": "2021-11-11T15:43:48.303Z"
    }
   },
   "outputs": [
    {
     "ename": "LoadError",
     "evalue": "UndefVarError: p not defined",
     "output_type": "error",
     "traceback": [
      "UndefVarError: p not defined",
      "",
      "Stacktrace:",
      " [1] Likelihood(k::Int64)",
      "   @ Main ./In[45]:4",
      " [2] top-level scope",
      "   @ In[45]:9",
      " [3] eval",
      "   @ ./boot.jl:360 [inlined]",
      " [4] include_string(mapexpr::typeof(REPL.softscope), mod::Module, code::String, filename::String)",
      "   @ Base ./loading.jl:1094"
     ]
    }
   ],
   "source": [
    "function Likelihood(k)\n",
    "    L = 1\n",
    "    for value in data\n",
    "        L = L*p(value,k)\n",
    "    end\n",
    "    return L\n",
    "end\n",
    "\n",
    "println(Likelihood(2))"
   ]
  },
  {
   "cell_type": "code",
   "execution_count": 46,
   "metadata": {
    "ExecuteTime": {
     "end_time": "2021-11-11T16:44:54.956000+01:00",
     "start_time": "2021-11-11T15:43:48.309Z"
    }
   },
   "outputs": [
    {
     "data": {
      "text/plain": [
       "∇LogLikelihood (generic function with 1 method)"
      ]
     },
     "execution_count": 46,
     "metadata": {},
     "output_type": "execute_result"
    }
   ],
   "source": [
    "# ===============================================================================\n",
    "# Define the negative log likelihood function\n",
    "function LogLikelihood(k)\n",
    "    L = 0\n",
    "    for x in data\n",
    "        L = L-log(p(x,k))\n",
    "    end\n",
    "    return L\n",
    "end\n",
    "# ===============================================================================\n",
    "\n",
    "# ===============================================================================\n",
    "# Define the gradient of the negative log likelihood function\n",
    "function ∇LogLikelihood(k)\n",
    "    L = 0\n",
    "    for x in data\n",
    "        L = L-(x/k-1)\n",
    "    end\n",
    "    return L\n",
    "end\n",
    "# ==============================================================================="
   ]
  },
  {
   "cell_type": "code",
   "execution_count": 47,
   "metadata": {
    "ExecuteTime": {
     "end_time": "2021-11-11T16:44:55.539000+01:00",
     "start_time": "2021-11-11T15:43:48.315Z"
    }
   },
   "outputs": [
    {
     "ename": "LoadError",
     "evalue": "UndefVarError: p not defined",
     "output_type": "error",
     "traceback": [
      "UndefVarError: p not defined",
      "",
      "Stacktrace:",
      " [1] LogLikelihood(k::Float64)",
      "   @ Main ./In[46]:6",
      " [2] iterate",
      "   @ ./generator.jl:47 [inlined]",
      " [3] collect(itr::Base.Generator{StepRangeLen{Float64, Base.TwicePrecision{Float64}, Base.TwicePrecision{Float64}}, typeof(LogLikelihood)})",
      "   @ Base ./array.jl:678",
      " [4] top-level scope",
      "   @ In[47]:8",
      " [5] eval",
      "   @ ./boot.jl:360 [inlined]",
      " [6] include_string(mapexpr::typeof(REPL.softscope), mod::Module, code::String, filename::String)",
      "   @ Base ./loading.jl:1094"
     ]
    }
   ],
   "source": [
    "# plot the negative Log Likelihood function versus the parameter k\n",
    "\n",
    "test_k = range(0,15,length = 30)\n",
    "\n",
    "# ===============================================================================\n",
    "# plot the negative log likelihood function versus the parameter k\n",
    "\n",
    "L_plot = [LogLikelihood(k) for k in test_k]\n",
    "plot(test_k,L_plot)\n",
    "\n",
    "# ===============================================================================\n",
    "\n",
    "xlabel(L\"k\", fontsize=fontsize)\n",
    "ylabel(L\"-\\mathrm{ln}\\left(\\ell_k(D)\\right)\", fontsize=fontsize)\n",
    "\n",
    "ylim(0,70)"
   ]
  },
  {
   "cell_type": "code",
   "execution_count": 48,
   "metadata": {
    "ExecuteTime": {
     "end_time": "2021-11-11T16:44:56.256000+01:00",
     "start_time": "2021-11-11T15:43:48.321Z"
    }
   },
   "outputs": [
    {
     "ename": "LoadError",
     "evalue": "UndefVarError: p not defined",
     "output_type": "error",
     "traceback": [
      "UndefVarError: p not defined",
      "",
      "Stacktrace:",
      " [1] LogLikelihood(k::Int64)",
      "   @ Main ./In[46]:6",
      " [2] gradient_descent(f::typeof(LogLikelihood), ∇f::typeof(∇LogLikelihood), x0::Int64; ϵ::Float64, maxiters::Int64, p::Float64)",
      "   @ Main ~/workspace/projects/course-optimization-methods/exercises/04_eq_constrained/optimization_library.jl:41",
      " [3] gradient_descent(f::Function, ∇f::Function, x0::Int64)",
      "   @ Main ~/workspace/projects/course-optimization-methods/exercises/04_eq_constrained/optimization_library.jl:38",
      " [4] top-level scope",
      "   @ In[48]:4",
      " [5] eval",
      "   @ ./boot.jl:360 [inlined]",
      " [6] include_string(mapexpr::typeof(REPL.softscope), mod::Module, code::String, filename::String)",
      "   @ Base ./loading.jl:1094"
     ]
    }
   ],
   "source": [
    "# ===============================================================================\n",
    "# perform gradient descent to find the optimal k\n",
    "k0 = 10;\n",
    "k_best,trace = gradient_descent(LogLikelihood,∇LogLikelihood,k0);\n",
    "\n",
    "println(\"Optimal loss: \",trace[end,end])\n",
    "println(\"Gradient at optimum: \",∇LogLikelihood(k_best))\n",
    "println(\"Iterations: \", size(trace,2))\n",
    "# ==============================================================================="
   ]
  },
  {
   "cell_type": "markdown",
   "metadata": {},
   "source": [
    "The best estimator for the number of decays per minute $\\hat{k}$ in one gram of carbon is:"
   ]
  },
  {
   "cell_type": "code",
   "execution_count": 49,
   "metadata": {
    "ExecuteTime": {
     "end_time": "2021-11-11T16:44:56.302000+01:00",
     "start_time": "2021-11-11T15:43:48.327Z"
    }
   },
   "outputs": [
    {
     "ename": "LoadError",
     "evalue": "UndefVarError: k_best not defined",
     "output_type": "error",
     "traceback": [
      "UndefVarError: k_best not defined",
      "",
      "Stacktrace:",
      " [1] top-level scope",
      "   @ In[49]:1",
      " [2] eval",
      "   @ ./boot.jl:360 [inlined]",
      " [3] include_string(mapexpr::typeof(REPL.softscope), mod::Module, code::String, filename::String)",
      "   @ Base ./loading.jl:1094"
     ]
    }
   ],
   "source": [
    "println(\"Best estimator: \",round(k_best, digits=2))"
   ]
  },
  {
   "cell_type": "code",
   "execution_count": 50,
   "metadata": {
    "ExecuteTime": {
     "end_time": "2021-11-11T16:44:57.673000+01:00",
     "start_time": "2021-11-11T15:43:48.332Z"
    }
   },
   "outputs": [
    {
     "ename": "LoadError",
     "evalue": "UndefVarError: k_best not defined",
     "output_type": "error",
     "traceback": [
      "UndefVarError: k_best not defined",
      "",
      "Stacktrace:",
      " [1] top-level scope",
      "   @ In[50]:3",
      " [2] eval",
      "   @ ./boot.jl:360 [inlined]",
      " [3] include_string(mapexpr::typeof(REPL.softscope), mod::Module, code::String, filename::String)",
      "   @ Base ./loading.jl:1094"
     ]
    }
   ],
   "source": [
    "# show the best matching distribution together with the data\n",
    "\n",
    "k_best = round(k_best, digits=2)\n",
    "\n",
    "test_points = range(0,25,length = 100)\n",
    "y = [p(x,k_best) for x in test_points]\n",
    "\n",
    "fig, ax1 = subplots()\n",
    "\n",
    "ax1.set_xlabel(L\"$x$\",fontsize=fontsize)\n",
    "ax1.set_ylabel(L\"$p_k(x)$\", fontsize=fontsize,color = \"red\")\n",
    "ax1.plot(test_points,y,color = \"red\",label = \"\\$k = $k_best\\$\")\n",
    "ax1.tick_params(axis=\"y\", which=\"major\", labelcolor=\"red\")\n",
    "ax1.set_ylim(0,0.21)\n",
    "\n",
    "ax2 = ax1.twinx()  # instantiate a second axes that shares the same x-axis\n",
    "ax2.set_ylabel(\"Observations\", color=\"blue\",fontsize=fontsize)  # we already handled the x-label with ax1\n",
    "ax2.tick_params(axis=\"y\", which=\"major\", labelsize=fontsize, labelcolor=\"blue\")\n",
    "ax2.hist(data,color=\"blue\")\n",
    "\n",
    "fig.tight_layout()  # otherwise the right y-label is slightly clipped\n",
    "ax1.legend(loc = \"upper right\", fontsize=fontsize)\n",
    "show()"
   ]
  },
  {
   "cell_type": "markdown",
   "metadata": {},
   "source": [
    "The natural decay rate in a sample of one gram of pure carbon from a living animal should produce about $x_0 = 14$ radioactive decays per minute. This number is exponentially reduced after the death of the living being since no carbon is incorporated into the tissue any more.\n",
    "\n",
    "The age of the sample in years is given by (derived from the kown half-life and the exponential decay function):\n",
    "\\begin{equation}\n",
    "    a=8267\\cdot \\ln\\frac{x_{0}}{\\hat{k}}\n",
    "\\end{equation}\n",
    "\n",
    "with $\\hat{k}$ the value that minimizes $-\\log \\ell_k (D)$."
   ]
  },
  {
   "cell_type": "code",
   "execution_count": 51,
   "metadata": {
    "ExecuteTime": {
     "end_time": "2021-11-11T16:44:57.720000+01:00",
     "start_time": "2021-11-11T15:43:48.341Z"
    }
   },
   "outputs": [
    {
     "ename": "LoadError",
     "evalue": "UndefVarError: k_best not defined",
     "output_type": "error",
     "traceback": [
      "UndefVarError: k_best not defined",
      "",
      "Stacktrace:",
      " [1] top-level scope",
      "   @ In[51]:5",
      " [2] eval",
      "   @ ./boot.jl:360 [inlined]",
      " [3] include_string(mapexpr::typeof(REPL.softscope), mod::Module, code::String, filename::String)",
      "   @ Base ./loading.jl:1094"
     ]
    }
   ],
   "source": [
    "# ===============================================================================\n",
    "# Calculate the age of the archeological artefact\n",
    "\n",
    "x0 = 14\n",
    "age = 8267 * log(x0/k_best)\n",
    "# ===============================================================================\n",
    "\n",
    "println(round(age, digits=2),\" years\")"
   ]
  },
  {
   "cell_type": "markdown",
   "metadata": {},
   "source": [
    "Neolithic age:\n",
    "<img src=\"figures/BildJungsteinzeit.png\" width=\"500\">"
   ]
  }
 ],
 "metadata": {
  "kernelspec": {
   "display_name": "Julia 1.6.1",
   "language": "julia",
   "name": "julia-1.6"
  },
  "language_info": {
   "file_extension": ".jl",
   "mimetype": "application/julia",
   "name": "julia",
   "version": "1.6.1"
  },
  "toc": {
   "base_numbering": 1,
   "nav_menu": {},
   "number_sections": true,
   "sideBar": true,
   "skip_h1_title": false,
   "title_cell": "Table of Contents",
   "title_sidebar": "Contents",
   "toc_cell": false,
   "toc_position": {
    "height": "calc(100% - 180px)",
    "left": "10px",
    "top": "150px",
    "width": "165px"
   },
   "toc_section_display": true,
   "toc_window_display": true
  },
  "varInspector": {
   "cols": {
    "lenName": 16,
    "lenType": 16,
    "lenVar": 40
   },
   "kernels_config": {
    "python": {
     "delete_cmd_postfix": "",
     "delete_cmd_prefix": "del ",
     "library": "var_list.py",
     "varRefreshCmd": "print(var_dic_list())"
    },
    "r": {
     "delete_cmd_postfix": ") ",
     "delete_cmd_prefix": "rm(",
     "library": "var_list.r",
     "varRefreshCmd": "cat(var_dic_list()) "
    }
   },
   "types_to_exclude": [
    "module",
    "function",
    "builtin_function_or_method",
    "instance",
    "_Feature"
   ],
   "window_display": false
  }
 },
 "nbformat": 4,
 "nbformat_minor": 4
}
