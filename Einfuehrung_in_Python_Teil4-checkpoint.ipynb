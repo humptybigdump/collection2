{
 "cells": [
  {
   "cell_type": "markdown",
   "metadata": {},
   "source": [
    "# Einführung in Python - Teil 4 \n",
    "\n",
    "In diesem Übungsblatt lernen wir im Hauptteil das wichtige Konzept der Klasse kennen.\n",
    "\n",
    "## Visual Studio Code\n",
    "\n",
    "Installiere Visual Studio Code (VS Code) auf deinem Laptop. VS Code ist eine <b>integrierte Entwicklungsumgebung</b> (<b>IDE</b>, engl. Integrated Development Environment), die es erleichert Programmierprojekte besser zu verwalten und anzuzeigen.  \n",
    "\n",
    "https://code.visualstudio.com/download\n",
    "\n",
    "Sollten bei der Installation Schwierigkeite auftreten, könnte dir dieses Video helfen. \n",
    "\n",
    "https://www.youtube.com/watch?v=K2P5oyCIZek\n",
    "\n",
    "## Fehlerbehandlung\n",
    "\n",
    "Möchte man verhindern, dass ein Programm abstürzt, muss man sich überlegen, an welchen Stellen (engl. <b>Exception</b>) es zu einem Fehler kommen könnte. Fehlerhafte Dateipfade, eine falsche Eingabe von einem (bösartigen) Nutzer oder eine Division durch 0 sind nur einige Beispiele von Fehlern, die ein Programm zum Absturz bringen können. Folglich ist es wichtig an kritischen Stellen im Code Vorsichtsmaßnahmen zu treffen."
   ]
  },
  {
   "cell_type": "code",
   "execution_count": 5,
   "metadata": {},
   "outputs": [
    {
     "name": "stdout",
     "output_type": "stream",
     "text": [
      "Es ist eine Exception aufgetreten.\n",
      "Dieser Block wird immer ausgeführt, auch wenn es keine Exception auftritt.\n",
      "Probiere es selbst aus, indem du 'x' auf 1 setzt.\n"
     ]
    }
   ],
   "source": [
    "try:\n",
    "    x = 0\n",
    "    # Diese Zeile führt zu einer Exception.\n",
    "    result = 1 / x\n",
    "except:\n",
    "    print(\"Es ist eine Exception aufgetreten.\")\n",
    "finally:\n",
    "    print(\"Dieser Block wird immer ausgeführt, auch wenn es keine Exception auftritt.\")\n",
    "    print(\"Probiere es selbst aus, indem du 'x' auf 1 setzt.\")"
   ]
  },
  {
   "cell_type": "markdown",
   "metadata": {},
   "source": [
    "## Klassen\n",
    "\n",
    "In diesem Abschitt lernen wir ein weiteres sehr wichtiges Konzept der objektorientierten Programmierung (OOP) kennen: Klassen. \n",
    "\n",
    "Um Sachverhalte zu modellieren ist es oft nicht ausreichend auf Datentypen zuzugreifen, die wir bisher kennen gelernt haben (Ganzzahlen, Zeichenketten, Listen, usw.). Wenn wir ein z.B: Tier in unserem Programm modellieren, möchten wir, dass es bestimmte Eigenschaften hat und bestimmte „Sachen“ machen kann. Das erreichen wir durch <b>Klassen</b>. Jene können als Baupläne / abstrakte Modelle für bestimmte Objekte verstanden werden.\n",
    "\n",
    "So könnte eine Klasse für ein Tier aussehen."
   ]
  },
  {
   "cell_type": "code",
   "execution_count": null,
   "metadata": {},
   "outputs": [],
   "source": [
    "# Klassen werden großgeschrieben.\n",
    "class Tier:\n",
    "    def __init__(self, name, alter, groesse):\n",
    "        self.name = name\n",
    "        self.alter = alter\n",
    "        self.groesse = groesse\n",
    "    \n",
    "    def vorstellen(self):\n",
    "        print(f\"Ich bin ein Tier namens {self.name}, ich bin\", self.alter, \n",
    "              \"Jahre alt und\", self.groesse, \"cm groß.\")\n",
    "        \n",
    "    def wachsen(self, diff_in_cm):\n",
    "        self.groesse += diff_in_cm"
   ]
  },
  {
   "cell_type": "markdown",
   "metadata": {},
   "source": [
    "Wir haben mit der oberen Klasse einen Bauplan für ein Tier erstellt. Die Variablen 'name', 'alter' und 'groesse' sind Attribute, die bestimmte Eigenschaften der erzeugten Objekte beschreiben. Funktionen, die innerhalb von Klassen definiert sind, nennt man <b>Methoden</b>. Die Funktion 'vorstellen' ist also eine Methode, die nur durch ein Objekt dieser Klasse aufgerufen werden kann. Alle Methoden haben als <b>ersten Parameter 'self'</b>.\n",
    "\n",
    "Bis jetzt haben wir nur einen Bauplan erstellt, ohne davon Objekte zu generieren. Ein Objekt kann dabei als eine Inkarnation der entsprechenden Klasse verstanden werden. Durch folgenden Aufruf erzeugen wir Objekte von Klassen. Hierbei wird der <b>Konstruktur</b> aufgerufen. Der Konstruktur gibt an, welche Eigenschaften das Objekt zum Zeitpunkt seiner Erzeugung hat, und wird durch die Funktion '_init_' realisiert.  "
   ]
  },
  {
   "cell_type": "code",
   "execution_count": null,
   "metadata": {},
   "outputs": [],
   "source": [
    "# Erzeugung des Objekts der Klasse 'Tier'\n",
    "tier = Tier(\"Loni\", 7, 56)\n",
    "\n",
    "# Aufruf der Methode 'vorstellen'\n",
    "tier.vorstellen()\n",
    "\n",
    "# Durch diesen Methoden Aufruf ändert sich \n",
    "# das Attribut des Objekts 'loni'\n",
    "tier.wachsen(4)\n",
    "tier.vorstellen()\n",
    "\n",
    "# So kannst du auf die Attribute von 'tier' zugreifen.\n",
    "print(tier.groesse)"
   ]
  },
  {
   "cell_type": "markdown",
   "metadata": {},
   "source": [
    "### Vererbung \n",
    "\n",
    "Manchmal ist es notwendig, eine Klasse zu erweitern. Die Klasse 'Tier' kann weiter verfeinert werden, indem man <b>Unterklassen</b> davon erzeugt und so z.B. neue Klassen 'Katze' und 'Hund' definiert. Alle Attribute und Methoden der <b>Oberklasse</b> 'Tier' werden dabei an die Unterklassen 'Katze' und 'Hund' <b>vererbt</b>. Das ist ein UML-Diagramm, das die Vererbung darstellt:\n",
    "\n",
    "<br>\n",
    "\n",
    " <figure>\n",
    "  <img src=\"resources/img/uml_diagramm.png\" alt=\"UML-Diagramm\" style=\"width:40%\">\n",
    "  <br>\n",
    "  <figcaption></figcaption>\n",
    "</figure> \n",
    "\n",
    "<br>"
   ]
  },
  {
   "cell_type": "code",
   "execution_count": null,
   "metadata": {},
   "outputs": [],
   "source": [
    "# Ableitung der spezifischen Tierunterklassen 'Katze' und 'Hund' von der allgemeinen Tierklasse\n",
    "\n",
    "class Katze(Tier):\n",
    "    def __init__(self, name, alter, groesse, rasse):\n",
    "        # Aufruf des Konstruktors der Oberklasse\n",
    "        super().__init__(name, alter, groesse)\n",
    "        self.rasse = rasse\n",
    "    \n",
    "    def miauen(self):\n",
    "        print(\"Die Katze\", self.name, \"macht 'miau'!\")\n",
    "        \n",
    "class Hund(Tier):\n",
    "    def __init__(self, name, alter, groesse, rasse):\n",
    "        super().__init__(name, alter, groesse)\n",
    "        self.rasse = rasse\n",
    "    \n",
    "    def bellen(self):\n",
    "        print(\"Der Hund\", self.name, \"bellt 'wuff wuff'!\")\n",
    "\n",
    "# Objekte der spezifischen Tierunterklassen erzeugen\n",
    "katze1 = Katze(\"Minka\", 3, 35, \"Siam\")\n",
    "hund1 = Hund(\"Bello\", 5, 61, \"Labrador\")\n",
    "\n",
    "# Die Methode 'vorstellen'  wurde nicht in der Klasse 'Katze' \n",
    "# definiert, sondern wurde von der Oberklasse 'Tier' geerbt.\n",
    "katze1.vorstellen()  \n",
    "katze1.miauen()\n",
    "\n",
    "hund1.vorstellen()\n",
    "hund1.bellen()"
   ]
  },
  {
   "cell_type": "markdown",
   "metadata": {},
   "source": [
    "<img style=\"float: left;\" src=\"resources/img/laptop_icon.png\" width=50 height=50 /> <br><br>\n",
    "<i>Setze folgenden Sachverhalt mit Hilfe von Klassen um. Orientiere dich dabei am unteren Codefeld, um die Methoden der Klassen richtig zu benennen.  \n",
    "\n",
    "Der Roboter 'Roby' arbeitet in der Lagerhalle A und B, in denen Pakete für den Versand aufbewahrt werden. Die Lagerhallen werden dabei als Listen modelliert, deren Elemente Objekte der Klasse 'Paket' sind. Pakete haben eine Id, ein Gewicht und ein Wert. Leere Plätze werden durch den Schlüsselbegriff 'None' modelliert. \n",
    "\n",
    "Roby bekommt Aufträge in Form von Listen, die die IDs der Pakete enthalten, die aus der Lagerhalle entfernt werden sollen. Nachdem er diese Pakete eingesammelt hat, gibt er aus, ob alle Pakete des Auftrags gefunden wurden. Die eingesammelten Pakete bringt Roby anschließend zur Lagerhalle B und räumt sie auf die nächstfreien Plätze ein. Wenn es mehr Pakete als freie Plätze gibt, gibt er eine Benachrichtigung aus.\n",
    "\n",
    "</i>"
   ]
  },
  {
   "cell_type": "code",
   "execution_count": null,
   "metadata": {},
   "outputs": [],
   "source": [
    "# Implemetiere hier die Klasse für ein Paket.\n",
    "# Die Klasse soll die Attribute id_nummer, gewicht, wert haben."
   ]
  },
  {
   "cell_type": "code",
   "execution_count": null,
   "metadata": {},
   "outputs": [],
   "source": [
    "# Implementiere hier die Klasse 'Roboter'."
   ]
  },
  {
   "cell_type": "code",
   "execution_count": null,
   "metadata": {},
   "outputs": [],
   "source": [
    "def lagerhalle_anzeigen(name, lagerhalle):\n",
    "    '''\n",
    "    Gibt die Belegung der Lagerhalle aus.\n",
    "    @param name: Name der Lagerhalle\n",
    "    @param lagerhalle: Belegung der Lagerhalle als Liste\n",
    "    '''\n",
    "    print(f\"\\nLagerhalle {name}\")\n",
    "    for i in range(len(lagerhalle)):\n",
    "        if lagerhalle[i] != None:\n",
    "            print(f\"Platz {i}: ({lagerhalle[i].id_nummer}, {lagerhalle[i].gewicht}, {lagerhalle[i].wert})\")\n",
    "        else: \n",
    "            print(f\"Platz {i}: None\")\n",
    "\n",
    "lagerhalle_A = [Paket(8912, 2, 50), Paket(1022, 0.8, 10), Paket(3003, 0.2, 500), None, Paket(3212, 0.8, 2500),\n",
    "                Paket(1001, 5, 20), None, Paket(9711, 0.3, 150), Paket(5511, 0.2, 37), None]\n",
    "\n",
    "lagerhalle_B = [None, Paket(1111, 4, 100), None, Paket(1112, 0.4, 11), Paket(1113, 0.1, 3),\n",
    "               Paket(1114, 3.2, 1000), Paket(1115, 2.1, 89), Paket(1116, 1.76, 33), Paket(1117, 3.11, 432), None] \n",
    "\n",
    "roby = Roboter(\"roby\")\n",
    "auftrag = [8912, 1022, 1001, 5511]\n",
    "\n",
    "lagerhalle_anzeigen(\"A\", lagerhalle_A)\n",
    "lagerhalle_anzeigen(\"B\", lagerhalle_B)\n",
    "\n",
    "pakete, msg = roby.pakete_holen(lagerhalle_A, auftrag)\n",
    "print(msg)\n",
    "\n",
    "msg = roby.pakete_einraeumen(pakete, lagerhalle_B)\n",
    "print(msg)\n",
    "\n",
    "lagerhalle_anzeigen(\"A\", lagerhalle_A)\n",
    "lagerhalle_anzeigen(\"B\", lagerhalle_B)"
   ]
  },
  {
   "cell_type": "markdown",
   "metadata": {},
   "source": [
    "Wenn du noch Schwierigkeiten beim Umgang mit Klassen hast, können dir folgende Erklärungen behilflich sein:\n",
    "\n",
    "<ul>\n",
    "    <li><a href=\"https://www.youtube.com/watch?v=46yolPy-2VQ&list=PL_pqkvxZ6ho3u8PJAsUU-rOAQ74D0TqZB&index=21\">YouTube Python Tutorial - Objektorientierung</a></li>\n",
    "    <li><a href=\"https://www.youtube.com/watch?v=XxCZrT7Z3G4&t=255s\">YouTube Python Tutorial - Klassen und Objekte</a></li>\n",
    "    <li><a href=\"https://www.youtube.com/watch?v=CLoK-_qNTnU&list=PL_pqkvxZ6ho3u8PJAsUU-rOAQ74D0TqZB&index=23\">YouTube Python Tutorial - self-Parameter</a></li>\n",
    "    <li><a href=\"https://www.youtube.com/watch?v=58IjjwHs_4A&list=PL_pqkvxZ6ho3u8PJAsUU-rOAQ74D0TqZB&index=24\">YouTube Python Tutorial - Methoden in Klassen</a></li>\n",
    " <li><a href=\"https://www.youtube.com/watch?v=1FMCzUPaHzQ\">YouTube Python Tutorial - Vererbung</a></li>\n",
    "</ul>\n",
    "\n",
    "## Listen (Fortsetzung)\n",
    "\n",
    "In Python sind Listen auch Objekte einer Klasse, sodass auf Listen bestimmte Methoden aufgerufen werden können, wie du schon in der letzten Einheit festgestellst hast."
   ]
  },
  {
   "cell_type": "code",
   "execution_count": null,
   "metadata": {},
   "outputs": [],
   "source": [
    "philosophie = [\"Logik\", \"Erkenntnistheorie\", \"Wissenschaftstheorie\", \n",
    "               \"Metaphysik und Ontologie\", \"Sprachphilosophie\"]\n",
    "\n",
    "# Prüfen, ob Element in Liste enthalten ist.\n",
    "if \"Logik\" in philosophie:\n",
    "    print(\"Logik ist ein Teilgebiet der Philosophie.\")\n",
    "    \n",
    "var = \"Ontologie\"\n",
    "if var in philosophie:\n",
    "    print(f\"{var} ist ein Teilgebiet der Philosophie.\")\n",
    "    \n",
    "# Liste sortieren\n",
    "philosophie.sort()\n",
    "print(philosophie)\n",
    "\n",
    "# Liste umkehren\n",
    "philosophie.reverse()\n",
    "print(philosophie)"
   ]
  }
 ],
 "metadata": {
  "@webio": {
   "lastCommId": null,
   "lastKernelId": null
  },
  "interpreter": {
   "hash": "2d260b012bbf33bcb2887d0961c178b7e1cdbf98f02eb539d597fc41b3ad5997"
  },
  "kernelspec": {
   "display_name": "Python 3",
   "language": "python",
   "name": "python3"
  },
  "language_info": {
   "codemirror_mode": {
    "name": "ipython",
    "version": 3
   },
   "file_extension": ".py",
   "mimetype": "text/x-python",
   "name": "python",
   "nbconvert_exporter": "python",
   "pygments_lexer": "ipython3",
   "version": "3.6.12"
  }
 },
 "nbformat": 4,
 "nbformat_minor": 2
}
