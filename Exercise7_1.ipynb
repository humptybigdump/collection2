{
 "cells": [
  {
   "cell_type": "code",
   "execution_count": null,
   "metadata": {
    "ExecuteTime": {
     "end_time": "2022-12-09T17:52:07.572000+01:00",
     "start_time": "2022-12-09T16:52:07.516Z"
    }
   },
   "outputs": [],
   "source": [
    "include(\"optimization_library.jl\");"
   ]
  },
  {
   "cell_type": "markdown",
   "metadata": {},
   "source": [
    "# Exercise 7.1: Constraint Elimination"
   ]
  },
  {
   "cell_type": "code",
   "execution_count": null,
   "metadata": {
    "ExecuteTime": {
     "end_time": "2022-12-09T17:52:08.655000+01:00",
     "start_time": "2022-12-09T16:52:08.645Z"
    }
   },
   "outputs": [],
   "source": [
    "# Solving a problem with equality constraints Ax = b using constraint elimination and interior point method\n",
    "\n",
    "# f: Objective function\n",
    "# df: Gradient vector of the objective function\n",
    "# Hf: Hessian matrix of the objective function\n",
    "# g: Array of inequality constraints g_i(x) < 0\n",
    "# dg: Array with the gradient of the inequality constraints\n",
    "# Hg: Array with the Hessian of the inequality constraints\n",
    "# A: matrix for equality constraints Ax = b\n",
    "# b: vector for equality constraints Ax = b\n",
    "# barrier_increase: Factor by how much to increase the barrier in every outer iteration\n",
    "# maxiters: maximum number of outer iterations\n",
    "# inner_maxiters: maximum number of inner iterations (within descent method)\n",
    "# eps: Stopping criterion\n",
    "\n",
    "function ConstraintElimination_ipm(f,df,Hf,A,b;g=[],dg=[],Hg=[],eps = 0.0001, barrier_increase = 2.0,\n",
    "                                    maxiters = 100, inner_maxiters = 100)\n",
    "\n",
    "    nx = size(A,2) # dimensions of the original problem\n",
    "    nz = nx - LA.rank(A) # dimensions of the unconstrained problem\n",
    "    \n",
    "    # vectors for transformed positivity constraints --> entry gg[i] is a function depending on z (variable of the\n",
    "    # problem where equality constraints are removed)\n",
    "    \n",
    "    ng = size(g,1)\n",
    "    gg = Vector(undef, ng)\n",
    "    dgg = Vector(undef, ng)\n",
    "    Hgg = Vector(undef, ng)\n",
    "       \n",
    "    # trace of interior point method\n",
    "    trace = 1\n",
    "    \n",
    "# ===============================================================================\n",
    "    # 1. Find an initial admissible solution for, the equality constraints\n",
    "    # 2. Construct the matrix F (see lecture 4 for the notation)\n",
    "    \n",
    "    # 3. Construct new objective functions, its gradient and Hessian \n",
    "    # Concerning the gradient and Hessian: Beware that you derive for z and have to respect the chain rule!\n",
    "    # obj(z) = ...\n",
    "    # dobj(z) = ...\n",
    "    # Hobj(z) = ...\n",
    "    \n",
    "    # 4. Transform the inequality constraints, their gradients and Hessians to be functions of Fz + x0\n",
    "    for i in 1:ng\n",
    "        #gg[i] = ...\n",
    "        #dgg[i] = ...\n",
    "        #Hgg[i] = ...\n",
    "    end\n",
    "\n",
    "    # 5. Randomly initialize z and find an admissible interior point for the transformed problem\n",
    "    # 6. use the admissible interior point to solve the transformed problem\n",
    "    # 7. reconstruct the solution of the original problem \n",
    "    xstar = zeros(nx)\n",
    "    \n",
    "# ===============================================================================\n",
    "    return xstar, trace\n",
    "    \n",
    "end"
   ]
  },
  {
   "cell_type": "markdown",
   "metadata": {},
   "source": [
    "# Exercise 7.2: Santa's Optimal Transport Problem\n",
    "\n",
    "<img src=\"figures/santa-claus.png\" width=\"300\">\n",
    "\n",
    "Solve Santa's optimal transport problem using your constraint elimination method implemented above."
   ]
  },
  {
   "cell_type": "code",
   "execution_count": null,
   "metadata": {},
   "outputs": [],
   "source": []
  },
  {
   "cell_type": "code",
   "execution_count": null,
   "metadata": {},
   "outputs": [],
   "source": []
  }
 ],
 "metadata": {
  "kernelspec": {
   "display_name": "Julia 1.6.3",
   "language": "julia",
   "name": "julia-1.6"
  },
  "language_info": {
   "file_extension": ".jl",
   "mimetype": "application/julia",
   "name": "julia",
   "version": "1.6.3"
  },
  "toc": {
   "base_numbering": 1,
   "nav_menu": {},
   "number_sections": true,
   "sideBar": true,
   "skip_h1_title": false,
   "title_cell": "Table of Contents",
   "title_sidebar": "Contents",
   "toc_cell": false,
   "toc_position": {},
   "toc_section_display": true,
   "toc_window_display": false
  },
  "varInspector": {
   "cols": {
    "lenName": 16,
    "lenType": 16,
    "lenVar": 40
   },
   "kernels_config": {
    "python": {
     "delete_cmd_postfix": "",
     "delete_cmd_prefix": "del ",
     "library": "var_list.py",
     "varRefreshCmd": "print(var_dic_list())"
    },
    "r": {
     "delete_cmd_postfix": ") ",
     "delete_cmd_prefix": "rm(",
     "library": "var_list.r",
     "varRefreshCmd": "cat(var_dic_list()) "
    }
   },
   "types_to_exclude": [
    "module",
    "function",
    "builtin_function_or_method",
    "instance",
    "_Feature"
   ],
   "window_display": false
  }
 },
 "nbformat": 4,
 "nbformat_minor": 4
}
