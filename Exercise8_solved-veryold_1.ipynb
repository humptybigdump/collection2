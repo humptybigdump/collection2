{
 "cells": [
  {
   "cell_type": "code",
   "execution_count": 1,
   "metadata": {
    "ExecuteTime": {
     "end_time": "2020-12-21T20:29:22.836000+01:00",
     "start_time": "2020-12-21T19:29:16.910Z"
    }
   },
   "outputs": [],
   "source": [
    "include(\"optimization_library.jl\");"
   ]
  },
  {
   "cell_type": "markdown",
   "metadata": {},
   "source": [
    "# Exercise 8.1: Lagrange"
   ]
  },
  {
   "cell_type": "code",
   "execution_count": 2,
   "metadata": {
    "ExecuteTime": {
     "end_time": "2020-12-18T13:37:23.813000+01:00",
     "start_time": "2020-12-18T12:35:53.692Z"
    }
   },
   "outputs": [
    {
     "data": {
      "text/plain": [
       "([0.4285714285714287, 0.2857142857142858, -0.8571428571428574], [0.07919931924071721 0.4285714285714287; 0.2635357080887979 0.2857142857142858; 0.1620785604857795 -0.8571428571428574; 0.15081066805726087 0.42857142857142844])"
      ]
     },
     "execution_count": 2,
     "metadata": {},
     "output_type": "execute_result"
    }
   ],
   "source": [
    "# Objective Function, Gradient and Hessian\n",
    "f(x) = x[1]^2 + 3*x[2]^2\n",
    "df(x) = [2*x[1]; 6*x[2]]\n",
    "Hf(x) = [2 0; 0 6]\n",
    "\n",
    "# Equality Constraints A*x = b\n",
    "A = [1 2]\n",
    "b = [1]\n",
    "\n",
    "# Dimensionality of x and lambda\n",
    "nx = size(A,2)\n",
    "nlambda = size(A,1)\n",
    "\n",
    "# Define the Lagrangian and its derivatives\n",
    "L(z) = begin\n",
    "x = z[1:nx]; lambda = z[nx+1:nx+nlambda]\n",
    "return f(x) + lambda' * (A*x-b)\n",
    "end\n",
    "\n",
    "dL(z) = begin\n",
    "x = z[1:nx]; lambda = z[nx+1:nx+nlambda]\n",
    "return vcat(df(x) + A' * lambda, A*x-b)\n",
    "end\n",
    "\n",
    "HL(z) = begin\n",
    "x = z[1:nx]; lambda = z[nx+1:nx+nlambda]\n",
    "return vcat(hcat(Hf(x), A'), hcat(A, zeros(nlambda,nlambda)))\n",
    "end\n",
    "\n",
    "# Solve with Newton's Method (w/o line-search!)\n",
    "z0 = rand(nx+nlambda)\n",
    "zstar,trace = newton_descent(L, dL, HL, z0, ls=false)"
   ]
  },
  {
   "cell_type": "code",
   "execution_count": 3,
   "metadata": {
    "ExecuteTime": {
     "end_time": "2020-12-18T13:37:27.901000+01:00",
     "start_time": "2020-12-18T12:35:53.706Z"
    }
   },
   "outputs": [
    {
     "data": {
      "text/plain": [
       "4×2 Array{Float64,2}:\n",
       " 0.0791993   0.428571\n",
       " 0.263536    0.285714\n",
       " 0.162079   -0.857143\n",
       " 0.150811    0.428571"
      ]
     },
     "execution_count": 3,
     "metadata": {},
     "output_type": "execute_result"
    }
   ],
   "source": [
    "trace"
   ]
  },
  {
   "cell_type": "code",
   "execution_count": 4,
   "metadata": {
    "ExecuteTime": {
     "end_time": "2020-12-18T13:37:32.163000+01:00",
     "start_time": "2020-12-18T12:35:53.719Z"
    }
   },
   "outputs": [
    {
     "data": {
      "text/plain": [
       "3-element Array{Float64,1}:\n",
       "  0.4285714285714287\n",
       "  0.2857142857142858\n",
       " -0.8571428571428574"
      ]
     },
     "execution_count": 4,
     "metadata": {},
     "output_type": "execute_result"
    }
   ],
   "source": [
    "zstar"
   ]
  },
  {
   "cell_type": "code",
   "execution_count": 5,
   "metadata": {
    "ExecuteTime": {
     "end_time": "2020-12-18T13:37:34.004000+01:00",
     "start_time": "2020-12-18T12:35:53.731Z"
    }
   },
   "outputs": [
    {
     "data": {
      "text/plain": [
       "false"
      ]
     },
     "execution_count": 5,
     "metadata": {},
     "output_type": "execute_result"
    }
   ],
   "source": [
    "LA.isposdef(HL(z0))"
   ]
  },
  {
   "cell_type": "code",
   "execution_count": 6,
   "metadata": {
    "ExecuteTime": {
     "end_time": "2020-12-18T13:37:35.605000+01:00",
     "start_time": "2020-12-18T12:35:53.745Z"
    }
   },
   "outputs": [
    {
     "data": {
      "text/plain": [
       "-13.999999999999998"
      ]
     },
     "execution_count": 6,
     "metadata": {},
     "output_type": "execute_result"
    }
   ],
   "source": [
    "LA.det(HL(z0))"
   ]
  },
  {
   "cell_type": "markdown",
   "metadata": {},
   "source": [
    "# Parcel Box"
   ]
  },
  {
   "cell_type": "code",
   "execution_count": 42,
   "metadata": {
    "ExecuteTime": {
     "end_time": "2020-12-18T15:13:22.342000+01:00",
     "start_time": "2020-12-18T14:13:22.255Z"
    }
   },
   "outputs": [
    {
     "data": {
      "text/plain": [
       "Hh (generic function with 1 method)"
      ]
     },
     "execution_count": 42,
     "metadata": {},
     "output_type": "execute_result"
    }
   ],
   "source": [
    "area = 3\n",
    "f(x) = -x[1]*x[2]*x[3]\n",
    "df(x) = [-x[2]*x[3]; -x[1]*x[3]; -x[1]*x[2]]\n",
    "Hf(x) = [0 -x[3] -x[2];\n",
    "        -x[3] 0 -x[1];\n",
    "        -x[2] -x[1] 0]\n",
    "\n",
    "\n",
    "h(x) = x[1]*x[2] + 2(x[1]*x[3] + x[2]*x[3])-area\n",
    "dh(x) = [x[2] + 2*x[3];\n",
    "        x[1] + 2*x[3];\n",
    "        2*x[1] + 2*x[2]]\n",
    "Hh(x) = [0 1 2;\n",
    "        1 0 2;\n",
    "        2 2 0]"
   ]
  },
  {
   "cell_type": "code",
   "execution_count": 43,
   "metadata": {
    "ExecuteTime": {
     "end_time": "2020-12-18T15:13:22.546000+01:00",
     "start_time": "2020-12-18T14:13:22.508Z"
    }
   },
   "outputs": [
    {
     "data": {
      "text/plain": [
       "false"
      ]
     },
     "execution_count": 43,
     "metadata": {},
     "output_type": "execute_result"
    }
   ],
   "source": [
    "LA.isposdef(Hh(z0))"
   ]
  },
  {
   "cell_type": "code",
   "execution_count": 44,
   "metadata": {
    "ExecuteTime": {
     "end_time": "2020-12-18T15:13:22.711000+01:00",
     "start_time": "2020-12-18T14:13:22.707Z"
    }
   },
   "outputs": [
    {
     "data": {
      "text/plain": [
       "HL (generic function with 1 method)"
      ]
     },
     "execution_count": 44,
     "metadata": {},
     "output_type": "execute_result"
    }
   ],
   "source": [
    "# Dimensionality of x and lambda\n",
    "nx = 3\n",
    "nlambda = 1\n",
    "\n",
    "# Define the Lagrangian and its derivatives\n",
    "L(z) = begin\n",
    "x = z[1:nx]; lambda = z[nx+1:nx+nlambda]\n",
    "return f(x) + lambda[1] * h(x)\n",
    "end\n",
    "\n",
    "dL(z) = begin\n",
    "x = z[1:nx]; lambda = z[nx+1:nx+nlambda]\n",
    "return vcat(df(x) + dh(x) * lambda[1], h(x))\n",
    "end\n",
    "\n",
    "HL(z) = begin\n",
    "x = z[1:nx]; lambda = z[nx+1:nx+nlambda]\n",
    "return vcat(hcat(Hf(x) + Hh(x)*lambda[1], dh(x)), hcat(dh(x)', zeros(nlambda,nlambda)))\n",
    "end"
   ]
  },
  {
   "cell_type": "code",
   "execution_count": 45,
   "metadata": {
    "ExecuteTime": {
     "end_time": "2020-12-18T15:13:23.148000+01:00",
     "start_time": "2020-12-18T14:13:22.903Z"
    }
   },
   "outputs": [
    {
     "ename": "LoadError",
     "evalue": "DomainError with -5.15673015882553:\nsqrt will only return a complex result if called with a complex argument. Try sqrt(Complex(x)).",
     "output_type": "error",
     "traceback": [
      "DomainError with -5.15673015882553:\nsqrt will only return a complex result if called with a complex argument. Try sqrt(Complex(x)).",
      "",
      "Stacktrace:",
      " [1] throw_complex_domainerror(::Symbol, ::Float64) at .\\math.jl:33",
      " [2] sqrt at .\\math.jl:573 [inlined]",
      " [3] newton_decrement(::Array{Float64,1}, ::Array{Float64,2}) at C:\\Development\\course-optimization-methods\\exercises\\08_conjugate_proj_grad_desc\\optimization_library.jl:85",
      " [4] newton_descent(::typeof(L), ::typeof(dL), ::typeof(HL), ::Array{Float64,1}; ls::Bool, eps::Float64, maxiters::Int64) at C:\\Development\\course-optimization-methods\\exercises\\08_conjugate_proj_grad_desc\\optimization_library.jl:104",
      " [5] top-level scope at In[45]:3",
      " [6] include_string(::Function, ::Module, ::String, ::String) at .\\loading.jl:1091"
     ]
    }
   ],
   "source": [
    "# Solve with Newton's Method (w/o line-search!)\n",
    "z0 = rand(nx+nlambda)\n",
    "zstar,trace = newton_descent(L, dL, HL, z0, ls=true)"
   ]
  },
  {
   "cell_type": "code",
   "execution_count": 46,
   "metadata": {
    "ExecuteTime": {
     "end_time": "2020-12-18T15:13:24.247000+01:00",
     "start_time": "2020-12-18T14:13:23.658Z"
    }
   },
   "outputs": [
    {
     "data": {
      "text/plain": [
       "3-element Array{Float64,1}:\n",
       "  0.4285714285714287\n",
       "  0.2857142857142858\n",
       " -0.8571428571428574"
      ]
     },
     "execution_count": 46,
     "metadata": {},
     "output_type": "execute_result"
    }
   ],
   "source": [
    "zstar"
   ]
  },
  {
   "cell_type": "code",
   "execution_count": 47,
   "metadata": {
    "ExecuteTime": {
     "end_time": "2020-12-18T15:13:24.868000+01:00",
     "start_time": "2020-12-18T14:13:24.336Z"
    }
   },
   "outputs": [
    {
     "data": {
      "text/plain": [
       "4×2 Array{Float64,2}:\n",
       " 0.0791993   0.428571\n",
       " 0.263536    0.285714\n",
       " 0.162079   -0.857143\n",
       " 0.150811    0.428571"
      ]
     },
     "execution_count": 47,
     "metadata": {},
     "output_type": "execute_result"
    }
   ],
   "source": [
    "trace"
   ]
  },
  {
   "cell_type": "code",
   "execution_count": 48,
   "metadata": {
    "ExecuteTime": {
     "end_time": "2020-12-18T15:13:25.181000+01:00",
     "start_time": "2020-12-18T14:13:25.179Z"
    }
   },
   "outputs": [
    {
     "data": {
      "text/plain": [
       "false"
      ]
     },
     "execution_count": 48,
     "metadata": {},
     "output_type": "execute_result"
    }
   ],
   "source": [
    "LA.isposdef(HL(z0))"
   ]
  },
  {
   "cell_type": "code",
   "execution_count": 49,
   "metadata": {
    "ExecuteTime": {
     "end_time": "2020-12-18T15:13:25.857000+01:00",
     "start_time": "2020-12-18T14:13:25.856Z"
    }
   },
   "outputs": [
    {
     "data": {
      "text/plain": [
       "4-element Array{Float64,1}:\n",
       "  5.253540919754973\n",
       "  6.512001242186887\n",
       " -1.6945614370246957\n",
       " -2.3920488092432084"
      ]
     },
     "execution_count": 49,
     "metadata": {},
     "output_type": "execute_result"
    }
   ],
   "source": [
    "HL(z0) \\ -dL(z0)"
   ]
  },
  {
   "cell_type": "code",
   "execution_count": 15,
   "metadata": {
    "ExecuteTime": {
     "end_time": "2020-12-18T13:37:44.754000+01:00",
     "start_time": "2020-12-18T12:35:53.878Z"
    }
   },
   "outputs": [
    {
     "ename": "LoadError",
     "evalue": "DomainError with -14.024830049962684:\nsqrt will only return a complex result if called with a complex argument. Try sqrt(Complex(x)).",
     "output_type": "error",
     "traceback": [
      "DomainError with -14.024830049962684:\nsqrt will only return a complex result if called with a complex argument. Try sqrt(Complex(x)).",
      "",
      "Stacktrace:",
      " [1] throw_complex_domainerror(::Symbol, ::Float64) at .\\math.jl:33",
      " [2] sqrt at .\\math.jl:573 [inlined]",
      " [3] newton_decrement(::Array{Float64,1}, ::Array{Float64,2}) at C:\\Development\\course-optimization-methods\\exercises\\08_conjugate_proj_grad_desc\\optimization_library.jl:85",
      " [4] top-level scope at In[15]:1",
      " [5] include_string(::Function, ::Module, ::String, ::String) at .\\loading.jl:1091"
     ]
    }
   ],
   "source": [
    "newton_decrement(dL(z0), HL(z0))"
   ]
  },
  {
   "cell_type": "code",
   "execution_count": 16,
   "metadata": {
    "ExecuteTime": {
     "end_time": "2020-12-18T13:37:52.414000+01:00",
     "start_time": "2020-12-18T12:35:53.892Z"
    }
   },
   "outputs": [
    {
     "ename": "LoadError",
     "evalue": "ArgumentError: reducing over an empty collection is not allowed",
     "output_type": "error",
     "traceback": [
      "ArgumentError: reducing over an empty collection is not allowed",
      "",
      "Stacktrace:",
      " [1] _empty_reduce_error() at .\\reduce.jl:299",
      " [2] reduce_empty(::Function, ::Type{Any}) at .\\reduce.jl:309",
      " [3] mapreduce_empty(::typeof(identity), ::Function, ::Type{T} where T) at .\\reduce.jl:343",
      " [4] reduce_empty(::Base.MappingRF{typeof(identity),typeof(max)}, ::Type{Any}) at .\\reduce.jl:329",
      " [5] reduce_empty_iter at .\\reduce.jl:355 [inlined]",
      " [6] mapreduce_empty_iter(::Function, ::Function, ::Array{Any,1}, ::Base.HasEltype) at .\\reduce.jl:351",
      " [7] _mapreduce(::typeof(identity), ::typeof(max), ::IndexLinear, ::Array{Any,1}) at .\\reduce.jl:400",
      " [8] _mapreduce_dim at .\\reducedim.jl:318 [inlined]",
      " [9] #mapreduce#620 at .\\reducedim.jl:310 [inlined]",
      " [10] mapreduce at .\\reducedim.jl:310 [inlined]",
      " [11] _maximum at .\\reducedim.jl:724 [inlined]",
      " [12] _maximum(::Array{Any,1}, ::Colon) at .\\reducedim.jl:723",
      " [13] #maximum#631 at .\\reducedim.jl:719 [inlined]",
      " [14] maximum at .\\reducedim.jl:719 [inlined]",
      " [15] ipm_admissible(::Array{Float64,1}; g::Array{Any,1}, dg::Array{Any,1}, initial_barrier::Float64, barrier_increase::Float64, maxiters::Int64, inner_maxiters::Int64, eps::Float64) at C:\\Development\\course-optimization-methods\\exercises\\08_conjugate_proj_grad_desc\\optimization_library.jl:211",
      " [16] ConstraintElimination_ipm(::typeof(f), ::typeof(df), ::typeof(Hf), ::Array{Int64,2}, ::Array{Int64,1}; g::Array{Any,1}, dg::Array{Any,1}, Hg::Array{Any,1}, eps::Float64, barrier_increase::Float64, maxiters::Int64, inner_maxiters::Int64) at C:\\Development\\course-optimization-methods\\exercises\\08_conjugate_proj_grad_desc\\optimization_library.jl:343",
      " [17] top-level scope at In[16]:1",
      " [18] include_string(::Function, ::Module, ::String, ::String) at .\\loading.jl:1091"
     ]
    }
   ],
   "source": [
    "x_best, trace = ConstraintElimination_ipm(f,df,Hf,A,b;g=[],dg=[],Hg=[],eps = 0.0001, barrier_increase = 2.0,\n",
    "                                    maxiters = 100, inner_maxiters = 100)"
   ]
  },
  {
   "cell_type": "markdown",
   "metadata": {},
   "source": [
    "# Exercise 8.1: Optimal Path for Santa\n",
    "\n",
    "<img src=\"figures/santa-claus.png\" width=\"300\">"
   ]
  },
  {
   "cell_type": "code",
   "execution_count": 77,
   "metadata": {
    "ExecuteTime": {
     "end_time": "2020-12-18T18:51:38.547000+01:00",
     "start_time": "2020-12-18T17:51:38.533Z"
    }
   },
   "outputs": [
    {
     "data": {
      "text/plain": [
       "8-element Array{Int64,1}:\n",
       " 4857\n",
       " 3281\n",
       " 7891\n",
       " 7891\n",
       " 7312\n",
       " 7312\n",
       " 9892\n",
       " 9892"
      ]
     },
     "execution_count": 77,
     "metadata": {},
     "output_type": "execute_result"
    }
   ],
   "source": [
    "c = [4857; 3281; 7891; 7891; 7312; 7312; 9892; 9892]"
   ]
  },
  {
   "cell_type": "code",
   "execution_count": 78,
   "metadata": {
    "ExecuteTime": {
     "end_time": "2020-12-18T18:51:38.960000+01:00",
     "start_time": "2020-12-18T17:51:38.942Z"
    }
   },
   "outputs": [],
   "source": [
    "using JuMP\n",
    "using COSMO"
   ]
  },
  {
   "cell_type": "code",
   "execution_count": 79,
   "metadata": {
    "ExecuteTime": {
     "end_time": "2020-12-18T18:51:39.884000+01:00",
     "start_time": "2020-12-18T17:51:39.645Z"
    }
   },
   "outputs": [
    {
     "data": {
      "text/plain": [
       "8"
      ]
     },
     "execution_count": 79,
     "metadata": {},
     "output_type": "execute_result"
    }
   ],
   "source": [
    "A = [1 1 0 0 0 0 0 0;\n",
    "    0 1 1 -1 0 0 -1 1;\n",
    "    1 0 -1 1 1 -1 0 0;\n",
    "    0 0 0 0 -1 1 1 -1]\n",
    "\n",
    "d_eu = 78\n",
    "d_usa = 60\n",
    "d_bz = 40\n",
    "supply = d_eu + d_usa + d_bz\n",
    "\n",
    "\n",
    "b = [supply; d_eu; d_usa; d_bz]\n",
    "\n",
    "nx = length(c)"
   ]
  },
  {
   "cell_type": "code",
   "execution_count": 81,
   "metadata": {
    "ExecuteTime": {
     "end_time": "2020-12-18T18:51:58.505000+01:00",
     "start_time": "2020-12-18T17:51:58.164Z"
    }
   },
   "outputs": [
    {
     "name": "stdout",
     "output_type": "stream",
     "text": [
      "------------------------------------------------------------------\n",
      "          COSMO v0.7.8 - A Quadratic Objective Conic Solver\n",
      "                         Michael Garstka\n",
      "                University of Oxford, 2017 - 2020\n",
      "------------------------------------------------------------------\n",
      "\n",
      "Problem:  x ∈ R^{8},\n",
      "          constraints: A ∈ R^{12x8} (24 nnz),\n",
      "          matrix size to factor: 20x20,\n",
      "          Floating-point precision: Float64\n",
      "Sets:     Nonnegatives of dim: 8\n",
      "          ZeroSet of dim: 4\n",
      "Settings: ϵ_abs = 1.0e-04, ϵ_rel = 1.0e-04,\n",
      "          ϵ_prim_inf = 1.0e-06, ϵ_dual_inf = 1.0e-04,\n",
      "          ρ = 0.1, σ = 1e-06, α = 1.6,\n",
      "          max_iter = 2500,\n",
      "          scaling iter = 10 (on),\n",
      "          check termination every 40 iter,\n",
      "          check infeasibility every 40 iter,\n",
      "          KKT system solver: QDLDL\n",
      "Setup Time: 0.37ms\n",
      "\n",
      "Iter:\tObjective:\tPrimal Res:\tDual Res:\tRho:\n",
      "1\t-6.8507e+09\t1.6008e+05\t5.9350e+03\t1.0000e-01\n",
      "40\t6.8549e+05\t6.4105e+01\t1.9034e+00\t1.0000e-01\n",
      "80\t7.0857e+05\t1.0159e+01\t2.5187e+01\t4.3262e+00\n",
      "120\t7.0979e+05\t1.0029e+01\t3.6960e+00\t4.3262e+00\n",
      "160\t9.8920e+05\t1.9215e+00\t6.6307e+00\t5.3127e+01\n",
      "200\t1.0352e+06\t4.6788e-02\t3.2855e+01\t5.3127e+01\n",
      "240\t1.0376e+06\t1.4722e-01\t1.2405e+00\t5.3127e+01\n",
      "280\t1.0339e+06\t7.5888e-03\t2.4763e+00\t5.3127e+01\n",
      "320\t1.0338e+06\t1.1038e-02\t1.6229e-01\t5.3127e+01\n",
      "\n",
      "------------------------------------------------------------------\n",
      ">>> Results\n",
      "Status: \u001b[32mSolved\u001b[39m\n",
      "Iterations: 320\n",
      "Optimal objective: 1.034e+06\n",
      "Runtime: 0.087s (87.0ms)\n",
      "\n"
     ]
    }
   ],
   "source": [
    "model = Model(COSMO.Optimizer)\n",
    "@variable(model, x[1:nx])\n",
    "@constraint(model, A * x .== b)\n",
    "@constraint(model,  -x .<= zeros(nx))\n",
    "@objective(model, Min, c'*x)\n",
    "optimize!(model)"
   ]
  },
  {
   "cell_type": "code",
   "execution_count": 84,
   "metadata": {
    "ExecuteTime": {
     "end_time": "2020-12-18T18:54:41.953000+01:00",
     "start_time": "2020-12-18T17:54:41.200Z"
    }
   },
   "outputs": [
    {
     "name": "stdout",
     "output_type": "stream",
     "text": [
      "----------------------------------------------------------------------------\n",
      "\tSCS v2.1.2 - Splitting Conic Solver\n",
      "\t(c) Brendan O'Donoghue, Stanford University, 2012\n",
      "----------------------------------------------------------------------------\n",
      "Lin-sys: sparse-indirect, nnz in A = 24, CG tol ~ 1/iter^(2.00)\n",
      "eps = 1.00e-005, alpha = 1.50, max_iters = 5000, normalize = 1, scale = 1.00\n",
      "acceleration_lookback = 10, rho_x = 1.00e-003\n",
      "Variables n = 8, constraints m = 12\n",
      "Cones:\tprimal zero / dual free vars: 4\n",
      "\tlinear vars: 8\n",
      "Setup time: 1.48e-004s\n",
      "----------------------------------------------------------------------------\n",
      " Iter | pri res | dua res | rel gap | pri obj | dua obj | kap/tau | time (s)\n",
      "----------------------------------------------------------------------------\n",
      "     0|1.85e+019 3.45e+019 1.00e+000 -5.04e+025 5.89e+025 4.00e+025 6.07e-005 \n",
      "    40|9.75e-007 3.21e-006 1.15e-006 1.03e+006 1.03e+006 3.64e-010 1.26e-003 \n",
      "----------------------------------------------------------------------------\n",
      "Status: Solved\n",
      "Timing: Solve time: 1.27e-003s\n",
      "\tLin-sys: avg # CG iterations: 2.32, avg solve time: 2.34e-006s\n",
      "\tCones: avg projection time: 1.56e-007s\n",
      "\tAcceleration: avg step time: 2.45e-005s\n",
      "----------------------------------------------------------------------------\n",
      "Error metrics:\n",
      "dist(s, K) = 1.7819e-014, dist(y, K*) = 0.0000e+000, s'y/|s||y| = -9.4942e-017\n",
      "primal res: |Ax + s - b|_2 / (1 + |b|_2) = 9.7500e-007\n",
      "dual res:   |A'y + c|_2 / (1 + |c|_2) = 3.2064e-006\n",
      "rel gap:    |c'x + b'y| / (1 + |c'x| + |b'y|) = 1.1470e-006\n",
      "----------------------------------------------------------------------------\n",
      "c'x = 1034096.5113, -b'y = 1034098.8835\n",
      "============================================================================\n"
     ]
    }
   ],
   "source": [
    "model = Model(SCS.Optimizer)\n",
    "@variable(model, x[1:nx])\n",
    "@constraint(model, A * x .== b)\n",
    "@constraint(model,  -x .<= zeros(nx))\n",
    "@objective(model, Min, c'*x)\n",
    "optimize!(model)"
   ]
  },
  {
   "cell_type": "code",
   "execution_count": 85,
   "metadata": {
    "ExecuteTime": {
     "end_time": "2020-12-18T18:54:45.722000+01:00",
     "start_time": "2020-12-18T17:54:45.707Z"
    }
   },
   "outputs": [
    {
     "data": {
      "text/plain": [
       "8-element Array{Float64,1}:\n",
       " 99.99998337322089\n",
       " 78.00003936869246\n",
       " -2.3186648417860727e-5\n",
       "  1.558257599109937e-5\n",
       " -5.2352190426652274e-5\n",
       " 40.00007195633986\n",
       " -9.083558334650221e-5\n",
       " -7.297989646168839e-5"
      ]
     },
     "execution_count": 85,
     "metadata": {},
     "output_type": "execute_result"
    }
   ],
   "source": [
    "sol = value.(x)"
   ]
  },
  {
   "cell_type": "markdown",
   "metadata": {},
   "source": [
    "# Truss Structure"
   ]
  },
  {
   "cell_type": "code",
   "execution_count": 2,
   "metadata": {
    "ExecuteTime": {
     "end_time": "2020-12-21T20:29:26.901000+01:00",
     "start_time": "2020-12-21T19:29:22.453Z"
    }
   },
   "outputs": [],
   "source": [
    "using Luxor"
   ]
  },
  {
   "cell_type": "code",
   "execution_count": 3,
   "metadata": {
    "ExecuteTime": {
     "end_time": "2020-12-21T20:29:27.420000+01:00",
     "start_time": "2020-12-21T19:29:22.652Z"
    }
   },
   "outputs": [],
   "source": [
    "# Joints. Each is a two-vector with the x-y coordinate\n",
    "J = [[x,y] for x=0:1:2, y=-1:1:1]\n",
    "nJ = length(J) # number of joints\n",
    "\n",
    "# Beams. Connects all joints that are in a radius < 2m. Each is a tuple with joint indices\n",
    "rad = 2.0\n",
    "B = [(i,j) for i=1:nJ, j = 1:nJ if j < i && LinearAlgebra.norm(J[i]-J[j]) < rad]\n",
    "nB = length(B)\n",
    "\n",
    "# Beams connected to each joint\n",
    "Bj = [[b for b=1:nB if B[b][1] == j || B[b][2] == j] for j=1:nJ];\n",
    "\n",
    "# Cantilever joints\n",
    "max_x = maximum([J[i][1] for i=1:nJ])\n",
    "Jc = [i for i=1:nJ if ((J[i][1] == 0 || J[i][1] == max_x) && J[i][2] <= 0)];\n",
    "nC = length(Jc) # number of cantilever points\n",
    "\n",
    "Bareas = ones(nB) * 100;\n",
    "\n",
    "# External joint loads\n",
    "Jl = [J[j][2] == 0 ? [0.0, -2000*9.81] : [0.0,0.0] for j=1:nJ];"
   ]
  },
  {
   "cell_type": "code",
   "execution_count": 4,
   "metadata": {
    "ExecuteTime": {
     "end_time": "2020-12-21T20:29:28.804000+01:00",
     "start_time": "2020-12-21T19:29:22.828Z"
    }
   },
   "outputs": [
    {
     "data": {
      "text/plain": [
       "3×3 Array{Array{Int64,1},2}:\n",
       " [0, -1]  [0, 0]  [0, 1]\n",
       " [1, -1]  [1, 0]  [1, 1]\n",
       " [2, -1]  [2, 0]  [2, 1]"
      ]
     },
     "execution_count": 4,
     "metadata": {},
     "output_type": "execute_result"
    }
   ],
   "source": [
    "J"
   ]
  },
  {
   "cell_type": "code",
   "execution_count": 5,
   "metadata": {
    "ExecuteTime": {
     "end_time": "2020-12-21T20:29:29.201000+01:00",
     "start_time": "2020-12-21T19:29:23.039Z"
    }
   },
   "outputs": [
    {
     "data": {
      "text/plain": [
       "drawTruss (generic function with 1 method)"
      ]
     },
     "execution_count": 5,
     "metadata": {},
     "output_type": "execute_result"
    }
   ],
   "source": [
    "# J: Joints\n",
    "# B: Beams\n",
    "# Jc: Cantilever joints\n",
    "# Jl: Joint load\n",
    "# A: Beam cross-sectional area\n",
    "function drawTruss(J, B, Jc, Jl, A)\n",
    "    scale = 40\n",
    "    function pos(j)\n",
    "        return Point(J[j][1]*scale - 400, -J[j][2]*scale)\n",
    "    end\n",
    "    @pdf begin\n",
    "        background(\"white\")\n",
    "        \n",
    "        # Draw beams\n",
    "        setcolor(\"black\")\n",
    "        for b=1:nB\n",
    "            if A[b] <= 1\n",
    "                continue\n",
    "            end\n",
    "            setline(sqrt(A[b]))\n",
    "            line(pos(B[b][1]), pos(B[b][2]), :stroke)\n",
    "        end\n",
    "        \n",
    "        # Draw road\n",
    "        setcolor(\"blue\")\n",
    "        setline(5)\n",
    "        line(Point(-400,0), Point(-400 + max_x*scale,0), :stroke)\n",
    "        \n",
    "        # Draw joints\n",
    "        setcolor(\"red\")\n",
    "        for j = 1:length(J)\n",
    "            if j in Jc\n",
    "                circle(pos(j), 8, :fill)\n",
    "            end\n",
    "        end\n",
    "        \n",
    "        # Draw load arrows\n",
    "        setcolor(\"green\")\n",
    "        for j = 1:length(J)\n",
    "            if LinearAlgebra.norm(Jl[j]) <= 0.1\n",
    "                continue\n",
    "            end\n",
    "            Luxor.arrow(pos(j), pos(j) - (Point(Jl[j][1], Jl[j][2])/500), linewidth=5)\n",
    "        end\n",
    "    end 1000 400\n",
    "end"
   ]
  },
  {
   "cell_type": "code",
   "execution_count": 6,
   "metadata": {
    "ExecuteTime": {
     "end_time": "2020-12-21T20:29:30.557000+01:00",
     "start_time": "2020-12-21T19:29:23.493Z"
    }
   },
   "outputs": [
    {
     "data": {
      "text/plain": []
     },
     "execution_count": 6,
     "metadata": {},
     "output_type": "execute_result"
    }
   ],
   "source": [
    "drawTruss(J,B,Jc,Jl,Bareas/10)"
   ]
  },
  {
   "cell_type": "markdown",
   "metadata": {
    "ExecuteTime": {
     "end_time": "2020-12-16T19:06:22.681000+01:00",
     "start_time": "2020-12-16T18:06:22.680Z"
    }
   },
   "source": [
    "# The Optimisation Problem\n",
    "\n",
    "target variable is $x = [f1, f2, \\dots, \\tilde f1, \\tilde f2, \\dots]$\n",
    "the objective function is c'x\n",
    "\n",
    "the number of constraints is\n",
    " - 2 * nB inequality constraints for the absolute value\n",
    " - 2 * (nJ - nC) equality constraints for the joint constraints"
   ]
  },
  {
   "cell_type": "code",
   "execution_count": 7,
   "metadata": {
    "ExecuteTime": {
     "end_time": "2020-12-21T20:29:30.673000+01:00",
     "start_time": "2020-12-21T19:29:24.644Z"
    }
   },
   "outputs": [],
   "source": [
    "c = vcat(zeros(nB), [LinearAlgebra.norm(J[b[1]]-J[b[2]]) for b in B]);"
   ]
  },
  {
   "cell_type": "code",
   "execution_count": 8,
   "metadata": {
    "ExecuteTime": {
     "end_time": "2020-12-21T20:29:30.803000+01:00",
     "start_time": "2020-12-21T19:29:25.068Z"
    }
   },
   "outputs": [],
   "source": [
    "# Equality constraints Ax = b\n",
    "A = zeros(2 * (nJ-nC), length(c));\n",
    "b = zeros(2 * (nJ-nC))'\n",
    "\n",
    "idx = 0\n",
    "for j=1:nJ\n",
    "    # ignore cantilever joints\n",
    "    if j in Jc\n",
    "        continue\n",
    "    end\n",
    "    \n",
    "    # External Load applied at the joint\n",
    "    b[2*idx+1] = -Jl[j][1] # joint load in x-direction\n",
    "    b[2*idx+2] = -Jl[j][2] # joint load in y-direction\n",
    "    \n",
    "    # Sum of the beams connected to j\n",
    "    for b in Bj[j]\n",
    "        db = J[B[b][1]] - J[B[b][2]] # beam direction vector\n",
    "        db_dir = db / LinearAlgebra.norm(db)\n",
    "        A[2*idx+1,b] = db_dir[1] # force across the beam in x-direction\n",
    "        A[2*idx+2,b] = db_dir[2] # force across the beam in y-direction\n",
    "    end\n",
    "    \n",
    "    idx = idx + 1\n",
    "end"
   ]
  },
  {
   "cell_type": "code",
   "execution_count": 9,
   "metadata": {
    "ExecuteTime": {
     "end_time": "2020-12-21T20:29:33.310000+01:00",
     "start_time": "2020-12-21T19:29:25.509Z"
    }
   },
   "outputs": [
    {
     "data": {
      "image/png": "[encoded data removed]",
      "text/plain": [
       "Figure(PyObject <Figure size 640x480 with 1 Axes>)"
      ]
     },
     "metadata": {},
     "output_type": "display_data"
    }
   ],
   "source": [
    "spy(A)\n",
    "PyPlot.plt.axis(\"off\")\n",
    "savefig(\"bridge_spy.pdf\", bbox_inches=\"tight\")"
   ]
  },
  {
   "cell_type": "code",
   "execution_count": 10,
   "metadata": {
    "ExecuteTime": {
     "end_time": "2020-12-21T20:29:33.394000+01:00",
     "start_time": "2020-12-21T19:29:25.996Z"
    }
   },
   "outputs": [
    {
     "data": {
      "text/plain": [
       "Hf (generic function with 1 method)"
      ]
     },
     "execution_count": 10,
     "metadata": {},
     "output_type": "execute_result"
    }
   ],
   "source": [
    "nx = length(c)\n",
    "\n",
    "g = Vector(undef, 2*nB)\n",
    "dg = Vector(undef, 2*nB)\n",
    "Hg = Vector(undef, 2*nB)\n",
    "    \n",
    "for i in 1:nB # fb - tildefb <= 0\n",
    "    g[i] = x -> x[i] - x[i+nB]\n",
    "    dg[i] = x -> begin d = zeros(nx); d[i] = 1; d[i+nB] = -1; return d end\n",
    "    Hg[i] = x -> zeros(nx, nx)\n",
    "end\n",
    "\n",
    "for i in 1:nB # -fb - tildefb <= 0\n",
    "    g[i+nB] = x -> - x[i] - x[i+nB]\n",
    "    dg[i+nB] = x -> begin d = zeros(nx); d[i] = -1; d[i+nB] = -1; return d end\n",
    "    Hg[i+nB] = x -> zeros(nx, nx)\n",
    "end\n",
    "\n",
    "\n",
    "f(x) = c'*x\n",
    "df(x) = c\n",
    "Hf(x) = zeros(nx,nx)"
   ]
  },
  {
   "cell_type": "code",
   "execution_count": 11,
   "metadata": {
    "ExecuteTime": {
     "end_time": "2020-12-21T20:29:33.495000+01:00",
     "start_time": "2020-12-21T19:29:26.420Z"
    }
   },
   "outputs": [
    {
     "name": "stdout",
     "output_type": "stream",
     "text": [
      "Dimensions of the problem\n",
      "size(x): 40\n",
      "inequalities: 40\n"
     ]
    }
   ],
   "source": [
    "println(\"Dimensions of the problem\")\n",
    "println(\"size(x): \",nx)\n",
    "println(\"inequalities: \", 2*nB)"
   ]
  },
  {
   "cell_type": "code",
   "execution_count": 33,
   "metadata": {
    "ExecuteTime": {
     "end_time": "2020-12-18T14:40:25.773000+01:00",
     "start_time": "2020-12-18T12:39:20.593Z"
    }
   },
   "outputs": [
    {
     "name": "stdout",
     "output_type": "stream",
     "text": [
      "5549.219690645689\n",
      "Maximum number of outer iterations reached!\n"
     ]
    },
    {
     "ename": "LoadError",
     "evalue": "Problem has no admissible interior point",
     "output_type": "error",
     "traceback": [
      "Problem has no admissible interior point",
      "",
      "Stacktrace:",
      " [1] error(::String) at .\\error.jl:33",
      " [2] ipm_admissible(::Array{Float64,1}; g::Array{Any,1}, dg::Array{Any,1}, initial_barrier::Float64, barrier_increase::Float64, maxiters::Int64, inner_maxiters::Int64, eps::Float64) at C:\\Development\\course-optimization-methods\\exercises\\08_conjugate_proj_grad_desc\\optimization_library.jl:276",
      " [3] ConstraintElimination_ipm(::typeof(f), ::typeof(df), ::typeof(Hf), ::Array{Float64,2}, ::Array{Float64,1}; g::Array{Any,1}, dg::Array{Any,1}, Hg::Array{Any,1}, eps::Float64, barrier_increase::Float64, maxiters::Int64, inner_maxiters::Int64) at C:\\Development\\course-optimization-methods\\exercises\\08_conjugate_proj_grad_desc\\optimization_library.jl:343",
      " [4] top-level scope at In[33]:1",
      " [5] include_string(::Function, ::Module, ::String, ::String) at .\\loading.jl:1091"
     ]
    }
   ],
   "source": [
    "#x_best, trace = ConstraintElimination_ipm(f,df,Hf,A,b',g=g,dg = dg, Hg = Hg, eps = 0.0001, barrier_increase = 2.0)\n",
    "#round.(reshape(x_best, (4,3)),digits = 4)"
   ]
  },
  {
   "cell_type": "code",
   "execution_count": 35,
   "metadata": {
    "ExecuteTime": {
     "end_time": "2020-12-18T14:40:25.784000+01:00",
     "start_time": "2020-12-18T12:39:30.988Z"
    }
   },
   "outputs": [],
   "source": [
    "#import DelimitedFiles\n",
    "#DF = DelimitedFiles;"
   ]
  },
  {
   "cell_type": "code",
   "execution_count": 36,
   "metadata": {
    "ExecuteTime": {
     "end_time": "2020-12-18T14:40:25.820000+01:00",
     "start_time": "2020-12-18T12:39:31.500Z"
    }
   },
   "outputs": [
    {
     "ename": "LoadError",
     "evalue": "UndefVarError: x_best not defined",
     "output_type": "error",
     "traceback": [
      "UndefVarError: x_best not defined",
      "",
      "Stacktrace:",
      " [1] (::var\"#87#88\")(::IOStream) at .\\In[36]:2",
      " [2] open(::var\"#87#88\", ::String, ::Vararg{String,N} where N; kwargs::Base.Iterators.Pairs{Union{},Union{},Tuple{},NamedTuple{(),Tuple{}}}) at .\\io.jl:325",
      " [3] open(::Function, ::String, ::String) at .\\io.jl:323",
      " [4] top-level scope at In[36]:1",
      " [5] include_string(::Function, ::Module, ::String, ::String) at .\\loading.jl:1091"
     ]
    }
   ],
   "source": [
    "#open(\"Truss_results.csv\", \"w\") do io\n",
    "#           DF.writedlm(io, [vcat(x_best, zeros(2)) trace])\n",
    "#end;"
   ]
  },
  {
   "cell_type": "code",
   "execution_count": null,
   "metadata": {},
   "outputs": [],
   "source": [
    "# Dataset of Mc Donalds Products and corresponding calories and nutrients\n",
    "#results = DF.readdlm(\"McDonalds_results.csv\")\n",
    "#amount = results[1:end-2,1]\n",
    "#trace = results[1:end,2:end]"
   ]
  },
  {
   "cell_type": "markdown",
   "metadata": {},
   "source": [
    "# Solver"
   ]
  },
  {
   "cell_type": "code",
   "execution_count": 12,
   "metadata": {
    "ExecuteTime": {
     "end_time": "2020-12-21T20:29:43.103000+01:00",
     "start_time": "2020-12-21T19:29:34.252Z"
    }
   },
   "outputs": [],
   "source": [
    "using JuMP\n",
    "using SCS"
   ]
  },
  {
   "cell_type": "code",
   "execution_count": 13,
   "metadata": {
    "ExecuteTime": {
     "end_time": "2020-12-21T20:29:43.572000+01:00",
     "start_time": "2020-12-21T19:29:34.860Z"
    }
   },
   "outputs": [],
   "source": [
    "# Inequality constraints Bx <= d\n",
    "C = zeros(2 * nB, length(c))\n",
    "d = zeros(2 * nB);\n",
    "for b = 1:nB\n",
    "    # fb - tildefb <= 0\n",
    "    C[2*b-1,b] = 1.0\n",
    "    C[2*b-1,b+nB] = -1.0\n",
    "    \n",
    "    # -fb - tildefb <= 0\n",
    "    C[2*b,b] = -1.0\n",
    "    C[2*b,b+nB] = -1.0\n",
    "end"
   ]
  },
  {
   "cell_type": "code",
   "execution_count": 14,
   "metadata": {
    "ExecuteTime": {
     "end_time": "2020-12-21T20:30:03.638000+01:00",
     "start_time": "2020-12-21T19:29:35.300Z"
    }
   },
   "outputs": [
    {
     "name": "stdout",
     "output_type": "stream",
     "text": [
      "----------------------------------------------------------------------------\n",
      "\tSCS v2.1.2 - Splitting Conic Solver\n",
      "\t(c) Brendan O'Donoghue, Stanford University, 2012\n",
      "----------------------------------------------------------------------------\n",
      "Lin-sys: sparse-indirect, nnz in A = 420, CG tol ~ 1/iter^(2.00)\n",
      "eps = 1.00e-005, alpha = 1.50, max_iters = 5000, normalize = 1, scale = 1.00\n",
      "acceleration_lookback = 10, rho_x = 1.00e-003\n",
      "Variables n = 40, constraints m = 140\n",
      "Cones:\tprimal zero / dual free vars: 100\n",
      "\tlinear vars: 40\n",
      "Setup time: 6.48e-005s\n",
      "----------------------------------------------------------------------------\n",
      " Iter | pri res | dua res | rel gap | pri obj | dua obj | kap/tau | time (s)\n",
      "----------------------------------------------------------------------------\n",
      "     0|1.25e+019 3.05e+019 1.00e+000 -2.34e+024 1.83e+025 9.31e+024 3.34e-005 \n",
      "    20|3.63e+011 3.22e+012 6.50e-001 2.70e+024 1.27e+025 1.00e+025 4.05e-004 \n",
      "----------------------------------------------------------------------------\n",
      "Status: Infeasible\n",
      "Timing: Solve time: 4.08e-004s\n",
      "\tLin-sys: avg # CG iterations: 6.10, avg solve time: 6.31e-006s\n",
      "\tCones: avg projection time: 5.24e-008s\n",
      "\tAcceleration: avg step time: 1.00e-005s\n",
      "----------------------------------------------------------------------------\n",
      "Certificate of primal infeasibility:\n",
      "dist(y, K*) = 0.0000e+000\n",
      "|A'y|_2 * |b|_2 = 9.8848e-008\n",
      "b'y = -1.0000\n",
      "============================================================================\n"
     ]
    }
   ],
   "source": [
    "model = Model(SCS.Optimizer)\n",
    "@variable(model, x[1:2*nB])\n",
    "@constraint(model, A * x .== b)\n",
    "@constraint(model, C * x .<= d)\n",
    "@objective(model, Min, c'*x)\n",
    "optimize!(model)"
   ]
  },
  {
   "cell_type": "code",
   "execution_count": 15,
   "metadata": {
    "ExecuteTime": {
     "end_time": "2020-12-21T20:30:04.387000+01:00",
     "start_time": "2020-12-21T19:29:36.188Z"
    }
   },
   "outputs": [
    {
     "data": {
      "text/plain": []
     },
     "execution_count": 15,
     "metadata": {},
     "output_type": "execute_result"
    }
   ],
   "source": [
    "sol = value.(x[nB+1:2*nB])\n",
    "drawTruss(J,B,Jc,Jl, sol/1000)"
   ]
  },
  {
   "cell_type": "markdown",
   "metadata": {},
   "source": [
    "# Tests"
   ]
  },
  {
   "cell_type": "code",
   "execution_count": null,
   "metadata": {},
   "outputs": [],
   "source": [
    "h(x) = x[2]\n",
    "dh(x) = [0;1]\n",
    "Hh(x) = [0 0; 0 0]\n",
    "g1(x) = x[1] - x[2]\n",
    "dg1(x) = [1; -1]\n",
    "Hg1(x) = [0 0; 0 0]\n",
    "g2(x) = -x[2]\n",
    "dg2(x) = [0; -1]\n",
    "Hg2(x) = [0 0; 0 0]"
   ]
  },
  {
   "cell_type": "code",
   "execution_count": null,
   "metadata": {},
   "outputs": [],
   "source": [
    "sol, trace = ipm(h, dh, Hh, [-0.5,1], g = [g1,g2], dg = [dg1,dg2], Hg = [Hg1,Hg2])"
   ]
  }
 ],
 "metadata": {
  "kernelspec": {
   "display_name": "Julia 1.5.0",
   "language": "julia",
   "name": "julia-1.5"
  },
  "language_info": {
   "file_extension": ".jl",
   "mimetype": "application/julia",
   "name": "julia",
   "version": "1.5.0"
  },
  "toc": {
   "base_numbering": 1,
   "nav_menu": {},
   "number_sections": true,
   "sideBar": true,
   "skip_h1_title": false,
   "title_cell": "Table of Contents",
   "title_sidebar": "Contents",
   "toc_cell": false,
   "toc_position": {},
   "toc_section_display": true,
   "toc_window_display": true
  },
  "varInspector": {
   "cols": {
    "lenName": 16,
    "lenType": 16,
    "lenVar": 40
   },
   "kernels_config": {
    "python": {
     "delete_cmd_postfix": "",
     "delete_cmd_prefix": "del ",
     "library": "var_list.py",
     "varRefreshCmd": "print(var_dic_list())"
    },
    "r": {
     "delete_cmd_postfix": ") ",
     "delete_cmd_prefix": "rm(",
     "library": "var_list.r",
     "varRefreshCmd": "cat(var_dic_list()) "
    }
   },
   "types_to_exclude": [
    "module",
    "function",
    "builtin_function_or_method",
    "instance",
    "_Feature"
   ],
   "window_display": false
  }
 },
 "nbformat": 4,
 "nbformat_minor": 4
}
