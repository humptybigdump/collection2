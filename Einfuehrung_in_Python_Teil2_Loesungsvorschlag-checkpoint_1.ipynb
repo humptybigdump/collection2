{
 "cells": [
  {
   "cell_type": "markdown",
   "metadata": {},
   "source": [
    "# Einführung in Python - Teil 2 \n",
    "\n",
    "In diesem Übungsblatt lernen wir im ersten Teil ein zentrales Konzept der Programmierung kennen: die Funktion. Im zweiten Teil geht es darum, wie Listen in Python dargestellt werden.\n",
    "\n",
    "## Exkurs: Disziplinen der Informatik\n",
    "\n",
    "Viele Probleme der Informatik lassen sich nicht nur einer Disziplin zuordnen. Trotzdem stellt die folgende Abbildung eine grobe Übersicht / Idee der Teilgebiete der Informatik dar. Folgende Erklärungen erheben keinen Anspruch auf Vollständigkeit und Formalität.\n",
    "\n",
    "<br>\n",
    "\n",
    " <figure>\n",
    "  <img src=\"resources/img/teilbereiche_der_informatik.png\" alt=\"Teilbereiche der Informatik\" style=\"width:70%\">\n",
    "  <br>\n",
    "  <figcaption>Unterteilung nach H. Ernst et al., Grundkurs Informatik (2015)</figcaption>\n",
    "</figure> \n",
    "\n",
    "<br>\n",
    "\n",
    "### Theoretische Informatik\n",
    "\n",
    "Forschende der Theoretische Informatik beschäftigen sich mit den Problemen der Informatik, indem sie diese in eine formale Sprache umschreiben und mit Hilfe von mathematischen und algorithmischen Werkzeugen versuchen zu lösen. Der Einsatz von computergestützten Verfahren steht meistens im Hintergrund.\n",
    "\n",
    "Beispiele:\n",
    "\n",
    "<ul>\n",
    "    <li>Wie ist der Zeitaufwand (gemessen in der Anzahl der Operationen) für die Lösung eines Problems?</li>\n",
    "    <li>Was kann ich überhaupt berechnen?</li>\n",
    "    <li>Wie sicher ist ein Verschlüsselungsverfahren?</li>\n",
    "    <li>Kann entschieden werden, ob ein Wort zu einer formalen Sprache gehört?</li>\n",
    "</ul>\n",
    "\n",
    "### Technische Informatik\n",
    "\n",
    "Forschende der Technischen Informatik befassen sich mit den hardwareseitigen Grundlagen der Informatik. Hardware bezeichnet die physischen Komponenten eines Computers, also alles, was man anfassen kann.\n",
    "\n",
    "Beispiele:\n",
    "\n",
    "<ul>\n",
    "    <li>Wie entwerfe ich einen effizienten Mikroprozessor?</li>\n",
    "    <li>Was ist eine gute Rechnerarchitektur?</li>\n",
    "</ul>\n",
    "\n",
    "### Praktische Informatik\n",
    "\n",
    "Forschende der Praktischen Informatik befassen sich mit den Konzepten und Methoden zur Lösung konkreter informatischer Probleme. \n",
    "\n",
    "Beispiele:\n",
    "\n",
    "<ul>\n",
    "    <li>Was ist der beste Algorithmus, um den kürzesten Weg von A nach B zu finden?</li>\n",
    "    <li>Welcher Entwurf eignet sich am besten zur Umsetzung einer Software und welche gibt es überhaupt?</li>\n",
    "    <li>Was implementiere ich eine schnelle und zuverlässige Datenbank ?</li>\n",
    "</ul>\n",
    "\n",
    "### Anwandte Informatik\n",
    "\n",
    "Forschende der Angewandten Informatik nutzen die Erkenntnisse der Informatik, um ihre Probleme besser lösen zu können.\n",
    "\n",
    "Beispiele:\n",
    "\n",
    "<ul>\n",
    "    <li>Ingenieurinformatik, Maschinenbauinformatik</li>\n",
    "    <li>Informatik in den Wissenschaften, wie z.B. Bioinformatik oder Chemoinformatik. </li>\n",
    "    <li>Wirtschaftsinformatik</li>\n",
    "    \n",
    "</ul>\n",
    "\n",
    "Hier ein schönes Video zur Übersicht der unterschiedlichen Probleme und Teilgebiete der Informatik: <br> https://www.youtube.com/watch?v=SzJ46YA_RaA&t=572s\n",
    "\n",
    "## 1. Funktionen\n",
    "\n",
    "Möchtest du an unterschiedlichen Stellen deines Programms den gleichen Code ausführen, kannst du den Code an jede gewünschte Stelle kopieren. Falls du etwas ändern möchtest, müsstest du allerdings auch jede Kopie deines Codes anpassen. Das ist unpraktisch. \n",
    "\n",
    "Eine Funktion behebt dieses Problem. Sie bündelt den gewünschten Code an einer Stelle deines Programms. Wenn du nun den Code an mehreren Stellen ausführen möchtest, rufst du einfach die Funktion an den gewüschten Stellen auf."
   ]
  },
  {
   "cell_type": "code",
   "execution_count": null,
   "metadata": {},
   "outputs": [],
   "source": [
    "def funktion1(name, jahrgang):\n",
    "    print(f\"Hallo {name}\")\n",
    "    print(\"Wie geht's dir?\")\n",
    "    result = 2023 - jahrgang\n",
    "    return result\n",
    "    \n",
    "ergebnis = funktion1(\"Olaf\", 2000)\n",
    "print(ergebnis)\n"
   ]
  },
  {
   "cell_type": "code",
   "execution_count": null,
   "metadata": {},
   "outputs": [],
   "source": [
    "def begruessung():\n",
    "    print(\"Hallo!\")\n",
    "    print(\"Wie kann ich dir helfen?\")\n",
    "    \n",
    "def sitzung_beenden():\n",
    "    print(\"Die Sitzung wurde beendet.\")\n",
    "    print(\"Auf Wiedersehen!\")\n",
    "    print()\n",
    "   \n",
    "begruessung()\n",
    "print(\"...\")\n",
    "print(\"....\")\n",
    "sitzung_beenden()\n",
    "\n",
    "begruessung()\n",
    "print(\"...\")\n",
    "sitzung_beenden()"
   ]
  },
  {
   "cell_type": "markdown",
   "metadata": {},
   "source": [
    "### Parameter\n",
    "\n",
    "Es wäre doch schöner, wenn die Begrüßung etwas persönlich wäre. Wir müssen der Funktion also einen Namen der Person mitgeben, die begrüßt werden sollen. Die Variablen, die wir der Funktion übergeben, werden <b>Parameter</b> genannt. "
   ]
  },
  {
   "cell_type": "code",
   "execution_count": null,
   "metadata": {},
   "outputs": [],
   "source": [
    "# 'name' ist ein Parameter der Funktion\n",
    "def begruessung2(name):\n",
    "    print(f\"Hallo {name}!\")\n",
    "    print(\"Wie kann ich dir helfen?\")\n",
    "    \n",
    "# Aufruf der Funktion mit dem Namen Max.\n",
    "begruessung2('Max')\n",
    "\n",
    "# Die Funktion muss genauso aufgerufen werden, wie sie definiert ist.\n",
    "# Ein Aufruf ohne einen Parameter (oder mit zwei oder mehr) resultiert in einem Fehler.\n",
    "# Probiere es selbst aus, indem du die folgenden Zeilen auskommentiert.\n",
    "# begruessung2()\n",
    "# begruessung2('Max', 'Moritz')\n",
    "\n",
    "# Du kannst beliebig viele Parameter definieren.\n",
    "def alter_berechnen(name, geburtsjahrgang):\n",
    "    alter = 2023 - geburtsjahrgang\n",
    "    print(f\"Hallo {name}! Du bist ca. {alter} Jahre alt.\")\n",
    "    \n",
    "# Die Reihenfolge der Parameter muss eingehalten werden.\n",
    "alter_berechnen('Moritz', 2000)"
   ]
  },
  {
   "cell_type": "markdown",
   "metadata": {},
   "source": [
    "### Rückgabewerte\n",
    "\n",
    "In vielen Fällen ist es sinnvoll, wenn die aufgerufene Funktion einen Wert zurückgibt, den wir ausgeben oder mit dem wir weiter rechnen können. Dieser Wert wird <b>Rückgabewert</b> genannt."
   ]
  },
  {
   "cell_type": "code",
   "execution_count": null,
   "metadata": {},
   "outputs": [],
   "source": [
    "def durchschnitt_aus4_berechnen(zahl1, zahl2, zahl3, zahl4):\n",
    "    durchschnitt = (zahl1 + zahl2 + zahl3 + zahl4) / 4\n",
    "    # Der Rückgabewert einer Funktion wird durch \n",
    "    # das Schlüsselwort 'return' gekennzeichnet.\n",
    "    return durchschnitt\n",
    "\n",
    "# Der Rückgabewert der Funktion wird in der Variablen 'd' gespeichert.\n",
    "d = durchschnitt_aus4_berechnen(1, 3, 3, 2)\n",
    "print(f\"Der Durchschnitt beträgt {d}.\")"
   ]
  },
  {
   "cell_type": "markdown",
   "metadata": {},
   "source": [
    "### Gültigkeitsbereich einer Variable\n",
    "\n",
    "Die Variablen, die in der Funktion definiert wurden, sind auch nur in diesem Bereich gültig."
   ]
  },
  {
   "cell_type": "code",
   "execution_count": null,
   "metadata": {},
   "outputs": [],
   "source": [
    "# Hier werden die Variablen 'variable1', 'variable2', 'philosopher' definiert.\n",
    "variable1 = 'kant'\n",
    "variable2 = 1724\n",
    "philosopher = True\n",
    "\n",
    "print(variable1, variable2, philosopher)\n",
    "\n",
    "def test_funktion():\n",
    "    # Auch wenn diese Variablen genauso heißen, wie die vorher definierten Variablen,\n",
    "    # handelt es sich um lokale Variablen, die nur im Bereich der Funktion gültig sind.\n",
    "    variable1 = 'bismarck'\n",
    "    variable2 = 1815\n",
    "    philosopher = False\n",
    "    print(variable1, variable2, philosopher)\n",
    "    local_var = 'Lokale Variable'\n",
    "    print(local_var)\n",
    "    \n",
    "test_funktion()\n",
    "print(variable1, variable2, philosopher) \n",
    "\n",
    "# Dieser Aufruf verursacht ein Fehler, weil die Variable 'local_var' nicht mehr gültig ist.\n",
    "print(local_var)"
   ]
  },
  {
   "cell_type": "markdown",
   "metadata": {},
   "source": [
    "### Rekursive Funktionen\n",
    "Rufen sich Funktionen selbst auf, nennt man diese Funktionen <b>rekursiv</b>. "
   ]
  },
  {
   "cell_type": "code",
   "execution_count": null,
   "metadata": {},
   "outputs": [],
   "source": [
    "# Fakultät von 5 = 5 * 4 * 3 * 2 * 1 = 120\n",
    "\n",
    "def fakultaet(n):\n",
    "    if n == 1:\n",
    "        return 1\n",
    "    else:\n",
    "        return n * fakultaet(n-1)\n",
    "\n",
    "print(\"Ergebnis:\", fakultaet(5))\n",
    "\n",
    "# fakultaet(5) = 5 * fakultaet(4)\n",
    "# fakultaet(4) = 4 * fakultaet(3)\n",
    "# fakultaet(3) = 3 * fakultaet(2)\n",
    "# fakultaet(2) = 2 * fakultaet(1)\n",
    "# fakultaet(1) = 1"
   ]
  },
  {
   "cell_type": "markdown",
   "metadata": {},
   "source": [
    "<img style=\"float: left;\" src=\"resources/img/laptop_icon.png\" width=50 height=50 /> <br><br>\n",
    "<i>Folge den Kommentaren, um die gewünschten Funktionen zu implementieren. Entferne anschließend das Schlüsselwort 'pass'. Führe die entsprechenden Felder aus, um zu testen, ob du die gewünschten Ergebnisse erzielst.</i>"
   ]
  },
  {
   "cell_type": "code",
   "execution_count": null,
   "metadata": {},
   "outputs": [],
   "source": [
    "def begruessung(name, eingeloggt):\n",
    "    '''\n",
    "    Wenn Person eingeloggt ist, dann wird sie begrüßt. Andernfalls wird ausgegeben, dass\n",
    "    sie sich einloggen muss.\n",
    "    @param name: Name der Person, die eingeloggt ist / sich einloggen muss\n",
    "    @param eingeloggt: 'True' wenn Person eingeloggt ist, sonst 'False'\n",
    "    '''\n",
    "    if eingeloggt:\n",
    "        return f\"Hallo {name}!\"\n",
    "    else:\n",
    "        return f\"Du musst dich noch einloggen, {name}\"\n",
    "\n",
    "name = \"Max\"\n",
    "eingeloggt = True\n",
    "begruessung(name, eingeloggt)"
   ]
  },
  {
   "cell_type": "code",
   "execution_count": null,
   "metadata": {},
   "outputs": [],
   "source": [
    "def maximum(zahl1, zahl2, zahl3):\n",
    "    '''\n",
    "    Gibt das Maximum der drei Zahlen als Rückgabewert aus.\n",
    "    @param zahl1: erste Zahl\n",
    "    @param zahl2: zweite Zahl\n",
    "    @param zahl3: dritte Zahl\n",
    "    @return: Maximum der drei Zahlen\n",
    "    '''\n",
    "    if zahl1 > zahl2:\n",
    "        if zahl1 > zahl3:\n",
    "            return zahl1\n",
    "        else:\n",
    "            return zahl3\n",
    "        \n",
    "    else:\n",
    "        if zahl2 > zahl3:\n",
    "            return zahl2\n",
    "        else:\n",
    "            return zahl3\n",
    "\n",
    "print(\"Maximum: \", maximum(1, -0.3, 100))\n",
    "\n",
    "# Bemerkung: In Python ist die max-Funktion durch den Aufruf max(...) bereits implementiert.\n",
    "print(\"Python-Funktion max:\", max(1,2,3,4,5))"
   ]
  },
  {
   "cell_type": "code",
   "execution_count": null,
   "metadata": {},
   "outputs": [],
   "source": [
    "# Du kannst auch mehr als zwei Werte als zurückgeben, indem \n",
    "# du sie durch ein Komma trennst.\n",
    "def anzahl_a_und_b(string):\n",
    "    '''\n",
    "    Gibt die Anzahl der As und Bs in der übergebenen Zeichenkette aus.\n",
    "    @param string: Zeichenkette, in dem die As und Bs gezählt werden \n",
    "    @return: Anzahl As, Anzahl Bs\n",
    "    '''\n",
    "    count_a = 0\n",
    "    count_b = 0\n",
    "    for s in string:\n",
    "        if s == 'A':\n",
    "            count_a += 1\n",
    "        elif s == 'B':\n",
    "            count_b += 1\n",
    "            \n",
    "    return count_a, count_b\n",
    "\n",
    "    '''\n",
    "    Alternativ: ohne for-Schleife:\n",
    "    \n",
    "    return string.count('A'), string.count('B')\n",
    "    \n",
    "    '''\n",
    "\n",
    "anzahl_a, anzahl_b = anzahl_a_und_b('AB UND ZU ABBA.')\n",
    "print(f\"Anzahl As: {anzahl_a}, Anzahl Bs: {anzahl_b}\")"
   ]
  },
  {
   "cell_type": "code",
   "execution_count": null,
   "metadata": {},
   "outputs": [],
   "source": [
    "# Die erste und zweite Fibonacci-Zahl ist 1. \n",
    "# Die n-te Fibonacci-Zahl ist die Summe ihrer beiden Vorgänger.\n",
    "\n",
    "def fibonacci(n):\n",
    "    '''\n",
    "    Berechnet die n-te Fibonacci-Zahl.\n",
    "    @param n: Nummer der gesuchten Fibonacci-Zahl\n",
    "    @return: n-te Fibonacci-Zahl\n",
    "    '''\n",
    "    if n == 1:\n",
    "        return 1\n",
    "    elif n == 2:\n",
    "        return 1\n",
    "    else:\n",
    "        return fibonacci(n-2) + fibonacci(n-1)\n",
    "    \n",
    "fibonacci(13)"
   ]
  },
  {
   "cell_type": "markdown",
   "metadata": {},
   "source": [
    "Wenn du noch Schwierigkeiten beim Umgang mit Funktionen hast, können dir folgende Erklärungen behilflich sein:\n",
    "\n",
    "<ul>\n",
    "    <li><a href=\"https://www.youtube.com/watch?v=LQCfN5HS9xI\">YouTube Python Tutorial - Funktionen (Teil 1)</a></li>\n",
    "    <li><a href=\"https://www.youtube.com/watch?v=af9ORp1Pty0\">YouTube Python Tutorial - Funktionen (Teil 2)</a></li>\n",
    "    <li><a href=\"https://www.youtube.com/watch?v=ehSP-sYoKCY\">YouTube Python Tutorial - Funktionen (Teil 3)</a></li>\n",
    "    <li><a href=\"https://www.python-kurs.eu/python3_funktionen.php\">Python-Kurs (Deutsch) - Funktionen</a></li>\n",
    "    <li><a href=\"https://www.w3schools.com/python/python_functions.asp\">Python Lists (W3Schools)</a></li>\n",
    "</ul>"
   ]
  },
  {
   "cell_type": "markdown",
   "metadata": {},
   "source": [
    "## 2. Listen\n",
    "\n",
    "Um mehrere Daten auf einmal zu speichern, können Listen verwendet werden. Listen werden in Python durch eckige Klammern gekennzeichnet. Die Elemente der Liste werden durch Kommata getrennt."
   ]
  },
  {
   "cell_type": "code",
   "execution_count": null,
   "metadata": {},
   "outputs": [],
   "source": [
    "# Das ist eine Zahlenliste.\n",
    "liste_zahlen = [4, -6, 3.5, 1, 1]\n",
    "print(\"Liste von Zahlen:\", liste_zahlen)"
   ]
  },
  {
   "cell_type": "code",
   "execution_count": null,
   "metadata": {},
   "outputs": [],
   "source": [
    "# Das ist eine Liste von Strings.\n",
    "liste_strings = [\"Sokrates\", \"Platon\", \"Aristoteles\"]\n",
    "print(\"Liste von Zeichenketten\", liste_strings)"
   ]
  },
  {
   "cell_type": "code",
   "execution_count": null,
   "metadata": {},
   "outputs": [],
   "source": [
    "# Das ist eine Liste von booleschen Werten.\n",
    "liste_boolsch = [True, False]\n",
    "print(\"Liste von booleschen Werten:\", liste_boolsch)"
   ]
  },
  {
   "cell_type": "code",
   "execution_count": null,
   "metadata": {},
   "outputs": [],
   "source": [
    "# Das ist eine gemischte Liste.\n",
    "liste_gemischt = [\"Nietzsche\", 1844, True]\n",
    "print(\"Das ist eine gemischte Liste:\", liste_gemischt)"
   ]
  },
  {
   "cell_type": "code",
   "execution_count": null,
   "metadata": {},
   "outputs": [],
   "source": [
    "# Das ist eine Liste von Listen.\n",
    "liste_von_listen = [liste_zahlen, liste_strings, liste_boolsch, liste_gemischt]\n",
    "print(\"Liste von Listen:\", liste_von_listen)"
   ]
  },
  {
   "cell_type": "markdown",
   "metadata": {},
   "source": [
    "Um über Listen zu iterieren, verwenden man die for-Schleife."
   ]
  },
  {
   "cell_type": "code",
   "execution_count": null,
   "metadata": {},
   "outputs": [],
   "source": [
    "for element in liste_strings:\n",
    "    print(element)"
   ]
  },
  {
   "cell_type": "markdown",
   "metadata": {},
   "source": [
    "Um auf bestimmte Listenelemente zugreifen zu können, werden wie bei Zeichenketten eckige Klammern verwendet."
   ]
  },
  {
   "cell_type": "code",
   "execution_count": null,
   "metadata": {},
   "outputs": [],
   "source": [
    "print(\"Zahlenliste:\", liste_zahlen)\n",
    "print(\"Zweite Zahl:\", liste_zahlen[2])\n",
    "print(\"Zweite bis vierte Zahl:\", liste_zahlen[2:5])\n",
    "print(\"Alle Zahlen bis zur ersten Zahl:\", liste_zahlen[:2])"
   ]
  },
  {
   "cell_type": "markdown",
   "metadata": {},
   "source": [
    "<img style=\"float: left;\" src=\"resources/img/internet_icon.png\" width=45 height=45 /> <br><br><br>\n",
    "<i>Recherchiere bzw. lese in den verlinkten Quellen nach, wie Listenelemente verändert, hinzugefügt und gelöscht werden können und wie man eine Liste an eine andere Liste anhängt bzw. wie man zwei Listen vereinigt. Das untere Codefeld kannst du dafür verwenden, um deine Rechercheergebnisse zu testen und die Ergbenisse festzuhalten.</i>"
   ]
  },
  {
   "cell_type": "code",
   "execution_count": null,
   "metadata": {},
   "outputs": [],
   "source": [
    "# Füge hier deinen Code ein.\n",
    "\n",
    "liste1 = [\"Socrates\", \"Aristoteles\", \"Platon\", \"Hume\", \"Kant\"]\n",
    "liste2 = [\"Hobbes\", \"Locke\", \"Rousseau\"]\n",
    "\n",
    "# Listenelement verändern\n",
    "liste1[4] = \"Mill\"\n",
    "print(liste1)\n",
    "\n",
    "# Listenelement löschen\n",
    "liste1.remove(\"Hume\")\n",
    "print(liste1)\n",
    "\n",
    "# n-tes Listenelement löschen\n",
    "liste1.pop(1)\n",
    "print(liste1)\n",
    "\n",
    "# Listen vereinigen\n",
    "liste1 += liste2\n",
    "print(liste1)\n"
   ]
  },
  {
   "cell_type": "markdown",
   "metadata": {},
   "source": [
    "<img style=\"float: left;\" src=\"resources/img/laptop_icon.png\" width=50 height=50 /> <br><br>\n",
    "<i>Folge den Kommentaren im Code, um den Umgang mit Listen zu üben.</i>"
   ]
  },
  {
   "cell_type": "code",
   "execution_count": null,
   "metadata": {},
   "outputs": [],
   "source": [
    "# Lege eine Liste an, die fünf Namen von Philosophen enthält.\n",
    "list1_phil = [\"Nozick\", \"Taylor\", \"Rawls\", \"Appiah\", \"Barry\"]\n",
    "\n",
    "# Lege eine zweite Liste an, die zwei Namen von Philosophen enthält.\n",
    "list2_phil = [\"Ryle\", \"Austin\"]\n",
    "\n",
    "# Füge die beiden Listen so zusammen, dass die zweite Liste zwischen \n",
    "# dem zweiten und dritten Philosophen der ersten Liste eingefügt wird.\n",
    "list_res = list1_phil[:2] + list2_phil + list1_phil[2:]\n",
    "print(list_res)\n",
    "\n",
    "# Entferne das erste und letzte Element der aktuellen Liste.\n",
    "list_res.pop(0)\n",
    "list_res.pop(-1)\n",
    "print(list_res)\n",
    "\n",
    "# Gib die Elemente der Liste in umgekehrter Reihenfolge aus.\n",
    "'''\n",
    "list_res[-1] -> letztes Element\n",
    "list_res[-(len(list_res))] -> letztes Element\n",
    "'''\n",
    "for i in range(1, len(list_res) + 1):\n",
    "    print(list_res[-i])\n",
    "    \n",
    "\n",
    "print(\"#\" * 5)\n",
    "\n",
    "'''\n",
    "Wesentlich eleganter\n",
    "'''\n",
    "# Liste umkehren\n",
    "list_res.reverse()\n",
    "for elem in list_res:\n",
    "    print(elem)\n",
    "    "
   ]
  },
  {
   "cell_type": "code",
   "execution_count": null,
   "metadata": {},
   "outputs": [],
   "source": [
    "# Implementiere eine Funktion, die eine Liste von Zahlen als Parameter\n",
    "# übergeben bekommt und den Durchschnitt berechnet. \n",
    "# Recherchiere, wie du die Länge einer Liste bekommst.\n",
    "\n",
    "def durchschnitt(zahlenliste):\n",
    "    return sum(zahlenliste) / len(zahlenliste)\n",
    "\n",
    "durchschnitt([1,2,3,4,5,6,7,8,9,10,11])"
   ]
  },
  {
   "cell_type": "markdown",
   "metadata": {},
   "source": [
    "Wenn du noch Schwierigkeiten beim Umgang mit Listen hast, können dir folgende Erklärungen behilflich sein:\n",
    "\n",
    "<ul>\n",
    "    <li><a href=\"https://www.youtube.com/watch?v=ihF8bZoauBs\">YouTube Python Tutorial - Listen (Teil 1)</a></li>\n",
    "    <li><a href=\"https://www.youtube.com/watch?v=_XzWPXvya2w\">YouTube Python Tutorial - Listen (Teil 2)</a></li>\n",
    "    <li><a href=\"https://www.w3schools.com/python/python_lists.asp\">Python Lists (W3Schools)</a></li>\n",
    "</ul>"
   ]
  },
  {
   "cell_type": "markdown",
   "metadata": {},
   "source": [
    "## Zusatzaufgabe für Schnelle\n",
    "\n",
    "\n",
    "<img style=\"float: left;\" src=\"resources/img/laptop_icon.png\" width=50 height=50 /> <br><br>\n",
    "<i>Implementiere eine Funktion, die als Parameter eine (unsortierte) Zahlenliste übergeben bekommt und die sortierte Liste ausgibt. Gehe dabei so vor, dass du über die Liste iterierst und die Nachbarn vergleichst. Ist das aktuelle Element der Liste größer als deren rechter Nachbar, vertauschst du die Elemente. Du iterierst solange über die Liste bis keine Vertauschung mehr ausgeführt werden. (Beispiel: [3, -5, 1] -> [-5, 1, 3])</i>\n",
    "\n",
    "\n",
    " <figure>\n",
    "  <img src=\"resources/img/bubble_sort.gif\" alt=\"Bubble Sort\" style=\"width:30%\">\n",
    "  <br>\n",
    "  <figcaption></figcaption>\n",
    "</figure> "
   ]
  },
  {
   "cell_type": "code",
   "execution_count": null,
   "metadata": {},
   "outputs": [],
   "source": [
    "'''\n",
    "Bubble Sort\n",
    "@param zahlenliste: Zahlenliste, die sortiert werden soll\n",
    "@return: sortierte Zahlenliste\n",
    "'''\n",
    "def sortieren(zahlenliste):\n",
    "    vertauschung_durchgeführt = True\n",
    "    # Diese while-Schleife wird solange ausgeführt bis in einem kompletten Durchlauf\n",
    "    # keine Vertauschung ausgeführt werden. Das ist gleichbedeutend mit der Tatsache,\n",
    "    # dass die Liste richtig sortiert ist.\n",
    "    while vertauschung_durchgeführt:\n",
    "        vertauschung_durchgeführt = False\n",
    "        for i in range(len(zahlenliste)-1):\n",
    "            if zahlenliste[i] > zahlenliste[i+1]:\n",
    "                vertauschung_durchgeführt = True\n",
    "                zahlenliste[i], zahlenliste[i+1] = zahlenliste[i+1], zahlenliste[i]\n",
    "            \n",
    "    return zahlenliste\n",
    "\n",
    "unsortierte_liste = [-2, 3, 1, 10, -2, 8]\n",
    "print(\"Unsortierte Liste:\", unsortierte_liste)\n",
    "print(\"Sortierte Liste:\", sortieren(unsortierte_liste))\n",
    "\n",
    "# Bemerkung: Implementierung ist nicht optimal (es werden mehr Vergleiche durchgeführt als notwendig)."
   ]
  },
  {
   "cell_type": "markdown",
   "metadata": {},
   "source": [
    "## Abbildungsverzeichnis\n",
    "\n",
    "[1] https://de.wikipedia.org/wiki/Bubblesort#/media/Datei:Bubble-sort-example-300px.gif"
   ]
  }
 ],
 "metadata": {
  "@webio": {
   "lastCommId": null,
   "lastKernelId": null
  },
  "interpreter": {
   "hash": "2d260b012bbf33bcb2887d0961c178b7e1cdbf98f02eb539d597fc41b3ad5997"
  },
  "kernelspec": {
   "display_name": "Python 3",
   "language": "python",
   "name": "python3"
  },
  "language_info": {
   "codemirror_mode": {
    "name": "ipython",
    "version": 3
   },
   "file_extension": ".py",
   "mimetype": "text/x-python",
   "name": "python",
   "nbconvert_exporter": "python",
   "pygments_lexer": "ipython3",
   "version": "3.6.12"
  }
 },
 "nbformat": 4,
 "nbformat_minor": 2
}
