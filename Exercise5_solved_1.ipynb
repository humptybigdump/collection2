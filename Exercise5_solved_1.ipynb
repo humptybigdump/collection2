{
 "cells": [
  {
   "cell_type": "code",
   "execution_count": null,
   "metadata": {
    "ExecuteTime": {
     "end_time": "2021-11-26T16:16:22.076000+01:00",
     "start_time": "2021-11-26T15:16:21.800Z"
    }
   },
   "outputs": [],
   "source": [
    "include(\"optimization_library.jl\");\n",
    "include(\"mplstyle.jl\");"
   ]
  },
  {
   "cell_type": "code",
   "execution_count": null,
   "metadata": {
    "ExecuteTime": {
     "end_time": "2021-11-26T16:16:22.233000+01:00",
     "start_time": "2021-11-26T15:16:22.201Z"
    }
   },
   "outputs": [],
   "source": [
    "function PlotFunction(f, x0, x1, label = \"f(x)\", color = \"blue\")\n",
    "    # create a number of x-values for which the function should be evaluated\n",
    "    x_plot = range(x0, x1, length = 100)\n",
    "    # evaluate the function for each point and write it to an array\n",
    "    f_plot = [f(x) for x = x_plot]\n",
    "    # do the same for the derivativ\n",
    "    \n",
    "    # plot the function\n",
    "    plot(x_plot,f_plot,color = color,label = label)\n",
    "    \n",
    "    fontsize = 15\n",
    "    xlabel(\"x\", fontsize = fontsize)\n",
    "    xlabel(\"y\", fontsize = fontsize)\n",
    "    \n",
    "    # Some axis formatting\n",
    "    ax = gca()\n",
    "    # plot the legend\n",
    "    ax.legend(loc = \"upper left\", fontsize=fontsize);\n",
    "end"
   ]
  },
  {
   "cell_type": "markdown",
   "metadata": {},
   "source": [
    "# Exercise 5.3"
   ]
  },
  {
   "cell_type": "code",
   "execution_count": null,
   "metadata": {
    "ExecuteTime": {
     "end_time": "2021-11-26T16:20:02.696000+01:00",
     "start_time": "2021-11-26T15:20:02.647Z"
    }
   },
   "outputs": [],
   "source": [
    "# g: Inequality constraint g(x) < 0\n",
    "# dg: Gradient of the inequality constraint\n",
    "# Hg: Hessian of the inequality constraint\n",
    "function log_barrier(g, dg, Hg)\n",
    "# ===============================================================================\n",
    "    # Implement the log barrier function b(x) (without 1/t scaling factor) for the constraint function g(x). \n",
    "    # We could accidentally cross the barrier during descent steps. Return Inf when the barrier is crossed.\n",
    "    b(x) = g(x) > 0 ? Inf : -log(-g(x))\n",
    "    # Implement the gradient db(x) and hessian Hb(x) of the log barrier function.\n",
    "    db(x) = -dg(x) / g(x)\n",
    "    Hb(x) = ((dg(x) * dg(x)') / (g(x))^2) - (Hg(x) / g(x))\n",
    "# ===============================================================================\n",
    "    return b,db,Hb\n",
    "end\n",
    "\n",
    "\n",
    "# Interior Point Method in combination with log barrier and the Newton Method\n",
    "# f: Objective function\n",
    "# df: Gradient vector of the objective function\n",
    "# Hf: Hessian matrix of the objective function\n",
    "# x0: Initial point. Must be an interior point of the feasible set\n",
    "# g: Array of inequality constraints g_i(x) < 0\n",
    "# dg: Array with the gradient of the inequality constraints\n",
    "# Hg: Array with the Hessian of the inequality constraints\n",
    "# initial_barrier: initial scaling of barrier function\n",
    "# barrier_increase: Factor by how much to increase the barrier in every outer iteration\n",
    "# maxiters: maximum number of outer iterations\n",
    "# inner_maxiters: maximum number of inner iterations (within descent method)\n",
    "# ls: Use linesearch?\n",
    "# ε: Stopping criterion\n",
    "function ipm(f, df, Hf, x0; g=[], dg=[], Hg=[],\n",
    "             initial_barrier = 1.0, barrier_increase = 2.0,\n",
    "             maxiters=100, inner_maxiters=100,\n",
    "             ls=true, eps=0.0001)\n",
    "\n",
    "    glen = length(g) # number of constraints\n",
    "    barr = Vector(undef, glen) # vector storing barrier functions of all constraints g_j(x) < 0\n",
    "    dbarr = Vector(undef, glen) # vector storing gradients of barrier functions of all constraints g_j(x) < 0\n",
    "    Hbarr = Vector(undef, glen) # vector storing hessian matricies of barrier functions of all constraints g_j(x) < 0\n",
    "# ===============================================================================\n",
    "    # 1. Fill barr, dbarr and Hbarr\n",
    "    \n",
    "    for i in 1:glen\n",
    "        barr[i],dbarr[i],Hbarr[i] = log_barrier(g[i], dg[i], Hg[i])\n",
    "    end\n",
    "\n",
    "    # 2. Extend f, with the log barrier scaled by 1/t. Implement also the gradient and Hessian of the extended objective\n",
    "    # function. Use closure functions.\n",
    "    t = initial_barrier\n",
    "    ftilde(x)  = f(x)  + sum([bb(x) for bb in barr]) / t\n",
    "    dftilde(x) = df(x) + sum([dbb(x) for dbb in dbarr]) / t\n",
    "    Hftilde(x) = Hf(x) + sum([Hbb(x) for Hbb in Hbarr]) / t\n",
    "    \n",
    "    # 3. Solve with the Newton Method and increasingly tighten the barrier using barrier_increase.\n",
    "    # Break the outer iteration if the solution does not change any more within the required precision ε\n",
    "    x = copy(x0)\n",
    "    trace = [x; ftilde(x)] # or trace = [x; f(x)]\n",
    "    for _ = 1:maxiters # Outer Iteration\n",
    "        x,_ = newton_descent(ftilde, dftilde, Hftilde, x;\n",
    "                             ls=ls, eps=eps, maxiters=inner_maxiters) # Inner Iteration\n",
    "        trace = hcat(trace, [x; ftilde(x)]) # or trace = hcat(trace, [x; f(x)])\n",
    "        if LA.norm(trace[1:end-1,end-1] - x) < eps\n",
    "            break\n",
    "        end\n",
    "        t *= barrier_increase\n",
    "    end\n",
    "# ===============================================================================\n",
    "    return x,trace\n",
    "end"
   ]
  },
  {
   "cell_type": "markdown",
   "metadata": {},
   "source": [
    "## Test the implementation of ipm\n",
    "\n",
    "Take the following optimimization problem:\n",
    "\n",
    "\\begin{align}\n",
    "\\text{minimize}\\quad &f(x) = x^2 + 1\\\\\n",
    "\\text{subject to} \\quad &x \\in [2,4]\n",
    "\\end{align}\n",
    "\n"
   ]
  },
  {
   "cell_type": "code",
   "execution_count": null,
   "metadata": {
    "ExecuteTime": {
     "end_time": "2021-11-26T16:20:17.525000+01:00",
     "start_time": "2021-11-26T15:20:17.117Z"
    }
   },
   "outputs": [],
   "source": [
    "f(x) = x^2 + 1\n",
    "\n",
    "PlotFunction(f, 0, 5)\n",
    "plot((2,2),(0,25), color = \"red\")\n",
    "plot((4,4),(0,25), color = \"red\");"
   ]
  },
  {
   "cell_type": "markdown",
   "metadata": {},
   "source": [
    "Bringing the problem to the canonical form:\n",
    "\n",
    "\\begin{align}\n",
    "\\text{minimize}\\quad &f(x) = x^2 + 1\\\\\n",
    "\\text{subject to} \\quad &2 - x \\leq 0\\\\\n",
    "& x-4 \\leq 0\n",
    "\\end{align}"
   ]
  },
  {
   "cell_type": "code",
   "execution_count": null,
   "metadata": {
    "ExecuteTime": {
     "end_time": "2021-11-26T16:20:38.828000+01:00",
     "start_time": "2021-11-26T15:20:35.231Z"
    }
   },
   "outputs": [],
   "source": [
    "f(x) = sum(x.^2 .+ 1)\n",
    "df(x) = 2 * x\n",
    "Hf(x) = ones(1,1)*2\n",
    "\n",
    "g1(x) = sum(2 .-x)\n",
    "dg1(x) = [-1]\n",
    "Hg1(x) = zeros(1,1)\n",
    "\n",
    "g2(x) = sum(x .-4)\n",
    "dg2(x) = [1]\n",
    "Hg2(x) = zeros(1,1)\n",
    "\n",
    "\n",
    "# ===============================================================================\n",
    "# Check your implementation of the interior point method for the problem given above.\n",
    "x_best, trace_simple = ipm(f, df, Hf, [3.9]; g=[g1,g2], dg=[dg1,dg2], Hg=[Hg1,Hg2], initial_barrier = 1.0, barrier_increase = 2.0,\n",
    "             maxiters=100, inner_maxiters=100,\n",
    "             ls=true, eps=0.0001)\n",
    "\n",
    "@assert (x_best[1] - 2) < 0.001\n",
    "# ==============================================================================="
   ]
  },
  {
   "cell_type": "code",
   "execution_count": null,
   "metadata": {
    "ExecuteTime": {
     "end_time": "2021-11-26T16:20:41.775000+01:00",
     "start_time": "2021-11-26T15:20:41.378Z"
    }
   },
   "outputs": [],
   "source": [
    "# define f(x) + barrier for plotting\n",
    "function bf(t)\n",
    "    function barrier(x)\n",
    "        return x^2 + 1 - 1/t * (log(x-2) + log(4-x))\n",
    "    end\n",
    "end\n",
    "\n",
    "# plot original function f(x)\n",
    "PlotFunction(f, 2, 4)\n",
    "# plot f(x) + barrier for different values of t\n",
    "PlotFunction(bf(1), 2, 4, \"t = 1\", \"red\")\n",
    "PlotFunction(bf(2), 2, 4, \"t = 2\", \"orange\")\n",
    "PlotFunction(bf(4), 2, 4, \"t = 4\", \"purple\")\n",
    "# plot trace of interior point method\n",
    "plot(trace_simple[1,:], trace_simple[2,:], label = \"trace\", marker = \"o\", markersize = 5, color = \"green\")\n",
    "legend(loc = \"upper left\", fontsize = 15)"
   ]
  },
  {
   "cell_type": "markdown",
   "metadata": {},
   "source": [
    "# Exercise 5.4: McDonalds Diet\n",
    "\n",
    "We would like to eat at McDonalds and fill our daily requirement of nutrients. However, in doing so we would like to minimize the amount of calories we eat.\n",
    "\n",
    "In analogy to the Stiegler's diet we can formulate the problem in the following way:\n",
    "\\begin{align}\n",
    "\\text{minimize}\\qquad & c^\\top x\\\\\n",
    "\\text{subject to} \\qquad & a_i^\\top x \\geq b_i\\\\\n",
    "\\qquad & x_k \\geq 0, \\quad k = 1,\\dots n_{food}\n",
    "\\end{align}\n",
    "with the vector $x$ storing the amount for each product, the vector $c$ storing the amount of calories for each product, the vectors $a_i$ storing the amount of nutrient $i$ for each food and $b_i$ the minimum daily requirement for nutrient $i$."
   ]
  },
  {
   "cell_type": "code",
   "execution_count": null,
   "metadata": {
    "ExecuteTime": {
     "end_time": "2021-11-26T16:23:23.918000+01:00",
     "start_time": "2021-11-26T15:23:23.911Z"
    }
   },
   "outputs": [],
   "source": [
    "import DelimitedFiles\n",
    "DF = DelimitedFiles;"
   ]
  },
  {
   "cell_type": "code",
   "execution_count": null,
   "metadata": {
    "ExecuteTime": {
     "end_time": "2021-11-26T16:23:24.533000+01:00",
     "start_time": "2021-11-26T15:23:24.522Z"
    }
   },
   "outputs": [],
   "source": [
    "# Load the datasets\n",
    "\n",
    "# daily requirement on nutrients\n",
    "nutr_ideal = DF.readdlm(\"nutr_ideal.dat\")\n",
    "nutrients = nutr_ideal[1,:]\n",
    "nutrients_required = nutr_ideal[2,:]\n",
    "\n",
    "# Dataset of Mc Donalds Products and corresponding calories and nutrients\n",
    "diet_data = DF.readdlm(\"McDonaldsData.csv\")\n",
    "\n",
    "# name of products\n",
    "products = diet_data[2:end,1]\n",
    "\n",
    "# matrix with nutrients per food, size = (length(products),length(nutrients))\n",
    "nutrients_provided = Matrix{Float64}(diet_data[2:end,4:end])\n",
    "\n",
    "Nproducts = length(products)\n",
    "Nnutrients = length(nutrients);\n",
    "\n",
    "# vector of calories for each food, size = (Nproducts)\n",
    "cal = diet_data[2:end,2];"
   ]
  },
  {
   "cell_type": "code",
   "execution_count": null,
   "metadata": {
    "ExecuteTime": {
     "end_time": "2021-11-26T16:23:26.518000+01:00",
     "start_time": "2021-11-26T15:23:26.475Z"
    }
   },
   "outputs": [],
   "source": [
    "using PrettyTables #https://ronisbr.github.io/PrettyTables.jl/stable/\n",
    "pretty_table(diet_data[2:end,:], diet_data[1,:] , display_size = (20,120))"
   ]
  },
  {
   "cell_type": "markdown",
   "metadata": {},
   "source": [
    "Canonical form of optimization problem:\n",
    "\\begin{align}\n",
    "\\text{minimize}\\qquad & c^\\top x\\\\\n",
    "\\text{subject to} \\qquad & b_i - a_i^\\top x \\leq 0\\\\\n",
    "\\qquad & - x_k \\leq 0, \\quad k = 1,\\dots n_{food}\n",
    "\\end{align}"
   ]
  },
  {
   "cell_type": "code",
   "execution_count": null,
   "metadata": {
    "ExecuteTime": {
     "end_time": "2021-11-26T16:25:33.330000+01:00",
     "start_time": "2021-11-26T15:25:33.315Z"
    }
   },
   "outputs": [],
   "source": [
    "# Create vectors that store the functions, gradients and hessian matrices for all contraints\n",
    "c = Vector(undef, Nnutrients+Nproducts)\n",
    "dc = Vector(undef, Nnutrients+Nproducts)\n",
    "Hc = Vector(undef, Nnutrients+Nproducts)\n",
    "\n",
    "# ===============================================================================\n",
    "# Fill the vectors c, dc and Hc\n",
    "# Mind that you have to bring the optimization problem to the canonical form (g_j(x) < 0) in order to be able to \n",
    "# use the implemented interior point method\n",
    "# Hint: Each element of the vectors is a function. You might want to use anonymous functions here.\n",
    "for i in 1:Nnutrients\n",
    "    c[i] = x -> nutrients_required[i] - sum(nutrients_provided[:,i].*x) \n",
    "    # or c[i] = function (x) nutrients_required[i] - sum(nutrients_provided[:,i].*x) end\n",
    "    dc[i] = x -> -nutrients_provided[:,i]\n",
    "    Hc[i] = x -> zeros(Nproducts, Nproducts)\n",
    "end\n",
    "\n",
    "for i in 1:Nproducts # allow only positive quantities for the products\n",
    "    c[Nnutrients+i] = x -> -x[i]\n",
    "    dc[Nnutrients+i] = x -> begin d = zeros(Nproducts); d[i] = -1; return d end\n",
    "    Hc[Nnutrients+i] = x -> zeros(Nproducts, Nproducts)\n",
    "end\n",
    "# ==============================================================================="
   ]
  },
  {
   "cell_type": "code",
   "execution_count": null,
   "metadata": {
    "ExecuteTime": {
     "end_time": "2021-11-26T16:25:53.496000+01:00",
     "start_time": "2021-11-26T15:25:53.492Z"
    }
   },
   "outputs": [],
   "source": [
    "# ===============================================================================\n",
    "# Implement the objective function, its gradient and Hessian\n",
    "f(x) = cal' * x # or LA.dot(cal,x)\n",
    "df(x) = cal\n",
    "Hf(x) = zeros(Nproducts, Nproducts)\n",
    "# ==============================================================================="
   ]
  },
  {
   "cell_type": "code",
   "execution_count": null,
   "metadata": {
    "ExecuteTime": {
     "end_time": "2021-11-26T13:30:05.464000+01:00",
     "start_time": "2021-11-26T12:28:17.589Z"
    }
   },
   "outputs": [],
   "source": [
    "# intialize starting point with large values in order to make sure to be within the feasible set\n",
    "x0 = 100000*ones(Nproducts);\n",
    "\n",
    "# Compute the solution\n",
    "amount,trace = ipm(f, df, Hf,x0; g=c, dg=dc, Hg=Hc, initial_barrier = 1.0, barrier_increase = 2.0,\n",
    "             maxiters=100, inner_maxiters=100,\n",
    "             ls=true, eps=0.0001);\n",
    "println(\"Number of outer iterations: \", size(trace,2))"
   ]
  },
  {
   "cell_type": "code",
   "execution_count": null,
   "metadata": {
    "ExecuteTime": {
     "end_time": "2021-11-26T13:30:06.015000+01:00",
     "start_time": "2021-11-26T12:28:17.592Z"
    }
   },
   "outputs": [],
   "source": [
    "open(\"McDonalds_results.csv\", \"w\") do io\n",
    "           DF.writedlm(io, [vcat(amount, zeros(1)) trace])\n",
    "end;"
   ]
  },
  {
   "cell_type": "code",
   "execution_count": null,
   "metadata": {
    "ExecuteTime": {
     "end_time": "2021-11-26T16:26:19.048000+01:00",
     "start_time": "2021-11-26T15:26:19.004Z"
    }
   },
   "outputs": [],
   "source": [
    "# Print the solutions\n",
    "solutions = Vector{Int}()\n",
    "\n",
    "for i in 1:Nproducts\n",
    "    if amount[i] > 0.0001\n",
    "        append!(solutions,i)\n",
    "    end\n",
    "end\n",
    "\n",
    "println(\"Total Calories: \\t\\t\", round(f(amount),digits = 2))\n",
    "ttable = hcat(products[solutions],round.(amount[solutions],digits = 2))\n",
    "pretty_table(ttable, [\"Product\" \"Amount\"], display_size = (20,120))"
   ]
  },
  {
   "cell_type": "code",
   "execution_count": null,
   "metadata": {
    "ExecuteTime": {
     "end_time": "2021-11-26T16:27:08.231000+01:00",
     "start_time": "2021-11-26T15:27:08.158Z"
    }
   },
   "outputs": [],
   "source": [
    "# Check if requirements are fulfilled\n",
    "ttable = hcat(nutrients,nutrients_required)\n",
    "provided_nutrients = [sum(nutrients_provided[:,i].*amount[:]) for i in 1:Nnutrients]\n",
    "ttable = hcat(ttable,provided_nutrients);\n",
    "header = [\"Nutrient\" \"Required\" \"provided\"]\n",
    "pretty_table(ttable, header)"
   ]
  },
  {
   "cell_type": "code",
   "execution_count": null,
   "metadata": {
    "ExecuteTime": {
     "end_time": "2021-11-26T17:14:57.690000+01:00",
     "start_time": "2021-11-26T16:14:57.398Z"
    }
   },
   "outputs": [],
   "source": [
    "# Check on nutrients in each product that is part of the solution\n",
    "ttable = hcat(round.(amount[solutions], digits = 1),first.(products[solutions], 15))\n",
    "ttable = hcat(ttable, round.(cal[solutions].*amount[solutions], digits = 1))\n",
    "ttable = hcat(ttable,round.(nutrients_provided[solutions,:].*amount[solutions], digits = 1))\n",
    "header = [\"Amount\" \"Product\" \"Calories\" \"Fat\" \"SatFat\" \"Chol\" \"Sodium\" \"Carbo\" \"Protein\" \"VitA\" \"VitC\" \"Calcium\" \"Iron\"];\n",
    "pretty_table(ttable,display_size = (20,120), header, crop = :none)"
   ]
  },
  {
   "cell_type": "code",
   "execution_count": null,
   "metadata": {},
   "outputs": [],
   "source": []
  }
 ],
 "metadata": {
  "kernelspec": {
   "display_name": "Julia 1.6.3",
   "language": "julia",
   "name": "julia-1.6"
  },
  "language_info": {
   "file_extension": ".jl",
   "mimetype": "application/julia",
   "name": "julia",
   "version": "1.6.3"
  },
  "toc": {
   "base_numbering": 1,
   "nav_menu": {},
   "number_sections": true,
   "sideBar": true,
   "skip_h1_title": false,
   "title_cell": "Table of Contents",
   "title_sidebar": "Contents",
   "toc_cell": false,
   "toc_position": {
    "height": "calc(100% - 180px)",
    "left": "10px",
    "top": "150px",
    "width": "253.167px"
   },
   "toc_section_display": true,
   "toc_window_display": true
  },
  "varInspector": {
   "cols": {
    "lenName": 16,
    "lenType": 16,
    "lenVar": 40
   },
   "kernels_config": {
    "python": {
     "delete_cmd_postfix": "",
     "delete_cmd_prefix": "del ",
     "library": "var_list.py",
     "varRefreshCmd": "print(var_dic_list())"
    },
    "r": {
     "delete_cmd_postfix": ") ",
     "delete_cmd_prefix": "rm(",
     "library": "var_list.r",
     "varRefreshCmd": "cat(var_dic_list()) "
    }
   },
   "types_to_exclude": [
    "module",
    "function",
    "builtin_function_or_method",
    "instance",
    "_Feature"
   ],
   "window_display": false
  }
 },
 "nbformat": 4,
 "nbformat_minor": 4
}
