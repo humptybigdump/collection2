{
 "cells": [
  {
   "cell_type": "code",
   "execution_count": 1,
   "metadata": {
    "ExecuteTime": {
     "end_time": "2022-12-20T19:52:56.827000+01:00",
     "start_time": "2022-12-20T18:52:42.170Z"
    }
   },
   "outputs": [],
   "source": [
    "include(\"optimization_library.jl\")\n",
    "include(\"mplstyle.jl\")\n",
    "import ForwardDiff"
   ]
  },
  {
   "cell_type": "markdown",
   "metadata": {},
   "source": [
    "# Exercise 12.3\n",
    "\n",
    "We want to implement the primal-dual interior point method explained in lecture 8. For simplicity we allow only for inequality constraints and omit equality constraints.\n",
    "We consider the following problem which we have encoutered in Exercise 6.2 in the context of the paint producing company:\n",
    "\n",
    "  \\begin{align*}\n",
    "    \\max_{\\vec x} \\quad & \\vec{c}^{\\top} \\vec{x}\\\\\n",
    "    \\text{subject to} \\quad & A \\vec{x} - \\vec{b} \\leq \\vec{0}\n",
    "  \\end{align*}\n",
    "\n",
    "  \\begin{align*}\n",
    "    \\vec{c}^{\\top} = (-2, -3), \\quad\n",
    "     A =\n",
    "    \\begin{pmatrix}\n",
    "      1 & 0 \\\\\n",
    "      0  & 1\\\\\n",
    "      2 & 1\\\\\n",
    "      1 & 2\\\\\n",
    "      -1 & 0\\\\\n",
    "      0 & -1\n",
    "    \\end{pmatrix}, \\quad\n",
    "    \\vec{b}^{\\top} = (-2,-3,-6,-7, 0, 0)\n",
    "  \\end{align*}\n",
    "    \\begin{equation*}\n",
    "    \\vec x^* = (1.67, 2.67)^{\\top}\n",
    "  \\end{equation*}"
   ]
  },
  {
   "cell_type": "code",
   "execution_count": 2,
   "metadata": {
    "ExecuteTime": {
     "end_time": "2022-12-20T19:52:57.185000+01:00",
     "start_time": "2022-12-20T18:52:42.173Z"
    }
   },
   "outputs": [],
   "source": [
    "A = [1 0;\n",
    "    0 1;\n",
    "    2 1;\n",
    "    1 2;\n",
    "    -1 0;\n",
    "    0 -1]\n",
    "\n",
    "b = [2,3,6,7,0,0]\n",
    "\n",
    "# constraint function\n",
    "g(x) = A*x - b\n",
    "\n",
    "# number of variables\n",
    "n_x = 2\n",
    "\n",
    "# number of constraints\n",
    "n_constr = length(b);"
   ]
  },
  {
   "cell_type": "code",
   "execution_count": 3,
   "metadata": {
    "ExecuteTime": {
     "end_time": "2022-12-20T19:52:57.199000+01:00",
     "start_time": "2022-12-20T18:52:42.175Z"
    }
   },
   "outputs": [],
   "source": [
    "# construct objective function + gradient + hessian\n",
    "# luckily we can now employ the magic of automatic differentiation! :)\n",
    "f(x) = -2*x[1] - 3x[2]\n",
    "∇f(x) = ForwardDiff.gradient(f, x)\n",
    "Hf(x) = ForwardDiff.hessian(f, x)\n",
    "\n",
    "\n",
    "# We construct a vector whose elements are the individual constraint functions\n",
    "g_vec = Vector(undef, n_constr)\n",
    "∇g_vec = Vector(undef, n_constr)\n",
    "Hg_vec = Vector(undef, n_constr)\n",
    "\n",
    "for i in 1:n_constr\n",
    "    g_vec[i] = x -> g(x)[i]\n",
    "    ∇g_vec[i] = x -> ForwardDiff.gradient(g_vec[i], x)\n",
    "    Hg_vec[i] = x -> ForwardDiff.hessian(g_vec[i], x)\n",
    "end\n",
    "\n",
    "\n",
    "# function to construct the jacobian of the constraints g(x)\n",
    "function Construct_Jacobian(∇g_vec)\n",
    "    function Jacobian(x)\n",
    "        n_constr = length(∇g_vec)\n",
    "        n_x = length(x)\n",
    "        J = zeros(n_constr,n_x)\n",
    "        for i in 1:n_constr\n",
    "            J[i,:] = ∇g_vec[i](x)'\n",
    "        end\n",
    "        return J\n",
    "    end\n",
    "end\n",
    "\n",
    "Jg = Construct_Jacobian(∇g_vec);"
   ]
  },
  {
   "cell_type": "markdown",
   "metadata": {},
   "source": [
    "Implement the residual vector:\n",
    "\\begin{equation}\n",
    "\\vec r_t(\\vec x, \\vec\\mu, \\vec \\lambda) = \\begin{pmatrix}\n",
    "\\nabla f(\\vec x) + [\\mathcal J \\vec g(\\vec x)]^{\\top} \\vec\\mu \\\\\n",
    "-\\text{diag}(\\vec\\mu) \\vec g(\\vec x) - \\tfrac{1}{t}\\vec{1}\n",
    "\\end{pmatrix}\n",
    "=\n",
    "\\begin{pmatrix}\n",
    " \\vec r_{\\mathrm{dual},t}(\\vec z)\\\\\n",
    " \\vec r_{\\mathrm{cent},t}(\\vec z)\n",
    " \\end{pmatrix}\n",
    "\\end{equation}"
   ]
  },
  {
   "cell_type": "code",
   "execution_count": 4,
   "metadata": {
    "ExecuteTime": {
     "end_time": "2022-12-20T19:52:58.047000+01:00",
     "start_time": "2022-12-20T18:52:42.178Z"
    }
   },
   "outputs": [
    {
     "data": {
      "text/plain": [
       "residual (generic function with 1 method)"
      ]
     },
     "execution_count": 4,
     "metadata": {},
     "output_type": "execute_result"
    }
   ],
   "source": [
    "function residual(x, μ, t, f, ∇f, g_vec, Jg)\n",
    "    n_constr = length(g_vec)\n",
    "    n_x = length(x)\n",
    "    res = zeros(n_x + n_constr)\n",
    "    # =======================================================================================\n",
    "    # Implement the residual vector. Note that each of the two entries is itself again a vector.\n",
    "    # Hint: use vcat() to stack the two vectors above each other. \n",
    "    # You should obtain a vector of length n_x + n_constr\n",
    "\n",
    "    res = vcat((∇f(x) + Jg(x)'*μ),\n",
    "                (-LA.Diagonal(vec(μ)) * [g_vec[k](x) for k in 1:n_constr] .- (1/t)))\n",
    "    return res\n",
    "    # =======================================================================================\n",
    "end"
   ]
  },
  {
   "cell_type": "code",
   "execution_count": 5,
   "metadata": {
    "ExecuteTime": {
     "end_time": "2022-12-20T19:52:58.155000+01:00",
     "start_time": "2022-12-20T18:52:42.180Z"
    }
   },
   "outputs": [
    {
     "data": {
      "text/plain": [
       "J_residual (generic function with 1 method)"
      ]
     },
     "execution_count": 5,
     "metadata": {},
     "output_type": "execute_result"
    }
   ],
   "source": [
    "# Jacobian of the residual\n",
    "function J_residual(x, μ, Hf, g_vec, Jg, Hg_vec)\n",
    "    n_constr = length(g_vec)\n",
    "    return vcat(\n",
    "        hcat(Hf(x)+ sum([μ[k] .* Hg_vec[k](x) for k in 1:n_constr]), Jg(x)'),\n",
    "        hcat(-LA.Diagonal(vec(μ))*Jg(x), -LA.Diagonal(vec([g_vec[k](x) for k in 1:n_constr])))\n",
    "    )\n",
    "end"
   ]
  },
  {
   "cell_type": "markdown",
   "metadata": {},
   "source": [
    "Implement the duality gap:\n",
    "\\begin{equation}\n",
    "\\eta = \\vec g(\\vec x)^{\\top} \\vec \\mu\n",
    "\\end{equation}"
   ]
  },
  {
   "cell_type": "code",
   "execution_count": 6,
   "metadata": {
    "ExecuteTime": {
     "end_time": "2022-12-20T19:52:58.302000+01:00",
     "start_time": "2022-12-20T18:52:42.183Z"
    }
   },
   "outputs": [
    {
     "data": {
      "text/plain": [
       "dualtiy_gap (generic function with 1 method)"
      ]
     },
     "execution_count": 6,
     "metadata": {},
     "output_type": "execute_result"
    }
   ],
   "source": [
    "# duality gap\n",
    "function dualtiy_gap(x,μ, g_vec)\n",
    "    # =======================================================================================\n",
    "    # Implement the duality gap\n",
    "    n_constr = length(g_vec)\n",
    "    return -[g_vec[k](x) for k in 1:n_constr]'*μ\n",
    "    # =======================================================================================    \n",
    "end"
   ]
  },
  {
   "cell_type": "code",
   "execution_count": 7,
   "metadata": {
    "ExecuteTime": {
     "end_time": "2022-12-20T19:52:58.309000+01:00",
     "start_time": "2022-12-20T18:52:42.186Z"
    }
   },
   "outputs": [],
   "source": [
    "# dual line search\n",
    "# z: vector containing primal and dual variables, i.e. z = (x,μ)\n",
    "# Δz: Newton step according to modified KKT condition\n",
    "# t: scaling of barrier function\n",
    "# f: objective function\n",
    "# g: vector of constraint functions\n",
    "# Jg: function that returns the jacobian of the constraints\n",
    "# p: step length reduction\n",
    "# β: minimum descent\n",
    "function dual_linesearch(z, Δz, t, f, g, Jg; p=0.8, β = 0.01)\n",
    "\n",
    "    n_constr = length(g)\n",
    "    n_z = length(z)\n",
    "    n_x = n_z - n_constr\n",
    "    \n",
    "    μ = z[n_x+1:end]\n",
    "    x = z[1:n_x]\n",
    "    Δμ = Δz[n_x+1:end]\n",
    "    Δx = Δz[1:n_x]\n",
    "      \n",
    "    α_max = 1000\n",
    "    # define the maximum step length\n",
    "    for k in 1:length(μ)\n",
    "        if (Δμ[k] < 0)\n",
    "             α_max = min(α_max, - μ[k]/Δμ[k])\n",
    "        end\n",
    "    end\n",
    "    α_max = min(1,α_max)\n",
    "    \n",
    "    # move a bit below the maximum step length\n",
    "    α = 0.99*α_max\n",
    "    \n",
    "    # =======================================================================================================\n",
    "    # reduce the step length by p until the constraints are fulfilled \n",
    "    while any([g[k](x + α*Δx) > 0 for k in 1:n_constr])\n",
    "        α = α*p\n",
    "    end\n",
    "    \n",
    "    # and until ∥r_t(z + α∆z)∥ < (1 − αβ )∥r_t(z)∥\n",
    "    while LA.norm(residual(x + α*Δx, μ + α*Δμ, t, f, ∇f, g, Jg)) > (1-β*α)*LA.norm(residual(x,μ,t,f, ∇f, g, Jg))       \n",
    "        α = α*p\n",
    "    end\n",
    "    # =======================================================================================================\n",
    "    return α\n",
    "end;"
   ]
  },
  {
   "cell_type": "code",
   "execution_count": 8,
   "metadata": {
    "ExecuteTime": {
     "end_time": "2022-12-20T19:52:58.435000+01:00",
     "start_time": "2022-12-20T18:52:42.188Z"
    }
   },
   "outputs": [
    {
     "data": {
      "text/plain": [
       "primal_dual_ipm (generic function with 1 method)"
      ]
     },
     "execution_count": 8,
     "metadata": {},
     "output_type": "execute_result"
    }
   ],
   "source": [
    "# primal dual interior point method\n",
    "# f: objective function\n",
    "# df: gradient of objective function\n",
    "# Hf: Hessian of objective function\n",
    "# z0: initial vector containing primal and dual variables, i.e. z0 = (x0,μ0)\n",
    "# Jg: function that returns the jacobian of the constraints\n",
    "# g: vector of constraint functions\n",
    "# Hg: vector of with Hessiants of constraint functions\n",
    "# ρ: scaling by which the barrier t increases\n",
    "# initial_barrier: value of initial barrier t\n",
    "# maxiters: maximum number of primal-dual steps\n",
    "# ϵ_feas: precision of residual\n",
    "# ϵ: precision of duality gap\n",
    "function primal_dual_ipm(f, df, Hf, z0, Jg; g = [], Hg = [], ρ = 10, initial_barrier = 1.0,\n",
    "             maxiters=100, ϵ_feas=0.01, ϵ = 0.01)\n",
    "\n",
    "    n_constr = length(g)\n",
    "    n_z = length(z0)\n",
    "    n_x = n_z - n_constr\n",
    "    \n",
    "    t = initial_barrier\n",
    "    z = copy(z0)\n",
    "    \n",
    "    trace = [z[1:n_x]; f(z[1:n_x])]\n",
    "    gap_trace = dualtiy_gap(z[1:n_x],z[n_x+1:end], g)\n",
    "\n",
    "    for i in 1:maxiters\n",
    "\n",
    "        μ = z[n_x+1:end]\n",
    "        x = z[1:n_x]\n",
    "        \n",
    "        res = residual(x,μ,t, f, ∇f, g, Jg)\n",
    "        gap = dualtiy_gap(x,μ, g)\n",
    "        \n",
    "        # =======================================================================================================\n",
    "        # Implement the following steps\n",
    "        # 1. break the loop if the norm of the dual residual (r_dual,t(z)) fufills the precision ϵ_feas or\n",
    "        # if the surrogate duality gap fulfills the precision ϵ\n",
    "        \n",
    "        if (LA.norm(res[1:n_x]) < ϵ_feas && LA.norm(res[n_x+1:end]) < ϵ_feas) || gap < ϵ\n",
    "            break\n",
    "        end\n",
    "    \n",
    "        # 2. evaluate the barrier scaling t\n",
    "        t = (ρ *n_constr)/gap\n",
    "        \n",
    "        # 3. evaluate the step direction Δz\n",
    "        Δz = -LA.inv(Matrix(J_residual(x, μ, Hf, g, Jg, Hg))) * residual(x, μ, t, f, ∇f, g, Jg)\n",
    "    \n",
    "        # 4. perform dual line search to get the step length and update z\n",
    "        α = dual_linesearch(z, Δz, t, f, g, Jg; p=0.8, β = 0.1)\n",
    "        z = z + α * Δz\n",
    "        \n",
    "        trace = hcat(trace,[z[1:n_x]; f(z[1:n_x])])\n",
    "        gap_trace = [gap_trace; gap]\n",
    "    \n",
    "    end\n",
    "    \n",
    "    return z[1:n_x], trace, gap_trace\n",
    "end"
   ]
  },
  {
   "cell_type": "code",
   "execution_count": 9,
   "metadata": {
    "ExecuteTime": {
     "end_time": "2022-12-20T19:53:07.480000+01:00",
     "start_time": "2022-12-20T18:52:42.190Z"
    }
   },
   "outputs": [
    {
     "name": "stdout",
     "output_type": "stream",
     "text": [
      "Number of Iterations: 9\n"
     ]
    }
   ],
   "source": [
    "# initialize the variables for our given example from above.\n",
    "x_init = [1,1]\n",
    "μ_init = rand(n_constr,1)*10\n",
    "z0 = vcat(x_init,μ_init);\n",
    "\n",
    "# optimize by primal dual interior point method\n",
    "xstar, trace, gap_trace = primal_dual_ipm(f, ∇f, Hf, z0, Jg; g = g_vec, Hg = Hg_vec, ρ = 10, initial_barrier = 1.0,\n",
    "             maxiters=100, ϵ_feas=0.0001, ϵ = 0.0001)\n",
    "println(\"Number of Iterations: \", size(trace,2))"
   ]
  },
  {
   "cell_type": "code",
   "execution_count": 10,
   "metadata": {
    "ExecuteTime": {
     "end_time": "2022-12-20T19:53:07.700000+01:00",
     "start_time": "2022-12-20T18:52:42.195Z"
    }
   },
   "outputs": [],
   "source": [
    "# Ensure that we get the right result with our implemented methods.\n",
    "@assert LA.norm(xstar - [1.67; 2.67]) < 0.01"
   ]
  },
  {
   "cell_type": "code",
   "execution_count": 11,
   "metadata": {
    "ExecuteTime": {
     "end_time": "2022-12-20T19:53:16.587000+01:00",
     "start_time": "2022-12-20T18:52:42.198Z"
    }
   },
   "outputs": [
    {
     "name": "stdout",
     "output_type": "stream",
     "text": [
      "Number of Iterations: 18\n"
     ]
    }
   ],
   "source": [
    "# use the interior point method working only on the primal variables\n",
    "xstar_primal, trace_primal, gap_trace_primal = ipm(f, ∇f, Hf, x_init; g=g_vec, dg=∇g_vec, Hg= Hg_vec,\n",
    "             initial_barrier = 1.0, barrier_increase = 2.0,\n",
    "             maxiters=100, inner_maxiters=100,\n",
    "             ls=true, eps=0.0001)\n",
    "println(\"Number of Iterations: \", size(trace_primal,2))"
   ]
  },
  {
   "cell_type": "code",
   "execution_count": 12,
   "metadata": {
    "ExecuteTime": {
     "end_time": "2022-12-20T19:53:21.574000+01:00",
     "start_time": "2022-12-20T18:52:42.200Z"
    }
   },
   "outputs": [
    {
     "data": {
      "image/png": "[encoded data removed]",
      "text/plain": [
       "Figure(PyObject <Figure size 750x550 with 1 Axes>)"
      ]
     },
     "metadata": {},
     "output_type": "display_data"
    }
   ],
   "source": [
    "# plot duality gap as function of number of iterations for both algorithms\n",
    "fontsize = 13\n",
    "plot(cumsum(trace_primal[end,:]), gap_trace_primal, marker = \"o\", label = \"Primal\")\n",
    "plot(1:length(gap_trace), gap_trace, marker = \"o\", label = \"Primal-Dual\")\n",
    "ylabel(\"gap size\", fontsize = fontsize)\n",
    "xlabel(\"iterations\",fontsize = fontsize)\n",
    "legend(fontsize = fontsize)\n",
    "PyPlot.yscale(\"log\")"
   ]
  },
  {
   "cell_type": "code",
   "execution_count": null,
   "metadata": {},
   "outputs": [],
   "source": []
  }
 ],
 "metadata": {
  "kernelspec": {
   "display_name": "Julia 1.6.3",
   "language": "julia",
   "name": "julia-1.6"
  },
  "language_info": {
   "file_extension": ".jl",
   "mimetype": "application/julia",
   "name": "julia",
   "version": "1.6.3"
  },
  "toc": {
   "base_numbering": 1,
   "nav_menu": {},
   "number_sections": true,
   "sideBar": true,
   "skip_h1_title": false,
   "title_cell": "Table of Contents",
   "title_sidebar": "Contents",
   "toc_cell": false,
   "toc_position": {},
   "toc_section_display": true,
   "toc_window_display": false
  },
  "varInspector": {
   "cols": {
    "lenName": 16,
    "lenType": 16,
    "lenVar": 40
   },
   "kernels_config": {
    "python": {
     "delete_cmd_postfix": "",
     "delete_cmd_prefix": "del ",
     "library": "var_list.py",
     "varRefreshCmd": "print(var_dic_list())"
    },
    "r": {
     "delete_cmd_postfix": ") ",
     "delete_cmd_prefix": "rm(",
     "library": "var_list.r",
     "varRefreshCmd": "cat(var_dic_list()) "
    }
   },
   "types_to_exclude": [
    "module",
    "function",
    "builtin_function_or_method",
    "instance",
    "_Feature"
   ],
   "window_display": false
  }
 },
 "nbformat": 4,
 "nbformat_minor": 4
}
