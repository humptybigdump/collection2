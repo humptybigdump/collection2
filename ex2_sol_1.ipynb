{
 "cells": [
  {
   "cell_type": "code",
   "execution_count": 1,
   "metadata": {
    "pycharm": {
     "name": "#%%\n"
    }
   },
   "outputs": [],
   "source": [
    "from ex2.mdp import RoboMDP\n",
    "from ex2.misc import plot_v_pi\n",
    "import numpy as np\n",
    "import matplotlib.pyplot as plt"
   ]
  },
  {
   "cell_type": "markdown",
   "metadata": {},
   "source": [
    "### MDP\n",
    "\n",
    "The MDP class for the cleaning robot is already implemented and doesn't need to be changed. Instead, we define an environment building upon the MDP which only provides a step function that takes an action and returns the next state, a reward function and a flag whether you ended up in a terminal state."
   ]
  },
  {
   "cell_type": "code",
   "execution_count": 2,
   "metadata": {},
   "outputs": [],
   "source": [
    "class RoboMDPEnv(RoboMDP):\n",
    "    def __init__(self, discount: float, stochastic: bool):\n",
    "        self._currrent_state = None\n",
    "        self._time_step = 0\n",
    "        self._time_limit = 100\n",
    "        super().__init__(discount, stochastic)\n",
    "\n",
    "    def reset(self):\n",
    "        obj = 'O'\n",
    "        while obj in ('O', 'C'):\n",
    "            s_init = np.random.randint(0, 100)\n",
    "            r, c = self.to_rc(s_init)\n",
    "            obj = self.grid_world['map'][int(r)][int(c)]\n",
    "        self._currrent_state = s_init\n",
    "        self._time_step = 0\n",
    "        return s_init\n",
    "\n",
    "    def step(self, action):\n",
    "        s_dash, tp = zip(*self.stp[self._currrent_state, action])\n",
    "\n",
    "        next_state = int(np.random.choice(s_dash, size=1, p=tp))\n",
    "\n",
    "        reward = self.rewards[next_state]\n",
    "\n",
    "        r_dash, c_dash = self.to_rc(next_state)\n",
    "        obj = self.grid_world['map'][int(r_dash)][int(c_dash)]\n",
    "        done = obj in ('O', 'C') or self._time_step == self._time_limit - 1\n",
    "\n",
    "        self._currrent_state = next_state\n",
    "        self._time_step += 1\n",
    "\n",
    "        return next_state, reward, done, {}\n"
   ]
  },
  {
   "cell_type": "markdown",
   "metadata": {},
   "source": [
    "## Tabular Q-Learning"
   ]
  },
  {
   "cell_type": "markdown",
   "metadata": {},
   "source": [
    "For exercise 2, you'll implement tabular Q-learning, which has the following pseudocode:\n",
    "\n",
    "---\n",
    "Initialize $Q_{(0)}(s, a)=0$, for all $s$ and $a$, get initial state $s$\n",
    "\n",
    "For $i=0, 1, 2, \\dots$\n",
    "- sample action $a$ using exploration policy, execute it and get next state $s'$\n",
    "- if $s'$ is terminal:\n",
    "- &nbsp;&nbsp;&nbsp;&nbsp; $\\delta = r(s, a) - Q(s,a)$\n",
    "- &nbsp;&nbsp;&nbsp;&nbsp; sample new inital state\n",
    "- else:\n",
    "- &nbsp;&nbsp;&nbsp;&nbsp; $\\delta = r(s, a) + \\gamma \\max_{a'} Q(s', a') - Q(s,a)$\n",
    "- $Q_{(i+1)}(s, a) = Q_i(s, a) + \\alpha \\delta$\n",
    "- $s \\leftarrow s'$\n",
    "\n",
    "\n",
    "---\n",
    "\n",
    "The greedy policy is given by $\\pi_{(i)}(s) = \\underset{a}{\\arg \\max} Q_i(s, a)$\n",
    "\n",
    "\n",
    "#### Hints\n",
    "- Use the functions $\\texttt{to_s}$ and $\\texttt{to_rc}$ provided by the MDP class to convert between linear states\n",
    " $s \\in [0, |\\mathcal{S}|]$ and row/column format, i.e. $\\texttt{mdp.to_rc(0)}$ returns $(0, 0)$, while\n",
    " $\\texttt{mdp.to_s(0, 0)}$ returns $0$\n",
    "- Following numpy functions may be useful: $\\texttt{np.sum}$, $\\texttt{np.max}$, $\\texttt{np.argmax}$, $\\texttt{np.where}$, $\\texttt{np.minimum}$, $\\texttt{np.random.randint}$, $\\texttt{np.random.random}$, $\\texttt{np.random.choice}$\n",
    "- If you cannot achieve an annealing epsilon strategy, implement a constant epsilon greedy strategy (this might result in worse behavior)\n"
   ]
  },
  {
   "cell_type": "markdown",
   "metadata": {},
   "source": [
    "## 2 a) Exploration Strategy"
   ]
  },
  {
   "cell_type": "code",
   "execution_count": 3,
   "metadata": {
    "pycharm": {
     "name": "#%%\n"
    }
   },
   "outputs": [],
   "source": [
    "def sample_action(state, q, t):\n",
    "    r, c = env.to_rc(state)\n",
    "    epsilon = 1 - np.maximum(t / 100000, 0.05)\n",
    "    if np.random.random() < epsilon:\n",
    "        return np.random.randint(0, 5)\n",
    "    else:\n",
    "        a_star = np.random.choice(np.where(q[r, c, :] == np.max(q[r, c, :]))[0])\n",
    "        return a_star"
   ]
  },
  {
   "cell_type": "markdown",
   "metadata": {},
   "source": [
    "## 2 b) TD-Error"
   ]
  },
  {
   "cell_type": "code",
   "execution_count": 4,
   "metadata": {},
   "outputs": [],
   "source": [
    "def get_td_error(state, action, reward, next_state, done, q):\n",
    "    r, c = env.to_rc(state)\n",
    "    r_dash, c_dash = env.to_rc(s_dash)\n",
    "    if done:\n",
    "        delta = reward - q[r, c, a]\n",
    "    else:\n",
    "        delta = reward + gamma * np.max(q[r_dash, c_dash, :]) - q[r, c, a]\n",
    "    return delta"
   ]
  },
  {
   "cell_type": "markdown",
   "metadata": {},
   "source": [
    "## 2 c) Update Q-Table"
   ]
  },
  {
   "cell_type": "code",
   "execution_count": 5,
   "metadata": {},
   "outputs": [],
   "source": [
    "def update_q_table(state, action, q, delta):\n",
    "    r, c = env.to_rc(state)\n",
    "    q[r, c, a] = q[r, c, a] + alpha * delta\n",
    "    return q"
   ]
  },
  {
   "cell_type": "markdown",
   "metadata": {},
   "source": [
    "## Setup\n",
    "Run the next cell before each run of the Q-learning loop"
   ]
  },
  {
   "cell_type": "code",
   "execution_count": 6,
   "metadata": {
    "pycharm": {
     "name": "#%%\n"
    },
    "scrolled": false
   },
   "outputs": [],
   "source": [
    "alpha = 0.3 # learning rate\n",
    "gamma = 0.95 # discount factor\n",
    "env = RoboMDPEnv(discount=gamma, stochastic=False)\n",
    "\n",
    "# initial Q-function\n",
    "q = np.zeros(shape=(RoboMDPEnv.world_dim + (RoboMDPEnv.n_actions, )))\n",
    "\n",
    "# initial state\n",
    "s = env.reset()"
   ]
  },
  {
   "cell_type": "markdown",
   "metadata": {},
   "source": [
    "## Training loop"
   ]
  },
  {
   "cell_type": "code",
   "execution_count": 7,
   "metadata": {
    "pycharm": {
     "name": "#%%\n"
    },
    "scrolled": false
   },
   "outputs": [
    {
     "name": "stdout",
     "output_type": "stream",
     "text": [
      "Policy: \n",
      " [[1 1 1 0 3 3 3 3 0 3]\n",
      " [2 0 1 0 3 0 3 0 4 0]\n",
      " [2 0 1 4 0 0 0 4 0 1]\n",
      " [1 1 2 0 0 0 0 0 1 2]\n",
      " [0 0 1 0 1 0 0 0 0 2]\n",
      " [0 0 0 0 1 0 0 0 0 2]\n",
      " [1 1 1 1 1 1 1 1 1 2]\n",
      " [1 2 2 2 2 0 1 1 2 2]\n",
      " [0 2 0 0 0 0 2 2 2 2]\n",
      " [0 3 3 3 3 0 2 0 0 0]]\n"
     ]
    }
   ],
   "source": [
    "# run the Q-learning loop for 100000 steps\n",
    "for i in range(100000):\n",
    "\n",
    "    # get action and execute it\n",
    "    a = sample_action(s, q, i)\n",
    "    s_dash, reward, done, info = env.step(a)\n",
    "\n",
    "    # compute TD-error\n",
    "    delta = get_td_error(s, a, reward, s_dash, done, q)\n",
    "    \n",
    "    # update Q-table\n",
    "    q = update_q_table(s, a, q, delta)\n",
    "    \n",
    "    # set s for the next iteration\n",
    "    if done:\n",
    "        s = env.reset()\n",
    "    else:\n",
    "        s = s_dash\n",
    "        \n",
    "    # anneal learning rate\n",
    "    alpha *= 0.99995\n",
    "\n",
    "print(\"Policy: \\n\", np.argmax(q, axis=2))"
   ]
  },
  {
   "cell_type": "markdown",
   "metadata": {},
   "source": [
    "## 2 d) Plot of the learned value function and policy"
   ]
  },
  {
   "cell_type": "code",
   "execution_count": 8,
   "metadata": {
    "scrolled": false
   },
   "outputs": [
    {
     "data": {
      "image/png": "[encoded data removed]",
      "text/plain": [
       "<Figure size 720x720 with 1 Axes>"
      ]
     },
     "metadata": {
      "needs_background": "light"
     },
     "output_type": "display_data"
    }
   ],
   "source": [
    "pi = np.argmax(q, axis=2)\n",
    "v = np.max(q, axis=2)\n",
    "plot_v_pi(v, pi, env)"
   ]
  },
  {
   "cell_type": "code",
   "execution_count": null,
   "metadata": {},
   "outputs": [],
   "source": []
  }
 ],
 "metadata": {
  "kernelspec": {
   "display_name": "Python 3 (ipykernel)",
   "language": "python",
   "name": "python3"
  },
  "language_info": {
   "codemirror_mode": {
    "name": "ipython",
    "version": 3
   },
   "file_extension": ".py",
   "mimetype": "text/x-python",
   "name": "python",
   "nbconvert_exporter": "python",
   "pygments_lexer": "ipython3",
   "version": "3.9.8"
  }
 },
 "nbformat": 4,
 "nbformat_minor": 1
}
