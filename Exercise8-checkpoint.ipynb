{
 "cells": [
  {
   "cell_type": "code",
   "execution_count": null,
   "metadata": {
    "ExecuteTime": {
     "end_time": "2021-12-09T16:31:26.438000+01:00",
     "start_time": "2021-12-09T15:31:25.098Z"
    }
   },
   "outputs": [],
   "source": [
    "include(\"optimization_library.jl\");"
   ]
  },
  {
   "cell_type": "markdown",
   "metadata": {},
   "source": [
    "# Exercise 8.1: The Optimal Path for Santa\n",
    "\n",
    "<img src=\"figures/santa-claus.png\" width=\"300\">"
   ]
  },
  {
   "cell_type": "code",
   "execution_count": null,
   "metadata": {
    "ExecuteTime": {
     "end_time": "2021-12-09T16:31:32.473000+01:00",
     "start_time": "2021-12-09T15:31:25.103Z"
    }
   },
   "outputs": [],
   "source": [
    "using JuMP\n",
    "using SCS"
   ]
  },
  {
   "cell_type": "code",
   "execution_count": null,
   "metadata": {
    "ExecuteTime": {
     "end_time": "2021-12-09T16:31:32.924000+01:00",
     "start_time": "2021-12-09T15:31:25.107Z"
    }
   },
   "outputs": [],
   "source": [
    "# ================================================================================================\n",
    "# Construct vector c, matrix A and vector b\n",
    "# ================================================================================================"
   ]
  },
  {
   "cell_type": "code",
   "execution_count": null,
   "metadata": {
    "ExecuteTime": {
     "end_time": "2021-12-09T16:31:32.933000+01:00",
     "start_time": "2021-12-09T15:31:25.111Z"
    }
   },
   "outputs": [],
   "source": [
    "# ================================================================================================\n",
    "# 1. Implement the objective function, its gradient and Hessian.\n",
    "# 2. Implement the functions g(x) for the inequality constraints, their gradients and Hessians.\n",
    "# ================================================================================================"
   ]
  },
  {
   "cell_type": "code",
   "execution_count": null,
   "metadata": {
    "ExecuteTime": {
     "end_time": "2021-12-09T16:31:32.933000+01:00",
     "start_time": "2021-12-09T15:31:25.114Z"
    }
   },
   "outputs": [],
   "source": [
    "# ================================================================================================\n",
    "# Apply the function ConstraintElimination_ipm() from the optimization library\n",
    "# ================================================================================================"
   ]
  },
  {
   "cell_type": "markdown",
   "metadata": {},
   "source": [
    "## Howe to use the SCS solver"
   ]
  },
  {
   "cell_type": "markdown",
   "metadata": {},
   "source": [
    "We will now learn how to use the SCS solver using the JuMP package. The JuMP package provides macros that allow to access some functions of the solver in a very convenient way."
   ]
  },
  {
   "cell_type": "code",
   "execution_count": null,
   "metadata": {
    "ExecuteTime": {
     "end_time": "2021-12-09T16:31:32.933000+01:00",
     "start_time": "2021-12-09T15:31:25.119Z"
    }
   },
   "outputs": [],
   "source": [
    "# ================================================================================================\n",
    "# Uncomment the following lines to solve the problem with the SCS solver.\n",
    "# model = Model(SCS.Optimizer)\n",
    "# @variable(model, x[1:nx])\n",
    "# @constraint(model, A * x .== b)\n",
    "# @constraint(model,  -x .<= zeros(nx))\n",
    "# @objective(model, Min, c'*x)\n",
    "# optimize!(model)\n",
    "# ================================================================================================"
   ]
  },
  {
   "cell_type": "code",
   "execution_count": null,
   "metadata": {
    "ExecuteTime": {
     "end_time": "2021-12-09T16:31:32.938000+01:00",
     "start_time": "2021-12-09T15:31:25.123Z"
    }
   },
   "outputs": [],
   "source": [
    "# ================================================================================================\n",
    "# Uncomment the following line to retrieve the minimizer. Compare the solution to the result from the \n",
    "# ConstraintElimination_ipm() function.\n",
    "\n",
    "# sol = value.(x)\n",
    "# ================================================================================================"
   ]
  },
  {
   "cell_type": "markdown",
   "metadata": {},
   "source": [
    "# Exercise 8.2: Truss Structure"
   ]
  },
  {
   "cell_type": "code",
   "execution_count": null,
   "metadata": {
    "ExecuteTime": {
     "end_time": "2021-12-09T16:31:37.129000+01:00",
     "start_time": "2021-12-09T15:31:25.128Z"
    }
   },
   "outputs": [],
   "source": [
    "using Luxor\n",
    "\n",
    "# Function for drawing the truss structure\n",
    "# J: Vector of joint coordinates\n",
    "# B: Vector of beams, i.e. vector of tuples with joint indices that the beams connect\n",
    "# Jc: Vector of cantilever joints\n",
    "# Jl: Vector with load on each joint\n",
    "# mb: Vector with beam masses\n",
    "function drawTruss(J, B, Jc, Jl, mb)\n",
    "    scale = 40\n",
    "    function pos(j)\n",
    "        return Point(J[j][1]*scale - 400, -J[j][2]*scale)\n",
    "    end\n",
    "    @pdf begin\n",
    "        background(\"white\")\n",
    "        \n",
    "        # Draw beams\n",
    "        setcolor(\"black\")\n",
    "        for b=1:nB\n",
    "            if mb[b] <= 1\n",
    "                continue\n",
    "            end\n",
    "            setline(sqrt(mb[b]))\n",
    "            line(pos(B[b][1]), pos(B[b][2]), :stroke)\n",
    "        end\n",
    "        \n",
    "        # Draw road\n",
    "        setcolor(\"blue\")\n",
    "        setline(5)\n",
    "        line(Point(-400,0), Point(-400 + max_x*scale,0), :stroke)\n",
    "        \n",
    "        # Draw joints\n",
    "        setcolor(\"red\")\n",
    "        for j = 1:length(J)\n",
    "            if j in Jc\n",
    "                circle(pos(j), 8, :fill)\n",
    "            end\n",
    "        end\n",
    "        \n",
    "        # Draw load arrows\n",
    "        setcolor(\"green\")\n",
    "        for j = 1:length(J)\n",
    "            if LinearAlgebra.norm(Jl[j]) <= 0.1\n",
    "                continue\n",
    "            end\n",
    "            Luxor.arrow(pos(j), pos(j) - (Point(Jl[j][1], Jl[j][2])/5000), linewidth=5)\n",
    "        end\n",
    "    end 1000 400\n",
    "end\n",
    "\n"
   ]
  },
  {
   "cell_type": "code",
   "execution_count": null,
   "metadata": {
    "ExecuteTime": {
     "end_time": "2021-12-09T16:31:38.473000+01:00",
     "start_time": "2021-12-09T15:31:25.131Z"
    }
   },
   "outputs": [],
   "source": [
    "# Vector with indices of joints. Each entry is a two-vector with the x-y coordinates\n",
    "J = [[x,y] for x=0:1:17, y=-2:1:4]\n",
    "\n",
    "# number of joints\n",
    "nJ = length(J) \n",
    "\n",
    "# Constructing vector of beams. Each beam corresponds to a tuple with the indices of the joints the beam is connecting\n",
    "# Connect all joints that are in a radius < 2m.\n",
    "rad = 2.0\n",
    "B = [(i,j) for i=1:nJ, j = 1:nJ if j < i && LinearAlgebra.norm(J[i]-J[j]) < rad]\n",
    "\n",
    "# number of beams\n",
    "nB = length(B)\n",
    "\n",
    "# Vector storing indices of beams that are connected to each joint\n",
    "Bj = [[b for b=1:nB if B[b][1] == j || B[b][2] == j] for j=1:nJ];\n",
    "\n",
    "# number of joints along x-axis\n",
    "max_x = maximum([J[i][1] for i=1:nJ])\n",
    "\n",
    "# Defining cantilever joints as the joints that are on both sides of the bridge and below or equal to the street level\n",
    "Jc = [i for i=1:nJ if ((J[i][1] == 0 || J[i][1] == max_x) && J[i][2] <= 0)];\n",
    "\n",
    "# number of cantilever points\n",
    "nC = length(Jc) \n",
    "\n",
    "# external load excerted on each joint at street level\n",
    "load = 20000\n",
    "# External loads excerted on the joints at street level (y-coordinate equals zero)\n",
    "Jl = [J[j][2] == 0 ? [0.0, -load*9.81] : [0.0,0.0] for j=1:nJ];"
   ]
  },
  {
   "cell_type": "code",
   "execution_count": null,
   "metadata": {
    "ExecuteTime": {
     "end_time": "2021-12-09T16:31:40.734000+01:00",
     "start_time": "2021-12-09T15:31:25.133Z"
    }
   },
   "outputs": [],
   "source": [
    "# Initialize the masses of beams for drawing of initial structure\n",
    "mb_init = ones(nB)*10;\n",
    "\n",
    "# Draw initial truss structure\n",
    "drawTruss(J,B,Jc,Jl,mb_init/1000)"
   ]
  },
  {
   "cell_type": "markdown",
   "metadata": {
    "ExecuteTime": {
     "end_time": "2020-12-16T19:06:22.681000+01:00",
     "start_time": "2020-12-16T18:06:22.680Z"
    }
   },
   "source": [
    "## The Optimization Problem\n",
    "\n",
    "Consider the truss structure problem given in lecture 5 (slide 15). Implement the problem as a linear program of the form:\n",
    "\\begin{align}\n",
    " \\min_{\\vec{x}} \\quad & \\vec{c}^\\top \\vec{x}\\\\\n",
    " \\text{subject to} \\quad & A\\vec{x} = \\vec{b}\\\\\n",
    " \\quad & C\\vec{x} \\leq \\vec{d},\n",
    "\\end{align}\n",
    "\n",
    "with the target variable $\\vec{x}^\\top = (f_1, f_2, \\dots, \\tilde f_1, \\tilde f_2, \\dots)$. \n",
    "\n",
    "There are 2 * nB inequality constraints and  2 * (nJ - nC) equality constraints."
   ]
  },
  {
   "cell_type": "code",
   "execution_count": null,
   "metadata": {
    "ExecuteTime": {
     "end_time": "2021-12-09T16:31:43.303000+01:00",
     "start_time": "2021-12-09T15:31:25.139Z"
    }
   },
   "outputs": [],
   "source": [
    "delta = 5e-4\n",
    "\n",
    "c = zeros(2*nB)\n",
    "# ================================================================================================\n",
    "# Construct the vector c.\n",
    "# ================================================================================================"
   ]
  },
  {
   "cell_type": "code",
   "execution_count": null,
   "metadata": {
    "ExecuteTime": {
     "end_time": "2021-12-09T16:31:43.398000+01:00",
     "start_time": "2021-12-09T15:31:25.146Z"
    }
   },
   "outputs": [],
   "source": [
    "# ================================================================================================\n",
    "# Construct matrix A and vector b for the equality constraints.\n",
    "A = zeros(2 * (nJ-nC), length(c));\n",
    "b = zeros(2 * (nJ-nC));\n",
    "# ================================================================================================"
   ]
  },
  {
   "cell_type": "code",
   "execution_count": null,
   "metadata": {
    "ExecuteTime": {
     "end_time": "2021-12-09T16:31:43.404000+01:00",
     "start_time": "2021-12-09T15:31:25.148Z"
    }
   },
   "outputs": [],
   "source": [
    "# ================================================================================================\n",
    "# construct matrix C and vector d for the inequality constraints Cx <= d\n",
    "C = zeros(2 * nB, length(c))\n",
    "d = zeros(2 * nB);\n",
    "# ================================================================================================"
   ]
  },
  {
   "cell_type": "markdown",
   "metadata": {},
   "source": [
    "## Use the solver to find the solution"
   ]
  },
  {
   "cell_type": "code",
   "execution_count": null,
   "metadata": {
    "ExecuteTime": {
     "end_time": "2021-12-09T16:32:05.173000+01:00",
     "start_time": "2021-12-09T15:31:25.151Z"
    }
   },
   "outputs": [],
   "source": [
    "model = Model(SCS.Optimizer)\n",
    "# ================================================================================================\n",
    "# define the variable, objective and constraints for the model using the JuMP package\n",
    "# ================================================================================================\n",
    "optimize!(model)"
   ]
  },
  {
   "cell_type": "code",
   "execution_count": null,
   "metadata": {
    "ExecuteTime": {
     "end_time": "2021-12-09T16:32:05.173000+01:00",
     "start_time": "2021-12-09T15:31:25.154Z"
    }
   },
   "outputs": [],
   "source": [
    "# ================================================================================================\n",
    "# uncomment the following lines to draw your solution\n",
    "#sol = value.(x)\n",
    "#masses = c.*sol\n",
    "#masses = masses[nB+1:2*nB]\n",
    "\n",
    "# scaling up the masses for drawing in order to see some lines\n",
    "#drawTruss(J,B,Jc,Jl, masses)\n",
    "# ================================================================================================"
   ]
  },
  {
   "cell_type": "code",
   "execution_count": null,
   "metadata": {},
   "outputs": [],
   "source": []
  }
 ],
 "metadata": {
  "kernelspec": {
   "display_name": "Julia 1.11.0",
   "language": "julia",
   "name": "julia-1.11"
  },
  "language_info": {
   "file_extension": ".jl",
   "mimetype": "application/julia",
   "name": "julia",
   "version": "1.11.0"
  },
  "toc": {
   "base_numbering": 1,
   "nav_menu": {},
   "number_sections": true,
   "sideBar": true,
   "skip_h1_title": false,
   "title_cell": "Table of Contents",
   "title_sidebar": "Contents",
   "toc_cell": false,
   "toc_position": {},
   "toc_section_display": true,
   "toc_window_display": true
  },
  "varInspector": {
   "cols": {
    "lenName": 16,
    "lenType": 16,
    "lenVar": 40
   },
   "kernels_config": {
    "python": {
     "delete_cmd_postfix": "",
     "delete_cmd_prefix": "del ",
     "library": "var_list.py",
     "varRefreshCmd": "print(var_dic_list())"
    },
    "r": {
     "delete_cmd_postfix": ") ",
     "delete_cmd_prefix": "rm(",
     "library": "var_list.r",
     "varRefreshCmd": "cat(var_dic_list()) "
    }
   },
   "types_to_exclude": [
    "module",
    "function",
    "builtin_function_or_method",
    "instance",
    "_Feature"
   ],
   "window_display": false
  }
 },
 "nbformat": 4,
 "nbformat_minor": 4
}
