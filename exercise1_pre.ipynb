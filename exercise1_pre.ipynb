{
 "cells": [
  {
   "cell_type": "code",
   "execution_count": 1,
   "id": "5f3a4357",
   "metadata": {},
   "outputs": [],
   "source": [
    "import numpy as np\n",
    "import matplotlib.pyplot as plt"
   ]
  },
  {
   "cell_type": "code",
   "execution_count": 2,
   "id": "ebdee98d",
   "metadata": {},
   "outputs": [],
   "source": [
    "# load age productivity profile and lifetable\n",
    "age_profile = np.loadtxt('ageprod.txt')\n",
    "age_profile = age_profile / np.mean(age_profile)\n",
    "surv_rate = np.loadtxt('surv_rate.txt')"
   ]
  },
  {
   "cell_type": "code",
   "execution_count": null,
   "id": "f12d7807",
   "metadata": {},
   "outputs": [],
   "source": []
  }
 ],
 "metadata": {
  "kernelspec": {
   "display_name": "Python 3 (ipykernel)",
   "language": "python",
   "name": "python3"
  },
  "language_info": {
   "codemirror_mode": {
    "name": "ipython",
    "version": 3
   },
   "file_extension": ".py",
   "mimetype": "text/x-python",
   "name": "python",
   "nbconvert_exporter": "python",
   "pygments_lexer": "ipython3",
   "version": "3.9.7"
  }
 },
 "nbformat": 4,
 "nbformat_minor": 5
}
