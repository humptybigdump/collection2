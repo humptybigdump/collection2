{
 "cells": [
  {
   "cell_type": "markdown",
   "metadata": {
    "collapsed": true,
    "pycharm": {
     "name": "#%% md\n"
    }
   },
   "source": [
    "# Exercise 2, 30P(oints)\n",
    "\n",
    "## Lab Instructions\n",
    "All your answers for exercise #2 should be written in this notebook. You\n",
    "shouldn't need to write or modify any other files.\n",
    "\n",
    "**You should execute every block of code to not miss any dependency.**\n",
    "\n",
    "*This exercise was developed by Ge Li for the KIT Cognitive Systems Lecture,\n",
    "June 2020."
   ]
  },
  {
   "cell_type": "markdown",
   "metadata": {},
   "source": [
    "## Exercise 2 a,b,c and d:\n",
    "This jupyter notebook offers a modular framework, where DFS, BFS and A star\n",
    "algorithms can be solved in a similar modality. Read the code carefully and\n",
    "fill in the missing steps of the function. Afterwards, when you run the code,\n",
    " the **result of task b, c, and d (6P)** will be shown automatically.\n",
    "\n",
    "Detailed information:\n",
    "1. In script \"grid_world.py\", you can find the definition of the \"GridWorld\"\n",
    "and some helper functions regarding to the environment.\n",
    "\n",
    "2. In this notebook, a Node class which represents the data structure used in\n",
    "the search tree is offered. As the search procedure continues, the algorithm\n",
    "will keep expanding nodes of the tree into sub-trees.\n",
    "\n",
    "3. In this notebook, two helper functions \"print_path\" and \"print_fringe_list\"\n",
    "are offered to help you print and understand the intermediate steps and final\n",
    "results.\n",
    "\n",
    "4. The function **\"pop_fringe_node\"** is to pop a node from the fringe list. In\n",
    "step 1, we gave an example of DFS method. **Please finish the BFS (1P) and A\n",
    "star (3P) in steps 2 and 3 respectively.** You should not modify other steps.\n",
    "Hints: you may need to call some basic python functions, such as: min() and\n",
    "index().\n",
    "\n",
    "5. The main search work is performed in function **\"search\"**. Given different\n",
    "arguments (\"dfs\", \"bfs\" or \"a_star\"), You can perform different search\n",
    "algorithm in a uniform way. The implementation of the search algorithm in\n",
    "this homework allows fringe list to store duplicated nodes referring to a same\n",
    "cell in GridWorld. When these nodes are \"poped up\" from the fringe list, only\n",
    "the first one can be expanded, while the rest of them will be skipped. (See\n",
    " lecture slide #81 in Search).\n",
    " **Please finish the step 9 of this function to expand a node, i.e. generate\n",
    " children nodes (10P in total).** You should consider these sub-steps in\n",
    " below (2P for each), while keep other steps unchanged:<br>\n",
    "    - Skip current node if it has been expanded before.\n",
    "    - In GridWorld, find neighbor cells of the cell referred by current node\n",
    "    (call function GridWorld.get_neighbors(...)). The children nodes to be\n",
    "    generated should refer to these neighbor cells.\n",
    "    - Skip constructing child node for a cell, if there was already an\n",
    "    expanded node refer to this cell.\n",
    "    - Call constructor to generate a child node. When doing this, you need to\n",
    "    decide the parent node, accumulated cost (g), and the cell it refers to.\n",
    "    - Update the \"expanded_list\" for current node, after all children nodes have\n",
    "     been generated.\n",
    "\n",
    "\n",
    "6. The pseudo-code of the entire search algorithm:\n",
    "    - Create an empty fringe list and initialize it with root node (refers to\n",
    "     Start).\n",
    "    - While the fringe list is not empty:<br>\n",
    "    -- Pop up a node from the fringe list according to the specific method.<br>\n",
    "    -- If that's a goal node, print the results and break the while loop.<br>\n",
    "    -- Otherwise, expand this node (if it is not expanded before), i.e. generate\n",
    "    and add children nodes for this node to the fringe list.<br>\n",
    "    - Return failure, if the node referring to Goal cannot be found after the\n",
    "    end of while loop."
   ]
  },
  {
   "cell_type": "code",
   "execution_count": null,
   "metadata": {
    "pycharm": {
     "name": "#%%\n"
    }
   },
   "outputs": [],
   "source": [
    "# DO NOT MODIFY THIS BLOCK\n",
    "\n",
    "from ex2.grid_world import GridWorld\n",
    "import numpy as np\n"
   ]
  },
  {
   "cell_type": "code",
   "execution_count": null,
   "metadata": {
    "pycharm": {
     "name": "#%%\n"
    }
   },
   "outputs": [],
   "source": [
    "# DO NOT MODIFY THIS BLOCK\n",
    "\n",
    "class Node:\n",
    "    \"\"\"\n",
    "    Node class.\n",
    "\n",
    "    When a search algorithm is performed, a search tree with nodes will be\n",
    "    generated.\n",
    "    Each node refers to a cell in the grid_world. Multiple nodes are allowed\n",
    "    to refer to a same cell. For each node, it contains 5 attributes:\n",
    "\n",
    "       - A reference to the parent node,\n",
    "       - A reference to the cell in Grid_world,\n",
    "       - The accumulated cost to reach this node from the root, i.e. g(n)\n",
    "       - The heuristic h(n),\n",
    "       - The f value, f(n) = g(n) + h(n).\n",
    "       \n",
    "    \"\"\"\n",
    "\n",
    "    def __init__(self, parent, g, ref):\n",
    "        \"\"\"\n",
    "        Constructor\n",
    "        Args:\n",
    "            parent: reference to the parent node\n",
    "            g: the cost to reach this node from the start (root) node\n",
    "            ref: reference (index) to the cell in the grid_world\n",
    "        \"\"\"\n",
    "\n",
    "        self.parent = parent\n",
    "        self.g = g\n",
    "        self.ref = ref\n",
    "        self.h = GridWorld.manhattan_distance(ref)\n",
    "        self.f = self.g + self.h"
   ]
  },
  {
   "cell_type": "code",
   "execution_count": null,
   "metadata": {
    "pycharm": {
     "name": "#%%\n"
    }
   },
   "outputs": [],
   "source": [
    "# DO NOT MODIFY THIS BLOCK\n",
    "\n",
    "def print_path(node):\n",
    "    \"\"\"\n",
    "    This is a helper function\n",
    "    Generate and print a path in string from the start (root) to a this node\n",
    "    Args:\n",
    "        node: reference to a certain node\n",
    "    Returns: None\n",
    "    \"\"\"\n",
    "\n",
    "    # 1. Put current node in the path\n",
    "    path = [GridWorld.string_coordinate(node.ref)]\n",
    "\n",
    "    # 2. Search all ancestors until we reach the root\n",
    "    ancestor = node.parent\n",
    "    while ancestor is not None:\n",
    "        ref = ancestor.ref\n",
    "        # 2.1 Insert the ancestor to the beginning of the path\n",
    "        path.insert(0, GridWorld.string_coordinate(ref))\n",
    "        ancestor = ancestor.parent\n",
    "\n",
    "    # 3. Print path\n",
    "    print(\"\\nPath from S to G: \", path, sep=\"\\n\")"
   ]
  },
  {
   "cell_type": "code",
   "execution_count": null,
   "metadata": {
    "pycharm": {
     "name": "#%%\n"
    }
   },
   "outputs": [],
   "source": [
    "# DO NOT MODIFY THIS BLOCK\n",
    "\n",
    "def print_fringe_list(fringe_list):\n",
    "    \"\"\"\n",
    "    This is a helper function\n",
    "    Print the fringe list and help you understand how it changes during\n",
    "    the search procedure\n",
    "    Args:\n",
    "        fringe_list: the list contains all the fringe nodes\n",
    "    Returns: None\n",
    "\n",
    "    \"\"\"\n",
    "    for node in fringe_list:\n",
    "        print(GridWorld.string_coordinate(node.ref), end=\", \")\n",
    "    print(\"\")\n"
   ]
  },
  {
   "cell_type": "code",
   "execution_count": null,
   "metadata": {
    "pycharm": {
     "name": "#%%\n"
    }
   },
   "outputs": [],
   "source": [
    "# TODO: PLEASE FINISH \"STEP 2 AND 3\" IN THIS FUNCTION BLOCK\n",
    "# TODO: PLEASE FINISH \"STEP 2 AND 3\" IN THIS FUNCTION BLOCK\n",
    "# TODO: PLEASE FINISH \"STEP 2 AND 3\" IN THIS FUNCTION BLOCK\n",
    "\n",
    "def pop_fringe_node(fringe_list, method_name):\n",
    "    \"\"\"\n",
    "    Pop up a fringe node from the fringe list, given the search method\n",
    "    Args:\n",
    "        fringe_list: The list which contains all the fringe nodes\n",
    "        method_name: 'dfs', 'bfs', or 'a_star'\n",
    "    Returns:\n",
    "        the poped up fringe node\n",
    "    \"\"\"\n",
    "\n",
    "    # 1. When the method is DFS, decide the node to pop up from fringe list\n",
    "    if method_name == 'dfs':\n",
    "        # DFS: maintains a \"Stack\": Last in First Out\n",
    "        node_index = -1\n",
    "\n",
    "    # 2. When the method is BFS, decide the node to pop up from fringe\n",
    "    elif method_name == 'bfs':\n",
    "        # BFS: What should we do here for BFS?\n",
    "        node_index = 0\n",
    "\n",
    "    # 3. When the method is A*, decide the node to pop up from fringe\n",
    "    else:  # method_name = 'a_star'\n",
    "        # A*: What should we do here for A*?\n",
    "        node_index = fringe_list.index(min(fringe_list, key=lambda\n",
    "            node: node.f))\n",
    "\n",
    "    # 4. Pop up the node and return it back\n",
    "    return fringe_list.pop(node_index)"
   ]
  },
  {
   "cell_type": "code",
   "execution_count": null,
   "metadata": {
    "pycharm": {
     "name": "#%%\n"
    }
   },
   "outputs": [],
   "source": [
    "# TODO: PLEASE FINISH \"STEP 9\" IN THIS FUNCTION BLOCK\n",
    "# TODO: PLEASE FINISH \"STEP 9\" IN THIS FUNCTION BLOCK\n",
    "# TODO: PLEASE FINISH \"STEP 9\" IN THIS FUNCTION BLOCK\n",
    "\n",
    "def search(method_name):\n",
    "    \"\"\"\n",
    "    Perform a search algorithm given the method name\n",
    "    Args:\n",
    "        method_name: 'dfs', 'bfs', or 'a_star'\n",
    "\n",
    "    Returns: None\n",
    "    \"\"\"\n",
    "\n",
    "    # 1. Print method name\n",
    "    print(\"\\n\\n===========  This is \" + method_name + \" search method\"\n",
    "                                                     \".  ============  \\n\\n\")\n",
    "\n",
    "\n",
    "    # 2. Initialize a bool list to record all expanded nodes\n",
    "    expanded_list = [False] * GridWorld.N\n",
    "\n",
    "\n",
    "    # 3. Initialize the search tree with root node\n",
    "    # Here is an example of constructing a node\n",
    "    root = Node(parent=None, g=0, ref=GridWorld.S)\n",
    "    fringe_list = [root]\n",
    "\n",
    "\n",
    "    # 4. Initialize a flag indicating if Goal is found\n",
    "    find_g = False\n",
    "\n",
    "\n",
    "    # 5. While loop for search\n",
    "    while len(fringe_list) > 0:\n",
    "\n",
    "        # 6. Print the fringe list, help you understand what is going on...\n",
    "        print_fringe_list(fringe_list)\n",
    "\n",
    "\n",
    "        # 7. pop one node from the fringe list\n",
    "        current_node = pop_fringe_node(fringe_list, method_name)\n",
    "\n",
    "\n",
    "        # 8. Check if the node is the Goal\n",
    "        if GridWorld.is_goal(current_node.ref):\n",
    "\n",
    "            # 8.1 If YES, Set find flag to True\n",
    "            find_g = True\n",
    "\n",
    "            # 8.2 Print results for task b, c, and d\n",
    "            print(\"\\n\\nExpanded nodes in GridWorld: \", np.asarray\n",
    "            (expanded_list).reshape(GridWorld.W, -1), sep=\"\\n\")\n",
    "\n",
    "            print(\"\\n\\nTotal number of expanded nodes: \", sum(expanded_list),\n",
    "                  sep=\"\\n\")\n",
    "            \n",
    "            print_path(current_node) # Print the path from root to this node\n",
    "            break\n",
    "\n",
    "\n",
    "        # 9. Expand current node\n",
    "\n",
    "        # 9.1 Check if current node is not expanded before\n",
    "        if not expanded_list[current_node.ref]:\n",
    "\n",
    "            # 9.2 Iterate all the neighbor cells\n",
    "            neighbor_indices = GridWorld.get_neighbors(current_node.ref)\n",
    "            for neighbor in neighbor_indices:\n",
    "\n",
    "                # 9.3 Check if a neighbor has been expanded or not\n",
    "                if not expanded_list[neighbor]:\n",
    "\n",
    "                    # 9.4 Create a new child node\n",
    "                    # The parent of this child node is current node\n",
    "                    # the cost to reach this child node from root is the cost of\n",
    "                    # current_node plus 1\n",
    "                    # this child node should refer to neighbor\n",
    "                    fringe_list.append(Node(current_node, current_node.g + 1,\n",
    "                                            neighbor))\n",
    "\n",
    "            # 9.5 Update expanded_list\n",
    "            expanded_list[current_node.ref] = True\n",
    "\n",
    "\n",
    "        # End search while loop\n",
    "\n",
    "\n",
    "    # 11. If Goal cannot be found, print failure\n",
    "    if not find_g:\n",
    "        print(\"Cannot find Goal!\")"
   ]
  },
  {
   "cell_type": "markdown",
   "metadata": {},
   "source": [
    "### Run the code and see the result"
   ]
  },
  {
   "cell_type": "code",
   "execution_count": null,
   "metadata": {
    "pycharm": {
     "name": "#%%\n"
    }
   },
   "outputs": [],
   "source": [
    "# DO NOT MODIFY THIS BLOCK\n",
    "search('dfs')"
   ]
  },
  {
   "cell_type": "code",
   "execution_count": null,
   "metadata": {
    "pycharm": {
     "name": "#%%\n"
    }
   },
   "outputs": [],
   "source": [
    "# DO NOT MODIFY THIS BLOCK\n",
    "search('bfs')"
   ]
  },
  {
   "cell_type": "code",
   "execution_count": null,
   "metadata": {
    "pycharm": {
     "name": "#%%\n"
    }
   },
   "outputs": [],
   "source": [
    "# DO NOT MODIFY THIS BLOCK\n",
    "search('a_star')\n"
   ]
  },
  {
   "cell_type": "markdown",
   "metadata": {},
   "source": [
    "## Exercise 2 e (3P):\n",
    "\n",
    "A heuristic h is admissible if $h(n) ≤ h* (n)$ for all n, where $h *$ is the\n",
    "optimal heuristic. I.e. h is admissible if it never over estimates the cost of\n",
    "the best solution from n to a goal. The heuristic shown in figure (b)\n",
    "is admissible. (It’s the Manhattan Distance heuristic.)"
   ]
  },
  {
   "cell_type": "markdown",
   "metadata": {},
   "source": [
    "## Exercise 2 f (7P):\n",
    "\n",
    "8,<br>\n",
    "m\n"
   ]
  }
 ],
 "metadata": {
  "kernelspec": {
   "display_name": "Python 3",
   "language": "python",
   "name": "python3"
  },
  "language_info": {
   "codemirror_mode": {
    "name": "ipython",
    "version": 3
   },
   "file_extension": ".py",
   "mimetype": "text/x-python",
   "name": "python",
   "nbconvert_exporter": "python",
   "pygments_lexer": "ipython3",
   "version": "3.6.9"
  }
 },
 "nbformat": 4,
 "nbformat_minor": 1
}