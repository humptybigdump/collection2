{
 "cells": [
  {
   "cell_type": "code",
   "execution_count": null,
   "metadata": {
    "ExecuteTime": {
     "end_time": "2021-11-25T16:50:59.508000+01:00",
     "start_time": "2021-11-25T15:50:49.759Z"
    }
   },
   "outputs": [],
   "source": [
    "include(\"optimization_library.jl\");\n",
    "include(\"mplstyle.jl\");"
   ]
  },
  {
   "cell_type": "markdown",
   "metadata": {},
   "source": [
    "# Exercise 6.2c: Paint production rates\n",
    "\n",
    "What are the daily production rates of interior and exterior paint that maximize the company's revenue? Find the optimal solution using the interior point method."
   ]
  },
  {
   "cell_type": "code",
   "execution_count": null,
   "metadata": {
    "ExecuteTime": {
     "end_time": "2021-11-25T16:51:00.415000+01:00",
     "start_time": "2021-11-25T15:50:51.086Z"
    }
   },
   "outputs": [],
   "source": [
    "# ===============================================================================\n",
    "# Solve the problem using the interior point method. Either use your own implemented function or the function ipm()\n",
    "# from optimization_library.jl. Beware that the trace returned by the ipm() function from the library has been extended\n",
    "# by one row which stores the number of newton iterations needed to find the next point x_k (see Exercise 5.1 for the\n",
    "# notation) on the central path.\n",
    "# ==============================================================================="
   ]
  },
  {
   "cell_type": "markdown",
   "metadata": {},
   "source": [
    "# Exercise 6.2d: Trade off between inner and outer number of iterations"
   ]
  },
  {
   "cell_type": "code",
   "execution_count": null,
   "metadata": {
    "ExecuteTime": {
     "end_time": "2021-11-25T16:55:11.474000+01:00",
     "start_time": "2021-11-25T15:55:08.671Z"
    }
   },
   "outputs": [],
   "source": [
    "μ = [2,10,50] # values for barrier_increase\n",
    "\n",
    "for mu in μ\n",
    "# ===============================================================================\n",
    "    # Solve the optimization problem with barrier_increase = mu\n",
    "    # Plot the precision of the intermediate solutions (f(x_k) - f(x_optimum)) after each outer iteration versus the \n",
    "    # cumulative number of newton iterations needed in the inner iteration given by \"accumulate(+, trace[end,:])\".\n",
    "# ===============================================================================\n",
    "end\n",
    "    \n",
    "fontsize = 13\n",
    "xlabel(\"Cumulative number of Newton iterations\", fontsize = fontsize)\n",
    "ylabel(\"Precision\", fontsize = fontsize)\n",
    "legend(fontsize = fontsize)\n",
    "yscale(\"log\")"
   ]
  },
  {
   "cell_type": "markdown",
   "metadata": {},
   "source": [
    "# Exercise 6.3a"
   ]
  },
  {
   "cell_type": "code",
   "execution_count": null,
   "metadata": {
    "ExecuteTime": {
     "end_time": "2021-11-25T16:55:14.452000+01:00",
     "start_time": "2021-11-25T15:55:14.452Z"
    }
   },
   "outputs": [],
   "source": [
    "# Find a valid admissible solution for the Interior Point Method\n",
    "# x0: Initial point.\n",
    "# g: Array of inequality constraints g_i(x) < 0\n",
    "# dg: Array with the gradient of the inequality constraints\n",
    "# maxiters: Maximum number of iterations\n",
    "# eps: Minimum distance of the solution from the barrier\n",
    "\n",
    "function ipm_admissible(x0; g=[], dg=[], initial_barrier = 1.0, barrier_increase = 2.0, maxiters = 100, \n",
    "        inner_maxiters = 100, eps=0.0001)\n",
    "    \n",
    "    glen = length(g)\n",
    "    xlen = length(x0)\n",
    "    t = initial_barrier\n",
    "    \n",
    "# ===============================================================================\n",
    "    # 1. Find the initial s\n",
    "    #    Add 10% of |max_i(g_i(x0))| to ensure that we start with an interior point\n",
    "    # 2. The optimization problem to be solved is \"min_y s\" for y = (x,s).\n",
    "    # 3. Define the constraints with the slack variable s as follows: g_i(x) - s < 0\n",
    "    # 4. Use the interior point method to solve the optimization problem\n",
    "    #    Stop the outer iterations as soon as an admissible solution has been found.\n",
    "    #    Use gradient descent for the inner iterations in order to avoid very large hessians (due to small gradients)\n",
    "    #    that cannot be inverted. Stop the outer loop if the solution x_k of the inner iteration is already an admissible\n",
    "    #    point.\n",
    "    # 5. Notify the user if no admissible point could be found\n",
    "    #    Note that the case s = 0 will in practice not hold due to numerical imprecisions. Use abs(s) <= eps instead!\n",
    "    # 6. Return the interior point\n",
    "    return ones(xlen)\n",
    "# ===============================================================================\n",
    "end;"
   ]
  },
  {
   "cell_type": "markdown",
   "metadata": {},
   "source": [
    "# Exercise 6.3b\n",
    "\n",
    "Verify your implementation by searching for an admissible point for the problem in Exercise 6.2 given the inadmissible point $\\vec{x} = (100,100)$. Make sure your method really results in an admissible point."
   ]
  }
 ],
 "metadata": {
  "kernelspec": {
   "display_name": "Julia 1.5.0",
   "language": "julia",
   "name": "julia-1.5"
  },
  "language_info": {
   "file_extension": ".jl",
   "mimetype": "application/julia",
   "name": "julia",
   "version": "1.5.0"
  },
  "toc": {
   "base_numbering": 1,
   "nav_menu": {},
   "number_sections": true,
   "sideBar": true,
   "skip_h1_title": false,
   "title_cell": "Table of Contents",
   "title_sidebar": "Contents",
   "toc_cell": false,
   "toc_position": {},
   "toc_section_display": true,
   "toc_window_display": false
  },
  "varInspector": {
   "cols": {
    "lenName": 16,
    "lenType": 16,
    "lenVar": 40
   },
   "kernels_config": {
    "python": {
     "delete_cmd_postfix": "",
     "delete_cmd_prefix": "del ",
     "library": "var_list.py",
     "varRefreshCmd": "print(var_dic_list())"
    },
    "r": {
     "delete_cmd_postfix": ") ",
     "delete_cmd_prefix": "rm(",
     "library": "var_list.r",
     "varRefreshCmd": "cat(var_dic_list()) "
    }
   },
   "types_to_exclude": [
    "module",
    "function",
    "builtin_function_or_method",
    "instance",
    "_Feature"
   ],
   "window_display": false
  }
 },
 "nbformat": 4,
 "nbformat_minor": 4
}
