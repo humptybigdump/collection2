{
 "cells": [
  {
   "cell_type": "code",
   "execution_count": 1,
   "metadata": {
    "ExecuteTime": {
     "end_time": "2021-12-09T16:38:48.712000+01:00",
     "start_time": "2021-12-09T15:38:47.489Z"
    }
   },
   "outputs": [],
   "source": [
    "include(\"optimization_library.jl\");"
   ]
  },
  {
   "cell_type": "markdown",
   "metadata": {},
   "source": [
    "# Exercise 8.1: Optimal Path for Santa\n",
    "\n",
    "<img src=\"figures/santa-claus.png\" width=\"300\">"
   ]
  },
  {
   "cell_type": "code",
   "execution_count": 2,
   "metadata": {
    "ExecuteTime": {
     "end_time": "2021-12-09T16:38:50.612000+01:00",
     "start_time": "2021-12-09T15:38:47.493Z"
    }
   },
   "outputs": [
    {
     "data": {
      "text/plain": [
       "4-element Vector{Int64}:\n",
       " 178\n",
       "  78\n",
       "  60\n",
       "  40"
      ]
     },
     "execution_count": 2,
     "metadata": {},
     "output_type": "execute_result"
    }
   ],
   "source": [
    "# ================================================================================================\n",
    "# vector c, matrix A and vector b\n",
    "\n",
    "c = [4857; 3281; 7891; 7891; 7312; 7312; 9892; 9892]\n",
    "\n",
    "A = [1 1 0 0 0 0 0 0;\n",
    "    0 1 1 -1 0 0 1 -1;\n",
    "    1 0 -1 1 1 -1 0 0;\n",
    "    0 0 0 0 -1 1 -1 1]\n",
    "\n",
    "d_eu = 78\n",
    "d_usa = 60\n",
    "d_bz = 40\n",
    "supply = d_eu + d_usa + d_bz\n",
    "\n",
    "b = [supply; d_eu; d_usa; d_bz]\n",
    "# ================================================================================================"
   ]
  },
  {
   "cell_type": "code",
   "execution_count": 3,
   "metadata": {
    "ExecuteTime": {
     "end_time": "2021-12-09T16:38:50.622000+01:00",
     "start_time": "2021-12-09T15:38:47.495Z"
    }
   },
   "outputs": [],
   "source": [
    "# ================================================================================================\n",
    "# 1. Implement the objective function, its gradient and Hessian.\n",
    "# 2. Implement the functions g(x) for the inequality constraints, their gradients and Hessians.\n",
    "nx = size(A,2)\n",
    "\n",
    "f(x) = c' * x\n",
    "df(x) = c\n",
    "Hf(x) = zeros(nx,nx)\n",
    "\n",
    "g = Vector(undef, nx)\n",
    "dg = Vector(undef, nx)\n",
    "Hg = Vector(undef, nx)\n",
    "    \n",
    "for i in 1:nx # allow only positive quantities\n",
    "    g[i] = x -> -x[i]\n",
    "    dg[i] = x -> begin d = zeros(nx); d[i] = -1; return d end\n",
    "    Hg[i] = x -> zeros(nx, nx)\n",
    "end"
   ]
  },
  {
   "cell_type": "code",
   "execution_count": 4,
   "metadata": {
    "ExecuteTime": {
     "end_time": "2021-12-09T16:39:01.562000+01:00",
     "start_time": "2021-12-09T15:38:47.498Z"
    }
   },
   "outputs": [
    {
     "name": "stdout",
     "output_type": "stream",
     "text": [
      "10.856831315937054\n"
     ]
    },
    {
     "data": {
      "text/plain": [
       "([99.99996889093254, 78.00003110906742, 3.300940075945391e-6, 4.948535301974033e-6, 2.1368983649239226e-6, 39.99997267542617, 1.6640043210003341e-6, 3.1125476521509654e-5], [-5.783196721259053 -20.320764434307378 … -20.321946072253887 -20.32198546112234; 21.078327588890346 12.988572929023766 … 12.988684104674126 12.988687810690806; … ; 1.4198339628906264e6 1.0341345982253124e6 … 1.0341011538219411e6 1.0340996852151988e6; 0.0 101.0 … 101.0 101.0])"
      ]
     },
     "execution_count": 4,
     "metadata": {},
     "output_type": "execute_result"
    }
   ],
   "source": [
    "# ================================================================================================\n",
    "# Apply the function ConstraintElimination_ipm() from the optimization library\n",
    "x_best, trace = ConstraintElimination_ipm(f,df,Hf,A,b,g=g,dg = dg, Hg = Hg, eps = 0.00001, barrier_increase = 2.0)\n",
    "# ================================================================================================"
   ]
  },
  {
   "cell_type": "code",
   "execution_count": 5,
   "metadata": {
    "ExecuteTime": {
     "end_time": "2021-12-09T16:39:02.212000+01:00",
     "start_time": "2021-12-09T15:38:47.502Z"
    }
   },
   "outputs": [
    {
     "data": {
      "text/plain": [
       "8-element Vector{Float64}:\n",
       " 99.99996889093254\n",
       " 78.00003110906742\n",
       "  3.300940075945391e-6\n",
       "  4.948535301974033e-6\n",
       "  2.1368983649239226e-6\n",
       " 39.99997267542617\n",
       "  1.6640043210003341e-6\n",
       "  3.1125476521509654e-5"
      ]
     },
     "execution_count": 5,
     "metadata": {},
     "output_type": "execute_result"
    }
   ],
   "source": [
    "x_best"
   ]
  },
  {
   "cell_type": "code",
   "execution_count": 6,
   "metadata": {
    "ExecuteTime": {
     "end_time": "2021-12-09T16:39:02.282000+01:00",
     "start_time": "2021-12-09T15:38:47.506Z"
    }
   },
   "outputs": [
    {
     "name": "stdout",
     "output_type": "stream",
     "text": [
      "average distance per package: 5809.54 km\n"
     ]
    }
   ],
   "source": [
    "println(\"average distance per package: \",round((c'*x_best)/supply,digits=2),\" km\")"
   ]
  },
  {
   "cell_type": "markdown",
   "metadata": {},
   "source": [
    "## Howe to use the SCS solver"
   ]
  },
  {
   "cell_type": "markdown",
   "metadata": {},
   "source": [
    "We will now learn how to use the SCS solver using the JuMP package. The JuMP package provides macros that allow to access some functions of the solver in a very convenient way."
   ]
  },
  {
   "cell_type": "code",
   "execution_count": 7,
   "metadata": {
    "ExecuteTime": {
     "end_time": "2021-12-09T16:39:08.267000+01:00",
     "start_time": "2021-12-09T15:38:47.509Z"
    }
   },
   "outputs": [],
   "source": [
    "using JuMP\n",
    "using SCS"
   ]
  },
  {
   "cell_type": "code",
   "execution_count": 8,
   "metadata": {
    "ExecuteTime": {
     "end_time": "2021-12-09T16:39:41.457000+01:00",
     "start_time": "2021-12-09T15:38:47.512Z"
    }
   },
   "outputs": [
    {
     "name": "stdout",
     "output_type": "stream",
     "text": [
      "----------------------------------------------------------------------------\n",
      "\tSCS v2.1.4 - Splitting Conic Solver\n",
      "\t(c) Brendan O'Donoghue, Stanford University, 2012\n",
      "----------------------------------------------------------------------------\n",
      "Lin-sys: sparse-indirect, nnz in A = 24, CG tol ~ 1/iter^(2.00)\n",
      "eps = 1.00e-005, alpha = 1.50, max_iters = 5000, normalize = 1, scale = 1.00\n",
      "acceleration_lookback = 10, rho_x = 1.00e-003\n",
      "Variables n = 8, constraints m = 12\n",
      "Cones:\tprimal zero / dual free vars: 4\n",
      "\tlinear vars: 8\n",
      "Setup time: 6.71e-005s\n",
      "----------------------------------------------------------------------------\n",
      " Iter | pri res | dua res | rel gap | pri obj | dua obj | kap/tau | time (s)\n",
      "----------------------------------------------------------------------------\n",
      "     0|1.85e+019 3.45e+019 1.00e+000 -5.04e+025 5.89e+025 4.00e+025 2.84e-005 \n",
      "    40|9.75e-007 3.21e-006 1.15e-006 1.03e+006 1.03e+006 3.29e-010 2.43e-004 \n",
      "----------------------------------------------------------------------------\n",
      "Status: Solved\n",
      "Timing: Solve time: 2.47e-004s\n",
      "\tLin-sys: avg # CG iterations: 2.32, avg solve time: 6.76e-007s\n",
      "\tCones: avg projection time: 5.12e-008s\n",
      "\tAcceleration: avg step time: 3.89e-006s\n",
      "----------------------------------------------------------------------------\n",
      "Error metrics:\n",
      "dist(s, K) = 8.7618e-015, dist(y, K*) = 0.0000e+000, s'y/|s||y| = -8.0014e-017\n",
      "primal res: |Ax + s - b|_2 / (1 + |b|_2) = 9.7500e-007\n",
      "dual res:   |A'y + c|_2 / (1 + |c|_2) = 3.2064e-006\n",
      "rel gap:    |c'x + b'y| / (1 + |c'x| + |b'y|) = 1.1470e-006\n",
      "----------------------------------------------------------------------------\n",
      "c'x = 1034096.5113, -b'y = 1034098.8835\n",
      "============================================================================\n"
     ]
    }
   ],
   "source": [
    "# ================================================================================================\n",
    "# Uncomment the following lines to solve the problem with the SCS solver.\n",
    "model = Model(SCS.Optimizer)\n",
    "@JuMP.variable(model, x[1:nx])\n",
    "@JuMP.constraint(model, A * x .== b)\n",
    "@JuMP.constraint(model,  -x .<= zeros(nx))\n",
    "@JuMP.objective(model, Min, c'*x)\n",
    "JuMP.optimize!(model)\n",
    "# ================================================================================================"
   ]
  },
  {
   "cell_type": "code",
   "execution_count": 9,
   "metadata": {
    "ExecuteTime": {
     "end_time": "2021-12-09T16:39:42.252000+01:00",
     "start_time": "2021-12-09T15:38:47.515Z"
    }
   },
   "outputs": [
    {
     "data": {
      "text/plain": [
       "8-element Vector{Float64}:\n",
       " 99.9999833732216\n",
       " 78.00003936869459\n",
       " -2.3186648746859928e-5\n",
       "  1.5582576144783267e-5\n",
       " -5.2352190441403705e-5\n",
       " 40.00007195634038\n",
       " -7.297989673031612e-5\n",
       " -9.083558501392666e-5"
      ]
     },
     "execution_count": 9,
     "metadata": {},
     "output_type": "execute_result"
    }
   ],
   "source": [
    "# ================================================================================================\n",
    "# Uncomment the following line to retrieve the minimizer. Compare the solution to the result from the \n",
    "# ConstraintElimination_ipm() function.\n",
    "sol = JuMP.value.(x)\n",
    "# ================================================================================================"
   ]
  },
  {
   "cell_type": "code",
   "execution_count": 10,
   "metadata": {
    "ExecuteTime": {
     "end_time": "2021-12-09T16:39:43.312000+01:00",
     "start_time": "2021-12-09T15:38:47.518Z"
    }
   },
   "outputs": [
    {
     "data": {
      "text/plain": [
       "8-element BitVector:\n",
       " 1\n",
       " 1\n",
       " 1\n",
       " 1\n",
       " 1\n",
       " 1\n",
       " 1\n",
       " 1"
      ]
     },
     "execution_count": 10,
     "metadata": {},
     "output_type": "execute_result"
    }
   ],
   "source": [
    "abs.(sol-x_best) .< 0.01"
   ]
  },
  {
   "cell_type": "code",
   "execution_count": 11,
   "metadata": {
    "ExecuteTime": {
     "end_time": "2021-12-09T16:39:43.342000+01:00",
     "start_time": "2021-12-09T15:38:47.522Z"
    }
   },
   "outputs": [],
   "source": [
    "@assert sum(abs.(sol-x_best) .< 0.01) == length(x_best)"
   ]
  },
  {
   "cell_type": "markdown",
   "metadata": {},
   "source": [
    "# Exercise 8.2: Truss Structure"
   ]
  },
  {
   "cell_type": "code",
   "execution_count": 12,
   "metadata": {
    "ExecuteTime": {
     "end_time": "2021-12-09T16:39:47.357000+01:00",
     "start_time": "2021-12-09T15:38:47.527Z"
    }
   },
   "outputs": [
    {
     "data": {
      "text/plain": [
       "drawTruss (generic function with 1 method)"
      ]
     },
     "execution_count": 12,
     "metadata": {},
     "output_type": "execute_result"
    }
   ],
   "source": [
    "using Luxor\n",
    "\n",
    "# Function for drawing the truss structure\n",
    "# J: Vector of joint coordinates\n",
    "# B: Vector of beams, i.e. vector of tuples with joint indices that the beams connect\n",
    "# Jc: Vector of cantilever joints\n",
    "# Jl: Vector with load on each joint\n",
    "# mb: Vector with beam masses\n",
    "function drawTruss(J, B, Jc, Jl, mb)\n",
    "    scale = 40\n",
    "    function pos(j)\n",
    "        return Point(J[j][1]*scale - 400, -J[j][2]*scale)\n",
    "    end\n",
    "    @pdf begin\n",
    "        background(\"white\")\n",
    "        \n",
    "        # Draw beams\n",
    "        setcolor(\"black\")\n",
    "        for b=1:nB\n",
    "            if mb[b] <= 1\n",
    "                continue\n",
    "            end\n",
    "            setline(sqrt(mb[b]))\n",
    "            line(pos(B[b][1]), pos(B[b][2]), :stroke)\n",
    "        end\n",
    "        \n",
    "        # Draw road\n",
    "        setcolor(\"blue\")\n",
    "        setline(5)\n",
    "        line(Point(-400,0), Point(-400 + max_x*scale,0), :stroke)\n",
    "        \n",
    "        # Draw joints\n",
    "        setcolor(\"red\")\n",
    "        for j = 1:length(J)\n",
    "            if j in Jc\n",
    "                circle(pos(j), 8, :fill)\n",
    "            end\n",
    "        end\n",
    "        \n",
    "        # Draw load arrows\n",
    "        setcolor(\"green\")\n",
    "        for j = 1:length(J)\n",
    "            if LinearAlgebra.norm(Jl[j]) <= 0.1\n",
    "                continue\n",
    "            end\n",
    "            Luxor.arrow(pos(j), pos(j) - (Point(Jl[j][1], Jl[j][2])/5000), linewidth=5)\n",
    "        end\n",
    "    end 1000 400\n",
    "end\n",
    "\n"
   ]
  },
  {
   "cell_type": "code",
   "execution_count": 13,
   "metadata": {
    "ExecuteTime": {
     "end_time": "2021-12-09T16:39:49.112000+01:00",
     "start_time": "2021-12-09T15:38:47.531Z"
    }
   },
   "outputs": [],
   "source": [
    "# Vector with indices of joints. Each entry is a two-vector with the x-y coordinates\n",
    "J = [[x,y] for x=0:1:17, y=-2:1:4]\n",
    "\n",
    "# number of joints\n",
    "nJ = length(J) \n",
    "\n",
    "# Constructing vector of beams of lenght 1 m. Each beam corresponds to a tuple with the indeces of the joints the beam is connecting\n",
    "# Connect all joints that are in a radius < 2m.\n",
    "rad = 2.0\n",
    "B = [(i,j) for i=1:nJ, j = 1:nJ if j < i && LinearAlgebra.norm(J[i]-J[j]) < rad]\n",
    "\n",
    "# number of beams\n",
    "nB = length(B)\n",
    "\n",
    "# Vector storing indices of beams connected to each joint\n",
    "Bj = [[b for b=1:nB if B[b][1] == j || B[b][2] == j] for j=1:nJ];\n",
    "\n",
    "# number of joints along x-axis\n",
    "max_x = maximum([J[i][1] for i=1:nJ])\n",
    "\n",
    "# Defining cantilever joints as the joints that are on both sides of the bridge and below or equal to the street level\n",
    "Jc = [i for i=1:nJ if ((J[i][1] == 0 || J[i][1] == max_x) && J[i][2] <= 0)];\n",
    "nC = length(Jc) # number of cantilever points\n",
    "\n",
    "# external load excerted on each joint at street level\n",
    "load = 20000\n",
    "# External loads excerted on the joints at street level (y-coordinate equals zero)\n",
    "Jl = [J[j][2] == 0 ? [0.0, -load*9.81] : [0.0,0.0] for j=1:nJ];"
   ]
  },
  {
   "cell_type": "code",
   "execution_count": 14,
   "metadata": {
    "ExecuteTime": {
     "end_time": "2021-12-09T16:39:49.152000+01:00",
     "start_time": "2021-12-09T15:38:47.534Z"
    }
   },
   "outputs": [
    {
     "data": {
      "text/plain": [
       "6-element Vector{Int64}:\n",
       "  1\n",
       " 18\n",
       " 19\n",
       " 36\n",
       " 37\n",
       " 54"
      ]
     },
     "execution_count": 14,
     "metadata": {},
     "output_type": "execute_result"
    }
   ],
   "source": [
    "Jc"
   ]
  },
  {
   "cell_type": "code",
   "execution_count": 15,
   "metadata": {
    "ExecuteTime": {
     "end_time": "2021-12-09T16:39:51.832000+01:00",
     "start_time": "2021-12-09T15:38:47.537Z"
    }
   },
   "outputs": [
    {
     "data": {
      "text/plain": []
     },
     "execution_count": 15,
     "metadata": {},
     "output_type": "execute_result"
    }
   ],
   "source": [
    "# Initialize the masses of beams for drawing of initial structure\n",
    "mb_init = ones(nB)*10;\n",
    "\n",
    "# Draw initial truss structure\n",
    "drawTruss(J,B,Jc,Jl,mb_init)"
   ]
  },
  {
   "cell_type": "markdown",
   "metadata": {
    "ExecuteTime": {
     "end_time": "2020-12-16T19:06:22.681000+01:00",
     "start_time": "2020-12-16T18:06:22.680Z"
    }
   },
   "source": [
    "## The Optimization Problem\n",
    "\n",
    "In lecture 5, slide 15, we learned that the weight of the truss structure defined above can be minimized by solving the problem under the constraint of a given load of 2000 kg distributed evenly on the joints on the street level: \n",
    "\n",
    "  \\begin{equation*}\n",
    "    \\begin{aligned}\n",
    "    \\min_{\\substack{f_1, \\dots, f_n\\\\ \\tilde f_1,\\dots, \\tilde f_n}} \\quad & \\sum_{b=1}^n \\Big[ \\delta \\cdot  \\|\\vec d_b\\| \\cdot \\tilde f_b  \\Big]\\\\\n",
    "    \\text{subject to} \\quad & \n",
    "    \\vec l_j + \\sum_{b \\in B_j} \\Big[ \\frac{\\vec d_b}{\\|\\vec d_b\\|} f_b \\Big] = \\vec 0, & j = 1,\\dots,m\\\\\n",
    "    & \\tilde f_b \\geq f_b,\\quad \\tilde f_b \\geq -f_b, & b = 1,\\dots,n\n",
    "    \\end{aligned}\n",
    "  \\end{equation*}\n",
    "  \n",
    "This problem neglects the weight of the beams. Modify the problem to include the weight of the beams into the equality constraints. Use $\\delta = 5\\cdot 10^{-4}\\,$kg/(Nm).\n",
    "**Hint:** The gravitational force $f$ in the unit Newton depends on the mass $m$ by $f = 9.81 m\\,$ and acts only into the negative y-direction.\n",
    "Implement the problem as a linear program of the form:\n",
    "\\begin{align}\n",
    " \\min_{\\vec{x}} \\quad & \\vec{c}^\\top \\vec{x}\\\\\n",
    " \\text{subject to} \\quad & A\\vec{x} = \\vec{b}\\\\\n",
    " \\quad & C\\vec{x} \\leq \\vec{0},\n",
    "\\end{align}\n",
    "\n",
    "with the target variable $x = [f_1, f_2, \\dots, \\tilde f_1, \\tilde f_2, \\dots]$. \n",
    "\n",
    "There are 2 * nB inequality constraints and  2 * (nJ - nC) equality constraints."
   ]
  },
  {
   "cell_type": "code",
   "execution_count": 16,
   "metadata": {
    "ExecuteTime": {
     "end_time": "2021-12-09T16:39:52.072000+01:00",
     "start_time": "2021-12-09T15:38:47.541Z"
    }
   },
   "outputs": [],
   "source": [
    "delta = 5e-4\n",
    "\n",
    "# ================================================================================================\n",
    "# Construct the vector c.\n",
    "c = vcat(zeros(nB), delta*[LinearAlgebra.norm(J[b[1]]-J[b[2]]) for b in B]);\n",
    "# ================================================================================================"
   ]
  },
  {
   "cell_type": "code",
   "execution_count": 17,
   "metadata": {
    "ExecuteTime": {
     "end_time": "2021-12-09T16:39:52.304000+01:00",
     "start_time": "2021-12-09T15:38:47.544Z"
    }
   },
   "outputs": [
    {
     "name": "stdout",
     "output_type": "stream",
     "text": [
      "Dimensions of the problem: 862\n",
      "Inequalities: 862\n",
      "Equality constraints: 240\n"
     ]
    }
   ],
   "source": [
    "println(\"Dimensions of the problem: \", length(c))\n",
    "println(\"Inequalities: \", 2*nB)\n",
    "println(\"Equality constraints: \", 2*(nJ-nC))"
   ]
  },
  {
   "cell_type": "code",
   "execution_count": 18,
   "metadata": {
    "ExecuteTime": {
     "end_time": "2021-12-09T16:39:52.867000+01:00",
     "start_time": "2021-12-09T15:38:47.547Z"
    }
   },
   "outputs": [],
   "source": [
    "# Construct matrix A and vector b for the equality constraints.\n",
    "A = zeros(2 * (nJ-nC), length(c));\n",
    "b = zeros(2 * (nJ-nC))\n",
    "\n",
    "idx = 0\n",
    "# iterate over all joints\n",
    "for j=1:nJ\n",
    "    \n",
    "    # ignore cantilever joints\n",
    "    if j in Jc\n",
    "        continue\n",
    "    end\n",
    "    \n",
    "# ================================================================================================\n",
    "    # Construct the vector b.\n",
    "    # External load applied at the joint\n",
    "    b[2*idx+1] = -Jl[j][1] # joint load in x-direction\n",
    "    b[2*idx+2] = -Jl[j][2] # joint load in y-direction\n",
    "# ================================================================================================\n",
    "    \n",
    "    # Iterate over all beams connected to joint j\n",
    "    for b in Bj[j]\n",
    "        db = J[B[b][1]] - J[B[b][2]] # beam direction vector\n",
    "        \n",
    "# ================================================================================================\n",
    "        # Construct matrix A\n",
    "        db_dir = db / LinearAlgebra.norm(db)\n",
    "        A[2*idx+1,b] = db_dir[1] # force across the beam in x-direction --> odd rows of A\n",
    "        A[2*idx+2,b] = db_dir[2] # force across the beam in y-direction --> even rows of A\n",
    "        \n",
    "        A[2*idx+2,nB + b] = -0.5*delta * 9.81*LinearAlgebra.norm(db) # gravitational force of each beam into the negative \n",
    "                                                                     # y-direction (depends on ftilde) \n",
    "# ================================================================================================\n",
    "    end\n",
    "    idx = idx + 1\n",
    "end"
   ]
  },
  {
   "cell_type": "code",
   "execution_count": 19,
   "metadata": {
    "ExecuteTime": {
     "end_time": "2021-12-09T16:39:52.967000+01:00",
     "start_time": "2021-12-09T15:38:47.549Z"
    }
   },
   "outputs": [],
   "source": [
    "# Inequality constraints Cx <= d\n",
    "C = zeros(2 * nB, length(c))\n",
    "d = zeros(2 * nB);\n",
    "\n",
    "# ================================================================================================\n",
    "# Fill the matrix C\n",
    "for b = 1:nB\n",
    "    # fb - tildefb <= 0 --> odd rows of C\n",
    "    C[2*b-1,b] = 1.0\n",
    "    C[2*b-1,b+nB] = -1.0\n",
    "    \n",
    "    # -fb - tildefb <= 0 --> even rows of C\n",
    "    C[2*b,b] = -1.0\n",
    "    C[2*b,b+nB] = -1.0\n",
    "end\n",
    "# ================================================================================================"
   ]
  },
  {
   "cell_type": "markdown",
   "metadata": {},
   "source": [
    "## Use the solver to find the solution"
   ]
  },
  {
   "cell_type": "code",
   "execution_count": 20,
   "metadata": {
    "ExecuteTime": {
     "end_time": "2021-12-09T16:39:54.837000+01:00",
     "start_time": "2021-12-09T15:38:47.552Z"
    }
   },
   "outputs": [
    {
     "name": "stdout",
     "output_type": "stream",
     "text": [
      "----------------------------------------------------------------------------\n",
      "\tSCS v2.1.4 - Splitting Conic Solver\n",
      "\t(c) Brendan O'Donoghue, Stanford University, 2012\n",
      "----------------------------------------------------------------------------\n",
      "Lin-sys: sparse-indirect, nnz in A = 3794, CG tol ~ 1/iter^(2.00)\n",
      "eps = 1.00e-005, alpha = 1.50, max_iters = 5000, normalize = 1, scale = 1.00\n",
      "acceleration_lookback = 10, rho_x = 1.00e-003\n",
      "Variables n = 862, constraints m = 1102\n",
      "Cones:\tprimal zero / dual free vars: 240\n",
      "\tlinear vars: 862\n",
      "Setup time: 3.70e-003s\n",
      "----------------------------------------------------------------------------\n",
      " Iter | pri res | dua res | rel gap | pri obj | dua obj | kap/tau | time (s)\n",
      "----------------------------------------------------------------------------\n",
      "     0|1.78e+020 3.55e+018 1.00e+000 -8.06e+023 1.36e+024 7.58e+023 1.41e-003 \n",
      "   100|3.36e-002 6.34e-004 2.68e-003 1.59e+004 1.60e+004 1.30e-013 1.08e-001 \n",
      "   200|2.14e-002 3.67e-004 6.90e-004 1.62e+004 1.62e+004 1.09e-013 2.27e-001 \n",
      "   300|1.27e-002 2.12e-004 9.80e-004 1.60e+004 1.60e+004 1.77e-013 3.19e-001 \n",
      "   400|9.19e-003 1.98e-004 4.75e-004 1.61e+004 1.61e+004 2.00e-013 4.42e-001 \n",
      "   500|1.03e-002 2.15e-004 6.30e-004 1.59e+004 1.59e+004 2.58e-013 5.38e-001 \n",
      "   600|1.48e-002 2.73e-004 5.91e-004 1.58e+004 1.58e+004 2.58e-013 6.29e-001 \n",
      "   700|1.37e-002 2.45e-004 7.16e-004 1.58e+004 1.58e+004 5.42e-013 7.28e-001 \n",
      "   800|1.43e-003 2.67e-005 7.18e-005 1.59e+004 1.59e+004 2.36e-013 8.47e-001 \n",
      "   900|2.28e-003 4.44e-005 7.18e-005 1.59e+004 1.59e+004 5.78e-014 9.58e-001 \n",
      "  1000|2.04e-005 4.19e-007 9.86e-007 1.59e+004 1.59e+004 2.67e-013 1.05e+000 \n",
      "  1040|9.27e-006 1.62e-007 9.92e-008 1.59e+004 1.59e+004 2.94e-014 1.08e+000 \n",
      "----------------------------------------------------------------------------\n",
      "Status: Solved\n",
      "Timing: Solve time: 1.08e+000s\n",
      "\tLin-sys: avg # CG iterations: 10.86, avg solve time: 4.24e-004s\n",
      "\tCones: avg projection time: 4.02e-006s\n",
      "\tAcceleration: avg step time: 5.37e-004s\n",
      "----------------------------------------------------------------------------\n",
      "Error metrics:\n",
      "dist(s, K) = 6.9765e-011, dist(y, K*) = 0.0000e+000, s'y/|s||y| = -5.0072e-018\n",
      "primal res: |Ax + s - b|_2 / (1 + |b|_2) = 9.2731e-006\n",
      "dual res:   |A'y + c|_2 / (1 + |c|_2) = 1.6220e-007\n",
      "rel gap:    |c'x + b'y| / (1 + |c'x| + |b'y|) = 9.9200e-008\n",
      "----------------------------------------------------------------------------\n",
      "c'x = 15884.8219, -b'y = 15884.8250\n",
      "============================================================================\n"
     ]
    }
   ],
   "source": [
    "model = JuMP.Model(SCS.Optimizer)\n",
    "@variable(model, x[1:2*nB])\n",
    "@constraint(model, A * x .== b)\n",
    "@constraint(model, C * x .<= d)\n",
    "@objective(model, Min, c'*x)\n",
    "optimize!(model)"
   ]
  },
  {
   "cell_type": "code",
   "execution_count": 21,
   "metadata": {
    "ExecuteTime": {
     "end_time": "2021-12-09T16:39:55.392000+01:00",
     "start_time": "2021-12-09T15:38:47.554Z"
    }
   },
   "outputs": [
    {
     "data": {
      "text/plain": []
     },
     "execution_count": 21,
     "metadata": {},
     "output_type": "execute_result"
    }
   ],
   "source": [
    "sol = value.(x)\n",
    "masses = c.*sol\n",
    "masses = masses[nB+1:2*nB]\n",
    "\n",
    "drawTruss(J,B,Jc,Jl, masses)"
   ]
  },
  {
   "cell_type": "code",
   "execution_count": 22,
   "metadata": {
    "ExecuteTime": {
     "end_time": "2021-12-09T16:39:55.512000+01:00",
     "start_time": "2021-12-09T15:38:47.556Z"
    }
   },
   "outputs": [
    {
     "data": {
      "text/plain": [
       "862-element Vector{Float64}:\n",
       "       0.20133928060385975\n",
       "       0.0\n",
       " -967804.964944478\n",
       "  198612.24815880874\n",
       "  141472.96706545405\n",
       "       0.34664382366339164\n",
       " -139407.97896141387\n",
       "       0.1388515114553606\n",
       "  141474.1709769432\n",
       "      -0.33754649901965794\n",
       " -139406.86537601112\n",
       "     965.5820675679556\n",
       "     687.7496611089657\n",
       "       ⋮\n",
       "      -0.008420770427207673\n",
       "      -0.008114606865752662\n",
       "      -0.0031714497788145474\n",
       "      -0.008561031694966404\n",
       "      -0.0031715749294733667\n",
       "      -0.00811460675123798\n",
       "      -0.00842077039662575\n",
       "      -0.008731120349776576\n",
       "      -0.008767835750387334\n",
       "      -0.008667803152464267\n",
       "      -0.008686598829361927\n",
       "      -0.008688481765179838"
      ]
     },
     "execution_count": 22,
     "metadata": {},
     "output_type": "execute_result"
    }
   ],
   "source": [
    "sol"
   ]
  },
  {
   "cell_type": "code",
   "execution_count": 23,
   "metadata": {
    "ExecuteTime": {
     "end_time": "2021-12-09T16:39:55.522000+01:00",
     "start_time": "2021-12-09T15:38:47.560Z"
    }
   },
   "outputs": [
    {
     "data": {
      "text/plain": [
       "431-element Vector{Float64}:\n",
       "  -4.872080217613236e-6\n",
       "  -4.3434129428783905e-6\n",
       " 684.3413923907893\n",
       "  99.30590586790828\n",
       " 100.0363831387471\n",
       "  -4.815753512417478e-6\n",
       "  98.57644260450765\n",
       "  -4.123646336729575e-6\n",
       " 100.03749700883358\n",
       "  -3.944295407849726e-6\n",
       "  98.57563602842656\n",
       "   0.482845383437206\n",
       "   0.4863365754577162\n",
       "   ⋮\n",
       "  -4.210385213603836e-6\n",
       "  -4.057303432876331e-6\n",
       "  -1.5857248894072737e-6\n",
       "  -4.280515847483202e-6\n",
       "  -1.5857874647366834e-6\n",
       "  -4.05730337561899e-6\n",
       "  -4.210385198312876e-6\n",
       "  -4.3655601748882885e-6\n",
       "  -4.383917875193667e-6\n",
       "  -4.3339015762321335e-6\n",
       "  -4.343299414680963e-6\n",
       "  -4.344240882589919e-6"
      ]
     },
     "execution_count": 23,
     "metadata": {},
     "output_type": "execute_result"
    }
   ],
   "source": [
    "masses"
   ]
  },
  {
   "cell_type": "code",
   "execution_count": null,
   "metadata": {},
   "outputs": [],
   "source": []
  }
 ],
 "metadata": {
  "kernelspec": {
   "display_name": "Julia 1.6.3",
   "language": "julia",
   "name": "julia-1.6"
  },
  "language_info": {
   "file_extension": ".jl",
   "mimetype": "application/julia",
   "name": "julia",
   "version": "1.6.3"
  },
  "toc": {
   "base_numbering": 1,
   "nav_menu": {},
   "number_sections": true,
   "sideBar": true,
   "skip_h1_title": false,
   "title_cell": "Table of Contents",
   "title_sidebar": "Contents",
   "toc_cell": false,
   "toc_position": {},
   "toc_section_display": true,
   "toc_window_display": false
  },
  "varInspector": {
   "cols": {
    "lenName": 16,
    "lenType": 16,
    "lenVar": 40
   },
   "kernels_config": {
    "python": {
     "delete_cmd_postfix": "",
     "delete_cmd_prefix": "del ",
     "library": "var_list.py",
     "varRefreshCmd": "print(var_dic_list())"
    },
    "r": {
     "delete_cmd_postfix": ") ",
     "delete_cmd_prefix": "rm(",
     "library": "var_list.r",
     "varRefreshCmd": "cat(var_dic_list()) "
    }
   },
   "types_to_exclude": [
    "module",
    "function",
    "builtin_function_or_method",
    "instance",
    "_Feature"
   ],
   "window_display": false
  }
 },
 "nbformat": 4,
 "nbformat_minor": 4
}
